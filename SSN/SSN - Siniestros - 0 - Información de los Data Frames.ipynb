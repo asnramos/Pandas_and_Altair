{
 "cells": [
  {
   "cell_type": "code",
   "execution_count": 1,
   "metadata": {},
   "outputs": [],
   "source": [
    "import pandas as pd"
   ]
  },
  {
   "cell_type": "code",
   "execution_count": 3,
   "metadata": {},
   "outputs": [
    {
     "data": {
      "text/html": [
       "<div>\n",
       "<style scoped>\n",
       "    .dataframe tbody tr th:only-of-type {\n",
       "        vertical-align: middle;\n",
       "    }\n",
       "\n",
       "    .dataframe tbody tr th {\n",
       "        vertical-align: top;\n",
       "    }\n",
       "\n",
       "    .dataframe thead th {\n",
       "        text-align: right;\n",
       "    }\n",
       "</style>\n",
       "<table border=\"1\" class=\"dataframe\">\n",
       "  <thead>\n",
       "    <tr style=\"text-align: right;\">\n",
       "      <th></th>\n",
       "      <th>Fechas</th>\n",
       "      <th>Tiempo</th>\n",
       "      <th>Tarea</th>\n",
       "    </tr>\n",
       "  </thead>\n",
       "  <tbody>\n",
       "    <tr>\n",
       "      <th>0</th>\n",
       "      <td>2018/12/27</td>\n",
       "      <td>35</td>\n",
       "      <td>T-Archivo</td>\n",
       "    </tr>\n",
       "  </tbody>\n",
       "</table>\n",
       "</div>"
      ],
      "text/plain": [
       "       Fechas  Tiempo      Tarea\n",
       "0  2018/12/27      35  T-Archivo"
      ]
     },
     "execution_count": 3,
     "metadata": {},
     "output_type": "execute_result"
    }
   ],
   "source": [
    "d = {'Fechas':['2018/12/27',],\n",
    "     'Tiempo':[35],\n",
    "     'Tarea': ['T-Archivo']\n",
    "    }\n",
    "df_tiempo = pd.DataFrame(d)\n",
    "df_tiempo"
   ]
  },
  {
   "cell_type": "markdown",
   "metadata": {},
   "source": [
    "# 2017_Siniestros_Casco_Automotores\n",
    "El archivo está dividido en 45 cuadros distintos con información cada uno\n",
    "\n",
    "**Cuadro 01:** Siniestros por Hecho Generador. Total por año.  \n",
    "**Cuadro 02:** Vehículos Expuestos a Riesgo. Participación porcentual por Categoría de Cobertura. Por año.  \n",
    "**Cuadro 03:** Vehículos Expuestos a Riesgo. Por Categoría de Cobertura. Por año.  \n",
    "**Cuadro 04:** Frecuencia Siniestral por Hecho Generador. Por año de ocurrencia.  \n",
    "**Cuadro 05:** Siniestros por Tipo de Vehículo. Total por año de ocurrencia. Todos los Hechos Generadores.  \n",
    "**Cuadro 06:** Vehículos Expuestos a Riesgo por Tipo de Vehículo. Por año.  \n",
    "**Cuadro 07:** Frecuencia Siniestral de Casco por Tipo de Vehículo por año de ocurrencia. Todos los hechos generadores.  \n",
    "**Cuadro 08:** Siniestros de Casco por Provincia ocurridos en el año 2017. Comparación con 2016.  \n",
    "**Cuadro 09:** Siniestros de Casco por Provincia y Hecho generador ocurridos en el año 2017. Comparación con 2016.  \n",
    "**Cuadro 10:** Frecuencia Siniestral de Casco por Provincia y Hecho generador ocurridos en el año 2017, Comparación con 2016.  \n",
    "**Cuadro 11:** Siniestros de Robo Total por Tipo de Vehículo y año de ocurrencia.  \n",
    "**Cuadro 12:** Vehículos Expuestos a Riesgo con cobertura de Robo Total por Tipo de Vehículo. Por año.  \n",
    "**Cuadro 13:** Frecuencia Siniestral de Robo Total por Tipo de Vehículo y año de ocurrencia.  \n",
    "**Cuadro 14:** Siniestros de Robo Total por Mes de ocurrencia. Año 2017. Comparación con 2016.  \n",
    "**Cuadro 15:** Siniestros de Robo Total por Tipo de Vehículo y Mes de ocurrencia. Año 2017.  \n",
    "**Cuadro 16:** Siniestros de Robo Total por Provincia. Año 2017.  \n",
    "**Cuadro 17:** Siniestros de Robo Total por Provincia. Por año de ocurrencia.  \n",
    "**Cuadro 18:** Vehículos Expuestos a Riesgo con cobertura de Robo Total por Provincia. Por Año.  \n",
    "**Cuadro 19:** Frecuencia Siniestral de Robo Total por Provincia y año de ocurrencia.  \n",
    "**Cuadro 20:** Siniestros de Robo Total por Tipo de Vehículo y Provincia. Año 2017.   \n",
    "**Cuadro 21:** Vehículos Expuestos a Riesgo por Tipo de Vehículo y Provincia. Cobertura de Robo Total. Año 2017.  \n",
    "**Cuadro 21:** Frecuencia Siniestral de Robo Total por Tipo de Vehículo y Provincia. Año 2017.  \n",
    "**Cuadro 22:** Siniestros de Robo Total. Frecuencia Siniestral. Principales Tipos de Vehículo, Provincias y Zonas. Año 2017. Comparación con 2016.  \n",
    "**Cuadro 23:** Siniestros de Robo Total. Partidos del Área Metropolitana. Año 2017.   \n",
    "**Cuadro 24:** Siniestros de Robo Total. Partidos del Área Metropolitana. Por año.  \n",
    "**Cuadro 25:** Vehículos Expuestos a Riesgo con cobertura de Robo Total. Partidos del Área Metropolitana. Por año.  \n",
    "**Cuadro 26:** Frecuencia Siniestral de Robo Total. Partidos del Área Metropolitana. Por año.  \n",
    "**Cuadro 27:** Siniestros de Robo Total. Partidos del Área Metropolitana. Principales Tipos de Vehículo. Año 2017.  \n",
    "**Cuadro 28:** Vehículos Expuestos a Riesgo con cobertura de Robo Total. Partidos del Área Metropolitana. Principales Tipos de Vehículo. Año 2017.  \n",
    "**Cuadro 29:** Frecuencia Siniestral de Robo Total. Partidos del Área Metropolitana. Principales Tipos de Vehículo. Año 2017.  \n",
    "**Cuadro 30:** Siniestros de Robo Total. Por año de fabricación. Año 2017.   \n",
    "**Cuadro 31:** Siniestros de Robo Total. Ranking por Marca y Modelo. Año 2017.  \n",
    "**Cuadro 32:** Siniestros de Robo Parcial por Tipo de Vehículo y año de ocurrencia.  \n",
    "**Cuadro 33:** Vehículos Expuestos a Riesgo con cobertura de Robo Parcial por Tipo de Vehículo. Por año.  \n",
    "**Cuadro 34:** Frecuencia Siniestral de Robo Parcial por Tipo de Vehículo. Por año.  \n",
    "**Cuadro 35:** Siniestros de Robo Parcial por Provincia. Año 2017.  \n",
    "**Cuadro 36:** Siniestros de Robo Parcial por Provincia. Por año de ocurrencia.  \n",
    "**Cuadro 37:** Vehículos Expuestos a Riesgo con cobertura de Robo Parcial por Provincia. Por Año.  \n",
    "**Cuadro 38:** Frecuencia Siniestral de Robo Parcial por Provincia. Por año de ocurrencia.  \n",
    "**Cuadro 39:** Siniestros de Robo Parcial por Tipo de Vehículo. Principales Zonas. Año 2017.  \n",
    "**Cuadro 40:**   \n",
    "**Cuadro 41:** Siniestros de Robo Parcial. Partidos del Área Metropolitana. Por año.  \n",
    "**Cuadro 42:** Vehículos Expuestos a Riesgo con cobertura de Robo Parcial. Partidos del Área Metropolitana. Por año.  \n",
    "**Cuadro 43:** Frecuencia Siniestral de Robo Parcial. Partidos del Área Metropolitana. Por año.    \n",
    "**Cuadro 44:** Siniestros de Robo Parcial. Por año de fabricación. Año 2017.  \n",
    "**Cuadro 45:** Siniestros de Robo Parcial. Ranking por Marca y Modelo. Año 2017.   "
   ]
  },
  {
   "cell_type": "code",
   "execution_count": null,
   "metadata": {},
   "outputs": [],
   "source": []
  }
 ],
 "metadata": {
  "kernelspec": {
   "display_name": "Python 3",
   "language": "python",
   "name": "python3"
  },
  "language_info": {
   "codemirror_mode": {
    "name": "ipython",
    "version": 3
   },
   "file_extension": ".py",
   "mimetype": "text/x-python",
   "name": "python",
   "nbconvert_exporter": "python",
   "pygments_lexer": "ipython3",
   "version": "3.7.0"
  }
 },
 "nbformat": 4,
 "nbformat_minor": 2
}
