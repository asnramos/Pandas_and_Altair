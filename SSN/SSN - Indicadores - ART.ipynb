{
 "cells": [
  {
   "cell_type": "markdown",
   "metadata": {},
   "source": [
    "## Bibliotecas a Utilizar"
   ]
  },
  {
   "cell_type": "code",
   "execution_count": 1,
   "metadata": {},
   "outputs": [],
   "source": [
    "import numpy as np\n",
    "import pandas as pd\n",
    "import matplotlib.pyplot as plt\n",
    "import seaborn as sns\n",
    "\n",
    "%matplotlib inline"
   ]
  },
  {
   "cell_type": "markdown",
   "metadata": {},
   "source": [
    "## Enlaces"
   ]
  },
  {
   "cell_type": "code",
   "execution_count": 27,
   "metadata": {},
   "outputs": [],
   "source": [
    "enlace_2018_06 = './data/2018_06_Indicadores_Gestion.xls'\n",
    "enlace_2018_03 = './data/2018_03_Indicadores_Gestion.xls'\n",
    "\n",
    "enlace_2017_12 = './data/2017_12_Indicadores_Gestion.xls'\n",
    "enlace_2017_09 = './data/2017_09_Indicadores_Gestion.xls'\n",
    "enlace_2017_06 = './data/2017_06_Indicadores_Gestion.xls'\n",
    "enlace_2017_03 = './data/2017_06_Indicadores_Gestion.xls'\n",
    "\n",
    "enlace_2016_12 = './data/2016_12_Indicadores_Gestion.xls'\n",
    "enlace_2016_09 = './data/2016_09_Indicadores_Gestion.xls'\n",
    "enlace_2016_06 = './data/2016_06_Indicadores_Gestion.xls'\n",
    "enlace_2016_03 = './data/2016_03_Indicadores_Gestion.xls'\n",
    "\n",
    "enlace_2015_12 = './data/2015_12_Indicadores_Gestion.xls'\n",
    "enlace_2015_09 = './data/2015_09_Indicadores_Gestion.xls'\n",
    "enlace_2015_06 = './data/2015_06_Indicadores_Gestion.xls'\n",
    "enlace_2015_03 = './data/2015_03_Indicadores_Gestion.xls'\n",
    "\n",
    "enlace_2014_12 = './data/2014_12_Indicadores_Gestion.xls'\n",
    "enlace_2014_09 = './data/2014_09_Indicadores_Gestion.xls'\n",
    "enlace_2014_06 = './data/2014_06_Indicadores_Gestion.xls'\n",
    "enlace_2014_03 = './data/2014_03_Indicadores_Gestion.xls'\n",
    "\n",
    "enlace_2013_12 = './data/2013_12_Indicadores_Gestion.xls'\n",
    "enlace_2013_09 = './data/2013_09_Indicadores_Gestion.xls'\n",
    "enlace_2013_06 = './data/2013_06_Indicadores_Gestion.xls'\n",
    "enlace_2013_03 = './data/2013_03_Indicadores_Gestion.xls'\n",
    "\n",
    "enlace_2012_12 = './data/2012_12_Indicadores_Gestion.xls'\n",
    "enlace_2012_09 = './data/2012_09_Indicadores_Gestion.xls'\n",
    "enlace_2012_06 = './data/2012_06_Indicadores_Gestion.xls'\n",
    "enlace_2012_03 = './data/2012_03_Indicadores_Gestion.xls'"
   ]
  },
  {
   "cell_type": "markdown",
   "metadata": {},
   "source": [
    "## Data Frames"
   ]
  },
  {
   "cell_type": "code",
   "execution_count": 64,
   "metadata": {},
   "outputs": [],
   "source": [
    "df_2018_06 = pd.read_excel(enlace_2018_06, sheet_name='1 Indicadores Patrimoniales', skiprows=3, header=1)\n",
    "df_2018_03 = pd.read_excel(enlace_2018_03, sheet_name='1 Indicadores Patrimoniales', skiprows=3, header=1)\n",
    "\n",
    "df_2017_12 = pd.read_excel(enlace_2017_12, sheet_name='1 Indicadores Patrimoniales', skiprows=3, header=1)\n",
    "df_2017_09 = pd.read_excel(enlace_2017_09, sheet_name='1 Indicadores Patrimoniales', skiprows=3, header=1)\n",
    "df_2017_06 = pd.read_excel(enlace_2017_06, sheet_name='1 Indicadores Patrimoniales', skiprows=3, header=1)\n",
    "df_2017_03 = pd.read_excel(enlace_2017_03, sheet_name='1 Indicadores Patrimoniales', skiprows=3, header=1)"
   ]
  },
  {
   "cell_type": "markdown",
   "metadata": {},
   "source": [
    "## Trabajando los Data Frames - Función cleanData()\n",
    "* Creando una columna con fecha para cada Data Frame\n",
    "* Creando columna con variable de Riesgos de cada dato \n",
    "* Reemplazando los datos incorrectos\n",
    "* Eliminando columnas que no sirven\n",
    "* Posibilidad de guardar en archivo csv"
   ]
  },
  {
   "cell_type": "code",
   "execution_count": 63,
   "metadata": {},
   "outputs": [],
   "source": [
    "def cleanData(list_df, save = False):\n",
    "    # Variable para comletar la fecha de los DataFrames\n",
    "    fechas = ['06-2018', '03-2018',\n",
    "            '12-2017', '09-2017', '06-2017', '03-2017',\n",
    "            '12-2016', '09-2016', '06-2016', '03-2016',\n",
    "            '12-2015', '09-2015', '06-2015', '03-2015',\n",
    "            '12-2014', '09-2014', '06-2014', '03-2014',\n",
    "            '12-2015', '09-2013', '06-2013', '03-2013',\n",
    "            '12-2012', '09-2012', '06-2012', '03-2012',    \n",
    "]\n",
    "    # Variable para completado de columna\n",
    "    current_cat = 'Patrimoñales y Mixta'\n",
    "    \n",
    "    # Variable para el largo de la lista\n",
    "    largo = len(list_df)\n",
    "    \n",
    "    for l, df in zip(range(largo),list_df):\n",
    "\n",
    "        # Eliminando las primeras 5 filas\n",
    "        df.drop(df.index[[0,1,2,3,4,5]],inplace=True)\n",
    "\n",
    "        # Reseteando el Index\n",
    "        df.reset_index(drop=True, inplace=True)\n",
    "\n",
    "        # Agregando la columna \"Fecha\" y \"Categoría\"\n",
    "        df['Fecha'] = fechas[l]\n",
    "        df['Categoría'] = None\n",
    "\n",
    "        # Completando la columna \"Categoría\" \n",
    "        for i in range(len(df)):\n",
    "            if pd.isnull(df.iloc[i].NJ):\n",
    "                current_cat = df.iloc[i]['Denominación']\n",
    "            else:\n",
    "                df.loc[i,'Categoría'] = current_cat\n",
    "        \n",
    "        # Seteo como categorías \n",
    "        df['Categoría'] = df['Categoría'].astype('category', inplace=True)\n",
    "        \n",
    "        # Vuelvo a establecesr la primera categoría para la próxima iteración\n",
    "        current_cat = 'Patrimoñales y Mixta'\n",
    "        \n",
    "        # Eliminamos las filas con categoría vacía\n",
    "        df = df[~df.Categoría.isnull()]\n",
    "\n",
    "        # Reseteando el Index\n",
    "        df.reset_index(drop=True, inplace=True)\n",
    "\n",
    "        # Reemplazando los valores núlos\n",
    "        df.replace('//',0,inplace=True)\n",
    "        df.replace('///',0,inplace=True)\n",
    "\n",
    "        # Salvando el df\n",
    "        if save == True:\n",
    "            df.to_csv('df-{}.csv'.format(fechas[l]))\n",
    "\n",
    "    return \n",
    "    "
   ]
  },
  {
   "cell_type": "code",
   "execution_count": 65,
   "metadata": {},
   "outputs": [],
   "source": [
    "cleanData([df_2018_06, df_2018_03 ])"
   ]
  },
  {
   "cell_type": "code",
   "execution_count": 67,
   "metadata": {},
   "outputs": [
    {
     "data": {
      "text/plain": [
       "[Patrimoñales y Mixta, NaN, Riesgos del Trabajo, Transporte Público Pasajeros, Seguros de Vida, Seguros de Retiro]\n",
       "Categories (5, object): [Patrimoñales y Mixta, Riesgos del Trabajo, Transporte Público Pasajeros, Seguros de Vida, Seguros de Retiro]"
      ]
     },
     "execution_count": 67,
     "metadata": {},
     "output_type": "execute_result"
    }
   ],
   "source": [
    "df_2018_03['Categoría'].unique()"
   ]
  },
  {
   "cell_type": "code",
   "execution_count": 76,
   "metadata": {},
   "outputs": [],
   "source": [
    "df_PAT = pd.DataFrame(None)\n",
    "df_ART = pd.DataFrame(None)\n",
    "df_TRANSPORTE = pd.DataFrame(None)\n",
    "df_VIDA = pd.DataFrame(None)\n",
    "df_RETIRO = pd.DataFrame(None)\n",
    "\n",
    "def juntarUnir(list_df, ramo):\n",
    "\n",
    "    # Variable con nombre de los ramos \n",
    "    ramos = ['Patrimoñales y Mixta', \n",
    "              'Riesgos del Trabajo', \n",
    "              'Transporte Público Pasajeros', \n",
    "              'Seguros de Vida', \n",
    "              'Seguros de Retiro']\n",
    "    \n",
    "    for df in lista_df:\n",
    "        if ramo == PAT:\n",
    "            pd.concat([ df_PAT, df[df['Categoría'] == ramos[1]] ])\n",
    "    "
   ]
  },
  {
   "cell_type": "code",
   "execution_count": 82,
   "metadata": {},
   "outputs": [
    {
     "ename": "TypeError",
     "evalue": "'function' object is not subscriptable",
     "output_type": "error",
     "traceback": [
      "\u001b[0;31m---------------------------------------------------------------------------\u001b[0m",
      "\u001b[0;31mTypeError\u001b[0m                                 Traceback (most recent call last)",
      "\u001b[0;32m<ipython-input-82-3ce15cc06568>\u001b[0m in \u001b[0;36m<module>\u001b[0;34m\u001b[0m\n\u001b[1;32m      2\u001b[0m \u001b[0;34m\u001b[0m\u001b[0m\n\u001b[1;32m      3\u001b[0m \u001b[0mdf2\u001b[0m \u001b[0;34m=\u001b[0m \u001b[0mdf_2018_03\u001b[0m\u001b[0;34m[\u001b[0m\u001b[0mdf_2018_03\u001b[0m\u001b[0;34m[\u001b[0m\u001b[0;34m'Categoría'\u001b[0m\u001b[0;34m]\u001b[0m \u001b[0;34m==\u001b[0m \u001b[0;34m'Patrimoñales y Mixta'\u001b[0m\u001b[0;34m]\u001b[0m\u001b[0;34m\u001b[0m\u001b[0m\n\u001b[0;32m----> 4\u001b[0;31m \u001b[0mdf_PAT\u001b[0m \u001b[0;34m=\u001b[0m \u001b[0mpd\u001b[0m\u001b[0;34m.\u001b[0m\u001b[0mconcat\u001b[0m\u001b[0;34m[\u001b[0m\u001b[0;34m[\u001b[0m\u001b[0mdf_PAT\u001b[0m\u001b[0;34m,\u001b[0m \u001b[0mdf2\u001b[0m\u001b[0;34m]\u001b[0m\u001b[0;34m]\u001b[0m\u001b[0;34m\u001b[0m\u001b[0m\n\u001b[0m\u001b[1;32m      5\u001b[0m \u001b[0mdf_PAT\u001b[0m\u001b[0;34m\u001b[0m\u001b[0m\n",
      "\u001b[0;31mTypeError\u001b[0m: 'function' object is not subscriptable"
     ]
    }
   ],
   "source": [
    "#   https://pandas.pydata.org/pandas-docs/stable/merging.html    Para Investigar\n",
    "\n",
    "df2 = df_2018_03[df_2018_03['Categoría'] == 'Patrimoñales y Mixta'] \n",
    "df_PAT = pd.concat[[df_PAT, df2]]\n",
    "df_PAT\n"
   ]
  },
  {
   "cell_type": "code",
   "execution_count": null,
   "metadata": {},
   "outputs": [],
   "source": []
  }
 ],
 "metadata": {
  "kernelspec": {
   "display_name": "Python 3",
   "language": "python",
   "name": "python3"
  },
  "language_info": {
   "codemirror_mode": {
    "name": "ipython",
    "version": 3
   },
   "file_extension": ".py",
   "mimetype": "text/x-python",
   "name": "python",
   "nbconvert_exporter": "python",
   "pygments_lexer": "ipython3",
   "version": "3.7.0"
  }
 },
 "nbformat": 4,
 "nbformat_minor": 2
}
