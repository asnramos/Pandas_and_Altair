{
 "cells": [
  {
   "cell_type": "markdown",
   "metadata": {},
   "source": [
    "## Bibliotecas a Utilizar"
   ]
  },
  {
   "cell_type": "code",
   "execution_count": 67,
   "metadata": {},
   "outputs": [],
   "source": [
    "import numpy as np\n",
    "import pandas as pd\n",
    "from os import scandir"
   ]
  },
  {
   "cell_type": "markdown",
   "metadata": {},
   "source": [
    "## Enlaces"
   ]
  },
  {
   "cell_type": "markdown",
   "metadata": {},
   "source": [
    "## Trabajando los Data Frames - Función cleanData()\n",
    "* Creando una columna con fecha para cada Data Frame\n",
    "* Creando columna con variable de Riesgos de cada dato \n",
    "* Reemplazando los datos incorrectos\n",
    "* Eliminando columnas que no sirven\n",
    "* Posibilidad de guardar en archivo csv"
   ]
  },
  {
   "cell_type": "markdown",
   "metadata": {},
   "source": [
    "## Función completa"
   ]
  },
  {
   "cell_type": "markdown",
   "metadata": {},
   "source": [
    " "
   ]
  },
  {
   "cell_type": "code",
   "execution_count": 68,
   "metadata": {},
   "outputs": [],
   "source": [
    "def g_archivos(ruta = './data/Indicadores_Gestion/'):\n",
    "    return sorted([archivo.path for archivo in scandir(ruta) if archivo.is_file()],reverse=True)\n",
    "\n",
    "\n",
    "def enlace_df(l_enlaces):\n",
    "    l_dataframes = []\n",
    "    for enlace in l_enlaces:\n",
    "        df = pd.read_excel(enlace, sheet_name='1 Indicadores Patrimoniales', skiprows=3, header=1)\n",
    "        l_dataframes.append(df)\n",
    "    \n",
    "    return l_dataframes\n",
    "\n",
    "\n",
    "def tirar_resetear(df):\n",
    "    \"\"\" Throw the useless rows and reset the index \"\"\"\n",
    "    df.drop(df.index[[0,1,2,3,4,5]],inplace=True)\n",
    "    df.reset_index(drop=True, inplace=True)\n",
    "    \n",
    "    return df\n",
    "\n",
    "\n",
    "def nuevas_columnas(df, fecha):\n",
    "    \"\"\" Create and fill 'Fecha' column \"\"\"\n",
    "    fechas = ['06-2018', '03-2018',\n",
    "        '12-2017', '09-2017', '06-2017', '03-2017',\n",
    "        '12-2016', '09-2016', '06-2016', '03-2016',\n",
    "        '12-2015', '09-2015', '06-2015', '03-2015',\n",
    "        '12-2014', '09-2014', '06-2014', '03-2014',\n",
    "        '12-2013', '09-2013', '06-2013', '03-2013',\n",
    "        '12-2012', '09-2012', '06-2012', '03-2012',]\n",
    "    \n",
    "    df['Fecha'] = fechas[fecha]\n",
    "    return df\n",
    "\n",
    "\n",
    "def identificador_ramo(df):\n",
    "    \"\"\" Fill 'Categoría' column with the apropiate insurance brunch \"\"\"\n",
    "    df['Categoría'] = None\n",
    "    current_cat = 'Patrimoniales y Mixtas'\n",
    "    \n",
    "    for i in range(len(df)):\n",
    "        if pd.isnull(df.iloc[i].NJ):\n",
    "            current_cat = df.iloc[i]['Denominación']\n",
    "        else:\n",
    "            df.loc[i,'Categoría'] = current_cat\n",
    "    \n",
    "    current_cat = 'Patrimoniales y Mixtas'\n",
    "    return df\n",
    "\n",
    "\n",
    "def a_categoria(df):\n",
    "    \"\"\" Convert 'Categoría' and 'Denominación' columns in category type, and eliminate the useless rows \"\"\"\n",
    "    df['Categoría'] = df['Categoría'].astype('category', inplace=True)\n",
    "    df['Denominación'] = df['Denominación'].astype('category', inplace=True)\n",
    "    df = df[~df.Categoría.isnull()]\n",
    "    df.reset_index(drop=True, inplace=True)\n",
    "    \n",
    "    return df\n",
    "\n",
    "\n",
    "def no_nan(df):\n",
    "    \"\"\" Eliminate the wrong values \"\"\"\n",
    "    df.replace('//',0,inplace=True)\n",
    "    df.replace('///',0,inplace=True)\n",
    "    return df\n",
    "\n",
    "\n",
    "def filtro_ramo(df, ramo):\n",
    "    \"\"\" Filtered df by insurance brunch \"\"\"\n",
    "    ramos = {'PAT':'Patrimoniales y Mixtas', \n",
    "             'ART':'Riesgos del Trabajo', \n",
    "             'TRANSPORTE':'Transporte Público Pasajeros', \n",
    "             'VIDA':'Seguros de Vida', \n",
    "             'RETIRO':'Seguros de Retiro'}\n",
    "    \n",
    "    return df[ df['Categoría']== ramos[ramo]]\n",
    "\n",
    "\n",
    "def guardado(df, ramo):\n",
    "    \"\"\" Save in csv format the filtered info \"\"\"\n",
    "    df.to_csv('./clean_data/Indicadores_Gestion/{}.csv'.format(ramo))\n",
    "    \n",
    "def cleanData(ramo):\n",
    "\n",
    "    l_enlaces = g_archivos()\n",
    "    l_dataframes = enlace_df(l_enlaces)  # Lista de enlaces \n",
    "    largo = len(l_dataframes)            # Largo de la lista \n",
    "    df_Unido = pd.DataFrame()            # DF para guardar los df unidos\n",
    "    \n",
    "\n",
    "    for l, df in zip(range(largo),l_dataframes):\n",
    "        tirar_resetear(df)               # U: Throw the useless rows and reset the index\n",
    "        nuevas_columnas(df,l)            # U: Create and fill 'Fecha' column \n",
    "        identificador_ramo(df)           # U: Fill 'Categoría' column with the apropiate insurance brunch\n",
    "        a_categoria(df)                  # U: Convert 'Categoría' and 'Denominación' columns in category type, and eliminate the useless rows\n",
    "        no_nan(df)                       # U: Eliminate the wrong values\n",
    "        df_Unido = df_Unido.append(filtro_ramo(df, ramo), ignore_index=True) # U: Append filtered df by insurance brunch\n",
    "        \n",
    "    guardado(df_Unido, ramo)             # U: Save in csv the filtered info\n",
    "    return \n"
   ]
  },
  {
   "cell_type": "code",
   "execution_count": 69,
   "metadata": {},
   "outputs": [],
   "source": [
    "cleanData('PAT')"
   ]
  },
  {
   "cell_type": "markdown",
   "metadata": {},
   "source": [
    " **Posibles ramos a elegir en la función:**\n",
    "* 'PAT' = Patrimoñales y Mixta\n",
    "* 'ART' = Riesgos del Trabajo\n",
    "* 'TRANSPORTE' = Transporte Público Pasajeros\n",
    "* 'VIDA' = Seguros de Vida\n",
    "* 'RETIRO' = Seguros de Retiro"
   ]
  },
  {
   "cell_type": "code",
   "execution_count": null,
   "metadata": {},
   "outputs": [],
   "source": []
  }
 ],
 "metadata": {
  "kernelspec": {
   "display_name": "Python 3",
   "language": "python",
   "name": "python3"
  },
  "language_info": {
   "codemirror_mode": {
    "name": "ipython",
    "version": 3
   },
   "file_extension": ".py",
   "mimetype": "text/x-python",
   "name": "python",
   "nbconvert_exporter": "python",
   "pygments_lexer": "ipython3",
   "version": "3.7.0"
  }
 },
 "nbformat": 4,
 "nbformat_minor": 2
}
