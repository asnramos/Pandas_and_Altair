{
 "cells": [
  {
   "cell_type": "markdown",
   "metadata": {},
   "source": [
    "## Bibliotecas a Utilizar"
   ]
  },
  {
   "cell_type": "code",
   "execution_count": 1,
   "metadata": {},
   "outputs": [],
   "source": [
    "import numpy as np\n",
    "import pandas as pd\n",
    "import matplotlib.pyplot as plt\n",
    "import seaborn as sns\n",
    "\n",
    "%matplotlib inline"
   ]
  },
  {
   "cell_type": "markdown",
   "metadata": {},
   "source": [
    "## Enlaces"
   ]
  },
  {
   "cell_type": "code",
   "execution_count": 24,
   "metadata": {},
   "outputs": [],
   "source": [
    "enlace_2018_06 = './data/2018_06_Indicadores_Gestion.xls'\n",
    "enlace_2018_03 = './data/2018_03_Indicadores_Gestion.xls'\n",
    "\n",
    "enlace_2017_12 = './data/2017_12_Indicadores_Gestion.xls'\n",
    "enlace_2017_09 = './data/2017_09_Indicadores_Gestion.xls'\n",
    "enlace_2017_06 = './data/2017_06_Indicadores_Gestion.xls'\n",
    "enlace_2017_03 = './data/2017_06_Indicadores_Gestion.xls'\n",
    "\n",
    "enlace_2016_12 = './data/2016_12_Indicadores_Gestion.xls'\n",
    "enlace_2016_09 = './data/2016_09_Indicadores_Gestion.xls'\n",
    "enlace_2016_06 = './data/2016_06_Indicadores_Gestion.xls'\n",
    "enlace_2016_03 = './data/2016_03_Indicadores_Gestion.xls'\n",
    "\n",
    "enlace_2015_12 = './data/2015_12_Indicadores_Gestion.xls'\n",
    "enlace_2015_09 = './data/2015_09_Indicadores_Gestion.xls'\n",
    "enlace_2015_06 = './data/2015_06_Indicadores_Gestion.xls'\n",
    "enlace_2015_03 = './data/2015_03_Indicadores_Gestion.xls'\n",
    "\n",
    "enlace_2014_12 = './data/2014_12_Indicadores_Gestion.xls'\n",
    "enlace_2014_09 = './data/2014_09_Indicadores_Gestion.xls'\n",
    "enlace_2014_06 = './data/2014_06_Indicadores_Gestion.xls'\n",
    "enlace_2014_03 = './data/2014_03_Indicadores_Gestion.xls'\n",
    "\n",
    "enlace_2013_12 = './data/2013_12_Indicadores_Gestion.xls'\n",
    "enlace_2013_09 = './data/2013_09_Indicadores_Gestion.xls'\n",
    "enlace_2013_06 = './data/2013_06_Indicadores_Gestion.xls'\n",
    "enlace_2013_03 = './data/2013_03_Indicadores_Gestion.xls'\n",
    "\n",
    "enlace_2012_12 = './data/2012_12_Indicadores_Gestion.xls'\n",
    "enlace_2012_09 = './data/2012_09_Indicadores_Gestion.xls'\n",
    "enlace_2012_06 = './data/2012_06_Indicadores_Gestion.xls'\n",
    "enlace_2012_03 = './data/2012_03_Indicadores_Gestion.xls'"
   ]
  },
  {
   "cell_type": "markdown",
   "metadata": {},
   "source": [
    "## Data Frames"
   ]
  },
  {
   "cell_type": "code",
   "execution_count": 25,
   "metadata": {},
   "outputs": [],
   "source": [
    "df_2018_06 = pd.read_excel(enlace_2018_06, sheet_name='1 Indicadores Patrimoniales', skiprows=3, header=1)\n",
    "df_2018_03 = pd.read_excel(enlace_2018_03, sheet_name='1 Indicadores Patrimoniales', skiprows=3, header=1)\n",
    "\n",
    "df_2017_12 = pd.read_excel(enlace_2017_12, sheet_name='1 Indicadores Patrimoniales', skiprows=3, header=1)\n",
    "df_2017_09 = pd.read_excel(enlace_2017_09, sheet_name='1 Indicadores Patrimoniales', skiprows=3, header=1)\n",
    "df_2017_06 = pd.read_excel(enlace_2017_06, sheet_name='1 Indicadores Patrimoniales', skiprows=3, header=1)\n",
    "df_2017_03 = pd.read_excel(enlace_2017_03, sheet_name='1 Indicadores Patrimoniales', skiprows=3, header=1)\n",
    "\n",
    "df_2016_12 = pd.read_excel(enlace_2016_12, sheet_name='1 Indicadores Patrimoniales', skiprows=3, header=1)\n",
    "df_2016_09 = pd.read_excel(enlace_2016_09, sheet_name='1 Indicadores Patrimoniales', skiprows=3, header=1)\n",
    "df_2016_06 = pd.read_excel(enlace_2016_06, sheet_name='1 Indicadores Patrimoniales', skiprows=3, header=1)\n",
    "df_2016_03 = pd.read_excel(enlace_2016_03, sheet_name='1 Indicadores Patrimoniales', skiprows=3, header=1)\n",
    "\n",
    "\n",
    "df_2015_12 = pd.read_excel(enlace_2015_12, sheet_name='1 Indicadores Patrimoniales', skiprows=3, header=1)\n",
    "df_2015_09 = pd.read_excel(enlace_2015_09, sheet_name='1 Indicadores Patrimoniales', skiprows=3, header=1)\n",
    "df_2015_06 = pd.read_excel(enlace_2015_06, sheet_name='1 Indicadores Patrimoniales', skiprows=3, header=1)\n",
    "df_2015_03 = pd.read_excel(enlace_2015_03, sheet_name='1 Indicadores Patrimoniales', skiprows=3, header=1)\n",
    "\n",
    "\n",
    "df_2014_12 = pd.read_excel(enlace_2014_12, sheet_name='1 Indicadores Patrimoniales', skiprows=3, header=1)\n",
    "df_2014_09 = pd.read_excel(enlace_2014_09, sheet_name='1 Indicadores Patrimoniales', skiprows=3, header=1)\n",
    "df_2014_06 = pd.read_excel(enlace_2014_06, sheet_name='1 Indicadores Patrimoniales', skiprows=3, header=1)\n",
    "df_2014_03 = pd.read_excel(enlace_2014_03, sheet_name='1 Indicadores Patrimoniales', skiprows=3, header=1)\n",
    "\n",
    "\n",
    "df_2013_12 = pd.read_excel(enlace_2013_12, sheet_name='1 Indicadores Patrimoniales', skiprows=3, header=1)\n",
    "df_2013_09 = pd.read_excel(enlace_2013_09, sheet_name='1 Indicadores Patrimoniales', skiprows=3, header=1)\n",
    "df_2013_06 = pd.read_excel(enlace_2013_06, sheet_name='1 Indicadores Patrimoniales', skiprows=3, header=1)\n",
    "df_2013_03 = pd.read_excel(enlace_2013_03, sheet_name='1 Indicadores Patrimoniales', skiprows=3, header=1)\n",
    "\n",
    "\n",
    "df_2012_12 = pd.read_excel(enlace_2012_12, sheet_name='1 Indicadores Patrimoniales', skiprows=3, header=1)\n",
    "df_2012_09 = pd.read_excel(enlace_2012_09, sheet_name='1 Indicadores Patrimoniales', skiprows=3, header=1)\n",
    "df_2012_06 = pd.read_excel(enlace_2012_06, sheet_name='1 Indicadores Patrimoniales', skiprows=3, header=1)\n",
    "df_2012_03 = pd.read_excel(enlace_2012_03, sheet_name='1 Indicadores Patrimoniales', skiprows=3, header=1)"
   ]
  },
  {
   "cell_type": "markdown",
   "metadata": {},
   "source": [
    "## Lista Data Frames"
   ]
  },
  {
   "cell_type": "code",
   "execution_count": 26,
   "metadata": {},
   "outputs": [],
   "source": [
    "df_list = [df_2018_06, df_2018_03,\n",
    "           df_2017_12, df_2017_09, df_2017_06, df_2017_03,\n",
    "           df_2016_12, df_2016_09, df_2016_06, df_2016_03,\n",
    "           df_2015_12, df_2015_09, df_2015_06, df_2015_03,\n",
    "           df_2014_12, df_2014_09, df_2014_06, df_2014_03,\n",
    "           df_2013_12, df_2013_09, df_2013_06, df_2013_03,\n",
    "           df_2012_12, df_2012_09, df_2012_06, df_2012_03,\n",
    "          ]"
   ]
  },
  {
   "cell_type": "markdown",
   "metadata": {},
   "source": [
    "## Trabajando los Data Frames - Función cleanData()\n",
    "* Creando una columna con fecha para cada Data Frame\n",
    "* Creando columna con variable de Riesgos de cada dato \n",
    "* Reemplazando los datos incorrectos\n",
    "* Eliminando columnas que no sirven\n",
    "* Posibilidad de guardar en archivo csv"
   ]
  },
  {
   "cell_type": "markdown",
   "metadata": {},
   "source": [
    "## Función completa"
   ]
  },
  {
   "cell_type": "code",
   "execution_count": 27,
   "metadata": {},
   "outputs": [],
   "source": [
    "def cleanData(list_df, ramo):\n",
    "    \n",
    "# ================= Variables Limpiar =================    \n",
    "    # Variable para comletar la fecha de los DataFrames\n",
    "    fechas = ['06-2018', '03-2018',\n",
    "            '12-2017', '09-2017', '06-2017', '03-2017',\n",
    "            '12-2016', '09-2016', '06-2016', '03-2016',\n",
    "            '12-2015', '09-2015', '06-2015', '03-2015',\n",
    "            '12-2014', '09-2014', '06-2014', '03-2014',\n",
    "            '12-2013', '09-2013', '06-2013', '03-2013',\n",
    "            '12-2012', '09-2012', '06-2012', '03-2012',    \n",
    "]\n",
    "    # Variable para completado de columna\n",
    "    current_cat = 'Patrimoñales y Mixta'\n",
    "    \n",
    "    # Variable para el largo de la lista\n",
    "    largo = len(list_df)\n",
    "    \n",
    "# ============== Variables Juntar y Unir ==============\n",
    "    \n",
    "    # DF para guardar los df unidos\n",
    "    df_Unido = pd.DataFrame()\n",
    "    \n",
    "    # Variable con nombre de los ramos \n",
    "    ramos = ['Patrimoñales y Mixta', \n",
    "              'Riesgos del Trabajo', \n",
    "              'Transporte Público Pasajeros', \n",
    "              'Seguros de Vida', \n",
    "              'Seguros de Retiro']\n",
    "    # Variable para contar las iteraciones\n",
    "    count = 0\n",
    "    \n",
    "    \n",
    "# ============== Limpieza de Data Frame ===============\n",
    "    for l, df in zip(range(largo),list_df):\n",
    "\n",
    "        # Eliminando las primeras 5 filas\n",
    "        df.drop(df.index[[0,1,2,3,4,5]],inplace=True)\n",
    "\n",
    "        # Reseteando el Index\n",
    "        df.reset_index(drop=True, inplace=True)\n",
    "\n",
    "        # Agregando la columna \"Fecha\" y \"Categoría\"\n",
    "        df['Fecha'] = fechas[l]\n",
    "        df['Categoría'] = None\n",
    "\n",
    "        # Completando la columna \"Categoría\" \n",
    "        for i in range(len(df)):\n",
    "            if pd.isnull(df.iloc[i].NJ):\n",
    "                current_cat = df.iloc[i]['Denominación']\n",
    "            else:\n",
    "                df.loc[i,'Categoría'] = current_cat\n",
    "        \n",
    "        # Seteo como categorías \n",
    "        df['Categoría'] = df['Categoría'].astype('category', inplace=True)\n",
    "        \n",
    "        # Vuelvo a establecesr la primera categoría para la próxima iteración\n",
    "        current_cat = 'Patrimoñales y Mixta'\n",
    "        \n",
    "        # Eliminamos las filas con categoría vacía\n",
    "        df = df[~df.Categoría.isnull()]\n",
    "\n",
    "        # Reseteando el Index\n",
    "        df.reset_index(drop=True, inplace=True)\n",
    "\n",
    "        # Reemplazando los valores núlos\n",
    "        df.replace('//',0,inplace=True)\n",
    "        df.replace('///',0,inplace=True)\n",
    "\n",
    "        \n",
    "# ============== Juntando y uniendo Data Frames ===============    \n",
    "\n",
    "        if count == 0:\n",
    "            if ramo == 'PAT':\n",
    "                df_Unido = df_Unido.append(df[ df['Categoría']== ramos[0]], ignore_index=True)\n",
    "                count += 1\n",
    "        elif count > 0:\n",
    "            if ramo == 'PAT':\n",
    "                df_Unido = df_Unido.append(df[ df['Categoría'] == ramos[0] ], ignore_index=True)\n",
    "    \n",
    "    \n",
    "    df_Unido.to_csv('{}.csv'.format(ramo))\n",
    "    return \n"
   ]
  },
  {
   "cell_type": "code",
   "execution_count": 28,
   "metadata": {},
   "outputs": [],
   "source": [
    "cleanData(df_list,'PAT')"
   ]
  },
  {
   "cell_type": "markdown",
   "metadata": {},
   "source": [
    " "
   ]
  },
  {
   "cell_type": "markdown",
   "metadata": {},
   "source": [
    "  "
   ]
  },
  {
   "cell_type": "markdown",
   "metadata": {},
   "source": [
    "  "
   ]
  },
  {
   "cell_type": "markdown",
   "metadata": {},
   "source": [
    "  "
   ]
  },
  {
   "cell_type": "markdown",
   "metadata": {},
   "source": [
    "  "
   ]
  },
  {
   "cell_type": "markdown",
   "metadata": {},
   "source": [
    "## Base para limpiar los data frames"
   ]
  },
  {
   "cell_type": "code",
   "execution_count": 14,
   "metadata": {},
   "outputs": [],
   "source": [
    "def cleanData(list_df, save = False):\n",
    "    # Variable para comletar la fecha de los DataFrames\n",
    "    fechas = ['06-2018', '03-2018',\n",
    "            '12-2017', '09-2017', '06-2017', '03-2017',\n",
    "            '12-2016', '09-2016', '06-2016', '03-2016',\n",
    "            '12-2015', '09-2015', '06-2015', '03-2015',\n",
    "            '12-2014', '09-2014', '06-2014', '03-2014',\n",
    "            '12-2015', '09-2013', '06-2013', '03-2013',\n",
    "            '12-2012', '09-2012', '06-2012', '03-2012',    \n",
    "            ]\n",
    "    # Variable para completado de columna\n",
    "    current_cat = 'Patrimoñales y Mixta'\n",
    "    \n",
    "    # Variable para el largo de la lista\n",
    "    largo = len(list_df)\n",
    "    \n",
    "    for l, df in zip(range(largo),list_df):\n",
    "\n",
    "        # Eliminando las primeras 5 filas\n",
    "        df.drop(df.index[[0,1,2,3,4,5]],inplace=True)\n",
    "\n",
    "        # Reseteando el Index\n",
    "        df.reset_index(drop=True, inplace=True)\n",
    "\n",
    "        # Agregando la columna \"Fecha\" y \"Categoría\"\n",
    "        df['Fecha'] = fechas[l]\n",
    "        df['Categoría'] = None\n",
    "\n",
    "        # Completando la columna \"Categoría\" \n",
    "        for i in range(len(df)):\n",
    "            if pd.isnull(df.iloc[i].NJ):\n",
    "                current_cat = df.iloc[i]['Denominación']\n",
    "            else:\n",
    "                df.loc[i,'Categoría'] = current_cat\n",
    "        \n",
    "        # Seteo como categorías \n",
    "        df['Categoría'] = df['Categoría'].astype('category', inplace=True)\n",
    "        \n",
    "        # Vuelvo a establecesr la primera categoría para la próxima iteración\n",
    "        current_cat = 'Patrimoñales y Mixta'\n",
    "        \n",
    "        # Eliminamos las filas con categoría vacía\n",
    "        df = df[~df.Categoría.isnull()]\n",
    "\n",
    "        # Reseteando el Index\n",
    "        df.reset_index(drop=True, inplace=True)\n",
    "\n",
    "        # Reemplazando los valores núlos\n",
    "        df.replace('//',0,inplace=True)\n",
    "        df.replace('///',0,inplace=True)\n",
    "\n",
    "        # Salvando el df\n",
    "        if save == True:\n",
    "            df.to_csv('df-{}.csv'.format(fechas[l]))\n",
    "\n",
    "    return "
   ]
  },
  {
   "cell_type": "code",
   "execution_count": 23,
   "metadata": {},
   "outputs": [
    {
     "name": "stderr",
     "output_type": "stream",
     "text": [
      "/home/ramirogallo/anaconda3/lib/python3.7/site-packages/pandas/core/frame.py:3798: SettingWithCopyWarning: \n",
      "A value is trying to be set on a copy of a slice from a DataFrame\n",
      "\n",
      "See the caveats in the documentation: http://pandas.pydata.org/pandas-docs/stable/indexing.html#indexing-view-versus-copy\n",
      "  method=method)\n"
     ]
    }
   ],
   "source": [
    "cleanData([df_2014_03,df_2014_09,df_2016_09], save=True)"
   ]
  },
  {
   "cell_type": "markdown",
   "metadata": {},
   "source": [
    "## Base para juntar los data Frames"
   ]
  },
  {
   "cell_type": "code",
   "execution_count": 78,
   "metadata": {},
   "outputs": [],
   "source": [
    "def juntarUnir(list_df, ramo):\n",
    "    \n",
    "    df_Unido = pd.DataFrame()\n",
    "    \n",
    "    # Variable con nombre de los ramos \n",
    "    ramos = ['Patrimoñales y Mixta', \n",
    "              'Riesgos del Trabajo', \n",
    "              'Transporte Público Pasajeros', \n",
    "              'Seguros de Vida', \n",
    "              'Seguros de Retiro']\n",
    "    # Variable para contar las iteraciones\n",
    "    count = 0\n",
    "    \n",
    "    for df in list_df:\n",
    "        if count == 0:\n",
    "            if ramo == 'PAT':\n",
    "                df_Unido = df_Unido.append(df[ df['Categoría']== ramos[0]], ignore_index=True)\n",
    "                count += 1\n",
    "        elif count > 0:\n",
    "            if ramo == 'PAT':\n",
    "                df_Unido = df_Unido.append(df[ df['Categoría'] == ramos[0] ], ignore_index=True)\n",
    "    \n",
    "    \n",
    "    df_Unido.to_csv('{}.csv'.format(ramo))\n",
    "    return df_Unido"
   ]
  },
  {
   "cell_type": "code",
   "execution_count": 79,
   "metadata": {},
   "outputs": [],
   "source": [
    "#cleanData([df_2018_06, df_2018_03 ],save=True)\n",
    "\n",
    "#juntarUnir([df_2018_06, df_2018_03 ], ramo='PAT')\n",
    "\n",
    "\n",
    "#   https://pandas.pydata.org/pandas-docs/stable/merging.html    Para Investigar"
   ]
  },
  {
   "cell_type": "code",
   "execution_count": 57,
   "metadata": {},
   "outputs": [],
   "source": []
  }
 ],
 "metadata": {
  "kernelspec": {
   "display_name": "Python 3",
   "language": "python",
   "name": "python3"
  },
  "language_info": {
   "codemirror_mode": {
    "name": "ipython",
    "version": 3
   },
   "file_extension": ".py",
   "mimetype": "text/x-python",
   "name": "python",
   "nbconvert_exporter": "python",
   "pygments_lexer": "ipython3",
   "version": "3.7.0"
  }
 },
 "nbformat": 4,
 "nbformat_minor": 2
}
