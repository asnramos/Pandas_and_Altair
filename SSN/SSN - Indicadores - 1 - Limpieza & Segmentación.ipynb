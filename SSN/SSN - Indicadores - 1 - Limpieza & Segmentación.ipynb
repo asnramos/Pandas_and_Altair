{
 "cells": [
  {
   "cell_type": "markdown",
   "metadata": {},
   "source": [
    "## Bibliotecas a Utilizar"
   ]
  },
  {
   "cell_type": "code",
   "execution_count": 7,
   "metadata": {},
   "outputs": [],
   "source": [
    "import numpy as np\n",
    "import pandas as pd\n",
    "from os import scandir"
   ]
  },
  {
   "cell_type": "markdown",
   "metadata": {},
   "source": [
    "## Enlaces"
   ]
  },
  {
   "cell_type": "markdown",
   "metadata": {},
   "source": [
    "## Trabajando los Data Frames - Función cleanData()\n",
    "* Creando una columna con fecha para cada Data Frame\n",
    "* Creando columna con variable de Riesgos de cada dato \n",
    "* Reemplazando los datos incorrectos\n",
    "* Eliminando columnas que no sirven\n",
    "* Posibilidad de guardar en archivo csv"
   ]
  },
  {
   "cell_type": "markdown",
   "metadata": {},
   "source": [
    "## Función completa"
   ]
  },
  {
   "cell_type": "markdown",
   "metadata": {},
   "source": [
    " "
   ]
  },
  {
   "cell_type": "code",
   "execution_count": 17,
   "metadata": {},
   "outputs": [],
   "source": [
    "def g_archivos(ruta = './data/Indicadores_Gestion/'):\n",
    "    \"\"\" Generate the list with the path files of all files \"\"\"\n",
    "    return sorted([archivo.path for archivo in scandir(ruta) if archivo.is_file()],reverse=True)\n",
    "\n",
    "\n",
    "def enlace_df(l_enlaces):\n",
    "    \"\"\" Generate a list with all the Data Frames \"\"\"\n",
    "    l_dataframes = []\n",
    "    for enlace in l_enlaces:\n",
    "        df = pd.read_excel(enlace, sheet_name='1 Indicadores Patrimoniales', skiprows=3, header=1)\n",
    "        l_dataframes.append(df)\n",
    "    \n",
    "    return l_dataframes\n",
    "\n",
    "\n",
    "def tirar_resetear(df):\n",
    "    \"\"\" Throw the useless rows and reset the index \"\"\"\n",
    "    df.drop(df.index[[0,1,2,3,4,5]],inplace=True)\n",
    "    df.reset_index(drop=True, inplace=True)\n",
    "    \n",
    "    return df\n",
    "\n",
    "\n",
    "def columna_fechas(df, fecha):\n",
    "    \"\"\" Create and fill 'Fecha' column \"\"\"\n",
    "    fechas = ['2018-06', '2018-03',\n",
    "        '2017-12', '2017-09', '2017-06', '2017-03',\n",
    "        '2016-12', '2016-09', '2016-06', '2016-03',\n",
    "        '2015-12', '2015-09', '2015-06', '2015-03',\n",
    "        '2014-12', '2014-09', '2014-06', '2014-03',\n",
    "        '2013-12', '2013-09', '2013-06', '2013-03',\n",
    "        '2012-12', '2012-09', '2012-06', '2012-03',]\n",
    "    \n",
    "    df['Fecha'] = fechas[fecha]\n",
    "    return df\n",
    "\n",
    "\n",
    "def identificador_ramo(df):\n",
    "    \"\"\" Fill 'Categoría' column with the apropiate insurance branch \"\"\"\n",
    "    df['Categoría'] = None\n",
    "    current_cat = 'Patrimoniales y Mixtas'\n",
    "    \n",
    "    for i in range(len(df)):\n",
    "        if pd.isnull(df.iloc[i].NJ):\n",
    "            current_cat = df.iloc[i]['Denominación']\n",
    "        else:\n",
    "            df.loc[i,'Categoría'] = current_cat\n",
    "    \n",
    "    current_cat = 'Patrimoniales y Mixtas'\n",
    "    return df\n",
    "\n",
    "\n",
    "def no_nan(df):\n",
    "    \"\"\" Eliminate the wrong values \"\"\"\n",
    "    df.replace('/',0,inplace=True)\n",
    "    df.replace('//',0,inplace=True)\n",
    "    df.replace('///',0,inplace=True)\n",
    "    df.fillna(0)\n",
    "    x = ['%','\\n','[',']',' ']\n",
    "    for vaule in range(len(x)):\n",
    "        df.columns = df.columns.str.replace(x[vaule],'')\n",
    "    return df\n",
    "\n",
    "\n",
    "def columna_mercado(df):\n",
    "    \"\"\" Create the '% Mercado' column and calculate the correct % for each branch \"\"\"\n",
    "    l_categorias = df['Categoría'].unique()\n",
    "    df['% Mercado'] = None\n",
    "    new_df = pd.DataFrame()\n",
    "    \n",
    "    for categoria in l_categorias:\n",
    "        tmp = df[df['Categoría'] == categoria].copy()\n",
    "        p_total_mercado = tmp['ProducciónTotal'].sum()\n",
    "        tmp['Mercado'] = tmp['ProducciónTotal'].map(lambda x: round(x*100/p_total_mercado,2))\n",
    "        new_df = new_df.append(tmp)\n",
    "        \n",
    "    return new_df\n",
    "\n",
    "\n",
    "def a_categoria(df):\n",
    "    \"\"\" Convert 'Categoría' and 'Denominación' columns in category type, and eliminate the useless rows \"\"\"\n",
    "    df['Categoría'] = df['Categoría'].astype('category', inplace=True)\n",
    "    df['Denominación'] = df['Denominación'].astype('category', inplace=True)\n",
    "    df = df[~df.Categoría.isnull()]\n",
    "    df.reset_index(drop=True, inplace=True) \n",
    "    return df\n",
    "\n",
    "\n",
    "def filtro_ramo(df, ramo):\n",
    "    \"\"\" Filtered df by insurance branch \"\"\"\n",
    "    ramos = {'PAT':'Patrimoniales y Mixtas', \n",
    "             'ART':'Riesgos del Trabajo', \n",
    "             'TRANSPORTE':'Transporte Público Pasajeros', \n",
    "             'VIDA':'Seguros de Vida', \n",
    "             'RETIRO':'Seguros de Retiro'}\n",
    "    \n",
    "    return df[ df['Categoría']== ramos[ramo]]\n",
    "\n",
    "\n",
    "def guardado(df, nombre_archivo):\n",
    "    \"\"\" Save in csv format the filtered info \"\"\"\n",
    "    df.to_csv(nombre_archivo)\n",
    "    \n",
    "    \n",
    "def cleanData(ramo):\n",
    "    \"\"\" Call al the funtions to get the DataFrame clean and filtered by branch \"\"\"\n",
    "    ramo = ramo.upper()\n",
    "    d_nombre_archivo = {'PAT':'01_Patrimoniales_y_Mixtas', \n",
    "                         'ART':'02_Riesgos_del_Trabajo', \n",
    "                         'TRANSPORTE':'03_Transporte_Público_Pasajeros', \n",
    "                         'VIDA':'04_Seguros_de_Vida', \n",
    "                         'RETIRO':'05_Seguros_de_Retiro'}\n",
    "    nombre_archivo = './clean_data/Indicadores_Gestion/{}.csv'.format(d_nombre_archivo[ramo])\n",
    "    l_enlaces = g_archivos()             # U: Generate the list with the path files of all files\n",
    "    l_dataframes = enlace_df(l_enlaces)  # U: Generate a list with all the Data Frames\n",
    "    largo = len(l_dataframes)            # U: Get the leng of the list for iterate \n",
    "    df_Unido = pd.DataFrame()            # U: Create de variable of the future Data Frame\n",
    "    \n",
    "\n",
    "    for l, df in zip(range(largo),l_dataframes):\n",
    "        tirar_resetear(df)               # U: Throw the useless rows and reset the index\n",
    "        columna_fechas(df,l)             # U: Create and fill 'Fecha' column \n",
    "        identificador_ramo(df)           # U: Fill 'Categoría' column with the apropiate insurance branch\n",
    "        no_nan(df)                       # U: Eliminate the wrong values\n",
    "        df = columna_mercado(df)         # U: Agregate the % of the Market that each company have in his branch\n",
    "        a_categoria(df)                  # U: Convert 'Categoría' and 'Denominación' columns in category type, and eliminate the useless rows\n",
    "        \n",
    "        df_Unido = df_Unido.append(filtro_ramo(df, ramo), ignore_index=True) # U: Append filtered df by insurance branch       \n",
    "\n",
    "    guardado(df_Unido, nombre_archivo)   # U: Save in csv the filtered info\n",
    "    return \n"
   ]
  },
  {
   "cell_type": "code",
   "execution_count": 18,
   "metadata": {},
   "outputs": [],
   "source": [
    "#cleanData('RetirO')"
   ]
  },
  {
   "cell_type": "code",
   "execution_count": null,
   "metadata": {},
   "outputs": [],
   "source": [
    "ramos = ['PAT', 'ArT','TransPorte','viDa','RetirO']\n",
    "for ramo in ramos:\n",
    "    cleanData(ramo)"
   ]
  },
  {
   "cell_type": "markdown",
   "metadata": {},
   "source": [
    " **Posibles ramos a elegir en la función:**\n",
    "* 'PAT' = Patrimoñales y Mixta\n",
    "* 'ART' = Riesgos del Trabajo\n",
    "* 'TRANSPORTE' = Transporte Público Pasajeros\n",
    "* 'VIDA' = Seguros de Vida\n",
    "* 'RETIRO' = Seguros de Retiro"
   ]
  },
  {
   "cell_type": "code",
   "execution_count": 1,
   "metadata": {},
   "outputs": [
    {
     "data": {
      "text/plain": [
       "'01_Patrimoniales_y_Mixtas'"
      ]
     },
     "execution_count": 1,
     "metadata": {},
     "output_type": "execute_result"
    }
   ],
   "source": [
    "d_nombre_archivo = {'PAT':'01_Patrimoniales_y_Mixtas', \n",
    "                         'ART':'02_Riesgos_del_Trabajo', \n",
    "                         'TRANSPORTE':'03_Transporte_Público_Pasajeros', \n",
    "                         'VIDA':'04_Seguros_de_Vida', \n",
    "                         'RETIRO':'05_Seguros_de_Retiro'}\n",
    "\n",
    "d_nombre_archivo['PAT']"
   ]
  },
  {
   "cell_type": "code",
   "execution_count": 5,
   "metadata": {},
   "outputs": [
    {
     "data": {
      "text/plain": [
       "'RAMO'"
      ]
     },
     "execution_count": 5,
     "metadata": {},
     "output_type": "execute_result"
    }
   ],
   "source": [
    "'Ramo'"
   ]
  },
  {
   "cell_type": "code",
   "execution_count": null,
   "metadata": {},
   "outputs": [],
   "source": []
  }
 ],
 "metadata": {
  "kernelspec": {
   "display_name": "Python 3",
   "language": "python",
   "name": "python3"
  },
  "language_info": {
   "codemirror_mode": {
    "name": "ipython",
    "version": 3
   },
   "file_extension": ".py",
   "mimetype": "text/x-python",
   "name": "python",
   "nbconvert_exporter": "python",
   "pygments_lexer": "ipython3",
   "version": "3.7.0"
  }
 },
 "nbformat": 4,
 "nbformat_minor": 2
}
