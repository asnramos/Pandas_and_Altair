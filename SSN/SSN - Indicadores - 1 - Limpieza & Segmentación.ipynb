{
 "cells": [
  {
   "cell_type": "markdown",
   "metadata": {},
   "source": [
    "## Bibliotecas a Utilizar"
   ]
  },
  {
   "cell_type": "code",
   "execution_count": 3,
   "metadata": {},
   "outputs": [],
   "source": [
    "import numpy as np\n",
    "import pandas as pd"
   ]
  },
  {
   "cell_type": "markdown",
   "metadata": {},
   "source": [
    "## Enlaces"
   ]
  },
  {
   "cell_type": "code",
   "execution_count": 11,
   "metadata": {},
   "outputs": [],
   "source": [
    "l_enlaces = ['./data/2018_06_Indicadores_Gestion.xls', './data/2018_03_Indicadores_Gestion.xls',\n",
    "           './data/2017_12_Indicadores_Gestion.xls', './data/2017_09_Indicadores_Gestion.xls', './data/2017_06_Indicadores_Gestion.xls', './data/2017_03_Indicadores_Gestion.xls',\n",
    "           './data/2016_12_Indicadores_Gestion.xls', './data/2016_09_Indicadores_Gestion.xls', './data/2016_06_Indicadores_Gestion.xls', './data/2016_03_Indicadores_Gestion.xls',\n",
    "           './data/2015_12_Indicadores_Gestion.xls', './data/2015_09_Indicadores_Gestion.xls', './data/2015_06_Indicadores_Gestion.xls', './data/2015_03_Indicadores_Gestion.xls',\n",
    "           './data/2014_12_Indicadores_Gestion.xls', './data/2014_09_Indicadores_Gestion.xls', './data/2014_06_Indicadores_Gestion.xls', './data/2014_03_Indicadores_Gestion.xls',\n",
    "           './data/2013_12_Indicadores_Gestion.xls', './data/2013_09_Indicadores_Gestion.xls', './data/2013_06_Indicadores_Gestion.xls', './data/2013_03_Indicadores_Gestion.xls',\n",
    "           './data/2012_12_Indicadores_Gestion.xls', './data/2012_09_Indicadores_Gestion.xls', './data/2012_06_Indicadores_Gestion.xls', './data/2012_03_Indicadores_Gestion.xls',\n",
    "        ]"
   ]
  },
  {
   "cell_type": "markdown",
   "metadata": {},
   "source": [
    "## Trabajando los Data Frames - Función cleanData()\n",
    "* Creando una columna con fecha para cada Data Frame\n",
    "* Creando columna con variable de Riesgos de cada dato \n",
    "* Reemplazando los datos incorrectos\n",
    "* Eliminando columnas que no sirven\n",
    "* Posibilidad de guardar en archivo csv"
   ]
  },
  {
   "cell_type": "markdown",
   "metadata": {},
   "source": [
    "## Función completa"
   ]
  },
  {
   "cell_type": "markdown",
   "metadata": {},
   "source": [
    " "
   ]
  },
  {
   "cell_type": "code",
   "execution_count": 14,
   "metadata": {},
   "outputs": [],
   "source": [
    "def cleanData(l_enlaces, ramo):\n",
    "\n",
    "# ======== Convirtiendo enlaces en DataFrames ========    \n",
    "    l_dataframes = []\n",
    "    \n",
    "    for enlace in l_enlaces:\n",
    "        df = pd.read_excel(enlace, sheet_name='1 Indicadores Patrimoniales', skiprows=3, header=1)\n",
    "        l_dataframes.append(df)\n",
    "    \n",
    "    \n",
    "# ================= Variables Limpiar =================    \n",
    "    # Variable para comletar la fecha de los DataFrames\n",
    "    fechas = ['06-2018', '03-2018',\n",
    "            '12-2017', '09-2017', '06-2017', '03-2017',\n",
    "            '12-2016', '09-2016', '06-2016', '03-2016',\n",
    "            '12-2015', '09-2015', '06-2015', '03-2015',\n",
    "            '12-2014', '09-2014', '06-2014', '03-2014',\n",
    "            '12-2013', '09-2013', '06-2013', '03-2013',\n",
    "            '12-2012', '09-2012', '06-2012', '03-2012',    \n",
    "]\n",
    "    # Variable para completado de columna\n",
    "    current_cat = 'Patrimoniales y Mixtas'\n",
    "    \n",
    "    # Variable para el largo de la lista\n",
    "    largo = len(l_dataframes)\n",
    "    \n",
    "# ============== Variables Juntar y Unir ==============\n",
    "    \n",
    "    # DF para guardar los df unidos\n",
    "    df_Unido = pd.DataFrame()\n",
    "    \n",
    "    # Variable con nombre de los ramos \n",
    "    ramos = ['Patrimoniales y Mixtas', \n",
    "              'Riesgos del Trabajo', \n",
    "              'Transporte Público Pasajeros', \n",
    "              'Seguros de Vida', \n",
    "              'Seguros de Retiro']\n",
    "    # Variable para contar las iteraciones\n",
    "    count = 0\n",
    "    \n",
    "    \n",
    "# ============== Limpieza de Data Frame ===============\n",
    "    for l, df in zip(range(largo),l_dataframes):\n",
    "\n",
    "        # Eliminando las primeras 5 filas\n",
    "        df.drop(df.index[[0,1,2,3,4,5]],inplace=True)\n",
    "\n",
    "        # Reseteando el Index\n",
    "        df.reset_index(drop=True, inplace=True)\n",
    "\n",
    "        # Agregando la columna \"Fecha\" y \"Categoría\"\n",
    "        df['Fecha'] = fechas[l]\n",
    "        df['Categoría'] = None\n",
    "\n",
    "        # Completando la columna \"Categoría\" \n",
    "        for i in range(len(df)):\n",
    "            if pd.isnull(df.iloc[i].NJ):\n",
    "                current_cat = df.iloc[i]['Denominación']\n",
    "                #count += 1\n",
    "            else:\n",
    "                df.loc[i,'Categoría'] = current_cat\n",
    "                #df.loc[i,'Categoría'] = ramos[count]\n",
    "        \n",
    "        # Seteo como categorías \n",
    "        df['Categoría'] = df['Categoría'].astype('category', inplace=True)\n",
    "        df['Denominación'] = df['Denominación'].astype('category', inplace=True)\n",
    "        \n",
    "        # Vuelvo a establecesr la primera categoría para la próxima iteración\n",
    "        current_cat = 'Patrimoniales y Mixtas'\n",
    "        \n",
    "        # Eliminamos las filas con categoría vacía\n",
    "        df = df[~df.Categoría.isnull()]\n",
    "\n",
    "        # Reseteando el Index\n",
    "        df.reset_index(drop=True, inplace=True)\n",
    "\n",
    "        # Reemplazando los valores núlos\n",
    "        df.replace('//',0,inplace=True)\n",
    "        df.replace('///',0,inplace=True)\n",
    "\n",
    "        \n",
    "# ============== Juntando y uniendo Data Frames ===============    \n",
    "\n",
    "        if ramo == 'PAT':\n",
    "            df_Unido = df_Unido.append(df[ df['Categoría']== ramos[0]], ignore_index=True)\n",
    "        elif ramo == 'ART':\n",
    "            df_Unido = df_Unido.append(df[ df['Categoría']== ramos[1]], ignore_index=True)\n",
    "        elif ramo == 'TRANSPORTE':\n",
    "            df_Unido = df_Unido.append(df[ df['Categoría']== ramos[2]], ignore_index=True)\n",
    "        elif ramo == 'VIDA':\n",
    "            df_Unido = df_Unido.append(df[ df['Categoría']== ramos[3]], ignore_index=True)\n",
    "        elif ramo == 'RETIRO':\n",
    "            df_Unido = df_Unido.append(df[ df['Categoría']== ramos[4]], ignore_index=True)\n",
    "    \n",
    "    \n",
    "    df_Unido.to_csv('./clean_data/{}.csv'.format(ramo))\n",
    "    return \n"
   ]
  },
  {
   "cell_type": "code",
   "execution_count": 20,
   "metadata": {},
   "outputs": [],
   "source": [
    "cleanData(l_enlaces,'RETIRO')"
   ]
  },
  {
   "cell_type": "markdown",
   "metadata": {},
   "source": [
    " **Posibles ramos a elegir en la función:**\n",
    "* 'PAT' = Patrimoñales y Mixta\n",
    "* 'ART' = Riesgos del Trabajo\n",
    "* 'TRANSPORTE' = Transporte Público Pasajeros\n",
    "* 'VIDA' = Seguros de Vida\n",
    "* 'RETIRO' = Seguros de Retiro"
   ]
  }
 ],
 "metadata": {
  "kernelspec": {
   "display_name": "Python 3",
   "language": "python",
   "name": "python3"
  },
  "language_info": {
   "codemirror_mode": {
    "name": "ipython",
    "version": 3
   },
   "file_extension": ".py",
   "mimetype": "text/x-python",
   "name": "python",
   "nbconvert_exporter": "python",
   "pygments_lexer": "ipython3",
   "version": "3.7.0"
  }
 },
 "nbformat": 4,
 "nbformat_minor": 2
}
