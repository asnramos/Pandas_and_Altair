{
 "cells": [
  {
   "cell_type": "markdown",
   "metadata": {},
   "source": [
    "## Bibliotecas a Utilizar"
   ]
  },
  {
   "cell_type": "code",
   "execution_count": 1,
   "metadata": {},
   "outputs": [],
   "source": [
    "import numpy as np\n",
    "import pandas as pd"
   ]
  },
  {
   "cell_type": "markdown",
   "metadata": {},
   "source": [
    "## Enlaces"
   ]
  },
  {
   "cell_type": "code",
   "execution_count": 2,
   "metadata": {},
   "outputs": [],
   "source": [
    "l_enlaces = ['./data/2018_06_Indicadores_Gestion.xls', './data/2018_03_Indicadores_Gestion.xls',\n",
    "           './data/2017_12_Indicadores_Gestion.xls', './data/2017_09_Indicadores_Gestion.xls', './data/2017_06_Indicadores_Gestion.xls', './data/2017_03_Indicadores_Gestion.xls',\n",
    "           './data/2016_12_Indicadores_Gestion.xls', './data/2016_09_Indicadores_Gestion.xls', './data/2016_06_Indicadores_Gestion.xls', './data/2016_03_Indicadores_Gestion.xls',\n",
    "           './data/2015_12_Indicadores_Gestion.xls', './data/2015_09_Indicadores_Gestion.xls', './data/2015_06_Indicadores_Gestion.xls', './data/2015_03_Indicadores_Gestion.xls',\n",
    "           './data/2014_12_Indicadores_Gestion.xls', './data/2014_09_Indicadores_Gestion.xls', './data/2014_06_Indicadores_Gestion.xls', './data/2014_03_Indicadores_Gestion.xls',\n",
    "           './data/2013_12_Indicadores_Gestion.xls', './data/2013_09_Indicadores_Gestion.xls', './data/2013_06_Indicadores_Gestion.xls', './data/2013_03_Indicadores_Gestion.xls',\n",
    "           './data/2012_12_Indicadores_Gestion.xls', './data/2012_09_Indicadores_Gestion.xls', './data/2012_06_Indicadores_Gestion.xls', './data/2012_03_Indicadores_Gestion.xls',\n",
    "        ]"
   ]
  },
  {
   "cell_type": "markdown",
   "metadata": {},
   "source": [
    "## Trabajando los Data Frames - Función cleanData()\n",
    "* Creando una columna con fecha para cada Data Frame\n",
    "* Creando columna con variable de Riesgos de cada dato \n",
    "* Reemplazando los datos incorrectos\n",
    "* Eliminando columnas que no sirven\n",
    "* Posibilidad de guardar en archivo csv"
   ]
  },
  {
   "cell_type": "markdown",
   "metadata": {},
   "source": [
    "## Función completa"
   ]
  },
  {
   "cell_type": "markdown",
   "metadata": {},
   "source": [
    " "
   ]
  },
  {
   "cell_type": "code",
   "execution_count": 45,
   "metadata": {},
   "outputs": [],
   "source": [
    "def enlace_df(enlaces):\n",
    "    \"\"\"\n",
    "    What I need to work?\n",
    "        - A list with the path's of the xls\n",
    "        \n",
    "    What I do? \n",
    "        - Turn the xls's in a list of data frames\n",
    "    \"\"\"\n",
    "    l_dataframes = []\n",
    "    \n",
    "    for enlace in l_enlaces:\n",
    "        df = pd.read_excel(enlace, sheet_name='1 Indicadores Patrimoniales', skiprows=3, header=1)\n",
    "        l_dataframes.append(df)\n",
    "    \n",
    "    return l_dataframes\n",
    "\n",
    "\n",
    "def nuevas_columnas(df, fecha):\n",
    "    \"\"\"\n",
    "    What I need to work?\n",
    "        - Data Frame\n",
    "        - The number of date index to complete\n",
    "        \n",
    "    What I do? \n",
    "        - Fill the 'Fecha' colum with the correct date, so you can filter later in the análisis\n",
    "    \"\"\"\n",
    "    \n",
    "    fechas = ['06-2018', '03-2018',\n",
    "        '12-2017', '09-2017', '06-2017', '03-2017',\n",
    "        '12-2016', '09-2016', '06-2016', '03-2016',\n",
    "        '12-2015', '09-2015', '06-2015', '03-2015',\n",
    "        '12-2014', '09-2014', '06-2014', '03-2014',\n",
    "        '12-2013', '09-2013', '06-2013', '03-2013',\n",
    "        '12-2012', '09-2012', '06-2012', '03-2012',]\n",
    "    \n",
    "    df['Fecha'] = fechas[fecha]\n",
    "    return df\n",
    "\n",
    "\n",
    "def identificador_ramo(df):\n",
    "    \"\"\"\n",
    "    What I need to work?\n",
    "        - The Data Frame to fill\n",
    "        \n",
    "    What I do? \n",
    "        - Create the 'Categoría' column\n",
    "        - Fill the column with the rigth category of insurens to future análisis\n",
    "        - Restart de 'current_cat' variable so you can use this in a lot of Data Frames\n",
    "    \"\"\"  \n",
    "    df['Categoría'] = None\n",
    "    current_cat = 'Patrimoniales y Mixtas'\n",
    "    \n",
    "    for i in range(len(df)):\n",
    "        if pd.isnull(df.iloc[i].NJ):\n",
    "            current_cat = df.iloc[i]['Denominación']\n",
    "        else:\n",
    "            df.loc[i,'Categoría'] = current_cat\n",
    "    \n",
    "    current_cat = 'Patrimoniales y Mixtas'\n",
    "    return df\n",
    "\n",
    "\n",
    "def tirar_resetear(df):\n",
    "    \"\"\"\n",
    "    What I need to work?\n",
    "        - The Data Frame to clean\n",
    "    What I do? \n",
    "        - Drop the rows you dont need\n",
    "        - Reset the index\n",
    "    \"\"\"\n",
    "    df.drop(df.index[[0,1,2,3,4,5]],inplace=True)\n",
    "    df.reset_index(drop=True, inplace=True)\n",
    "    \n",
    "    return df\n",
    "\n",
    "def a_categoria(df):\n",
    "    \"\"\"\n",
    "    What I need to work?\n",
    "        - The Data Frame\n",
    "    What I do? \n",
    "        - Turn into Category the columns that you tell me\n",
    "        - Drop the rows that you dont need\n",
    "    \"\"\"\n",
    "    df['Categoría'] = df['Categoría'].astype('category', inplace=True)\n",
    "    df['Denominación'] = df['Denominación'].astype('category', inplace=True)\n",
    "    df = df[~df.Categoría.isnull()]\n",
    "    df.reset_index(drop=True, inplace=True)\n",
    "    \n",
    "    return df\n",
    "\n",
    "def no_nan(df):\n",
    "    \"\"\"\n",
    "    What I need to work?\n",
    "        - The Data Frame to clean\n",
    "    What I do? \n",
    "        - Eliminate the null values, to avoid errors in the analisis \n",
    "    \"\"\"\n",
    "    df.replace('//',0,inplace=True)\n",
    "    df.replace('///',0,inplace=True)\n",
    "    return df\n",
    "\n",
    "def filtro_ramo(df, ramo):\n",
    "    \"\"\"\n",
    "    What I need to work?\n",
    "        - The Data Frame\n",
    "        - The insurance branch you want to filter\n",
    "    What I do? \n",
    "        - \n",
    "    \"\"\"\n",
    "    ramos = {'PAT':'Patrimoniales y Mixtas', \n",
    "             'ART':'Riesgos del Trabajo', \n",
    "             'TRANSPORTE':'Transporte Público Pasajeros', \n",
    "             'VIDA':'Seguros de Vida', \n",
    "             'RETIRO':'Seguros de Retiro'}\n",
    "    \n",
    "    return df[ df['Categoría']== ramos[ramo]]\n",
    "    \n",
    "def cleanData(l_enlaces, ramo):\n",
    "    \"\"\"\n",
    "    What I need to work?\n",
    "        - A list with the xls files order in descending date\n",
    "        - The insurance branch you want to filter\n",
    "    What I do? \n",
    "        - Convert the xls in data frames\n",
    "        - Clean the data frames\n",
    "        - Separate by branch\n",
    "        - Put it in a sigle csv that you can filter by branch or year\n",
    "    \"\"\"\n",
    "    l_dataframes = enlace_df(l_enlaces)  # Lista de enlaces \n",
    "    largo = len(l_dataframes)            # Largo de la lista \n",
    "    \n",
    "    df_Unido = pd.DataFrame()            # DF para guardar los df unidos\n",
    "    \n",
    "\n",
    "    for l, df in zip(range(largo),l_dataframes):\n",
    "        \n",
    "        tirar_resetear(df)               # Elimino las filas que no sirven y reseto el index\n",
    "\n",
    "        nuevas_columnas(df,l)            # Agregando la columna \"Fecha\" y \"Categoría\"\n",
    "        \n",
    "        identificador_ramo(df)           # Coloco los ramos\n",
    "\n",
    "        a_categoria(df)                  # Seteo como categorías las columnas y elimino las filas vacías\n",
    "\n",
    "        no_nan(df)                       # Eliminamos los valores invalidos del Data Frame\n",
    "        \n",
    "        df_Unido = df_Unido.append(filtro_ramo(df, ramo), ignore_index=True)\n",
    "    \n",
    "    \n",
    "    df_Unido.to_csv('./clean_data/{}2.csv'.format(ramo))\n",
    "    return \n"
   ]
  },
  {
   "cell_type": "code",
   "execution_count": 46,
   "metadata": {},
   "outputs": [],
   "source": [
    "cleanData(l_enlaces,'PAT')"
   ]
  },
  {
   "cell_type": "markdown",
   "metadata": {},
   "source": [
    " **Posibles ramos a elegir en la función:**\n",
    "* 'PAT' = Patrimoñales y Mixta\n",
    "* 'ART' = Riesgos del Trabajo\n",
    "* 'TRANSPORTE' = Transporte Público Pasajeros\n",
    "* 'VIDA' = Seguros de Vida\n",
    "* 'RETIRO' = Seguros de Retiro"
   ]
  },
  {
   "cell_type": "code",
   "execution_count": null,
   "metadata": {},
   "outputs": [],
   "source": []
  }
 ],
 "metadata": {
  "kernelspec": {
   "display_name": "Python 3",
   "language": "python",
   "name": "python3"
  },
  "language_info": {
   "codemirror_mode": {
    "name": "ipython",
    "version": 3
   },
   "file_extension": ".py",
   "mimetype": "text/x-python",
   "name": "python",
   "nbconvert_exporter": "python",
   "pygments_lexer": "ipython3",
   "version": "3.7.0"
  }
 },
 "nbformat": 4,
 "nbformat_minor": 2
}
