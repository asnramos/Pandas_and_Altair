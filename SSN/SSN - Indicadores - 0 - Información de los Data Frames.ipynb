{
 "cells": [
  {
   "cell_type": "markdown",
   "metadata": {},
   "source": [
    "# Información del archivo\n",
    "\n",
    "### Índices Generales\n",
    "- **A. Primas y Recargos emitidos en cada entidad / Primas y Recargos Emitidos en Total del Mercado**  \n",
    "Indica el tamaño de la entidad en relación a la producción total del mercado en %\n",
    "\n",
    "- **B. Cantidad de Juicios en Trámite**  \n",
    "Indica cifras absolutas, las mediciones y demandas judiciales entabladas y en tramitación contra cada aseguradora  \n",
    "\n",
    "### Índices Patrimoñales\n",
    "- **C. Créditos / Activo**  \n",
    "Proporción de Activo compuesta por importes adeudados a la entidad de asegurados, reaseguradores,  coaseguradores y cuentas a cobrar o créditos a favor en (%)\n",
    "\n",
    "- **D. (Disponibilidad + Inversiones) / Deudas con Asegurados**  \n",
    "Capacidad de respuesta de la aseguradora con sus bienes líquidos y cuasi líquidos, ante siniestros pendiente de pago y posibles reclamos de asegurados y terceros (en %)\n",
    "\n",
    "- **D'. (Disponibilidad + Inversiones + Inmuebles) / Deudas con Asegurados**  \n",
    "Capacidad de respuesta con sus bienes liquidos, cuasiliquidos e inmueblres ante siniestros pendientes de pago y posibles relcamos de asegurados y terceros (en %).  \n",
    "No se consideran los inmuebles de uso propio\n",
    "\n",
    "- **E. (Disponibilidad + Inversiones + Inmuebles) / Deudas con Asegurados + Compromisos Técnicos**  \n",
    "Representa la cobertura con que cuenta la aseguradora para afrontar riesgos y obligaciones con asegurados y terceros damnificados (en %) Incluye inmuebles de uso propio\n",
    "\n",
    "- **F. (Inversiones + Inmuebles) / Activos**  \n",
    "Expresa la parte proporcional del activo compuesta por inversiones e inmuebles destinados a renta o venta (Capital Invertido) (en %)  \n",
    "\n",
    "### Índices de Solvencia\n",
    "- **G. Superávit / Capital Requerido**  \n",
    "Indica el excedente de capital acreditado por la aseguradora, con relación al capital requerido por las normas vigentes (en %)\n",
    "- **G. (Disponibilidades + Inversiones) / Compromisos Exigibles**  \n",
    "Capacidad de respuesta de la seguradora con sus bienes de inmediata disponibilidad, ante el posible reclamo de deudas y compromsisos vencidos (cantidad de veces) en base a datos publicados en estado de cobertura de compromisos exigibles y siniestros liquidados a pagar.  \n",
    "  \n",
    "  \n",
    "**//     Valor porcentual superior a las tres cifras.  \n",
    "///    Indicador no disponible debido a la naturaleza del cálculo: divisor nulo o negativo.**"
   ]
  }
 ],
 "metadata": {
  "kernelspec": {
   "display_name": "Python 3",
   "language": "python",
   "name": "python3"
  },
  "language_info": {
   "codemirror_mode": {
    "name": "ipython",
    "version": 3
   },
   "file_extension": ".py",
   "mimetype": "text/x-python",
   "name": "python",
   "nbconvert_exporter": "python",
   "pygments_lexer": "ipython3",
   "version": "3.7.0"
  }
 },
 "nbformat": 4,
 "nbformat_minor": 2
}
