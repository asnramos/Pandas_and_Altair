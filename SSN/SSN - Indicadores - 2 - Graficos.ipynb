{
 "cells": [
  {
   "cell_type": "markdown",
   "metadata": {},
   "source": [
    "## Bibliotecas a utilizar"
   ]
  },
  {
   "cell_type": "code",
   "execution_count": 206,
   "metadata": {},
   "outputs": [],
   "source": [
    "import numpy as np\n",
    "import pandas as pd\n",
    "import matplotlib.pyplot as plt\n",
    "import seaborn as sns\n",
    "\n",
    "#%matplotlib inline"
   ]
  },
  {
   "cell_type": "markdown",
   "metadata": {},
   "source": [
    "## Enlaces"
   ]
  },
  {
   "cell_type": "code",
   "execution_count": 2,
   "metadata": {},
   "outputs": [],
   "source": [
    "enlace_PAT = './clean_data/PAT.csv'\n",
    "enlace_ART = './clean_data/ART.csv'\n",
    "enlace_TRANSPORTE = './clean_data/TRANSPORTE.csv'\n",
    "enlace_VIDA = './clean_data/VIDA.csv'\n",
    "enlace_RETIRO = './clean_data/RETIRO.csv'"
   ]
  },
  {
   "cell_type": "code",
   "execution_count": 1,
   "metadata": {},
   "outputs": [],
   "source": [
    " 0 a 25 | 25 a 70 | 70 a 200"
   ]
  },
  {
   "cell_type": "markdown",
   "metadata": {},
   "source": [
    "# % Mercado en los últimos años"
   ]
  },
  {
   "cell_type": "code",
   "execution_count": 204,
   "metadata": {},
   "outputs": [],
   "source": [
    "def porMercado(df, nombre='Test'):\n",
    "    \n",
    "    count = len(df.Fecha.unique())\n",
    "\n",
    "\n",
    "    # ============================ Iterando por fechas ===============================\n",
    "    for i in df.Fecha.unique():\n",
    "        tmp = df[df.Fecha == i]\n",
    "    \n",
    "    \n",
    "    # ============================== Valores dinámicos ===============================   \n",
    "        if nombre == 'PAT':\n",
    "            nramo = 'RIESGOS VARIOS' \n",
    "            fig = plt.figure(figsize=(900/96,1400/96),dpi=96)\n",
    "            plt.xlim(0,16)\n",
    "            plt.margins(y=0.01)\n",
    "            y_suptit = 0.94\n",
    "            y_text = -0.07\n",
    "            \n",
    "        elif nombre == 'ART':\n",
    "            nramo = 'ART'\n",
    "            fig = plt.figure(figsize=(900/96,900/96),dpi=96)\n",
    "            plt.xlim(0,25)\n",
    "            plt.margins(y=0.04)\n",
    "            y_suptit = 0.96\n",
    "            y_text = -0.10\n",
    "            \n",
    "        elif nombre == 'TRANSPORTE':\n",
    "            nramo = 'TRANSPORTE'\n",
    "            fig = plt.figure(figsize=(900/96,600/96),dpi=96)\n",
    "            plt.xlim(0,75)\n",
    "            plt.margins(y=0.04)\n",
    "            y_suptit = 1\n",
    "            y_text = -0.15\n",
    "            \n",
    "        elif nombre == 'VIDA':\n",
    "            nramo = 'VIDA'\n",
    "            fig = plt.figure(figsize=(900/96,900/96),dpi=96)\n",
    "            plt.xlim(0,50)\n",
    "            plt.margins(y=0.04)\n",
    "            y_suptit = 0.96\n",
    "            y_text = -0.10\n",
    "            \n",
    "        else:\n",
    "            nramo = 'RETIRO'\n",
    "            fig = plt.figure(figsize=(900/96,900/96),dpi=96)\n",
    "            plt.xlim(0,90)\n",
    "            plt.margins(y=0.04)\n",
    "            y_suptit = 0.96\n",
    "            y_text = -0.10\n",
    "\n",
    "\n",
    "    # ========================= Agregando celda % de Mercado =========================\n",
    "        p_mercado = tmp['%\\nProducción\\nTotal'].sum()\n",
    "        tmp['% Mercado'] = round(tmp['%\\nProducción\\nTotal']*100/p_mercado,2)\n",
    "        \n",
    "        \n",
    "    # ========================= Eliminando % de Mercado == 0 =========================\n",
    "        tmp_1 = tmp[tmp['% Mercado']>0]\n",
    "        \n",
    "        \n",
    "    # ============================== Realizando el plott =============================\n",
    "        sns.set_style('darkgrid')\n",
    "        ax = sns.scatterplot(x = '% Mercado',\n",
    "                             y = 'Denominación',\n",
    "                             size = '% Mercado',\n",
    "                             sizes = (100,700),\n",
    "                             hue = '% Mercado',\n",
    "                             data = tmp_1,\n",
    "                             palette = 'viridis',\n",
    "                            )\n",
    "        \n",
    "        \n",
    "    # ================================ Forma del plott ===============================\n",
    "        plt.suptitle('% DE MERCADO EN EL RAMO {}'.format(nramo), \n",
    "                     fontsize=18, fontweight='bold', y = y_suptit)\n",
    "        plt.ylabel('{}'.format(i), \n",
    "                   fontsize=16,fontweight='bold')\n",
    "        plt.xlabel('% de mercado', \n",
    "                   fontsize=16,fontweight='bold')\n",
    "        plt.legend(bbox_to_anchor=(0., 1.02, 1., .102), \n",
    "                   loc='lower left', ncol=6, \n",
    "                   mode=\"expand\", borderaxespad=0., )\n",
    "        plt.tick_params(axis='y', labelsize = 7, labelbottom = True ) # labelrotation=45, length=25, pad = 25,length=15, grid_linewidth = 3\n",
    "\n",
    "        plt.ylim()\n",
    "        plt.text(0.2, y_text, 'Ramiro Gallo - https://www.linkedin.com/in/ramirogallo', {'color': '#E91E63FF', 'fontsize': 14},\n",
    "         horizontalalignment='left',\n",
    "         verticalalignment='center',\n",
    "         clip_on=False,\n",
    "         transform=plt.gca().transAxes)\n",
    "        \n",
    "        \n",
    "    # ============================== Guardando el plott =============================\n",
    "        nombre_archivo = './plots/%_Mercado/porMercado_'+nombre+str(count).zfill(4)+'.jpg'       \n",
    "        plt.savefig(nombre_archivo, dpi=96,bbox_inches='tight')                      \n",
    "        plt.gca()\n",
    "        \n",
    "        count -= 1"
   ]
  },
  {
   "cell_type": "markdown",
   "metadata": {},
   "source": [
    "**Hacer gif Patrimonial**  \n",
    "convert -delay 100 -loop 1 porMercado_PAT*.jpg porMercado_PAT.gif  \n",
    "  \n",
    "**Hacer gif ART**  \n",
    "convert -delay 100 -loop 1 porMercado_ART*.jpg porMercado_ART.gif  \n",
    "  \n",
    "**Hacer gif Transporte**  \n",
    "convert -delay 100 -loop 1 porMercado_TRANSPORTE*.jpg porMercado_TRANSPORTE.gif  \n",
    "  \n",
    "**Hacer gif VIDA**  \n",
    "convert -delay 100 -loop 1 porMercado_VIDA*.jpg porMercado_VIDA.gif  \n",
    "  \n",
    "**Hacer gif Retiro**  \n",
    "convert -delay 100 -loop 1 porMercado_RETIRO*.jpg porMercado_RETIRO.gif"
   ]
  },
  {
   "cell_type": "code",
   "execution_count": 208,
   "metadata": {},
   "outputs": [],
   "source": [
    "df_PAT = pd.read_csv(enlace_PAT, index_col=0)\n",
    "df_ART = pd.read_csv(enlace_ART, index_col=0)\n",
    "df_TRANSPORTE = pd.read_csv(enlace_TRANSPORTE, index_col=0)\n",
    "df_VIDA = pd.read_csv(enlace_VIDA, index_col=0)\n",
    "df_RETIRO = pd.read_csv(enlace_RETIRO, index_col=0)\n",
    "\n",
    "#porMercado(df_PAT, 'PAT')\n",
    "#porMercado(df_ART, 'ART')\n",
    "#porMercado(df_TRANSPORTE, 'TRANSPORTE')\n",
    "#porMercado(df_VIDA, 'VIDA')\n",
    "#porMercado(df_RETIRO, 'RETIRO')"
   ]
  },
  {
   "cell_type": "code",
   "execution_count": null,
   "metadata": {},
   "outputs": [],
   "source": []
  },
  {
   "cell_type": "markdown",
   "metadata": {},
   "source": [
    "# % Mercado vs Capacidad Respuesta  -  Scatter Plot "
   ]
  },
  {
   "cell_type": "code",
   "execution_count": 13,
   "metadata": {},
   "outputs": [],
   "source": [
    "def mercVsCapacidad(df, nombre='Test'):\n",
    "    \n",
    "    count = len(df.Fecha.unique())\n",
    "\n",
    "\n",
    "    # ============================ Iterando por fechas ===============================\n",
    "    for i in df.Fecha.unique():\n",
    "        tmp = df[df.Fecha == i]\n",
    "    \n",
    "    \n",
    "    # ============================== Tamaño dinámico ================================\n",
    "        if len(tmp) <= 25:\n",
    "            fig = plt.figure(figsize=(900/96,600/96),dpi=96)\n",
    "        elif len(tmp) <= 70:\n",
    "            fig = plt.figure(figsize=(900/96,900/96),dpi=96)\n",
    "        else:\n",
    "            fig = plt.figure(figsize=(900/96,1400/96),dpi=96)\n",
    "\n",
    "        \n",
    "        \n",
    "    # ========================= Agregando celda % de Mercado =========================\n",
    "        p_mercado = tmp['%\\nProducción\\nTotal'].sum()\n",
    "        tmp['% Mercado'] = round(tmp['%\\nProducción\\nTotal']*100/p_mercado,2)\n",
    "       \n",
    "        \n",
    "    # ============================== Realizando el plott =============================\n",
    "        sns.set_style('darkgrid')\n",
    "        ax = sns.scatterplot(x = '%\\n[(Dispon.+ Invers.) /\\nDeudas c/Aseg.]',\n",
    "                             y = 'Denominación',\n",
    "                             size = '% Mercado',\n",
    "                             sizes = (100,700),\n",
    "                             hue = '% Mercado',\n",
    "                             data = tmp,\n",
    "                             palette = 'viridis',\n",
    "                            )\n",
    "        \n",
    "        \n",
    "    # ================================ Forma del plott ===============================\n",
    "        plt.suptitle('RELACIÓN % DE MERCADO VS CAPACIDAD DE RESPUESTA', \n",
    "                     fontsize=18, fontweight='bold', y = 1)\n",
    "        plt.ylabel('{}'.format(i), \n",
    "                   fontsize=16,fontweight='bold')\n",
    "        plt.xlabel('% de capacidad de respuesta', \n",
    "                   fontsize=16,fontweight='bold')\n",
    "        plt.legend(bbox_to_anchor=(0., 1.02, 1., .102), \n",
    "                   loc='lower left', ncol=5, \n",
    "                   mode=\"expand\", borderaxespad=0., )\n",
    "        plt.tick_params(axis='y', labelsize = 7, labelbottom = True ) # labelrotation=45, length=25, pad = 25,length=15, grid_linewidth = 3\n",
    "        plt.xlim(0,800)\n",
    "        plt.ylim()\n",
    "        plt.margins(y=0.01)\n",
    "        \n",
    "                    \n",
    "        \n",
    "    # ============================== Guardando el plott =============================\n",
    "        nombre_archivo = './plots/MercadoVsRespuesta/MercVsCap_'+nombre+str(count).zfill(4)+'.jpg'       \n",
    "        plt.savefig(nombre_archivo, dpi=96,bbox_inches='tight')                      \n",
    "        plt.gca()\n",
    "        \n",
    "        count -= 1"
   ]
  },
  {
   "cell_type": "code",
   "execution_count": 15,
   "metadata": {
    "scrolled": true
   },
   "outputs": [],
   "source": [
    "df_PAT = pd.read_csv(enlace_PAT, index_col=0)\n",
    "df_ART = pd.read_csv(enlace_ART, index_col=0)\n",
    "df_TRANSPORTE = pd.read_csv(enlace_TRANSPORTE, index_col=0)\n",
    "df_VIDA = pd.read_csv(enlace_VIDA, index_col=0)\n",
    "df_RETIRO = pd.read_csv(enlace_RETIRO, index_col=0)\n",
    "\n",
    "# mercVsCapacidad(df_PAT, nombre='PAT')"
   ]
  },
  {
   "cell_type": "code",
   "execution_count": 35,
   "metadata": {
    "scrolled": true
   },
   "outputs": [
    {
     "data": {
      "text/plain": [
       "array(['06-2018', '03-2018', '12-2017', '09-2017', '06-2017', '03-2017',\n",
       "       '12-2016', '09-2016', '06-2016', '03-2016', '12-2015', '09-2015',\n",
       "       '06-2015', '03-2015', '12-2014', '09-2014', '06-2014', '03-2014',\n",
       "       '12-2013', '09-2013', '06-2013', '03-2013', '12-2012', '09-2012',\n",
       "       '06-2012', '03-2012'], dtype=object)"
      ]
     },
     "execution_count": 35,
     "metadata": {},
     "output_type": "execute_result"
    }
   ],
   "source": [
    "dlist = df_ART.Fecha.unique()\n",
    "dlist"
   ]
  },
  {
   "cell_type": "code",
   "execution_count": 46,
   "metadata": {
    "scrolled": true
   },
   "outputs": [
    {
     "name": "stdout",
     "output_type": "stream",
     "text": [
      "13\n",
      "13\n",
      "13\n",
      "13\n",
      "13\n",
      "13\n",
      "12\n",
      "12\n",
      "12\n",
      "14\n",
      "14\n",
      "14\n",
      "14\n",
      "14\n",
      "14\n",
      "14\n",
      "14\n",
      "14\n",
      "15\n",
      "15\n",
      "16\n",
      "15\n",
      "15\n",
      "15\n",
      "15\n",
      "15\n"
     ]
    }
   ],
   "source": [
    "for d in range(len(dlist)):\n",
    "    print(len(df_ART[df_ART['Fecha'] == dlist[d]]))"
   ]
  },
  {
   "cell_type": "markdown",
   "metadata": {},
   "source": [
    "convert -delay 55 -loop 0 MercVsCap_PAT*.jpg MercVsCap_PAT.gif"
   ]
  },
  {
   "cell_type": "markdown",
   "metadata": {},
   "source": [
    "# % Mercado vs Superávit  -  Scatter Plot "
   ]
  },
  {
   "cell_type": "code",
   "execution_count": null,
   "metadata": {},
   "outputs": [],
   "source": []
  }
 ],
 "metadata": {
  "kernelspec": {
   "display_name": "Python 3",
   "language": "python",
   "name": "python3"
  },
  "language_info": {
   "codemirror_mode": {
    "name": "ipython",
    "version": 3
   },
   "file_extension": ".py",
   "mimetype": "text/x-python",
   "name": "python",
   "nbconvert_exporter": "python",
   "pygments_lexer": "ipython3",
   "version": "3.7.0"
  }
 },
 "nbformat": 4,
 "nbformat_minor": 2
}
