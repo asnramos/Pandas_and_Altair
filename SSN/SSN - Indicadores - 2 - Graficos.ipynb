{
 "cells": [
  {
   "cell_type": "markdown",
   "metadata": {},
   "source": [
    "## Bibliotecas a utilizar"
   ]
  },
  {
   "cell_type": "code",
   "execution_count": 83,
   "metadata": {},
   "outputs": [],
   "source": [
    "from os import scandir\n",
    "import numpy as np\n",
    "import pandas as pd\n",
    "import altair as alt\n",
    "from datetime import datetime\n",
    "\n",
    "import matplotlib.pyplot as plt\n",
    "import seaborn as sns\n",
    "\n",
    "%matplotlib inline"
   ]
  },
  {
   "cell_type": "markdown",
   "metadata": {},
   "source": [
    "## Enlaces"
   ]
  },
  {
   "cell_type": "code",
   "execution_count": 142,
   "metadata": {},
   "outputs": [],
   "source": [
    "def g_archivos(ruta = './clean_data/Indicadores_Gestion/'):\n",
    "    \"\"\" Generate the list with the path files of all files \"\"\"\n",
    "    return sorted([archivo.path for archivo in scandir(ruta) if archivo.is_file()])\n",
    "\n",
    "\n",
    "def enlace_df(ramo):\n",
    "    ramo = ramo.upper()\n",
    "    d_ramos = {'PAT': 0, 'ART': 1, 'TRANSPORTE': 2, 'VIDA': 3, 'RETIRO': 4}\n",
    "    l_enlaces = g_archivos()\n",
    "    return pd.read_csv(l_enlaces[d_ramos[ramo]], index_col=0)\n",
    "\n",
    "    \n",
    "def porcentaje_mercado(ramo):\n",
    "    df = enlace_df(ramo)                        # A: Now the CSV is a Data Frame\n",
    "#=================\n",
    "    df['Fecha'] = df['Fecha'].astype('category', inplace=True)\n",
    "#=================\n",
    "    l_fechas = df['Fecha'].unique()             # U: A list to iterate betwen the dates\n",
    "    count_fechas = len(l_fechas)                # ¿?\n",
    "    \n",
    "    for fecha in l_fechas:\n",
    "        tmp = df[df['Fecha'] == fecha]          # A: The Data Frame is filtered by year\n",
    "\n",
    "    return df\n",
    "    \n",
    "    \n",
    "tmp = porcentaje_mercado('RETIRO')\n",
    "source = tmp\n",
    "\n",
    "# https://altair-viz.github.io/gallery/select_detail.html\n"
   ]
  },
  {
   "cell_type": "code",
   "execution_count": null,
   "metadata": {},
   "outputs": [],
   "source": [
    "def grafico(tipo):\n",
    "    dict_var = {'Mercado': { 'x':'Fecha', 'x_title':'Trimestres', 'y':'% Mercado', 'y_title':'% Mercado',\n",
    "                            'color':'Denominación'},\n",
    "                'Respuesta': { 'x':'Fecha', 'x_title':'Trimestres', 'y':'%\\n[(Dispon.+ Invers.) /\\nDeudas c/Aseg.]:Q', 'y_title':'Respuesta',\n",
    "                              'color':'Denominación'} }\n",
    "    \n",
    "    color = alt.Color(dict_var[tipo]['color'])\n",
    "    x = alt.X(dict_var[tipo]['x'], axis = alt.Axis(title = dict_var[tipo]['x_title'], grid = False))\n",
    "    y = alt.Y(dict_var[tipo]['y'], axis = alt.Axis(title = dict_var[tipo]['y_title'], grid = True))\n",
    "\n",
    "    chart = alt.Chart(source).mark_line().encode(\n",
    "                       x = x, y = y,  color = color\n",
    "                       )\n",
    "    return chart"
   ]
  },
  {
   "cell_type": "code",
   "execution_count": null,
   "metadata": {},
   "outputs": [],
   "source": [
    "grafico('Mercado')"
   ]
  },
  {
   "cell_type": "markdown",
   "metadata": {},
   "source": [
    "## Water Mark\n",
    "- To try"
   ]
  },
  {
   "cell_type": "code",
   "execution_count": null,
   "metadata": {},
   "outputs": [],
   "source": [
    "watermark = alt.Chart(fada).mark_text(\n",
    "        align='center', fontSize=48, fontWeight=200, opacity=0.5, text='foo-baz'\n",
    "    ).encode(\n",
    "        x='mean(x)',\n",
    "        y='mean(sin(x))',\n",
    "        opacity=alt.value(0.5)\n",
    "    )\n"
   ]
  },
  {
   "cell_type": "markdown",
   "metadata": {},
   "source": [
    "## Other Example"
   ]
  },
  {
   "cell_type": "code",
   "execution_count": 145,
   "metadata": {},
   "outputs": [],
   "source": [
    "\n",
    "\n",
    "# ========== Conditional Variables ==========\n",
    "selection = alt.selection_multi(fields=['Fecha'])\n",
    "\n",
    "color = alt.condition(selection, alt.Color(shorthand='Fecha:N', legend = None, ),#scale=\n",
    "                                 alt.value(0), \n",
    "                     )\n",
    "\n",
    "# ============= Chart Variables =============\n",
    "scatter_x = alt.X('% Mercado',axis = alt.Axis(grid=False, title= '% De Mercado')\n",
    "                 )\n",
    "scatter_y = alt.Y('Denominación', axis = alt.Axis(title='Compañías', grid=True)\n",
    "                 )\n",
    "legend_y = alt.Y('Fecha:N', axis=alt.Axis(orient='right'))\n",
    "\n",
    "\n",
    "# ================= Grafico =================\n",
    "scatter = alt.Chart(source, title = \"% De Mercado Ramo\").mark_circle().encode(\n",
    "                    x = scatter_x, y = scatter_y, color = color, size = alt.Size('% Mercado', legend = None,))\n",
    "\n",
    "legend = alt.Chart(source).mark_point().encode(    \n",
    "                y=legend_y,color = color).add_selection(selection)\n",
    "\n",
    "\n",
    "chart = scatter | legend\n",
    "#chart.save('./plots/%_Mercado/Scatter_porMercado_RETIRO.html')\n",
    "#chart\n",
    "\n",
    "# https://altair-viz.github.io/gallery/seattle_weather_interactive.html\n",
    "# https://altair-viz.github.io/user_guide/interactions.html"
   ]
  },
  {
   "cell_type": "markdown",
   "metadata": {},
   "source": []
  },
  {
   "cell_type": "markdown",
   "metadata": {},
   "source": [
    "# **Original Plots**"
   ]
  },
  {
   "cell_type": "markdown",
   "metadata": {},
   "source": [
    "# % Mercado en los últimos años"
   ]
  },
  {
   "cell_type": "code",
   "execution_count": null,
   "metadata": {},
   "outputs": [],
   "source": [
    "enlace_PAT = './clean_data/PAT.csv'\n",
    "enlace_ART = './clean_data/ART.csv'\n",
    "enlace_TRANSPORTE = './clean_data/TRANSPORTE.csv'\n",
    "enlace_VIDA = './clean_data/VIDA.csv'\n",
    "enlace_RETIRO = './clean_data/RETIRO.csv'"
   ]
  },
  {
   "cell_type": "code",
   "execution_count": 10,
   "metadata": {},
   "outputs": [],
   "source": [
    "def porMercado(df, nombre='Test'):\n",
    "    \n",
    "    count = len(df.Fecha.unique())\n",
    "\n",
    "\n",
    "    # ============================ Iterando por fechas ===============================\n",
    "    for i in df.Fecha.unique():\n",
    "        tmp = df[df.Fecha == i]\n",
    "        \n",
    "        \n",
    "    # ========================= Agregando celda % de Mercado =========================\n",
    "        p_mercado = tmp['%\\nProducción\\nTotal'].sum()\n",
    "        tmp['% Mercado'] = round(tmp['%\\nProducción\\nTotal']*100/p_mercado,2)\n",
    "        \n",
    "        \n",
    "    # ========================= Eliminando % de Mercado == 0 =========================\n",
    "        tmp_1 = tmp[tmp['% Mercado']>0]\n",
    "        \n",
    "        \n",
    "    # ============================== Valores dinámicos ===============================   \n",
    "        if nombre == 'PAT':\n",
    "            nramo = 'RIESGOS VARIOS' \n",
    "            fig = plt.figure(figsize=(900/96,1400/96),dpi=96)\n",
    "            plt.xlim(0,16)\n",
    "            plt.margins(y=0.01)\n",
    "            y_suptit = 0.94\n",
    "            y_text = -0.07\n",
    "            \n",
    "        elif nombre == 'ART':\n",
    "            nramo = 'ART'\n",
    "            fig = plt.figure(figsize=(900/96,900/96),dpi=96)\n",
    "            plt.xlim(0,25)\n",
    "            plt.margins(y=0.04)\n",
    "            y_suptit = 0.96\n",
    "            y_text = -0.10\n",
    "            \n",
    "        elif nombre == 'TRANSPORTE':\n",
    "            nramo = 'TRANSPORTE'\n",
    "            fig = plt.figure(figsize=(900/96,600/96),dpi=96)\n",
    "            plt.xlim(0,75)\n",
    "            plt.margins(y=0.04)\n",
    "            y_suptit = 1\n",
    "            y_text = -0.15\n",
    "            \n",
    "        elif nombre == 'VIDA':\n",
    "            nramo = 'VIDA'\n",
    "            fig = plt.figure(figsize=(900/96,900/96),dpi=96)\n",
    "            plt.xlim(0,50)\n",
    "            plt.margins(y=0.04)\n",
    "            y_suptit = 0.96\n",
    "            y_text = -0.10\n",
    "            \n",
    "        else:\n",
    "            nramo = 'RETIRO'\n",
    "            fig = plt.figure(figsize=(900/96,900/96),dpi=96)\n",
    "            plt.xlim(0,90)\n",
    "            plt.margins(y=0.04)\n",
    "            y_suptit = 0.96\n",
    "            y_text = -0.10\n",
    "            \n",
    "            \n",
    "    # ============================== Realizando el plott =============================\n",
    "        sns.set_style('darkgrid')\n",
    "        ax = sns.scatterplot(x = '% Mercado',\n",
    "                             y = 'Denominación',\n",
    "                             size = '% Mercado',\n",
    "                             sizes = (100,700),\n",
    "                             hue = '% Mercado',\n",
    "                             data = tmp_1,\n",
    "                             palette = 'viridis',\n",
    "                            )\n",
    "      \n",
    "        \n",
    "    # ================================ Forma del plott ===============================\n",
    "        plt.suptitle('% DE MERCADO EN EL RAMO {}'.format(nramo), \n",
    "                     fontsize=18, fontweight='bold', y = y_suptit)\n",
    "        plt.ylabel('{}'.format(i), \n",
    "                   fontsize=16,fontweight='bold')\n",
    "        plt.xlabel('% de mercado', \n",
    "                   fontsize=16,fontweight='bold')\n",
    "        plt.legend(bbox_to_anchor=(0., 1.02, 1., .102), \n",
    "                   loc='lower left', ncol=6, \n",
    "                   mode=\"expand\", borderaxespad=0., )\n",
    "        plt.tick_params(axis='y', labelsize = 7, labelbottom = True ) # labelrotation=45, length=25, pad = 25,length=15, grid_linewidth = 3\n",
    "\n",
    "        plt.ylim()\n",
    "        plt.text(0.2, y_text, 'Ramiro Gallo - https://www.linkedin.com/in/ramirogallo', {'color': '#E91E63FF', 'fontsize': 14},\n",
    "                 horizontalalignment='left', verticalalignment='center', clip_on=False, transform=plt.gca().transAxes)\n",
    "        \n",
    "\n",
    "    # ============================== Guardando el plott =============================\n",
    "        nombre_archivo = './plots/%_Mercado/porMercado_'+nombre+str(count).zfill(4)+'.jpg'       \n",
    "        plt.savefig(nombre_archivo, dpi=96,bbox_inches='tight')                      \n",
    "        plt.gca()\n",
    "        \n",
    "        count -= 1\n",
    "        \n",
    "    "
   ]
  },
  {
   "cell_type": "markdown",
   "metadata": {},
   "source": [
    "**Hacer gif Patrimonial**  \n",
    "convert -delay 100 -loop 1 porMercado_PAT*.jpg porMercado_PAT.gif  \n",
    "  \n",
    "**Hacer gif ART**  \n",
    "convert -delay 100 -loop 1 porMercado_ART*.jpg porMercado_ART.gif  \n",
    "  \n",
    "**Hacer gif Transporte**  \n",
    "convert -delay 100 -loop 1 porMercado_TRANSPORTE*.jpg porMercado_TRANSPORTE.gif  \n",
    "  \n",
    "**Hacer gif VIDA**  \n",
    "convert -delay 100 -loop 1 porMercado_VIDA*.jpg porMercado_VIDA.gif  \n",
    "  \n",
    "**Hacer gif Retiro**  \n",
    "convert -delay 100 -loop 1 porMercado_RETIRO*.jpg porMercado_RETIRO.gif"
   ]
  },
  {
   "cell_type": "code",
   "execution_count": 13,
   "metadata": {},
   "outputs": [],
   "source": [
    "df_PAT = pd.read_csv(enlace_PAT, index_col=0)\n",
    "df_ART = pd.read_csv(enlace_ART, index_col=0)\n",
    "df_TRANSPORTE = pd.read_csv(enlace_TRANSPORTE, index_col=0)\n",
    "df_VIDA = pd.read_csv(enlace_VIDA, index_col=0)\n",
    "df_RETIRO = pd.read_csv(enlace_RETIRO, index_col=0)\n",
    "\n",
    "#porMercado(df_PAT, 'PAT')\n",
    "#porMercado(df_ART, 'ART')\n",
    "#porMercado(df_TRANSPORTE, 'TRANSPORTE')\n",
    "#porMercado(df_VIDA, 'VIDA')\n",
    "#porMercado(df_RETIRO, 'RETIRO')"
   ]
  },
  {
   "cell_type": "code",
   "execution_count": null,
   "metadata": {},
   "outputs": [],
   "source": []
  },
  {
   "cell_type": "markdown",
   "metadata": {},
   "source": [
    "# % Mercado vs Capacidad Respuesta  -  Scatter Plot "
   ]
  },
  {
   "cell_type": "code",
   "execution_count": 42,
   "metadata": {},
   "outputs": [],
   "source": [
    "def mercVsCapacidad(df, nombre='Test'):\n",
    "    \n",
    "    count = len(df.Fecha.unique())\n",
    "\n",
    "\n",
    "    # ============================ Iterando por fechas ===============================\n",
    "    for i in df.Fecha.unique():\n",
    "        tmp = df[df.Fecha == i]\n",
    "    \n",
    "    \n",
    "    # ============================== Valores dinámicos ===============================   \n",
    "        if nombre == 'PAT':\n",
    "            nramo = 'RIESGOS VARIOS' \n",
    "            fig = plt.figure(figsize=(900/96,1400/96),dpi=96)\n",
    "            plt.xlim(0,16)\n",
    "            plt.margins(y=0.01)\n",
    "            y_suptit = 0.96\n",
    "            y_text = -0.07\n",
    "            \n",
    "        elif nombre == 'ART':\n",
    "            nramo = 'ART'\n",
    "            fig = plt.figure(figsize=(900/96,900/96),dpi=96)\n",
    "            plt.xlim(0,25)\n",
    "            plt.margins(y=0.04)\n",
    "            y_suptit = 0.99\n",
    "            y_text = -0.10\n",
    "            \n",
    "        elif nombre == 'TRANSPORTE':\n",
    "            nramo = 'TRANSPORTE'\n",
    "            fig = plt.figure(figsize=(900/96,600/96),dpi=96)\n",
    "            plt.xlim(0,75)\n",
    "            plt.margins(y=0.04)\n",
    "            y_suptit = 1.06\n",
    "            y_text = -0.15\n",
    "            \n",
    "        elif nombre == 'VIDA':\n",
    "            nramo = 'VIDA'\n",
    "            fig = plt.figure(figsize=(900/96,900/96),dpi=96)\n",
    "            plt.xlim(0,50)\n",
    "            plt.margins(y=0.04)\n",
    "            y_suptit = 0.99\n",
    "            y_text = -0.10\n",
    "            \n",
    "        else:\n",
    "            nramo = 'RETIRO'\n",
    "            fig = plt.figure(figsize=(900/96,900/96),dpi=96)\n",
    "            plt.xlim(0,90)\n",
    "            plt.margins(y=0.04)\n",
    "            y_suptit = 1\n",
    "            y_text = -0.10\n",
    "        \n",
    "    # ========================= Agregando celda % de Mercado =========================\n",
    "        p_mercado = tmp['%\\nProducción\\nTotal'].sum()\n",
    "        tmp['% Mercado'] = round(tmp['%\\nProducción\\nTotal']*100/p_mercado,2)\n",
    "       \n",
    "        \n",
    "    # ============================== Realizando el plott =============================\n",
    "        sns.set_style('darkgrid')\n",
    "        ax = sns.scatterplot(x = '% Mercado',\n",
    "                             y = 'Denominación',\n",
    "                             size = '%\\n[(Dispon.+ Invers.) /\\nDeudas c/Aseg.]',\n",
    "                             sizes = (100,700),\n",
    "                             hue = '%\\n[(Dispon.+ Invers.) /\\nDeudas c/Aseg.]',\n",
    "                             data = tmp,\n",
    "                             palette = 'viridis',\n",
    "                            )\n",
    "        \n",
    "        \n",
    "    # ================================ Forma del plott ===============================\n",
    "        plt.suptitle('% CAPACIDAD DE RESPUESTA EN EL RAMO {}'.format(nramo), \n",
    "                     fontsize=18, fontweight='bold', y = y_suptit)\n",
    "        plt.ylabel('{}'.format(i), \n",
    "                   fontsize=16,fontweight='bold')\n",
    "        plt.xlabel('% de mercado', \n",
    "                   fontsize=16,fontweight='bold')\n",
    "        plt.legend(bbox_to_anchor=(0., 1.02, 1., .102), loc='lower left', ncol=5, \n",
    "                   mode=\"expand\", borderaxespad=0., )\n",
    "        plt.tick_params(axis='y', labelsize = 8, labelbottom = True ) # labelrotation=45, length=25, pad = 25,length=15, grid_linewidth = 3\n",
    "        plt.ylim()\n",
    "        plt.text(0.2, y_text, 'Ramiro Gallo - https://www.linkedin.com/in/ramirogallo', {'color': '#E91E63FF', 'fontsize': 14},\n",
    "                 horizontalalignment='left', verticalalignment='center', clip_on=False, transform=plt.gca().transAxes)\n",
    "        \n",
    "        \n",
    "    # ============================== Guardando el plott =============================\n",
    "        nombre_archivo = './plots/MercadoVsRespuesta/MercVsCap_'+nombre+str(count).zfill(4)+'.jpg'       \n",
    "        plt.savefig(nombre_archivo, dpi=96,bbox_inches='tight')                      \n",
    "        plt.gca()\n",
    "        \n",
    "        count -= 1"
   ]
  },
  {
   "cell_type": "code",
   "execution_count": 44,
   "metadata": {
    "scrolled": true
   },
   "outputs": [],
   "source": [
    "df_PAT = pd.read_csv(enlace_PAT, index_col=0)\n",
    "df_ART = pd.read_csv(enlace_ART, index_col=0)\n",
    "df_TRANSPORTE = pd.read_csv(enlace_TRANSPORTE, index_col=0)\n",
    "df_VIDA = pd.read_csv(enlace_VIDA, index_col=0)\n",
    "df_RETIRO = pd.read_csv(enlace_RETIRO, index_col=0)\n",
    "\n",
    "#mercVsCapacidad(df_PAT, 'PAT')\n",
    "#mercVsCapacidad(df_ART, 'ART')\n",
    "#mercVsCapacidad(df_TRANSPORTE, 'TRANSPORTE')\n",
    "#mercVsCapacidad(df_VIDA, 'VIDA')\n",
    "#mercVsCapacidad(df_RETIRO, 'RETIRO')"
   ]
  },
  {
   "cell_type": "markdown",
   "metadata": {},
   "source": [
    "**Hacer gif Patrimonial**  \n",
    "convert -delay 100 -loop 1 MercVsCap_PAT*.jpg MercVsCap_PAT.gif  \n",
    "  \n",
    "**Hacer gif ART**  \n",
    "convert -delay 100 -loop 1 MercVsCap_ART*.jpg MercVsCap_ART.gif  \n",
    "  \n",
    "**Hacer gif Transporte**  \n",
    "convert -delay 100 -loop 1 MercVsCap_TRANSPORTE*.jpg MercVsCap_TRANSPORTE.gif  \n",
    "  \n",
    "**Hacer gif VIDA**  \n",
    "convert -delay 100 -loop 1 MercVsCap_VIDA*.jpg MercVsCap_VIDA.gif  \n",
    "  \n",
    "**Hacer gif Retiro**  \n",
    "convert -delay 100 -loop 1 MercVsCap_RETIRO*.jpg MercVsCap_RETIRO.gif"
   ]
  },
  {
   "cell_type": "code",
   "execution_count": 35,
   "metadata": {
    "scrolled": true
   },
   "outputs": [
    {
     "data": {
      "text/plain": [
       "array(['06-2018', '03-2018', '12-2017', '09-2017', '06-2017', '03-2017',\n",
       "       '12-2016', '09-2016', '06-2016', '03-2016', '12-2015', '09-2015',\n",
       "       '06-2015', '03-2015', '12-2014', '09-2014', '06-2014', '03-2014',\n",
       "       '12-2013', '09-2013', '06-2013', '03-2013', '12-2012', '09-2012',\n",
       "       '06-2012', '03-2012'], dtype=object)"
      ]
     },
     "execution_count": 35,
     "metadata": {},
     "output_type": "execute_result"
    }
   ],
   "source": [
    "dlist = df_ART.Fecha.unique()\n",
    "dlist"
   ]
  },
  {
   "cell_type": "markdown",
   "metadata": {},
   "source": [
    "convert -delay 55 -loop 0 MercVsCap_PAT*.jpg MercVsCap_PAT.gif"
   ]
  },
  {
   "cell_type": "markdown",
   "metadata": {},
   "source": [
    "# % Mercado vs Superávit  -  Scatter Plot "
   ]
  },
  {
   "cell_type": "code",
   "execution_count": null,
   "metadata": {},
   "outputs": [],
   "source": []
  }
 ],
 "metadata": {
  "kernelspec": {
   "display_name": "Python 3",
   "language": "python",
   "name": "python3"
  },
  "language_info": {
   "codemirror_mode": {
    "name": "ipython",
    "version": 3
   },
   "file_extension": ".py",
   "mimetype": "text/x-python",
   "name": "python",
   "nbconvert_exporter": "python",
   "pygments_lexer": "ipython3",
   "version": "3.7.0"
  }
 },
 "nbformat": 4,
 "nbformat_minor": 2
}
