{
 "cells": [
  {
   "cell_type": "markdown",
   "metadata": {},
   "source": [
    "## Bibliotecas a utilizar"
   ]
  },
  {
   "cell_type": "code",
   "execution_count": 42,
   "metadata": {},
   "outputs": [],
   "source": [
    "import numpy as np\n",
    "import pandas as pd\n",
    "import matplotlib.pyplot as plt\n",
    "import seaborn as sns\n",
    "\n",
    "%matplotlib inline"
   ]
  },
  {
   "cell_type": "markdown",
   "metadata": {},
   "source": [
    "## Enlaces"
   ]
  },
  {
   "cell_type": "code",
   "execution_count": 43,
   "metadata": {},
   "outputs": [],
   "source": [
    "enlace_PAT = './clean_data/PAT.csv'\n",
    "enlace_ART = './clean_data/ART.csv'\n",
    "enlace_TRANSPORTE = './clean_data/TRANSPORTE.csv'\n",
    "enlace_VIDA = './clean_data/VIDA.csv'\n",
    "enlace_RETIRO = './clean_data/RETIRO.csv'"
   ]
  },
  {
   "cell_type": "code",
   "execution_count": null,
   "metadata": {},
   "outputs": [],
   "source": []
  },
  {
   "cell_type": "code",
   "execution_count": null,
   "metadata": {},
   "outputs": [],
   "source": []
  },
  {
   "cell_type": "code",
   "execution_count": 44,
   "metadata": {},
   "outputs": [
    {
     "data": {
      "text/html": [
       "<div>\n",
       "<style scoped>\n",
       "    .dataframe tbody tr th:only-of-type {\n",
       "        vertical-align: middle;\n",
       "    }\n",
       "\n",
       "    .dataframe tbody tr th {\n",
       "        vertical-align: top;\n",
       "    }\n",
       "\n",
       "    .dataframe thead th {\n",
       "        text-align: right;\n",
       "    }\n",
       "</style>\n",
       "<table border=\"1\" class=\"dataframe\">\n",
       "  <thead>\n",
       "    <tr style=\"text-align: right;\">\n",
       "      <th></th>\n",
       "      <th>Nº</th>\n",
       "      <th>NJ</th>\n",
       "      <th>Denominación</th>\n",
       "      <th>%\n",
       "Producción\n",
       "Total</th>\n",
       "      <th>Cantidad\n",
       "de\n",
       "Juicios</th>\n",
       "      <th>%\n",
       "(Créditos/\n",
       "Activos)</th>\n",
       "      <th>%\n",
       "[(Dispon.+ Invers.) /\n",
       "Deudas c/Aseg.]</th>\n",
       "      <th>%\n",
       "[(Dispon.+ Invers. + Inmuebles) /\n",
       "Deudas c/Aseg.]</th>\n",
       "      <th>%\n",
       "[(Dispon.+ Invers.+ Inmueb.) /\n",
       "(Deudas c/Aseg.+ Comp.Técn.)]</th>\n",
       "      <th>% \n",
       "(Inversiones + Inmuebles) /\n",
       "Activos</th>\n",
       "      <th>%\n",
       "Superávit /\n",
       "Capital Requerido</th>\n",
       "      <th>[(Dispon.+ Invers.) /\n",
       "Compromisos Exigibles]</th>\n",
       "      <th>Fecha</th>\n",
       "      <th>Categoría</th>\n",
       "    </tr>\n",
       "  </thead>\n",
       "  <tbody>\n",
       "    <tr>\n",
       "      <th>0</th>\n",
       "      <td>1.0</td>\n",
       "      <td>A</td>\n",
       "      <td>ASOCIART ART</td>\n",
       "      <td>2.404716</td>\n",
       "      <td>32325.0</td>\n",
       "      <td>6.716666</td>\n",
       "      <td>123.659607</td>\n",
       "      <td>123.659607</td>\n",
       "      <td>116.932102</td>\n",
       "      <td>92.070193</td>\n",
       "      <td>3.589956</td>\n",
       "      <td>56.582875</td>\n",
       "      <td>06-2018</td>\n",
       "      <td>Riesgos del Trabajo</td>\n",
       "    </tr>\n",
       "    <tr>\n",
       "      <th>1</th>\n",
       "      <td>2.0</td>\n",
       "      <td>A</td>\n",
       "      <td>BERKLEY ART</td>\n",
       "      <td>0.410142</td>\n",
       "      <td>2450.0</td>\n",
       "      <td>6.776976</td>\n",
       "      <td>292.023033</td>\n",
       "      <td>292.023033</td>\n",
       "      <td>285.725608</td>\n",
       "      <td>92.644404</td>\n",
       "      <td>988.110009</td>\n",
       "      <td>21.601592</td>\n",
       "      <td>06-2018</td>\n",
       "      <td>Riesgos del Trabajo</td>\n",
       "    </tr>\n",
       "  </tbody>\n",
       "</table>\n",
       "</div>"
      ],
      "text/plain": [
       "    Nº NJ  Denominación  %\\nProducción\\nTotal  Cantidad\\nde\\nJuicios   \\\n",
       "0  1.0  A  ASOCIART ART              2.404716                 32325.0   \n",
       "1  2.0  A   BERKLEY ART              0.410142                  2450.0   \n",
       "\n",
       "   %\\n(Créditos/\\nActivos)  %\\n[(Dispon.+ Invers.) /\\nDeudas c/Aseg.]  \\\n",
       "0                 6.716666                                 123.659607   \n",
       "1                 6.776976                                 292.023033   \n",
       "\n",
       "   %\\n[(Dispon.+ Invers. + Inmuebles) /\\nDeudas c/Aseg.]  \\\n",
       "0                                         123.659607       \n",
       "1                                         292.023033       \n",
       "\n",
       "   %\\n[(Dispon.+ Invers.+ Inmueb.) /\\n(Deudas c/Aseg.+ Comp.Técn.)]  \\\n",
       "0                                         116.932102                  \n",
       "1                                         285.725608                  \n",
       "\n",
       "   % \\n(Inversiones + Inmuebles) /\\nActivos  \\\n",
       "0                                 92.070193   \n",
       "1                                 92.644404   \n",
       "\n",
       "   %\\nSuperávit /\\nCapital Requerido  \\\n",
       "0                           3.589956   \n",
       "1                         988.110009   \n",
       "\n",
       "   [(Dispon.+ Invers.) /\\nCompromisos Exigibles]    Fecha            Categoría  \n",
       "0                                      56.582875  06-2018  Riesgos del Trabajo  \n",
       "1                                      21.601592  06-2018  Riesgos del Trabajo  "
      ]
     },
     "execution_count": 44,
     "metadata": {},
     "output_type": "execute_result"
    }
   ],
   "source": [
    "df_ART.head(2)"
   ]
  },
  {
   "cell_type": "code",
   "execution_count": 56,
   "metadata": {},
   "outputs": [],
   "source": [
    "def mercVsCapacidad(df, nombre='Test'):\n",
    "    \n",
    "    count = len(df.Fecha.unique())\n",
    "    \n",
    "    for i in df.Fecha.unique():\n",
    "        tmp = df[df.Fecha == i]\n",
    "        \n",
    "    # ========================= Agregando celda % de Mercado =========================\n",
    "        p_mercado = tmp['%\\nProducción\\nTotal'].sum()\n",
    "        tmp['% Mercado'] = round(tmp['%\\nProducción\\nTotal']*100/p_mercado,2)\n",
    "\n",
    "\n",
    "    # ============================== Realizando el plott =============================\n",
    "        sns.set_style('darkgrid')\n",
    "        fig = plt.figure(figsize=(900/96,600/96),dpi=96)\n",
    "        ax = sns.scatterplot(x = '%\\n[(Dispon.+ Invers.) /\\nDeudas c/Aseg.]',\n",
    "                             y= 'Denominación',\n",
    "                             size = '% Mercado',\n",
    "                             sizes = (100,700),\n",
    "                             hue = '% Mercado',\n",
    "                             data = tmp,\n",
    "                             palette = 'viridis',\n",
    "                            )\n",
    "        \n",
    "    # ================================ Forma del plott ===============================\n",
    "        plt.suptitle('RELACIÓN % DE MERCADO VS CAPACIDAD DE RESPUESTA', \n",
    "                     fontsize=18, fontweight='bold', y = 1)\n",
    "        plt.ylabel('{}'.format(i), \n",
    "                   fontsize=16,fontweight='bold')\n",
    "        plt.xlabel('% de capacidad de respuesta', \n",
    "                   fontsize=16,fontweight='bold')\n",
    "        plt.legend(bbox_to_anchor=(0., 1.02, 1., .102), \n",
    "                   loc='lower left', ncol=5, \n",
    "                   mode=\"expand\", borderaxespad=0., )\n",
    "        plt.xlim(0,800)\n",
    "        plt.ylim()\n",
    "        \n",
    "    # ============================== Guardando el plott =============================\n",
    "        nombre_archivo = './plots/MercVsCap_'+nombre+str(count).zfill(4)+'.jpg'       \n",
    "        plt.savefig(nombre_archivo, dpi=96,bbox_inches='tight')                      \n",
    "        #plt.gca()\n",
    "        \n",
    "        count -= 1"
   ]
  },
  {
   "cell_type": "code",
   "execution_count": 58,
   "metadata": {
    "scrolled": true
   },
   "outputs": [],
   "source": [
    "df_PAT = pd.read_csv(enlace_PAT, index_col=0)\n",
    "df_ART = pd.read_csv(enlace_ART, index_col=0)\n",
    "df_TRANSPORTE = pd.read_csv(enlace_TRANSPORTE, index_col=0)\n",
    "df_VIDA = pd.read_csv(enlace_VIDA, index_col=0)\n",
    "df_RETIRO = pd.read_csv(enlace_RETIRO, index_col=0)\n",
    "\n",
    "mercVsCapacidad(df_ART, nombre='ART')"
   ]
  },
  {
   "cell_type": "code",
   "execution_count": null,
   "metadata": {},
   "outputs": [],
   "source": []
  },
  {
   "cell_type": "code",
   "execution_count": null,
   "metadata": {},
   "outputs": [],
   "source": []
  }
 ],
 "metadata": {
  "kernelspec": {
   "display_name": "Python 3",
   "language": "python",
   "name": "python3"
  },
  "language_info": {
   "codemirror_mode": {
    "name": "ipython",
    "version": 3
   },
   "file_extension": ".py",
   "mimetype": "text/x-python",
   "name": "python",
   "nbconvert_exporter": "python",
   "pygments_lexer": "ipython3",
   "version": "3.7.0"
  }
 },
 "nbformat": 4,
 "nbformat_minor": 2
}
