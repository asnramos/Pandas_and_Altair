{
 "cells": [
  {
   "cell_type": "code",
   "execution_count": 1,
   "metadata": {},
   "outputs": [],
   "source": [
    "import pandas as pd\n",
    "import altair as alt\n",
    "\n",
    "import numpy as np\n",
    "from datetime import datetime"
   ]
  },
  {
   "cell_type": "code",
   "execution_count": 2,
   "metadata": {},
   "outputs": [],
   "source": [
    "def line_bars_grafico(df_anio, df_ramo):\n",
    "    \n",
    "    # Variables to melt\n",
    "    l_operaciones = ['Emisiones','Refa_Reno','Anulaciones','Otros_Endosos']\n",
    "    l_vars = ['Fecha','Año','Ramo']\n",
    "\n",
    "    # Data sources\n",
    "    s_anio = pd.melt(df_anio, id_vars=l_vars[:2] , value_vars=l_operaciones)\n",
    "    s_ramo = pd.melt(df_ramo, id_vars=l_vars , value_vars=l_operaciones)\n",
    "    \n",
    "\n",
    "    # Conditional Variables\n",
    "    brush = alt.selection_interval(encodings=['x'])  # U: Active on the top panel \n",
    "    click = alt.selection_multi(encodings=['color']) # U: Active on the bottom panel \n",
    "\n",
    "    \n",
    "    # Chart Variables\n",
    "    x_line = alt.X('Fecha', axis = alt.Axis(title = 'Fechas', grid = False, labelAngle=-45))\n",
    "    y_line = alt.Y('value', axis = alt.Axis(title = 'Nº Operaciones', grid = True))\n",
    "    color_line = alt.condition(brush, alt.Color(shorthand='variable:N'), alt.value('lightgray'))\n",
    "    \n",
    "    x_bar = alt.X('value', axis = alt.Axis(title = 'Cantidad de Operaciones', grid = True))\n",
    "    y_bar = alt.Y('Ramo', axis = alt.Axis(title = 'Ramos', grid = False))   \n",
    "    color_bar = alt.condition(click, alt.Color(shorthand='variable:N'), alt.value('lightgray'))\n",
    "\n",
    "    \n",
    "    \n",
    "    # Chart\n",
    "    line = alt.Chart(s_anio).mark_line().encode(x = x_line, y = y_line,  color = color_line \n",
    "                                          ).properties(width=600\n",
    "                                          ).add_selection(brush\n",
    "                                          ).transform_filter(click)\n",
    "    \n",
    "    bar = alt.Chart(s_ramo).mark_bar().encode(x = x_bar, y = y_bar,  color = color_bar \n",
    "                                        ).properties(width=600\n",
    "                                        ).add_selection(click\n",
    "                                        ).transform_filter(brush)\n",
    "    watermark = alt.Chart(s_ramo).mark_text(align='center', fontSize=12, opacity=0.5, text='Ramiro Gallo - Seguime en Linkedin haciendo click aca',\n",
    "                                      ).encode(href='https://www.linkedin.com/in/ramirogallo/:N').properties(width=600)\n",
    "    \n",
    "    chart = alt.vconcat(line,bar, watermark, title= 'Analisis de Operaciones' ).configure_axis(labelFontSize=12)\n",
    "    chart.save('../0_Graphics/Operaciones/Movimiento_Operaciones_Ramo.html')\n",
    "    \n",
    "    return chart"
   ]
  },
  {
   "cell_type": "code",
   "execution_count": 3,
   "metadata": {},
   "outputs": [
    {
     "data": {
      "application/vnd.vegalite.v2+json": {
       "$schema": "https://vega.github.io/schema/vega-lite/v2.6.0.json",
       "config": {
        "axis": {
         "labelFontSize": 12
        },
        "view": {
         "height": 300,
         "width": 400
        }
       },
       "datasets": {
        "data-279fd155cee9df8f53fad05013b9c40e": [
         {
          "Año": 2016,
          "Fecha": "2016-01",
          "Ramo": "Vida individual",
          "value": 30,
          "variable": "Emisiones"
         },
         {
          "Año": 2016,
          "Fecha": "2016-02",
          "Ramo": "Vida individual",
          "value": 26,
          "variable": "Emisiones"
         },
         {
          "Año": 2016,
          "Fecha": "2016-03",
          "Ramo": "Vida individual",
          "value": 31,
          "variable": "Emisiones"
         },
         {
          "Año": 2016,
          "Fecha": "2016-04",
          "Ramo": "Vida individual",
          "value": 23,
          "variable": "Emisiones"
         },
         {
          "Año": 2016,
          "Fecha": "2016-05",
          "Ramo": "Vida individual",
          "value": 29,
          "variable": "Emisiones"
         },
         {
          "Año": 2016,
          "Fecha": "2016-06",
          "Ramo": "Vida individual",
          "value": 23,
          "variable": "Emisiones"
         },
         {
          "Año": 2016,
          "Fecha": "2016-07",
          "Ramo": "Vida individual",
          "value": 17,
          "variable": "Emisiones"
         },
         {
          "Año": 2016,
          "Fecha": "2016-08",
          "Ramo": "Vida individual",
          "value": 48,
          "variable": "Emisiones"
         },
         {
          "Año": 2016,
          "Fecha": "2016-09",
          "Ramo": "Vida individual",
          "value": 26,
          "variable": "Emisiones"
         },
         {
          "Año": 2016,
          "Fecha": "2016-10",
          "Ramo": "Vida individual",
          "value": 27,
          "variable": "Emisiones"
         },
         {
          "Año": 2016,
          "Fecha": "2016-11",
          "Ramo": "Vida individual",
          "value": 21,
          "variable": "Emisiones"
         },
         {
          "Año": 2016,
          "Fecha": "2016-12",
          "Ramo": "Vida individual",
          "value": 19,
          "variable": "Emisiones"
         },
         {
          "Año": 2016,
          "Fecha": "2016-01",
          "Ramo": "Automotores",
          "value": 82,
          "variable": "Emisiones"
         },
         {
          "Año": 2016,
          "Fecha": "2016-02",
          "Ramo": "Automotores",
          "value": 68,
          "variable": "Emisiones"
         },
         {
          "Año": 2016,
          "Fecha": "2016-03",
          "Ramo": "Automotores",
          "value": 67,
          "variable": "Emisiones"
         },
         {
          "Año": 2016,
          "Fecha": "2016-04",
          "Ramo": "Automotores",
          "value": 81,
          "variable": "Emisiones"
         },
         {
          "Año": 2016,
          "Fecha": "2016-05",
          "Ramo": "Automotores",
          "value": 59,
          "variable": "Emisiones"
         },
         {
          "Año": 2016,
          "Fecha": "2016-06",
          "Ramo": "Automotores",
          "value": 48,
          "variable": "Emisiones"
         },
         {
          "Año": 2016,
          "Fecha": "2016-07",
          "Ramo": "Automotores",
          "value": 56,
          "variable": "Emisiones"
         },
         {
          "Año": 2016,
          "Fecha": "2016-08",
          "Ramo": "Automotores",
          "value": 63,
          "variable": "Emisiones"
         },
         {
          "Año": 2016,
          "Fecha": "2016-09",
          "Ramo": "Automotores",
          "value": 78,
          "variable": "Emisiones"
         },
         {
          "Año": 2016,
          "Fecha": "2016-10",
          "Ramo": "Automotores",
          "value": 74,
          "variable": "Emisiones"
         },
         {
          "Año": 2016,
          "Fecha": "2016-11",
          "Ramo": "Automotores",
          "value": 68,
          "variable": "Emisiones"
         },
         {
          "Año": 2016,
          "Fecha": "2016-12",
          "Ramo": "Automotores",
          "value": 107,
          "variable": "Emisiones"
         },
         {
          "Año": 2016,
          "Fecha": "2016-01",
          "Ramo": "Comb.Familiar",
          "value": 2,
          "variable": "Emisiones"
         },
         {
          "Año": 2016,
          "Fecha": "2016-02",
          "Ramo": "Comb.Familiar",
          "value": 3,
          "variable": "Emisiones"
         },
         {
          "Año": 2016,
          "Fecha": "2016-03",
          "Ramo": "Comb.Familiar",
          "value": 2,
          "variable": "Emisiones"
         },
         {
          "Año": 2016,
          "Fecha": "2016-04",
          "Ramo": "Comb.Familiar",
          "value": 7,
          "variable": "Emisiones"
         },
         {
          "Año": 2016,
          "Fecha": "2016-05",
          "Ramo": "Comb.Familiar",
          "value": 21,
          "variable": "Emisiones"
         },
         {
          "Año": 2016,
          "Fecha": "2016-06",
          "Ramo": "Comb.Familiar",
          "value": 14,
          "variable": "Emisiones"
         },
         {
          "Año": 2016,
          "Fecha": "2016-07",
          "Ramo": "Comb.Familiar",
          "value": 7,
          "variable": "Emisiones"
         },
         {
          "Año": 2016,
          "Fecha": "2016-08",
          "Ramo": "Comb.Familiar",
          "value": 3,
          "variable": "Emisiones"
         },
         {
          "Año": 2016,
          "Fecha": "2016-09",
          "Ramo": "Comb.Familiar",
          "value": 5,
          "variable": "Emisiones"
         },
         {
          "Año": 2016,
          "Fecha": "2016-10",
          "Ramo": "Comb.Familiar",
          "value": 8,
          "variable": "Emisiones"
         },
         {
          "Año": 2016,
          "Fecha": "2016-11",
          "Ramo": "Comb.Familiar",
          "value": 2,
          "variable": "Emisiones"
         },
         {
          "Año": 2016,
          "Fecha": "2016-12",
          "Ramo": "Comb.Familiar",
          "value": 1,
          "variable": "Emisiones"
         },
         {
          "Año": 2016,
          "Fecha": "2016-01",
          "Ramo": "Acc.Personales",
          "value": 18,
          "variable": "Emisiones"
         },
         {
          "Año": 2016,
          "Fecha": "2016-02",
          "Ramo": "Acc.Personales",
          "value": 17,
          "variable": "Emisiones"
         },
         {
          "Año": 2016,
          "Fecha": "2016-03",
          "Ramo": "Acc.Personales",
          "value": 12,
          "variable": "Emisiones"
         },
         {
          "Año": 2016,
          "Fecha": "2016-04",
          "Ramo": "Acc.Personales",
          "value": 17,
          "variable": "Emisiones"
         },
         {
          "Año": 2016,
          "Fecha": "2016-05",
          "Ramo": "Acc.Personales",
          "value": 20,
          "variable": "Emisiones"
         },
         {
          "Año": 2016,
          "Fecha": "2016-06",
          "Ramo": "Acc.Personales",
          "value": 22,
          "variable": "Emisiones"
         },
         {
          "Año": 2016,
          "Fecha": "2016-07",
          "Ramo": "Acc.Personales",
          "value": 22,
          "variable": "Emisiones"
         },
         {
          "Año": 2016,
          "Fecha": "2016-08",
          "Ramo": "Acc.Personales",
          "value": 19,
          "variable": "Emisiones"
         },
         {
          "Año": 2016,
          "Fecha": "2016-09",
          "Ramo": "Acc.Personales",
          "value": 22,
          "variable": "Emisiones"
         },
         {
          "Año": 2016,
          "Fecha": "2016-10",
          "Ramo": "Acc.Personales",
          "value": 21,
          "variable": "Emisiones"
         },
         {
          "Año": 2016,
          "Fecha": "2016-11",
          "Ramo": "Acc.Personales",
          "value": 11,
          "variable": "Emisiones"
         },
         {
          "Año": 2016,
          "Fecha": "2016-12",
          "Ramo": "Acc.Personales",
          "value": 14,
          "variable": "Emisiones"
         },
         {
          "Año": 2016,
          "Fecha": "2016-01",
          "Ramo": "Incendio",
          "value": 0,
          "variable": "Emisiones"
         },
         {
          "Año": 2016,
          "Fecha": "2016-02",
          "Ramo": "Incendio",
          "value": 0,
          "variable": "Emisiones"
         },
         {
          "Año": 2016,
          "Fecha": "2016-03",
          "Ramo": "Incendio",
          "value": 0,
          "variable": "Emisiones"
         },
         {
          "Año": 2016,
          "Fecha": "2016-04",
          "Ramo": "Incendio",
          "value": 1,
          "variable": "Emisiones"
         },
         {
          "Año": 2016,
          "Fecha": "2016-05",
          "Ramo": "Incendio",
          "value": 0,
          "variable": "Emisiones"
         },
         {
          "Año": 2016,
          "Fecha": "2016-06",
          "Ramo": "Incendio",
          "value": 0,
          "variable": "Emisiones"
         },
         {
          "Año": 2016,
          "Fecha": "2016-07",
          "Ramo": "Incendio",
          "value": 1,
          "variable": "Emisiones"
         },
         {
          "Año": 2016,
          "Fecha": "2016-08",
          "Ramo": "Incendio",
          "value": 0,
          "variable": "Emisiones"
         },
         {
          "Año": 2016,
          "Fecha": "2016-09",
          "Ramo": "Incendio",
          "value": 1,
          "variable": "Emisiones"
         },
         {
          "Año": 2016,
          "Fecha": "2016-10",
          "Ramo": "Incendio",
          "value": 2,
          "variable": "Emisiones"
         },
         {
          "Año": 2016,
          "Fecha": "2016-11",
          "Ramo": "Incendio",
          "value": 0,
          "variable": "Emisiones"
         },
         {
          "Año": 2016,
          "Fecha": "2016-12",
          "Ramo": "Incendio",
          "value": 0,
          "variable": "Emisiones"
         },
         {
          "Año": 2016,
          "Fecha": "2016-01",
          "Ramo": "Caucion",
          "value": 2,
          "variable": "Emisiones"
         },
         {
          "Año": 2016,
          "Fecha": "2016-02",
          "Ramo": "Caucion",
          "value": 1,
          "variable": "Emisiones"
         },
         {
          "Año": 2016,
          "Fecha": "2016-03",
          "Ramo": "Caucion",
          "value": 1,
          "variable": "Emisiones"
         },
         {
          "Año": 2016,
          "Fecha": "2016-04",
          "Ramo": "Caucion",
          "value": 0,
          "variable": "Emisiones"
         },
         {
          "Año": 2016,
          "Fecha": "2016-05",
          "Ramo": "Caucion",
          "value": 0,
          "variable": "Emisiones"
         },
         {
          "Año": 2016,
          "Fecha": "2016-06",
          "Ramo": "Caucion",
          "value": 0,
          "variable": "Emisiones"
         },
         {
          "Año": 2016,
          "Fecha": "2016-07",
          "Ramo": "Caucion",
          "value": 1,
          "variable": "Emisiones"
         },
         {
          "Año": 2016,
          "Fecha": "2016-08",
          "Ramo": "Caucion",
          "value": 0,
          "variable": "Emisiones"
         },
         {
          "Año": 2016,
          "Fecha": "2016-09",
          "Ramo": "Caucion",
          "value": 1,
          "variable": "Emisiones"
         },
         {
          "Año": 2016,
          "Fecha": "2016-10",
          "Ramo": "Caucion",
          "value": 2,
          "variable": "Emisiones"
         },
         {
          "Año": 2016,
          "Fecha": "2016-11",
          "Ramo": "Caucion",
          "value": 0,
          "variable": "Emisiones"
         },
         {
          "Año": 2016,
          "Fecha": "2016-12",
          "Ramo": "Caucion",
          "value": 0,
          "variable": "Emisiones"
         },
         {
          "Año": 2016,
          "Fecha": "2016-01",
          "Ramo": "Acc. Fliares Transportados",
          "value": 34,
          "variable": "Emisiones"
         },
         {
          "Año": 2016,
          "Fecha": "2016-02",
          "Ramo": "Acc. Fliares Transportados",
          "value": 22,
          "variable": "Emisiones"
         },
         {
          "Año": 2016,
          "Fecha": "2016-03",
          "Ramo": "Acc. Fliares Transportados",
          "value": 29,
          "variable": "Emisiones"
         },
         {
          "Año": 2016,
          "Fecha": "2016-04",
          "Ramo": "Acc. Fliares Transportados",
          "value": 36,
          "variable": "Emisiones"
         },
         {
          "Año": 2016,
          "Fecha": "2016-05",
          "Ramo": "Acc. Fliares Transportados",
          "value": 30,
          "variable": "Emisiones"
         },
         {
          "Año": 2016,
          "Fecha": "2016-06",
          "Ramo": "Acc. Fliares Transportados",
          "value": 34,
          "variable": "Emisiones"
         },
         {
          "Año": 2016,
          "Fecha": "2016-07",
          "Ramo": "Acc. Fliares Transportados",
          "value": 77,
          "variable": "Emisiones"
         },
         {
          "Año": 2016,
          "Fecha": "2016-08",
          "Ramo": "Acc. Fliares Transportados",
          "value": 143,
          "variable": "Emisiones"
         },
         {
          "Año": 2016,
          "Fecha": "2016-09",
          "Ramo": "Acc. Fliares Transportados",
          "value": 104,
          "variable": "Emisiones"
         },
         {
          "Año": 2016,
          "Fecha": "2016-10",
          "Ramo": "Acc. Fliares Transportados",
          "value": 49,
          "variable": "Emisiones"
         },
         {
          "Año": 2016,
          "Fecha": "2016-11",
          "Ramo": "Acc. Fliares Transportados",
          "value": 37,
          "variable": "Emisiones"
         },
         {
          "Año": 2016,
          "Fecha": "2016-12",
          "Ramo": "Acc. Fliares Transportados",
          "value": 33,
          "variable": "Emisiones"
         },
         {
          "Año": 2016,
          "Fecha": "2016-01",
          "Ramo": "Vida Oblig.",
          "value": 0,
          "variable": "Emisiones"
         },
         {
          "Año": 2016,
          "Fecha": "2016-02",
          "Ramo": "Vida Oblig.",
          "value": 2,
          "variable": "Emisiones"
         },
         {
          "Año": 2016,
          "Fecha": "2016-03",
          "Ramo": "Vida Oblig.",
          "value": 1,
          "variable": "Emisiones"
         },
         {
          "Año": 2016,
          "Fecha": "2016-04",
          "Ramo": "Vida Oblig.",
          "value": 2,
          "variable": "Emisiones"
         },
         {
          "Año": 2016,
          "Fecha": "2016-05",
          "Ramo": "Vida Oblig.",
          "value": 4,
          "variable": "Emisiones"
         },
         {
          "Año": 2016,
          "Fecha": "2016-06",
          "Ramo": "Vida Oblig.",
          "value": 12,
          "variable": "Emisiones"
         },
         {
          "Año": 2016,
          "Fecha": "2016-07",
          "Ramo": "Vida Oblig.",
          "value": 12,
          "variable": "Emisiones"
         },
         {
          "Año": 2016,
          "Fecha": "2016-08",
          "Ramo": "Vida Oblig.",
          "value": 6,
          "variable": "Emisiones"
         },
         {
          "Año": 2016,
          "Fecha": "2016-09",
          "Ramo": "Vida Oblig.",
          "value": 5,
          "variable": "Emisiones"
         },
         {
          "Año": 2016,
          "Fecha": "2016-10",
          "Ramo": "Vida Oblig.",
          "value": 2,
          "variable": "Emisiones"
         },
         {
          "Año": 2016,
          "Fecha": "2016-11",
          "Ramo": "Vida Oblig.",
          "value": 3,
          "variable": "Emisiones"
         },
         {
          "Año": 2016,
          "Fecha": "2016-12",
          "Ramo": "Vida Oblig.",
          "value": 2,
          "variable": "Emisiones"
         },
         {
          "Año": 2016,
          "Fecha": "2016-01",
          "Ramo": "A.R.T.",
          "value": 1,
          "variable": "Emisiones"
         },
         {
          "Año": 2016,
          "Fecha": "2016-02",
          "Ramo": "A.R.T.",
          "value": 0,
          "variable": "Emisiones"
         },
         {
          "Año": 2016,
          "Fecha": "2016-03",
          "Ramo": "A.R.T.",
          "value": 2,
          "variable": "Emisiones"
         },
         {
          "Año": 2016,
          "Fecha": "2016-04",
          "Ramo": "A.R.T.",
          "value": 11,
          "variable": "Emisiones"
         },
         {
          "Año": 2016,
          "Fecha": "2016-05",
          "Ramo": "A.R.T.",
          "value": 6,
          "variable": "Emisiones"
         },
         {
          "Año": 2016,
          "Fecha": "2016-06",
          "Ramo": "A.R.T.",
          "value": 17,
          "variable": "Emisiones"
         },
         {
          "Año": 2016,
          "Fecha": "2016-07",
          "Ramo": "A.R.T.",
          "value": 12,
          "variable": "Emisiones"
         },
         {
          "Año": 2016,
          "Fecha": "2016-08",
          "Ramo": "A.R.T.",
          "value": 14,
          "variable": "Emisiones"
         },
         {
          "Año": 2016,
          "Fecha": "2016-09",
          "Ramo": "A.R.T.",
          "value": 5,
          "variable": "Emisiones"
         },
         {
          "Año": 2016,
          "Fecha": "2016-10",
          "Ramo": "A.R.T.",
          "value": 2,
          "variable": "Emisiones"
         },
         {
          "Año": 2016,
          "Fecha": "2016-11",
          "Ramo": "A.R.T.",
          "value": 7,
          "variable": "Emisiones"
         },
         {
          "Año": 2016,
          "Fecha": "2016-12",
          "Ramo": "A.R.T.",
          "value": 1,
          "variable": "Emisiones"
         },
         {
          "Año": 2016,
          "Fecha": "2016-01",
          "Ramo": "Resp.Civil",
          "value": 2,
          "variable": "Emisiones"
         },
         {
          "Año": 2016,
          "Fecha": "2016-02",
          "Ramo": "Resp.Civil",
          "value": 3,
          "variable": "Emisiones"
         },
         {
          "Año": 2016,
          "Fecha": "2016-03",
          "Ramo": "Resp.Civil",
          "value": 0,
          "variable": "Emisiones"
         },
         {
          "Año": 2016,
          "Fecha": "2016-04",
          "Ramo": "Resp.Civil",
          "value": 4,
          "variable": "Emisiones"
         },
         {
          "Año": 2016,
          "Fecha": "2016-05",
          "Ramo": "Resp.Civil",
          "value": 3,
          "variable": "Emisiones"
         },
         {
          "Año": 2016,
          "Fecha": "2016-06",
          "Ramo": "Resp.Civil",
          "value": 1,
          "variable": "Emisiones"
         },
         {
          "Año": 2016,
          "Fecha": "2016-07",
          "Ramo": "Resp.Civil",
          "value": 3,
          "variable": "Emisiones"
         },
         {
          "Año": 2016,
          "Fecha": "2016-08",
          "Ramo": "Resp.Civil",
          "value": 3,
          "variable": "Emisiones"
         },
         {
          "Año": 2016,
          "Fecha": "2016-09",
          "Ramo": "Resp.Civil",
          "value": 0,
          "variable": "Emisiones"
         },
         {
          "Año": 2016,
          "Fecha": "2016-10",
          "Ramo": "Resp.Civil",
          "value": 3,
          "variable": "Emisiones"
         },
         {
          "Año": 2016,
          "Fecha": "2016-11",
          "Ramo": "Resp.Civil",
          "value": 0,
          "variable": "Emisiones"
         },
         {
          "Año": 2016,
          "Fecha": "2016-12",
          "Ramo": "Resp.Civil",
          "value": 1,
          "variable": "Emisiones"
         },
         {
          "Año": 2016,
          "Fecha": "2016-01",
          "Ramo": "Todo Riesgo Operativo",
          "value": 0,
          "variable": "Emisiones"
         },
         {
          "Año": 2016,
          "Fecha": "2016-02",
          "Ramo": "Todo Riesgo Operativo",
          "value": 0,
          "variable": "Emisiones"
         },
         {
          "Año": 2016,
          "Fecha": "2016-03",
          "Ramo": "Todo Riesgo Operativo",
          "value": 0,
          "variable": "Emisiones"
         },
         {
          "Año": 2016,
          "Fecha": "2016-04",
          "Ramo": "Todo Riesgo Operativo",
          "value": 0,
          "variable": "Emisiones"
         },
         {
          "Año": 2016,
          "Fecha": "2016-05",
          "Ramo": "Todo Riesgo Operativo",
          "value": 0,
          "variable": "Emisiones"
         },
         {
          "Año": 2016,
          "Fecha": "2016-06",
          "Ramo": "Todo Riesgo Operativo",
          "value": 0,
          "variable": "Emisiones"
         },
         {
          "Año": 2016,
          "Fecha": "2016-07",
          "Ramo": "Todo Riesgo Operativo",
          "value": 0,
          "variable": "Emisiones"
         },
         {
          "Año": 2016,
          "Fecha": "2016-08",
          "Ramo": "Todo Riesgo Operativo",
          "value": 0,
          "variable": "Emisiones"
         },
         {
          "Año": 2016,
          "Fecha": "2016-09",
          "Ramo": "Todo Riesgo Operativo",
          "value": 0,
          "variable": "Emisiones"
         },
         {
          "Año": 2016,
          "Fecha": "2016-10",
          "Ramo": "Todo Riesgo Operativo",
          "value": 0,
          "variable": "Emisiones"
         },
         {
          "Año": 2016,
          "Fecha": "2016-11",
          "Ramo": "Todo Riesgo Operativo",
          "value": 0,
          "variable": "Emisiones"
         },
         {
          "Año": 2016,
          "Fecha": "2016-12",
          "Ramo": "Todo Riesgo Operativo",
          "value": 0,
          "variable": "Emisiones"
         },
         {
          "Año": 2016,
          "Fecha": "2016-01",
          "Ramo": "Int.de Comer.",
          "value": 1,
          "variable": "Emisiones"
         },
         {
          "Año": 2016,
          "Fecha": "2016-02",
          "Ramo": "Int.de Comer.",
          "value": 1,
          "variable": "Emisiones"
         },
         {
          "Año": 2016,
          "Fecha": "2016-03",
          "Ramo": "Int.de Comer.",
          "value": 5,
          "variable": "Emisiones"
         },
         {
          "Año": 2016,
          "Fecha": "2016-04",
          "Ramo": "Int.de Comer.",
          "value": 0,
          "variable": "Emisiones"
         },
         {
          "Año": 2016,
          "Fecha": "2016-05",
          "Ramo": "Int.de Comer.",
          "value": 2,
          "variable": "Emisiones"
         },
         {
          "Año": 2016,
          "Fecha": "2016-06",
          "Ramo": "Int.de Comer.",
          "value": 1,
          "variable": "Emisiones"
         },
         {
          "Año": 2016,
          "Fecha": "2016-07",
          "Ramo": "Int.de Comer.",
          "value": 3,
          "variable": "Emisiones"
         },
         {
          "Año": 2016,
          "Fecha": "2016-08",
          "Ramo": "Int.de Comer.",
          "value": 2,
          "variable": "Emisiones"
         },
         {
          "Año": 2016,
          "Fecha": "2016-09",
          "Ramo": "Int.de Comer.",
          "value": 1,
          "variable": "Emisiones"
         },
         {
          "Año": 2016,
          "Fecha": "2016-10",
          "Ramo": "Int.de Comer.",
          "value": 1,
          "variable": "Emisiones"
         },
         {
          "Año": 2016,
          "Fecha": "2016-11",
          "Ramo": "Int.de Comer.",
          "value": 1,
          "variable": "Emisiones"
         },
         {
          "Año": 2016,
          "Fecha": "2016-12",
          "Ramo": "Int.de Comer.",
          "value": 2,
          "variable": "Emisiones"
         },
         {
          "Año": 2016,
          "Fecha": "2016-01",
          "Ramo": "Moto - Vehículo",
          "value": 3,
          "variable": "Emisiones"
         },
         {
          "Año": 2016,
          "Fecha": "2016-02",
          "Ramo": "Moto - Vehículo",
          "value": 1,
          "variable": "Emisiones"
         },
         {
          "Año": 2016,
          "Fecha": "2016-03",
          "Ramo": "Moto - Vehículo",
          "value": 1,
          "variable": "Emisiones"
         },
         {
          "Año": 2016,
          "Fecha": "2016-04",
          "Ramo": "Moto - Vehículo",
          "value": 0,
          "variable": "Emisiones"
         },
         {
          "Año": 2016,
          "Fecha": "2016-05",
          "Ramo": "Moto - Vehículo",
          "value": 0,
          "variable": "Emisiones"
         },
         {
          "Año": 2016,
          "Fecha": "2016-06",
          "Ramo": "Moto - Vehículo",
          "value": 0,
          "variable": "Emisiones"
         },
         {
          "Año": 2016,
          "Fecha": "2016-07",
          "Ramo": "Moto - Vehículo",
          "value": 0,
          "variable": "Emisiones"
         },
         {
          "Año": 2016,
          "Fecha": "2016-08",
          "Ramo": "Moto - Vehículo",
          "value": 0,
          "variable": "Emisiones"
         },
         {
          "Año": 2016,
          "Fecha": "2016-09",
          "Ramo": "Moto - Vehículo",
          "value": 1,
          "variable": "Emisiones"
         },
         {
          "Año": 2016,
          "Fecha": "2016-10",
          "Ramo": "Moto - Vehículo",
          "value": 3,
          "variable": "Emisiones"
         },
         {
          "Año": 2016,
          "Fecha": "2016-11",
          "Ramo": "Moto - Vehículo",
          "value": 1,
          "variable": "Emisiones"
         },
         {
          "Año": 2016,
          "Fecha": "2016-12",
          "Ramo": "Moto - Vehículo",
          "value": 0,
          "variable": "Emisiones"
         },
         {
          "Año": 2016,
          "Fecha": "2016-01",
          "Ramo": "Sepelio",
          "value": 0,
          "variable": "Emisiones"
         },
         {
          "Año": 2016,
          "Fecha": "2016-02",
          "Ramo": "Sepelio",
          "value": 1,
          "variable": "Emisiones"
         },
         {
          "Año": 2016,
          "Fecha": "2016-03",
          "Ramo": "Sepelio",
          "value": 0,
          "variable": "Emisiones"
         },
         {
          "Año": 2016,
          "Fecha": "2016-04",
          "Ramo": "Sepelio",
          "value": 0,
          "variable": "Emisiones"
         },
         {
          "Año": 2016,
          "Fecha": "2016-05",
          "Ramo": "Sepelio",
          "value": 1,
          "variable": "Emisiones"
         },
         {
          "Año": 2016,
          "Fecha": "2016-06",
          "Ramo": "Sepelio",
          "value": 0,
          "variable": "Emisiones"
         },
         {
          "Año": 2016,
          "Fecha": "2016-07",
          "Ramo": "Sepelio",
          "value": 1,
          "variable": "Emisiones"
         },
         {
          "Año": 2016,
          "Fecha": "2016-08",
          "Ramo": "Sepelio",
          "value": 0,
          "variable": "Emisiones"
         },
         {
          "Año": 2016,
          "Fecha": "2016-09",
          "Ramo": "Sepelio",
          "value": 0,
          "variable": "Emisiones"
         },
         {
          "Año": 2016,
          "Fecha": "2016-10",
          "Ramo": "Sepelio",
          "value": 0,
          "variable": "Emisiones"
         },
         {
          "Año": 2016,
          "Fecha": "2016-11",
          "Ramo": "Sepelio",
          "value": 0,
          "variable": "Emisiones"
         },
         {
          "Año": 2016,
          "Fecha": "2016-12",
          "Ramo": "Sepelio",
          "value": 0,
          "variable": "Emisiones"
         },
         {
          "Año": 2016,
          "Fecha": "2016-01",
          "Ramo": "Vida Colectivo",
          "value": 1,
          "variable": "Emisiones"
         },
         {
          "Año": 2016,
          "Fecha": "2016-02",
          "Ramo": "Vida Colectivo",
          "value": 0,
          "variable": "Emisiones"
         },
         {
          "Año": 2016,
          "Fecha": "2016-03",
          "Ramo": "Vida Colectivo",
          "value": 1,
          "variable": "Emisiones"
         },
         {
          "Año": 2016,
          "Fecha": "2016-04",
          "Ramo": "Vida Colectivo",
          "value": 1,
          "variable": "Emisiones"
         },
         {
          "Año": 2016,
          "Fecha": "2016-05",
          "Ramo": "Vida Colectivo",
          "value": 0,
          "variable": "Emisiones"
         },
         {
          "Año": 2016,
          "Fecha": "2016-06",
          "Ramo": "Vida Colectivo",
          "value": 0,
          "variable": "Emisiones"
         },
         {
          "Año": 2016,
          "Fecha": "2016-07",
          "Ramo": "Vida Colectivo",
          "value": 0,
          "variable": "Emisiones"
         },
         {
          "Año": 2016,
          "Fecha": "2016-08",
          "Ramo": "Vida Colectivo",
          "value": 1,
          "variable": "Emisiones"
         },
         {
          "Año": 2016,
          "Fecha": "2016-09",
          "Ramo": "Vida Colectivo",
          "value": 2,
          "variable": "Emisiones"
         },
         {
          "Año": 2016,
          "Fecha": "2016-10",
          "Ramo": "Vida Colectivo",
          "value": 0,
          "variable": "Emisiones"
         },
         {
          "Año": 2016,
          "Fecha": "2016-11",
          "Ramo": "Vida Colectivo",
          "value": 0,
          "variable": "Emisiones"
         },
         {
          "Año": 2016,
          "Fecha": "2016-12",
          "Ramo": "Vida Colectivo",
          "value": 0,
          "variable": "Emisiones"
         },
         {
          "Año": 2016,
          "Fecha": "2016-01",
          "Ramo": "Seguro Tecnico",
          "value": 1,
          "variable": "Emisiones"
         },
         {
          "Año": 2016,
          "Fecha": "2016-02",
          "Ramo": "Seguro Tecnico",
          "value": 1,
          "variable": "Emisiones"
         },
         {
          "Año": 2016,
          "Fecha": "2016-03",
          "Ramo": "Seguro Tecnico",
          "value": 0,
          "variable": "Emisiones"
         },
         {
          "Año": 2016,
          "Fecha": "2016-04",
          "Ramo": "Seguro Tecnico",
          "value": 1,
          "variable": "Emisiones"
         },
         {
          "Año": 2016,
          "Fecha": "2016-05",
          "Ramo": "Seguro Tecnico",
          "value": 2,
          "variable": "Emisiones"
         },
         {
          "Año": 2016,
          "Fecha": "2016-06",
          "Ramo": "Seguro Tecnico",
          "value": 2,
          "variable": "Emisiones"
         },
         {
          "Año": 2016,
          "Fecha": "2016-07",
          "Ramo": "Seguro Tecnico",
          "value": 0,
          "variable": "Emisiones"
         },
         {
          "Año": 2016,
          "Fecha": "2016-08",
          "Ramo": "Seguro Tecnico",
          "value": 1,
          "variable": "Emisiones"
         },
         {
          "Año": 2016,
          "Fecha": "2016-09",
          "Ramo": "Seguro Tecnico",
          "value": 1,
          "variable": "Emisiones"
         },
         {
          "Año": 2016,
          "Fecha": "2016-10",
          "Ramo": "Seguro Tecnico",
          "value": 0,
          "variable": "Emisiones"
         },
         {
          "Año": 2016,
          "Fecha": "2016-11",
          "Ramo": "Seguro Tecnico",
          "value": 0,
          "variable": "Emisiones"
         },
         {
          "Año": 2016,
          "Fecha": "2016-12",
          "Ramo": "Seguro Tecnico",
          "value": 0,
          "variable": "Emisiones"
         },
         {
          "Año": 2016,
          "Fecha": "2016-01",
          "Ramo": "Incendio / Int. de Consorcio",
          "value": 2,
          "variable": "Emisiones"
         },
         {
          "Año": 2016,
          "Fecha": "2016-02",
          "Ramo": "Incendio / Int. de Consorcio",
          "value": 1,
          "variable": "Emisiones"
         },
         {
          "Año": 2016,
          "Fecha": "2016-03",
          "Ramo": "Incendio / Int. de Consorcio",
          "value": 0,
          "variable": "Emisiones"
         },
         {
          "Año": 2016,
          "Fecha": "2016-04",
          "Ramo": "Incendio / Int. de Consorcio",
          "value": 3,
          "variable": "Emisiones"
         },
         {
          "Año": 2016,
          "Fecha": "2016-05",
          "Ramo": "Incendio / Int. de Consorcio",
          "value": 1,
          "variable": "Emisiones"
         },
         {
          "Año": 2016,
          "Fecha": "2016-06",
          "Ramo": "Incendio / Int. de Consorcio",
          "value": 2,
          "variable": "Emisiones"
         },
         {
          "Año": 2016,
          "Fecha": "2016-07",
          "Ramo": "Incendio / Int. de Consorcio",
          "value": 0,
          "variable": "Emisiones"
         },
         {
          "Año": 2016,
          "Fecha": "2016-08",
          "Ramo": "Incendio / Int. de Consorcio",
          "value": 3,
          "variable": "Emisiones"
         },
         {
          "Año": 2016,
          "Fecha": "2016-09",
          "Ramo": "Incendio / Int. de Consorcio",
          "value": 1,
          "variable": "Emisiones"
         },
         {
          "Año": 2016,
          "Fecha": "2016-10",
          "Ramo": "Incendio / Int. de Consorcio",
          "value": 0,
          "variable": "Emisiones"
         },
         {
          "Año": 2016,
          "Fecha": "2016-11",
          "Ramo": "Incendio / Int. de Consorcio",
          "value": 0,
          "variable": "Emisiones"
         },
         {
          "Año": 2016,
          "Fecha": "2016-12",
          "Ramo": "Incendio / Int. de Consorcio",
          "value": 0,
          "variable": "Emisiones"
         },
         {
          "Año": 2016,
          "Fecha": "2016-01",
          "Ramo": "Transporte",
          "value": 0,
          "variable": "Emisiones"
         },
         {
          "Año": 2016,
          "Fecha": "2016-02",
          "Ramo": "Transporte",
          "value": 0,
          "variable": "Emisiones"
         },
         {
          "Año": 2016,
          "Fecha": "2016-03",
          "Ramo": "Transporte",
          "value": 0,
          "variable": "Emisiones"
         },
         {
          "Año": 2016,
          "Fecha": "2016-04",
          "Ramo": "Transporte",
          "value": 0,
          "variable": "Emisiones"
         },
         {
          "Año": 2016,
          "Fecha": "2016-05",
          "Ramo": "Transporte",
          "value": 0,
          "variable": "Emisiones"
         },
         {
          "Año": 2016,
          "Fecha": "2016-06",
          "Ramo": "Transporte",
          "value": 0,
          "variable": "Emisiones"
         },
         {
          "Año": 2016,
          "Fecha": "2016-07",
          "Ramo": "Transporte",
          "value": 1,
          "variable": "Emisiones"
         },
         {
          "Año": 2016,
          "Fecha": "2016-08",
          "Ramo": "Transporte",
          "value": 0,
          "variable": "Emisiones"
         },
         {
          "Año": 2016,
          "Fecha": "2016-09",
          "Ramo": "Transporte",
          "value": 0,
          "variable": "Emisiones"
         },
         {
          "Año": 2016,
          "Fecha": "2016-10",
          "Ramo": "Transporte",
          "value": 0,
          "variable": "Emisiones"
         },
         {
          "Año": 2016,
          "Fecha": "2016-11",
          "Ramo": "Transporte",
          "value": 0,
          "variable": "Emisiones"
         },
         {
          "Año": 2016,
          "Fecha": "2016-12",
          "Ramo": "Transporte",
          "value": 1,
          "variable": "Emisiones"
         },
         {
          "Año": 2016,
          "Fecha": "2016-01",
          "Ramo": "Vida Cont.Trab.",
          "value": 0,
          "variable": "Emisiones"
         },
         {
          "Año": 2016,
          "Fecha": "2016-02",
          "Ramo": "Vida Cont.Trab.",
          "value": 0,
          "variable": "Emisiones"
         },
         {
          "Año": 2016,
          "Fecha": "2016-03",
          "Ramo": "Vida Cont.Trab.",
          "value": 1,
          "variable": "Emisiones"
         },
         {
          "Año": 2016,
          "Fecha": "2016-04",
          "Ramo": "Vida Cont.Trab.",
          "value": 0,
          "variable": "Emisiones"
         },
         {
          "Año": 2016,
          "Fecha": "2016-05",
          "Ramo": "Vida Cont.Trab.",
          "value": 0,
          "variable": "Emisiones"
         },
         {
          "Año": 2016,
          "Fecha": "2016-06",
          "Ramo": "Vida Cont.Trab.",
          "value": 0,
          "variable": "Emisiones"
         },
         {
          "Año": 2016,
          "Fecha": "2016-07",
          "Ramo": "Vida Cont.Trab.",
          "value": 0,
          "variable": "Emisiones"
         },
         {
          "Año": 2016,
          "Fecha": "2016-08",
          "Ramo": "Vida Cont.Trab.",
          "value": 1,
          "variable": "Emisiones"
         },
         {
          "Año": 2016,
          "Fecha": "2016-09",
          "Ramo": "Vida Cont.Trab.",
          "value": 0,
          "variable": "Emisiones"
         },
         {
          "Año": 2016,
          "Fecha": "2016-10",
          "Ramo": "Vida Cont.Trab.",
          "value": 0,
          "variable": "Emisiones"
         },
         {
          "Año": 2016,
          "Fecha": "2016-11",
          "Ramo": "Vida Cont.Trab.",
          "value": 0,
          "variable": "Emisiones"
         },
         {
          "Año": 2016,
          "Fecha": "2016-12",
          "Ramo": "Vida Cont.Trab.",
          "value": 0,
          "variable": "Emisiones"
         },
         {
          "Año": 2016,
          "Fecha": "2016-01",
          "Ramo": "Robo",
          "value": 0,
          "variable": "Emisiones"
         },
         {
          "Año": 2016,
          "Fecha": "2016-02",
          "Ramo": "Robo",
          "value": 0,
          "variable": "Emisiones"
         },
         {
          "Año": 2016,
          "Fecha": "2016-03",
          "Ramo": "Robo",
          "value": 3,
          "variable": "Emisiones"
         },
         {
          "Año": 2016,
          "Fecha": "2016-04",
          "Ramo": "Robo",
          "value": 3,
          "variable": "Emisiones"
         },
         {
          "Año": 2016,
          "Fecha": "2016-05",
          "Ramo": "Robo",
          "value": 5,
          "variable": "Emisiones"
         },
         {
          "Año": 2016,
          "Fecha": "2016-06",
          "Ramo": "Robo",
          "value": 2,
          "variable": "Emisiones"
         },
         {
          "Año": 2016,
          "Fecha": "2016-07",
          "Ramo": "Robo",
          "value": 3,
          "variable": "Emisiones"
         },
         {
          "Año": 2016,
          "Fecha": "2016-08",
          "Ramo": "Robo",
          "value": 2,
          "variable": "Emisiones"
         },
         {
          "Año": 2016,
          "Fecha": "2016-09",
          "Ramo": "Robo",
          "value": 2,
          "variable": "Emisiones"
         },
         {
          "Año": 2016,
          "Fecha": "2016-10",
          "Ramo": "Robo",
          "value": 2,
          "variable": "Emisiones"
         },
         {
          "Año": 2016,
          "Fecha": "2016-11",
          "Ramo": "Robo",
          "value": 4,
          "variable": "Emisiones"
         },
         {
          "Año": 2016,
          "Fecha": "2016-12",
          "Ramo": "Robo",
          "value": 3,
          "variable": "Emisiones"
         },
         {
          "Año": 2016,
          "Fecha": "2016-01",
          "Ramo": "Salud",
          "value": 0,
          "variable": "Emisiones"
         },
         {
          "Año": 2016,
          "Fecha": "2016-02",
          "Ramo": "Salud",
          "value": 0,
          "variable": "Emisiones"
         },
         {
          "Año": 2016,
          "Fecha": "2016-03",
          "Ramo": "Salud",
          "value": 2,
          "variable": "Emisiones"
         },
         {
          "Año": 2016,
          "Fecha": "2016-04",
          "Ramo": "Salud",
          "value": 1,
          "variable": "Emisiones"
         },
         {
          "Año": 2016,
          "Fecha": "2016-05",
          "Ramo": "Salud",
          "value": 0,
          "variable": "Emisiones"
         },
         {
          "Año": 2016,
          "Fecha": "2016-06",
          "Ramo": "Salud",
          "value": 0,
          "variable": "Emisiones"
         },
         {
          "Año": 2016,
          "Fecha": "2016-07",
          "Ramo": "Salud",
          "value": 1,
          "variable": "Emisiones"
         },
         {
          "Año": 2016,
          "Fecha": "2016-08",
          "Ramo": "Salud",
          "value": 1,
          "variable": "Emisiones"
         },
         {
          "Año": 2016,
          "Fecha": "2016-09",
          "Ramo": "Salud",
          "value": 1,
          "variable": "Emisiones"
         },
         {
          "Año": 2016,
          "Fecha": "2016-10",
          "Ramo": "Salud",
          "value": 0,
          "variable": "Emisiones"
         },
         {
          "Año": 2016,
          "Fecha": "2016-11",
          "Ramo": "Salud",
          "value": 1,
          "variable": "Emisiones"
         },
         {
          "Año": 2016,
          "Fecha": "2016-12",
          "Ramo": "Salud",
          "value": 0,
          "variable": "Emisiones"
         },
         {
          "Año": 2016,
          "Fecha": "2016-01",
          "Ramo": "Acc.Pers.Auton.",
          "value": 1,
          "variable": "Emisiones"
         },
         {
          "Año": 2016,
          "Fecha": "2016-02",
          "Ramo": "Acc.Pers.Auton.",
          "value": 1,
          "variable": "Emisiones"
         },
         {
          "Año": 2016,
          "Fecha": "2016-03",
          "Ramo": "Acc.Pers.Auton.",
          "value": 0,
          "variable": "Emisiones"
         },
         {
          "Año": 2016,
          "Fecha": "2016-04",
          "Ramo": "Acc.Pers.Auton.",
          "value": 0,
          "variable": "Emisiones"
         },
         {
          "Año": 2016,
          "Fecha": "2016-05",
          "Ramo": "Acc.Pers.Auton.",
          "value": 0,
          "variable": "Emisiones"
         },
         {
          "Año": 2016,
          "Fecha": "2016-06",
          "Ramo": "Acc.Pers.Auton.",
          "value": 0,
          "variable": "Emisiones"
         },
         {
          "Año": 2016,
          "Fecha": "2016-07",
          "Ramo": "Acc.Pers.Auton.",
          "value": 0,
          "variable": "Emisiones"
         },
         {
          "Año": 2016,
          "Fecha": "2016-08",
          "Ramo": "Acc.Pers.Auton.",
          "value": 1,
          "variable": "Emisiones"
         },
         {
          "Año": 2016,
          "Fecha": "2016-09",
          "Ramo": "Acc.Pers.Auton.",
          "value": 1,
          "variable": "Emisiones"
         },
         {
          "Año": 2016,
          "Fecha": "2016-10",
          "Ramo": "Acc.Pers.Auton.",
          "value": 0,
          "variable": "Emisiones"
         },
         {
          "Año": 2016,
          "Fecha": "2016-11",
          "Ramo": "Acc.Pers.Auton.",
          "value": 0,
          "variable": "Emisiones"
         },
         {
          "Año": 2016,
          "Fecha": "2016-12",
          "Ramo": "Acc.Pers.Auton.",
          "value": 0,
          "variable": "Emisiones"
         },
         {
          "Año": 2016,
          "Fecha": "2016-01",
          "Ramo": "Cascos",
          "value": 1,
          "variable": "Emisiones"
         },
         {
          "Año": 2016,
          "Fecha": "2016-02",
          "Ramo": "Cascos",
          "value": 1,
          "variable": "Emisiones"
         },
         {
          "Año": 2016,
          "Fecha": "2016-03",
          "Ramo": "Cascos",
          "value": 0,
          "variable": "Emisiones"
         },
         {
          "Año": 2016,
          "Fecha": "2016-04",
          "Ramo": "Cascos",
          "value": 0,
          "variable": "Emisiones"
         },
         {
          "Año": 2016,
          "Fecha": "2016-05",
          "Ramo": "Cascos",
          "value": 0,
          "variable": "Emisiones"
         },
         {
          "Año": 2016,
          "Fecha": "2016-06",
          "Ramo": "Cascos",
          "value": 0,
          "variable": "Emisiones"
         },
         {
          "Año": 2016,
          "Fecha": "2016-07",
          "Ramo": "Cascos",
          "value": 0,
          "variable": "Emisiones"
         },
         {
          "Año": 2016,
          "Fecha": "2016-08",
          "Ramo": "Cascos",
          "value": 2,
          "variable": "Emisiones"
         },
         {
          "Año": 2016,
          "Fecha": "2016-09",
          "Ramo": "Cascos",
          "value": 0,
          "variable": "Emisiones"
         },
         {
          "Año": 2016,
          "Fecha": "2016-10",
          "Ramo": "Cascos",
          "value": 0,
          "variable": "Emisiones"
         },
         {
          "Año": 2016,
          "Fecha": "2016-11",
          "Ramo": "Cascos",
          "value": 0,
          "variable": "Emisiones"
         },
         {
          "Año": 2016,
          "Fecha": "2016-12",
          "Ramo": "Cascos",
          "value": 0,
          "variable": "Emisiones"
         },
         {
          "Año": 2016,
          "Fecha": "2016-01",
          "Ramo": "Int.Consorcio",
          "value": 0,
          "variable": "Emisiones"
         },
         {
          "Año": 2016,
          "Fecha": "2016-02",
          "Ramo": "Int.Consorcio",
          "value": 0,
          "variable": "Emisiones"
         },
         {
          "Año": 2016,
          "Fecha": "2016-03",
          "Ramo": "Int.Consorcio",
          "value": 0,
          "variable": "Emisiones"
         },
         {
          "Año": 2016,
          "Fecha": "2016-04",
          "Ramo": "Int.Consorcio",
          "value": 0,
          "variable": "Emisiones"
         },
         {
          "Año": 2016,
          "Fecha": "2016-05",
          "Ramo": "Int.Consorcio",
          "value": 0,
          "variable": "Emisiones"
         },
         {
          "Año": 2016,
          "Fecha": "2016-06",
          "Ramo": "Int.Consorcio",
          "value": 0,
          "variable": "Emisiones"
         },
         {
          "Año": 2016,
          "Fecha": "2016-07",
          "Ramo": "Int.Consorcio",
          "value": 0,
          "variable": "Emisiones"
         },
         {
          "Año": 2016,
          "Fecha": "2016-08",
          "Ramo": "Int.Consorcio",
          "value": 0,
          "variable": "Emisiones"
         },
         {
          "Año": 2016,
          "Fecha": "2016-09",
          "Ramo": "Int.Consorcio",
          "value": 0,
          "variable": "Emisiones"
         },
         {
          "Año": 2016,
          "Fecha": "2016-10",
          "Ramo": "Int.Consorcio",
          "value": 0,
          "variable": "Emisiones"
         },
         {
          "Año": 2016,
          "Fecha": "2016-11",
          "Ramo": "Int.Consorcio",
          "value": 0,
          "variable": "Emisiones"
         },
         {
          "Año": 2016,
          "Fecha": "2016-12",
          "Ramo": "Int.Consorcio",
          "value": 0,
          "variable": "Emisiones"
         },
         {
          "Año": 2016,
          "Fecha": "2016-01",
          "Ramo": "Riesgos Varios",
          "value": 0,
          "variable": "Emisiones"
         },
         {
          "Año": 2016,
          "Fecha": "2016-02",
          "Ramo": "Riesgos Varios",
          "value": 0,
          "variable": "Emisiones"
         },
         {
          "Año": 2016,
          "Fecha": "2016-03",
          "Ramo": "Riesgos Varios",
          "value": 0,
          "variable": "Emisiones"
         },
         {
          "Año": 2016,
          "Fecha": "2016-04",
          "Ramo": "Riesgos Varios",
          "value": 1,
          "variable": "Emisiones"
         },
         {
          "Año": 2016,
          "Fecha": "2016-05",
          "Ramo": "Riesgos Varios",
          "value": 1,
          "variable": "Emisiones"
         },
         {
          "Año": 2016,
          "Fecha": "2016-06",
          "Ramo": "Riesgos Varios",
          "value": 1,
          "variable": "Emisiones"
         },
         {
          "Año": 2016,
          "Fecha": "2016-07",
          "Ramo": "Riesgos Varios",
          "value": 0,
          "variable": "Emisiones"
         },
         {
          "Año": 2016,
          "Fecha": "2016-08",
          "Ramo": "Riesgos Varios",
          "value": 0,
          "variable": "Emisiones"
         },
         {
          "Año": 2016,
          "Fecha": "2016-09",
          "Ramo": "Riesgos Varios",
          "value": 0,
          "variable": "Emisiones"
         },
         {
          "Año": 2016,
          "Fecha": "2016-10",
          "Ramo": "Riesgos Varios",
          "value": 1,
          "variable": "Emisiones"
         },
         {
          "Año": 2016,
          "Fecha": "2016-11",
          "Ramo": "Riesgos Varios",
          "value": 3,
          "variable": "Emisiones"
         },
         {
          "Año": 2016,
          "Fecha": "2016-12",
          "Ramo": "Riesgos Varios",
          "value": 0,
          "variable": "Emisiones"
         },
         {
          "Año": 2016,
          "Fecha": "2016-01",
          "Ramo": "Cristales",
          "value": 0,
          "variable": "Emisiones"
         },
         {
          "Año": 2016,
          "Fecha": "2016-02",
          "Ramo": "Cristales",
          "value": 0,
          "variable": "Emisiones"
         },
         {
          "Año": 2016,
          "Fecha": "2016-03",
          "Ramo": "Cristales",
          "value": 0,
          "variable": "Emisiones"
         },
         {
          "Año": 2016,
          "Fecha": "2016-04",
          "Ramo": "Cristales",
          "value": 0,
          "variable": "Emisiones"
         },
         {
          "Año": 2016,
          "Fecha": "2016-05",
          "Ramo": "Cristales",
          "value": 1,
          "variable": "Emisiones"
         },
         {
          "Año": 2016,
          "Fecha": "2016-06",
          "Ramo": "Cristales",
          "value": 0,
          "variable": "Emisiones"
         },
         {
          "Año": 2016,
          "Fecha": "2016-07",
          "Ramo": "Cristales",
          "value": 0,
          "variable": "Emisiones"
         },
         {
          "Año": 2016,
          "Fecha": "2016-08",
          "Ramo": "Cristales",
          "value": 0,
          "variable": "Emisiones"
         },
         {
          "Año": 2016,
          "Fecha": "2016-09",
          "Ramo": "Cristales",
          "value": 0,
          "variable": "Emisiones"
         },
         {
          "Año": 2016,
          "Fecha": "2016-10",
          "Ramo": "Cristales",
          "value": 0,
          "variable": "Emisiones"
         },
         {
          "Año": 2016,
          "Fecha": "2016-11",
          "Ramo": "Cristales",
          "value": 0,
          "variable": "Emisiones"
         },
         {
          "Año": 2016,
          "Fecha": "2016-12",
          "Ramo": "Cristales",
          "value": 0,
          "variable": "Emisiones"
         },
         {
          "Año": 2016,
          "Fecha": "2016-01",
          "Ramo": "Perdida de Beneficio",
          "value": 0,
          "variable": "Emisiones"
         },
         {
          "Año": 2016,
          "Fecha": "2016-02",
          "Ramo": "Perdida de Beneficio",
          "value": 0,
          "variable": "Emisiones"
         },
         {
          "Año": 2016,
          "Fecha": "2016-03",
          "Ramo": "Perdida de Beneficio",
          "value": 0,
          "variable": "Emisiones"
         },
         {
          "Año": 2016,
          "Fecha": "2016-04",
          "Ramo": "Perdida de Beneficio",
          "value": 0,
          "variable": "Emisiones"
         },
         {
          "Año": 2016,
          "Fecha": "2016-05",
          "Ramo": "Perdida de Beneficio",
          "value": 0,
          "variable": "Emisiones"
         },
         {
          "Año": 2016,
          "Fecha": "2016-06",
          "Ramo": "Perdida de Beneficio",
          "value": 0,
          "variable": "Emisiones"
         },
         {
          "Año": 2016,
          "Fecha": "2016-07",
          "Ramo": "Perdida de Beneficio",
          "value": 0,
          "variable": "Emisiones"
         },
         {
          "Año": 2016,
          "Fecha": "2016-08",
          "Ramo": "Perdida de Beneficio",
          "value": 0,
          "variable": "Emisiones"
         },
         {
          "Año": 2016,
          "Fecha": "2016-09",
          "Ramo": "Perdida de Beneficio",
          "value": 0,
          "variable": "Emisiones"
         },
         {
          "Año": 2016,
          "Fecha": "2016-10",
          "Ramo": "Perdida de Beneficio",
          "value": 0,
          "variable": "Emisiones"
         },
         {
          "Año": 2016,
          "Fecha": "2016-11",
          "Ramo": "Perdida de Beneficio",
          "value": 0,
          "variable": "Emisiones"
         },
         {
          "Año": 2016,
          "Fecha": "2016-12",
          "Ramo": "Perdida de Beneficio",
          "value": 0,
          "variable": "Emisiones"
         },
         {
          "Año": 2017,
          "Fecha": "2017-01",
          "Ramo": "Vida individual",
          "value": 7,
          "variable": "Emisiones"
         },
         {
          "Año": 2017,
          "Fecha": "2017-02",
          "Ramo": "Vida individual",
          "value": 7,
          "variable": "Emisiones"
         },
         {
          "Año": 2017,
          "Fecha": "2017-03",
          "Ramo": "Vida individual",
          "value": 6,
          "variable": "Emisiones"
         },
         {
          "Año": 2017,
          "Fecha": "2017-04",
          "Ramo": "Vida individual",
          "value": 10,
          "variable": "Emisiones"
         },
         {
          "Año": 2017,
          "Fecha": "2017-05",
          "Ramo": "Vida individual",
          "value": 20,
          "variable": "Emisiones"
         },
         {
          "Año": 2017,
          "Fecha": "2017-06",
          "Ramo": "Vida individual",
          "value": 10,
          "variable": "Emisiones"
         },
         {
          "Año": 2017,
          "Fecha": "2017-07",
          "Ramo": "Vida individual",
          "value": 15,
          "variable": "Emisiones"
         },
         {
          "Año": 2017,
          "Fecha": "2017-08",
          "Ramo": "Vida individual",
          "value": 80,
          "variable": "Emisiones"
         },
         {
          "Año": 2017,
          "Fecha": "2017-09",
          "Ramo": "Vida individual",
          "value": 45,
          "variable": "Emisiones"
         },
         {
          "Año": 2017,
          "Fecha": "2017-10",
          "Ramo": "Vida individual",
          "value": 49,
          "variable": "Emisiones"
         },
         {
          "Año": 2017,
          "Fecha": "2017-11",
          "Ramo": "Vida individual",
          "value": 45,
          "variable": "Emisiones"
         },
         {
          "Año": 2017,
          "Fecha": "2017-12",
          "Ramo": "Vida individual",
          "value": 55,
          "variable": "Emisiones"
         },
         {
          "Año": 2017,
          "Fecha": "2017-01",
          "Ramo": "Automotores",
          "value": 126,
          "variable": "Emisiones"
         },
         {
          "Año": 2017,
          "Fecha": "2017-02",
          "Ramo": "Automotores",
          "value": 54,
          "variable": "Emisiones"
         },
         {
          "Año": 2017,
          "Fecha": "2017-03",
          "Ramo": "Automotores",
          "value": 63,
          "variable": "Emisiones"
         },
         {
          "Año": 2017,
          "Fecha": "2017-04",
          "Ramo": "Automotores",
          "value": 51,
          "variable": "Emisiones"
         },
         {
          "Año": 2017,
          "Fecha": "2017-05",
          "Ramo": "Automotores",
          "value": 53,
          "variable": "Emisiones"
         },
         {
          "Año": 2017,
          "Fecha": "2017-06",
          "Ramo": "Automotores",
          "value": 39,
          "variable": "Emisiones"
         },
         {
          "Año": 2017,
          "Fecha": "2017-07",
          "Ramo": "Automotores",
          "value": 62,
          "variable": "Emisiones"
         },
         {
          "Año": 2017,
          "Fecha": "2017-08",
          "Ramo": "Automotores",
          "value": 60,
          "variable": "Emisiones"
         },
         {
          "Año": 2017,
          "Fecha": "2017-09",
          "Ramo": "Automotores",
          "value": 66,
          "variable": "Emisiones"
         },
         {
          "Año": 2017,
          "Fecha": "2017-10",
          "Ramo": "Automotores",
          "value": 65,
          "variable": "Emisiones"
         },
         {
          "Año": 2017,
          "Fecha": "2017-11",
          "Ramo": "Automotores",
          "value": 70,
          "variable": "Emisiones"
         },
         {
          "Año": 2017,
          "Fecha": "2017-12",
          "Ramo": "Automotores",
          "value": 70,
          "variable": "Emisiones"
         },
         {
          "Año": 2017,
          "Fecha": "2017-01",
          "Ramo": "Comb.Familiar",
          "value": 8,
          "variable": "Emisiones"
         },
         {
          "Año": 2017,
          "Fecha": "2017-02",
          "Ramo": "Comb.Familiar",
          "value": 2,
          "variable": "Emisiones"
         },
         {
          "Año": 2017,
          "Fecha": "2017-03",
          "Ramo": "Comb.Familiar",
          "value": 3,
          "variable": "Emisiones"
         },
         {
          "Año": 2017,
          "Fecha": "2017-04",
          "Ramo": "Comb.Familiar",
          "value": 2,
          "variable": "Emisiones"
         },
         {
          "Año": 2017,
          "Fecha": "2017-05",
          "Ramo": "Comb.Familiar",
          "value": 8,
          "variable": "Emisiones"
         },
         {
          "Año": 2017,
          "Fecha": "2017-06",
          "Ramo": "Comb.Familiar",
          "value": 2,
          "variable": "Emisiones"
         },
         {
          "Año": 2017,
          "Fecha": "2017-07",
          "Ramo": "Comb.Familiar",
          "value": 1,
          "variable": "Emisiones"
         },
         {
          "Año": 2017,
          "Fecha": "2017-08",
          "Ramo": "Comb.Familiar",
          "value": 1,
          "variable": "Emisiones"
         },
         {
          "Año": 2017,
          "Fecha": "2017-09",
          "Ramo": "Comb.Familiar",
          "value": 3,
          "variable": "Emisiones"
         },
         {
          "Año": 2017,
          "Fecha": "2017-10",
          "Ramo": "Comb.Familiar",
          "value": 2,
          "variable": "Emisiones"
         },
         {
          "Año": 2017,
          "Fecha": "2017-11",
          "Ramo": "Comb.Familiar",
          "value": 4,
          "variable": "Emisiones"
         },
         {
          "Año": 2017,
          "Fecha": "2017-12",
          "Ramo": "Comb.Familiar",
          "value": 4,
          "variable": "Emisiones"
         },
         {
          "Año": 2017,
          "Fecha": "2017-01",
          "Ramo": "Acc.Personales",
          "value": 9,
          "variable": "Emisiones"
         },
         {
          "Año": 2017,
          "Fecha": "2017-02",
          "Ramo": "Acc.Personales",
          "value": 4,
          "variable": "Emisiones"
         },
         {
          "Año": 2017,
          "Fecha": "2017-03",
          "Ramo": "Acc.Personales",
          "value": 15,
          "variable": "Emisiones"
         },
         {
          "Año": 2017,
          "Fecha": "2017-04",
          "Ramo": "Acc.Personales",
          "value": 8,
          "variable": "Emisiones"
         },
         {
          "Año": 2017,
          "Fecha": "2017-05",
          "Ramo": "Acc.Personales",
          "value": 24,
          "variable": "Emisiones"
         },
         {
          "Año": 2017,
          "Fecha": "2017-06",
          "Ramo": "Acc.Personales",
          "value": 10,
          "variable": "Emisiones"
         },
         {
          "Año": 2017,
          "Fecha": "2017-07",
          "Ramo": "Acc.Personales",
          "value": 21,
          "variable": "Emisiones"
         },
         {
          "Año": 2017,
          "Fecha": "2017-08",
          "Ramo": "Acc.Personales",
          "value": 21,
          "variable": "Emisiones"
         },
         {
          "Año": 2017,
          "Fecha": "2017-09",
          "Ramo": "Acc.Personales",
          "value": 13,
          "variable": "Emisiones"
         },
         {
          "Año": 2017,
          "Fecha": "2017-10",
          "Ramo": "Acc.Personales",
          "value": 16,
          "variable": "Emisiones"
         },
         {
          "Año": 2017,
          "Fecha": "2017-11",
          "Ramo": "Acc.Personales",
          "value": 18,
          "variable": "Emisiones"
         },
         {
          "Año": 2017,
          "Fecha": "2017-12",
          "Ramo": "Acc.Personales",
          "value": 20,
          "variable": "Emisiones"
         },
         {
          "Año": 2017,
          "Fecha": "2017-01",
          "Ramo": "Incendio",
          "value": 0,
          "variable": "Emisiones"
         },
         {
          "Año": 2017,
          "Fecha": "2017-02",
          "Ramo": "Incendio",
          "value": 0,
          "variable": "Emisiones"
         },
         {
          "Año": 2017,
          "Fecha": "2017-03",
          "Ramo": "Incendio",
          "value": 0,
          "variable": "Emisiones"
         },
         {
          "Año": 2017,
          "Fecha": "2017-04",
          "Ramo": "Incendio",
          "value": 1,
          "variable": "Emisiones"
         },
         {
          "Año": 2017,
          "Fecha": "2017-05",
          "Ramo": "Incendio",
          "value": 1,
          "variable": "Emisiones"
         },
         {
          "Año": 2017,
          "Fecha": "2017-06",
          "Ramo": "Incendio",
          "value": 0,
          "variable": "Emisiones"
         },
         {
          "Año": 2017,
          "Fecha": "2017-07",
          "Ramo": "Incendio",
          "value": 0,
          "variable": "Emisiones"
         },
         {
          "Año": 2017,
          "Fecha": "2017-08",
          "Ramo": "Incendio",
          "value": 0,
          "variable": "Emisiones"
         },
         {
          "Año": 2017,
          "Fecha": "2017-09",
          "Ramo": "Incendio",
          "value": 0,
          "variable": "Emisiones"
         },
         {
          "Año": 2017,
          "Fecha": "2017-10",
          "Ramo": "Incendio",
          "value": 1,
          "variable": "Emisiones"
         },
         {
          "Año": 2017,
          "Fecha": "2017-11",
          "Ramo": "Incendio",
          "value": 0,
          "variable": "Emisiones"
         },
         {
          "Año": 2017,
          "Fecha": "2017-12",
          "Ramo": "Incendio",
          "value": 0,
          "variable": "Emisiones"
         },
         {
          "Año": 2017,
          "Fecha": "2017-01",
          "Ramo": "Caucion",
          "value": 4,
          "variable": "Emisiones"
         },
         {
          "Año": 2017,
          "Fecha": "2017-02",
          "Ramo": "Caucion",
          "value": 5,
          "variable": "Emisiones"
         },
         {
          "Año": 2017,
          "Fecha": "2017-03",
          "Ramo": "Caucion",
          "value": 2,
          "variable": "Emisiones"
         },
         {
          "Año": 2017,
          "Fecha": "2017-04",
          "Ramo": "Caucion",
          "value": 0,
          "variable": "Emisiones"
         },
         {
          "Año": 2017,
          "Fecha": "2017-05",
          "Ramo": "Caucion",
          "value": 8,
          "variable": "Emisiones"
         },
         {
          "Año": 2017,
          "Fecha": "2017-06",
          "Ramo": "Caucion",
          "value": 19,
          "variable": "Emisiones"
         },
         {
          "Año": 2017,
          "Fecha": "2017-07",
          "Ramo": "Caucion",
          "value": 1,
          "variable": "Emisiones"
         },
         {
          "Año": 2017,
          "Fecha": "2017-08",
          "Ramo": "Caucion",
          "value": 5,
          "variable": "Emisiones"
         },
         {
          "Año": 2017,
          "Fecha": "2017-09",
          "Ramo": "Caucion",
          "value": 1,
          "variable": "Emisiones"
         },
         {
          "Año": 2017,
          "Fecha": "2017-10",
          "Ramo": "Caucion",
          "value": 1,
          "variable": "Emisiones"
         },
         {
          "Año": 2017,
          "Fecha": "2017-11",
          "Ramo": "Caucion",
          "value": 1,
          "variable": "Emisiones"
         },
         {
          "Año": 2017,
          "Fecha": "2017-12",
          "Ramo": "Caucion",
          "value": 0,
          "variable": "Emisiones"
         },
         {
          "Año": 2017,
          "Fecha": "2017-01",
          "Ramo": "Acc. Fliares Transportados",
          "value": 55,
          "variable": "Emisiones"
         },
         {
          "Año": 2017,
          "Fecha": "2017-02",
          "Ramo": "Acc. Fliares Transportados",
          "value": 31,
          "variable": "Emisiones"
         },
         {
          "Año": 2017,
          "Fecha": "2017-03",
          "Ramo": "Acc. Fliares Transportados",
          "value": 38,
          "variable": "Emisiones"
         },
         {
          "Año": 2017,
          "Fecha": "2017-04",
          "Ramo": "Acc. Fliares Transportados",
          "value": 35,
          "variable": "Emisiones"
         },
         {
          "Año": 2017,
          "Fecha": "2017-05",
          "Ramo": "Acc. Fliares Transportados",
          "value": 59,
          "variable": "Emisiones"
         },
         {
          "Año": 2017,
          "Fecha": "2017-06",
          "Ramo": "Acc. Fliares Transportados",
          "value": 42,
          "variable": "Emisiones"
         },
         {
          "Año": 2017,
          "Fecha": "2017-07",
          "Ramo": "Acc. Fliares Transportados",
          "value": 50,
          "variable": "Emisiones"
         },
         {
          "Año": 2017,
          "Fecha": "2017-08",
          "Ramo": "Acc. Fliares Transportados",
          "value": 52,
          "variable": "Emisiones"
         },
         {
          "Año": 2017,
          "Fecha": "2017-09",
          "Ramo": "Acc. Fliares Transportados",
          "value": 51,
          "variable": "Emisiones"
         },
         {
          "Año": 2017,
          "Fecha": "2017-10",
          "Ramo": "Acc. Fliares Transportados",
          "value": 47,
          "variable": "Emisiones"
         },
         {
          "Año": 2017,
          "Fecha": "2017-11",
          "Ramo": "Acc. Fliares Transportados",
          "value": 36,
          "variable": "Emisiones"
         },
         {
          "Año": 2017,
          "Fecha": "2017-12",
          "Ramo": "Acc. Fliares Transportados",
          "value": 45,
          "variable": "Emisiones"
         },
         {
          "Año": 2017,
          "Fecha": "2017-01",
          "Ramo": "Vida Oblig.",
          "value": 2,
          "variable": "Emisiones"
         },
         {
          "Año": 2017,
          "Fecha": "2017-02",
          "Ramo": "Vida Oblig.",
          "value": 1,
          "variable": "Emisiones"
         },
         {
          "Año": 2017,
          "Fecha": "2017-03",
          "Ramo": "Vida Oblig.",
          "value": 1,
          "variable": "Emisiones"
         },
         {
          "Año": 2017,
          "Fecha": "2017-04",
          "Ramo": "Vida Oblig.",
          "value": 4,
          "variable": "Emisiones"
         },
         {
          "Año": 2017,
          "Fecha": "2017-05",
          "Ramo": "Vida Oblig.",
          "value": 6,
          "variable": "Emisiones"
         },
         {
          "Año": 2017,
          "Fecha": "2017-06",
          "Ramo": "Vida Oblig.",
          "value": 2,
          "variable": "Emisiones"
         },
         {
          "Año": 2017,
          "Fecha": "2017-07",
          "Ramo": "Vida Oblig.",
          "value": 5,
          "variable": "Emisiones"
         },
         {
          "Año": 2017,
          "Fecha": "2017-08",
          "Ramo": "Vida Oblig.",
          "value": 8,
          "variable": "Emisiones"
         },
         {
          "Año": 2017,
          "Fecha": "2017-09",
          "Ramo": "Vida Oblig.",
          "value": 3,
          "variable": "Emisiones"
         },
         {
          "Año": 2017,
          "Fecha": "2017-10",
          "Ramo": "Vida Oblig.",
          "value": 1,
          "variable": "Emisiones"
         },
         {
          "Año": 2017,
          "Fecha": "2017-11",
          "Ramo": "Vida Oblig.",
          "value": 12,
          "variable": "Emisiones"
         },
         {
          "Año": 2017,
          "Fecha": "2017-12",
          "Ramo": "Vida Oblig.",
          "value": 4,
          "variable": "Emisiones"
         },
         {
          "Año": 2017,
          "Fecha": "2017-01",
          "Ramo": "A.R.T.",
          "value": 2,
          "variable": "Emisiones"
         },
         {
          "Año": 2017,
          "Fecha": "2017-02",
          "Ramo": "A.R.T.",
          "value": 0,
          "variable": "Emisiones"
         },
         {
          "Año": 2017,
          "Fecha": "2017-03",
          "Ramo": "A.R.T.",
          "value": 0,
          "variable": "Emisiones"
         },
         {
          "Año": 2017,
          "Fecha": "2017-04",
          "Ramo": "A.R.T.",
          "value": 4,
          "variable": "Emisiones"
         },
         {
          "Año": 2017,
          "Fecha": "2017-05",
          "Ramo": "A.R.T.",
          "value": 4,
          "variable": "Emisiones"
         },
         {
          "Año": 2017,
          "Fecha": "2017-06",
          "Ramo": "A.R.T.",
          "value": 3,
          "variable": "Emisiones"
         },
         {
          "Año": 2017,
          "Fecha": "2017-07",
          "Ramo": "A.R.T.",
          "value": 3,
          "variable": "Emisiones"
         },
         {
          "Año": 2017,
          "Fecha": "2017-08",
          "Ramo": "A.R.T.",
          "value": 10,
          "variable": "Emisiones"
         },
         {
          "Año": 2017,
          "Fecha": "2017-09",
          "Ramo": "A.R.T.",
          "value": 3,
          "variable": "Emisiones"
         },
         {
          "Año": 2017,
          "Fecha": "2017-10",
          "Ramo": "A.R.T.",
          "value": 1,
          "variable": "Emisiones"
         },
         {
          "Año": 2017,
          "Fecha": "2017-11",
          "Ramo": "A.R.T.",
          "value": 7,
          "variable": "Emisiones"
         },
         {
          "Año": 2017,
          "Fecha": "2017-12",
          "Ramo": "A.R.T.",
          "value": 3,
          "variable": "Emisiones"
         },
         {
          "Año": 2017,
          "Fecha": "2017-01",
          "Ramo": "Resp.Civil",
          "value": 2,
          "variable": "Emisiones"
         },
         {
          "Año": 2017,
          "Fecha": "2017-02",
          "Ramo": "Resp.Civil",
          "value": 1,
          "variable": "Emisiones"
         },
         {
          "Año": 2017,
          "Fecha": "2017-03",
          "Ramo": "Resp.Civil",
          "value": 5,
          "variable": "Emisiones"
         },
         {
          "Año": 2017,
          "Fecha": "2017-04",
          "Ramo": "Resp.Civil",
          "value": 4,
          "variable": "Emisiones"
         },
         {
          "Año": 2017,
          "Fecha": "2017-05",
          "Ramo": "Resp.Civil",
          "value": 1,
          "variable": "Emisiones"
         },
         {
          "Año": 2017,
          "Fecha": "2017-06",
          "Ramo": "Resp.Civil",
          "value": 6,
          "variable": "Emisiones"
         },
         {
          "Año": 2017,
          "Fecha": "2017-07",
          "Ramo": "Resp.Civil",
          "value": 3,
          "variable": "Emisiones"
         },
         {
          "Año": 2017,
          "Fecha": "2017-08",
          "Ramo": "Resp.Civil",
          "value": 4,
          "variable": "Emisiones"
         },
         {
          "Año": 2017,
          "Fecha": "2017-09",
          "Ramo": "Resp.Civil",
          "value": 15,
          "variable": "Emisiones"
         },
         {
          "Año": 2017,
          "Fecha": "2017-10",
          "Ramo": "Resp.Civil",
          "value": 2,
          "variable": "Emisiones"
         },
         {
          "Año": 2017,
          "Fecha": "2017-11",
          "Ramo": "Resp.Civil",
          "value": 2,
          "variable": "Emisiones"
         },
         {
          "Año": 2017,
          "Fecha": "2017-12",
          "Ramo": "Resp.Civil",
          "value": 1,
          "variable": "Emisiones"
         },
         {
          "Año": 2017,
          "Fecha": "2017-01",
          "Ramo": "Todo Riesgo Operativo",
          "value": 0,
          "variable": "Emisiones"
         },
         {
          "Año": 2017,
          "Fecha": "2017-02",
          "Ramo": "Todo Riesgo Operativo",
          "value": 0,
          "variable": "Emisiones"
         },
         {
          "Año": 2017,
          "Fecha": "2017-03",
          "Ramo": "Todo Riesgo Operativo",
          "value": 0,
          "variable": "Emisiones"
         },
         {
          "Año": 2017,
          "Fecha": "2017-04",
          "Ramo": "Todo Riesgo Operativo",
          "value": 0,
          "variable": "Emisiones"
         },
         {
          "Año": 2017,
          "Fecha": "2017-05",
          "Ramo": "Todo Riesgo Operativo",
          "value": 0,
          "variable": "Emisiones"
         },
         {
          "Año": 2017,
          "Fecha": "2017-06",
          "Ramo": "Todo Riesgo Operativo",
          "value": 1,
          "variable": "Emisiones"
         },
         {
          "Año": 2017,
          "Fecha": "2017-07",
          "Ramo": "Todo Riesgo Operativo",
          "value": 0,
          "variable": "Emisiones"
         },
         {
          "Año": 2017,
          "Fecha": "2017-08",
          "Ramo": "Todo Riesgo Operativo",
          "value": 0,
          "variable": "Emisiones"
         },
         {
          "Año": 2017,
          "Fecha": "2017-09",
          "Ramo": "Todo Riesgo Operativo",
          "value": 0,
          "variable": "Emisiones"
         },
         {
          "Año": 2017,
          "Fecha": "2017-10",
          "Ramo": "Todo Riesgo Operativo",
          "value": 0,
          "variable": "Emisiones"
         },
         {
          "Año": 2017,
          "Fecha": "2017-11",
          "Ramo": "Todo Riesgo Operativo",
          "value": 0,
          "variable": "Emisiones"
         },
         {
          "Año": 2017,
          "Fecha": "2017-12",
          "Ramo": "Todo Riesgo Operativo",
          "value": 0,
          "variable": "Emisiones"
         },
         {
          "Año": 2017,
          "Fecha": "2017-01",
          "Ramo": "Int.de Comer.",
          "value": 0,
          "variable": "Emisiones"
         },
         {
          "Año": 2017,
          "Fecha": "2017-02",
          "Ramo": "Int.de Comer.",
          "value": 1,
          "variable": "Emisiones"
         },
         {
          "Año": 2017,
          "Fecha": "2017-03",
          "Ramo": "Int.de Comer.",
          "value": 3,
          "variable": "Emisiones"
         },
         {
          "Año": 2017,
          "Fecha": "2017-04",
          "Ramo": "Int.de Comer.",
          "value": 1,
          "variable": "Emisiones"
         },
         {
          "Año": 2017,
          "Fecha": "2017-05",
          "Ramo": "Int.de Comer.",
          "value": 7,
          "variable": "Emisiones"
         },
         {
          "Año": 2017,
          "Fecha": "2017-06",
          "Ramo": "Int.de Comer.",
          "value": 18,
          "variable": "Emisiones"
         },
         {
          "Año": 2017,
          "Fecha": "2017-07",
          "Ramo": "Int.de Comer.",
          "value": 9,
          "variable": "Emisiones"
         },
         {
          "Año": 2017,
          "Fecha": "2017-08",
          "Ramo": "Int.de Comer.",
          "value": 5,
          "variable": "Emisiones"
         },
         {
          "Año": 2017,
          "Fecha": "2017-09",
          "Ramo": "Int.de Comer.",
          "value": 8,
          "variable": "Emisiones"
         },
         {
          "Año": 2017,
          "Fecha": "2017-10",
          "Ramo": "Int.de Comer.",
          "value": 3,
          "variable": "Emisiones"
         },
         {
          "Año": 2017,
          "Fecha": "2017-11",
          "Ramo": "Int.de Comer.",
          "value": 1,
          "variable": "Emisiones"
         },
         {
          "Año": 2017,
          "Fecha": "2017-12",
          "Ramo": "Int.de Comer.",
          "value": 1,
          "variable": "Emisiones"
         },
         {
          "Año": 2017,
          "Fecha": "2017-01",
          "Ramo": "Moto - Vehículo",
          "value": 2,
          "variable": "Emisiones"
         },
         {
          "Año": 2017,
          "Fecha": "2017-02",
          "Ramo": "Moto - Vehículo",
          "value": 2,
          "variable": "Emisiones"
         },
         {
          "Año": 2017,
          "Fecha": "2017-03",
          "Ramo": "Moto - Vehículo",
          "value": 0,
          "variable": "Emisiones"
         },
         {
          "Año": 2017,
          "Fecha": "2017-04",
          "Ramo": "Moto - Vehículo",
          "value": 2,
          "variable": "Emisiones"
         },
         {
          "Año": 2017,
          "Fecha": "2017-05",
          "Ramo": "Moto - Vehículo",
          "value": 1,
          "variable": "Emisiones"
         },
         {
          "Año": 2017,
          "Fecha": "2017-06",
          "Ramo": "Moto - Vehículo",
          "value": 1,
          "variable": "Emisiones"
         },
         {
          "Año": 2017,
          "Fecha": "2017-07",
          "Ramo": "Moto - Vehículo",
          "value": 1,
          "variable": "Emisiones"
         },
         {
          "Año": 2017,
          "Fecha": "2017-08",
          "Ramo": "Moto - Vehículo",
          "value": 2,
          "variable": "Emisiones"
         },
         {
          "Año": 2017,
          "Fecha": "2017-09",
          "Ramo": "Moto - Vehículo",
          "value": 0,
          "variable": "Emisiones"
         },
         {
          "Año": 2017,
          "Fecha": "2017-10",
          "Ramo": "Moto - Vehículo",
          "value": 0,
          "variable": "Emisiones"
         },
         {
          "Año": 2017,
          "Fecha": "2017-11",
          "Ramo": "Moto - Vehículo",
          "value": 0,
          "variable": "Emisiones"
         },
         {
          "Año": 2017,
          "Fecha": "2017-12",
          "Ramo": "Moto - Vehículo",
          "value": 3,
          "variable": "Emisiones"
         },
         {
          "Año": 2017,
          "Fecha": "2017-01",
          "Ramo": "Sepelio",
          "value": 0,
          "variable": "Emisiones"
         },
         {
          "Año": 2017,
          "Fecha": "2017-02",
          "Ramo": "Sepelio",
          "value": 0,
          "variable": "Emisiones"
         },
         {
          "Año": 2017,
          "Fecha": "2017-03",
          "Ramo": "Sepelio",
          "value": 0,
          "variable": "Emisiones"
         },
         {
          "Año": 2017,
          "Fecha": "2017-04",
          "Ramo": "Sepelio",
          "value": 0,
          "variable": "Emisiones"
         },
         {
          "Año": 2017,
          "Fecha": "2017-05",
          "Ramo": "Sepelio",
          "value": 0,
          "variable": "Emisiones"
         },
         {
          "Año": 2017,
          "Fecha": "2017-06",
          "Ramo": "Sepelio",
          "value": 0,
          "variable": "Emisiones"
         },
         {
          "Año": 2017,
          "Fecha": "2017-07",
          "Ramo": "Sepelio",
          "value": 0,
          "variable": "Emisiones"
         },
         {
          "Año": 2017,
          "Fecha": "2017-08",
          "Ramo": "Sepelio",
          "value": 0,
          "variable": "Emisiones"
         },
         {
          "Año": 2017,
          "Fecha": "2017-09",
          "Ramo": "Sepelio",
          "value": 0,
          "variable": "Emisiones"
         },
         {
          "Año": 2017,
          "Fecha": "2017-10",
          "Ramo": "Sepelio",
          "value": 0,
          "variable": "Emisiones"
         },
         {
          "Año": 2017,
          "Fecha": "2017-11",
          "Ramo": "Sepelio",
          "value": 0,
          "variable": "Emisiones"
         },
         {
          "Año": 2017,
          "Fecha": "2017-12",
          "Ramo": "Sepelio",
          "value": 0,
          "variable": "Emisiones"
         },
         {
          "Año": 2017,
          "Fecha": "2017-01",
          "Ramo": "Vida Colectivo",
          "value": 1,
          "variable": "Emisiones"
         },
         {
          "Año": 2017,
          "Fecha": "2017-02",
          "Ramo": "Vida Colectivo",
          "value": 2,
          "variable": "Emisiones"
         },
         {
          "Año": 2017,
          "Fecha": "2017-03",
          "Ramo": "Vida Colectivo",
          "value": 0,
          "variable": "Emisiones"
         },
         {
          "Año": 2017,
          "Fecha": "2017-04",
          "Ramo": "Vida Colectivo",
          "value": 1,
          "variable": "Emisiones"
         },
         {
          "Año": 2017,
          "Fecha": "2017-05",
          "Ramo": "Vida Colectivo",
          "value": 1,
          "variable": "Emisiones"
         },
         {
          "Año": 2017,
          "Fecha": "2017-06",
          "Ramo": "Vida Colectivo",
          "value": 1,
          "variable": "Emisiones"
         },
         {
          "Año": 2017,
          "Fecha": "2017-07",
          "Ramo": "Vida Colectivo",
          "value": 0,
          "variable": "Emisiones"
         },
         {
          "Año": 2017,
          "Fecha": "2017-08",
          "Ramo": "Vida Colectivo",
          "value": 1,
          "variable": "Emisiones"
         },
         {
          "Año": 2017,
          "Fecha": "2017-09",
          "Ramo": "Vida Colectivo",
          "value": 0,
          "variable": "Emisiones"
         },
         {
          "Año": 2017,
          "Fecha": "2017-10",
          "Ramo": "Vida Colectivo",
          "value": 0,
          "variable": "Emisiones"
         },
         {
          "Año": 2017,
          "Fecha": "2017-11",
          "Ramo": "Vida Colectivo",
          "value": 2,
          "variable": "Emisiones"
         },
         {
          "Año": 2017,
          "Fecha": "2017-12",
          "Ramo": "Vida Colectivo",
          "value": 1,
          "variable": "Emisiones"
         },
         {
          "Año": 2017,
          "Fecha": "2017-01",
          "Ramo": "Seguro Tecnico",
          "value": 0,
          "variable": "Emisiones"
         },
         {
          "Año": 2017,
          "Fecha": "2017-02",
          "Ramo": "Seguro Tecnico",
          "value": 0,
          "variable": "Emisiones"
         },
         {
          "Año": 2017,
          "Fecha": "2017-03",
          "Ramo": "Seguro Tecnico",
          "value": 0,
          "variable": "Emisiones"
         },
         {
          "Año": 2017,
          "Fecha": "2017-04",
          "Ramo": "Seguro Tecnico",
          "value": 0,
          "variable": "Emisiones"
         },
         {
          "Año": 2017,
          "Fecha": "2017-05",
          "Ramo": "Seguro Tecnico",
          "value": 0,
          "variable": "Emisiones"
         },
         {
          "Año": 2017,
          "Fecha": "2017-06",
          "Ramo": "Seguro Tecnico",
          "value": 0,
          "variable": "Emisiones"
         },
         {
          "Año": 2017,
          "Fecha": "2017-07",
          "Ramo": "Seguro Tecnico",
          "value": 0,
          "variable": "Emisiones"
         },
         {
          "Año": 2017,
          "Fecha": "2017-08",
          "Ramo": "Seguro Tecnico",
          "value": 0,
          "variable": "Emisiones"
         },
         {
          "Año": 2017,
          "Fecha": "2017-09",
          "Ramo": "Seguro Tecnico",
          "value": 0,
          "variable": "Emisiones"
         },
         {
          "Año": 2017,
          "Fecha": "2017-10",
          "Ramo": "Seguro Tecnico",
          "value": 1,
          "variable": "Emisiones"
         },
         {
          "Año": 2017,
          "Fecha": "2017-11",
          "Ramo": "Seguro Tecnico",
          "value": 0,
          "variable": "Emisiones"
         },
         {
          "Año": 2017,
          "Fecha": "2017-12",
          "Ramo": "Seguro Tecnico",
          "value": 0,
          "variable": "Emisiones"
         },
         {
          "Año": 2017,
          "Fecha": "2017-01",
          "Ramo": "Incendio / Int. de Consorcio",
          "value": 0,
          "variable": "Emisiones"
         },
         {
          "Año": 2017,
          "Fecha": "2017-02",
          "Ramo": "Incendio / Int. de Consorcio",
          "value": 2,
          "variable": "Emisiones"
         },
         {
          "Año": 2017,
          "Fecha": "2017-03",
          "Ramo": "Incendio / Int. de Consorcio",
          "value": 1,
          "variable": "Emisiones"
         },
         {
          "Año": 2017,
          "Fecha": "2017-04",
          "Ramo": "Incendio / Int. de Consorcio",
          "value": 0,
          "variable": "Emisiones"
         },
         {
          "Año": 2017,
          "Fecha": "2017-05",
          "Ramo": "Incendio / Int. de Consorcio",
          "value": 1,
          "variable": "Emisiones"
         },
         {
          "Año": 2017,
          "Fecha": "2017-06",
          "Ramo": "Incendio / Int. de Consorcio",
          "value": 1,
          "variable": "Emisiones"
         },
         {
          "Año": 2017,
          "Fecha": "2017-07",
          "Ramo": "Incendio / Int. de Consorcio",
          "value": 1,
          "variable": "Emisiones"
         },
         {
          "Año": 2017,
          "Fecha": "2017-08",
          "Ramo": "Incendio / Int. de Consorcio",
          "value": 0,
          "variable": "Emisiones"
         },
         {
          "Año": 2017,
          "Fecha": "2017-09",
          "Ramo": "Incendio / Int. de Consorcio",
          "value": 0,
          "variable": "Emisiones"
         },
         {
          "Año": 2017,
          "Fecha": "2017-10",
          "Ramo": "Incendio / Int. de Consorcio",
          "value": 1,
          "variable": "Emisiones"
         },
         {
          "Año": 2017,
          "Fecha": "2017-11",
          "Ramo": "Incendio / Int. de Consorcio",
          "value": 1,
          "variable": "Emisiones"
         },
         {
          "Año": 2017,
          "Fecha": "2017-12",
          "Ramo": "Incendio / Int. de Consorcio",
          "value": 2,
          "variable": "Emisiones"
         },
         {
          "Año": 2017,
          "Fecha": "2017-01",
          "Ramo": "Transporte",
          "value": 0,
          "variable": "Emisiones"
         },
         {
          "Año": 2017,
          "Fecha": "2017-02",
          "Ramo": "Transporte",
          "value": 0,
          "variable": "Emisiones"
         },
         {
          "Año": 2017,
          "Fecha": "2017-03",
          "Ramo": "Transporte",
          "value": 0,
          "variable": "Emisiones"
         },
         {
          "Año": 2017,
          "Fecha": "2017-04",
          "Ramo": "Transporte",
          "value": 0,
          "variable": "Emisiones"
         },
         {
          "Año": 2017,
          "Fecha": "2017-05",
          "Ramo": "Transporte",
          "value": 0,
          "variable": "Emisiones"
         },
         {
          "Año": 2017,
          "Fecha": "2017-06",
          "Ramo": "Transporte",
          "value": 1,
          "variable": "Emisiones"
         },
         {
          "Año": 2017,
          "Fecha": "2017-07",
          "Ramo": "Transporte",
          "value": 0,
          "variable": "Emisiones"
         },
         {
          "Año": 2017,
          "Fecha": "2017-08",
          "Ramo": "Transporte",
          "value": 0,
          "variable": "Emisiones"
         },
         {
          "Año": 2017,
          "Fecha": "2017-09",
          "Ramo": "Transporte",
          "value": 1,
          "variable": "Emisiones"
         },
         {
          "Año": 2017,
          "Fecha": "2017-10",
          "Ramo": "Transporte",
          "value": 0,
          "variable": "Emisiones"
         },
         {
          "Año": 2017,
          "Fecha": "2017-11",
          "Ramo": "Transporte",
          "value": 0,
          "variable": "Emisiones"
         },
         {
          "Año": 2017,
          "Fecha": "2017-12",
          "Ramo": "Transporte",
          "value": 0,
          "variable": "Emisiones"
         },
         {
          "Año": 2017,
          "Fecha": "2017-01",
          "Ramo": "Vida Cont.Trab.",
          "value": 0,
          "variable": "Emisiones"
         },
         {
          "Año": 2017,
          "Fecha": "2017-02",
          "Ramo": "Vida Cont.Trab.",
          "value": 0,
          "variable": "Emisiones"
         },
         {
          "Año": 2017,
          "Fecha": "2017-03",
          "Ramo": "Vida Cont.Trab.",
          "value": 0,
          "variable": "Emisiones"
         },
         {
          "Año": 2017,
          "Fecha": "2017-04",
          "Ramo": "Vida Cont.Trab.",
          "value": 0,
          "variable": "Emisiones"
         },
         {
          "Año": 2017,
          "Fecha": "2017-05",
          "Ramo": "Vida Cont.Trab.",
          "value": 0,
          "variable": "Emisiones"
         },
         {
          "Año": 2017,
          "Fecha": "2017-06",
          "Ramo": "Vida Cont.Trab.",
          "value": 2,
          "variable": "Emisiones"
         },
         {
          "Año": 2017,
          "Fecha": "2017-07",
          "Ramo": "Vida Cont.Trab.",
          "value": 0,
          "variable": "Emisiones"
         },
         {
          "Año": 2017,
          "Fecha": "2017-08",
          "Ramo": "Vida Cont.Trab.",
          "value": 0,
          "variable": "Emisiones"
         },
         {
          "Año": 2017,
          "Fecha": "2017-09",
          "Ramo": "Vida Cont.Trab.",
          "value": 0,
          "variable": "Emisiones"
         },
         {
          "Año": 2017,
          "Fecha": "2017-10",
          "Ramo": "Vida Cont.Trab.",
          "value": 0,
          "variable": "Emisiones"
         },
         {
          "Año": 2017,
          "Fecha": "2017-11",
          "Ramo": "Vida Cont.Trab.",
          "value": 0,
          "variable": "Emisiones"
         },
         {
          "Año": 2017,
          "Fecha": "2017-12",
          "Ramo": "Vida Cont.Trab.",
          "value": 0,
          "variable": "Emisiones"
         },
         {
          "Año": 2017,
          "Fecha": "2017-01",
          "Ramo": "Robo",
          "value": 0,
          "variable": "Emisiones"
         },
         {
          "Año": 2017,
          "Fecha": "2017-02",
          "Ramo": "Robo",
          "value": 0,
          "variable": "Emisiones"
         },
         {
          "Año": 2017,
          "Fecha": "2017-03",
          "Ramo": "Robo",
          "value": 0,
          "variable": "Emisiones"
         },
         {
          "Año": 2017,
          "Fecha": "2017-04",
          "Ramo": "Robo",
          "value": 1,
          "variable": "Emisiones"
         },
         {
          "Año": 2017,
          "Fecha": "2017-05",
          "Ramo": "Robo",
          "value": 0,
          "variable": "Emisiones"
         },
         {
          "Año": 2017,
          "Fecha": "2017-06",
          "Ramo": "Robo",
          "value": 0,
          "variable": "Emisiones"
         },
         {
          "Año": 2017,
          "Fecha": "2017-07",
          "Ramo": "Robo",
          "value": 2,
          "variable": "Emisiones"
         },
         {
          "Año": 2017,
          "Fecha": "2017-08",
          "Ramo": "Robo",
          "value": 1,
          "variable": "Emisiones"
         },
         {
          "Año": 2017,
          "Fecha": "2017-09",
          "Ramo": "Robo",
          "value": 0,
          "variable": "Emisiones"
         },
         {
          "Año": 2017,
          "Fecha": "2017-10",
          "Ramo": "Robo",
          "value": 0,
          "variable": "Emisiones"
         },
         {
          "Año": 2017,
          "Fecha": "2017-11",
          "Ramo": "Robo",
          "value": 0,
          "variable": "Emisiones"
         },
         {
          "Año": 2017,
          "Fecha": "2017-12",
          "Ramo": "Robo",
          "value": 1,
          "variable": "Emisiones"
         },
         {
          "Año": 2017,
          "Fecha": "2017-01",
          "Ramo": "Salud",
          "value": 0,
          "variable": "Emisiones"
         },
         {
          "Año": 2017,
          "Fecha": "2017-02",
          "Ramo": "Salud",
          "value": 0,
          "variable": "Emisiones"
         },
         {
          "Año": 2017,
          "Fecha": "2017-03",
          "Ramo": "Salud",
          "value": 0,
          "variable": "Emisiones"
         },
         {
          "Año": 2017,
          "Fecha": "2017-04",
          "Ramo": "Salud",
          "value": 0,
          "variable": "Emisiones"
         },
         {
          "Año": 2017,
          "Fecha": "2017-05",
          "Ramo": "Salud",
          "value": 0,
          "variable": "Emisiones"
         },
         {
          "Año": 2017,
          "Fecha": "2017-06",
          "Ramo": "Salud",
          "value": 2,
          "variable": "Emisiones"
         },
         {
          "Año": 2017,
          "Fecha": "2017-07",
          "Ramo": "Salud",
          "value": 1,
          "variable": "Emisiones"
         },
         {
          "Año": 2017,
          "Fecha": "2017-08",
          "Ramo": "Salud",
          "value": 1,
          "variable": "Emisiones"
         },
         {
          "Año": 2017,
          "Fecha": "2017-09",
          "Ramo": "Salud",
          "value": 0,
          "variable": "Emisiones"
         },
         {
          "Año": 2017,
          "Fecha": "2017-10",
          "Ramo": "Salud",
          "value": 0,
          "variable": "Emisiones"
         },
         {
          "Año": 2017,
          "Fecha": "2017-11",
          "Ramo": "Salud",
          "value": 0,
          "variable": "Emisiones"
         },
         {
          "Año": 2017,
          "Fecha": "2017-12",
          "Ramo": "Salud",
          "value": 0,
          "variable": "Emisiones"
         },
         {
          "Año": 2017,
          "Fecha": "2017-01",
          "Ramo": "Acc.Pers.Auton.",
          "value": 0,
          "variable": "Emisiones"
         },
         {
          "Año": 2017,
          "Fecha": "2017-02",
          "Ramo": "Acc.Pers.Auton.",
          "value": 1,
          "variable": "Emisiones"
         },
         {
          "Año": 2017,
          "Fecha": "2017-03",
          "Ramo": "Acc.Pers.Auton.",
          "value": 1,
          "variable": "Emisiones"
         },
         {
          "Año": 2017,
          "Fecha": "2017-04",
          "Ramo": "Acc.Pers.Auton.",
          "value": 1,
          "variable": "Emisiones"
         },
         {
          "Año": 2017,
          "Fecha": "2017-05",
          "Ramo": "Acc.Pers.Auton.",
          "value": 0,
          "variable": "Emisiones"
         },
         {
          "Año": 2017,
          "Fecha": "2017-06",
          "Ramo": "Acc.Pers.Auton.",
          "value": 2,
          "variable": "Emisiones"
         },
         {
          "Año": 2017,
          "Fecha": "2017-07",
          "Ramo": "Acc.Pers.Auton.",
          "value": 1,
          "variable": "Emisiones"
         },
         {
          "Año": 2017,
          "Fecha": "2017-08",
          "Ramo": "Acc.Pers.Auton.",
          "value": 0,
          "variable": "Emisiones"
         },
         {
          "Año": 2017,
          "Fecha": "2017-09",
          "Ramo": "Acc.Pers.Auton.",
          "value": 1,
          "variable": "Emisiones"
         },
         {
          "Año": 2017,
          "Fecha": "2017-10",
          "Ramo": "Acc.Pers.Auton.",
          "value": 1,
          "variable": "Emisiones"
         },
         {
          "Año": 2017,
          "Fecha": "2017-11",
          "Ramo": "Acc.Pers.Auton.",
          "value": 0,
          "variable": "Emisiones"
         },
         {
          "Año": 2017,
          "Fecha": "2017-12",
          "Ramo": "Acc.Pers.Auton.",
          "value": 1,
          "variable": "Emisiones"
         },
         {
          "Año": 2017,
          "Fecha": "2017-01",
          "Ramo": "Cascos",
          "value": 0,
          "variable": "Emisiones"
         },
         {
          "Año": 2017,
          "Fecha": "2017-02",
          "Ramo": "Cascos",
          "value": 1,
          "variable": "Emisiones"
         },
         {
          "Año": 2017,
          "Fecha": "2017-03",
          "Ramo": "Cascos",
          "value": 0,
          "variable": "Emisiones"
         },
         {
          "Año": 2017,
          "Fecha": "2017-04",
          "Ramo": "Cascos",
          "value": 0,
          "variable": "Emisiones"
         },
         {
          "Año": 2017,
          "Fecha": "2017-05",
          "Ramo": "Cascos",
          "value": 0,
          "variable": "Emisiones"
         },
         {
          "Año": 2017,
          "Fecha": "2017-06",
          "Ramo": "Cascos",
          "value": 0,
          "variable": "Emisiones"
         },
         {
          "Año": 2017,
          "Fecha": "2017-07",
          "Ramo": "Cascos",
          "value": 0,
          "variable": "Emisiones"
         },
         {
          "Año": 2017,
          "Fecha": "2017-08",
          "Ramo": "Cascos",
          "value": 0,
          "variable": "Emisiones"
         },
         {
          "Año": 2017,
          "Fecha": "2017-09",
          "Ramo": "Cascos",
          "value": 1,
          "variable": "Emisiones"
         },
         {
          "Año": 2017,
          "Fecha": "2017-10",
          "Ramo": "Cascos",
          "value": 0,
          "variable": "Emisiones"
         },
         {
          "Año": 2017,
          "Fecha": "2017-11",
          "Ramo": "Cascos",
          "value": 0,
          "variable": "Emisiones"
         },
         {
          "Año": 2017,
          "Fecha": "2017-12",
          "Ramo": "Cascos",
          "value": 0,
          "variable": "Emisiones"
         },
         {
          "Año": 2017,
          "Fecha": "2017-01",
          "Ramo": "Int.Consorcio",
          "value": 0,
          "variable": "Emisiones"
         },
         {
          "Año": 2017,
          "Fecha": "2017-02",
          "Ramo": "Int.Consorcio",
          "value": 0,
          "variable": "Emisiones"
         },
         {
          "Año": 2017,
          "Fecha": "2017-03",
          "Ramo": "Int.Consorcio",
          "value": 0,
          "variable": "Emisiones"
         },
         {
          "Año": 2017,
          "Fecha": "2017-04",
          "Ramo": "Int.Consorcio",
          "value": 1,
          "variable": "Emisiones"
         },
         {
          "Año": 2017,
          "Fecha": "2017-05",
          "Ramo": "Int.Consorcio",
          "value": 0,
          "variable": "Emisiones"
         },
         {
          "Año": 2017,
          "Fecha": "2017-06",
          "Ramo": "Int.Consorcio",
          "value": 0,
          "variable": "Emisiones"
         },
         {
          "Año": 2017,
          "Fecha": "2017-07",
          "Ramo": "Int.Consorcio",
          "value": 0,
          "variable": "Emisiones"
         },
         {
          "Año": 2017,
          "Fecha": "2017-08",
          "Ramo": "Int.Consorcio",
          "value": 0,
          "variable": "Emisiones"
         },
         {
          "Año": 2017,
          "Fecha": "2017-09",
          "Ramo": "Int.Consorcio",
          "value": 0,
          "variable": "Emisiones"
         },
         {
          "Año": 2017,
          "Fecha": "2017-10",
          "Ramo": "Int.Consorcio",
          "value": 1,
          "variable": "Emisiones"
         },
         {
          "Año": 2017,
          "Fecha": "2017-11",
          "Ramo": "Int.Consorcio",
          "value": 0,
          "variable": "Emisiones"
         },
         {
          "Año": 2017,
          "Fecha": "2017-12",
          "Ramo": "Int.Consorcio",
          "value": 0,
          "variable": "Emisiones"
         },
         {
          "Año": 2017,
          "Fecha": "2017-01",
          "Ramo": "Riesgos Varios",
          "value": 0,
          "variable": "Emisiones"
         },
         {
          "Año": 2017,
          "Fecha": "2017-02",
          "Ramo": "Riesgos Varios",
          "value": 0,
          "variable": "Emisiones"
         },
         {
          "Año": 2017,
          "Fecha": "2017-03",
          "Ramo": "Riesgos Varios",
          "value": 0,
          "variable": "Emisiones"
         },
         {
          "Año": 2017,
          "Fecha": "2017-04",
          "Ramo": "Riesgos Varios",
          "value": 0,
          "variable": "Emisiones"
         },
         {
          "Año": 2017,
          "Fecha": "2017-05",
          "Ramo": "Riesgos Varios",
          "value": 0,
          "variable": "Emisiones"
         },
         {
          "Año": 2017,
          "Fecha": "2017-06",
          "Ramo": "Riesgos Varios",
          "value": 0,
          "variable": "Emisiones"
         },
         {
          "Año": 2017,
          "Fecha": "2017-07",
          "Ramo": "Riesgos Varios",
          "value": 2,
          "variable": "Emisiones"
         },
         {
          "Año": 2017,
          "Fecha": "2017-08",
          "Ramo": "Riesgos Varios",
          "value": 3,
          "variable": "Emisiones"
         },
         {
          "Año": 2017,
          "Fecha": "2017-09",
          "Ramo": "Riesgos Varios",
          "value": 0,
          "variable": "Emisiones"
         },
         {
          "Año": 2017,
          "Fecha": "2017-10",
          "Ramo": "Riesgos Varios",
          "value": 2,
          "variable": "Emisiones"
         },
         {
          "Año": 2017,
          "Fecha": "2017-11",
          "Ramo": "Riesgos Varios",
          "value": 1,
          "variable": "Emisiones"
         },
         {
          "Año": 2017,
          "Fecha": "2017-12",
          "Ramo": "Riesgos Varios",
          "value": 0,
          "variable": "Emisiones"
         },
         {
          "Año": 2017,
          "Fecha": "2017-01",
          "Ramo": "Cristales",
          "value": 0,
          "variable": "Emisiones"
         },
         {
          "Año": 2017,
          "Fecha": "2017-02",
          "Ramo": "Cristales",
          "value": 0,
          "variable": "Emisiones"
         },
         {
          "Año": 2017,
          "Fecha": "2017-03",
          "Ramo": "Cristales",
          "value": 0,
          "variable": "Emisiones"
         },
         {
          "Año": 2017,
          "Fecha": "2017-04",
          "Ramo": "Cristales",
          "value": 0,
          "variable": "Emisiones"
         },
         {
          "Año": 2017,
          "Fecha": "2017-05",
          "Ramo": "Cristales",
          "value": 0,
          "variable": "Emisiones"
         },
         {
          "Año": 2017,
          "Fecha": "2017-06",
          "Ramo": "Cristales",
          "value": 0,
          "variable": "Emisiones"
         },
         {
          "Año": 2017,
          "Fecha": "2017-07",
          "Ramo": "Cristales",
          "value": 0,
          "variable": "Emisiones"
         },
         {
          "Año": 2017,
          "Fecha": "2017-08",
          "Ramo": "Cristales",
          "value": 0,
          "variable": "Emisiones"
         },
         {
          "Año": 2017,
          "Fecha": "2017-09",
          "Ramo": "Cristales",
          "value": 0,
          "variable": "Emisiones"
         },
         {
          "Año": 2017,
          "Fecha": "2017-10",
          "Ramo": "Cristales",
          "value": 0,
          "variable": "Emisiones"
         },
         {
          "Año": 2017,
          "Fecha": "2017-11",
          "Ramo": "Cristales",
          "value": 0,
          "variable": "Emisiones"
         },
         {
          "Año": 2017,
          "Fecha": "2017-12",
          "Ramo": "Cristales",
          "value": 0,
          "variable": "Emisiones"
         },
         {
          "Año": 2017,
          "Fecha": "2017-01",
          "Ramo": "Perdida de Beneficio",
          "value": 0,
          "variable": "Emisiones"
         },
         {
          "Año": 2017,
          "Fecha": "2017-02",
          "Ramo": "Perdida de Beneficio",
          "value": 0,
          "variable": "Emisiones"
         },
         {
          "Año": 2017,
          "Fecha": "2017-03",
          "Ramo": "Perdida de Beneficio",
          "value": 0,
          "variable": "Emisiones"
         },
         {
          "Año": 2017,
          "Fecha": "2017-04",
          "Ramo": "Perdida de Beneficio",
          "value": 0,
          "variable": "Emisiones"
         },
         {
          "Año": 2017,
          "Fecha": "2017-05",
          "Ramo": "Perdida de Beneficio",
          "value": 0,
          "variable": "Emisiones"
         },
         {
          "Año": 2017,
          "Fecha": "2017-06",
          "Ramo": "Perdida de Beneficio",
          "value": 0,
          "variable": "Emisiones"
         },
         {
          "Año": 2017,
          "Fecha": "2017-07",
          "Ramo": "Perdida de Beneficio",
          "value": 0,
          "variable": "Emisiones"
         },
         {
          "Año": 2017,
          "Fecha": "2017-08",
          "Ramo": "Perdida de Beneficio",
          "value": 0,
          "variable": "Emisiones"
         },
         {
          "Año": 2017,
          "Fecha": "2017-09",
          "Ramo": "Perdida de Beneficio",
          "value": 0,
          "variable": "Emisiones"
         },
         {
          "Año": 2017,
          "Fecha": "2017-10",
          "Ramo": "Perdida de Beneficio",
          "value": 0,
          "variable": "Emisiones"
         },
         {
          "Año": 2017,
          "Fecha": "2017-11",
          "Ramo": "Perdida de Beneficio",
          "value": 0,
          "variable": "Emisiones"
         },
         {
          "Año": 2017,
          "Fecha": "2017-12",
          "Ramo": "Perdida de Beneficio",
          "value": 0,
          "variable": "Emisiones"
         },
         {
          "Año": 2018,
          "Fecha": "2018-01",
          "Ramo": "Vida individual",
          "value": 83,
          "variable": "Emisiones"
         },
         {
          "Año": 2018,
          "Fecha": "2018-02",
          "Ramo": "Vida individual",
          "value": 51,
          "variable": "Emisiones"
         },
         {
          "Año": 2018,
          "Fecha": "2018-03",
          "Ramo": "Vida individual",
          "value": 56,
          "variable": "Emisiones"
         },
         {
          "Año": 2018,
          "Fecha": "2018-04",
          "Ramo": "Vida individual",
          "value": 82,
          "variable": "Emisiones"
         },
         {
          "Año": 2018,
          "Fecha": "2018-05",
          "Ramo": "Vida individual",
          "value": 81,
          "variable": "Emisiones"
         },
         {
          "Año": 2018,
          "Fecha": "2018-06",
          "Ramo": "Vida individual",
          "value": 51,
          "variable": "Emisiones"
         },
         {
          "Año": 2018,
          "Fecha": "2018-07",
          "Ramo": "Vida individual",
          "value": 66,
          "variable": "Emisiones"
         },
         {
          "Año": 2018,
          "Fecha": "2018-08",
          "Ramo": "Vida individual",
          "value": 88,
          "variable": "Emisiones"
         },
         {
          "Año": 2018,
          "Fecha": "2018-09",
          "Ramo": "Vida individual",
          "value": 116,
          "variable": "Emisiones"
         },
         {
          "Año": 2018,
          "Fecha": "2018-10",
          "Ramo": "Vida individual",
          "value": 123,
          "variable": "Emisiones"
         },
         {
          "Año": 2018,
          "Fecha": "2018-11",
          "Ramo": "Vida individual",
          "value": 76,
          "variable": "Emisiones"
         },
         {
          "Año": 2018,
          "Fecha": "2018-12",
          "Ramo": "Vida individual",
          "value": 19,
          "variable": "Emisiones"
         },
         {
          "Año": 2018,
          "Fecha": "2018-01",
          "Ramo": "Automotores",
          "value": 67,
          "variable": "Emisiones"
         },
         {
          "Año": 2018,
          "Fecha": "2018-02",
          "Ramo": "Automotores",
          "value": 38,
          "variable": "Emisiones"
         },
         {
          "Año": 2018,
          "Fecha": "2018-03",
          "Ramo": "Automotores",
          "value": 58,
          "variable": "Emisiones"
         },
         {
          "Año": 2018,
          "Fecha": "2018-04",
          "Ramo": "Automotores",
          "value": 38,
          "variable": "Emisiones"
         },
         {
          "Año": 2018,
          "Fecha": "2018-05",
          "Ramo": "Automotores",
          "value": 50,
          "variable": "Emisiones"
         },
         {
          "Año": 2018,
          "Fecha": "2018-06",
          "Ramo": "Automotores",
          "value": 50,
          "variable": "Emisiones"
         },
         {
          "Año": 2018,
          "Fecha": "2018-07",
          "Ramo": "Automotores",
          "value": 47,
          "variable": "Emisiones"
         },
         {
          "Año": 2018,
          "Fecha": "2018-08",
          "Ramo": "Automotores",
          "value": 52,
          "variable": "Emisiones"
         },
         {
          "Año": 2018,
          "Fecha": "2018-09",
          "Ramo": "Automotores",
          "value": 39,
          "variable": "Emisiones"
         },
         {
          "Año": 2018,
          "Fecha": "2018-10",
          "Ramo": "Automotores",
          "value": 59,
          "variable": "Emisiones"
         },
         {
          "Año": 2018,
          "Fecha": "2018-11",
          "Ramo": "Automotores",
          "value": 54,
          "variable": "Emisiones"
         },
         {
          "Año": 2018,
          "Fecha": "2018-12",
          "Ramo": "Automotores",
          "value": 22,
          "variable": "Emisiones"
         },
         {
          "Año": 2018,
          "Fecha": "2018-01",
          "Ramo": "Comb.Familiar",
          "value": 3,
          "variable": "Emisiones"
         },
         {
          "Año": 2018,
          "Fecha": "2018-02",
          "Ramo": "Comb.Familiar",
          "value": 2,
          "variable": "Emisiones"
         },
         {
          "Año": 2018,
          "Fecha": "2018-03",
          "Ramo": "Comb.Familiar",
          "value": 2,
          "variable": "Emisiones"
         },
         {
          "Año": 2018,
          "Fecha": "2018-04",
          "Ramo": "Comb.Familiar",
          "value": 1,
          "variable": "Emisiones"
         },
         {
          "Año": 2018,
          "Fecha": "2018-05",
          "Ramo": "Comb.Familiar",
          "value": 3,
          "variable": "Emisiones"
         },
         {
          "Año": 2018,
          "Fecha": "2018-06",
          "Ramo": "Comb.Familiar",
          "value": 3,
          "variable": "Emisiones"
         },
         {
          "Año": 2018,
          "Fecha": "2018-07",
          "Ramo": "Comb.Familiar",
          "value": 4,
          "variable": "Emisiones"
         },
         {
          "Año": 2018,
          "Fecha": "2018-08",
          "Ramo": "Comb.Familiar",
          "value": 4,
          "variable": "Emisiones"
         },
         {
          "Año": 2018,
          "Fecha": "2018-09",
          "Ramo": "Comb.Familiar",
          "value": 8,
          "variable": "Emisiones"
         },
         {
          "Año": 2018,
          "Fecha": "2018-10",
          "Ramo": "Comb.Familiar",
          "value": 6,
          "variable": "Emisiones"
         },
         {
          "Año": 2018,
          "Fecha": "2018-11",
          "Ramo": "Comb.Familiar",
          "value": 2,
          "variable": "Emisiones"
         },
         {
          "Año": 2018,
          "Fecha": "2018-12",
          "Ramo": "Comb.Familiar",
          "value": 3,
          "variable": "Emisiones"
         },
         {
          "Año": 2018,
          "Fecha": "2018-01",
          "Ramo": "Acc.Personales",
          "value": 19,
          "variable": "Emisiones"
         },
         {
          "Año": 2018,
          "Fecha": "2018-02",
          "Ramo": "Acc.Personales",
          "value": 17,
          "variable": "Emisiones"
         },
         {
          "Año": 2018,
          "Fecha": "2018-03",
          "Ramo": "Acc.Personales",
          "value": 20,
          "variable": "Emisiones"
         },
         {
          "Año": 2018,
          "Fecha": "2018-04",
          "Ramo": "Acc.Personales",
          "value": 18,
          "variable": "Emisiones"
         },
         {
          "Año": 2018,
          "Fecha": "2018-05",
          "Ramo": "Acc.Personales",
          "value": 21,
          "variable": "Emisiones"
         },
         {
          "Año": 2018,
          "Fecha": "2018-06",
          "Ramo": "Acc.Personales",
          "value": 20,
          "variable": "Emisiones"
         },
         {
          "Año": 2018,
          "Fecha": "2018-07",
          "Ramo": "Acc.Personales",
          "value": 11,
          "variable": "Emisiones"
         },
         {
          "Año": 2018,
          "Fecha": "2018-08",
          "Ramo": "Acc.Personales",
          "value": 18,
          "variable": "Emisiones"
         },
         {
          "Año": 2018,
          "Fecha": "2018-09",
          "Ramo": "Acc.Personales",
          "value": 20,
          "variable": "Emisiones"
         },
         {
          "Año": 2018,
          "Fecha": "2018-10",
          "Ramo": "Acc.Personales",
          "value": 31,
          "variable": "Emisiones"
         },
         {
          "Año": 2018,
          "Fecha": "2018-11",
          "Ramo": "Acc.Personales",
          "value": 32,
          "variable": "Emisiones"
         },
         {
          "Año": 2018,
          "Fecha": "2018-12",
          "Ramo": "Acc.Personales",
          "value": 17,
          "variable": "Emisiones"
         },
         {
          "Año": 2018,
          "Fecha": "2018-01",
          "Ramo": "Incendio",
          "value": 0,
          "variable": "Emisiones"
         },
         {
          "Año": 2018,
          "Fecha": "2018-02",
          "Ramo": "Incendio",
          "value": 0,
          "variable": "Emisiones"
         },
         {
          "Año": 2018,
          "Fecha": "2018-03",
          "Ramo": "Incendio",
          "value": 0,
          "variable": "Emisiones"
         },
         {
          "Año": 2018,
          "Fecha": "2018-04",
          "Ramo": "Incendio",
          "value": 0,
          "variable": "Emisiones"
         },
         {
          "Año": 2018,
          "Fecha": "2018-05",
          "Ramo": "Incendio",
          "value": 0,
          "variable": "Emisiones"
         },
         {
          "Año": 2018,
          "Fecha": "2018-06",
          "Ramo": "Incendio",
          "value": 2,
          "variable": "Emisiones"
         },
         {
          "Año": 2018,
          "Fecha": "2018-07",
          "Ramo": "Incendio",
          "value": 0,
          "variable": "Emisiones"
         },
         {
          "Año": 2018,
          "Fecha": "2018-08",
          "Ramo": "Incendio",
          "value": 0,
          "variable": "Emisiones"
         },
         {
          "Año": 2018,
          "Fecha": "2018-09",
          "Ramo": "Incendio",
          "value": 2,
          "variable": "Emisiones"
         },
         {
          "Año": 2018,
          "Fecha": "2018-10",
          "Ramo": "Incendio",
          "value": 0,
          "variable": "Emisiones"
         },
         {
          "Año": 2018,
          "Fecha": "2018-11",
          "Ramo": "Incendio",
          "value": 0,
          "variable": "Emisiones"
         },
         {
          "Año": 2018,
          "Fecha": "2018-12",
          "Ramo": "Incendio",
          "value": 0,
          "variable": "Emisiones"
         },
         {
          "Año": 2018,
          "Fecha": "2018-01",
          "Ramo": "Caucion",
          "value": 0,
          "variable": "Emisiones"
         },
         {
          "Año": 2018,
          "Fecha": "2018-02",
          "Ramo": "Caucion",
          "value": 1,
          "variable": "Emisiones"
         },
         {
          "Año": 2018,
          "Fecha": "2018-03",
          "Ramo": "Caucion",
          "value": 3,
          "variable": "Emisiones"
         },
         {
          "Año": 2018,
          "Fecha": "2018-04",
          "Ramo": "Caucion",
          "value": 0,
          "variable": "Emisiones"
         },
         {
          "Año": 2018,
          "Fecha": "2018-05",
          "Ramo": "Caucion",
          "value": 22,
          "variable": "Emisiones"
         },
         {
          "Año": 2018,
          "Fecha": "2018-06",
          "Ramo": "Caucion",
          "value": 0,
          "variable": "Emisiones"
         },
         {
          "Año": 2018,
          "Fecha": "2018-07",
          "Ramo": "Caucion",
          "value": 0,
          "variable": "Emisiones"
         },
         {
          "Año": 2018,
          "Fecha": "2018-08",
          "Ramo": "Caucion",
          "value": 0,
          "variable": "Emisiones"
         },
         {
          "Año": 2018,
          "Fecha": "2018-09",
          "Ramo": "Caucion",
          "value": 1,
          "variable": "Emisiones"
         },
         {
          "Año": 2018,
          "Fecha": "2018-10",
          "Ramo": "Caucion",
          "value": 0,
          "variable": "Emisiones"
         },
         {
          "Año": 2018,
          "Fecha": "2018-11",
          "Ramo": "Caucion",
          "value": 2,
          "variable": "Emisiones"
         },
         {
          "Año": 2018,
          "Fecha": "2018-12",
          "Ramo": "Caucion",
          "value": 0,
          "variable": "Emisiones"
         },
         {
          "Año": 2018,
          "Fecha": "2018-01",
          "Ramo": "Acc. Fliares Transportados",
          "value": 29,
          "variable": "Emisiones"
         },
         {
          "Año": 2018,
          "Fecha": "2018-02",
          "Ramo": "Acc. Fliares Transportados",
          "value": 10,
          "variable": "Emisiones"
         },
         {
          "Año": 2018,
          "Fecha": "2018-03",
          "Ramo": "Acc. Fliares Transportados",
          "value": 10,
          "variable": "Emisiones"
         },
         {
          "Año": 2018,
          "Fecha": "2018-04",
          "Ramo": "Acc. Fliares Transportados",
          "value": 15,
          "variable": "Emisiones"
         },
         {
          "Año": 2018,
          "Fecha": "2018-05",
          "Ramo": "Acc. Fliares Transportados",
          "value": 16,
          "variable": "Emisiones"
         },
         {
          "Año": 2018,
          "Fecha": "2018-06",
          "Ramo": "Acc. Fliares Transportados",
          "value": 14,
          "variable": "Emisiones"
         },
         {
          "Año": 2018,
          "Fecha": "2018-07",
          "Ramo": "Acc. Fliares Transportados",
          "value": 13,
          "variable": "Emisiones"
         },
         {
          "Año": 2018,
          "Fecha": "2018-08",
          "Ramo": "Acc. Fliares Transportados",
          "value": 3,
          "variable": "Emisiones"
         },
         {
          "Año": 2018,
          "Fecha": "2018-09",
          "Ramo": "Acc. Fliares Transportados",
          "value": 1,
          "variable": "Emisiones"
         },
         {
          "Año": 2018,
          "Fecha": "2018-10",
          "Ramo": "Acc. Fliares Transportados",
          "value": 7,
          "variable": "Emisiones"
         },
         {
          "Año": 2018,
          "Fecha": "2018-11",
          "Ramo": "Acc. Fliares Transportados",
          "value": 3,
          "variable": "Emisiones"
         },
         {
          "Año": 2018,
          "Fecha": "2018-12",
          "Ramo": "Acc. Fliares Transportados",
          "value": 0,
          "variable": "Emisiones"
         },
         {
          "Año": 2018,
          "Fecha": "2018-01",
          "Ramo": "Vida Oblig.",
          "value": 4,
          "variable": "Emisiones"
         },
         {
          "Año": 2018,
          "Fecha": "2018-02",
          "Ramo": "Vida Oblig.",
          "value": 4,
          "variable": "Emisiones"
         },
         {
          "Año": 2018,
          "Fecha": "2018-03",
          "Ramo": "Vida Oblig.",
          "value": 4,
          "variable": "Emisiones"
         },
         {
          "Año": 2018,
          "Fecha": "2018-04",
          "Ramo": "Vida Oblig.",
          "value": 1,
          "variable": "Emisiones"
         },
         {
          "Año": 2018,
          "Fecha": "2018-05",
          "Ramo": "Vida Oblig.",
          "value": 11,
          "variable": "Emisiones"
         },
         {
          "Año": 2018,
          "Fecha": "2018-06",
          "Ramo": "Vida Oblig.",
          "value": 4,
          "variable": "Emisiones"
         },
         {
          "Año": 2018,
          "Fecha": "2018-07",
          "Ramo": "Vida Oblig.",
          "value": 7,
          "variable": "Emisiones"
         },
         {
          "Año": 2018,
          "Fecha": "2018-08",
          "Ramo": "Vida Oblig.",
          "value": 11,
          "variable": "Emisiones"
         },
         {
          "Año": 2018,
          "Fecha": "2018-09",
          "Ramo": "Vida Oblig.",
          "value": 6,
          "variable": "Emisiones"
         },
         {
          "Año": 2018,
          "Fecha": "2018-10",
          "Ramo": "Vida Oblig.",
          "value": 2,
          "variable": "Emisiones"
         },
         {
          "Año": 2018,
          "Fecha": "2018-11",
          "Ramo": "Vida Oblig.",
          "value": 9,
          "variable": "Emisiones"
         },
         {
          "Año": 2018,
          "Fecha": "2018-12",
          "Ramo": "Vida Oblig.",
          "value": 1,
          "variable": "Emisiones"
         },
         {
          "Año": 2018,
          "Fecha": "2018-01",
          "Ramo": "A.R.T.",
          "value": 6,
          "variable": "Emisiones"
         },
         {
          "Año": 2018,
          "Fecha": "2018-02",
          "Ramo": "A.R.T.",
          "value": 1,
          "variable": "Emisiones"
         },
         {
          "Año": 2018,
          "Fecha": "2018-03",
          "Ramo": "A.R.T.",
          "value": 1,
          "variable": "Emisiones"
         },
         {
          "Año": 2018,
          "Fecha": "2018-04",
          "Ramo": "A.R.T.",
          "value": 1,
          "variable": "Emisiones"
         },
         {
          "Año": 2018,
          "Fecha": "2018-05",
          "Ramo": "A.R.T.",
          "value": 2,
          "variable": "Emisiones"
         },
         {
          "Año": 2018,
          "Fecha": "2018-06",
          "Ramo": "A.R.T.",
          "value": 3,
          "variable": "Emisiones"
         },
         {
          "Año": 2018,
          "Fecha": "2018-07",
          "Ramo": "A.R.T.",
          "value": 6,
          "variable": "Emisiones"
         },
         {
          "Año": 2018,
          "Fecha": "2018-08",
          "Ramo": "A.R.T.",
          "value": 5,
          "variable": "Emisiones"
         },
         {
          "Año": 2018,
          "Fecha": "2018-09",
          "Ramo": "A.R.T.",
          "value": 2,
          "variable": "Emisiones"
         },
         {
          "Año": 2018,
          "Fecha": "2018-10",
          "Ramo": "A.R.T.",
          "value": 8,
          "variable": "Emisiones"
         },
         {
          "Año": 2018,
          "Fecha": "2018-11",
          "Ramo": "A.R.T.",
          "value": 6,
          "variable": "Emisiones"
         },
         {
          "Año": 2018,
          "Fecha": "2018-12",
          "Ramo": "A.R.T.",
          "value": 0,
          "variable": "Emisiones"
         },
         {
          "Año": 2018,
          "Fecha": "2018-01",
          "Ramo": "Resp.Civil",
          "value": 2,
          "variable": "Emisiones"
         },
         {
          "Año": 2018,
          "Fecha": "2018-02",
          "Ramo": "Resp.Civil",
          "value": 8,
          "variable": "Emisiones"
         },
         {
          "Año": 2018,
          "Fecha": "2018-03",
          "Ramo": "Resp.Civil",
          "value": 11,
          "variable": "Emisiones"
         },
         {
          "Año": 2018,
          "Fecha": "2018-04",
          "Ramo": "Resp.Civil",
          "value": 1,
          "variable": "Emisiones"
         },
         {
          "Año": 2018,
          "Fecha": "2018-05",
          "Ramo": "Resp.Civil",
          "value": 7,
          "variable": "Emisiones"
         },
         {
          "Año": 2018,
          "Fecha": "2018-06",
          "Ramo": "Resp.Civil",
          "value": 9,
          "variable": "Emisiones"
         },
         {
          "Año": 2018,
          "Fecha": "2018-07",
          "Ramo": "Resp.Civil",
          "value": 2,
          "variable": "Emisiones"
         },
         {
          "Año": 2018,
          "Fecha": "2018-08",
          "Ramo": "Resp.Civil",
          "value": 2,
          "variable": "Emisiones"
         },
         {
          "Año": 2018,
          "Fecha": "2018-09",
          "Ramo": "Resp.Civil",
          "value": 4,
          "variable": "Emisiones"
         },
         {
          "Año": 2018,
          "Fecha": "2018-10",
          "Ramo": "Resp.Civil",
          "value": 8,
          "variable": "Emisiones"
         },
         {
          "Año": 2018,
          "Fecha": "2018-11",
          "Ramo": "Resp.Civil",
          "value": 11,
          "variable": "Emisiones"
         },
         {
          "Año": 2018,
          "Fecha": "2018-12",
          "Ramo": "Resp.Civil",
          "value": 3,
          "variable": "Emisiones"
         },
         {
          "Año": 2018,
          "Fecha": "2018-01",
          "Ramo": "Todo Riesgo Operativo",
          "value": 0,
          "variable": "Emisiones"
         },
         {
          "Año": 2018,
          "Fecha": "2018-02",
          "Ramo": "Todo Riesgo Operativo",
          "value": 0,
          "variable": "Emisiones"
         },
         {
          "Año": 2018,
          "Fecha": "2018-03",
          "Ramo": "Todo Riesgo Operativo",
          "value": 0,
          "variable": "Emisiones"
         },
         {
          "Año": 2018,
          "Fecha": "2018-04",
          "Ramo": "Todo Riesgo Operativo",
          "value": 0,
          "variable": "Emisiones"
         },
         {
          "Año": 2018,
          "Fecha": "2018-05",
          "Ramo": "Todo Riesgo Operativo",
          "value": 0,
          "variable": "Emisiones"
         },
         {
          "Año": 2018,
          "Fecha": "2018-06",
          "Ramo": "Todo Riesgo Operativo",
          "value": 0,
          "variable": "Emisiones"
         },
         {
          "Año": 2018,
          "Fecha": "2018-07",
          "Ramo": "Todo Riesgo Operativo",
          "value": 0,
          "variable": "Emisiones"
         },
         {
          "Año": 2018,
          "Fecha": "2018-08",
          "Ramo": "Todo Riesgo Operativo",
          "value": 0,
          "variable": "Emisiones"
         },
         {
          "Año": 2018,
          "Fecha": "2018-09",
          "Ramo": "Todo Riesgo Operativo",
          "value": 0,
          "variable": "Emisiones"
         },
         {
          "Año": 2018,
          "Fecha": "2018-10",
          "Ramo": "Todo Riesgo Operativo",
          "value": 1,
          "variable": "Emisiones"
         },
         {
          "Año": 2018,
          "Fecha": "2018-11",
          "Ramo": "Todo Riesgo Operativo",
          "value": 0,
          "variable": "Emisiones"
         },
         {
          "Año": 2018,
          "Fecha": "2018-12",
          "Ramo": "Todo Riesgo Operativo",
          "value": 0,
          "variable": "Emisiones"
         },
         {
          "Año": 2018,
          "Fecha": "2018-01",
          "Ramo": "Int.de Comer.",
          "value": 1,
          "variable": "Emisiones"
         },
         {
          "Año": 2018,
          "Fecha": "2018-02",
          "Ramo": "Int.de Comer.",
          "value": 2,
          "variable": "Emisiones"
         },
         {
          "Año": 2018,
          "Fecha": "2018-03",
          "Ramo": "Int.de Comer.",
          "value": 2,
          "variable": "Emisiones"
         },
         {
          "Año": 2018,
          "Fecha": "2018-04",
          "Ramo": "Int.de Comer.",
          "value": 2,
          "variable": "Emisiones"
         },
         {
          "Año": 2018,
          "Fecha": "2018-05",
          "Ramo": "Int.de Comer.",
          "value": 0,
          "variable": "Emisiones"
         },
         {
          "Año": 2018,
          "Fecha": "2018-06",
          "Ramo": "Int.de Comer.",
          "value": 2,
          "variable": "Emisiones"
         },
         {
          "Año": 2018,
          "Fecha": "2018-07",
          "Ramo": "Int.de Comer.",
          "value": 1,
          "variable": "Emisiones"
         },
         {
          "Año": 2018,
          "Fecha": "2018-08",
          "Ramo": "Int.de Comer.",
          "value": 4,
          "variable": "Emisiones"
         },
         {
          "Año": 2018,
          "Fecha": "2018-09",
          "Ramo": "Int.de Comer.",
          "value": 5,
          "variable": "Emisiones"
         },
         {
          "Año": 2018,
          "Fecha": "2018-10",
          "Ramo": "Int.de Comer.",
          "value": 0,
          "variable": "Emisiones"
         },
         {
          "Año": 2018,
          "Fecha": "2018-11",
          "Ramo": "Int.de Comer.",
          "value": 2,
          "variable": "Emisiones"
         },
         {
          "Año": 2018,
          "Fecha": "2018-12",
          "Ramo": "Int.de Comer.",
          "value": 2,
          "variable": "Emisiones"
         },
         {
          "Año": 2018,
          "Fecha": "2018-01",
          "Ramo": "Moto - Vehículo",
          "value": 1,
          "variable": "Emisiones"
         },
         {
          "Año": 2018,
          "Fecha": "2018-02",
          "Ramo": "Moto - Vehículo",
          "value": 2,
          "variable": "Emisiones"
         },
         {
          "Año": 2018,
          "Fecha": "2018-03",
          "Ramo": "Moto - Vehículo",
          "value": 0,
          "variable": "Emisiones"
         },
         {
          "Año": 2018,
          "Fecha": "2018-04",
          "Ramo": "Moto - Vehículo",
          "value": 0,
          "variable": "Emisiones"
         },
         {
          "Año": 2018,
          "Fecha": "2018-05",
          "Ramo": "Moto - Vehículo",
          "value": 2,
          "variable": "Emisiones"
         },
         {
          "Año": 2018,
          "Fecha": "2018-06",
          "Ramo": "Moto - Vehículo",
          "value": 0,
          "variable": "Emisiones"
         },
         {
          "Año": 2018,
          "Fecha": "2018-07",
          "Ramo": "Moto - Vehículo",
          "value": 0,
          "variable": "Emisiones"
         },
         {
          "Año": 2018,
          "Fecha": "2018-08",
          "Ramo": "Moto - Vehículo",
          "value": 0,
          "variable": "Emisiones"
         },
         {
          "Año": 2018,
          "Fecha": "2018-09",
          "Ramo": "Moto - Vehículo",
          "value": 1,
          "variable": "Emisiones"
         },
         {
          "Año": 2018,
          "Fecha": "2018-10",
          "Ramo": "Moto - Vehículo",
          "value": 1,
          "variable": "Emisiones"
         },
         {
          "Año": 2018,
          "Fecha": "2018-11",
          "Ramo": "Moto - Vehículo",
          "value": 4,
          "variable": "Emisiones"
         },
         {
          "Año": 2018,
          "Fecha": "2018-12",
          "Ramo": "Moto - Vehículo",
          "value": 0,
          "variable": "Emisiones"
         },
         {
          "Año": 2018,
          "Fecha": "2018-01",
          "Ramo": "Sepelio",
          "value": 0,
          "variable": "Emisiones"
         },
         {
          "Año": 2018,
          "Fecha": "2018-02",
          "Ramo": "Sepelio",
          "value": 0,
          "variable": "Emisiones"
         },
         {
          "Año": 2018,
          "Fecha": "2018-03",
          "Ramo": "Sepelio",
          "value": 0,
          "variable": "Emisiones"
         },
         {
          "Año": 2018,
          "Fecha": "2018-04",
          "Ramo": "Sepelio",
          "value": 0,
          "variable": "Emisiones"
         },
         {
          "Año": 2018,
          "Fecha": "2018-05",
          "Ramo": "Sepelio",
          "value": 0,
          "variable": "Emisiones"
         },
         {
          "Año": 2018,
          "Fecha": "2018-06",
          "Ramo": "Sepelio",
          "value": 0,
          "variable": "Emisiones"
         },
         {
          "Año": 2018,
          "Fecha": "2018-07",
          "Ramo": "Sepelio",
          "value": 1,
          "variable": "Emisiones"
         },
         {
          "Año": 2018,
          "Fecha": "2018-08",
          "Ramo": "Sepelio",
          "value": 0,
          "variable": "Emisiones"
         },
         {
          "Año": 2018,
          "Fecha": "2018-09",
          "Ramo": "Sepelio",
          "value": 0,
          "variable": "Emisiones"
         },
         {
          "Año": 2018,
          "Fecha": "2018-10",
          "Ramo": "Sepelio",
          "value": 1,
          "variable": "Emisiones"
         },
         {
          "Año": 2018,
          "Fecha": "2018-11",
          "Ramo": "Sepelio",
          "value": 0,
          "variable": "Emisiones"
         },
         {
          "Año": 2018,
          "Fecha": "2018-12",
          "Ramo": "Sepelio",
          "value": 0,
          "variable": "Emisiones"
         },
         {
          "Año": 2018,
          "Fecha": "2018-01",
          "Ramo": "Vida Colectivo",
          "value": 0,
          "variable": "Emisiones"
         },
         {
          "Año": 2018,
          "Fecha": "2018-02",
          "Ramo": "Vida Colectivo",
          "value": 0,
          "variable": "Emisiones"
         },
         {
          "Año": 2018,
          "Fecha": "2018-03",
          "Ramo": "Vida Colectivo",
          "value": 1,
          "variable": "Emisiones"
         },
         {
          "Año": 2018,
          "Fecha": "2018-04",
          "Ramo": "Vida Colectivo",
          "value": 3,
          "variable": "Emisiones"
         },
         {
          "Año": 2018,
          "Fecha": "2018-05",
          "Ramo": "Vida Colectivo",
          "value": 6,
          "variable": "Emisiones"
         },
         {
          "Año": 2018,
          "Fecha": "2018-06",
          "Ramo": "Vida Colectivo",
          "value": 1,
          "variable": "Emisiones"
         },
         {
          "Año": 2018,
          "Fecha": "2018-07",
          "Ramo": "Vida Colectivo",
          "value": 1,
          "variable": "Emisiones"
         },
         {
          "Año": 2018,
          "Fecha": "2018-08",
          "Ramo": "Vida Colectivo",
          "value": 3,
          "variable": "Emisiones"
         },
         {
          "Año": 2018,
          "Fecha": "2018-09",
          "Ramo": "Vida Colectivo",
          "value": 1,
          "variable": "Emisiones"
         },
         {
          "Año": 2018,
          "Fecha": "2018-10",
          "Ramo": "Vida Colectivo",
          "value": 1,
          "variable": "Emisiones"
         },
         {
          "Año": 2018,
          "Fecha": "2018-11",
          "Ramo": "Vida Colectivo",
          "value": 1,
          "variable": "Emisiones"
         },
         {
          "Año": 2018,
          "Fecha": "2018-12",
          "Ramo": "Vida Colectivo",
          "value": 0,
          "variable": "Emisiones"
         },
         {
          "Año": 2018,
          "Fecha": "2018-01",
          "Ramo": "Seguro Tecnico",
          "value": 0,
          "variable": "Emisiones"
         },
         {
          "Año": 2018,
          "Fecha": "2018-02",
          "Ramo": "Seguro Tecnico",
          "value": 0,
          "variable": "Emisiones"
         },
         {
          "Año": 2018,
          "Fecha": "2018-03",
          "Ramo": "Seguro Tecnico",
          "value": 0,
          "variable": "Emisiones"
         },
         {
          "Año": 2018,
          "Fecha": "2018-04",
          "Ramo": "Seguro Tecnico",
          "value": 0,
          "variable": "Emisiones"
         },
         {
          "Año": 2018,
          "Fecha": "2018-05",
          "Ramo": "Seguro Tecnico",
          "value": 1,
          "variable": "Emisiones"
         },
         {
          "Año": 2018,
          "Fecha": "2018-06",
          "Ramo": "Seguro Tecnico",
          "value": 0,
          "variable": "Emisiones"
         },
         {
          "Año": 2018,
          "Fecha": "2018-07",
          "Ramo": "Seguro Tecnico",
          "value": 0,
          "variable": "Emisiones"
         },
         {
          "Año": 2018,
          "Fecha": "2018-08",
          "Ramo": "Seguro Tecnico",
          "value": 0,
          "variable": "Emisiones"
         },
         {
          "Año": 2018,
          "Fecha": "2018-09",
          "Ramo": "Seguro Tecnico",
          "value": 1,
          "variable": "Emisiones"
         },
         {
          "Año": 2018,
          "Fecha": "2018-10",
          "Ramo": "Seguro Tecnico",
          "value": 2,
          "variable": "Emisiones"
         },
         {
          "Año": 2018,
          "Fecha": "2018-11",
          "Ramo": "Seguro Tecnico",
          "value": 2,
          "variable": "Emisiones"
         },
         {
          "Año": 2018,
          "Fecha": "2018-12",
          "Ramo": "Seguro Tecnico",
          "value": 0,
          "variable": "Emisiones"
         },
         {
          "Año": 2018,
          "Fecha": "2018-01",
          "Ramo": "Incendio / Int. de Consorcio",
          "value": 0,
          "variable": "Emisiones"
         },
         {
          "Año": 2018,
          "Fecha": "2018-02",
          "Ramo": "Incendio / Int. de Consorcio",
          "value": 3,
          "variable": "Emisiones"
         },
         {
          "Año": 2018,
          "Fecha": "2018-03",
          "Ramo": "Incendio / Int. de Consorcio",
          "value": 1,
          "variable": "Emisiones"
         },
         {
          "Año": 2018,
          "Fecha": "2018-04",
          "Ramo": "Incendio / Int. de Consorcio",
          "value": 2,
          "variable": "Emisiones"
         },
         {
          "Año": 2018,
          "Fecha": "2018-05",
          "Ramo": "Incendio / Int. de Consorcio",
          "value": 6,
          "variable": "Emisiones"
         },
         {
          "Año": 2018,
          "Fecha": "2018-06",
          "Ramo": "Incendio / Int. de Consorcio",
          "value": 5,
          "variable": "Emisiones"
         },
         {
          "Año": 2018,
          "Fecha": "2018-07",
          "Ramo": "Incendio / Int. de Consorcio",
          "value": 1,
          "variable": "Emisiones"
         },
         {
          "Año": 2018,
          "Fecha": "2018-08",
          "Ramo": "Incendio / Int. de Consorcio",
          "value": 2,
          "variable": "Emisiones"
         },
         {
          "Año": 2018,
          "Fecha": "2018-09",
          "Ramo": "Incendio / Int. de Consorcio",
          "value": 6,
          "variable": "Emisiones"
         },
         {
          "Año": 2018,
          "Fecha": "2018-10",
          "Ramo": "Incendio / Int. de Consorcio",
          "value": 1,
          "variable": "Emisiones"
         },
         {
          "Año": 2018,
          "Fecha": "2018-11",
          "Ramo": "Incendio / Int. de Consorcio",
          "value": 5,
          "variable": "Emisiones"
         },
         {
          "Año": 2018,
          "Fecha": "2018-12",
          "Ramo": "Incendio / Int. de Consorcio",
          "value": 1,
          "variable": "Emisiones"
         },
         {
          "Año": 2018,
          "Fecha": "2018-01",
          "Ramo": "Transporte",
          "value": 0,
          "variable": "Emisiones"
         },
         {
          "Año": 2018,
          "Fecha": "2018-02",
          "Ramo": "Transporte",
          "value": 0,
          "variable": "Emisiones"
         },
         {
          "Año": 2018,
          "Fecha": "2018-03",
          "Ramo": "Transporte",
          "value": 0,
          "variable": "Emisiones"
         },
         {
          "Año": 2018,
          "Fecha": "2018-04",
          "Ramo": "Transporte",
          "value": 0,
          "variable": "Emisiones"
         },
         {
          "Año": 2018,
          "Fecha": "2018-05",
          "Ramo": "Transporte",
          "value": 0,
          "variable": "Emisiones"
         },
         {
          "Año": 2018,
          "Fecha": "2018-06",
          "Ramo": "Transporte",
          "value": 0,
          "variable": "Emisiones"
         },
         {
          "Año": 2018,
          "Fecha": "2018-07",
          "Ramo": "Transporte",
          "value": 0,
          "variable": "Emisiones"
         },
         {
          "Año": 2018,
          "Fecha": "2018-08",
          "Ramo": "Transporte",
          "value": 0,
          "variable": "Emisiones"
         },
         {
          "Año": 2018,
          "Fecha": "2018-09",
          "Ramo": "Transporte",
          "value": 0,
          "variable": "Emisiones"
         },
         {
          "Año": 2018,
          "Fecha": "2018-10",
          "Ramo": "Transporte",
          "value": 0,
          "variable": "Emisiones"
         },
         {
          "Año": 2018,
          "Fecha": "2018-11",
          "Ramo": "Transporte",
          "value": 1,
          "variable": "Emisiones"
         },
         {
          "Año": 2018,
          "Fecha": "2018-12",
          "Ramo": "Transporte",
          "value": 0,
          "variable": "Emisiones"
         },
         {
          "Año": 2018,
          "Fecha": "2018-01",
          "Ramo": "Vida Cont.Trab.",
          "value": 0,
          "variable": "Emisiones"
         },
         {
          "Año": 2018,
          "Fecha": "2018-02",
          "Ramo": "Vida Cont.Trab.",
          "value": 0,
          "variable": "Emisiones"
         },
         {
          "Año": 2018,
          "Fecha": "2018-03",
          "Ramo": "Vida Cont.Trab.",
          "value": 0,
          "variable": "Emisiones"
         },
         {
          "Año": 2018,
          "Fecha": "2018-04",
          "Ramo": "Vida Cont.Trab.",
          "value": 0,
          "variable": "Emisiones"
         },
         {
          "Año": 2018,
          "Fecha": "2018-05",
          "Ramo": "Vida Cont.Trab.",
          "value": 0,
          "variable": "Emisiones"
         },
         {
          "Año": 2018,
          "Fecha": "2018-06",
          "Ramo": "Vida Cont.Trab.",
          "value": 0,
          "variable": "Emisiones"
         },
         {
          "Año": 2018,
          "Fecha": "2018-07",
          "Ramo": "Vida Cont.Trab.",
          "value": 0,
          "variable": "Emisiones"
         },
         {
          "Año": 2018,
          "Fecha": "2018-08",
          "Ramo": "Vida Cont.Trab.",
          "value": 0,
          "variable": "Emisiones"
         },
         {
          "Año": 2018,
          "Fecha": "2018-09",
          "Ramo": "Vida Cont.Trab.",
          "value": 0,
          "variable": "Emisiones"
         },
         {
          "Año": 2018,
          "Fecha": "2018-10",
          "Ramo": "Vida Cont.Trab.",
          "value": 0,
          "variable": "Emisiones"
         },
         {
          "Año": 2018,
          "Fecha": "2018-11",
          "Ramo": "Vida Cont.Trab.",
          "value": 0,
          "variable": "Emisiones"
         },
         {
          "Año": 2018,
          "Fecha": "2018-12",
          "Ramo": "Vida Cont.Trab.",
          "value": 0,
          "variable": "Emisiones"
         },
         {
          "Año": 2018,
          "Fecha": "2018-01",
          "Ramo": "Robo",
          "value": 1,
          "variable": "Emisiones"
         },
         {
          "Año": 2018,
          "Fecha": "2018-02",
          "Ramo": "Robo",
          "value": 1,
          "variable": "Emisiones"
         },
         {
          "Año": 2018,
          "Fecha": "2018-03",
          "Ramo": "Robo",
          "value": 0,
          "variable": "Emisiones"
         },
         {
          "Año": 2018,
          "Fecha": "2018-04",
          "Ramo": "Robo",
          "value": 0,
          "variable": "Emisiones"
         },
         {
          "Año": 2018,
          "Fecha": "2018-05",
          "Ramo": "Robo",
          "value": 0,
          "variable": "Emisiones"
         },
         {
          "Año": 2018,
          "Fecha": "2018-06",
          "Ramo": "Robo",
          "value": 0,
          "variable": "Emisiones"
         },
         {
          "Año": 2018,
          "Fecha": "2018-07",
          "Ramo": "Robo",
          "value": 2,
          "variable": "Emisiones"
         },
         {
          "Año": 2018,
          "Fecha": "2018-08",
          "Ramo": "Robo",
          "value": 0,
          "variable": "Emisiones"
         },
         {
          "Año": 2018,
          "Fecha": "2018-09",
          "Ramo": "Robo",
          "value": 3,
          "variable": "Emisiones"
         },
         {
          "Año": 2018,
          "Fecha": "2018-10",
          "Ramo": "Robo",
          "value": 2,
          "variable": "Emisiones"
         },
         {
          "Año": 2018,
          "Fecha": "2018-11",
          "Ramo": "Robo",
          "value": 1,
          "variable": "Emisiones"
         },
         {
          "Año": 2018,
          "Fecha": "2018-12",
          "Ramo": "Robo",
          "value": 0,
          "variable": "Emisiones"
         },
         {
          "Año": 2018,
          "Fecha": "2018-01",
          "Ramo": "Salud",
          "value": 0,
          "variable": "Emisiones"
         },
         {
          "Año": 2018,
          "Fecha": "2018-02",
          "Ramo": "Salud",
          "value": 0,
          "variable": "Emisiones"
         },
         {
          "Año": 2018,
          "Fecha": "2018-03",
          "Ramo": "Salud",
          "value": 0,
          "variable": "Emisiones"
         },
         {
          "Año": 2018,
          "Fecha": "2018-04",
          "Ramo": "Salud",
          "value": 0,
          "variable": "Emisiones"
         },
         {
          "Año": 2018,
          "Fecha": "2018-05",
          "Ramo": "Salud",
          "value": 0,
          "variable": "Emisiones"
         },
         {
          "Año": 2018,
          "Fecha": "2018-06",
          "Ramo": "Salud",
          "value": 0,
          "variable": "Emisiones"
         },
         {
          "Año": 2018,
          "Fecha": "2018-07",
          "Ramo": "Salud",
          "value": 2,
          "variable": "Emisiones"
         },
         {
          "Año": 2018,
          "Fecha": "2018-08",
          "Ramo": "Salud",
          "value": 0,
          "variable": "Emisiones"
         },
         {
          "Año": 2018,
          "Fecha": "2018-09",
          "Ramo": "Salud",
          "value": 11,
          "variable": "Emisiones"
         },
         {
          "Año": 2018,
          "Fecha": "2018-10",
          "Ramo": "Salud",
          "value": 105,
          "variable": "Emisiones"
         },
         {
          "Año": 2018,
          "Fecha": "2018-11",
          "Ramo": "Salud",
          "value": 61,
          "variable": "Emisiones"
         },
         {
          "Año": 2018,
          "Fecha": "2018-12",
          "Ramo": "Salud",
          "value": 17,
          "variable": "Emisiones"
         },
         {
          "Año": 2018,
          "Fecha": "2018-01",
          "Ramo": "Acc.Pers.Auton.",
          "value": 0,
          "variable": "Emisiones"
         },
         {
          "Año": 2018,
          "Fecha": "2018-02",
          "Ramo": "Acc.Pers.Auton.",
          "value": 0,
          "variable": "Emisiones"
         },
         {
          "Año": 2018,
          "Fecha": "2018-03",
          "Ramo": "Acc.Pers.Auton.",
          "value": 0,
          "variable": "Emisiones"
         },
         {
          "Año": 2018,
          "Fecha": "2018-04",
          "Ramo": "Acc.Pers.Auton.",
          "value": 0,
          "variable": "Emisiones"
         },
         {
          "Año": 2018,
          "Fecha": "2018-05",
          "Ramo": "Acc.Pers.Auton.",
          "value": 1,
          "variable": "Emisiones"
         },
         {
          "Año": 2018,
          "Fecha": "2018-06",
          "Ramo": "Acc.Pers.Auton.",
          "value": 0,
          "variable": "Emisiones"
         },
         {
          "Año": 2018,
          "Fecha": "2018-07",
          "Ramo": "Acc.Pers.Auton.",
          "value": 0,
          "variable": "Emisiones"
         },
         {
          "Año": 2018,
          "Fecha": "2018-08",
          "Ramo": "Acc.Pers.Auton.",
          "value": 0,
          "variable": "Emisiones"
         },
         {
          "Año": 2018,
          "Fecha": "2018-09",
          "Ramo": "Acc.Pers.Auton.",
          "value": 0,
          "variable": "Emisiones"
         },
         {
          "Año": 2018,
          "Fecha": "2018-10",
          "Ramo": "Acc.Pers.Auton.",
          "value": 0,
          "variable": "Emisiones"
         },
         {
          "Año": 2018,
          "Fecha": "2018-11",
          "Ramo": "Acc.Pers.Auton.",
          "value": 0,
          "variable": "Emisiones"
         },
         {
          "Año": 2018,
          "Fecha": "2018-12",
          "Ramo": "Acc.Pers.Auton.",
          "value": 0,
          "variable": "Emisiones"
         },
         {
          "Año": 2018,
          "Fecha": "2018-01",
          "Ramo": "Cascos",
          "value": 0,
          "variable": "Emisiones"
         },
         {
          "Año": 2018,
          "Fecha": "2018-02",
          "Ramo": "Cascos",
          "value": 0,
          "variable": "Emisiones"
         },
         {
          "Año": 2018,
          "Fecha": "2018-03",
          "Ramo": "Cascos",
          "value": 1,
          "variable": "Emisiones"
         },
         {
          "Año": 2018,
          "Fecha": "2018-04",
          "Ramo": "Cascos",
          "value": 1,
          "variable": "Emisiones"
         },
         {
          "Año": 2018,
          "Fecha": "2018-05",
          "Ramo": "Cascos",
          "value": 0,
          "variable": "Emisiones"
         },
         {
          "Año": 2018,
          "Fecha": "2018-06",
          "Ramo": "Cascos",
          "value": 0,
          "variable": "Emisiones"
         },
         {
          "Año": 2018,
          "Fecha": "2018-07",
          "Ramo": "Cascos",
          "value": 0,
          "variable": "Emisiones"
         },
         {
          "Año": 2018,
          "Fecha": "2018-08",
          "Ramo": "Cascos",
          "value": 0,
          "variable": "Emisiones"
         },
         {
          "Año": 2018,
          "Fecha": "2018-09",
          "Ramo": "Cascos",
          "value": 0,
          "variable": "Emisiones"
         },
         {
          "Año": 2018,
          "Fecha": "2018-10",
          "Ramo": "Cascos",
          "value": 0,
          "variable": "Emisiones"
         },
         {
          "Año": 2018,
          "Fecha": "2018-11",
          "Ramo": "Cascos",
          "value": 0,
          "variable": "Emisiones"
         },
         {
          "Año": 2018,
          "Fecha": "2018-12",
          "Ramo": "Cascos",
          "value": 0,
          "variable": "Emisiones"
         },
         {
          "Año": 2018,
          "Fecha": "2018-01",
          "Ramo": "Int.Consorcio",
          "value": 0,
          "variable": "Emisiones"
         },
         {
          "Año": 2018,
          "Fecha": "2018-02",
          "Ramo": "Int.Consorcio",
          "value": 0,
          "variable": "Emisiones"
         },
         {
          "Año": 2018,
          "Fecha": "2018-03",
          "Ramo": "Int.Consorcio",
          "value": 0,
          "variable": "Emisiones"
         },
         {
          "Año": 2018,
          "Fecha": "2018-04",
          "Ramo": "Int.Consorcio",
          "value": 0,
          "variable": "Emisiones"
         },
         {
          "Año": 2018,
          "Fecha": "2018-05",
          "Ramo": "Int.Consorcio",
          "value": 0,
          "variable": "Emisiones"
         },
         {
          "Año": 2018,
          "Fecha": "2018-06",
          "Ramo": "Int.Consorcio",
          "value": 1,
          "variable": "Emisiones"
         },
         {
          "Año": 2018,
          "Fecha": "2018-07",
          "Ramo": "Int.Consorcio",
          "value": 0,
          "variable": "Emisiones"
         },
         {
          "Año": 2018,
          "Fecha": "2018-08",
          "Ramo": "Int.Consorcio",
          "value": 0,
          "variable": "Emisiones"
         },
         {
          "Año": 2018,
          "Fecha": "2018-09",
          "Ramo": "Int.Consorcio",
          "value": 0,
          "variable": "Emisiones"
         },
         {
          "Año": 2018,
          "Fecha": "2018-10",
          "Ramo": "Int.Consorcio",
          "value": 0,
          "variable": "Emisiones"
         },
         {
          "Año": 2018,
          "Fecha": "2018-11",
          "Ramo": "Int.Consorcio",
          "value": 0,
          "variable": "Emisiones"
         },
         {
          "Año": 2018,
          "Fecha": "2018-12",
          "Ramo": "Int.Consorcio",
          "value": 0,
          "variable": "Emisiones"
         },
         {
          "Año": 2018,
          "Fecha": "2018-01",
          "Ramo": "Riesgos Varios",
          "value": 44,
          "variable": "Emisiones"
         },
         {
          "Año": 2018,
          "Fecha": "2018-02",
          "Ramo": "Riesgos Varios",
          "value": 40,
          "variable": "Emisiones"
         },
         {
          "Año": 2018,
          "Fecha": "2018-03",
          "Ramo": "Riesgos Varios",
          "value": 40,
          "variable": "Emisiones"
         },
         {
          "Año": 2018,
          "Fecha": "2018-04",
          "Ramo": "Riesgos Varios",
          "value": 46,
          "variable": "Emisiones"
         },
         {
          "Año": 2018,
          "Fecha": "2018-05",
          "Ramo": "Riesgos Varios",
          "value": 62,
          "variable": "Emisiones"
         },
         {
          "Año": 2018,
          "Fecha": "2018-06",
          "Ramo": "Riesgos Varios",
          "value": 41,
          "variable": "Emisiones"
         },
         {
          "Año": 2018,
          "Fecha": "2018-07",
          "Ramo": "Riesgos Varios",
          "value": 79,
          "variable": "Emisiones"
         },
         {
          "Año": 2018,
          "Fecha": "2018-08",
          "Ramo": "Riesgos Varios",
          "value": 122,
          "variable": "Emisiones"
         },
         {
          "Año": 2018,
          "Fecha": "2018-09",
          "Ramo": "Riesgos Varios",
          "value": 127,
          "variable": "Emisiones"
         },
         {
          "Año": 2018,
          "Fecha": "2018-10",
          "Ramo": "Riesgos Varios",
          "value": 127,
          "variable": "Emisiones"
         },
         {
          "Año": 2018,
          "Fecha": "2018-11",
          "Ramo": "Riesgos Varios",
          "value": 93,
          "variable": "Emisiones"
         },
         {
          "Año": 2018,
          "Fecha": "2018-12",
          "Ramo": "Riesgos Varios",
          "value": 28,
          "variable": "Emisiones"
         },
         {
          "Año": 2018,
          "Fecha": "2018-01",
          "Ramo": "Cristales",
          "value": 0,
          "variable": "Emisiones"
         },
         {
          "Año": 2018,
          "Fecha": "2018-02",
          "Ramo": "Cristales",
          "value": 0,
          "variable": "Emisiones"
         },
         {
          "Año": 2018,
          "Fecha": "2018-03",
          "Ramo": "Cristales",
          "value": 0,
          "variable": "Emisiones"
         },
         {
          "Año": 2018,
          "Fecha": "2018-04",
          "Ramo": "Cristales",
          "value": 0,
          "variable": "Emisiones"
         },
         {
          "Año": 2018,
          "Fecha": "2018-05",
          "Ramo": "Cristales",
          "value": 0,
          "variable": "Emisiones"
         },
         {
          "Año": 2018,
          "Fecha": "2018-06",
          "Ramo": "Cristales",
          "value": 0,
          "variable": "Emisiones"
         },
         {
          "Año": 2018,
          "Fecha": "2018-07",
          "Ramo": "Cristales",
          "value": 0,
          "variable": "Emisiones"
         },
         {
          "Año": 2018,
          "Fecha": "2018-08",
          "Ramo": "Cristales",
          "value": 0,
          "variable": "Emisiones"
         },
         {
          "Año": 2018,
          "Fecha": "2018-09",
          "Ramo": "Cristales",
          "value": 0,
          "variable": "Emisiones"
         },
         {
          "Año": 2018,
          "Fecha": "2018-10",
          "Ramo": "Cristales",
          "value": 0,
          "variable": "Emisiones"
         },
         {
          "Año": 2018,
          "Fecha": "2018-11",
          "Ramo": "Cristales",
          "value": 0,
          "variable": "Emisiones"
         },
         {
          "Año": 2018,
          "Fecha": "2018-12",
          "Ramo": "Cristales",
          "value": 0,
          "variable": "Emisiones"
         },
         {
          "Año": 2018,
          "Fecha": "2018-01",
          "Ramo": "Perdida de Beneficio",
          "value": 0,
          "variable": "Emisiones"
         },
         {
          "Año": 2018,
          "Fecha": "2018-02",
          "Ramo": "Perdida de Beneficio",
          "value": 0,
          "variable": "Emisiones"
         },
         {
          "Año": 2018,
          "Fecha": "2018-03",
          "Ramo": "Perdida de Beneficio",
          "value": 0,
          "variable": "Emisiones"
         },
         {
          "Año": 2018,
          "Fecha": "2018-04",
          "Ramo": "Perdida de Beneficio",
          "value": 0,
          "variable": "Emisiones"
         },
         {
          "Año": 2018,
          "Fecha": "2018-05",
          "Ramo": "Perdida de Beneficio",
          "value": 0,
          "variable": "Emisiones"
         },
         {
          "Año": 2018,
          "Fecha": "2018-06",
          "Ramo": "Perdida de Beneficio",
          "value": 0,
          "variable": "Emisiones"
         },
         {
          "Año": 2018,
          "Fecha": "2018-07",
          "Ramo": "Perdida de Beneficio",
          "value": 0,
          "variable": "Emisiones"
         },
         {
          "Año": 2018,
          "Fecha": "2018-08",
          "Ramo": "Perdida de Beneficio",
          "value": 0,
          "variable": "Emisiones"
         },
         {
          "Año": 2018,
          "Fecha": "2018-09",
          "Ramo": "Perdida de Beneficio",
          "value": 0,
          "variable": "Emisiones"
         },
         {
          "Año": 2018,
          "Fecha": "2018-10",
          "Ramo": "Perdida de Beneficio",
          "value": 1,
          "variable": "Emisiones"
         },
         {
          "Año": 2018,
          "Fecha": "2018-11",
          "Ramo": "Perdida de Beneficio",
          "value": 0,
          "variable": "Emisiones"
         },
         {
          "Año": 2018,
          "Fecha": "2018-12",
          "Ramo": "Perdida de Beneficio",
          "value": 0,
          "variable": "Emisiones"
         },
         {
          "Año": 2016,
          "Fecha": "2016-01",
          "Ramo": "Vida individual",
          "value": 33,
          "variable": "Refa_Reno"
         },
         {
          "Año": 2016,
          "Fecha": "2016-02",
          "Ramo": "Vida individual",
          "value": 32,
          "variable": "Refa_Reno"
         },
         {
          "Año": 2016,
          "Fecha": "2016-03",
          "Ramo": "Vida individual",
          "value": 47,
          "variable": "Refa_Reno"
         },
         {
          "Año": 2016,
          "Fecha": "2016-04",
          "Ramo": "Vida individual",
          "value": 35,
          "variable": "Refa_Reno"
         },
         {
          "Año": 2016,
          "Fecha": "2016-05",
          "Ramo": "Vida individual",
          "value": 38,
          "variable": "Refa_Reno"
         },
         {
          "Año": 2016,
          "Fecha": "2016-06",
          "Ramo": "Vida individual",
          "value": 63,
          "variable": "Refa_Reno"
         },
         {
          "Año": 2016,
          "Fecha": "2016-07",
          "Ramo": "Vida individual",
          "value": 142,
          "variable": "Refa_Reno"
         },
         {
          "Año": 2016,
          "Fecha": "2016-08",
          "Ramo": "Vida individual",
          "value": 107,
          "variable": "Refa_Reno"
         },
         {
          "Año": 2016,
          "Fecha": "2016-09",
          "Ramo": "Vida individual",
          "value": 91,
          "variable": "Refa_Reno"
         },
         {
          "Año": 2016,
          "Fecha": "2016-10",
          "Ramo": "Vida individual",
          "value": 48,
          "variable": "Refa_Reno"
         },
         {
          "Año": 2016,
          "Fecha": "2016-11",
          "Ramo": "Vida individual",
          "value": 22,
          "variable": "Refa_Reno"
         },
         {
          "Año": 2016,
          "Fecha": "2016-12",
          "Ramo": "Vida individual",
          "value": 27,
          "variable": "Refa_Reno"
         },
         {
          "Año": 2016,
          "Fecha": "2016-01",
          "Ramo": "Automotores",
          "value": 301,
          "variable": "Refa_Reno"
         },
         {
          "Año": 2016,
          "Fecha": "2016-02",
          "Ramo": "Automotores",
          "value": 400,
          "variable": "Refa_Reno"
         },
         {
          "Año": 2016,
          "Fecha": "2016-03",
          "Ramo": "Automotores",
          "value": 367,
          "variable": "Refa_Reno"
         },
         {
          "Año": 2016,
          "Fecha": "2016-04",
          "Ramo": "Automotores",
          "value": 356,
          "variable": "Refa_Reno"
         },
         {
          "Año": 2016,
          "Fecha": "2016-05",
          "Ramo": "Automotores",
          "value": 339,
          "variable": "Refa_Reno"
         },
         {
          "Año": 2016,
          "Fecha": "2016-06",
          "Ramo": "Automotores",
          "value": 350,
          "variable": "Refa_Reno"
         },
         {
          "Año": 2016,
          "Fecha": "2016-07",
          "Ramo": "Automotores",
          "value": 385,
          "variable": "Refa_Reno"
         },
         {
          "Año": 2016,
          "Fecha": "2016-08",
          "Ramo": "Automotores",
          "value": 387,
          "variable": "Refa_Reno"
         },
         {
          "Año": 2016,
          "Fecha": "2016-09",
          "Ramo": "Automotores",
          "value": 393,
          "variable": "Refa_Reno"
         },
         {
          "Año": 2016,
          "Fecha": "2016-10",
          "Ramo": "Automotores",
          "value": 415,
          "variable": "Refa_Reno"
         },
         {
          "Año": 2016,
          "Fecha": "2016-11",
          "Ramo": "Automotores",
          "value": 369,
          "variable": "Refa_Reno"
         },
         {
          "Año": 2016,
          "Fecha": "2016-12",
          "Ramo": "Automotores",
          "value": 321,
          "variable": "Refa_Reno"
         },
         {
          "Año": 2016,
          "Fecha": "2016-01",
          "Ramo": "Comb.Familiar",
          "value": 16,
          "variable": "Refa_Reno"
         },
         {
          "Año": 2016,
          "Fecha": "2016-02",
          "Ramo": "Comb.Familiar",
          "value": 18,
          "variable": "Refa_Reno"
         },
         {
          "Año": 2016,
          "Fecha": "2016-03",
          "Ramo": "Comb.Familiar",
          "value": 12,
          "variable": "Refa_Reno"
         },
         {
          "Año": 2016,
          "Fecha": "2016-04",
          "Ramo": "Comb.Familiar",
          "value": 15,
          "variable": "Refa_Reno"
         },
         {
          "Año": 2016,
          "Fecha": "2016-05",
          "Ramo": "Comb.Familiar",
          "value": 8,
          "variable": "Refa_Reno"
         },
         {
          "Año": 2016,
          "Fecha": "2016-06",
          "Ramo": "Comb.Familiar",
          "value": 12,
          "variable": "Refa_Reno"
         },
         {
          "Año": 2016,
          "Fecha": "2016-07",
          "Ramo": "Comb.Familiar",
          "value": 9,
          "variable": "Refa_Reno"
         },
         {
          "Año": 2016,
          "Fecha": "2016-08",
          "Ramo": "Comb.Familiar",
          "value": 9,
          "variable": "Refa_Reno"
         },
         {
          "Año": 2016,
          "Fecha": "2016-09",
          "Ramo": "Comb.Familiar",
          "value": 26,
          "variable": "Refa_Reno"
         },
         {
          "Año": 2016,
          "Fecha": "2016-10",
          "Ramo": "Comb.Familiar",
          "value": 9,
          "variable": "Refa_Reno"
         },
         {
          "Año": 2016,
          "Fecha": "2016-11",
          "Ramo": "Comb.Familiar",
          "value": 18,
          "variable": "Refa_Reno"
         },
         {
          "Año": 2016,
          "Fecha": "2016-12",
          "Ramo": "Comb.Familiar",
          "value": 16,
          "variable": "Refa_Reno"
         },
         {
          "Año": 2016,
          "Fecha": "2016-01",
          "Ramo": "Acc.Personales",
          "value": 12,
          "variable": "Refa_Reno"
         },
         {
          "Año": 2016,
          "Fecha": "2016-02",
          "Ramo": "Acc.Personales",
          "value": 17,
          "variable": "Refa_Reno"
         },
         {
          "Año": 2016,
          "Fecha": "2016-03",
          "Ramo": "Acc.Personales",
          "value": 11,
          "variable": "Refa_Reno"
         },
         {
          "Año": 2016,
          "Fecha": "2016-04",
          "Ramo": "Acc.Personales",
          "value": 11,
          "variable": "Refa_Reno"
         },
         {
          "Año": 2016,
          "Fecha": "2016-05",
          "Ramo": "Acc.Personales",
          "value": 20,
          "variable": "Refa_Reno"
         },
         {
          "Año": 2016,
          "Fecha": "2016-06",
          "Ramo": "Acc.Personales",
          "value": 23,
          "variable": "Refa_Reno"
         },
         {
          "Año": 2016,
          "Fecha": "2016-07",
          "Ramo": "Acc.Personales",
          "value": 27,
          "variable": "Refa_Reno"
         },
         {
          "Año": 2016,
          "Fecha": "2016-08",
          "Ramo": "Acc.Personales",
          "value": 21,
          "variable": "Refa_Reno"
         },
         {
          "Año": 2016,
          "Fecha": "2016-09",
          "Ramo": "Acc.Personales",
          "value": 30,
          "variable": "Refa_Reno"
         },
         {
          "Año": 2016,
          "Fecha": "2016-10",
          "Ramo": "Acc.Personales",
          "value": 13,
          "variable": "Refa_Reno"
         },
         {
          "Año": 2016,
          "Fecha": "2016-11",
          "Ramo": "Acc.Personales",
          "value": 25,
          "variable": "Refa_Reno"
         },
         {
          "Año": 2016,
          "Fecha": "2016-12",
          "Ramo": "Acc.Personales",
          "value": 18,
          "variable": "Refa_Reno"
         },
         {
          "Año": 2016,
          "Fecha": "2016-01",
          "Ramo": "Incendio",
          "value": 2,
          "variable": "Refa_Reno"
         },
         {
          "Año": 2016,
          "Fecha": "2016-02",
          "Ramo": "Incendio",
          "value": 0,
          "variable": "Refa_Reno"
         },
         {
          "Año": 2016,
          "Fecha": "2016-03",
          "Ramo": "Incendio",
          "value": 0,
          "variable": "Refa_Reno"
         },
         {
          "Año": 2016,
          "Fecha": "2016-04",
          "Ramo": "Incendio",
          "value": 3,
          "variable": "Refa_Reno"
         },
         {
          "Año": 2016,
          "Fecha": "2016-05",
          "Ramo": "Incendio",
          "value": 2,
          "variable": "Refa_Reno"
         },
         {
          "Año": 2016,
          "Fecha": "2016-06",
          "Ramo": "Incendio",
          "value": 1,
          "variable": "Refa_Reno"
         },
         {
          "Año": 2016,
          "Fecha": "2016-07",
          "Ramo": "Incendio",
          "value": 1,
          "variable": "Refa_Reno"
         },
         {
          "Año": 2016,
          "Fecha": "2016-08",
          "Ramo": "Incendio",
          "value": 0,
          "variable": "Refa_Reno"
         },
         {
          "Año": 2016,
          "Fecha": "2016-09",
          "Ramo": "Incendio",
          "value": 0,
          "variable": "Refa_Reno"
         },
         {
          "Año": 2016,
          "Fecha": "2016-10",
          "Ramo": "Incendio",
          "value": 1,
          "variable": "Refa_Reno"
         },
         {
          "Año": 2016,
          "Fecha": "2016-11",
          "Ramo": "Incendio",
          "value": 0,
          "variable": "Refa_Reno"
         },
         {
          "Año": 2016,
          "Fecha": "2016-12",
          "Ramo": "Incendio",
          "value": 0,
          "variable": "Refa_Reno"
         },
         {
          "Año": 2016,
          "Fecha": "2016-01",
          "Ramo": "Caucion",
          "value": 3,
          "variable": "Refa_Reno"
         },
         {
          "Año": 2016,
          "Fecha": "2016-02",
          "Ramo": "Caucion",
          "value": 0,
          "variable": "Refa_Reno"
         },
         {
          "Año": 2016,
          "Fecha": "2016-03",
          "Ramo": "Caucion",
          "value": 1,
          "variable": "Refa_Reno"
         },
         {
          "Año": 2016,
          "Fecha": "2016-04",
          "Ramo": "Caucion",
          "value": 1,
          "variable": "Refa_Reno"
         },
         {
          "Año": 2016,
          "Fecha": "2016-05",
          "Ramo": "Caucion",
          "value": 6,
          "variable": "Refa_Reno"
         },
         {
          "Año": 2016,
          "Fecha": "2016-06",
          "Ramo": "Caucion",
          "value": 5,
          "variable": "Refa_Reno"
         },
         {
          "Año": 2016,
          "Fecha": "2016-07",
          "Ramo": "Caucion",
          "value": 1,
          "variable": "Refa_Reno"
         },
         {
          "Año": 2016,
          "Fecha": "2016-08",
          "Ramo": "Caucion",
          "value": 3,
          "variable": "Refa_Reno"
         },
         {
          "Año": 2016,
          "Fecha": "2016-09",
          "Ramo": "Caucion",
          "value": 3,
          "variable": "Refa_Reno"
         },
         {
          "Año": 2016,
          "Fecha": "2016-10",
          "Ramo": "Caucion",
          "value": 1,
          "variable": "Refa_Reno"
         },
         {
          "Año": 2016,
          "Fecha": "2016-11",
          "Ramo": "Caucion",
          "value": 3,
          "variable": "Refa_Reno"
         },
         {
          "Año": 2016,
          "Fecha": "2016-12",
          "Ramo": "Caucion",
          "value": 4,
          "variable": "Refa_Reno"
         },
         {
          "Año": 2016,
          "Fecha": "2016-01",
          "Ramo": "Acc. Fliares Transportados",
          "value": 0,
          "variable": "Refa_Reno"
         },
         {
          "Año": 2016,
          "Fecha": "2016-02",
          "Ramo": "Acc. Fliares Transportados",
          "value": 0,
          "variable": "Refa_Reno"
         },
         {
          "Año": 2016,
          "Fecha": "2016-03",
          "Ramo": "Acc. Fliares Transportados",
          "value": 1,
          "variable": "Refa_Reno"
         },
         {
          "Año": 2016,
          "Fecha": "2016-04",
          "Ramo": "Acc. Fliares Transportados",
          "value": 0,
          "variable": "Refa_Reno"
         },
         {
          "Año": 2016,
          "Fecha": "2016-05",
          "Ramo": "Acc. Fliares Transportados",
          "value": 3,
          "variable": "Refa_Reno"
         },
         {
          "Año": 2016,
          "Fecha": "2016-06",
          "Ramo": "Acc. Fliares Transportados",
          "value": 0,
          "variable": "Refa_Reno"
         },
         {
          "Año": 2016,
          "Fecha": "2016-07",
          "Ramo": "Acc. Fliares Transportados",
          "value": 8,
          "variable": "Refa_Reno"
         },
         {
          "Año": 2016,
          "Fecha": "2016-08",
          "Ramo": "Acc. Fliares Transportados",
          "value": 6,
          "variable": "Refa_Reno"
         },
         {
          "Año": 2016,
          "Fecha": "2016-09",
          "Ramo": "Acc. Fliares Transportados",
          "value": 4,
          "variable": "Refa_Reno"
         },
         {
          "Año": 2016,
          "Fecha": "2016-10",
          "Ramo": "Acc. Fliares Transportados",
          "value": 57,
          "variable": "Refa_Reno"
         },
         {
          "Año": 2016,
          "Fecha": "2016-11",
          "Ramo": "Acc. Fliares Transportados",
          "value": 19,
          "variable": "Refa_Reno"
         },
         {
          "Año": 2016,
          "Fecha": "2016-12",
          "Ramo": "Acc. Fliares Transportados",
          "value": 13,
          "variable": "Refa_Reno"
         },
         {
          "Año": 2016,
          "Fecha": "2016-01",
          "Ramo": "Vida Oblig.",
          "value": 13,
          "variable": "Refa_Reno"
         },
         {
          "Año": 2016,
          "Fecha": "2016-02",
          "Ramo": "Vida Oblig.",
          "value": 10,
          "variable": "Refa_Reno"
         },
         {
          "Año": 2016,
          "Fecha": "2016-03",
          "Ramo": "Vida Oblig.",
          "value": 47,
          "variable": "Refa_Reno"
         },
         {
          "Año": 2016,
          "Fecha": "2016-04",
          "Ramo": "Vida Oblig.",
          "value": 35,
          "variable": "Refa_Reno"
         },
         {
          "Año": 2016,
          "Fecha": "2016-05",
          "Ramo": "Vida Oblig.",
          "value": 16,
          "variable": "Refa_Reno"
         },
         {
          "Año": 2016,
          "Fecha": "2016-06",
          "Ramo": "Vida Oblig.",
          "value": 14,
          "variable": "Refa_Reno"
         },
         {
          "Año": 2016,
          "Fecha": "2016-07",
          "Ramo": "Vida Oblig.",
          "value": 9,
          "variable": "Refa_Reno"
         },
         {
          "Año": 2016,
          "Fecha": "2016-08",
          "Ramo": "Vida Oblig.",
          "value": 54,
          "variable": "Refa_Reno"
         },
         {
          "Año": 2016,
          "Fecha": "2016-09",
          "Ramo": "Vida Oblig.",
          "value": 25,
          "variable": "Refa_Reno"
         },
         {
          "Año": 2016,
          "Fecha": "2016-10",
          "Ramo": "Vida Oblig.",
          "value": 14,
          "variable": "Refa_Reno"
         },
         {
          "Año": 2016,
          "Fecha": "2016-11",
          "Ramo": "Vida Oblig.",
          "value": 26,
          "variable": "Refa_Reno"
         },
         {
          "Año": 2016,
          "Fecha": "2016-12",
          "Ramo": "Vida Oblig.",
          "value": 41,
          "variable": "Refa_Reno"
         },
         {
          "Año": 2016,
          "Fecha": "2016-01",
          "Ramo": "A.R.T.",
          "value": 0,
          "variable": "Refa_Reno"
         },
         {
          "Año": 2016,
          "Fecha": "2016-02",
          "Ramo": "A.R.T.",
          "value": 0,
          "variable": "Refa_Reno"
         },
         {
          "Año": 2016,
          "Fecha": "2016-03",
          "Ramo": "A.R.T.",
          "value": 0,
          "variable": "Refa_Reno"
         },
         {
          "Año": 2016,
          "Fecha": "2016-04",
          "Ramo": "A.R.T.",
          "value": 0,
          "variable": "Refa_Reno"
         },
         {
          "Año": 2016,
          "Fecha": "2016-05",
          "Ramo": "A.R.T.",
          "value": 4,
          "variable": "Refa_Reno"
         },
         {
          "Año": 2016,
          "Fecha": "2016-06",
          "Ramo": "A.R.T.",
          "value": 6,
          "variable": "Refa_Reno"
         },
         {
          "Año": 2016,
          "Fecha": "2016-07",
          "Ramo": "A.R.T.",
          "value": 9,
          "variable": "Refa_Reno"
         },
         {
          "Año": 2016,
          "Fecha": "2016-08",
          "Ramo": "A.R.T.",
          "value": 10,
          "variable": "Refa_Reno"
         },
         {
          "Año": 2016,
          "Fecha": "2016-09",
          "Ramo": "A.R.T.",
          "value": 5,
          "variable": "Refa_Reno"
         },
         {
          "Año": 2016,
          "Fecha": "2016-10",
          "Ramo": "A.R.T.",
          "value": 2,
          "variable": "Refa_Reno"
         },
         {
          "Año": 2016,
          "Fecha": "2016-11",
          "Ramo": "A.R.T.",
          "value": 4,
          "variable": "Refa_Reno"
         },
         {
          "Año": 2016,
          "Fecha": "2016-12",
          "Ramo": "A.R.T.",
          "value": 1,
          "variable": "Refa_Reno"
         },
         {
          "Año": 2016,
          "Fecha": "2016-01",
          "Ramo": "Resp.Civil",
          "value": 5,
          "variable": "Refa_Reno"
         },
         {
          "Año": 2016,
          "Fecha": "2016-02",
          "Ramo": "Resp.Civil",
          "value": 3,
          "variable": "Refa_Reno"
         },
         {
          "Año": 2016,
          "Fecha": "2016-03",
          "Ramo": "Resp.Civil",
          "value": 3,
          "variable": "Refa_Reno"
         },
         {
          "Año": 2016,
          "Fecha": "2016-04",
          "Ramo": "Resp.Civil",
          "value": 5,
          "variable": "Refa_Reno"
         },
         {
          "Año": 2016,
          "Fecha": "2016-05",
          "Ramo": "Resp.Civil",
          "value": 4,
          "variable": "Refa_Reno"
         },
         {
          "Año": 2016,
          "Fecha": "2016-06",
          "Ramo": "Resp.Civil",
          "value": 1,
          "variable": "Refa_Reno"
         },
         {
          "Año": 2016,
          "Fecha": "2016-07",
          "Ramo": "Resp.Civil",
          "value": 3,
          "variable": "Refa_Reno"
         },
         {
          "Año": 2016,
          "Fecha": "2016-08",
          "Ramo": "Resp.Civil",
          "value": 7,
          "variable": "Refa_Reno"
         },
         {
          "Año": 2016,
          "Fecha": "2016-09",
          "Ramo": "Resp.Civil",
          "value": 0,
          "variable": "Refa_Reno"
         },
         {
          "Año": 2016,
          "Fecha": "2016-10",
          "Ramo": "Resp.Civil",
          "value": 6,
          "variable": "Refa_Reno"
         },
         {
          "Año": 2016,
          "Fecha": "2016-11",
          "Ramo": "Resp.Civil",
          "value": 4,
          "variable": "Refa_Reno"
         },
         {
          "Año": 2016,
          "Fecha": "2016-12",
          "Ramo": "Resp.Civil",
          "value": 2,
          "variable": "Refa_Reno"
         },
         {
          "Año": 2016,
          "Fecha": "2016-01",
          "Ramo": "Todo Riesgo Operativo",
          "value": 0,
          "variable": "Refa_Reno"
         },
         {
          "Año": 2016,
          "Fecha": "2016-02",
          "Ramo": "Todo Riesgo Operativo",
          "value": 1,
          "variable": "Refa_Reno"
         },
         {
          "Año": 2016,
          "Fecha": "2016-03",
          "Ramo": "Todo Riesgo Operativo",
          "value": 0,
          "variable": "Refa_Reno"
         },
         {
          "Año": 2016,
          "Fecha": "2016-04",
          "Ramo": "Todo Riesgo Operativo",
          "value": 0,
          "variable": "Refa_Reno"
         },
         {
          "Año": 2016,
          "Fecha": "2016-05",
          "Ramo": "Todo Riesgo Operativo",
          "value": 0,
          "variable": "Refa_Reno"
         },
         {
          "Año": 2016,
          "Fecha": "2016-06",
          "Ramo": "Todo Riesgo Operativo",
          "value": 0,
          "variable": "Refa_Reno"
         },
         {
          "Año": 2016,
          "Fecha": "2016-07",
          "Ramo": "Todo Riesgo Operativo",
          "value": 0,
          "variable": "Refa_Reno"
         },
         {
          "Año": 2016,
          "Fecha": "2016-08",
          "Ramo": "Todo Riesgo Operativo",
          "value": 0,
          "variable": "Refa_Reno"
         },
         {
          "Año": 2016,
          "Fecha": "2016-09",
          "Ramo": "Todo Riesgo Operativo",
          "value": 0,
          "variable": "Refa_Reno"
         },
         {
          "Año": 2016,
          "Fecha": "2016-10",
          "Ramo": "Todo Riesgo Operativo",
          "value": 0,
          "variable": "Refa_Reno"
         },
         {
          "Año": 2016,
          "Fecha": "2016-11",
          "Ramo": "Todo Riesgo Operativo",
          "value": 0,
          "variable": "Refa_Reno"
         },
         {
          "Año": 2016,
          "Fecha": "2016-12",
          "Ramo": "Todo Riesgo Operativo",
          "value": 0,
          "variable": "Refa_Reno"
         },
         {
          "Año": 2016,
          "Fecha": "2016-01",
          "Ramo": "Int.de Comer.",
          "value": 4,
          "variable": "Refa_Reno"
         },
         {
          "Año": 2016,
          "Fecha": "2016-02",
          "Ramo": "Int.de Comer.",
          "value": 9,
          "variable": "Refa_Reno"
         },
         {
          "Año": 2016,
          "Fecha": "2016-03",
          "Ramo": "Int.de Comer.",
          "value": 6,
          "variable": "Refa_Reno"
         },
         {
          "Año": 2016,
          "Fecha": "2016-04",
          "Ramo": "Int.de Comer.",
          "value": 6,
          "variable": "Refa_Reno"
         },
         {
          "Año": 2016,
          "Fecha": "2016-05",
          "Ramo": "Int.de Comer.",
          "value": 1,
          "variable": "Refa_Reno"
         },
         {
          "Año": 2016,
          "Fecha": "2016-06",
          "Ramo": "Int.de Comer.",
          "value": 9,
          "variable": "Refa_Reno"
         },
         {
          "Año": 2016,
          "Fecha": "2016-07",
          "Ramo": "Int.de Comer.",
          "value": 7,
          "variable": "Refa_Reno"
         },
         {
          "Año": 2016,
          "Fecha": "2016-08",
          "Ramo": "Int.de Comer.",
          "value": 7,
          "variable": "Refa_Reno"
         },
         {
          "Año": 2016,
          "Fecha": "2016-09",
          "Ramo": "Int.de Comer.",
          "value": 10,
          "variable": "Refa_Reno"
         },
         {
          "Año": 2016,
          "Fecha": "2016-10",
          "Ramo": "Int.de Comer.",
          "value": 7,
          "variable": "Refa_Reno"
         },
         {
          "Año": 2016,
          "Fecha": "2016-11",
          "Ramo": "Int.de Comer.",
          "value": 4,
          "variable": "Refa_Reno"
         },
         {
          "Año": 2016,
          "Fecha": "2016-12",
          "Ramo": "Int.de Comer.",
          "value": 8,
          "variable": "Refa_Reno"
         },
         {
          "Año": 2016,
          "Fecha": "2016-01",
          "Ramo": "Moto - Vehículo",
          "value": 1,
          "variable": "Refa_Reno"
         },
         {
          "Año": 2016,
          "Fecha": "2016-02",
          "Ramo": "Moto - Vehículo",
          "value": 0,
          "variable": "Refa_Reno"
         },
         {
          "Año": 2016,
          "Fecha": "2016-03",
          "Ramo": "Moto - Vehículo",
          "value": 4,
          "variable": "Refa_Reno"
         },
         {
          "Año": 2016,
          "Fecha": "2016-04",
          "Ramo": "Moto - Vehículo",
          "value": 2,
          "variable": "Refa_Reno"
         },
         {
          "Año": 2016,
          "Fecha": "2016-05",
          "Ramo": "Moto - Vehículo",
          "value": 2,
          "variable": "Refa_Reno"
         },
         {
          "Año": 2016,
          "Fecha": "2016-06",
          "Ramo": "Moto - Vehículo",
          "value": 0,
          "variable": "Refa_Reno"
         },
         {
          "Año": 2016,
          "Fecha": "2016-07",
          "Ramo": "Moto - Vehículo",
          "value": 3,
          "variable": "Refa_Reno"
         },
         {
          "Año": 2016,
          "Fecha": "2016-08",
          "Ramo": "Moto - Vehículo",
          "value": 2,
          "variable": "Refa_Reno"
         },
         {
          "Año": 2016,
          "Fecha": "2016-09",
          "Ramo": "Moto - Vehículo",
          "value": 2,
          "variable": "Refa_Reno"
         },
         {
          "Año": 2016,
          "Fecha": "2016-10",
          "Ramo": "Moto - Vehículo",
          "value": 1,
          "variable": "Refa_Reno"
         },
         {
          "Año": 2016,
          "Fecha": "2016-11",
          "Ramo": "Moto - Vehículo",
          "value": 3,
          "variable": "Refa_Reno"
         },
         {
          "Año": 2016,
          "Fecha": "2016-12",
          "Ramo": "Moto - Vehículo",
          "value": 1,
          "variable": "Refa_Reno"
         },
         {
          "Año": 2016,
          "Fecha": "2016-01",
          "Ramo": "Sepelio",
          "value": 0,
          "variable": "Refa_Reno"
         },
         {
          "Año": 2016,
          "Fecha": "2016-02",
          "Ramo": "Sepelio",
          "value": 0,
          "variable": "Refa_Reno"
         },
         {
          "Año": 2016,
          "Fecha": "2016-03",
          "Ramo": "Sepelio",
          "value": 0,
          "variable": "Refa_Reno"
         },
         {
          "Año": 2016,
          "Fecha": "2016-04",
          "Ramo": "Sepelio",
          "value": 0,
          "variable": "Refa_Reno"
         },
         {
          "Año": 2016,
          "Fecha": "2016-05",
          "Ramo": "Sepelio",
          "value": 0,
          "variable": "Refa_Reno"
         },
         {
          "Año": 2016,
          "Fecha": "2016-06",
          "Ramo": "Sepelio",
          "value": 0,
          "variable": "Refa_Reno"
         },
         {
          "Año": 2016,
          "Fecha": "2016-07",
          "Ramo": "Sepelio",
          "value": 0,
          "variable": "Refa_Reno"
         },
         {
          "Año": 2016,
          "Fecha": "2016-08",
          "Ramo": "Sepelio",
          "value": 0,
          "variable": "Refa_Reno"
         },
         {
          "Año": 2016,
          "Fecha": "2016-09",
          "Ramo": "Sepelio",
          "value": 0,
          "variable": "Refa_Reno"
         },
         {
          "Año": 2016,
          "Fecha": "2016-10",
          "Ramo": "Sepelio",
          "value": 0,
          "variable": "Refa_Reno"
         },
         {
          "Año": 2016,
          "Fecha": "2016-11",
          "Ramo": "Sepelio",
          "value": 0,
          "variable": "Refa_Reno"
         },
         {
          "Año": 2016,
          "Fecha": "2016-12",
          "Ramo": "Sepelio",
          "value": 0,
          "variable": "Refa_Reno"
         },
         {
          "Año": 2016,
          "Fecha": "2016-01",
          "Ramo": "Vida Colectivo",
          "value": 3,
          "variable": "Refa_Reno"
         },
         {
          "Año": 2016,
          "Fecha": "2016-02",
          "Ramo": "Vida Colectivo",
          "value": 5,
          "variable": "Refa_Reno"
         },
         {
          "Año": 2016,
          "Fecha": "2016-03",
          "Ramo": "Vida Colectivo",
          "value": 3,
          "variable": "Refa_Reno"
         },
         {
          "Año": 2016,
          "Fecha": "2016-04",
          "Ramo": "Vida Colectivo",
          "value": 4,
          "variable": "Refa_Reno"
         },
         {
          "Año": 2016,
          "Fecha": "2016-05",
          "Ramo": "Vida Colectivo",
          "value": 5,
          "variable": "Refa_Reno"
         },
         {
          "Año": 2016,
          "Fecha": "2016-06",
          "Ramo": "Vida Colectivo",
          "value": 6,
          "variable": "Refa_Reno"
         },
         {
          "Año": 2016,
          "Fecha": "2016-07",
          "Ramo": "Vida Colectivo",
          "value": 8,
          "variable": "Refa_Reno"
         },
         {
          "Año": 2016,
          "Fecha": "2016-08",
          "Ramo": "Vida Colectivo",
          "value": 5,
          "variable": "Refa_Reno"
         },
         {
          "Año": 2016,
          "Fecha": "2016-09",
          "Ramo": "Vida Colectivo",
          "value": 3,
          "variable": "Refa_Reno"
         },
         {
          "Año": 2016,
          "Fecha": "2016-10",
          "Ramo": "Vida Colectivo",
          "value": 3,
          "variable": "Refa_Reno"
         },
         {
          "Año": 2016,
          "Fecha": "2016-11",
          "Ramo": "Vida Colectivo",
          "value": 6,
          "variable": "Refa_Reno"
         },
         {
          "Año": 2016,
          "Fecha": "2016-12",
          "Ramo": "Vida Colectivo",
          "value": 3,
          "variable": "Refa_Reno"
         },
         {
          "Año": 2016,
          "Fecha": "2016-01",
          "Ramo": "Seguro Tecnico",
          "value": 0,
          "variable": "Refa_Reno"
         },
         {
          "Año": 2016,
          "Fecha": "2016-02",
          "Ramo": "Seguro Tecnico",
          "value": 3,
          "variable": "Refa_Reno"
         },
         {
          "Año": 2016,
          "Fecha": "2016-03",
          "Ramo": "Seguro Tecnico",
          "value": 0,
          "variable": "Refa_Reno"
         },
         {
          "Año": 2016,
          "Fecha": "2016-04",
          "Ramo": "Seguro Tecnico",
          "value": 0,
          "variable": "Refa_Reno"
         },
         {
          "Año": 2016,
          "Fecha": "2016-05",
          "Ramo": "Seguro Tecnico",
          "value": 1,
          "variable": "Refa_Reno"
         },
         {
          "Año": 2016,
          "Fecha": "2016-06",
          "Ramo": "Seguro Tecnico",
          "value": 2,
          "variable": "Refa_Reno"
         },
         {
          "Año": 2016,
          "Fecha": "2016-07",
          "Ramo": "Seguro Tecnico",
          "value": 1,
          "variable": "Refa_Reno"
         },
         {
          "Año": 2016,
          "Fecha": "2016-08",
          "Ramo": "Seguro Tecnico",
          "value": 3,
          "variable": "Refa_Reno"
         },
         {
          "Año": 2016,
          "Fecha": "2016-09",
          "Ramo": "Seguro Tecnico",
          "value": 0,
          "variable": "Refa_Reno"
         },
         {
          "Año": 2016,
          "Fecha": "2016-10",
          "Ramo": "Seguro Tecnico",
          "value": 0,
          "variable": "Refa_Reno"
         },
         {
          "Año": 2016,
          "Fecha": "2016-11",
          "Ramo": "Seguro Tecnico",
          "value": 2,
          "variable": "Refa_Reno"
         },
         {
          "Año": 2016,
          "Fecha": "2016-12",
          "Ramo": "Seguro Tecnico",
          "value": 0,
          "variable": "Refa_Reno"
         },
         {
          "Año": 2016,
          "Fecha": "2016-01",
          "Ramo": "Incendio / Int. de Consorcio",
          "value": 1,
          "variable": "Refa_Reno"
         },
         {
          "Año": 2016,
          "Fecha": "2016-02",
          "Ramo": "Incendio / Int. de Consorcio",
          "value": 4,
          "variable": "Refa_Reno"
         },
         {
          "Año": 2016,
          "Fecha": "2016-03",
          "Ramo": "Incendio / Int. de Consorcio",
          "value": 1,
          "variable": "Refa_Reno"
         },
         {
          "Año": 2016,
          "Fecha": "2016-04",
          "Ramo": "Incendio / Int. de Consorcio",
          "value": 0,
          "variable": "Refa_Reno"
         },
         {
          "Año": 2016,
          "Fecha": "2016-05",
          "Ramo": "Incendio / Int. de Consorcio",
          "value": 1,
          "variable": "Refa_Reno"
         },
         {
          "Año": 2016,
          "Fecha": "2016-06",
          "Ramo": "Incendio / Int. de Consorcio",
          "value": 1,
          "variable": "Refa_Reno"
         },
         {
          "Año": 2016,
          "Fecha": "2016-07",
          "Ramo": "Incendio / Int. de Consorcio",
          "value": 2,
          "variable": "Refa_Reno"
         },
         {
          "Año": 2016,
          "Fecha": "2016-08",
          "Ramo": "Incendio / Int. de Consorcio",
          "value": 5,
          "variable": "Refa_Reno"
         },
         {
          "Año": 2016,
          "Fecha": "2016-09",
          "Ramo": "Incendio / Int. de Consorcio",
          "value": 3,
          "variable": "Refa_Reno"
         },
         {
          "Año": 2016,
          "Fecha": "2016-10",
          "Ramo": "Incendio / Int. de Consorcio",
          "value": 4,
          "variable": "Refa_Reno"
         },
         {
          "Año": 2016,
          "Fecha": "2016-11",
          "Ramo": "Incendio / Int. de Consorcio",
          "value": 1,
          "variable": "Refa_Reno"
         },
         {
          "Año": 2016,
          "Fecha": "2016-12",
          "Ramo": "Incendio / Int. de Consorcio",
          "value": 1,
          "variable": "Refa_Reno"
         },
         {
          "Año": 2016,
          "Fecha": "2016-01",
          "Ramo": "Transporte",
          "value": 0,
          "variable": "Refa_Reno"
         },
         {
          "Año": 2016,
          "Fecha": "2016-02",
          "Ramo": "Transporte",
          "value": 0,
          "variable": "Refa_Reno"
         },
         {
          "Año": 2016,
          "Fecha": "2016-03",
          "Ramo": "Transporte",
          "value": 0,
          "variable": "Refa_Reno"
         },
         {
          "Año": 2016,
          "Fecha": "2016-04",
          "Ramo": "Transporte",
          "value": 0,
          "variable": "Refa_Reno"
         },
         {
          "Año": 2016,
          "Fecha": "2016-05",
          "Ramo": "Transporte",
          "value": 0,
          "variable": "Refa_Reno"
         },
         {
          "Año": 2016,
          "Fecha": "2016-06",
          "Ramo": "Transporte",
          "value": 0,
          "variable": "Refa_Reno"
         },
         {
          "Año": 2016,
          "Fecha": "2016-07",
          "Ramo": "Transporte",
          "value": 0,
          "variable": "Refa_Reno"
         },
         {
          "Año": 2016,
          "Fecha": "2016-08",
          "Ramo": "Transporte",
          "value": 0,
          "variable": "Refa_Reno"
         },
         {
          "Año": 2016,
          "Fecha": "2016-09",
          "Ramo": "Transporte",
          "value": 0,
          "variable": "Refa_Reno"
         },
         {
          "Año": 2016,
          "Fecha": "2016-10",
          "Ramo": "Transporte",
          "value": 0,
          "variable": "Refa_Reno"
         },
         {
          "Año": 2016,
          "Fecha": "2016-11",
          "Ramo": "Transporte",
          "value": 0,
          "variable": "Refa_Reno"
         },
         {
          "Año": 2016,
          "Fecha": "2016-12",
          "Ramo": "Transporte",
          "value": 0,
          "variable": "Refa_Reno"
         },
         {
          "Año": 2016,
          "Fecha": "2016-01",
          "Ramo": "Vida Cont.Trab.",
          "value": 1,
          "variable": "Refa_Reno"
         },
         {
          "Año": 2016,
          "Fecha": "2016-02",
          "Ramo": "Vida Cont.Trab.",
          "value": 1,
          "variable": "Refa_Reno"
         },
         {
          "Año": 2016,
          "Fecha": "2016-03",
          "Ramo": "Vida Cont.Trab.",
          "value": 0,
          "variable": "Refa_Reno"
         },
         {
          "Año": 2016,
          "Fecha": "2016-04",
          "Ramo": "Vida Cont.Trab.",
          "value": 0,
          "variable": "Refa_Reno"
         },
         {
          "Año": 2016,
          "Fecha": "2016-05",
          "Ramo": "Vida Cont.Trab.",
          "value": 0,
          "variable": "Refa_Reno"
         },
         {
          "Año": 2016,
          "Fecha": "2016-06",
          "Ramo": "Vida Cont.Trab.",
          "value": 0,
          "variable": "Refa_Reno"
         },
         {
          "Año": 2016,
          "Fecha": "2016-07",
          "Ramo": "Vida Cont.Trab.",
          "value": 0,
          "variable": "Refa_Reno"
         },
         {
          "Año": 2016,
          "Fecha": "2016-08",
          "Ramo": "Vida Cont.Trab.",
          "value": 0,
          "variable": "Refa_Reno"
         },
         {
          "Año": 2016,
          "Fecha": "2016-09",
          "Ramo": "Vida Cont.Trab.",
          "value": 0,
          "variable": "Refa_Reno"
         },
         {
          "Año": 2016,
          "Fecha": "2016-10",
          "Ramo": "Vida Cont.Trab.",
          "value": 2,
          "variable": "Refa_Reno"
         },
         {
          "Año": 2016,
          "Fecha": "2016-11",
          "Ramo": "Vida Cont.Trab.",
          "value": 1,
          "variable": "Refa_Reno"
         },
         {
          "Año": 2016,
          "Fecha": "2016-12",
          "Ramo": "Vida Cont.Trab.",
          "value": 0,
          "variable": "Refa_Reno"
         },
         {
          "Año": 2016,
          "Fecha": "2016-01",
          "Ramo": "Robo",
          "value": 0,
          "variable": "Refa_Reno"
         },
         {
          "Año": 2016,
          "Fecha": "2016-02",
          "Ramo": "Robo",
          "value": 0,
          "variable": "Refa_Reno"
         },
         {
          "Año": 2016,
          "Fecha": "2016-03",
          "Ramo": "Robo",
          "value": 0,
          "variable": "Refa_Reno"
         },
         {
          "Año": 2016,
          "Fecha": "2016-04",
          "Ramo": "Robo",
          "value": 0,
          "variable": "Refa_Reno"
         },
         {
          "Año": 2016,
          "Fecha": "2016-05",
          "Ramo": "Robo",
          "value": 0,
          "variable": "Refa_Reno"
         },
         {
          "Año": 2016,
          "Fecha": "2016-06",
          "Ramo": "Robo",
          "value": 0,
          "variable": "Refa_Reno"
         },
         {
          "Año": 2016,
          "Fecha": "2016-07",
          "Ramo": "Robo",
          "value": 0,
          "variable": "Refa_Reno"
         },
         {
          "Año": 2016,
          "Fecha": "2016-08",
          "Ramo": "Robo",
          "value": 0,
          "variable": "Refa_Reno"
         },
         {
          "Año": 2016,
          "Fecha": "2016-09",
          "Ramo": "Robo",
          "value": 0,
          "variable": "Refa_Reno"
         },
         {
          "Año": 2016,
          "Fecha": "2016-10",
          "Ramo": "Robo",
          "value": 0,
          "variable": "Refa_Reno"
         },
         {
          "Año": 2016,
          "Fecha": "2016-11",
          "Ramo": "Robo",
          "value": 0,
          "variable": "Refa_Reno"
         },
         {
          "Año": 2016,
          "Fecha": "2016-12",
          "Ramo": "Robo",
          "value": 0,
          "variable": "Refa_Reno"
         },
         {
          "Año": 2016,
          "Fecha": "2016-01",
          "Ramo": "Salud",
          "value": 0,
          "variable": "Refa_Reno"
         },
         {
          "Año": 2016,
          "Fecha": "2016-02",
          "Ramo": "Salud",
          "value": 0,
          "variable": "Refa_Reno"
         },
         {
          "Año": 2016,
          "Fecha": "2016-03",
          "Ramo": "Salud",
          "value": 0,
          "variable": "Refa_Reno"
         },
         {
          "Año": 2016,
          "Fecha": "2016-04",
          "Ramo": "Salud",
          "value": 0,
          "variable": "Refa_Reno"
         },
         {
          "Año": 2016,
          "Fecha": "2016-05",
          "Ramo": "Salud",
          "value": 0,
          "variable": "Refa_Reno"
         },
         {
          "Año": 2016,
          "Fecha": "2016-06",
          "Ramo": "Salud",
          "value": 0,
          "variable": "Refa_Reno"
         },
         {
          "Año": 2016,
          "Fecha": "2016-07",
          "Ramo": "Salud",
          "value": 0,
          "variable": "Refa_Reno"
         },
         {
          "Año": 2016,
          "Fecha": "2016-08",
          "Ramo": "Salud",
          "value": 0,
          "variable": "Refa_Reno"
         },
         {
          "Año": 2016,
          "Fecha": "2016-09",
          "Ramo": "Salud",
          "value": 0,
          "variable": "Refa_Reno"
         },
         {
          "Año": 2016,
          "Fecha": "2016-10",
          "Ramo": "Salud",
          "value": 0,
          "variable": "Refa_Reno"
         },
         {
          "Año": 2016,
          "Fecha": "2016-11",
          "Ramo": "Salud",
          "value": 0,
          "variable": "Refa_Reno"
         },
         {
          "Año": 2016,
          "Fecha": "2016-12",
          "Ramo": "Salud",
          "value": 0,
          "variable": "Refa_Reno"
         },
         {
          "Año": 2016,
          "Fecha": "2016-01",
          "Ramo": "Acc.Pers.Auton.",
          "value": 0,
          "variable": "Refa_Reno"
         },
         {
          "Año": 2016,
          "Fecha": "2016-02",
          "Ramo": "Acc.Pers.Auton.",
          "value": 0,
          "variable": "Refa_Reno"
         },
         {
          "Año": 2016,
          "Fecha": "2016-03",
          "Ramo": "Acc.Pers.Auton.",
          "value": 0,
          "variable": "Refa_Reno"
         },
         {
          "Año": 2016,
          "Fecha": "2016-04",
          "Ramo": "Acc.Pers.Auton.",
          "value": 0,
          "variable": "Refa_Reno"
         },
         {
          "Año": 2016,
          "Fecha": "2016-05",
          "Ramo": "Acc.Pers.Auton.",
          "value": 0,
          "variable": "Refa_Reno"
         },
         {
          "Año": 2016,
          "Fecha": "2016-06",
          "Ramo": "Acc.Pers.Auton.",
          "value": 0,
          "variable": "Refa_Reno"
         },
         {
          "Año": 2016,
          "Fecha": "2016-07",
          "Ramo": "Acc.Pers.Auton.",
          "value": 0,
          "variable": "Refa_Reno"
         },
         {
          "Año": 2016,
          "Fecha": "2016-08",
          "Ramo": "Acc.Pers.Auton.",
          "value": 0,
          "variable": "Refa_Reno"
         },
         {
          "Año": 2016,
          "Fecha": "2016-09",
          "Ramo": "Acc.Pers.Auton.",
          "value": 1,
          "variable": "Refa_Reno"
         },
         {
          "Año": 2016,
          "Fecha": "2016-10",
          "Ramo": "Acc.Pers.Auton.",
          "value": 0,
          "variable": "Refa_Reno"
         },
         {
          "Año": 2016,
          "Fecha": "2016-11",
          "Ramo": "Acc.Pers.Auton.",
          "value": 1,
          "variable": "Refa_Reno"
         },
         {
          "Año": 2016,
          "Fecha": "2016-12",
          "Ramo": "Acc.Pers.Auton.",
          "value": 0,
          "variable": "Refa_Reno"
         },
         {
          "Año": 2016,
          "Fecha": "2016-01",
          "Ramo": "Cascos",
          "value": 0,
          "variable": "Refa_Reno"
         },
         {
          "Año": 2016,
          "Fecha": "2016-02",
          "Ramo": "Cascos",
          "value": 0,
          "variable": "Refa_Reno"
         },
         {
          "Año": 2016,
          "Fecha": "2016-03",
          "Ramo": "Cascos",
          "value": 0,
          "variable": "Refa_Reno"
         },
         {
          "Año": 2016,
          "Fecha": "2016-04",
          "Ramo": "Cascos",
          "value": 0,
          "variable": "Refa_Reno"
         },
         {
          "Año": 2016,
          "Fecha": "2016-05",
          "Ramo": "Cascos",
          "value": 0,
          "variable": "Refa_Reno"
         },
         {
          "Año": 2016,
          "Fecha": "2016-06",
          "Ramo": "Cascos",
          "value": 0,
          "variable": "Refa_Reno"
         },
         {
          "Año": 2016,
          "Fecha": "2016-07",
          "Ramo": "Cascos",
          "value": 1,
          "variable": "Refa_Reno"
         },
         {
          "Año": 2016,
          "Fecha": "2016-08",
          "Ramo": "Cascos",
          "value": 1,
          "variable": "Refa_Reno"
         },
         {
          "Año": 2016,
          "Fecha": "2016-09",
          "Ramo": "Cascos",
          "value": 0,
          "variable": "Refa_Reno"
         },
         {
          "Año": 2016,
          "Fecha": "2016-10",
          "Ramo": "Cascos",
          "value": 0,
          "variable": "Refa_Reno"
         },
         {
          "Año": 2016,
          "Fecha": "2016-11",
          "Ramo": "Cascos",
          "value": 0,
          "variable": "Refa_Reno"
         },
         {
          "Año": 2016,
          "Fecha": "2016-12",
          "Ramo": "Cascos",
          "value": 0,
          "variable": "Refa_Reno"
         },
         {
          "Año": 2016,
          "Fecha": "2016-01",
          "Ramo": "Int.Consorcio",
          "value": 0,
          "variable": "Refa_Reno"
         },
         {
          "Año": 2016,
          "Fecha": "2016-02",
          "Ramo": "Int.Consorcio",
          "value": 0,
          "variable": "Refa_Reno"
         },
         {
          "Año": 2016,
          "Fecha": "2016-03",
          "Ramo": "Int.Consorcio",
          "value": 0,
          "variable": "Refa_Reno"
         },
         {
          "Año": 2016,
          "Fecha": "2016-04",
          "Ramo": "Int.Consorcio",
          "value": 0,
          "variable": "Refa_Reno"
         },
         {
          "Año": 2016,
          "Fecha": "2016-05",
          "Ramo": "Int.Consorcio",
          "value": 0,
          "variable": "Refa_Reno"
         },
         {
          "Año": 2016,
          "Fecha": "2016-06",
          "Ramo": "Int.Consorcio",
          "value": 0,
          "variable": "Refa_Reno"
         },
         {
          "Año": 2016,
          "Fecha": "2016-07",
          "Ramo": "Int.Consorcio",
          "value": 0,
          "variable": "Refa_Reno"
         },
         {
          "Año": 2016,
          "Fecha": "2016-08",
          "Ramo": "Int.Consorcio",
          "value": 0,
          "variable": "Refa_Reno"
         },
         {
          "Año": 2016,
          "Fecha": "2016-09",
          "Ramo": "Int.Consorcio",
          "value": 0,
          "variable": "Refa_Reno"
         },
         {
          "Año": 2016,
          "Fecha": "2016-10",
          "Ramo": "Int.Consorcio",
          "value": 0,
          "variable": "Refa_Reno"
         },
         {
          "Año": 2016,
          "Fecha": "2016-11",
          "Ramo": "Int.Consorcio",
          "value": 0,
          "variable": "Refa_Reno"
         },
         {
          "Año": 2016,
          "Fecha": "2016-12",
          "Ramo": "Int.Consorcio",
          "value": 0,
          "variable": "Refa_Reno"
         },
         {
          "Año": 2016,
          "Fecha": "2016-01",
          "Ramo": "Riesgos Varios",
          "value": 0,
          "variable": "Refa_Reno"
         },
         {
          "Año": 2016,
          "Fecha": "2016-02",
          "Ramo": "Riesgos Varios",
          "value": 0,
          "variable": "Refa_Reno"
         },
         {
          "Año": 2016,
          "Fecha": "2016-03",
          "Ramo": "Riesgos Varios",
          "value": 0,
          "variable": "Refa_Reno"
         },
         {
          "Año": 2016,
          "Fecha": "2016-04",
          "Ramo": "Riesgos Varios",
          "value": 0,
          "variable": "Refa_Reno"
         },
         {
          "Año": 2016,
          "Fecha": "2016-05",
          "Ramo": "Riesgos Varios",
          "value": 1,
          "variable": "Refa_Reno"
         },
         {
          "Año": 2016,
          "Fecha": "2016-06",
          "Ramo": "Riesgos Varios",
          "value": 0,
          "variable": "Refa_Reno"
         },
         {
          "Año": 2016,
          "Fecha": "2016-07",
          "Ramo": "Riesgos Varios",
          "value": 0,
          "variable": "Refa_Reno"
         },
         {
          "Año": 2016,
          "Fecha": "2016-08",
          "Ramo": "Riesgos Varios",
          "value": 0,
          "variable": "Refa_Reno"
         },
         {
          "Año": 2016,
          "Fecha": "2016-09",
          "Ramo": "Riesgos Varios",
          "value": 0,
          "variable": "Refa_Reno"
         },
         {
          "Año": 2016,
          "Fecha": "2016-10",
          "Ramo": "Riesgos Varios",
          "value": 0,
          "variable": "Refa_Reno"
         },
         {
          "Año": 2016,
          "Fecha": "2016-11",
          "Ramo": "Riesgos Varios",
          "value": 0,
          "variable": "Refa_Reno"
         },
         {
          "Año": 2016,
          "Fecha": "2016-12",
          "Ramo": "Riesgos Varios",
          "value": 0,
          "variable": "Refa_Reno"
         },
         {
          "Año": 2016,
          "Fecha": "2016-01",
          "Ramo": "Cristales",
          "value": 0,
          "variable": "Refa_Reno"
         },
         {
          "Año": 2016,
          "Fecha": "2016-02",
          "Ramo": "Cristales",
          "value": 0,
          "variable": "Refa_Reno"
         },
         {
          "Año": 2016,
          "Fecha": "2016-03",
          "Ramo": "Cristales",
          "value": 0,
          "variable": "Refa_Reno"
         },
         {
          "Año": 2016,
          "Fecha": "2016-04",
          "Ramo": "Cristales",
          "value": 0,
          "variable": "Refa_Reno"
         },
         {
          "Año": 2016,
          "Fecha": "2016-05",
          "Ramo": "Cristales",
          "value": 0,
          "variable": "Refa_Reno"
         },
         {
          "Año": 2016,
          "Fecha": "2016-06",
          "Ramo": "Cristales",
          "value": 0,
          "variable": "Refa_Reno"
         },
         {
          "Año": 2016,
          "Fecha": "2016-07",
          "Ramo": "Cristales",
          "value": 0,
          "variable": "Refa_Reno"
         },
         {
          "Año": 2016,
          "Fecha": "2016-08",
          "Ramo": "Cristales",
          "value": 0,
          "variable": "Refa_Reno"
         },
         {
          "Año": 2016,
          "Fecha": "2016-09",
          "Ramo": "Cristales",
          "value": 0,
          "variable": "Refa_Reno"
         },
         {
          "Año": 2016,
          "Fecha": "2016-10",
          "Ramo": "Cristales",
          "value": 0,
          "variable": "Refa_Reno"
         },
         {
          "Año": 2016,
          "Fecha": "2016-11",
          "Ramo": "Cristales",
          "value": 0,
          "variable": "Refa_Reno"
         },
         {
          "Año": 2016,
          "Fecha": "2016-12",
          "Ramo": "Cristales",
          "value": 0,
          "variable": "Refa_Reno"
         },
         {
          "Año": 2016,
          "Fecha": "2016-01",
          "Ramo": "Perdida de Beneficio",
          "value": 0,
          "variable": "Refa_Reno"
         },
         {
          "Año": 2016,
          "Fecha": "2016-02",
          "Ramo": "Perdida de Beneficio",
          "value": 0,
          "variable": "Refa_Reno"
         },
         {
          "Año": 2016,
          "Fecha": "2016-03",
          "Ramo": "Perdida de Beneficio",
          "value": 0,
          "variable": "Refa_Reno"
         },
         {
          "Año": 2016,
          "Fecha": "2016-04",
          "Ramo": "Perdida de Beneficio",
          "value": 0,
          "variable": "Refa_Reno"
         },
         {
          "Año": 2016,
          "Fecha": "2016-05",
          "Ramo": "Perdida de Beneficio",
          "value": 0,
          "variable": "Refa_Reno"
         },
         {
          "Año": 2016,
          "Fecha": "2016-06",
          "Ramo": "Perdida de Beneficio",
          "value": 0,
          "variable": "Refa_Reno"
         },
         {
          "Año": 2016,
          "Fecha": "2016-07",
          "Ramo": "Perdida de Beneficio",
          "value": 0,
          "variable": "Refa_Reno"
         },
         {
          "Año": 2016,
          "Fecha": "2016-08",
          "Ramo": "Perdida de Beneficio",
          "value": 0,
          "variable": "Refa_Reno"
         },
         {
          "Año": 2016,
          "Fecha": "2016-09",
          "Ramo": "Perdida de Beneficio",
          "value": 0,
          "variable": "Refa_Reno"
         },
         {
          "Año": 2016,
          "Fecha": "2016-10",
          "Ramo": "Perdida de Beneficio",
          "value": 0,
          "variable": "Refa_Reno"
         },
         {
          "Año": 2016,
          "Fecha": "2016-11",
          "Ramo": "Perdida de Beneficio",
          "value": 0,
          "variable": "Refa_Reno"
         },
         {
          "Año": 2016,
          "Fecha": "2016-12",
          "Ramo": "Perdida de Beneficio",
          "value": 0,
          "variable": "Refa_Reno"
         },
         {
          "Año": 2017,
          "Fecha": "2017-01",
          "Ramo": "Vida individual",
          "value": 25,
          "variable": "Refa_Reno"
         },
         {
          "Año": 2017,
          "Fecha": "2017-02",
          "Ramo": "Vida individual",
          "value": 11,
          "variable": "Refa_Reno"
         },
         {
          "Año": 2017,
          "Fecha": "2017-03",
          "Ramo": "Vida individual",
          "value": 28,
          "variable": "Refa_Reno"
         },
         {
          "Año": 2017,
          "Fecha": "2017-04",
          "Ramo": "Vida individual",
          "value": 23,
          "variable": "Refa_Reno"
         },
         {
          "Año": 2017,
          "Fecha": "2017-05",
          "Ramo": "Vida individual",
          "value": 33,
          "variable": "Refa_Reno"
         },
         {
          "Año": 2017,
          "Fecha": "2017-06",
          "Ramo": "Vida individual",
          "value": 66,
          "variable": "Refa_Reno"
         },
         {
          "Año": 2017,
          "Fecha": "2017-07",
          "Ramo": "Vida individual",
          "value": 59,
          "variable": "Refa_Reno"
         },
         {
          "Año": 2017,
          "Fecha": "2017-08",
          "Ramo": "Vida individual",
          "value": 48,
          "variable": "Refa_Reno"
         },
         {
          "Año": 2017,
          "Fecha": "2017-09",
          "Ramo": "Vida individual",
          "value": 30,
          "variable": "Refa_Reno"
         },
         {
          "Año": 2017,
          "Fecha": "2017-10",
          "Ramo": "Vida individual",
          "value": 22,
          "variable": "Refa_Reno"
         },
         {
          "Año": 2017,
          "Fecha": "2017-11",
          "Ramo": "Vida individual",
          "value": 15,
          "variable": "Refa_Reno"
         },
         {
          "Año": 2017,
          "Fecha": "2017-12",
          "Ramo": "Vida individual",
          "value": 20,
          "variable": "Refa_Reno"
         },
         {
          "Año": 2017,
          "Fecha": "2017-01",
          "Ramo": "Automotores",
          "value": 480,
          "variable": "Refa_Reno"
         },
         {
          "Año": 2017,
          "Fecha": "2017-02",
          "Ramo": "Automotores",
          "value": 377,
          "variable": "Refa_Reno"
         },
         {
          "Año": 2017,
          "Fecha": "2017-03",
          "Ramo": "Automotores",
          "value": 370,
          "variable": "Refa_Reno"
         },
         {
          "Año": 2017,
          "Fecha": "2017-04",
          "Ramo": "Automotores",
          "value": 396,
          "variable": "Refa_Reno"
         },
         {
          "Año": 2017,
          "Fecha": "2017-05",
          "Ramo": "Automotores",
          "value": 429,
          "variable": "Refa_Reno"
         },
         {
          "Año": 2017,
          "Fecha": "2017-06",
          "Ramo": "Automotores",
          "value": 370,
          "variable": "Refa_Reno"
         },
         {
          "Año": 2017,
          "Fecha": "2017-07",
          "Ramo": "Automotores",
          "value": 365,
          "variable": "Refa_Reno"
         },
         {
          "Año": 2017,
          "Fecha": "2017-08",
          "Ramo": "Automotores",
          "value": 399,
          "variable": "Refa_Reno"
         },
         {
          "Año": 2017,
          "Fecha": "2017-09",
          "Ramo": "Automotores",
          "value": 474,
          "variable": "Refa_Reno"
         },
         {
          "Año": 2017,
          "Fecha": "2017-10",
          "Ramo": "Automotores",
          "value": 454,
          "variable": "Refa_Reno"
         },
         {
          "Año": 2017,
          "Fecha": "2017-11",
          "Ramo": "Automotores",
          "value": 478,
          "variable": "Refa_Reno"
         },
         {
          "Año": 2017,
          "Fecha": "2017-12",
          "Ramo": "Automotores",
          "value": 469,
          "variable": "Refa_Reno"
         },
         {
          "Año": 2017,
          "Fecha": "2017-01",
          "Ramo": "Comb.Familiar",
          "value": 19,
          "variable": "Refa_Reno"
         },
         {
          "Año": 2017,
          "Fecha": "2017-02",
          "Ramo": "Comb.Familiar",
          "value": 16,
          "variable": "Refa_Reno"
         },
         {
          "Año": 2017,
          "Fecha": "2017-03",
          "Ramo": "Comb.Familiar",
          "value": 21,
          "variable": "Refa_Reno"
         },
         {
          "Año": 2017,
          "Fecha": "2017-04",
          "Ramo": "Comb.Familiar",
          "value": 19,
          "variable": "Refa_Reno"
         },
         {
          "Año": 2017,
          "Fecha": "2017-05",
          "Ramo": "Comb.Familiar",
          "value": 15,
          "variable": "Refa_Reno"
         },
         {
          "Año": 2017,
          "Fecha": "2017-06",
          "Ramo": "Comb.Familiar",
          "value": 16,
          "variable": "Refa_Reno"
         },
         {
          "Año": 2017,
          "Fecha": "2017-07",
          "Ramo": "Comb.Familiar",
          "value": 9,
          "variable": "Refa_Reno"
         },
         {
          "Año": 2017,
          "Fecha": "2017-08",
          "Ramo": "Comb.Familiar",
          "value": 14,
          "variable": "Refa_Reno"
         },
         {
          "Año": 2017,
          "Fecha": "2017-09",
          "Ramo": "Comb.Familiar",
          "value": 24,
          "variable": "Refa_Reno"
         },
         {
          "Año": 2017,
          "Fecha": "2017-10",
          "Ramo": "Comb.Familiar",
          "value": 14,
          "variable": "Refa_Reno"
         },
         {
          "Año": 2017,
          "Fecha": "2017-11",
          "Ramo": "Comb.Familiar",
          "value": 16,
          "variable": "Refa_Reno"
         },
         {
          "Año": 2017,
          "Fecha": "2017-12",
          "Ramo": "Comb.Familiar",
          "value": 13,
          "variable": "Refa_Reno"
         },
         {
          "Año": 2017,
          "Fecha": "2017-01",
          "Ramo": "Acc.Personales",
          "value": 23,
          "variable": "Refa_Reno"
         },
         {
          "Año": 2017,
          "Fecha": "2017-02",
          "Ramo": "Acc.Personales",
          "value": 29,
          "variable": "Refa_Reno"
         },
         {
          "Año": 2017,
          "Fecha": "2017-03",
          "Ramo": "Acc.Personales",
          "value": 13,
          "variable": "Refa_Reno"
         },
         {
          "Año": 2017,
          "Fecha": "2017-04",
          "Ramo": "Acc.Personales",
          "value": 10,
          "variable": "Refa_Reno"
         },
         {
          "Año": 2017,
          "Fecha": "2017-05",
          "Ramo": "Acc.Personales",
          "value": 17,
          "variable": "Refa_Reno"
         },
         {
          "Año": 2017,
          "Fecha": "2017-06",
          "Ramo": "Acc.Personales",
          "value": 38,
          "variable": "Refa_Reno"
         },
         {
          "Año": 2017,
          "Fecha": "2017-07",
          "Ramo": "Acc.Personales",
          "value": 20,
          "variable": "Refa_Reno"
         },
         {
          "Año": 2017,
          "Fecha": "2017-08",
          "Ramo": "Acc.Personales",
          "value": 23,
          "variable": "Refa_Reno"
         },
         {
          "Año": 2017,
          "Fecha": "2017-09",
          "Ramo": "Acc.Personales",
          "value": 23,
          "variable": "Refa_Reno"
         },
         {
          "Año": 2017,
          "Fecha": "2017-10",
          "Ramo": "Acc.Personales",
          "value": 26,
          "variable": "Refa_Reno"
         },
         {
          "Año": 2017,
          "Fecha": "2017-11",
          "Ramo": "Acc.Personales",
          "value": 21,
          "variable": "Refa_Reno"
         },
         {
          "Año": 2017,
          "Fecha": "2017-12",
          "Ramo": "Acc.Personales",
          "value": 24,
          "variable": "Refa_Reno"
         },
         {
          "Año": 2017,
          "Fecha": "2017-01",
          "Ramo": "Incendio",
          "value": 2,
          "variable": "Refa_Reno"
         },
         {
          "Año": 2017,
          "Fecha": "2017-02",
          "Ramo": "Incendio",
          "value": 0,
          "variable": "Refa_Reno"
         },
         {
          "Año": 2017,
          "Fecha": "2017-03",
          "Ramo": "Incendio",
          "value": 0,
          "variable": "Refa_Reno"
         },
         {
          "Año": 2017,
          "Fecha": "2017-04",
          "Ramo": "Incendio",
          "value": 0,
          "variable": "Refa_Reno"
         },
         {
          "Año": 2017,
          "Fecha": "2017-05",
          "Ramo": "Incendio",
          "value": 1,
          "variable": "Refa_Reno"
         },
         {
          "Año": 2017,
          "Fecha": "2017-06",
          "Ramo": "Incendio",
          "value": 1,
          "variable": "Refa_Reno"
         },
         {
          "Año": 2017,
          "Fecha": "2017-07",
          "Ramo": "Incendio",
          "value": 2,
          "variable": "Refa_Reno"
         },
         {
          "Año": 2017,
          "Fecha": "2017-08",
          "Ramo": "Incendio",
          "value": 2,
          "variable": "Refa_Reno"
         },
         {
          "Año": 2017,
          "Fecha": "2017-09",
          "Ramo": "Incendio",
          "value": 0,
          "variable": "Refa_Reno"
         },
         {
          "Año": 2017,
          "Fecha": "2017-10",
          "Ramo": "Incendio",
          "value": 2,
          "variable": "Refa_Reno"
         },
         {
          "Año": 2017,
          "Fecha": "2017-11",
          "Ramo": "Incendio",
          "value": 0,
          "variable": "Refa_Reno"
         },
         {
          "Año": 2017,
          "Fecha": "2017-12",
          "Ramo": "Incendio",
          "value": 0,
          "variable": "Refa_Reno"
         },
         {
          "Año": 2017,
          "Fecha": "2017-01",
          "Ramo": "Caucion",
          "value": 5,
          "variable": "Refa_Reno"
         },
         {
          "Año": 2017,
          "Fecha": "2017-02",
          "Ramo": "Caucion",
          "value": 3,
          "variable": "Refa_Reno"
         },
         {
          "Año": 2017,
          "Fecha": "2017-03",
          "Ramo": "Caucion",
          "value": 1,
          "variable": "Refa_Reno"
         },
         {
          "Año": 2017,
          "Fecha": "2017-04",
          "Ramo": "Caucion",
          "value": 3,
          "variable": "Refa_Reno"
         },
         {
          "Año": 2017,
          "Fecha": "2017-05",
          "Ramo": "Caucion",
          "value": 5,
          "variable": "Refa_Reno"
         },
         {
          "Año": 2017,
          "Fecha": "2017-06",
          "Ramo": "Caucion",
          "value": 0,
          "variable": "Refa_Reno"
         },
         {
          "Año": 2017,
          "Fecha": "2017-07",
          "Ramo": "Caucion",
          "value": 1,
          "variable": "Refa_Reno"
         },
         {
          "Año": 2017,
          "Fecha": "2017-08",
          "Ramo": "Caucion",
          "value": 3,
          "variable": "Refa_Reno"
         },
         {
          "Año": 2017,
          "Fecha": "2017-09",
          "Ramo": "Caucion",
          "value": 1,
          "variable": "Refa_Reno"
         },
         {
          "Año": 2017,
          "Fecha": "2017-10",
          "Ramo": "Caucion",
          "value": 1,
          "variable": "Refa_Reno"
         },
         {
          "Año": 2017,
          "Fecha": "2017-11",
          "Ramo": "Caucion",
          "value": 6,
          "variable": "Refa_Reno"
         },
         {
          "Año": 2017,
          "Fecha": "2017-12",
          "Ramo": "Caucion",
          "value": 5,
          "variable": "Refa_Reno"
         },
         {
          "Año": 2017,
          "Fecha": "2017-01",
          "Ramo": "Acc. Fliares Transportados",
          "value": 34,
          "variable": "Refa_Reno"
         },
         {
          "Año": 2017,
          "Fecha": "2017-02",
          "Ramo": "Acc. Fliares Transportados",
          "value": 19,
          "variable": "Refa_Reno"
         },
         {
          "Año": 2017,
          "Fecha": "2017-03",
          "Ramo": "Acc. Fliares Transportados",
          "value": 21,
          "variable": "Refa_Reno"
         },
         {
          "Año": 2017,
          "Fecha": "2017-04",
          "Ramo": "Acc. Fliares Transportados",
          "value": 36,
          "variable": "Refa_Reno"
         },
         {
          "Año": 2017,
          "Fecha": "2017-05",
          "Ramo": "Acc. Fliares Transportados",
          "value": 23,
          "variable": "Refa_Reno"
         },
         {
          "Año": 2017,
          "Fecha": "2017-06",
          "Ramo": "Acc. Fliares Transportados",
          "value": 38,
          "variable": "Refa_Reno"
         },
         {
          "Año": 2017,
          "Fecha": "2017-07",
          "Ramo": "Acc. Fliares Transportados",
          "value": 71,
          "variable": "Refa_Reno"
         },
         {
          "Año": 2017,
          "Fecha": "2017-08",
          "Ramo": "Acc. Fliares Transportados",
          "value": 93,
          "variable": "Refa_Reno"
         },
         {
          "Año": 2017,
          "Fecha": "2017-09",
          "Ramo": "Acc. Fliares Transportados",
          "value": 57,
          "variable": "Refa_Reno"
         },
         {
          "Año": 2017,
          "Fecha": "2017-10",
          "Ramo": "Acc. Fliares Transportados",
          "value": 73,
          "variable": "Refa_Reno"
         },
         {
          "Año": 2017,
          "Fecha": "2017-11",
          "Ramo": "Acc. Fliares Transportados",
          "value": 58,
          "variable": "Refa_Reno"
         },
         {
          "Año": 2017,
          "Fecha": "2017-12",
          "Ramo": "Acc. Fliares Transportados",
          "value": 37,
          "variable": "Refa_Reno"
         },
         {
          "Año": 2017,
          "Fecha": "2017-01",
          "Ramo": "Vida Oblig.",
          "value": 32,
          "variable": "Refa_Reno"
         },
         {
          "Año": 2017,
          "Fecha": "2017-02",
          "Ramo": "Vida Oblig.",
          "value": 19,
          "variable": "Refa_Reno"
         },
         {
          "Año": 2017,
          "Fecha": "2017-03",
          "Ramo": "Vida Oblig.",
          "value": 16,
          "variable": "Refa_Reno"
         },
         {
          "Año": 2017,
          "Fecha": "2017-04",
          "Ramo": "Vida Oblig.",
          "value": 49,
          "variable": "Refa_Reno"
         },
         {
          "Año": 2017,
          "Fecha": "2017-05",
          "Ramo": "Vida Oblig.",
          "value": 23,
          "variable": "Refa_Reno"
         },
         {
          "Año": 2017,
          "Fecha": "2017-06",
          "Ramo": "Vida Oblig.",
          "value": 19,
          "variable": "Refa_Reno"
         },
         {
          "Año": 2017,
          "Fecha": "2017-07",
          "Ramo": "Vida Oblig.",
          "value": 24,
          "variable": "Refa_Reno"
         },
         {
          "Año": 2017,
          "Fecha": "2017-08",
          "Ramo": "Vida Oblig.",
          "value": 14,
          "variable": "Refa_Reno"
         },
         {
          "Año": 2017,
          "Fecha": "2017-09",
          "Ramo": "Vida Oblig.",
          "value": 18,
          "variable": "Refa_Reno"
         },
         {
          "Año": 2017,
          "Fecha": "2017-10",
          "Ramo": "Vida Oblig.",
          "value": 22,
          "variable": "Refa_Reno"
         },
         {
          "Año": 2017,
          "Fecha": "2017-11",
          "Ramo": "Vida Oblig.",
          "value": 40,
          "variable": "Refa_Reno"
         },
         {
          "Año": 2017,
          "Fecha": "2017-12",
          "Ramo": "Vida Oblig.",
          "value": 54,
          "variable": "Refa_Reno"
         },
         {
          "Año": 2017,
          "Fecha": "2017-01",
          "Ramo": "A.R.T.",
          "value": 0,
          "variable": "Refa_Reno"
         },
         {
          "Año": 2017,
          "Fecha": "2017-02",
          "Ramo": "A.R.T.",
          "value": 0,
          "variable": "Refa_Reno"
         },
         {
          "Año": 2017,
          "Fecha": "2017-03",
          "Ramo": "A.R.T.",
          "value": 0,
          "variable": "Refa_Reno"
         },
         {
          "Año": 2017,
          "Fecha": "2017-04",
          "Ramo": "A.R.T.",
          "value": 0,
          "variable": "Refa_Reno"
         },
         {
          "Año": 2017,
          "Fecha": "2017-05",
          "Ramo": "A.R.T.",
          "value": 3,
          "variable": "Refa_Reno"
         },
         {
          "Año": 2017,
          "Fecha": "2017-06",
          "Ramo": "A.R.T.",
          "value": 1,
          "variable": "Refa_Reno"
         },
         {
          "Año": 2017,
          "Fecha": "2017-07",
          "Ramo": "A.R.T.",
          "value": 6,
          "variable": "Refa_Reno"
         },
         {
          "Año": 2017,
          "Fecha": "2017-08",
          "Ramo": "A.R.T.",
          "value": 5,
          "variable": "Refa_Reno"
         },
         {
          "Año": 2017,
          "Fecha": "2017-09",
          "Ramo": "A.R.T.",
          "value": 1,
          "variable": "Refa_Reno"
         },
         {
          "Año": 2017,
          "Fecha": "2017-10",
          "Ramo": "A.R.T.",
          "value": 2,
          "variable": "Refa_Reno"
         },
         {
          "Año": 2017,
          "Fecha": "2017-11",
          "Ramo": "A.R.T.",
          "value": 4,
          "variable": "Refa_Reno"
         },
         {
          "Año": 2017,
          "Fecha": "2017-12",
          "Ramo": "A.R.T.",
          "value": 1,
          "variable": "Refa_Reno"
         },
         {
          "Año": 2017,
          "Fecha": "2017-01",
          "Ramo": "Resp.Civil",
          "value": 6,
          "variable": "Refa_Reno"
         },
         {
          "Año": 2017,
          "Fecha": "2017-02",
          "Ramo": "Resp.Civil",
          "value": 5,
          "variable": "Refa_Reno"
         },
         {
          "Año": 2017,
          "Fecha": "2017-03",
          "Ramo": "Resp.Civil",
          "value": 3,
          "variable": "Refa_Reno"
         },
         {
          "Año": 2017,
          "Fecha": "2017-04",
          "Ramo": "Resp.Civil",
          "value": 7,
          "variable": "Refa_Reno"
         },
         {
          "Año": 2017,
          "Fecha": "2017-05",
          "Ramo": "Resp.Civil",
          "value": 6,
          "variable": "Refa_Reno"
         },
         {
          "Año": 2017,
          "Fecha": "2017-06",
          "Ramo": "Resp.Civil",
          "value": 2,
          "variable": "Refa_Reno"
         },
         {
          "Año": 2017,
          "Fecha": "2017-07",
          "Ramo": "Resp.Civil",
          "value": 4,
          "variable": "Refa_Reno"
         },
         {
          "Año": 2017,
          "Fecha": "2017-08",
          "Ramo": "Resp.Civil",
          "value": 4,
          "variable": "Refa_Reno"
         },
         {
          "Año": 2017,
          "Fecha": "2017-09",
          "Ramo": "Resp.Civil",
          "value": 1,
          "variable": "Refa_Reno"
         },
         {
          "Año": 2017,
          "Fecha": "2017-10",
          "Ramo": "Resp.Civil",
          "value": 5,
          "variable": "Refa_Reno"
         },
         {
          "Año": 2017,
          "Fecha": "2017-11",
          "Ramo": "Resp.Civil",
          "value": 3,
          "variable": "Refa_Reno"
         },
         {
          "Año": 2017,
          "Fecha": "2017-12",
          "Ramo": "Resp.Civil",
          "value": 2,
          "variable": "Refa_Reno"
         },
         {
          "Año": 2017,
          "Fecha": "2017-01",
          "Ramo": "Todo Riesgo Operativo",
          "value": 0,
          "variable": "Refa_Reno"
         },
         {
          "Año": 2017,
          "Fecha": "2017-02",
          "Ramo": "Todo Riesgo Operativo",
          "value": 1,
          "variable": "Refa_Reno"
         },
         {
          "Año": 2017,
          "Fecha": "2017-03",
          "Ramo": "Todo Riesgo Operativo",
          "value": 0,
          "variable": "Refa_Reno"
         },
         {
          "Año": 2017,
          "Fecha": "2017-04",
          "Ramo": "Todo Riesgo Operativo",
          "value": 0,
          "variable": "Refa_Reno"
         },
         {
          "Año": 2017,
          "Fecha": "2017-05",
          "Ramo": "Todo Riesgo Operativo",
          "value": 0,
          "variable": "Refa_Reno"
         },
         {
          "Año": 2017,
          "Fecha": "2017-06",
          "Ramo": "Todo Riesgo Operativo",
          "value": 0,
          "variable": "Refa_Reno"
         },
         {
          "Año": 2017,
          "Fecha": "2017-07",
          "Ramo": "Todo Riesgo Operativo",
          "value": 0,
          "variable": "Refa_Reno"
         },
         {
          "Año": 2017,
          "Fecha": "2017-08",
          "Ramo": "Todo Riesgo Operativo",
          "value": 0,
          "variable": "Refa_Reno"
         },
         {
          "Año": 2017,
          "Fecha": "2017-09",
          "Ramo": "Todo Riesgo Operativo",
          "value": 0,
          "variable": "Refa_Reno"
         },
         {
          "Año": 2017,
          "Fecha": "2017-10",
          "Ramo": "Todo Riesgo Operativo",
          "value": 0,
          "variable": "Refa_Reno"
         },
         {
          "Año": 2017,
          "Fecha": "2017-11",
          "Ramo": "Todo Riesgo Operativo",
          "value": 0,
          "variable": "Refa_Reno"
         },
         {
          "Año": 2017,
          "Fecha": "2017-12",
          "Ramo": "Todo Riesgo Operativo",
          "value": 0,
          "variable": "Refa_Reno"
         },
         {
          "Año": 2017,
          "Fecha": "2017-01",
          "Ramo": "Int.de Comer.",
          "value": 5,
          "variable": "Refa_Reno"
         },
         {
          "Año": 2017,
          "Fecha": "2017-02",
          "Ramo": "Int.de Comer.",
          "value": 9,
          "variable": "Refa_Reno"
         },
         {
          "Año": 2017,
          "Fecha": "2017-03",
          "Ramo": "Int.de Comer.",
          "value": 10,
          "variable": "Refa_Reno"
         },
         {
          "Año": 2017,
          "Fecha": "2017-04",
          "Ramo": "Int.de Comer.",
          "value": 6,
          "variable": "Refa_Reno"
         },
         {
          "Año": 2017,
          "Fecha": "2017-05",
          "Ramo": "Int.de Comer.",
          "value": 2,
          "variable": "Refa_Reno"
         },
         {
          "Año": 2017,
          "Fecha": "2017-06",
          "Ramo": "Int.de Comer.",
          "value": 8,
          "variable": "Refa_Reno"
         },
         {
          "Año": 2017,
          "Fecha": "2017-07",
          "Ramo": "Int.de Comer.",
          "value": 7,
          "variable": "Refa_Reno"
         },
         {
          "Año": 2017,
          "Fecha": "2017-08",
          "Ramo": "Int.de Comer.",
          "value": 7,
          "variable": "Refa_Reno"
         },
         {
          "Año": 2017,
          "Fecha": "2017-09",
          "Ramo": "Int.de Comer.",
          "value": 11,
          "variable": "Refa_Reno"
         },
         {
          "Año": 2017,
          "Fecha": "2017-10",
          "Ramo": "Int.de Comer.",
          "value": 8,
          "variable": "Refa_Reno"
         },
         {
          "Año": 2017,
          "Fecha": "2017-11",
          "Ramo": "Int.de Comer.",
          "value": 5,
          "variable": "Refa_Reno"
         },
         {
          "Año": 2017,
          "Fecha": "2017-12",
          "Ramo": "Int.de Comer.",
          "value": 6,
          "variable": "Refa_Reno"
         },
         {
          "Año": 2017,
          "Fecha": "2017-01",
          "Ramo": "Moto - Vehículo",
          "value": 3,
          "variable": "Refa_Reno"
         },
         {
          "Año": 2017,
          "Fecha": "2017-02",
          "Ramo": "Moto - Vehículo",
          "value": 1,
          "variable": "Refa_Reno"
         },
         {
          "Año": 2017,
          "Fecha": "2017-03",
          "Ramo": "Moto - Vehículo",
          "value": 5,
          "variable": "Refa_Reno"
         },
         {
          "Año": 2017,
          "Fecha": "2017-04",
          "Ramo": "Moto - Vehículo",
          "value": 3,
          "variable": "Refa_Reno"
         },
         {
          "Año": 2017,
          "Fecha": "2017-05",
          "Ramo": "Moto - Vehículo",
          "value": 4,
          "variable": "Refa_Reno"
         },
         {
          "Año": 2017,
          "Fecha": "2017-06",
          "Ramo": "Moto - Vehículo",
          "value": 0,
          "variable": "Refa_Reno"
         },
         {
          "Año": 2017,
          "Fecha": "2017-07",
          "Ramo": "Moto - Vehículo",
          "value": 4,
          "variable": "Refa_Reno"
         },
         {
          "Año": 2017,
          "Fecha": "2017-08",
          "Ramo": "Moto - Vehículo",
          "value": 2,
          "variable": "Refa_Reno"
         },
         {
          "Año": 2017,
          "Fecha": "2017-09",
          "Ramo": "Moto - Vehículo",
          "value": 3,
          "variable": "Refa_Reno"
         },
         {
          "Año": 2017,
          "Fecha": "2017-10",
          "Ramo": "Moto - Vehículo",
          "value": 3,
          "variable": "Refa_Reno"
         },
         {
          "Año": 2017,
          "Fecha": "2017-11",
          "Ramo": "Moto - Vehículo",
          "value": 6,
          "variable": "Refa_Reno"
         },
         {
          "Año": 2017,
          "Fecha": "2017-12",
          "Ramo": "Moto - Vehículo",
          "value": 7,
          "variable": "Refa_Reno"
         },
         {
          "Año": 2017,
          "Fecha": "2017-01",
          "Ramo": "Sepelio",
          "value": 2,
          "variable": "Refa_Reno"
         },
         {
          "Año": 2017,
          "Fecha": "2017-02",
          "Ramo": "Sepelio",
          "value": 0,
          "variable": "Refa_Reno"
         },
         {
          "Año": 2017,
          "Fecha": "2017-03",
          "Ramo": "Sepelio",
          "value": 0,
          "variable": "Refa_Reno"
         },
         {
          "Año": 2017,
          "Fecha": "2017-04",
          "Ramo": "Sepelio",
          "value": 0,
          "variable": "Refa_Reno"
         },
         {
          "Año": 2017,
          "Fecha": "2017-05",
          "Ramo": "Sepelio",
          "value": 0,
          "variable": "Refa_Reno"
         },
         {
          "Año": 2017,
          "Fecha": "2017-06",
          "Ramo": "Sepelio",
          "value": 0,
          "variable": "Refa_Reno"
         },
         {
          "Año": 2017,
          "Fecha": "2017-07",
          "Ramo": "Sepelio",
          "value": 0,
          "variable": "Refa_Reno"
         },
         {
          "Año": 2017,
          "Fecha": "2017-08",
          "Ramo": "Sepelio",
          "value": 0,
          "variable": "Refa_Reno"
         },
         {
          "Año": 2017,
          "Fecha": "2017-09",
          "Ramo": "Sepelio",
          "value": 0,
          "variable": "Refa_Reno"
         },
         {
          "Año": 2017,
          "Fecha": "2017-10",
          "Ramo": "Sepelio",
          "value": 0,
          "variable": "Refa_Reno"
         },
         {
          "Año": 2017,
          "Fecha": "2017-11",
          "Ramo": "Sepelio",
          "value": 1,
          "variable": "Refa_Reno"
         },
         {
          "Año": 2017,
          "Fecha": "2017-12",
          "Ramo": "Sepelio",
          "value": 0,
          "variable": "Refa_Reno"
         },
         {
          "Año": 2017,
          "Fecha": "2017-01",
          "Ramo": "Vida Colectivo",
          "value": 5,
          "variable": "Refa_Reno"
         },
         {
          "Año": 2017,
          "Fecha": "2017-02",
          "Ramo": "Vida Colectivo",
          "value": 3,
          "variable": "Refa_Reno"
         },
         {
          "Año": 2017,
          "Fecha": "2017-03",
          "Ramo": "Vida Colectivo",
          "value": 1,
          "variable": "Refa_Reno"
         },
         {
          "Año": 2017,
          "Fecha": "2017-04",
          "Ramo": "Vida Colectivo",
          "value": 5,
          "variable": "Refa_Reno"
         },
         {
          "Año": 2017,
          "Fecha": "2017-05",
          "Ramo": "Vida Colectivo",
          "value": 7,
          "variable": "Refa_Reno"
         },
         {
          "Año": 2017,
          "Fecha": "2017-06",
          "Ramo": "Vida Colectivo",
          "value": 3,
          "variable": "Refa_Reno"
         },
         {
          "Año": 2017,
          "Fecha": "2017-07",
          "Ramo": "Vida Colectivo",
          "value": 6,
          "variable": "Refa_Reno"
         },
         {
          "Año": 2017,
          "Fecha": "2017-08",
          "Ramo": "Vida Colectivo",
          "value": 6,
          "variable": "Refa_Reno"
         },
         {
          "Año": 2017,
          "Fecha": "2017-09",
          "Ramo": "Vida Colectivo",
          "value": 5,
          "variable": "Refa_Reno"
         },
         {
          "Año": 2017,
          "Fecha": "2017-10",
          "Ramo": "Vida Colectivo",
          "value": 3,
          "variable": "Refa_Reno"
         },
         {
          "Año": 2017,
          "Fecha": "2017-11",
          "Ramo": "Vida Colectivo",
          "value": 6,
          "variable": "Refa_Reno"
         },
         {
          "Año": 2017,
          "Fecha": "2017-12",
          "Ramo": "Vida Colectivo",
          "value": 1,
          "variable": "Refa_Reno"
         },
         {
          "Año": 2017,
          "Fecha": "2017-01",
          "Ramo": "Seguro Tecnico",
          "value": 2,
          "variable": "Refa_Reno"
         },
         {
          "Año": 2017,
          "Fecha": "2017-02",
          "Ramo": "Seguro Tecnico",
          "value": 1,
          "variable": "Refa_Reno"
         },
         {
          "Año": 2017,
          "Fecha": "2017-03",
          "Ramo": "Seguro Tecnico",
          "value": 1,
          "variable": "Refa_Reno"
         },
         {
          "Año": 2017,
          "Fecha": "2017-04",
          "Ramo": "Seguro Tecnico",
          "value": 1,
          "variable": "Refa_Reno"
         },
         {
          "Año": 2017,
          "Fecha": "2017-05",
          "Ramo": "Seguro Tecnico",
          "value": 2,
          "variable": "Refa_Reno"
         },
         {
          "Año": 2017,
          "Fecha": "2017-06",
          "Ramo": "Seguro Tecnico",
          "value": 1,
          "variable": "Refa_Reno"
         },
         {
          "Año": 2017,
          "Fecha": "2017-07",
          "Ramo": "Seguro Tecnico",
          "value": 1,
          "variable": "Refa_Reno"
         },
         {
          "Año": 2017,
          "Fecha": "2017-08",
          "Ramo": "Seguro Tecnico",
          "value": 2,
          "variable": "Refa_Reno"
         },
         {
          "Año": 2017,
          "Fecha": "2017-09",
          "Ramo": "Seguro Tecnico",
          "value": 1,
          "variable": "Refa_Reno"
         },
         {
          "Año": 2017,
          "Fecha": "2017-10",
          "Ramo": "Seguro Tecnico",
          "value": 1,
          "variable": "Refa_Reno"
         },
         {
          "Año": 2017,
          "Fecha": "2017-11",
          "Ramo": "Seguro Tecnico",
          "value": 1,
          "variable": "Refa_Reno"
         },
         {
          "Año": 2017,
          "Fecha": "2017-12",
          "Ramo": "Seguro Tecnico",
          "value": 0,
          "variable": "Refa_Reno"
         },
         {
          "Año": 2017,
          "Fecha": "2017-01",
          "Ramo": "Incendio / Int. de Consorcio",
          "value": 4,
          "variable": "Refa_Reno"
         },
         {
          "Año": 2017,
          "Fecha": "2017-02",
          "Ramo": "Incendio / Int. de Consorcio",
          "value": 5,
          "variable": "Refa_Reno"
         },
         {
          "Año": 2017,
          "Fecha": "2017-03",
          "Ramo": "Incendio / Int. de Consorcio",
          "value": 1,
          "variable": "Refa_Reno"
         },
         {
          "Año": 2017,
          "Fecha": "2017-04",
          "Ramo": "Incendio / Int. de Consorcio",
          "value": 0,
          "variable": "Refa_Reno"
         },
         {
          "Año": 2017,
          "Fecha": "2017-05",
          "Ramo": "Incendio / Int. de Consorcio",
          "value": 2,
          "variable": "Refa_Reno"
         },
         {
          "Año": 2017,
          "Fecha": "2017-06",
          "Ramo": "Incendio / Int. de Consorcio",
          "value": 1,
          "variable": "Refa_Reno"
         },
         {
          "Año": 2017,
          "Fecha": "2017-07",
          "Ramo": "Incendio / Int. de Consorcio",
          "value": 3,
          "variable": "Refa_Reno"
         },
         {
          "Año": 2017,
          "Fecha": "2017-08",
          "Ramo": "Incendio / Int. de Consorcio",
          "value": 1,
          "variable": "Refa_Reno"
         },
         {
          "Año": 2017,
          "Fecha": "2017-09",
          "Ramo": "Incendio / Int. de Consorcio",
          "value": 4,
          "variable": "Refa_Reno"
         },
         {
          "Año": 2017,
          "Fecha": "2017-10",
          "Ramo": "Incendio / Int. de Consorcio",
          "value": 3,
          "variable": "Refa_Reno"
         },
         {
          "Año": 2017,
          "Fecha": "2017-11",
          "Ramo": "Incendio / Int. de Consorcio",
          "value": 1,
          "variable": "Refa_Reno"
         },
         {
          "Año": 2017,
          "Fecha": "2017-12",
          "Ramo": "Incendio / Int. de Consorcio",
          "value": 1,
          "variable": "Refa_Reno"
         },
         {
          "Año": 2017,
          "Fecha": "2017-01",
          "Ramo": "Transporte",
          "value": 0,
          "variable": "Refa_Reno"
         },
         {
          "Año": 2017,
          "Fecha": "2017-02",
          "Ramo": "Transporte",
          "value": 0,
          "variable": "Refa_Reno"
         },
         {
          "Año": 2017,
          "Fecha": "2017-03",
          "Ramo": "Transporte",
          "value": 0,
          "variable": "Refa_Reno"
         },
         {
          "Año": 2017,
          "Fecha": "2017-04",
          "Ramo": "Transporte",
          "value": 0,
          "variable": "Refa_Reno"
         },
         {
          "Año": 2017,
          "Fecha": "2017-05",
          "Ramo": "Transporte",
          "value": 0,
          "variable": "Refa_Reno"
         },
         {
          "Año": 2017,
          "Fecha": "2017-06",
          "Ramo": "Transporte",
          "value": 0,
          "variable": "Refa_Reno"
         },
         {
          "Año": 2017,
          "Fecha": "2017-07",
          "Ramo": "Transporte",
          "value": 1,
          "variable": "Refa_Reno"
         },
         {
          "Año": 2017,
          "Fecha": "2017-08",
          "Ramo": "Transporte",
          "value": 0,
          "variable": "Refa_Reno"
         },
         {
          "Año": 2017,
          "Fecha": "2017-09",
          "Ramo": "Transporte",
          "value": 0,
          "variable": "Refa_Reno"
         },
         {
          "Año": 2017,
          "Fecha": "2017-10",
          "Ramo": "Transporte",
          "value": 0,
          "variable": "Refa_Reno"
         },
         {
          "Año": 2017,
          "Fecha": "2017-11",
          "Ramo": "Transporte",
          "value": 0,
          "variable": "Refa_Reno"
         },
         {
          "Año": 2017,
          "Fecha": "2017-12",
          "Ramo": "Transporte",
          "value": 0,
          "variable": "Refa_Reno"
         },
         {
          "Año": 2017,
          "Fecha": "2017-01",
          "Ramo": "Vida Cont.Trab.",
          "value": 2,
          "variable": "Refa_Reno"
         },
         {
          "Año": 2017,
          "Fecha": "2017-02",
          "Ramo": "Vida Cont.Trab.",
          "value": 1,
          "variable": "Refa_Reno"
         },
         {
          "Año": 2017,
          "Fecha": "2017-03",
          "Ramo": "Vida Cont.Trab.",
          "value": 0,
          "variable": "Refa_Reno"
         },
         {
          "Año": 2017,
          "Fecha": "2017-04",
          "Ramo": "Vida Cont.Trab.",
          "value": 0,
          "variable": "Refa_Reno"
         },
         {
          "Año": 2017,
          "Fecha": "2017-05",
          "Ramo": "Vida Cont.Trab.",
          "value": 0,
          "variable": "Refa_Reno"
         },
         {
          "Año": 2017,
          "Fecha": "2017-06",
          "Ramo": "Vida Cont.Trab.",
          "value": 0,
          "variable": "Refa_Reno"
         },
         {
          "Año": 2017,
          "Fecha": "2017-07",
          "Ramo": "Vida Cont.Trab.",
          "value": 0,
          "variable": "Refa_Reno"
         },
         {
          "Año": 2017,
          "Fecha": "2017-08",
          "Ramo": "Vida Cont.Trab.",
          "value": 1,
          "variable": "Refa_Reno"
         },
         {
          "Año": 2017,
          "Fecha": "2017-09",
          "Ramo": "Vida Cont.Trab.",
          "value": 0,
          "variable": "Refa_Reno"
         },
         {
          "Año": 2017,
          "Fecha": "2017-10",
          "Ramo": "Vida Cont.Trab.",
          "value": 1,
          "variable": "Refa_Reno"
         },
         {
          "Año": 2017,
          "Fecha": "2017-11",
          "Ramo": "Vida Cont.Trab.",
          "value": 1,
          "variable": "Refa_Reno"
         },
         {
          "Año": 2017,
          "Fecha": "2017-12",
          "Ramo": "Vida Cont.Trab.",
          "value": 0,
          "variable": "Refa_Reno"
         },
         {
          "Año": 2017,
          "Fecha": "2017-01",
          "Ramo": "Robo",
          "value": 0,
          "variable": "Refa_Reno"
         },
         {
          "Año": 2017,
          "Fecha": "2017-02",
          "Ramo": "Robo",
          "value": 0,
          "variable": "Refa_Reno"
         },
         {
          "Año": 2017,
          "Fecha": "2017-03",
          "Ramo": "Robo",
          "value": 0,
          "variable": "Refa_Reno"
         },
         {
          "Año": 2017,
          "Fecha": "2017-04",
          "Ramo": "Robo",
          "value": 3,
          "variable": "Refa_Reno"
         },
         {
          "Año": 2017,
          "Fecha": "2017-05",
          "Ramo": "Robo",
          "value": 0,
          "variable": "Refa_Reno"
         },
         {
          "Año": 2017,
          "Fecha": "2017-06",
          "Ramo": "Robo",
          "value": 2,
          "variable": "Refa_Reno"
         },
         {
          "Año": 2017,
          "Fecha": "2017-07",
          "Ramo": "Robo",
          "value": 2,
          "variable": "Refa_Reno"
         },
         {
          "Año": 2017,
          "Fecha": "2017-08",
          "Ramo": "Robo",
          "value": 1,
          "variable": "Refa_Reno"
         },
         {
          "Año": 2017,
          "Fecha": "2017-09",
          "Ramo": "Robo",
          "value": 2,
          "variable": "Refa_Reno"
         },
         {
          "Año": 2017,
          "Fecha": "2017-10",
          "Ramo": "Robo",
          "value": 4,
          "variable": "Refa_Reno"
         },
         {
          "Año": 2017,
          "Fecha": "2017-11",
          "Ramo": "Robo",
          "value": 5,
          "variable": "Refa_Reno"
         },
         {
          "Año": 2017,
          "Fecha": "2017-12",
          "Ramo": "Robo",
          "value": 0,
          "variable": "Refa_Reno"
         },
         {
          "Año": 2017,
          "Fecha": "2017-01",
          "Ramo": "Salud",
          "value": 0,
          "variable": "Refa_Reno"
         },
         {
          "Año": 2017,
          "Fecha": "2017-02",
          "Ramo": "Salud",
          "value": 0,
          "variable": "Refa_Reno"
         },
         {
          "Año": 2017,
          "Fecha": "2017-03",
          "Ramo": "Salud",
          "value": 0,
          "variable": "Refa_Reno"
         },
         {
          "Año": 2017,
          "Fecha": "2017-04",
          "Ramo": "Salud",
          "value": 1,
          "variable": "Refa_Reno"
         },
         {
          "Año": 2017,
          "Fecha": "2017-05",
          "Ramo": "Salud",
          "value": 0,
          "variable": "Refa_Reno"
         },
         {
          "Año": 2017,
          "Fecha": "2017-06",
          "Ramo": "Salud",
          "value": 0,
          "variable": "Refa_Reno"
         },
         {
          "Año": 2017,
          "Fecha": "2017-07",
          "Ramo": "Salud",
          "value": 1,
          "variable": "Refa_Reno"
         },
         {
          "Año": 2017,
          "Fecha": "2017-08",
          "Ramo": "Salud",
          "value": 1,
          "variable": "Refa_Reno"
         },
         {
          "Año": 2017,
          "Fecha": "2017-09",
          "Ramo": "Salud",
          "value": 1,
          "variable": "Refa_Reno"
         },
         {
          "Año": 2017,
          "Fecha": "2017-10",
          "Ramo": "Salud",
          "value": 1,
          "variable": "Refa_Reno"
         },
         {
          "Año": 2017,
          "Fecha": "2017-11",
          "Ramo": "Salud",
          "value": 0,
          "variable": "Refa_Reno"
         },
         {
          "Año": 2017,
          "Fecha": "2017-12",
          "Ramo": "Salud",
          "value": 0,
          "variable": "Refa_Reno"
         },
         {
          "Año": 2017,
          "Fecha": "2017-01",
          "Ramo": "Acc.Pers.Auton.",
          "value": 0,
          "variable": "Refa_Reno"
         },
         {
          "Año": 2017,
          "Fecha": "2017-02",
          "Ramo": "Acc.Pers.Auton.",
          "value": 0,
          "variable": "Refa_Reno"
         },
         {
          "Año": 2017,
          "Fecha": "2017-03",
          "Ramo": "Acc.Pers.Auton.",
          "value": 0,
          "variable": "Refa_Reno"
         },
         {
          "Año": 2017,
          "Fecha": "2017-04",
          "Ramo": "Acc.Pers.Auton.",
          "value": 0,
          "variable": "Refa_Reno"
         },
         {
          "Año": 2017,
          "Fecha": "2017-05",
          "Ramo": "Acc.Pers.Auton.",
          "value": 0,
          "variable": "Refa_Reno"
         },
         {
          "Año": 2017,
          "Fecha": "2017-06",
          "Ramo": "Acc.Pers.Auton.",
          "value": 2,
          "variable": "Refa_Reno"
         },
         {
          "Año": 2017,
          "Fecha": "2017-07",
          "Ramo": "Acc.Pers.Auton.",
          "value": 0,
          "variable": "Refa_Reno"
         },
         {
          "Año": 2017,
          "Fecha": "2017-08",
          "Ramo": "Acc.Pers.Auton.",
          "value": 1,
          "variable": "Refa_Reno"
         },
         {
          "Año": 2017,
          "Fecha": "2017-09",
          "Ramo": "Acc.Pers.Auton.",
          "value": 2,
          "variable": "Refa_Reno"
         },
         {
          "Año": 2017,
          "Fecha": "2017-10",
          "Ramo": "Acc.Pers.Auton.",
          "value": 0,
          "variable": "Refa_Reno"
         },
         {
          "Año": 2017,
          "Fecha": "2017-11",
          "Ramo": "Acc.Pers.Auton.",
          "value": 1,
          "variable": "Refa_Reno"
         },
         {
          "Año": 2017,
          "Fecha": "2017-12",
          "Ramo": "Acc.Pers.Auton.",
          "value": 1,
          "variable": "Refa_Reno"
         },
         {
          "Año": 2017,
          "Fecha": "2017-01",
          "Ramo": "Cascos",
          "value": 1,
          "variable": "Refa_Reno"
         },
         {
          "Año": 2017,
          "Fecha": "2017-02",
          "Ramo": "Cascos",
          "value": 0,
          "variable": "Refa_Reno"
         },
         {
          "Año": 2017,
          "Fecha": "2017-03",
          "Ramo": "Cascos",
          "value": 0,
          "variable": "Refa_Reno"
         },
         {
          "Año": 2017,
          "Fecha": "2017-04",
          "Ramo": "Cascos",
          "value": 0,
          "variable": "Refa_Reno"
         },
         {
          "Año": 2017,
          "Fecha": "2017-05",
          "Ramo": "Cascos",
          "value": 0,
          "variable": "Refa_Reno"
         },
         {
          "Año": 2017,
          "Fecha": "2017-06",
          "Ramo": "Cascos",
          "value": 0,
          "variable": "Refa_Reno"
         },
         {
          "Año": 2017,
          "Fecha": "2017-07",
          "Ramo": "Cascos",
          "value": 0,
          "variable": "Refa_Reno"
         },
         {
          "Año": 2017,
          "Fecha": "2017-08",
          "Ramo": "Cascos",
          "value": 1,
          "variable": "Refa_Reno"
         },
         {
          "Año": 2017,
          "Fecha": "2017-09",
          "Ramo": "Cascos",
          "value": 0,
          "variable": "Refa_Reno"
         },
         {
          "Año": 2017,
          "Fecha": "2017-10",
          "Ramo": "Cascos",
          "value": 0,
          "variable": "Refa_Reno"
         },
         {
          "Año": 2017,
          "Fecha": "2017-11",
          "Ramo": "Cascos",
          "value": 0,
          "variable": "Refa_Reno"
         },
         {
          "Año": 2017,
          "Fecha": "2017-12",
          "Ramo": "Cascos",
          "value": 0,
          "variable": "Refa_Reno"
         },
         {
          "Año": 2017,
          "Fecha": "2017-01",
          "Ramo": "Int.Consorcio",
          "value": 1,
          "variable": "Refa_Reno"
         },
         {
          "Año": 2017,
          "Fecha": "2017-02",
          "Ramo": "Int.Consorcio",
          "value": 0,
          "variable": "Refa_Reno"
         },
         {
          "Año": 2017,
          "Fecha": "2017-03",
          "Ramo": "Int.Consorcio",
          "value": 0,
          "variable": "Refa_Reno"
         },
         {
          "Año": 2017,
          "Fecha": "2017-04",
          "Ramo": "Int.Consorcio",
          "value": 0,
          "variable": "Refa_Reno"
         },
         {
          "Año": 2017,
          "Fecha": "2017-05",
          "Ramo": "Int.Consorcio",
          "value": 0,
          "variable": "Refa_Reno"
         },
         {
          "Año": 2017,
          "Fecha": "2017-06",
          "Ramo": "Int.Consorcio",
          "value": 0,
          "variable": "Refa_Reno"
         },
         {
          "Año": 2017,
          "Fecha": "2017-07",
          "Ramo": "Int.Consorcio",
          "value": 0,
          "variable": "Refa_Reno"
         },
         {
          "Año": 2017,
          "Fecha": "2017-08",
          "Ramo": "Int.Consorcio",
          "value": 0,
          "variable": "Refa_Reno"
         },
         {
          "Año": 2017,
          "Fecha": "2017-09",
          "Ramo": "Int.Consorcio",
          "value": 0,
          "variable": "Refa_Reno"
         },
         {
          "Año": 2017,
          "Fecha": "2017-10",
          "Ramo": "Int.Consorcio",
          "value": 0,
          "variable": "Refa_Reno"
         },
         {
          "Año": 2017,
          "Fecha": "2017-11",
          "Ramo": "Int.Consorcio",
          "value": 0,
          "variable": "Refa_Reno"
         },
         {
          "Año": 2017,
          "Fecha": "2017-12",
          "Ramo": "Int.Consorcio",
          "value": 0,
          "variable": "Refa_Reno"
         },
         {
          "Año": 2017,
          "Fecha": "2017-01",
          "Ramo": "Riesgos Varios",
          "value": 0,
          "variable": "Refa_Reno"
         },
         {
          "Año": 2017,
          "Fecha": "2017-02",
          "Ramo": "Riesgos Varios",
          "value": 0,
          "variable": "Refa_Reno"
         },
         {
          "Año": 2017,
          "Fecha": "2017-03",
          "Ramo": "Riesgos Varios",
          "value": 0,
          "variable": "Refa_Reno"
         },
         {
          "Año": 2017,
          "Fecha": "2017-04",
          "Ramo": "Riesgos Varios",
          "value": 3,
          "variable": "Refa_Reno"
         },
         {
          "Año": 2017,
          "Fecha": "2017-05",
          "Ramo": "Riesgos Varios",
          "value": 1,
          "variable": "Refa_Reno"
         },
         {
          "Año": 2017,
          "Fecha": "2017-06",
          "Ramo": "Riesgos Varios",
          "value": 0,
          "variable": "Refa_Reno"
         },
         {
          "Año": 2017,
          "Fecha": "2017-07",
          "Ramo": "Riesgos Varios",
          "value": 0,
          "variable": "Refa_Reno"
         },
         {
          "Año": 2017,
          "Fecha": "2017-08",
          "Ramo": "Riesgos Varios",
          "value": 0,
          "variable": "Refa_Reno"
         },
         {
          "Año": 2017,
          "Fecha": "2017-09",
          "Ramo": "Riesgos Varios",
          "value": 0,
          "variable": "Refa_Reno"
         },
         {
          "Año": 2017,
          "Fecha": "2017-10",
          "Ramo": "Riesgos Varios",
          "value": 1,
          "variable": "Refa_Reno"
         },
         {
          "Año": 2017,
          "Fecha": "2017-11",
          "Ramo": "Riesgos Varios",
          "value": 1,
          "variable": "Refa_Reno"
         },
         {
          "Año": 2017,
          "Fecha": "2017-12",
          "Ramo": "Riesgos Varios",
          "value": 1,
          "variable": "Refa_Reno"
         },
         {
          "Año": 2017,
          "Fecha": "2017-01",
          "Ramo": "Cristales",
          "value": 0,
          "variable": "Refa_Reno"
         },
         {
          "Año": 2017,
          "Fecha": "2017-02",
          "Ramo": "Cristales",
          "value": 0,
          "variable": "Refa_Reno"
         },
         {
          "Año": 2017,
          "Fecha": "2017-03",
          "Ramo": "Cristales",
          "value": 0,
          "variable": "Refa_Reno"
         },
         {
          "Año": 2017,
          "Fecha": "2017-04",
          "Ramo": "Cristales",
          "value": 0,
          "variable": "Refa_Reno"
         },
         {
          "Año": 2017,
          "Fecha": "2017-05",
          "Ramo": "Cristales",
          "value": 0,
          "variable": "Refa_Reno"
         },
         {
          "Año": 2017,
          "Fecha": "2017-06",
          "Ramo": "Cristales",
          "value": 0,
          "variable": "Refa_Reno"
         },
         {
          "Año": 2017,
          "Fecha": "2017-07",
          "Ramo": "Cristales",
          "value": 0,
          "variable": "Refa_Reno"
         },
         {
          "Año": 2017,
          "Fecha": "2017-08",
          "Ramo": "Cristales",
          "value": 0,
          "variable": "Refa_Reno"
         },
         {
          "Año": 2017,
          "Fecha": "2017-09",
          "Ramo": "Cristales",
          "value": 0,
          "variable": "Refa_Reno"
         },
         {
          "Año": 2017,
          "Fecha": "2017-10",
          "Ramo": "Cristales",
          "value": 0,
          "variable": "Refa_Reno"
         },
         {
          "Año": 2017,
          "Fecha": "2017-11",
          "Ramo": "Cristales",
          "value": 0,
          "variable": "Refa_Reno"
         },
         {
          "Año": 2017,
          "Fecha": "2017-12",
          "Ramo": "Cristales",
          "value": 0,
          "variable": "Refa_Reno"
         },
         {
          "Año": 2017,
          "Fecha": "2017-01",
          "Ramo": "Perdida de Beneficio",
          "value": 0,
          "variable": "Refa_Reno"
         },
         {
          "Año": 2017,
          "Fecha": "2017-02",
          "Ramo": "Perdida de Beneficio",
          "value": 0,
          "variable": "Refa_Reno"
         },
         {
          "Año": 2017,
          "Fecha": "2017-03",
          "Ramo": "Perdida de Beneficio",
          "value": 0,
          "variable": "Refa_Reno"
         },
         {
          "Año": 2017,
          "Fecha": "2017-04",
          "Ramo": "Perdida de Beneficio",
          "value": 0,
          "variable": "Refa_Reno"
         },
         {
          "Año": 2017,
          "Fecha": "2017-05",
          "Ramo": "Perdida de Beneficio",
          "value": 0,
          "variable": "Refa_Reno"
         },
         {
          "Año": 2017,
          "Fecha": "2017-06",
          "Ramo": "Perdida de Beneficio",
          "value": 0,
          "variable": "Refa_Reno"
         },
         {
          "Año": 2017,
          "Fecha": "2017-07",
          "Ramo": "Perdida de Beneficio",
          "value": 0,
          "variable": "Refa_Reno"
         },
         {
          "Año": 2017,
          "Fecha": "2017-08",
          "Ramo": "Perdida de Beneficio",
          "value": 0,
          "variable": "Refa_Reno"
         },
         {
          "Año": 2017,
          "Fecha": "2017-09",
          "Ramo": "Perdida de Beneficio",
          "value": 0,
          "variable": "Refa_Reno"
         },
         {
          "Año": 2017,
          "Fecha": "2017-10",
          "Ramo": "Perdida de Beneficio",
          "value": 0,
          "variable": "Refa_Reno"
         },
         {
          "Año": 2017,
          "Fecha": "2017-11",
          "Ramo": "Perdida de Beneficio",
          "value": 0,
          "variable": "Refa_Reno"
         },
         {
          "Año": 2017,
          "Fecha": "2017-12",
          "Ramo": "Perdida de Beneficio",
          "value": 0,
          "variable": "Refa_Reno"
         },
         {
          "Año": 2018,
          "Fecha": "2018-01",
          "Ramo": "Vida individual",
          "value": 17,
          "variable": "Refa_Reno"
         },
         {
          "Año": 2018,
          "Fecha": "2018-02",
          "Ramo": "Vida individual",
          "value": 5,
          "variable": "Refa_Reno"
         },
         {
          "Año": 2018,
          "Fecha": "2018-03",
          "Ramo": "Vida individual",
          "value": 9,
          "variable": "Refa_Reno"
         },
         {
          "Año": 2018,
          "Fecha": "2018-04",
          "Ramo": "Vida individual",
          "value": 27,
          "variable": "Refa_Reno"
         },
         {
          "Año": 2018,
          "Fecha": "2018-05",
          "Ramo": "Vida individual",
          "value": 35,
          "variable": "Refa_Reno"
         },
         {
          "Año": 2018,
          "Fecha": "2018-06",
          "Ramo": "Vida individual",
          "value": 48,
          "variable": "Refa_Reno"
         },
         {
          "Año": 2018,
          "Fecha": "2018-07",
          "Ramo": "Vida individual",
          "value": 65,
          "variable": "Refa_Reno"
         },
         {
          "Año": 2018,
          "Fecha": "2018-08",
          "Ramo": "Vida individual",
          "value": 60,
          "variable": "Refa_Reno"
         },
         {
          "Año": 2018,
          "Fecha": "2018-09",
          "Ramo": "Vida individual",
          "value": 51,
          "variable": "Refa_Reno"
         },
         {
          "Año": 2018,
          "Fecha": "2018-10",
          "Ramo": "Vida individual",
          "value": 40,
          "variable": "Refa_Reno"
         },
         {
          "Año": 2018,
          "Fecha": "2018-11",
          "Ramo": "Vida individual",
          "value": 41,
          "variable": "Refa_Reno"
         },
         {
          "Año": 2018,
          "Fecha": "2018-12",
          "Ramo": "Vida individual",
          "value": 16,
          "variable": "Refa_Reno"
         },
         {
          "Año": 2018,
          "Fecha": "2018-01",
          "Ramo": "Automotores",
          "value": 660,
          "variable": "Refa_Reno"
         },
         {
          "Año": 2018,
          "Fecha": "2018-02",
          "Ramo": "Automotores",
          "value": 421,
          "variable": "Refa_Reno"
         },
         {
          "Año": 2018,
          "Fecha": "2018-03",
          "Ramo": "Automotores",
          "value": 411,
          "variable": "Refa_Reno"
         },
         {
          "Año": 2018,
          "Fecha": "2018-04",
          "Ramo": "Automotores",
          "value": 566,
          "variable": "Refa_Reno"
         },
         {
          "Año": 2018,
          "Fecha": "2018-05",
          "Ramo": "Automotores",
          "value": 281,
          "variable": "Refa_Reno"
         },
         {
          "Año": 2018,
          "Fecha": "2018-06",
          "Ramo": "Automotores",
          "value": 224,
          "variable": "Refa_Reno"
         },
         {
          "Año": 2018,
          "Fecha": "2018-07",
          "Ramo": "Automotores",
          "value": 225,
          "variable": "Refa_Reno"
         },
         {
          "Año": 2018,
          "Fecha": "2018-08",
          "Ramo": "Automotores",
          "value": 228,
          "variable": "Refa_Reno"
         },
         {
          "Año": 2018,
          "Fecha": "2018-09",
          "Ramo": "Automotores",
          "value": 224,
          "variable": "Refa_Reno"
         },
         {
          "Año": 2018,
          "Fecha": "2018-10",
          "Ramo": "Automotores",
          "value": 179,
          "variable": "Refa_Reno"
         },
         {
          "Año": 2018,
          "Fecha": "2018-11",
          "Ramo": "Automotores",
          "value": 241,
          "variable": "Refa_Reno"
         },
         {
          "Año": 2018,
          "Fecha": "2018-12",
          "Ramo": "Automotores",
          "value": 45,
          "variable": "Refa_Reno"
         },
         {
          "Año": 2018,
          "Fecha": "2018-01",
          "Ramo": "Comb.Familiar",
          "value": 29,
          "variable": "Refa_Reno"
         },
         {
          "Año": 2018,
          "Fecha": "2018-02",
          "Ramo": "Comb.Familiar",
          "value": 12,
          "variable": "Refa_Reno"
         },
         {
          "Año": 2018,
          "Fecha": "2018-03",
          "Ramo": "Comb.Familiar",
          "value": 15,
          "variable": "Refa_Reno"
         },
         {
          "Año": 2018,
          "Fecha": "2018-04",
          "Ramo": "Comb.Familiar",
          "value": 29,
          "variable": "Refa_Reno"
         },
         {
          "Año": 2018,
          "Fecha": "2018-05",
          "Ramo": "Comb.Familiar",
          "value": 6,
          "variable": "Refa_Reno"
         },
         {
          "Año": 2018,
          "Fecha": "2018-06",
          "Ramo": "Comb.Familiar",
          "value": 12,
          "variable": "Refa_Reno"
         },
         {
          "Año": 2018,
          "Fecha": "2018-07",
          "Ramo": "Comb.Familiar",
          "value": 7,
          "variable": "Refa_Reno"
         },
         {
          "Año": 2018,
          "Fecha": "2018-08",
          "Ramo": "Comb.Familiar",
          "value": 14,
          "variable": "Refa_Reno"
         },
         {
          "Año": 2018,
          "Fecha": "2018-09",
          "Ramo": "Comb.Familiar",
          "value": 17,
          "variable": "Refa_Reno"
         },
         {
          "Año": 2018,
          "Fecha": "2018-10",
          "Ramo": "Comb.Familiar",
          "value": 12,
          "variable": "Refa_Reno"
         },
         {
          "Año": 2018,
          "Fecha": "2018-11",
          "Ramo": "Comb.Familiar",
          "value": 15,
          "variable": "Refa_Reno"
         },
         {
          "Año": 2018,
          "Fecha": "2018-12",
          "Ramo": "Comb.Familiar",
          "value": 7,
          "variable": "Refa_Reno"
         },
         {
          "Año": 2018,
          "Fecha": "2018-01",
          "Ramo": "Acc.Personales",
          "value": 22,
          "variable": "Refa_Reno"
         },
         {
          "Año": 2018,
          "Fecha": "2018-02",
          "Ramo": "Acc.Personales",
          "value": 10,
          "variable": "Refa_Reno"
         },
         {
          "Año": 2018,
          "Fecha": "2018-03",
          "Ramo": "Acc.Personales",
          "value": 14,
          "variable": "Refa_Reno"
         },
         {
          "Año": 2018,
          "Fecha": "2018-04",
          "Ramo": "Acc.Personales",
          "value": 24,
          "variable": "Refa_Reno"
         },
         {
          "Año": 2018,
          "Fecha": "2018-05",
          "Ramo": "Acc.Personales",
          "value": 10,
          "variable": "Refa_Reno"
         },
         {
          "Año": 2018,
          "Fecha": "2018-06",
          "Ramo": "Acc.Personales",
          "value": 24,
          "variable": "Refa_Reno"
         },
         {
          "Año": 2018,
          "Fecha": "2018-07",
          "Ramo": "Acc.Personales",
          "value": 18,
          "variable": "Refa_Reno"
         },
         {
          "Año": 2018,
          "Fecha": "2018-08",
          "Ramo": "Acc.Personales",
          "value": 17,
          "variable": "Refa_Reno"
         },
         {
          "Año": 2018,
          "Fecha": "2018-09",
          "Ramo": "Acc.Personales",
          "value": 13,
          "variable": "Refa_Reno"
         },
         {
          "Año": 2018,
          "Fecha": "2018-10",
          "Ramo": "Acc.Personales",
          "value": 15,
          "variable": "Refa_Reno"
         },
         {
          "Año": 2018,
          "Fecha": "2018-11",
          "Ramo": "Acc.Personales",
          "value": 28,
          "variable": "Refa_Reno"
         },
         {
          "Año": 2018,
          "Fecha": "2018-12",
          "Ramo": "Acc.Personales",
          "value": 2,
          "variable": "Refa_Reno"
         },
         {
          "Año": 2018,
          "Fecha": "2018-01",
          "Ramo": "Incendio",
          "value": 0,
          "variable": "Refa_Reno"
         },
         {
          "Año": 2018,
          "Fecha": "2018-02",
          "Ramo": "Incendio",
          "value": 2,
          "variable": "Refa_Reno"
         },
         {
          "Año": 2018,
          "Fecha": "2018-03",
          "Ramo": "Incendio",
          "value": 0,
          "variable": "Refa_Reno"
         },
         {
          "Año": 2018,
          "Fecha": "2018-04",
          "Ramo": "Incendio",
          "value": 0,
          "variable": "Refa_Reno"
         },
         {
          "Año": 2018,
          "Fecha": "2018-05",
          "Ramo": "Incendio",
          "value": 2,
          "variable": "Refa_Reno"
         },
         {
          "Año": 2018,
          "Fecha": "2018-06",
          "Ramo": "Incendio",
          "value": 1,
          "variable": "Refa_Reno"
         },
         {
          "Año": 2018,
          "Fecha": "2018-07",
          "Ramo": "Incendio",
          "value": 1,
          "variable": "Refa_Reno"
         },
         {
          "Año": 2018,
          "Fecha": "2018-08",
          "Ramo": "Incendio",
          "value": 2,
          "variable": "Refa_Reno"
         },
         {
          "Año": 2018,
          "Fecha": "2018-09",
          "Ramo": "Incendio",
          "value": 2,
          "variable": "Refa_Reno"
         },
         {
          "Año": 2018,
          "Fecha": "2018-10",
          "Ramo": "Incendio",
          "value": 0,
          "variable": "Refa_Reno"
         },
         {
          "Año": 2018,
          "Fecha": "2018-11",
          "Ramo": "Incendio",
          "value": 0,
          "variable": "Refa_Reno"
         },
         {
          "Año": 2018,
          "Fecha": "2018-12",
          "Ramo": "Incendio",
          "value": 0,
          "variable": "Refa_Reno"
         },
         {
          "Año": 2018,
          "Fecha": "2018-01",
          "Ramo": "Caucion",
          "value": 2,
          "variable": "Refa_Reno"
         },
         {
          "Año": 2018,
          "Fecha": "2018-02",
          "Ramo": "Caucion",
          "value": 1,
          "variable": "Refa_Reno"
         },
         {
          "Año": 2018,
          "Fecha": "2018-03",
          "Ramo": "Caucion",
          "value": 3,
          "variable": "Refa_Reno"
         },
         {
          "Año": 2018,
          "Fecha": "2018-04",
          "Ramo": "Caucion",
          "value": 8,
          "variable": "Refa_Reno"
         },
         {
          "Año": 2018,
          "Fecha": "2018-05",
          "Ramo": "Caucion",
          "value": 10,
          "variable": "Refa_Reno"
         },
         {
          "Año": 2018,
          "Fecha": "2018-06",
          "Ramo": "Caucion",
          "value": 2,
          "variable": "Refa_Reno"
         },
         {
          "Año": 2018,
          "Fecha": "2018-07",
          "Ramo": "Caucion",
          "value": 1,
          "variable": "Refa_Reno"
         },
         {
          "Año": 2018,
          "Fecha": "2018-08",
          "Ramo": "Caucion",
          "value": 1,
          "variable": "Refa_Reno"
         },
         {
          "Año": 2018,
          "Fecha": "2018-09",
          "Ramo": "Caucion",
          "value": 0,
          "variable": "Refa_Reno"
         },
         {
          "Año": 2018,
          "Fecha": "2018-10",
          "Ramo": "Caucion",
          "value": 0,
          "variable": "Refa_Reno"
         },
         {
          "Año": 2018,
          "Fecha": "2018-11",
          "Ramo": "Caucion",
          "value": 1,
          "variable": "Refa_Reno"
         },
         {
          "Año": 2018,
          "Fecha": "2018-12",
          "Ramo": "Caucion",
          "value": 1,
          "variable": "Refa_Reno"
         },
         {
          "Año": 2018,
          "Fecha": "2018-01",
          "Ramo": "Acc. Fliares Transportados",
          "value": 54,
          "variable": "Refa_Reno"
         },
         {
          "Año": 2018,
          "Fecha": "2018-02",
          "Ramo": "Acc. Fliares Transportados",
          "value": 32,
          "variable": "Refa_Reno"
         },
         {
          "Año": 2018,
          "Fecha": "2018-03",
          "Ramo": "Acc. Fliares Transportados",
          "value": 12,
          "variable": "Refa_Reno"
         },
         {
          "Año": 2018,
          "Fecha": "2018-04",
          "Ramo": "Acc. Fliares Transportados",
          "value": 51,
          "variable": "Refa_Reno"
         },
         {
          "Año": 2018,
          "Fecha": "2018-05",
          "Ramo": "Acc. Fliares Transportados",
          "value": 29,
          "variable": "Refa_Reno"
         },
         {
          "Año": 2018,
          "Fecha": "2018-06",
          "Ramo": "Acc. Fliares Transportados",
          "value": 28,
          "variable": "Refa_Reno"
         },
         {
          "Año": 2018,
          "Fecha": "2018-07",
          "Ramo": "Acc. Fliares Transportados",
          "value": 32,
          "variable": "Refa_Reno"
         },
         {
          "Año": 2018,
          "Fecha": "2018-08",
          "Ramo": "Acc. Fliares Transportados",
          "value": 10,
          "variable": "Refa_Reno"
         },
         {
          "Año": 2018,
          "Fecha": "2018-09",
          "Ramo": "Acc. Fliares Transportados",
          "value": 14,
          "variable": "Refa_Reno"
         },
         {
          "Año": 2018,
          "Fecha": "2018-10",
          "Ramo": "Acc. Fliares Transportados",
          "value": 5,
          "variable": "Refa_Reno"
         },
         {
          "Año": 2018,
          "Fecha": "2018-11",
          "Ramo": "Acc. Fliares Transportados",
          "value": 17,
          "variable": "Refa_Reno"
         },
         {
          "Año": 2018,
          "Fecha": "2018-12",
          "Ramo": "Acc. Fliares Transportados",
          "value": 0,
          "variable": "Refa_Reno"
         },
         {
          "Año": 2018,
          "Fecha": "2018-01",
          "Ramo": "Vida Oblig.",
          "value": 15,
          "variable": "Refa_Reno"
         },
         {
          "Año": 2018,
          "Fecha": "2018-02",
          "Ramo": "Vida Oblig.",
          "value": 18,
          "variable": "Refa_Reno"
         },
         {
          "Año": 2018,
          "Fecha": "2018-03",
          "Ramo": "Vida Oblig.",
          "value": 20,
          "variable": "Refa_Reno"
         },
         {
          "Año": 2018,
          "Fecha": "2018-04",
          "Ramo": "Vida Oblig.",
          "value": 42,
          "variable": "Refa_Reno"
         },
         {
          "Año": 2018,
          "Fecha": "2018-05",
          "Ramo": "Vida Oblig.",
          "value": 36,
          "variable": "Refa_Reno"
         },
         {
          "Año": 2018,
          "Fecha": "2018-06",
          "Ramo": "Vida Oblig.",
          "value": 36,
          "variable": "Refa_Reno"
         },
         {
          "Año": 2018,
          "Fecha": "2018-07",
          "Ramo": "Vida Oblig.",
          "value": 37,
          "variable": "Refa_Reno"
         },
         {
          "Año": 2018,
          "Fecha": "2018-08",
          "Ramo": "Vida Oblig.",
          "value": 31,
          "variable": "Refa_Reno"
         },
         {
          "Año": 2018,
          "Fecha": "2018-09",
          "Ramo": "Vida Oblig.",
          "value": 16,
          "variable": "Refa_Reno"
         },
         {
          "Año": 2018,
          "Fecha": "2018-10",
          "Ramo": "Vida Oblig.",
          "value": 23,
          "variable": "Refa_Reno"
         },
         {
          "Año": 2018,
          "Fecha": "2018-11",
          "Ramo": "Vida Oblig.",
          "value": 44,
          "variable": "Refa_Reno"
         },
         {
          "Año": 2018,
          "Fecha": "2018-12",
          "Ramo": "Vida Oblig.",
          "value": 1,
          "variable": "Refa_Reno"
         },
         {
          "Año": 2018,
          "Fecha": "2018-01",
          "Ramo": "A.R.T.",
          "value": 0,
          "variable": "Refa_Reno"
         },
         {
          "Año": 2018,
          "Fecha": "2018-02",
          "Ramo": "A.R.T.",
          "value": 0,
          "variable": "Refa_Reno"
         },
         {
          "Año": 2018,
          "Fecha": "2018-03",
          "Ramo": "A.R.T.",
          "value": 0,
          "variable": "Refa_Reno"
         },
         {
          "Año": 2018,
          "Fecha": "2018-04",
          "Ramo": "A.R.T.",
          "value": 0,
          "variable": "Refa_Reno"
         },
         {
          "Año": 2018,
          "Fecha": "2018-05",
          "Ramo": "A.R.T.",
          "value": 0,
          "variable": "Refa_Reno"
         },
         {
          "Año": 2018,
          "Fecha": "2018-06",
          "Ramo": "A.R.T.",
          "value": 3,
          "variable": "Refa_Reno"
         },
         {
          "Año": 2018,
          "Fecha": "2018-07",
          "Ramo": "A.R.T.",
          "value": 1,
          "variable": "Refa_Reno"
         },
         {
          "Año": 2018,
          "Fecha": "2018-08",
          "Ramo": "A.R.T.",
          "value": 0,
          "variable": "Refa_Reno"
         },
         {
          "Año": 2018,
          "Fecha": "2018-09",
          "Ramo": "A.R.T.",
          "value": 0,
          "variable": "Refa_Reno"
         },
         {
          "Año": 2018,
          "Fecha": "2018-10",
          "Ramo": "A.R.T.",
          "value": 0,
          "variable": "Refa_Reno"
         },
         {
          "Año": 2018,
          "Fecha": "2018-11",
          "Ramo": "A.R.T.",
          "value": 0,
          "variable": "Refa_Reno"
         },
         {
          "Año": 2018,
          "Fecha": "2018-12",
          "Ramo": "A.R.T.",
          "value": 0,
          "variable": "Refa_Reno"
         },
         {
          "Año": 2018,
          "Fecha": "2018-01",
          "Ramo": "Resp.Civil",
          "value": 4,
          "variable": "Refa_Reno"
         },
         {
          "Año": 2018,
          "Fecha": "2018-02",
          "Ramo": "Resp.Civil",
          "value": 4,
          "variable": "Refa_Reno"
         },
         {
          "Año": 2018,
          "Fecha": "2018-03",
          "Ramo": "Resp.Civil",
          "value": 4,
          "variable": "Refa_Reno"
         },
         {
          "Año": 2018,
          "Fecha": "2018-04",
          "Ramo": "Resp.Civil",
          "value": 7,
          "variable": "Refa_Reno"
         },
         {
          "Año": 2018,
          "Fecha": "2018-05",
          "Ramo": "Resp.Civil",
          "value": 4,
          "variable": "Refa_Reno"
         },
         {
          "Año": 2018,
          "Fecha": "2018-06",
          "Ramo": "Resp.Civil",
          "value": 3,
          "variable": "Refa_Reno"
         },
         {
          "Año": 2018,
          "Fecha": "2018-07",
          "Ramo": "Resp.Civil",
          "value": 6,
          "variable": "Refa_Reno"
         },
         {
          "Año": 2018,
          "Fecha": "2018-08",
          "Ramo": "Resp.Civil",
          "value": 6,
          "variable": "Refa_Reno"
         },
         {
          "Año": 2018,
          "Fecha": "2018-09",
          "Ramo": "Resp.Civil",
          "value": 2,
          "variable": "Refa_Reno"
         },
         {
          "Año": 2018,
          "Fecha": "2018-10",
          "Ramo": "Resp.Civil",
          "value": 5,
          "variable": "Refa_Reno"
         },
         {
          "Año": 2018,
          "Fecha": "2018-11",
          "Ramo": "Resp.Civil",
          "value": 1,
          "variable": "Refa_Reno"
         },
         {
          "Año": 2018,
          "Fecha": "2018-12",
          "Ramo": "Resp.Civil",
          "value": 1,
          "variable": "Refa_Reno"
         },
         {
          "Año": 2018,
          "Fecha": "2018-01",
          "Ramo": "Todo Riesgo Operativo",
          "value": 0,
          "variable": "Refa_Reno"
         },
         {
          "Año": 2018,
          "Fecha": "2018-02",
          "Ramo": "Todo Riesgo Operativo",
          "value": 1,
          "variable": "Refa_Reno"
         },
         {
          "Año": 2018,
          "Fecha": "2018-03",
          "Ramo": "Todo Riesgo Operativo",
          "value": 0,
          "variable": "Refa_Reno"
         },
         {
          "Año": 2018,
          "Fecha": "2018-04",
          "Ramo": "Todo Riesgo Operativo",
          "value": 0,
          "variable": "Refa_Reno"
         },
         {
          "Año": 2018,
          "Fecha": "2018-05",
          "Ramo": "Todo Riesgo Operativo",
          "value": 0,
          "variable": "Refa_Reno"
         },
         {
          "Año": 2018,
          "Fecha": "2018-06",
          "Ramo": "Todo Riesgo Operativo",
          "value": 0,
          "variable": "Refa_Reno"
         },
         {
          "Año": 2018,
          "Fecha": "2018-07",
          "Ramo": "Todo Riesgo Operativo",
          "value": 1,
          "variable": "Refa_Reno"
         },
         {
          "Año": 2018,
          "Fecha": "2018-08",
          "Ramo": "Todo Riesgo Operativo",
          "value": 0,
          "variable": "Refa_Reno"
         },
         {
          "Año": 2018,
          "Fecha": "2018-09",
          "Ramo": "Todo Riesgo Operativo",
          "value": 0,
          "variable": "Refa_Reno"
         },
         {
          "Año": 2018,
          "Fecha": "2018-10",
          "Ramo": "Todo Riesgo Operativo",
          "value": 0,
          "variable": "Refa_Reno"
         },
         {
          "Año": 2018,
          "Fecha": "2018-11",
          "Ramo": "Todo Riesgo Operativo",
          "value": 0,
          "variable": "Refa_Reno"
         },
         {
          "Año": 2018,
          "Fecha": "2018-12",
          "Ramo": "Todo Riesgo Operativo",
          "value": 0,
          "variable": "Refa_Reno"
         },
         {
          "Año": 2018,
          "Fecha": "2018-01",
          "Ramo": "Int.de Comer.",
          "value": 8,
          "variable": "Refa_Reno"
         },
         {
          "Año": 2018,
          "Fecha": "2018-02",
          "Ramo": "Int.de Comer.",
          "value": 8,
          "variable": "Refa_Reno"
         },
         {
          "Año": 2018,
          "Fecha": "2018-03",
          "Ramo": "Int.de Comer.",
          "value": 10,
          "variable": "Refa_Reno"
         },
         {
          "Año": 2018,
          "Fecha": "2018-04",
          "Ramo": "Int.de Comer.",
          "value": 8,
          "variable": "Refa_Reno"
         },
         {
          "Año": 2018,
          "Fecha": "2018-05",
          "Ramo": "Int.de Comer.",
          "value": 2,
          "variable": "Refa_Reno"
         },
         {
          "Año": 2018,
          "Fecha": "2018-06",
          "Ramo": "Int.de Comer.",
          "value": 8,
          "variable": "Refa_Reno"
         },
         {
          "Año": 2018,
          "Fecha": "2018-07",
          "Ramo": "Int.de Comer.",
          "value": 17,
          "variable": "Refa_Reno"
         },
         {
          "Año": 2018,
          "Fecha": "2018-08",
          "Ramo": "Int.de Comer.",
          "value": 10,
          "variable": "Refa_Reno"
         },
         {
          "Año": 2018,
          "Fecha": "2018-09",
          "Ramo": "Int.de Comer.",
          "value": 12,
          "variable": "Refa_Reno"
         },
         {
          "Año": 2018,
          "Fecha": "2018-10",
          "Ramo": "Int.de Comer.",
          "value": 4,
          "variable": "Refa_Reno"
         },
         {
          "Año": 2018,
          "Fecha": "2018-11",
          "Ramo": "Int.de Comer.",
          "value": 2,
          "variable": "Refa_Reno"
         },
         {
          "Año": 2018,
          "Fecha": "2018-12",
          "Ramo": "Int.de Comer.",
          "value": 2,
          "variable": "Refa_Reno"
         },
         {
          "Año": 2018,
          "Fecha": "2018-01",
          "Ramo": "Moto - Vehículo",
          "value": 5,
          "variable": "Refa_Reno"
         },
         {
          "Año": 2018,
          "Fecha": "2018-02",
          "Ramo": "Moto - Vehículo",
          "value": 6,
          "variable": "Refa_Reno"
         },
         {
          "Año": 2018,
          "Fecha": "2018-03",
          "Ramo": "Moto - Vehículo",
          "value": 7,
          "variable": "Refa_Reno"
         },
         {
          "Año": 2018,
          "Fecha": "2018-04",
          "Ramo": "Moto - Vehículo",
          "value": 8,
          "variable": "Refa_Reno"
         },
         {
          "Año": 2018,
          "Fecha": "2018-05",
          "Ramo": "Moto - Vehículo",
          "value": 0,
          "variable": "Refa_Reno"
         },
         {
          "Año": 2018,
          "Fecha": "2018-06",
          "Ramo": "Moto - Vehículo",
          "value": 5,
          "variable": "Refa_Reno"
         },
         {
          "Año": 2018,
          "Fecha": "2018-07",
          "Ramo": "Moto - Vehículo",
          "value": 2,
          "variable": "Refa_Reno"
         },
         {
          "Año": 2018,
          "Fecha": "2018-08",
          "Ramo": "Moto - Vehículo",
          "value": 3,
          "variable": "Refa_Reno"
         },
         {
          "Año": 2018,
          "Fecha": "2018-09",
          "Ramo": "Moto - Vehículo",
          "value": 0,
          "variable": "Refa_Reno"
         },
         {
          "Año": 2018,
          "Fecha": "2018-10",
          "Ramo": "Moto - Vehículo",
          "value": 4,
          "variable": "Refa_Reno"
         },
         {
          "Año": 2018,
          "Fecha": "2018-11",
          "Ramo": "Moto - Vehículo",
          "value": 1,
          "variable": "Refa_Reno"
         },
         {
          "Año": 2018,
          "Fecha": "2018-12",
          "Ramo": "Moto - Vehículo",
          "value": 0,
          "variable": "Refa_Reno"
         },
         {
          "Año": 2018,
          "Fecha": "2018-01",
          "Ramo": "Sepelio",
          "value": 0,
          "variable": "Refa_Reno"
         },
         {
          "Año": 2018,
          "Fecha": "2018-02",
          "Ramo": "Sepelio",
          "value": 0,
          "variable": "Refa_Reno"
         },
         {
          "Año": 2018,
          "Fecha": "2018-03",
          "Ramo": "Sepelio",
          "value": 0,
          "variable": "Refa_Reno"
         },
         {
          "Año": 2018,
          "Fecha": "2018-04",
          "Ramo": "Sepelio",
          "value": 0,
          "variable": "Refa_Reno"
         },
         {
          "Año": 2018,
          "Fecha": "2018-05",
          "Ramo": "Sepelio",
          "value": 0,
          "variable": "Refa_Reno"
         },
         {
          "Año": 2018,
          "Fecha": "2018-06",
          "Ramo": "Sepelio",
          "value": 0,
          "variable": "Refa_Reno"
         },
         {
          "Año": 2018,
          "Fecha": "2018-07",
          "Ramo": "Sepelio",
          "value": 0,
          "variable": "Refa_Reno"
         },
         {
          "Año": 2018,
          "Fecha": "2018-08",
          "Ramo": "Sepelio",
          "value": 0,
          "variable": "Refa_Reno"
         },
         {
          "Año": 2018,
          "Fecha": "2018-09",
          "Ramo": "Sepelio",
          "value": 0,
          "variable": "Refa_Reno"
         },
         {
          "Año": 2018,
          "Fecha": "2018-10",
          "Ramo": "Sepelio",
          "value": 0,
          "variable": "Refa_Reno"
         },
         {
          "Año": 2018,
          "Fecha": "2018-11",
          "Ramo": "Sepelio",
          "value": 0,
          "variable": "Refa_Reno"
         },
         {
          "Año": 2018,
          "Fecha": "2018-12",
          "Ramo": "Sepelio",
          "value": 0,
          "variable": "Refa_Reno"
         },
         {
          "Año": 2018,
          "Fecha": "2018-01",
          "Ramo": "Vida Colectivo",
          "value": 4,
          "variable": "Refa_Reno"
         },
         {
          "Año": 2018,
          "Fecha": "2018-02",
          "Ramo": "Vida Colectivo",
          "value": 5,
          "variable": "Refa_Reno"
         },
         {
          "Año": 2018,
          "Fecha": "2018-03",
          "Ramo": "Vida Colectivo",
          "value": 0,
          "variable": "Refa_Reno"
         },
         {
          "Año": 2018,
          "Fecha": "2018-04",
          "Ramo": "Vida Colectivo",
          "value": 6,
          "variable": "Refa_Reno"
         },
         {
          "Año": 2018,
          "Fecha": "2018-05",
          "Ramo": "Vida Colectivo",
          "value": 8,
          "variable": "Refa_Reno"
         },
         {
          "Año": 2018,
          "Fecha": "2018-06",
          "Ramo": "Vida Colectivo",
          "value": 1,
          "variable": "Refa_Reno"
         },
         {
          "Año": 2018,
          "Fecha": "2018-07",
          "Ramo": "Vida Colectivo",
          "value": 5,
          "variable": "Refa_Reno"
         },
         {
          "Año": 2018,
          "Fecha": "2018-08",
          "Ramo": "Vida Colectivo",
          "value": 6,
          "variable": "Refa_Reno"
         },
         {
          "Año": 2018,
          "Fecha": "2018-09",
          "Ramo": "Vida Colectivo",
          "value": 2,
          "variable": "Refa_Reno"
         },
         {
          "Año": 2018,
          "Fecha": "2018-10",
          "Ramo": "Vida Colectivo",
          "value": 0,
          "variable": "Refa_Reno"
         },
         {
          "Año": 2018,
          "Fecha": "2018-11",
          "Ramo": "Vida Colectivo",
          "value": 1,
          "variable": "Refa_Reno"
         },
         {
          "Año": 2018,
          "Fecha": "2018-12",
          "Ramo": "Vida Colectivo",
          "value": 1,
          "variable": "Refa_Reno"
         },
         {
          "Año": 2018,
          "Fecha": "2018-01",
          "Ramo": "Seguro Tecnico",
          "value": 2,
          "variable": "Refa_Reno"
         },
         {
          "Año": 2018,
          "Fecha": "2018-02",
          "Ramo": "Seguro Tecnico",
          "value": 0,
          "variable": "Refa_Reno"
         },
         {
          "Año": 2018,
          "Fecha": "2018-03",
          "Ramo": "Seguro Tecnico",
          "value": 1,
          "variable": "Refa_Reno"
         },
         {
          "Año": 2018,
          "Fecha": "2018-04",
          "Ramo": "Seguro Tecnico",
          "value": 0,
          "variable": "Refa_Reno"
         },
         {
          "Año": 2018,
          "Fecha": "2018-05",
          "Ramo": "Seguro Tecnico",
          "value": 1,
          "variable": "Refa_Reno"
         },
         {
          "Año": 2018,
          "Fecha": "2018-06",
          "Ramo": "Seguro Tecnico",
          "value": 3,
          "variable": "Refa_Reno"
         },
         {
          "Año": 2018,
          "Fecha": "2018-07",
          "Ramo": "Seguro Tecnico",
          "value": 0,
          "variable": "Refa_Reno"
         },
         {
          "Año": 2018,
          "Fecha": "2018-08",
          "Ramo": "Seguro Tecnico",
          "value": 3,
          "variable": "Refa_Reno"
         },
         {
          "Año": 2018,
          "Fecha": "2018-09",
          "Ramo": "Seguro Tecnico",
          "value": 1,
          "variable": "Refa_Reno"
         },
         {
          "Año": 2018,
          "Fecha": "2018-10",
          "Ramo": "Seguro Tecnico",
          "value": 0,
          "variable": "Refa_Reno"
         },
         {
          "Año": 2018,
          "Fecha": "2018-11",
          "Ramo": "Seguro Tecnico",
          "value": 1,
          "variable": "Refa_Reno"
         },
         {
          "Año": 2018,
          "Fecha": "2018-12",
          "Ramo": "Seguro Tecnico",
          "value": 0,
          "variable": "Refa_Reno"
         },
         {
          "Año": 2018,
          "Fecha": "2018-01",
          "Ramo": "Incendio / Int. de Consorcio",
          "value": 3,
          "variable": "Refa_Reno"
         },
         {
          "Año": 2018,
          "Fecha": "2018-02",
          "Ramo": "Incendio / Int. de Consorcio",
          "value": 5,
          "variable": "Refa_Reno"
         },
         {
          "Año": 2018,
          "Fecha": "2018-03",
          "Ramo": "Incendio / Int. de Consorcio",
          "value": 1,
          "variable": "Refa_Reno"
         },
         {
          "Año": 2018,
          "Fecha": "2018-04",
          "Ramo": "Incendio / Int. de Consorcio",
          "value": 0,
          "variable": "Refa_Reno"
         },
         {
          "Año": 2018,
          "Fecha": "2018-05",
          "Ramo": "Incendio / Int. de Consorcio",
          "value": 2,
          "variable": "Refa_Reno"
         },
         {
          "Año": 2018,
          "Fecha": "2018-06",
          "Ramo": "Incendio / Int. de Consorcio",
          "value": 2,
          "variable": "Refa_Reno"
         },
         {
          "Año": 2018,
          "Fecha": "2018-07",
          "Ramo": "Incendio / Int. de Consorcio",
          "value": 5,
          "variable": "Refa_Reno"
         },
         {
          "Año": 2018,
          "Fecha": "2018-08",
          "Ramo": "Incendio / Int. de Consorcio",
          "value": 1,
          "variable": "Refa_Reno"
         },
         {
          "Año": 2018,
          "Fecha": "2018-09",
          "Ramo": "Incendio / Int. de Consorcio",
          "value": 5,
          "variable": "Refa_Reno"
         },
         {
          "Año": 2018,
          "Fecha": "2018-10",
          "Ramo": "Incendio / Int. de Consorcio",
          "value": 5,
          "variable": "Refa_Reno"
         },
         {
          "Año": 2018,
          "Fecha": "2018-11",
          "Ramo": "Incendio / Int. de Consorcio",
          "value": 4,
          "variable": "Refa_Reno"
         },
         {
          "Año": 2018,
          "Fecha": "2018-12",
          "Ramo": "Incendio / Int. de Consorcio",
          "value": 4,
          "variable": "Refa_Reno"
         },
         {
          "Año": 2018,
          "Fecha": "2018-01",
          "Ramo": "Transporte",
          "value": 0,
          "variable": "Refa_Reno"
         },
         {
          "Año": 2018,
          "Fecha": "2018-02",
          "Ramo": "Transporte",
          "value": 0,
          "variable": "Refa_Reno"
         },
         {
          "Año": 2018,
          "Fecha": "2018-03",
          "Ramo": "Transporte",
          "value": 0,
          "variable": "Refa_Reno"
         },
         {
          "Año": 2018,
          "Fecha": "2018-04",
          "Ramo": "Transporte",
          "value": 0,
          "variable": "Refa_Reno"
         },
         {
          "Año": 2018,
          "Fecha": "2018-05",
          "Ramo": "Transporte",
          "value": 0,
          "variable": "Refa_Reno"
         },
         {
          "Año": 2018,
          "Fecha": "2018-06",
          "Ramo": "Transporte",
          "value": 0,
          "variable": "Refa_Reno"
         },
         {
          "Año": 2018,
          "Fecha": "2018-07",
          "Ramo": "Transporte",
          "value": 0,
          "variable": "Refa_Reno"
         },
         {
          "Año": 2018,
          "Fecha": "2018-08",
          "Ramo": "Transporte",
          "value": 0,
          "variable": "Refa_Reno"
         },
         {
          "Año": 2018,
          "Fecha": "2018-09",
          "Ramo": "Transporte",
          "value": 0,
          "variable": "Refa_Reno"
         },
         {
          "Año": 2018,
          "Fecha": "2018-10",
          "Ramo": "Transporte",
          "value": 0,
          "variable": "Refa_Reno"
         },
         {
          "Año": 2018,
          "Fecha": "2018-11",
          "Ramo": "Transporte",
          "value": 0,
          "variable": "Refa_Reno"
         },
         {
          "Año": 2018,
          "Fecha": "2018-12",
          "Ramo": "Transporte",
          "value": 0,
          "variable": "Refa_Reno"
         },
         {
          "Año": 2018,
          "Fecha": "2018-01",
          "Ramo": "Vida Cont.Trab.",
          "value": 2,
          "variable": "Refa_Reno"
         },
         {
          "Año": 2018,
          "Fecha": "2018-02",
          "Ramo": "Vida Cont.Trab.",
          "value": 1,
          "variable": "Refa_Reno"
         },
         {
          "Año": 2018,
          "Fecha": "2018-03",
          "Ramo": "Vida Cont.Trab.",
          "value": 0,
          "variable": "Refa_Reno"
         },
         {
          "Año": 2018,
          "Fecha": "2018-04",
          "Ramo": "Vida Cont.Trab.",
          "value": 0,
          "variable": "Refa_Reno"
         },
         {
          "Año": 2018,
          "Fecha": "2018-05",
          "Ramo": "Vida Cont.Trab.",
          "value": 0,
          "variable": "Refa_Reno"
         },
         {
          "Año": 2018,
          "Fecha": "2018-06",
          "Ramo": "Vida Cont.Trab.",
          "value": 0,
          "variable": "Refa_Reno"
         },
         {
          "Año": 2018,
          "Fecha": "2018-07",
          "Ramo": "Vida Cont.Trab.",
          "value": 0,
          "variable": "Refa_Reno"
         },
         {
          "Año": 2018,
          "Fecha": "2018-08",
          "Ramo": "Vida Cont.Trab.",
          "value": 0,
          "variable": "Refa_Reno"
         },
         {
          "Año": 2018,
          "Fecha": "2018-09",
          "Ramo": "Vida Cont.Trab.",
          "value": 0,
          "variable": "Refa_Reno"
         },
         {
          "Año": 2018,
          "Fecha": "2018-10",
          "Ramo": "Vida Cont.Trab.",
          "value": 0,
          "variable": "Refa_Reno"
         },
         {
          "Año": 2018,
          "Fecha": "2018-11",
          "Ramo": "Vida Cont.Trab.",
          "value": 0,
          "variable": "Refa_Reno"
         },
         {
          "Año": 2018,
          "Fecha": "2018-12",
          "Ramo": "Vida Cont.Trab.",
          "value": 0,
          "variable": "Refa_Reno"
         },
         {
          "Año": 2018,
          "Fecha": "2018-01",
          "Ramo": "Robo",
          "value": 0,
          "variable": "Refa_Reno"
         },
         {
          "Año": 2018,
          "Fecha": "2018-02",
          "Ramo": "Robo",
          "value": 0,
          "variable": "Refa_Reno"
         },
         {
          "Año": 2018,
          "Fecha": "2018-03",
          "Ramo": "Robo",
          "value": 0,
          "variable": "Refa_Reno"
         },
         {
          "Año": 2018,
          "Fecha": "2018-04",
          "Ramo": "Robo",
          "value": 3,
          "variable": "Refa_Reno"
         },
         {
          "Año": 2018,
          "Fecha": "2018-05",
          "Ramo": "Robo",
          "value": 0,
          "variable": "Refa_Reno"
         },
         {
          "Año": 2018,
          "Fecha": "2018-06",
          "Ramo": "Robo",
          "value": 0,
          "variable": "Refa_Reno"
         },
         {
          "Año": 2018,
          "Fecha": "2018-07",
          "Ramo": "Robo",
          "value": 0,
          "variable": "Refa_Reno"
         },
         {
          "Año": 2018,
          "Fecha": "2018-08",
          "Ramo": "Robo",
          "value": 0,
          "variable": "Refa_Reno"
         },
         {
          "Año": 2018,
          "Fecha": "2018-09",
          "Ramo": "Robo",
          "value": 0,
          "variable": "Refa_Reno"
         },
         {
          "Año": 2018,
          "Fecha": "2018-10",
          "Ramo": "Robo",
          "value": 2,
          "variable": "Refa_Reno"
         },
         {
          "Año": 2018,
          "Fecha": "2018-11",
          "Ramo": "Robo",
          "value": 3,
          "variable": "Refa_Reno"
         },
         {
          "Año": 2018,
          "Fecha": "2018-12",
          "Ramo": "Robo",
          "value": 0,
          "variable": "Refa_Reno"
         },
         {
          "Año": 2018,
          "Fecha": "2018-01",
          "Ramo": "Salud",
          "value": 0,
          "variable": "Refa_Reno"
         },
         {
          "Año": 2018,
          "Fecha": "2018-02",
          "Ramo": "Salud",
          "value": 0,
          "variable": "Refa_Reno"
         },
         {
          "Año": 2018,
          "Fecha": "2018-03",
          "Ramo": "Salud",
          "value": 0,
          "variable": "Refa_Reno"
         },
         {
          "Año": 2018,
          "Fecha": "2018-04",
          "Ramo": "Salud",
          "value": 0,
          "variable": "Refa_Reno"
         },
         {
          "Año": 2018,
          "Fecha": "2018-05",
          "Ramo": "Salud",
          "value": 0,
          "variable": "Refa_Reno"
         },
         {
          "Año": 2018,
          "Fecha": "2018-06",
          "Ramo": "Salud",
          "value": 0,
          "variable": "Refa_Reno"
         },
         {
          "Año": 2018,
          "Fecha": "2018-07",
          "Ramo": "Salud",
          "value": 0,
          "variable": "Refa_Reno"
         },
         {
          "Año": 2018,
          "Fecha": "2018-08",
          "Ramo": "Salud",
          "value": 0,
          "variable": "Refa_Reno"
         },
         {
          "Año": 2018,
          "Fecha": "2018-09",
          "Ramo": "Salud",
          "value": 0,
          "variable": "Refa_Reno"
         },
         {
          "Año": 2018,
          "Fecha": "2018-10",
          "Ramo": "Salud",
          "value": 1,
          "variable": "Refa_Reno"
         },
         {
          "Año": 2018,
          "Fecha": "2018-11",
          "Ramo": "Salud",
          "value": 0,
          "variable": "Refa_Reno"
         },
         {
          "Año": 2018,
          "Fecha": "2018-12",
          "Ramo": "Salud",
          "value": 0,
          "variable": "Refa_Reno"
         },
         {
          "Año": 2018,
          "Fecha": "2018-01",
          "Ramo": "Acc.Pers.Auton.",
          "value": 1,
          "variable": "Refa_Reno"
         },
         {
          "Año": 2018,
          "Fecha": "2018-02",
          "Ramo": "Acc.Pers.Auton.",
          "value": 0,
          "variable": "Refa_Reno"
         },
         {
          "Año": 2018,
          "Fecha": "2018-03",
          "Ramo": "Acc.Pers.Auton.",
          "value": 1,
          "variable": "Refa_Reno"
         },
         {
          "Año": 2018,
          "Fecha": "2018-04",
          "Ramo": "Acc.Pers.Auton.",
          "value": 2,
          "variable": "Refa_Reno"
         },
         {
          "Año": 2018,
          "Fecha": "2018-05",
          "Ramo": "Acc.Pers.Auton.",
          "value": 0,
          "variable": "Refa_Reno"
         },
         {
          "Año": 2018,
          "Fecha": "2018-06",
          "Ramo": "Acc.Pers.Auton.",
          "value": 0,
          "variable": "Refa_Reno"
         },
         {
          "Año": 2018,
          "Fecha": "2018-07",
          "Ramo": "Acc.Pers.Auton.",
          "value": 1,
          "variable": "Refa_Reno"
         },
         {
          "Año": 2018,
          "Fecha": "2018-08",
          "Ramo": "Acc.Pers.Auton.",
          "value": 0,
          "variable": "Refa_Reno"
         },
         {
          "Año": 2018,
          "Fecha": "2018-09",
          "Ramo": "Acc.Pers.Auton.",
          "value": 1,
          "variable": "Refa_Reno"
         },
         {
          "Año": 2018,
          "Fecha": "2018-10",
          "Ramo": "Acc.Pers.Auton.",
          "value": 0,
          "variable": "Refa_Reno"
         },
         {
          "Año": 2018,
          "Fecha": "2018-11",
          "Ramo": "Acc.Pers.Auton.",
          "value": 0,
          "variable": "Refa_Reno"
         },
         {
          "Año": 2018,
          "Fecha": "2018-12",
          "Ramo": "Acc.Pers.Auton.",
          "value": 0,
          "variable": "Refa_Reno"
         },
         {
          "Año": 2018,
          "Fecha": "2018-01",
          "Ramo": "Cascos",
          "value": 1,
          "variable": "Refa_Reno"
         },
         {
          "Año": 2018,
          "Fecha": "2018-02",
          "Ramo": "Cascos",
          "value": 1,
          "variable": "Refa_Reno"
         },
         {
          "Año": 2018,
          "Fecha": "2018-03",
          "Ramo": "Cascos",
          "value": 0,
          "variable": "Refa_Reno"
         },
         {
          "Año": 2018,
          "Fecha": "2018-04",
          "Ramo": "Cascos",
          "value": 0,
          "variable": "Refa_Reno"
         },
         {
          "Año": 2018,
          "Fecha": "2018-05",
          "Ramo": "Cascos",
          "value": 0,
          "variable": "Refa_Reno"
         },
         {
          "Año": 2018,
          "Fecha": "2018-06",
          "Ramo": "Cascos",
          "value": 0,
          "variable": "Refa_Reno"
         },
         {
          "Año": 2018,
          "Fecha": "2018-07",
          "Ramo": "Cascos",
          "value": 0,
          "variable": "Refa_Reno"
         },
         {
          "Año": 2018,
          "Fecha": "2018-08",
          "Ramo": "Cascos",
          "value": 2,
          "variable": "Refa_Reno"
         },
         {
          "Año": 2018,
          "Fecha": "2018-09",
          "Ramo": "Cascos",
          "value": 0,
          "variable": "Refa_Reno"
         },
         {
          "Año": 2018,
          "Fecha": "2018-10",
          "Ramo": "Cascos",
          "value": 0,
          "variable": "Refa_Reno"
         },
         {
          "Año": 2018,
          "Fecha": "2018-11",
          "Ramo": "Cascos",
          "value": 0,
          "variable": "Refa_Reno"
         },
         {
          "Año": 2018,
          "Fecha": "2018-12",
          "Ramo": "Cascos",
          "value": 0,
          "variable": "Refa_Reno"
         },
         {
          "Año": 2018,
          "Fecha": "2018-01",
          "Ramo": "Int.Consorcio",
          "value": 0,
          "variable": "Refa_Reno"
         },
         {
          "Año": 2018,
          "Fecha": "2018-02",
          "Ramo": "Int.Consorcio",
          "value": 0,
          "variable": "Refa_Reno"
         },
         {
          "Año": 2018,
          "Fecha": "2018-03",
          "Ramo": "Int.Consorcio",
          "value": 0,
          "variable": "Refa_Reno"
         },
         {
          "Año": 2018,
          "Fecha": "2018-04",
          "Ramo": "Int.Consorcio",
          "value": 1,
          "variable": "Refa_Reno"
         },
         {
          "Año": 2018,
          "Fecha": "2018-05",
          "Ramo": "Int.Consorcio",
          "value": 0,
          "variable": "Refa_Reno"
         },
         {
          "Año": 2018,
          "Fecha": "2018-06",
          "Ramo": "Int.Consorcio",
          "value": 0,
          "variable": "Refa_Reno"
         },
         {
          "Año": 2018,
          "Fecha": "2018-07",
          "Ramo": "Int.Consorcio",
          "value": 0,
          "variable": "Refa_Reno"
         },
         {
          "Año": 2018,
          "Fecha": "2018-08",
          "Ramo": "Int.Consorcio",
          "value": 1,
          "variable": "Refa_Reno"
         },
         {
          "Año": 2018,
          "Fecha": "2018-09",
          "Ramo": "Int.Consorcio",
          "value": 0,
          "variable": "Refa_Reno"
         },
         {
          "Año": 2018,
          "Fecha": "2018-10",
          "Ramo": "Int.Consorcio",
          "value": 0,
          "variable": "Refa_Reno"
         },
         {
          "Año": 2018,
          "Fecha": "2018-11",
          "Ramo": "Int.Consorcio",
          "value": 0,
          "variable": "Refa_Reno"
         },
         {
          "Año": 2018,
          "Fecha": "2018-12",
          "Ramo": "Int.Consorcio",
          "value": 0,
          "variable": "Refa_Reno"
         },
         {
          "Año": 2018,
          "Fecha": "2018-01",
          "Ramo": "Riesgos Varios",
          "value": 0,
          "variable": "Refa_Reno"
         },
         {
          "Año": 2018,
          "Fecha": "2018-02",
          "Ramo": "Riesgos Varios",
          "value": 0,
          "variable": "Refa_Reno"
         },
         {
          "Año": 2018,
          "Fecha": "2018-03",
          "Ramo": "Riesgos Varios",
          "value": 1,
          "variable": "Refa_Reno"
         },
         {
          "Año": 2018,
          "Fecha": "2018-04",
          "Ramo": "Riesgos Varios",
          "value": 4,
          "variable": "Refa_Reno"
         },
         {
          "Año": 2018,
          "Fecha": "2018-05",
          "Ramo": "Riesgos Varios",
          "value": 0,
          "variable": "Refa_Reno"
         },
         {
          "Año": 2018,
          "Fecha": "2018-06",
          "Ramo": "Riesgos Varios",
          "value": 0,
          "variable": "Refa_Reno"
         },
         {
          "Año": 2018,
          "Fecha": "2018-07",
          "Ramo": "Riesgos Varios",
          "value": 2,
          "variable": "Refa_Reno"
         },
         {
          "Año": 2018,
          "Fecha": "2018-08",
          "Ramo": "Riesgos Varios",
          "value": 1,
          "variable": "Refa_Reno"
         },
         {
          "Año": 2018,
          "Fecha": "2018-09",
          "Ramo": "Riesgos Varios",
          "value": 0,
          "variable": "Refa_Reno"
         },
         {
          "Año": 2018,
          "Fecha": "2018-10",
          "Ramo": "Riesgos Varios",
          "value": 2,
          "variable": "Refa_Reno"
         },
         {
          "Año": 2018,
          "Fecha": "2018-11",
          "Ramo": "Riesgos Varios",
          "value": 1,
          "variable": "Refa_Reno"
         },
         {
          "Año": 2018,
          "Fecha": "2018-12",
          "Ramo": "Riesgos Varios",
          "value": 0,
          "variable": "Refa_Reno"
         },
         {
          "Año": 2018,
          "Fecha": "2018-01",
          "Ramo": "Cristales",
          "value": 0,
          "variable": "Refa_Reno"
         },
         {
          "Año": 2018,
          "Fecha": "2018-02",
          "Ramo": "Cristales",
          "value": 0,
          "variable": "Refa_Reno"
         },
         {
          "Año": 2018,
          "Fecha": "2018-03",
          "Ramo": "Cristales",
          "value": 0,
          "variable": "Refa_Reno"
         },
         {
          "Año": 2018,
          "Fecha": "2018-04",
          "Ramo": "Cristales",
          "value": 0,
          "variable": "Refa_Reno"
         },
         {
          "Año": 2018,
          "Fecha": "2018-05",
          "Ramo": "Cristales",
          "value": 0,
          "variable": "Refa_Reno"
         },
         {
          "Año": 2018,
          "Fecha": "2018-06",
          "Ramo": "Cristales",
          "value": 0,
          "variable": "Refa_Reno"
         },
         {
          "Año": 2018,
          "Fecha": "2018-07",
          "Ramo": "Cristales",
          "value": 0,
          "variable": "Refa_Reno"
         },
         {
          "Año": 2018,
          "Fecha": "2018-08",
          "Ramo": "Cristales",
          "value": 0,
          "variable": "Refa_Reno"
         },
         {
          "Año": 2018,
          "Fecha": "2018-09",
          "Ramo": "Cristales",
          "value": 0,
          "variable": "Refa_Reno"
         },
         {
          "Año": 2018,
          "Fecha": "2018-10",
          "Ramo": "Cristales",
          "value": 0,
          "variable": "Refa_Reno"
         },
         {
          "Año": 2018,
          "Fecha": "2018-11",
          "Ramo": "Cristales",
          "value": 0,
          "variable": "Refa_Reno"
         },
         {
          "Año": 2018,
          "Fecha": "2018-12",
          "Ramo": "Cristales",
          "value": 0,
          "variable": "Refa_Reno"
         },
         {
          "Año": 2018,
          "Fecha": "2018-01",
          "Ramo": "Perdida de Beneficio",
          "value": 0,
          "variable": "Refa_Reno"
         },
         {
          "Año": 2018,
          "Fecha": "2018-02",
          "Ramo": "Perdida de Beneficio",
          "value": 0,
          "variable": "Refa_Reno"
         },
         {
          "Año": 2018,
          "Fecha": "2018-03",
          "Ramo": "Perdida de Beneficio",
          "value": 0,
          "variable": "Refa_Reno"
         },
         {
          "Año": 2018,
          "Fecha": "2018-04",
          "Ramo": "Perdida de Beneficio",
          "value": 0,
          "variable": "Refa_Reno"
         },
         {
          "Año": 2018,
          "Fecha": "2018-05",
          "Ramo": "Perdida de Beneficio",
          "value": 0,
          "variable": "Refa_Reno"
         },
         {
          "Año": 2018,
          "Fecha": "2018-06",
          "Ramo": "Perdida de Beneficio",
          "value": 0,
          "variable": "Refa_Reno"
         },
         {
          "Año": 2018,
          "Fecha": "2018-07",
          "Ramo": "Perdida de Beneficio",
          "value": 0,
          "variable": "Refa_Reno"
         },
         {
          "Año": 2018,
          "Fecha": "2018-08",
          "Ramo": "Perdida de Beneficio",
          "value": 0,
          "variable": "Refa_Reno"
         },
         {
          "Año": 2018,
          "Fecha": "2018-09",
          "Ramo": "Perdida de Beneficio",
          "value": 0,
          "variable": "Refa_Reno"
         },
         {
          "Año": 2018,
          "Fecha": "2018-10",
          "Ramo": "Perdida de Beneficio",
          "value": 0,
          "variable": "Refa_Reno"
         },
         {
          "Año": 2018,
          "Fecha": "2018-11",
          "Ramo": "Perdida de Beneficio",
          "value": 0,
          "variable": "Refa_Reno"
         },
         {
          "Año": 2018,
          "Fecha": "2018-12",
          "Ramo": "Perdida de Beneficio",
          "value": 0,
          "variable": "Refa_Reno"
         },
         {
          "Año": 2016,
          "Fecha": "2016-01",
          "Ramo": "Vida individual",
          "value": 17,
          "variable": "Anulaciones"
         },
         {
          "Año": 2016,
          "Fecha": "2016-02",
          "Ramo": "Vida individual",
          "value": 14,
          "variable": "Anulaciones"
         },
         {
          "Año": 2016,
          "Fecha": "2016-03",
          "Ramo": "Vida individual",
          "value": 30,
          "variable": "Anulaciones"
         },
         {
          "Año": 2016,
          "Fecha": "2016-04",
          "Ramo": "Vida individual",
          "value": 24,
          "variable": "Anulaciones"
         },
         {
          "Año": 2016,
          "Fecha": "2016-05",
          "Ramo": "Vida individual",
          "value": 20,
          "variable": "Anulaciones"
         },
         {
          "Año": 2016,
          "Fecha": "2016-06",
          "Ramo": "Vida individual",
          "value": 17,
          "variable": "Anulaciones"
         },
         {
          "Año": 2016,
          "Fecha": "2016-07",
          "Ramo": "Vida individual",
          "value": 28,
          "variable": "Anulaciones"
         },
         {
          "Año": 2016,
          "Fecha": "2016-08",
          "Ramo": "Vida individual",
          "value": 14,
          "variable": "Anulaciones"
         },
         {
          "Año": 2016,
          "Fecha": "2016-09",
          "Ramo": "Vida individual",
          "value": 11,
          "variable": "Anulaciones"
         },
         {
          "Año": 2016,
          "Fecha": "2016-10",
          "Ramo": "Vida individual",
          "value": 19,
          "variable": "Anulaciones"
         },
         {
          "Año": 2016,
          "Fecha": "2016-11",
          "Ramo": "Vida individual",
          "value": 15,
          "variable": "Anulaciones"
         },
         {
          "Año": 2016,
          "Fecha": "2016-12",
          "Ramo": "Vida individual",
          "value": 22,
          "variable": "Anulaciones"
         },
         {
          "Año": 2016,
          "Fecha": "2016-01",
          "Ramo": "Automotores",
          "value": 44,
          "variable": "Anulaciones"
         },
         {
          "Año": 2016,
          "Fecha": "2016-02",
          "Ramo": "Automotores",
          "value": 60,
          "variable": "Anulaciones"
         },
         {
          "Año": 2016,
          "Fecha": "2016-03",
          "Ramo": "Automotores",
          "value": 71,
          "variable": "Anulaciones"
         },
         {
          "Año": 2016,
          "Fecha": "2016-04",
          "Ramo": "Automotores",
          "value": 114,
          "variable": "Anulaciones"
         },
         {
          "Año": 2016,
          "Fecha": "2016-05",
          "Ramo": "Automotores",
          "value": 58,
          "variable": "Anulaciones"
         },
         {
          "Año": 2016,
          "Fecha": "2016-06",
          "Ramo": "Automotores",
          "value": 66,
          "variable": "Anulaciones"
         },
         {
          "Año": 2016,
          "Fecha": "2016-07",
          "Ramo": "Automotores",
          "value": 62,
          "variable": "Anulaciones"
         },
         {
          "Año": 2016,
          "Fecha": "2016-08",
          "Ramo": "Automotores",
          "value": 33,
          "variable": "Anulaciones"
         },
         {
          "Año": 2016,
          "Fecha": "2016-09",
          "Ramo": "Automotores",
          "value": 49,
          "variable": "Anulaciones"
         },
         {
          "Año": 2016,
          "Fecha": "2016-10",
          "Ramo": "Automotores",
          "value": 62,
          "variable": "Anulaciones"
         },
         {
          "Año": 2016,
          "Fecha": "2016-11",
          "Ramo": "Automotores",
          "value": 66,
          "variable": "Anulaciones"
         },
         {
          "Año": 2016,
          "Fecha": "2016-12",
          "Ramo": "Automotores",
          "value": 56,
          "variable": "Anulaciones"
         },
         {
          "Año": 2016,
          "Fecha": "2016-01",
          "Ramo": "Comb.Familiar",
          "value": 2,
          "variable": "Anulaciones"
         },
         {
          "Año": 2016,
          "Fecha": "2016-02",
          "Ramo": "Comb.Familiar",
          "value": 2,
          "variable": "Anulaciones"
         },
         {
          "Año": 2016,
          "Fecha": "2016-03",
          "Ramo": "Comb.Familiar",
          "value": 3,
          "variable": "Anulaciones"
         },
         {
          "Año": 2016,
          "Fecha": "2016-04",
          "Ramo": "Comb.Familiar",
          "value": 1,
          "variable": "Anulaciones"
         },
         {
          "Año": 2016,
          "Fecha": "2016-05",
          "Ramo": "Comb.Familiar",
          "value": 2,
          "variable": "Anulaciones"
         },
         {
          "Año": 2016,
          "Fecha": "2016-06",
          "Ramo": "Comb.Familiar",
          "value": 5,
          "variable": "Anulaciones"
         },
         {
          "Año": 2016,
          "Fecha": "2016-07",
          "Ramo": "Comb.Familiar",
          "value": 2,
          "variable": "Anulaciones"
         },
         {
          "Año": 2016,
          "Fecha": "2016-08",
          "Ramo": "Comb.Familiar",
          "value": 4,
          "variable": "Anulaciones"
         },
         {
          "Año": 2016,
          "Fecha": "2016-09",
          "Ramo": "Comb.Familiar",
          "value": 2,
          "variable": "Anulaciones"
         },
         {
          "Año": 2016,
          "Fecha": "2016-10",
          "Ramo": "Comb.Familiar",
          "value": 4,
          "variable": "Anulaciones"
         },
         {
          "Año": 2016,
          "Fecha": "2016-11",
          "Ramo": "Comb.Familiar",
          "value": 1,
          "variable": "Anulaciones"
         },
         {
          "Año": 2016,
          "Fecha": "2016-12",
          "Ramo": "Comb.Familiar",
          "value": 2,
          "variable": "Anulaciones"
         },
         {
          "Año": 2016,
          "Fecha": "2016-01",
          "Ramo": "Acc.Personales",
          "value": 8,
          "variable": "Anulaciones"
         },
         {
          "Año": 2016,
          "Fecha": "2016-02",
          "Ramo": "Acc.Personales",
          "value": 6,
          "variable": "Anulaciones"
         },
         {
          "Año": 2016,
          "Fecha": "2016-03",
          "Ramo": "Acc.Personales",
          "value": 6,
          "variable": "Anulaciones"
         },
         {
          "Año": 2016,
          "Fecha": "2016-04",
          "Ramo": "Acc.Personales",
          "value": 11,
          "variable": "Anulaciones"
         },
         {
          "Año": 2016,
          "Fecha": "2016-05",
          "Ramo": "Acc.Personales",
          "value": 5,
          "variable": "Anulaciones"
         },
         {
          "Año": 2016,
          "Fecha": "2016-06",
          "Ramo": "Acc.Personales",
          "value": 6,
          "variable": "Anulaciones"
         },
         {
          "Año": 2016,
          "Fecha": "2016-07",
          "Ramo": "Acc.Personales",
          "value": 11,
          "variable": "Anulaciones"
         },
         {
          "Año": 2016,
          "Fecha": "2016-08",
          "Ramo": "Acc.Personales",
          "value": 7,
          "variable": "Anulaciones"
         },
         {
          "Año": 2016,
          "Fecha": "2016-09",
          "Ramo": "Acc.Personales",
          "value": 7,
          "variable": "Anulaciones"
         },
         {
          "Año": 2016,
          "Fecha": "2016-10",
          "Ramo": "Acc.Personales",
          "value": 5,
          "variable": "Anulaciones"
         },
         {
          "Año": 2016,
          "Fecha": "2016-11",
          "Ramo": "Acc.Personales",
          "value": 6,
          "variable": "Anulaciones"
         },
         {
          "Año": 2016,
          "Fecha": "2016-12",
          "Ramo": "Acc.Personales",
          "value": 14,
          "variable": "Anulaciones"
         },
         {
          "Año": 2016,
          "Fecha": "2016-01",
          "Ramo": "Incendio",
          "value": 0,
          "variable": "Anulaciones"
         },
         {
          "Año": 2016,
          "Fecha": "2016-02",
          "Ramo": "Incendio",
          "value": 0,
          "variable": "Anulaciones"
         },
         {
          "Año": 2016,
          "Fecha": "2016-03",
          "Ramo": "Incendio",
          "value": 0,
          "variable": "Anulaciones"
         },
         {
          "Año": 2016,
          "Fecha": "2016-04",
          "Ramo": "Incendio",
          "value": 3,
          "variable": "Anulaciones"
         },
         {
          "Año": 2016,
          "Fecha": "2016-05",
          "Ramo": "Incendio",
          "value": 1,
          "variable": "Anulaciones"
         },
         {
          "Año": 2016,
          "Fecha": "2016-06",
          "Ramo": "Incendio",
          "value": 1,
          "variable": "Anulaciones"
         },
         {
          "Año": 2016,
          "Fecha": "2016-07",
          "Ramo": "Incendio",
          "value": 1,
          "variable": "Anulaciones"
         },
         {
          "Año": 2016,
          "Fecha": "2016-08",
          "Ramo": "Incendio",
          "value": 0,
          "variable": "Anulaciones"
         },
         {
          "Año": 2016,
          "Fecha": "2016-09",
          "Ramo": "Incendio",
          "value": 0,
          "variable": "Anulaciones"
         },
         {
          "Año": 2016,
          "Fecha": "2016-10",
          "Ramo": "Incendio",
          "value": 0,
          "variable": "Anulaciones"
         },
         {
          "Año": 2016,
          "Fecha": "2016-11",
          "Ramo": "Incendio",
          "value": 0,
          "variable": "Anulaciones"
         },
         {
          "Año": 2016,
          "Fecha": "2016-12",
          "Ramo": "Incendio",
          "value": 0,
          "variable": "Anulaciones"
         },
         {
          "Año": 2016,
          "Fecha": "2016-01",
          "Ramo": "Caucion",
          "value": 1,
          "variable": "Anulaciones"
         },
         {
          "Año": 2016,
          "Fecha": "2016-02",
          "Ramo": "Caucion",
          "value": 0,
          "variable": "Anulaciones"
         },
         {
          "Año": 2016,
          "Fecha": "2016-03",
          "Ramo": "Caucion",
          "value": 0,
          "variable": "Anulaciones"
         },
         {
          "Año": 2016,
          "Fecha": "2016-04",
          "Ramo": "Caucion",
          "value": 0,
          "variable": "Anulaciones"
         },
         {
          "Año": 2016,
          "Fecha": "2016-05",
          "Ramo": "Caucion",
          "value": 0,
          "variable": "Anulaciones"
         },
         {
          "Año": 2016,
          "Fecha": "2016-06",
          "Ramo": "Caucion",
          "value": 0,
          "variable": "Anulaciones"
         },
         {
          "Año": 2016,
          "Fecha": "2016-07",
          "Ramo": "Caucion",
          "value": 2,
          "variable": "Anulaciones"
         },
         {
          "Año": 2016,
          "Fecha": "2016-08",
          "Ramo": "Caucion",
          "value": 0,
          "variable": "Anulaciones"
         },
         {
          "Año": 2016,
          "Fecha": "2016-09",
          "Ramo": "Caucion",
          "value": 0,
          "variable": "Anulaciones"
         },
         {
          "Año": 2016,
          "Fecha": "2016-10",
          "Ramo": "Caucion",
          "value": 0,
          "variable": "Anulaciones"
         },
         {
          "Año": 2016,
          "Fecha": "2016-11",
          "Ramo": "Caucion",
          "value": 1,
          "variable": "Anulaciones"
         },
         {
          "Año": 2016,
          "Fecha": "2016-12",
          "Ramo": "Caucion",
          "value": 0,
          "variable": "Anulaciones"
         },
         {
          "Año": 2016,
          "Fecha": "2016-01",
          "Ramo": "Acc. Fliares Transportados",
          "value": 1,
          "variable": "Anulaciones"
         },
         {
          "Año": 2016,
          "Fecha": "2016-02",
          "Ramo": "Acc. Fliares Transportados",
          "value": 3,
          "variable": "Anulaciones"
         },
         {
          "Año": 2016,
          "Fecha": "2016-03",
          "Ramo": "Acc. Fliares Transportados",
          "value": 2,
          "variable": "Anulaciones"
         },
         {
          "Año": 2016,
          "Fecha": "2016-04",
          "Ramo": "Acc. Fliares Transportados",
          "value": 11,
          "variable": "Anulaciones"
         },
         {
          "Año": 2016,
          "Fecha": "2016-05",
          "Ramo": "Acc. Fliares Transportados",
          "value": 3,
          "variable": "Anulaciones"
         },
         {
          "Año": 2016,
          "Fecha": "2016-06",
          "Ramo": "Acc. Fliares Transportados",
          "value": 4,
          "variable": "Anulaciones"
         },
         {
          "Año": 2016,
          "Fecha": "2016-07",
          "Ramo": "Acc. Fliares Transportados",
          "value": 10,
          "variable": "Anulaciones"
         },
         {
          "Año": 2016,
          "Fecha": "2016-08",
          "Ramo": "Acc. Fliares Transportados",
          "value": 10,
          "variable": "Anulaciones"
         },
         {
          "Año": 2016,
          "Fecha": "2016-09",
          "Ramo": "Acc. Fliares Transportados",
          "value": 11,
          "variable": "Anulaciones"
         },
         {
          "Año": 2016,
          "Fecha": "2016-10",
          "Ramo": "Acc. Fliares Transportados",
          "value": 16,
          "variable": "Anulaciones"
         },
         {
          "Año": 2016,
          "Fecha": "2016-11",
          "Ramo": "Acc. Fliares Transportados",
          "value": 31,
          "variable": "Anulaciones"
         },
         {
          "Año": 2016,
          "Fecha": "2016-12",
          "Ramo": "Acc. Fliares Transportados",
          "value": 17,
          "variable": "Anulaciones"
         },
         {
          "Año": 2016,
          "Fecha": "2016-01",
          "Ramo": "Vida Oblig.",
          "value": 3,
          "variable": "Anulaciones"
         },
         {
          "Año": 2016,
          "Fecha": "2016-02",
          "Ramo": "Vida Oblig.",
          "value": 0,
          "variable": "Anulaciones"
         },
         {
          "Año": 2016,
          "Fecha": "2016-03",
          "Ramo": "Vida Oblig.",
          "value": 1,
          "variable": "Anulaciones"
         },
         {
          "Año": 2016,
          "Fecha": "2016-04",
          "Ramo": "Vida Oblig.",
          "value": 0,
          "variable": "Anulaciones"
         },
         {
          "Año": 2016,
          "Fecha": "2016-05",
          "Ramo": "Vida Oblig.",
          "value": 5,
          "variable": "Anulaciones"
         },
         {
          "Año": 2016,
          "Fecha": "2016-06",
          "Ramo": "Vida Oblig.",
          "value": 3,
          "variable": "Anulaciones"
         },
         {
          "Año": 2016,
          "Fecha": "2016-07",
          "Ramo": "Vida Oblig.",
          "value": 13,
          "variable": "Anulaciones"
         },
         {
          "Año": 2016,
          "Fecha": "2016-08",
          "Ramo": "Vida Oblig.",
          "value": 0,
          "variable": "Anulaciones"
         },
         {
          "Año": 2016,
          "Fecha": "2016-09",
          "Ramo": "Vida Oblig.",
          "value": 1,
          "variable": "Anulaciones"
         },
         {
          "Año": 2016,
          "Fecha": "2016-10",
          "Ramo": "Vida Oblig.",
          "value": 0,
          "variable": "Anulaciones"
         },
         {
          "Año": 2016,
          "Fecha": "2016-11",
          "Ramo": "Vida Oblig.",
          "value": 3,
          "variable": "Anulaciones"
         },
         {
          "Año": 2016,
          "Fecha": "2016-12",
          "Ramo": "Vida Oblig.",
          "value": 0,
          "variable": "Anulaciones"
         },
         {
          "Año": 2016,
          "Fecha": "2016-01",
          "Ramo": "A.R.T.",
          "value": 0,
          "variable": "Anulaciones"
         },
         {
          "Año": 2016,
          "Fecha": "2016-02",
          "Ramo": "A.R.T.",
          "value": 1,
          "variable": "Anulaciones"
         },
         {
          "Año": 2016,
          "Fecha": "2016-03",
          "Ramo": "A.R.T.",
          "value": 0,
          "variable": "Anulaciones"
         },
         {
          "Año": 2016,
          "Fecha": "2016-04",
          "Ramo": "A.R.T.",
          "value": 1,
          "variable": "Anulaciones"
         },
         {
          "Año": 2016,
          "Fecha": "2016-05",
          "Ramo": "A.R.T.",
          "value": 1,
          "variable": "Anulaciones"
         },
         {
          "Año": 2016,
          "Fecha": "2016-06",
          "Ramo": "A.R.T.",
          "value": 6,
          "variable": "Anulaciones"
         },
         {
          "Año": 2016,
          "Fecha": "2016-07",
          "Ramo": "A.R.T.",
          "value": 1,
          "variable": "Anulaciones"
         },
         {
          "Año": 2016,
          "Fecha": "2016-08",
          "Ramo": "A.R.T.",
          "value": 1,
          "variable": "Anulaciones"
         },
         {
          "Año": 2016,
          "Fecha": "2016-09",
          "Ramo": "A.R.T.",
          "value": 21,
          "variable": "Anulaciones"
         },
         {
          "Año": 2016,
          "Fecha": "2016-10",
          "Ramo": "A.R.T.",
          "value": 1,
          "variable": "Anulaciones"
         },
         {
          "Año": 2016,
          "Fecha": "2016-11",
          "Ramo": "A.R.T.",
          "value": 0,
          "variable": "Anulaciones"
         },
         {
          "Año": 2016,
          "Fecha": "2016-12",
          "Ramo": "A.R.T.",
          "value": 0,
          "variable": "Anulaciones"
         },
         {
          "Año": 2016,
          "Fecha": "2016-01",
          "Ramo": "Resp.Civil",
          "value": 0,
          "variable": "Anulaciones"
         },
         {
          "Año": 2016,
          "Fecha": "2016-02",
          "Ramo": "Resp.Civil",
          "value": 1,
          "variable": "Anulaciones"
         },
         {
          "Año": 2016,
          "Fecha": "2016-03",
          "Ramo": "Resp.Civil",
          "value": 0,
          "variable": "Anulaciones"
         },
         {
          "Año": 2016,
          "Fecha": "2016-04",
          "Ramo": "Resp.Civil",
          "value": 2,
          "variable": "Anulaciones"
         },
         {
          "Año": 2016,
          "Fecha": "2016-05",
          "Ramo": "Resp.Civil",
          "value": 3,
          "variable": "Anulaciones"
         },
         {
          "Año": 2016,
          "Fecha": "2016-06",
          "Ramo": "Resp.Civil",
          "value": 1,
          "variable": "Anulaciones"
         },
         {
          "Año": 2016,
          "Fecha": "2016-07",
          "Ramo": "Resp.Civil",
          "value": 1,
          "variable": "Anulaciones"
         },
         {
          "Año": 2016,
          "Fecha": "2016-08",
          "Ramo": "Resp.Civil",
          "value": 3,
          "variable": "Anulaciones"
         },
         {
          "Año": 2016,
          "Fecha": "2016-09",
          "Ramo": "Resp.Civil",
          "value": 1,
          "variable": "Anulaciones"
         },
         {
          "Año": 2016,
          "Fecha": "2016-10",
          "Ramo": "Resp.Civil",
          "value": 0,
          "variable": "Anulaciones"
         },
         {
          "Año": 2016,
          "Fecha": "2016-11",
          "Ramo": "Resp.Civil",
          "value": 2,
          "variable": "Anulaciones"
         },
         {
          "Año": 2016,
          "Fecha": "2016-12",
          "Ramo": "Resp.Civil",
          "value": 2,
          "variable": "Anulaciones"
         },
         {
          "Año": 2016,
          "Fecha": "2016-01",
          "Ramo": "Todo Riesgo Operativo",
          "value": 0,
          "variable": "Anulaciones"
         },
         {
          "Año": 2016,
          "Fecha": "2016-02",
          "Ramo": "Todo Riesgo Operativo",
          "value": 0,
          "variable": "Anulaciones"
         },
         {
          "Año": 2016,
          "Fecha": "2016-03",
          "Ramo": "Todo Riesgo Operativo",
          "value": 0,
          "variable": "Anulaciones"
         },
         {
          "Año": 2016,
          "Fecha": "2016-04",
          "Ramo": "Todo Riesgo Operativo",
          "value": 0,
          "variable": "Anulaciones"
         },
         {
          "Año": 2016,
          "Fecha": "2016-05",
          "Ramo": "Todo Riesgo Operativo",
          "value": 0,
          "variable": "Anulaciones"
         },
         {
          "Año": 2016,
          "Fecha": "2016-06",
          "Ramo": "Todo Riesgo Operativo",
          "value": 0,
          "variable": "Anulaciones"
         },
         {
          "Año": 2016,
          "Fecha": "2016-07",
          "Ramo": "Todo Riesgo Operativo",
          "value": 0,
          "variable": "Anulaciones"
         },
         {
          "Año": 2016,
          "Fecha": "2016-08",
          "Ramo": "Todo Riesgo Operativo",
          "value": 0,
          "variable": "Anulaciones"
         },
         {
          "Año": 2016,
          "Fecha": "2016-09",
          "Ramo": "Todo Riesgo Operativo",
          "value": 0,
          "variable": "Anulaciones"
         },
         {
          "Año": 2016,
          "Fecha": "2016-10",
          "Ramo": "Todo Riesgo Operativo",
          "value": 0,
          "variable": "Anulaciones"
         },
         {
          "Año": 2016,
          "Fecha": "2016-11",
          "Ramo": "Todo Riesgo Operativo",
          "value": 0,
          "variable": "Anulaciones"
         },
         {
          "Año": 2016,
          "Fecha": "2016-12",
          "Ramo": "Todo Riesgo Operativo",
          "value": 0,
          "variable": "Anulaciones"
         },
         {
          "Año": 2016,
          "Fecha": "2016-01",
          "Ramo": "Int.de Comer.",
          "value": 1,
          "variable": "Anulaciones"
         },
         {
          "Año": 2016,
          "Fecha": "2016-02",
          "Ramo": "Int.de Comer.",
          "value": 0,
          "variable": "Anulaciones"
         },
         {
          "Año": 2016,
          "Fecha": "2016-03",
          "Ramo": "Int.de Comer.",
          "value": 0,
          "variable": "Anulaciones"
         },
         {
          "Año": 2016,
          "Fecha": "2016-04",
          "Ramo": "Int.de Comer.",
          "value": 1,
          "variable": "Anulaciones"
         },
         {
          "Año": 2016,
          "Fecha": "2016-05",
          "Ramo": "Int.de Comer.",
          "value": 3,
          "variable": "Anulaciones"
         },
         {
          "Año": 2016,
          "Fecha": "2016-06",
          "Ramo": "Int.de Comer.",
          "value": 2,
          "variable": "Anulaciones"
         },
         {
          "Año": 2016,
          "Fecha": "2016-07",
          "Ramo": "Int.de Comer.",
          "value": 3,
          "variable": "Anulaciones"
         },
         {
          "Año": 2016,
          "Fecha": "2016-08",
          "Ramo": "Int.de Comer.",
          "value": 1,
          "variable": "Anulaciones"
         },
         {
          "Año": 2016,
          "Fecha": "2016-09",
          "Ramo": "Int.de Comer.",
          "value": 0,
          "variable": "Anulaciones"
         },
         {
          "Año": 2016,
          "Fecha": "2016-10",
          "Ramo": "Int.de Comer.",
          "value": 1,
          "variable": "Anulaciones"
         },
         {
          "Año": 2016,
          "Fecha": "2016-11",
          "Ramo": "Int.de Comer.",
          "value": 0,
          "variable": "Anulaciones"
         },
         {
          "Año": 2016,
          "Fecha": "2016-12",
          "Ramo": "Int.de Comer.",
          "value": 4,
          "variable": "Anulaciones"
         },
         {
          "Año": 2016,
          "Fecha": "2016-01",
          "Ramo": "Moto - Vehículo",
          "value": 0,
          "variable": "Anulaciones"
         },
         {
          "Año": 2016,
          "Fecha": "2016-02",
          "Ramo": "Moto - Vehículo",
          "value": 2,
          "variable": "Anulaciones"
         },
         {
          "Año": 2016,
          "Fecha": "2016-03",
          "Ramo": "Moto - Vehículo",
          "value": 3,
          "variable": "Anulaciones"
         },
         {
          "Año": 2016,
          "Fecha": "2016-04",
          "Ramo": "Moto - Vehículo",
          "value": 1,
          "variable": "Anulaciones"
         },
         {
          "Año": 2016,
          "Fecha": "2016-05",
          "Ramo": "Moto - Vehículo",
          "value": 1,
          "variable": "Anulaciones"
         },
         {
          "Año": 2016,
          "Fecha": "2016-06",
          "Ramo": "Moto - Vehículo",
          "value": 1,
          "variable": "Anulaciones"
         },
         {
          "Año": 2016,
          "Fecha": "2016-07",
          "Ramo": "Moto - Vehículo",
          "value": 1,
          "variable": "Anulaciones"
         },
         {
          "Año": 2016,
          "Fecha": "2016-08",
          "Ramo": "Moto - Vehículo",
          "value": 1,
          "variable": "Anulaciones"
         },
         {
          "Año": 2016,
          "Fecha": "2016-09",
          "Ramo": "Moto - Vehículo",
          "value": 0,
          "variable": "Anulaciones"
         },
         {
          "Año": 2016,
          "Fecha": "2016-10",
          "Ramo": "Moto - Vehículo",
          "value": 0,
          "variable": "Anulaciones"
         },
         {
          "Año": 2016,
          "Fecha": "2016-11",
          "Ramo": "Moto - Vehículo",
          "value": 0,
          "variable": "Anulaciones"
         },
         {
          "Año": 2016,
          "Fecha": "2016-12",
          "Ramo": "Moto - Vehículo",
          "value": 0,
          "variable": "Anulaciones"
         },
         {
          "Año": 2016,
          "Fecha": "2016-01",
          "Ramo": "Sepelio",
          "value": 0,
          "variable": "Anulaciones"
         },
         {
          "Año": 2016,
          "Fecha": "2016-02",
          "Ramo": "Sepelio",
          "value": 0,
          "variable": "Anulaciones"
         },
         {
          "Año": 2016,
          "Fecha": "2016-03",
          "Ramo": "Sepelio",
          "value": 0,
          "variable": "Anulaciones"
         },
         {
          "Año": 2016,
          "Fecha": "2016-04",
          "Ramo": "Sepelio",
          "value": 0,
          "variable": "Anulaciones"
         },
         {
          "Año": 2016,
          "Fecha": "2016-05",
          "Ramo": "Sepelio",
          "value": 0,
          "variable": "Anulaciones"
         },
         {
          "Año": 2016,
          "Fecha": "2016-06",
          "Ramo": "Sepelio",
          "value": 0,
          "variable": "Anulaciones"
         },
         {
          "Año": 2016,
          "Fecha": "2016-07",
          "Ramo": "Sepelio",
          "value": 0,
          "variable": "Anulaciones"
         },
         {
          "Año": 2016,
          "Fecha": "2016-08",
          "Ramo": "Sepelio",
          "value": 0,
          "variable": "Anulaciones"
         },
         {
          "Año": 2016,
          "Fecha": "2016-09",
          "Ramo": "Sepelio",
          "value": 0,
          "variable": "Anulaciones"
         },
         {
          "Año": 2016,
          "Fecha": "2016-10",
          "Ramo": "Sepelio",
          "value": 0,
          "variable": "Anulaciones"
         },
         {
          "Año": 2016,
          "Fecha": "2016-11",
          "Ramo": "Sepelio",
          "value": 0,
          "variable": "Anulaciones"
         },
         {
          "Año": 2016,
          "Fecha": "2016-12",
          "Ramo": "Sepelio",
          "value": 0,
          "variable": "Anulaciones"
         },
         {
          "Año": 2016,
          "Fecha": "2016-01",
          "Ramo": "Vida Colectivo",
          "value": 0,
          "variable": "Anulaciones"
         },
         {
          "Año": 2016,
          "Fecha": "2016-02",
          "Ramo": "Vida Colectivo",
          "value": 0,
          "variable": "Anulaciones"
         },
         {
          "Año": 2016,
          "Fecha": "2016-03",
          "Ramo": "Vida Colectivo",
          "value": 5,
          "variable": "Anulaciones"
         },
         {
          "Año": 2016,
          "Fecha": "2016-04",
          "Ramo": "Vida Colectivo",
          "value": 1,
          "variable": "Anulaciones"
         },
         {
          "Año": 2016,
          "Fecha": "2016-05",
          "Ramo": "Vida Colectivo",
          "value": 1,
          "variable": "Anulaciones"
         },
         {
          "Año": 2016,
          "Fecha": "2016-06",
          "Ramo": "Vida Colectivo",
          "value": 0,
          "variable": "Anulaciones"
         },
         {
          "Año": 2016,
          "Fecha": "2016-07",
          "Ramo": "Vida Colectivo",
          "value": 0,
          "variable": "Anulaciones"
         },
         {
          "Año": 2016,
          "Fecha": "2016-08",
          "Ramo": "Vida Colectivo",
          "value": 1,
          "variable": "Anulaciones"
         },
         {
          "Año": 2016,
          "Fecha": "2016-09",
          "Ramo": "Vida Colectivo",
          "value": 1,
          "variable": "Anulaciones"
         },
         {
          "Año": 2016,
          "Fecha": "2016-10",
          "Ramo": "Vida Colectivo",
          "value": 0,
          "variable": "Anulaciones"
         },
         {
          "Año": 2016,
          "Fecha": "2016-11",
          "Ramo": "Vida Colectivo",
          "value": 0,
          "variable": "Anulaciones"
         },
         {
          "Año": 2016,
          "Fecha": "2016-12",
          "Ramo": "Vida Colectivo",
          "value": 0,
          "variable": "Anulaciones"
         },
         {
          "Año": 2016,
          "Fecha": "2016-01",
          "Ramo": "Seguro Tecnico",
          "value": 0,
          "variable": "Anulaciones"
         },
         {
          "Año": 2016,
          "Fecha": "2016-02",
          "Ramo": "Seguro Tecnico",
          "value": 0,
          "variable": "Anulaciones"
         },
         {
          "Año": 2016,
          "Fecha": "2016-03",
          "Ramo": "Seguro Tecnico",
          "value": 0,
          "variable": "Anulaciones"
         },
         {
          "Año": 2016,
          "Fecha": "2016-04",
          "Ramo": "Seguro Tecnico",
          "value": 0,
          "variable": "Anulaciones"
         },
         {
          "Año": 2016,
          "Fecha": "2016-05",
          "Ramo": "Seguro Tecnico",
          "value": 0,
          "variable": "Anulaciones"
         },
         {
          "Año": 2016,
          "Fecha": "2016-06",
          "Ramo": "Seguro Tecnico",
          "value": 2,
          "variable": "Anulaciones"
         },
         {
          "Año": 2016,
          "Fecha": "2016-07",
          "Ramo": "Seguro Tecnico",
          "value": 0,
          "variable": "Anulaciones"
         },
         {
          "Año": 2016,
          "Fecha": "2016-08",
          "Ramo": "Seguro Tecnico",
          "value": 0,
          "variable": "Anulaciones"
         },
         {
          "Año": 2016,
          "Fecha": "2016-09",
          "Ramo": "Seguro Tecnico",
          "value": 1,
          "variable": "Anulaciones"
         },
         {
          "Año": 2016,
          "Fecha": "2016-10",
          "Ramo": "Seguro Tecnico",
          "value": 0,
          "variable": "Anulaciones"
         },
         {
          "Año": 2016,
          "Fecha": "2016-11",
          "Ramo": "Seguro Tecnico",
          "value": 1,
          "variable": "Anulaciones"
         },
         {
          "Año": 2016,
          "Fecha": "2016-12",
          "Ramo": "Seguro Tecnico",
          "value": 0,
          "variable": "Anulaciones"
         },
         {
          "Año": 2016,
          "Fecha": "2016-01",
          "Ramo": "Incendio / Int. de Consorcio",
          "value": 0,
          "variable": "Anulaciones"
         },
         {
          "Año": 2016,
          "Fecha": "2016-02",
          "Ramo": "Incendio / Int. de Consorcio",
          "value": 2,
          "variable": "Anulaciones"
         },
         {
          "Año": 2016,
          "Fecha": "2016-03",
          "Ramo": "Incendio / Int. de Consorcio",
          "value": 0,
          "variable": "Anulaciones"
         },
         {
          "Año": 2016,
          "Fecha": "2016-04",
          "Ramo": "Incendio / Int. de Consorcio",
          "value": 0,
          "variable": "Anulaciones"
         },
         {
          "Año": 2016,
          "Fecha": "2016-05",
          "Ramo": "Incendio / Int. de Consorcio",
          "value": 0,
          "variable": "Anulaciones"
         },
         {
          "Año": 2016,
          "Fecha": "2016-06",
          "Ramo": "Incendio / Int. de Consorcio",
          "value": 0,
          "variable": "Anulaciones"
         },
         {
          "Año": 2016,
          "Fecha": "2016-07",
          "Ramo": "Incendio / Int. de Consorcio",
          "value": 1,
          "variable": "Anulaciones"
         },
         {
          "Año": 2016,
          "Fecha": "2016-08",
          "Ramo": "Incendio / Int. de Consorcio",
          "value": 0,
          "variable": "Anulaciones"
         },
         {
          "Año": 2016,
          "Fecha": "2016-09",
          "Ramo": "Incendio / Int. de Consorcio",
          "value": 1,
          "variable": "Anulaciones"
         },
         {
          "Año": 2016,
          "Fecha": "2016-10",
          "Ramo": "Incendio / Int. de Consorcio",
          "value": 0,
          "variable": "Anulaciones"
         },
         {
          "Año": 2016,
          "Fecha": "2016-11",
          "Ramo": "Incendio / Int. de Consorcio",
          "value": 0,
          "variable": "Anulaciones"
         },
         {
          "Año": 2016,
          "Fecha": "2016-12",
          "Ramo": "Incendio / Int. de Consorcio",
          "value": 2,
          "variable": "Anulaciones"
         },
         {
          "Año": 2016,
          "Fecha": "2016-01",
          "Ramo": "Transporte",
          "value": 0,
          "variable": "Anulaciones"
         },
         {
          "Año": 2016,
          "Fecha": "2016-02",
          "Ramo": "Transporte",
          "value": 0,
          "variable": "Anulaciones"
         },
         {
          "Año": 2016,
          "Fecha": "2016-03",
          "Ramo": "Transporte",
          "value": 0,
          "variable": "Anulaciones"
         },
         {
          "Año": 2016,
          "Fecha": "2016-04",
          "Ramo": "Transporte",
          "value": 0,
          "variable": "Anulaciones"
         },
         {
          "Año": 2016,
          "Fecha": "2016-05",
          "Ramo": "Transporte",
          "value": 0,
          "variable": "Anulaciones"
         },
         {
          "Año": 2016,
          "Fecha": "2016-06",
          "Ramo": "Transporte",
          "value": 0,
          "variable": "Anulaciones"
         },
         {
          "Año": 2016,
          "Fecha": "2016-07",
          "Ramo": "Transporte",
          "value": 0,
          "variable": "Anulaciones"
         },
         {
          "Año": 2016,
          "Fecha": "2016-08",
          "Ramo": "Transporte",
          "value": 0,
          "variable": "Anulaciones"
         },
         {
          "Año": 2016,
          "Fecha": "2016-09",
          "Ramo": "Transporte",
          "value": 0,
          "variable": "Anulaciones"
         },
         {
          "Año": 2016,
          "Fecha": "2016-10",
          "Ramo": "Transporte",
          "value": 0,
          "variable": "Anulaciones"
         },
         {
          "Año": 2016,
          "Fecha": "2016-11",
          "Ramo": "Transporte",
          "value": 0,
          "variable": "Anulaciones"
         },
         {
          "Año": 2016,
          "Fecha": "2016-12",
          "Ramo": "Transporte",
          "value": 0,
          "variable": "Anulaciones"
         },
         {
          "Año": 2016,
          "Fecha": "2016-01",
          "Ramo": "Vida Cont.Trab.",
          "value": 0,
          "variable": "Anulaciones"
         },
         {
          "Año": 2016,
          "Fecha": "2016-02",
          "Ramo": "Vida Cont.Trab.",
          "value": 0,
          "variable": "Anulaciones"
         },
         {
          "Año": 2016,
          "Fecha": "2016-03",
          "Ramo": "Vida Cont.Trab.",
          "value": 0,
          "variable": "Anulaciones"
         },
         {
          "Año": 2016,
          "Fecha": "2016-04",
          "Ramo": "Vida Cont.Trab.",
          "value": 0,
          "variable": "Anulaciones"
         },
         {
          "Año": 2016,
          "Fecha": "2016-05",
          "Ramo": "Vida Cont.Trab.",
          "value": 0,
          "variable": "Anulaciones"
         },
         {
          "Año": 2016,
          "Fecha": "2016-06",
          "Ramo": "Vida Cont.Trab.",
          "value": 0,
          "variable": "Anulaciones"
         },
         {
          "Año": 2016,
          "Fecha": "2016-07",
          "Ramo": "Vida Cont.Trab.",
          "value": 0,
          "variable": "Anulaciones"
         },
         {
          "Año": 2016,
          "Fecha": "2016-08",
          "Ramo": "Vida Cont.Trab.",
          "value": 0,
          "variable": "Anulaciones"
         },
         {
          "Año": 2016,
          "Fecha": "2016-09",
          "Ramo": "Vida Cont.Trab.",
          "value": 1,
          "variable": "Anulaciones"
         },
         {
          "Año": 2016,
          "Fecha": "2016-10",
          "Ramo": "Vida Cont.Trab.",
          "value": 0,
          "variable": "Anulaciones"
         },
         {
          "Año": 2016,
          "Fecha": "2016-11",
          "Ramo": "Vida Cont.Trab.",
          "value": 0,
          "variable": "Anulaciones"
         },
         {
          "Año": 2016,
          "Fecha": "2016-12",
          "Ramo": "Vida Cont.Trab.",
          "value": 1,
          "variable": "Anulaciones"
         },
         {
          "Año": 2016,
          "Fecha": "2016-01",
          "Ramo": "Robo",
          "value": 0,
          "variable": "Anulaciones"
         },
         {
          "Año": 2016,
          "Fecha": "2016-02",
          "Ramo": "Robo",
          "value": 0,
          "variable": "Anulaciones"
         },
         {
          "Año": 2016,
          "Fecha": "2016-03",
          "Ramo": "Robo",
          "value": 1,
          "variable": "Anulaciones"
         },
         {
          "Año": 2016,
          "Fecha": "2016-04",
          "Ramo": "Robo",
          "value": 0,
          "variable": "Anulaciones"
         },
         {
          "Año": 2016,
          "Fecha": "2016-05",
          "Ramo": "Robo",
          "value": 0,
          "variable": "Anulaciones"
         },
         {
          "Año": 2016,
          "Fecha": "2016-06",
          "Ramo": "Robo",
          "value": 0,
          "variable": "Anulaciones"
         },
         {
          "Año": 2016,
          "Fecha": "2016-07",
          "Ramo": "Robo",
          "value": 0,
          "variable": "Anulaciones"
         },
         {
          "Año": 2016,
          "Fecha": "2016-08",
          "Ramo": "Robo",
          "value": 0,
          "variable": "Anulaciones"
         },
         {
          "Año": 2016,
          "Fecha": "2016-09",
          "Ramo": "Robo",
          "value": 1,
          "variable": "Anulaciones"
         },
         {
          "Año": 2016,
          "Fecha": "2016-10",
          "Ramo": "Robo",
          "value": 3,
          "variable": "Anulaciones"
         },
         {
          "Año": 2016,
          "Fecha": "2016-11",
          "Ramo": "Robo",
          "value": 0,
          "variable": "Anulaciones"
         },
         {
          "Año": 2016,
          "Fecha": "2016-12",
          "Ramo": "Robo",
          "value": 1,
          "variable": "Anulaciones"
         },
         {
          "Año": 2016,
          "Fecha": "2016-01",
          "Ramo": "Salud",
          "value": 0,
          "variable": "Anulaciones"
         },
         {
          "Año": 2016,
          "Fecha": "2016-02",
          "Ramo": "Salud",
          "value": 0,
          "variable": "Anulaciones"
         },
         {
          "Año": 2016,
          "Fecha": "2016-03",
          "Ramo": "Salud",
          "value": 0,
          "variable": "Anulaciones"
         },
         {
          "Año": 2016,
          "Fecha": "2016-04",
          "Ramo": "Salud",
          "value": 0,
          "variable": "Anulaciones"
         },
         {
          "Año": 2016,
          "Fecha": "2016-05",
          "Ramo": "Salud",
          "value": 0,
          "variable": "Anulaciones"
         },
         {
          "Año": 2016,
          "Fecha": "2016-06",
          "Ramo": "Salud",
          "value": 0,
          "variable": "Anulaciones"
         },
         {
          "Año": 2016,
          "Fecha": "2016-07",
          "Ramo": "Salud",
          "value": 0,
          "variable": "Anulaciones"
         },
         {
          "Año": 2016,
          "Fecha": "2016-08",
          "Ramo": "Salud",
          "value": 0,
          "variable": "Anulaciones"
         },
         {
          "Año": 2016,
          "Fecha": "2016-09",
          "Ramo": "Salud",
          "value": 0,
          "variable": "Anulaciones"
         },
         {
          "Año": 2016,
          "Fecha": "2016-10",
          "Ramo": "Salud",
          "value": 2,
          "variable": "Anulaciones"
         },
         {
          "Año": 2016,
          "Fecha": "2016-11",
          "Ramo": "Salud",
          "value": 0,
          "variable": "Anulaciones"
         },
         {
          "Año": 2016,
          "Fecha": "2016-12",
          "Ramo": "Salud",
          "value": 0,
          "variable": "Anulaciones"
         },
         {
          "Año": 2016,
          "Fecha": "2016-01",
          "Ramo": "Acc.Pers.Auton.",
          "value": 0,
          "variable": "Anulaciones"
         },
         {
          "Año": 2016,
          "Fecha": "2016-02",
          "Ramo": "Acc.Pers.Auton.",
          "value": 0,
          "variable": "Anulaciones"
         },
         {
          "Año": 2016,
          "Fecha": "2016-03",
          "Ramo": "Acc.Pers.Auton.",
          "value": 0,
          "variable": "Anulaciones"
         },
         {
          "Año": 2016,
          "Fecha": "2016-04",
          "Ramo": "Acc.Pers.Auton.",
          "value": 0,
          "variable": "Anulaciones"
         },
         {
          "Año": 2016,
          "Fecha": "2016-05",
          "Ramo": "Acc.Pers.Auton.",
          "value": 0,
          "variable": "Anulaciones"
         },
         {
          "Año": 2016,
          "Fecha": "2016-06",
          "Ramo": "Acc.Pers.Auton.",
          "value": 1,
          "variable": "Anulaciones"
         },
         {
          "Año": 2016,
          "Fecha": "2016-07",
          "Ramo": "Acc.Pers.Auton.",
          "value": 0,
          "variable": "Anulaciones"
         },
         {
          "Año": 2016,
          "Fecha": "2016-08",
          "Ramo": "Acc.Pers.Auton.",
          "value": 0,
          "variable": "Anulaciones"
         },
         {
          "Año": 2016,
          "Fecha": "2016-09",
          "Ramo": "Acc.Pers.Auton.",
          "value": 0,
          "variable": "Anulaciones"
         },
         {
          "Año": 2016,
          "Fecha": "2016-10",
          "Ramo": "Acc.Pers.Auton.",
          "value": 0,
          "variable": "Anulaciones"
         },
         {
          "Año": 2016,
          "Fecha": "2016-11",
          "Ramo": "Acc.Pers.Auton.",
          "value": 0,
          "variable": "Anulaciones"
         },
         {
          "Año": 2016,
          "Fecha": "2016-12",
          "Ramo": "Acc.Pers.Auton.",
          "value": 0,
          "variable": "Anulaciones"
         },
         {
          "Año": 2016,
          "Fecha": "2016-01",
          "Ramo": "Cascos",
          "value": 0,
          "variable": "Anulaciones"
         },
         {
          "Año": 2016,
          "Fecha": "2016-02",
          "Ramo": "Cascos",
          "value": 0,
          "variable": "Anulaciones"
         },
         {
          "Año": 2016,
          "Fecha": "2016-03",
          "Ramo": "Cascos",
          "value": 0,
          "variable": "Anulaciones"
         },
         {
          "Año": 2016,
          "Fecha": "2016-04",
          "Ramo": "Cascos",
          "value": 0,
          "variable": "Anulaciones"
         },
         {
          "Año": 2016,
          "Fecha": "2016-05",
          "Ramo": "Cascos",
          "value": 0,
          "variable": "Anulaciones"
         },
         {
          "Año": 2016,
          "Fecha": "2016-06",
          "Ramo": "Cascos",
          "value": 0,
          "variable": "Anulaciones"
         },
         {
          "Año": 2016,
          "Fecha": "2016-07",
          "Ramo": "Cascos",
          "value": 0,
          "variable": "Anulaciones"
         },
         {
          "Año": 2016,
          "Fecha": "2016-08",
          "Ramo": "Cascos",
          "value": 0,
          "variable": "Anulaciones"
         },
         {
          "Año": 2016,
          "Fecha": "2016-09",
          "Ramo": "Cascos",
          "value": 0,
          "variable": "Anulaciones"
         },
         {
          "Año": 2016,
          "Fecha": "2016-10",
          "Ramo": "Cascos",
          "value": 0,
          "variable": "Anulaciones"
         },
         {
          "Año": 2016,
          "Fecha": "2016-11",
          "Ramo": "Cascos",
          "value": 0,
          "variable": "Anulaciones"
         },
         {
          "Año": 2016,
          "Fecha": "2016-12",
          "Ramo": "Cascos",
          "value": 0,
          "variable": "Anulaciones"
         },
         {
          "Año": 2016,
          "Fecha": "2016-01",
          "Ramo": "Int.Consorcio",
          "value": 0,
          "variable": "Anulaciones"
         },
         {
          "Año": 2016,
          "Fecha": "2016-02",
          "Ramo": "Int.Consorcio",
          "value": 0,
          "variable": "Anulaciones"
         },
         {
          "Año": 2016,
          "Fecha": "2016-03",
          "Ramo": "Int.Consorcio",
          "value": 0,
          "variable": "Anulaciones"
         },
         {
          "Año": 2016,
          "Fecha": "2016-04",
          "Ramo": "Int.Consorcio",
          "value": 0,
          "variable": "Anulaciones"
         },
         {
          "Año": 2016,
          "Fecha": "2016-05",
          "Ramo": "Int.Consorcio",
          "value": 0,
          "variable": "Anulaciones"
         },
         {
          "Año": 2016,
          "Fecha": "2016-06",
          "Ramo": "Int.Consorcio",
          "value": 0,
          "variable": "Anulaciones"
         },
         {
          "Año": 2016,
          "Fecha": "2016-07",
          "Ramo": "Int.Consorcio",
          "value": 0,
          "variable": "Anulaciones"
         },
         {
          "Año": 2016,
          "Fecha": "2016-08",
          "Ramo": "Int.Consorcio",
          "value": 0,
          "variable": "Anulaciones"
         },
         {
          "Año": 2016,
          "Fecha": "2016-09",
          "Ramo": "Int.Consorcio",
          "value": 0,
          "variable": "Anulaciones"
         },
         {
          "Año": 2016,
          "Fecha": "2016-10",
          "Ramo": "Int.Consorcio",
          "value": 0,
          "variable": "Anulaciones"
         },
         {
          "Año": 2016,
          "Fecha": "2016-11",
          "Ramo": "Int.Consorcio",
          "value": 0,
          "variable": "Anulaciones"
         },
         {
          "Año": 2016,
          "Fecha": "2016-12",
          "Ramo": "Int.Consorcio",
          "value": 0,
          "variable": "Anulaciones"
         },
         {
          "Año": 2016,
          "Fecha": "2016-01",
          "Ramo": "Riesgos Varios",
          "value": 0,
          "variable": "Anulaciones"
         },
         {
          "Año": 2016,
          "Fecha": "2016-02",
          "Ramo": "Riesgos Varios",
          "value": 0,
          "variable": "Anulaciones"
         },
         {
          "Año": 2016,
          "Fecha": "2016-03",
          "Ramo": "Riesgos Varios",
          "value": 0,
          "variable": "Anulaciones"
         },
         {
          "Año": 2016,
          "Fecha": "2016-04",
          "Ramo": "Riesgos Varios",
          "value": 0,
          "variable": "Anulaciones"
         },
         {
          "Año": 2016,
          "Fecha": "2016-05",
          "Ramo": "Riesgos Varios",
          "value": 0,
          "variable": "Anulaciones"
         },
         {
          "Año": 2016,
          "Fecha": "2016-06",
          "Ramo": "Riesgos Varios",
          "value": 0,
          "variable": "Anulaciones"
         },
         {
          "Año": 2016,
          "Fecha": "2016-07",
          "Ramo": "Riesgos Varios",
          "value": 0,
          "variable": "Anulaciones"
         },
         {
          "Año": 2016,
          "Fecha": "2016-08",
          "Ramo": "Riesgos Varios",
          "value": 0,
          "variable": "Anulaciones"
         },
         {
          "Año": 2016,
          "Fecha": "2016-09",
          "Ramo": "Riesgos Varios",
          "value": 0,
          "variable": "Anulaciones"
         },
         {
          "Año": 2016,
          "Fecha": "2016-10",
          "Ramo": "Riesgos Varios",
          "value": 0,
          "variable": "Anulaciones"
         },
         {
          "Año": 2016,
          "Fecha": "2016-11",
          "Ramo": "Riesgos Varios",
          "value": 0,
          "variable": "Anulaciones"
         },
         {
          "Año": 2016,
          "Fecha": "2016-12",
          "Ramo": "Riesgos Varios",
          "value": 0,
          "variable": "Anulaciones"
         },
         {
          "Año": 2016,
          "Fecha": "2016-01",
          "Ramo": "Cristales",
          "value": 0,
          "variable": "Anulaciones"
         },
         {
          "Año": 2016,
          "Fecha": "2016-02",
          "Ramo": "Cristales",
          "value": 0,
          "variable": "Anulaciones"
         },
         {
          "Año": 2016,
          "Fecha": "2016-03",
          "Ramo": "Cristales",
          "value": 0,
          "variable": "Anulaciones"
         },
         {
          "Año": 2016,
          "Fecha": "2016-04",
          "Ramo": "Cristales",
          "value": 0,
          "variable": "Anulaciones"
         },
         {
          "Año": 2016,
          "Fecha": "2016-05",
          "Ramo": "Cristales",
          "value": 0,
          "variable": "Anulaciones"
         },
         {
          "Año": 2016,
          "Fecha": "2016-06",
          "Ramo": "Cristales",
          "value": 0,
          "variable": "Anulaciones"
         },
         {
          "Año": 2016,
          "Fecha": "2016-07",
          "Ramo": "Cristales",
          "value": 1,
          "variable": "Anulaciones"
         },
         {
          "Año": 2016,
          "Fecha": "2016-08",
          "Ramo": "Cristales",
          "value": 0,
          "variable": "Anulaciones"
         },
         {
          "Año": 2016,
          "Fecha": "2016-09",
          "Ramo": "Cristales",
          "value": 0,
          "variable": "Anulaciones"
         },
         {
          "Año": 2016,
          "Fecha": "2016-10",
          "Ramo": "Cristales",
          "value": 0,
          "variable": "Anulaciones"
         },
         {
          "Año": 2016,
          "Fecha": "2016-11",
          "Ramo": "Cristales",
          "value": 0,
          "variable": "Anulaciones"
         },
         {
          "Año": 2016,
          "Fecha": "2016-12",
          "Ramo": "Cristales",
          "value": 0,
          "variable": "Anulaciones"
         },
         {
          "Año": 2016,
          "Fecha": "2016-01",
          "Ramo": "Perdida de Beneficio",
          "value": 0,
          "variable": "Anulaciones"
         },
         {
          "Año": 2016,
          "Fecha": "2016-02",
          "Ramo": "Perdida de Beneficio",
          "value": 0,
          "variable": "Anulaciones"
         },
         {
          "Año": 2016,
          "Fecha": "2016-03",
          "Ramo": "Perdida de Beneficio",
          "value": 0,
          "variable": "Anulaciones"
         },
         {
          "Año": 2016,
          "Fecha": "2016-04",
          "Ramo": "Perdida de Beneficio",
          "value": 0,
          "variable": "Anulaciones"
         },
         {
          "Año": 2016,
          "Fecha": "2016-05",
          "Ramo": "Perdida de Beneficio",
          "value": 0,
          "variable": "Anulaciones"
         },
         {
          "Año": 2016,
          "Fecha": "2016-06",
          "Ramo": "Perdida de Beneficio",
          "value": 0,
          "variable": "Anulaciones"
         },
         {
          "Año": 2016,
          "Fecha": "2016-07",
          "Ramo": "Perdida de Beneficio",
          "value": 0,
          "variable": "Anulaciones"
         },
         {
          "Año": 2016,
          "Fecha": "2016-08",
          "Ramo": "Perdida de Beneficio",
          "value": 0,
          "variable": "Anulaciones"
         },
         {
          "Año": 2016,
          "Fecha": "2016-09",
          "Ramo": "Perdida de Beneficio",
          "value": 0,
          "variable": "Anulaciones"
         },
         {
          "Año": 2016,
          "Fecha": "2016-10",
          "Ramo": "Perdida de Beneficio",
          "value": 0,
          "variable": "Anulaciones"
         },
         {
          "Año": 2016,
          "Fecha": "2016-11",
          "Ramo": "Perdida de Beneficio",
          "value": 0,
          "variable": "Anulaciones"
         },
         {
          "Año": 2016,
          "Fecha": "2016-12",
          "Ramo": "Perdida de Beneficio",
          "value": 0,
          "variable": "Anulaciones"
         },
         {
          "Año": 2017,
          "Fecha": "2017-01",
          "Ramo": "Vida individual",
          "value": 26,
          "variable": "Anulaciones"
         },
         {
          "Año": 2017,
          "Fecha": "2017-02",
          "Ramo": "Vida individual",
          "value": 12,
          "variable": "Anulaciones"
         },
         {
          "Año": 2017,
          "Fecha": "2017-03",
          "Ramo": "Vida individual",
          "value": 14,
          "variable": "Anulaciones"
         },
         {
          "Año": 2017,
          "Fecha": "2017-04",
          "Ramo": "Vida individual",
          "value": 10,
          "variable": "Anulaciones"
         },
         {
          "Año": 2017,
          "Fecha": "2017-05",
          "Ramo": "Vida individual",
          "value": 17,
          "variable": "Anulaciones"
         },
         {
          "Año": 2017,
          "Fecha": "2017-06",
          "Ramo": "Vida individual",
          "value": 17,
          "variable": "Anulaciones"
         },
         {
          "Año": 2017,
          "Fecha": "2017-07",
          "Ramo": "Vida individual",
          "value": 14,
          "variable": "Anulaciones"
         },
         {
          "Año": 2017,
          "Fecha": "2017-08",
          "Ramo": "Vida individual",
          "value": 22,
          "variable": "Anulaciones"
         },
         {
          "Año": 2017,
          "Fecha": "2017-09",
          "Ramo": "Vida individual",
          "value": 24,
          "variable": "Anulaciones"
         },
         {
          "Año": 2017,
          "Fecha": "2017-10",
          "Ramo": "Vida individual",
          "value": 21,
          "variable": "Anulaciones"
         },
         {
          "Año": 2017,
          "Fecha": "2017-11",
          "Ramo": "Vida individual",
          "value": 16,
          "variable": "Anulaciones"
         },
         {
          "Año": 2017,
          "Fecha": "2017-12",
          "Ramo": "Vida individual",
          "value": 23,
          "variable": "Anulaciones"
         },
         {
          "Año": 2017,
          "Fecha": "2017-01",
          "Ramo": "Automotores",
          "value": 66,
          "variable": "Anulaciones"
         },
         {
          "Año": 2017,
          "Fecha": "2017-02",
          "Ramo": "Automotores",
          "value": 40,
          "variable": "Anulaciones"
         },
         {
          "Año": 2017,
          "Fecha": "2017-03",
          "Ramo": "Automotores",
          "value": 75,
          "variable": "Anulaciones"
         },
         {
          "Año": 2017,
          "Fecha": "2017-04",
          "Ramo": "Automotores",
          "value": 62,
          "variable": "Anulaciones"
         },
         {
          "Año": 2017,
          "Fecha": "2017-05",
          "Ramo": "Automotores",
          "value": 90,
          "variable": "Anulaciones"
         },
         {
          "Año": 2017,
          "Fecha": "2017-06",
          "Ramo": "Automotores",
          "value": 48,
          "variable": "Anulaciones"
         },
         {
          "Año": 2017,
          "Fecha": "2017-07",
          "Ramo": "Automotores",
          "value": 50,
          "variable": "Anulaciones"
         },
         {
          "Año": 2017,
          "Fecha": "2017-08",
          "Ramo": "Automotores",
          "value": 88,
          "variable": "Anulaciones"
         },
         {
          "Año": 2017,
          "Fecha": "2017-09",
          "Ramo": "Automotores",
          "value": 81,
          "variable": "Anulaciones"
         },
         {
          "Año": 2017,
          "Fecha": "2017-10",
          "Ramo": "Automotores",
          "value": 88,
          "variable": "Anulaciones"
         },
         {
          "Año": 2017,
          "Fecha": "2017-11",
          "Ramo": "Automotores",
          "value": 60,
          "variable": "Anulaciones"
         },
         {
          "Año": 2017,
          "Fecha": "2017-12",
          "Ramo": "Automotores",
          "value": 69,
          "variable": "Anulaciones"
         },
         {
          "Año": 2017,
          "Fecha": "2017-01",
          "Ramo": "Comb.Familiar",
          "value": 6,
          "variable": "Anulaciones"
         },
         {
          "Año": 2017,
          "Fecha": "2017-02",
          "Ramo": "Comb.Familiar",
          "value": 3,
          "variable": "Anulaciones"
         },
         {
          "Año": 2017,
          "Fecha": "2017-03",
          "Ramo": "Comb.Familiar",
          "value": 3,
          "variable": "Anulaciones"
         },
         {
          "Año": 2017,
          "Fecha": "2017-04",
          "Ramo": "Comb.Familiar",
          "value": 1,
          "variable": "Anulaciones"
         },
         {
          "Año": 2017,
          "Fecha": "2017-05",
          "Ramo": "Comb.Familiar",
          "value": 7,
          "variable": "Anulaciones"
         },
         {
          "Año": 2017,
          "Fecha": "2017-06",
          "Ramo": "Comb.Familiar",
          "value": 3,
          "variable": "Anulaciones"
         },
         {
          "Año": 2017,
          "Fecha": "2017-07",
          "Ramo": "Comb.Familiar",
          "value": 0,
          "variable": "Anulaciones"
         },
         {
          "Año": 2017,
          "Fecha": "2017-08",
          "Ramo": "Comb.Familiar",
          "value": 0,
          "variable": "Anulaciones"
         },
         {
          "Año": 2017,
          "Fecha": "2017-09",
          "Ramo": "Comb.Familiar",
          "value": 1,
          "variable": "Anulaciones"
         },
         {
          "Año": 2017,
          "Fecha": "2017-10",
          "Ramo": "Comb.Familiar",
          "value": 3,
          "variable": "Anulaciones"
         },
         {
          "Año": 2017,
          "Fecha": "2017-11",
          "Ramo": "Comb.Familiar",
          "value": 5,
          "variable": "Anulaciones"
         },
         {
          "Año": 2017,
          "Fecha": "2017-12",
          "Ramo": "Comb.Familiar",
          "value": 10,
          "variable": "Anulaciones"
         },
         {
          "Año": 2017,
          "Fecha": "2017-01",
          "Ramo": "Acc.Personales",
          "value": 10,
          "variable": "Anulaciones"
         },
         {
          "Año": 2017,
          "Fecha": "2017-02",
          "Ramo": "Acc.Personales",
          "value": 3,
          "variable": "Anulaciones"
         },
         {
          "Año": 2017,
          "Fecha": "2017-03",
          "Ramo": "Acc.Personales",
          "value": 13,
          "variable": "Anulaciones"
         },
         {
          "Año": 2017,
          "Fecha": "2017-04",
          "Ramo": "Acc.Personales",
          "value": 8,
          "variable": "Anulaciones"
         },
         {
          "Año": 2017,
          "Fecha": "2017-05",
          "Ramo": "Acc.Personales",
          "value": 17,
          "variable": "Anulaciones"
         },
         {
          "Año": 2017,
          "Fecha": "2017-06",
          "Ramo": "Acc.Personales",
          "value": 8,
          "variable": "Anulaciones"
         },
         {
          "Año": 2017,
          "Fecha": "2017-07",
          "Ramo": "Acc.Personales",
          "value": 10,
          "variable": "Anulaciones"
         },
         {
          "Año": 2017,
          "Fecha": "2017-08",
          "Ramo": "Acc.Personales",
          "value": 10,
          "variable": "Anulaciones"
         },
         {
          "Año": 2017,
          "Fecha": "2017-09",
          "Ramo": "Acc.Personales",
          "value": 13,
          "variable": "Anulaciones"
         },
         {
          "Año": 2017,
          "Fecha": "2017-10",
          "Ramo": "Acc.Personales",
          "value": 11,
          "variable": "Anulaciones"
         },
         {
          "Año": 2017,
          "Fecha": "2017-11",
          "Ramo": "Acc.Personales",
          "value": 9,
          "variable": "Anulaciones"
         },
         {
          "Año": 2017,
          "Fecha": "2017-12",
          "Ramo": "Acc.Personales",
          "value": 8,
          "variable": "Anulaciones"
         },
         {
          "Año": 2017,
          "Fecha": "2017-01",
          "Ramo": "Incendio",
          "value": 0,
          "variable": "Anulaciones"
         },
         {
          "Año": 2017,
          "Fecha": "2017-02",
          "Ramo": "Incendio",
          "value": 0,
          "variable": "Anulaciones"
         },
         {
          "Año": 2017,
          "Fecha": "2017-03",
          "Ramo": "Incendio",
          "value": 0,
          "variable": "Anulaciones"
         },
         {
          "Año": 2017,
          "Fecha": "2017-04",
          "Ramo": "Incendio",
          "value": 0,
          "variable": "Anulaciones"
         },
         {
          "Año": 2017,
          "Fecha": "2017-05",
          "Ramo": "Incendio",
          "value": 0,
          "variable": "Anulaciones"
         },
         {
          "Año": 2017,
          "Fecha": "2017-06",
          "Ramo": "Incendio",
          "value": 0,
          "variable": "Anulaciones"
         },
         {
          "Año": 2017,
          "Fecha": "2017-07",
          "Ramo": "Incendio",
          "value": 0,
          "variable": "Anulaciones"
         },
         {
          "Año": 2017,
          "Fecha": "2017-08",
          "Ramo": "Incendio",
          "value": 0,
          "variable": "Anulaciones"
         },
         {
          "Año": 2017,
          "Fecha": "2017-09",
          "Ramo": "Incendio",
          "value": 0,
          "variable": "Anulaciones"
         },
         {
          "Año": 2017,
          "Fecha": "2017-10",
          "Ramo": "Incendio",
          "value": 0,
          "variable": "Anulaciones"
         },
         {
          "Año": 2017,
          "Fecha": "2017-11",
          "Ramo": "Incendio",
          "value": 0,
          "variable": "Anulaciones"
         },
         {
          "Año": 2017,
          "Fecha": "2017-12",
          "Ramo": "Incendio",
          "value": 0,
          "variable": "Anulaciones"
         },
         {
          "Año": 2017,
          "Fecha": "2017-01",
          "Ramo": "Caucion",
          "value": 0,
          "variable": "Anulaciones"
         },
         {
          "Año": 2017,
          "Fecha": "2017-02",
          "Ramo": "Caucion",
          "value": 0,
          "variable": "Anulaciones"
         },
         {
          "Año": 2017,
          "Fecha": "2017-03",
          "Ramo": "Caucion",
          "value": 0,
          "variable": "Anulaciones"
         },
         {
          "Año": 2017,
          "Fecha": "2017-04",
          "Ramo": "Caucion",
          "value": 0,
          "variable": "Anulaciones"
         },
         {
          "Año": 2017,
          "Fecha": "2017-05",
          "Ramo": "Caucion",
          "value": 1,
          "variable": "Anulaciones"
         },
         {
          "Año": 2017,
          "Fecha": "2017-06",
          "Ramo": "Caucion",
          "value": 0,
          "variable": "Anulaciones"
         },
         {
          "Año": 2017,
          "Fecha": "2017-07",
          "Ramo": "Caucion",
          "value": 0,
          "variable": "Anulaciones"
         },
         {
          "Año": 2017,
          "Fecha": "2017-08",
          "Ramo": "Caucion",
          "value": 0,
          "variable": "Anulaciones"
         },
         {
          "Año": 2017,
          "Fecha": "2017-09",
          "Ramo": "Caucion",
          "value": 1,
          "variable": "Anulaciones"
         },
         {
          "Año": 2017,
          "Fecha": "2017-10",
          "Ramo": "Caucion",
          "value": 0,
          "variable": "Anulaciones"
         },
         {
          "Año": 2017,
          "Fecha": "2017-11",
          "Ramo": "Caucion",
          "value": 0,
          "variable": "Anulaciones"
         },
         {
          "Año": 2017,
          "Fecha": "2017-12",
          "Ramo": "Caucion",
          "value": 0,
          "variable": "Anulaciones"
         },
         {
          "Año": 2017,
          "Fecha": "2017-01",
          "Ramo": "Acc. Fliares Transportados",
          "value": 18,
          "variable": "Anulaciones"
         },
         {
          "Año": 2017,
          "Fecha": "2017-02",
          "Ramo": "Acc. Fliares Transportados",
          "value": 14,
          "variable": "Anulaciones"
         },
         {
          "Año": 2017,
          "Fecha": "2017-03",
          "Ramo": "Acc. Fliares Transportados",
          "value": 22,
          "variable": "Anulaciones"
         },
         {
          "Año": 2017,
          "Fecha": "2017-04",
          "Ramo": "Acc. Fliares Transportados",
          "value": 12,
          "variable": "Anulaciones"
         },
         {
          "Año": 2017,
          "Fecha": "2017-05",
          "Ramo": "Acc. Fliares Transportados",
          "value": 23,
          "variable": "Anulaciones"
         },
         {
          "Año": 2017,
          "Fecha": "2017-06",
          "Ramo": "Acc. Fliares Transportados",
          "value": 12,
          "variable": "Anulaciones"
         },
         {
          "Año": 2017,
          "Fecha": "2017-07",
          "Ramo": "Acc. Fliares Transportados",
          "value": 23,
          "variable": "Anulaciones"
         },
         {
          "Año": 2017,
          "Fecha": "2017-08",
          "Ramo": "Acc. Fliares Transportados",
          "value": 23,
          "variable": "Anulaciones"
         },
         {
          "Año": 2017,
          "Fecha": "2017-09",
          "Ramo": "Acc. Fliares Transportados",
          "value": 29,
          "variable": "Anulaciones"
         },
         {
          "Año": 2017,
          "Fecha": "2017-10",
          "Ramo": "Acc. Fliares Transportados",
          "value": 35,
          "variable": "Anulaciones"
         },
         {
          "Año": 2017,
          "Fecha": "2017-11",
          "Ramo": "Acc. Fliares Transportados",
          "value": 19,
          "variable": "Anulaciones"
         },
         {
          "Año": 2017,
          "Fecha": "2017-12",
          "Ramo": "Acc. Fliares Transportados",
          "value": 31,
          "variable": "Anulaciones"
         },
         {
          "Año": 2017,
          "Fecha": "2017-01",
          "Ramo": "Vida Oblig.",
          "value": 1,
          "variable": "Anulaciones"
         },
         {
          "Año": 2017,
          "Fecha": "2017-02",
          "Ramo": "Vida Oblig.",
          "value": 1,
          "variable": "Anulaciones"
         },
         {
          "Año": 2017,
          "Fecha": "2017-03",
          "Ramo": "Vida Oblig.",
          "value": 1,
          "variable": "Anulaciones"
         },
         {
          "Año": 2017,
          "Fecha": "2017-04",
          "Ramo": "Vida Oblig.",
          "value": 1,
          "variable": "Anulaciones"
         },
         {
          "Año": 2017,
          "Fecha": "2017-05",
          "Ramo": "Vida Oblig.",
          "value": 3,
          "variable": "Anulaciones"
         },
         {
          "Año": 2017,
          "Fecha": "2017-06",
          "Ramo": "Vida Oblig.",
          "value": 2,
          "variable": "Anulaciones"
         },
         {
          "Año": 2017,
          "Fecha": "2017-07",
          "Ramo": "Vida Oblig.",
          "value": 3,
          "variable": "Anulaciones"
         },
         {
          "Año": 2017,
          "Fecha": "2017-08",
          "Ramo": "Vida Oblig.",
          "value": 10,
          "variable": "Anulaciones"
         },
         {
          "Año": 2017,
          "Fecha": "2017-09",
          "Ramo": "Vida Oblig.",
          "value": 4,
          "variable": "Anulaciones"
         },
         {
          "Año": 2017,
          "Fecha": "2017-10",
          "Ramo": "Vida Oblig.",
          "value": 1,
          "variable": "Anulaciones"
         },
         {
          "Año": 2017,
          "Fecha": "2017-11",
          "Ramo": "Vida Oblig.",
          "value": 1,
          "variable": "Anulaciones"
         },
         {
          "Año": 2017,
          "Fecha": "2017-12",
          "Ramo": "Vida Oblig.",
          "value": 2,
          "variable": "Anulaciones"
         },
         {
          "Año": 2017,
          "Fecha": "2017-01",
          "Ramo": "A.R.T.",
          "value": 0,
          "variable": "Anulaciones"
         },
         {
          "Año": 2017,
          "Fecha": "2017-02",
          "Ramo": "A.R.T.",
          "value": 0,
          "variable": "Anulaciones"
         },
         {
          "Año": 2017,
          "Fecha": "2017-03",
          "Ramo": "A.R.T.",
          "value": 1,
          "variable": "Anulaciones"
         },
         {
          "Año": 2017,
          "Fecha": "2017-04",
          "Ramo": "A.R.T.",
          "value": 4,
          "variable": "Anulaciones"
         },
         {
          "Año": 2017,
          "Fecha": "2017-05",
          "Ramo": "A.R.T.",
          "value": 3,
          "variable": "Anulaciones"
         },
         {
          "Año": 2017,
          "Fecha": "2017-06",
          "Ramo": "A.R.T.",
          "value": 3,
          "variable": "Anulaciones"
         },
         {
          "Año": 2017,
          "Fecha": "2017-07",
          "Ramo": "A.R.T.",
          "value": 3,
          "variable": "Anulaciones"
         },
         {
          "Año": 2017,
          "Fecha": "2017-08",
          "Ramo": "A.R.T.",
          "value": 1,
          "variable": "Anulaciones"
         },
         {
          "Año": 2017,
          "Fecha": "2017-09",
          "Ramo": "A.R.T.",
          "value": 0,
          "variable": "Anulaciones"
         },
         {
          "Año": 2017,
          "Fecha": "2017-10",
          "Ramo": "A.R.T.",
          "value": 0,
          "variable": "Anulaciones"
         },
         {
          "Año": 2017,
          "Fecha": "2017-11",
          "Ramo": "A.R.T.",
          "value": 0,
          "variable": "Anulaciones"
         },
         {
          "Año": 2017,
          "Fecha": "2017-12",
          "Ramo": "A.R.T.",
          "value": 0,
          "variable": "Anulaciones"
         },
         {
          "Año": 2017,
          "Fecha": "2017-01",
          "Ramo": "Resp.Civil",
          "value": 2,
          "variable": "Anulaciones"
         },
         {
          "Año": 2017,
          "Fecha": "2017-02",
          "Ramo": "Resp.Civil",
          "value": 1,
          "variable": "Anulaciones"
         },
         {
          "Año": 2017,
          "Fecha": "2017-03",
          "Ramo": "Resp.Civil",
          "value": 2,
          "variable": "Anulaciones"
         },
         {
          "Año": 2017,
          "Fecha": "2017-04",
          "Ramo": "Resp.Civil",
          "value": 1,
          "variable": "Anulaciones"
         },
         {
          "Año": 2017,
          "Fecha": "2017-05",
          "Ramo": "Resp.Civil",
          "value": 4,
          "variable": "Anulaciones"
         },
         {
          "Año": 2017,
          "Fecha": "2017-06",
          "Ramo": "Resp.Civil",
          "value": 0,
          "variable": "Anulaciones"
         },
         {
          "Año": 2017,
          "Fecha": "2017-07",
          "Ramo": "Resp.Civil",
          "value": 1,
          "variable": "Anulaciones"
         },
         {
          "Año": 2017,
          "Fecha": "2017-08",
          "Ramo": "Resp.Civil",
          "value": 3,
          "variable": "Anulaciones"
         },
         {
          "Año": 2017,
          "Fecha": "2017-09",
          "Ramo": "Resp.Civil",
          "value": 5,
          "variable": "Anulaciones"
         },
         {
          "Año": 2017,
          "Fecha": "2017-10",
          "Ramo": "Resp.Civil",
          "value": 1,
          "variable": "Anulaciones"
         },
         {
          "Año": 2017,
          "Fecha": "2017-11",
          "Ramo": "Resp.Civil",
          "value": 0,
          "variable": "Anulaciones"
         },
         {
          "Año": 2017,
          "Fecha": "2017-12",
          "Ramo": "Resp.Civil",
          "value": 5,
          "variable": "Anulaciones"
         },
         {
          "Año": 2017,
          "Fecha": "2017-01",
          "Ramo": "Todo Riesgo Operativo",
          "value": 0,
          "variable": "Anulaciones"
         },
         {
          "Año": 2017,
          "Fecha": "2017-02",
          "Ramo": "Todo Riesgo Operativo",
          "value": 0,
          "variable": "Anulaciones"
         },
         {
          "Año": 2017,
          "Fecha": "2017-03",
          "Ramo": "Todo Riesgo Operativo",
          "value": 0,
          "variable": "Anulaciones"
         },
         {
          "Año": 2017,
          "Fecha": "2017-04",
          "Ramo": "Todo Riesgo Operativo",
          "value": 0,
          "variable": "Anulaciones"
         },
         {
          "Año": 2017,
          "Fecha": "2017-05",
          "Ramo": "Todo Riesgo Operativo",
          "value": 0,
          "variable": "Anulaciones"
         },
         {
          "Año": 2017,
          "Fecha": "2017-06",
          "Ramo": "Todo Riesgo Operativo",
          "value": 0,
          "variable": "Anulaciones"
         },
         {
          "Año": 2017,
          "Fecha": "2017-07",
          "Ramo": "Todo Riesgo Operativo",
          "value": 0,
          "variable": "Anulaciones"
         },
         {
          "Año": 2017,
          "Fecha": "2017-08",
          "Ramo": "Todo Riesgo Operativo",
          "value": 0,
          "variable": "Anulaciones"
         },
         {
          "Año": 2017,
          "Fecha": "2017-09",
          "Ramo": "Todo Riesgo Operativo",
          "value": 0,
          "variable": "Anulaciones"
         },
         {
          "Año": 2017,
          "Fecha": "2017-10",
          "Ramo": "Todo Riesgo Operativo",
          "value": 0,
          "variable": "Anulaciones"
         },
         {
          "Año": 2017,
          "Fecha": "2017-11",
          "Ramo": "Todo Riesgo Operativo",
          "value": 0,
          "variable": "Anulaciones"
         },
         {
          "Año": 2017,
          "Fecha": "2017-12",
          "Ramo": "Todo Riesgo Operativo",
          "value": 0,
          "variable": "Anulaciones"
         },
         {
          "Año": 2017,
          "Fecha": "2017-01",
          "Ramo": "Int.de Comer.",
          "value": 0,
          "variable": "Anulaciones"
         },
         {
          "Año": 2017,
          "Fecha": "2017-02",
          "Ramo": "Int.de Comer.",
          "value": 3,
          "variable": "Anulaciones"
         },
         {
          "Año": 2017,
          "Fecha": "2017-03",
          "Ramo": "Int.de Comer.",
          "value": 0,
          "variable": "Anulaciones"
         },
         {
          "Año": 2017,
          "Fecha": "2017-04",
          "Ramo": "Int.de Comer.",
          "value": 3,
          "variable": "Anulaciones"
         },
         {
          "Año": 2017,
          "Fecha": "2017-05",
          "Ramo": "Int.de Comer.",
          "value": 1,
          "variable": "Anulaciones"
         },
         {
          "Año": 2017,
          "Fecha": "2017-06",
          "Ramo": "Int.de Comer.",
          "value": 2,
          "variable": "Anulaciones"
         },
         {
          "Año": 2017,
          "Fecha": "2017-07",
          "Ramo": "Int.de Comer.",
          "value": 1,
          "variable": "Anulaciones"
         },
         {
          "Año": 2017,
          "Fecha": "2017-08",
          "Ramo": "Int.de Comer.",
          "value": 6,
          "variable": "Anulaciones"
         },
         {
          "Año": 2017,
          "Fecha": "2017-09",
          "Ramo": "Int.de Comer.",
          "value": 1,
          "variable": "Anulaciones"
         },
         {
          "Año": 2017,
          "Fecha": "2017-10",
          "Ramo": "Int.de Comer.",
          "value": 1,
          "variable": "Anulaciones"
         },
         {
          "Año": 2017,
          "Fecha": "2017-11",
          "Ramo": "Int.de Comer.",
          "value": 2,
          "variable": "Anulaciones"
         },
         {
          "Año": 2017,
          "Fecha": "2017-12",
          "Ramo": "Int.de Comer.",
          "value": 2,
          "variable": "Anulaciones"
         },
         {
          "Año": 2017,
          "Fecha": "2017-01",
          "Ramo": "Moto - Vehículo",
          "value": 0,
          "variable": "Anulaciones"
         },
         {
          "Año": 2017,
          "Fecha": "2017-02",
          "Ramo": "Moto - Vehículo",
          "value": 0,
          "variable": "Anulaciones"
         },
         {
          "Año": 2017,
          "Fecha": "2017-03",
          "Ramo": "Moto - Vehículo",
          "value": 1,
          "variable": "Anulaciones"
         },
         {
          "Año": 2017,
          "Fecha": "2017-04",
          "Ramo": "Moto - Vehículo",
          "value": 0,
          "variable": "Anulaciones"
         },
         {
          "Año": 2017,
          "Fecha": "2017-05",
          "Ramo": "Moto - Vehículo",
          "value": 0,
          "variable": "Anulaciones"
         },
         {
          "Año": 2017,
          "Fecha": "2017-06",
          "Ramo": "Moto - Vehículo",
          "value": 1,
          "variable": "Anulaciones"
         },
         {
          "Año": 2017,
          "Fecha": "2017-07",
          "Ramo": "Moto - Vehículo",
          "value": 1,
          "variable": "Anulaciones"
         },
         {
          "Año": 2017,
          "Fecha": "2017-08",
          "Ramo": "Moto - Vehículo",
          "value": 0,
          "variable": "Anulaciones"
         },
         {
          "Año": 2017,
          "Fecha": "2017-09",
          "Ramo": "Moto - Vehículo",
          "value": 0,
          "variable": "Anulaciones"
         },
         {
          "Año": 2017,
          "Fecha": "2017-10",
          "Ramo": "Moto - Vehículo",
          "value": 1,
          "variable": "Anulaciones"
         },
         {
          "Año": 2017,
          "Fecha": "2017-11",
          "Ramo": "Moto - Vehículo",
          "value": 1,
          "variable": "Anulaciones"
         },
         {
          "Año": 2017,
          "Fecha": "2017-12",
          "Ramo": "Moto - Vehículo",
          "value": 1,
          "variable": "Anulaciones"
         },
         {
          "Año": 2017,
          "Fecha": "2017-01",
          "Ramo": "Sepelio",
          "value": 0,
          "variable": "Anulaciones"
         },
         {
          "Año": 2017,
          "Fecha": "2017-02",
          "Ramo": "Sepelio",
          "value": 0,
          "variable": "Anulaciones"
         },
         {
          "Año": 2017,
          "Fecha": "2017-03",
          "Ramo": "Sepelio",
          "value": 0,
          "variable": "Anulaciones"
         },
         {
          "Año": 2017,
          "Fecha": "2017-04",
          "Ramo": "Sepelio",
          "value": 1,
          "variable": "Anulaciones"
         },
         {
          "Año": 2017,
          "Fecha": "2017-05",
          "Ramo": "Sepelio",
          "value": 0,
          "variable": "Anulaciones"
         },
         {
          "Año": 2017,
          "Fecha": "2017-06",
          "Ramo": "Sepelio",
          "value": 0,
          "variable": "Anulaciones"
         },
         {
          "Año": 2017,
          "Fecha": "2017-07",
          "Ramo": "Sepelio",
          "value": 0,
          "variable": "Anulaciones"
         },
         {
          "Año": 2017,
          "Fecha": "2017-08",
          "Ramo": "Sepelio",
          "value": 0,
          "variable": "Anulaciones"
         },
         {
          "Año": 2017,
          "Fecha": "2017-09",
          "Ramo": "Sepelio",
          "value": 0,
          "variable": "Anulaciones"
         },
         {
          "Año": 2017,
          "Fecha": "2017-10",
          "Ramo": "Sepelio",
          "value": 0,
          "variable": "Anulaciones"
         },
         {
          "Año": 2017,
          "Fecha": "2017-11",
          "Ramo": "Sepelio",
          "value": 0,
          "variable": "Anulaciones"
         },
         {
          "Año": 2017,
          "Fecha": "2017-12",
          "Ramo": "Sepelio",
          "value": 0,
          "variable": "Anulaciones"
         },
         {
          "Año": 2017,
          "Fecha": "2017-01",
          "Ramo": "Vida Colectivo",
          "value": 3,
          "variable": "Anulaciones"
         },
         {
          "Año": 2017,
          "Fecha": "2017-02",
          "Ramo": "Vida Colectivo",
          "value": 1,
          "variable": "Anulaciones"
         },
         {
          "Año": 2017,
          "Fecha": "2017-03",
          "Ramo": "Vida Colectivo",
          "value": 0,
          "variable": "Anulaciones"
         },
         {
          "Año": 2017,
          "Fecha": "2017-04",
          "Ramo": "Vida Colectivo",
          "value": 0,
          "variable": "Anulaciones"
         },
         {
          "Año": 2017,
          "Fecha": "2017-05",
          "Ramo": "Vida Colectivo",
          "value": 3,
          "variable": "Anulaciones"
         },
         {
          "Año": 2017,
          "Fecha": "2017-06",
          "Ramo": "Vida Colectivo",
          "value": 0,
          "variable": "Anulaciones"
         },
         {
          "Año": 2017,
          "Fecha": "2017-07",
          "Ramo": "Vida Colectivo",
          "value": 0,
          "variable": "Anulaciones"
         },
         {
          "Año": 2017,
          "Fecha": "2017-08",
          "Ramo": "Vida Colectivo",
          "value": 1,
          "variable": "Anulaciones"
         },
         {
          "Año": 2017,
          "Fecha": "2017-09",
          "Ramo": "Vida Colectivo",
          "value": 0,
          "variable": "Anulaciones"
         },
         {
          "Año": 2017,
          "Fecha": "2017-10",
          "Ramo": "Vida Colectivo",
          "value": 7,
          "variable": "Anulaciones"
         },
         {
          "Año": 2017,
          "Fecha": "2017-11",
          "Ramo": "Vida Colectivo",
          "value": 0,
          "variable": "Anulaciones"
         },
         {
          "Año": 2017,
          "Fecha": "2017-12",
          "Ramo": "Vida Colectivo",
          "value": 0,
          "variable": "Anulaciones"
         },
         {
          "Año": 2017,
          "Fecha": "2017-01",
          "Ramo": "Seguro Tecnico",
          "value": 0,
          "variable": "Anulaciones"
         },
         {
          "Año": 2017,
          "Fecha": "2017-02",
          "Ramo": "Seguro Tecnico",
          "value": 1,
          "variable": "Anulaciones"
         },
         {
          "Año": 2017,
          "Fecha": "2017-03",
          "Ramo": "Seguro Tecnico",
          "value": 0,
          "variable": "Anulaciones"
         },
         {
          "Año": 2017,
          "Fecha": "2017-04",
          "Ramo": "Seguro Tecnico",
          "value": 0,
          "variable": "Anulaciones"
         },
         {
          "Año": 2017,
          "Fecha": "2017-05",
          "Ramo": "Seguro Tecnico",
          "value": 1,
          "variable": "Anulaciones"
         },
         {
          "Año": 2017,
          "Fecha": "2017-06",
          "Ramo": "Seguro Tecnico",
          "value": 0,
          "variable": "Anulaciones"
         },
         {
          "Año": 2017,
          "Fecha": "2017-07",
          "Ramo": "Seguro Tecnico",
          "value": 0,
          "variable": "Anulaciones"
         },
         {
          "Año": 2017,
          "Fecha": "2017-08",
          "Ramo": "Seguro Tecnico",
          "value": 0,
          "variable": "Anulaciones"
         },
         {
          "Año": 2017,
          "Fecha": "2017-09",
          "Ramo": "Seguro Tecnico",
          "value": 0,
          "variable": "Anulaciones"
         },
         {
          "Año": 2017,
          "Fecha": "2017-10",
          "Ramo": "Seguro Tecnico",
          "value": 0,
          "variable": "Anulaciones"
         },
         {
          "Año": 2017,
          "Fecha": "2017-11",
          "Ramo": "Seguro Tecnico",
          "value": 0,
          "variable": "Anulaciones"
         },
         {
          "Año": 2017,
          "Fecha": "2017-12",
          "Ramo": "Seguro Tecnico",
          "value": 0,
          "variable": "Anulaciones"
         },
         {
          "Año": 2017,
          "Fecha": "2017-01",
          "Ramo": "Incendio / Int. de Consorcio",
          "value": 3,
          "variable": "Anulaciones"
         },
         {
          "Año": 2017,
          "Fecha": "2017-02",
          "Ramo": "Incendio / Int. de Consorcio",
          "value": 0,
          "variable": "Anulaciones"
         },
         {
          "Año": 2017,
          "Fecha": "2017-03",
          "Ramo": "Incendio / Int. de Consorcio",
          "value": 0,
          "variable": "Anulaciones"
         },
         {
          "Año": 2017,
          "Fecha": "2017-04",
          "Ramo": "Incendio / Int. de Consorcio",
          "value": 1,
          "variable": "Anulaciones"
         },
         {
          "Año": 2017,
          "Fecha": "2017-05",
          "Ramo": "Incendio / Int. de Consorcio",
          "value": 1,
          "variable": "Anulaciones"
         },
         {
          "Año": 2017,
          "Fecha": "2017-06",
          "Ramo": "Incendio / Int. de Consorcio",
          "value": 1,
          "variable": "Anulaciones"
         },
         {
          "Año": 2017,
          "Fecha": "2017-07",
          "Ramo": "Incendio / Int. de Consorcio",
          "value": 1,
          "variable": "Anulaciones"
         },
         {
          "Año": 2017,
          "Fecha": "2017-08",
          "Ramo": "Incendio / Int. de Consorcio",
          "value": 0,
          "variable": "Anulaciones"
         },
         {
          "Año": 2017,
          "Fecha": "2017-09",
          "Ramo": "Incendio / Int. de Consorcio",
          "value": 1,
          "variable": "Anulaciones"
         },
         {
          "Año": 2017,
          "Fecha": "2017-10",
          "Ramo": "Incendio / Int. de Consorcio",
          "value": 0,
          "variable": "Anulaciones"
         },
         {
          "Año": 2017,
          "Fecha": "2017-11",
          "Ramo": "Incendio / Int. de Consorcio",
          "value": 1,
          "variable": "Anulaciones"
         },
         {
          "Año": 2017,
          "Fecha": "2017-12",
          "Ramo": "Incendio / Int. de Consorcio",
          "value": 0,
          "variable": "Anulaciones"
         },
         {
          "Año": 2017,
          "Fecha": "2017-01",
          "Ramo": "Transporte",
          "value": 0,
          "variable": "Anulaciones"
         },
         {
          "Año": 2017,
          "Fecha": "2017-02",
          "Ramo": "Transporte",
          "value": 0,
          "variable": "Anulaciones"
         },
         {
          "Año": 2017,
          "Fecha": "2017-03",
          "Ramo": "Transporte",
          "value": 0,
          "variable": "Anulaciones"
         },
         {
          "Año": 2017,
          "Fecha": "2017-04",
          "Ramo": "Transporte",
          "value": 0,
          "variable": "Anulaciones"
         },
         {
          "Año": 2017,
          "Fecha": "2017-05",
          "Ramo": "Transporte",
          "value": 0,
          "variable": "Anulaciones"
         },
         {
          "Año": 2017,
          "Fecha": "2017-06",
          "Ramo": "Transporte",
          "value": 0,
          "variable": "Anulaciones"
         },
         {
          "Año": 2017,
          "Fecha": "2017-07",
          "Ramo": "Transporte",
          "value": 0,
          "variable": "Anulaciones"
         },
         {
          "Año": 2017,
          "Fecha": "2017-08",
          "Ramo": "Transporte",
          "value": 0,
          "variable": "Anulaciones"
         },
         {
          "Año": 2017,
          "Fecha": "2017-09",
          "Ramo": "Transporte",
          "value": 2,
          "variable": "Anulaciones"
         },
         {
          "Año": 2017,
          "Fecha": "2017-10",
          "Ramo": "Transporte",
          "value": 0,
          "variable": "Anulaciones"
         },
         {
          "Año": 2017,
          "Fecha": "2017-11",
          "Ramo": "Transporte",
          "value": 0,
          "variable": "Anulaciones"
         },
         {
          "Año": 2017,
          "Fecha": "2017-12",
          "Ramo": "Transporte",
          "value": 0,
          "variable": "Anulaciones"
         },
         {
          "Año": 2017,
          "Fecha": "2017-01",
          "Ramo": "Vida Cont.Trab.",
          "value": 0,
          "variable": "Anulaciones"
         },
         {
          "Año": 2017,
          "Fecha": "2017-02",
          "Ramo": "Vida Cont.Trab.",
          "value": 0,
          "variable": "Anulaciones"
         },
         {
          "Año": 2017,
          "Fecha": "2017-03",
          "Ramo": "Vida Cont.Trab.",
          "value": 0,
          "variable": "Anulaciones"
         },
         {
          "Año": 2017,
          "Fecha": "2017-04",
          "Ramo": "Vida Cont.Trab.",
          "value": 0,
          "variable": "Anulaciones"
         },
         {
          "Año": 2017,
          "Fecha": "2017-05",
          "Ramo": "Vida Cont.Trab.",
          "value": 0,
          "variable": "Anulaciones"
         },
         {
          "Año": 2017,
          "Fecha": "2017-06",
          "Ramo": "Vida Cont.Trab.",
          "value": 1,
          "variable": "Anulaciones"
         },
         {
          "Año": 2017,
          "Fecha": "2017-07",
          "Ramo": "Vida Cont.Trab.",
          "value": 0,
          "variable": "Anulaciones"
         },
         {
          "Año": 2017,
          "Fecha": "2017-08",
          "Ramo": "Vida Cont.Trab.",
          "value": 0,
          "variable": "Anulaciones"
         },
         {
          "Año": 2017,
          "Fecha": "2017-09",
          "Ramo": "Vida Cont.Trab.",
          "value": 0,
          "variable": "Anulaciones"
         },
         {
          "Año": 2017,
          "Fecha": "2017-10",
          "Ramo": "Vida Cont.Trab.",
          "value": 0,
          "variable": "Anulaciones"
         },
         {
          "Año": 2017,
          "Fecha": "2017-11",
          "Ramo": "Vida Cont.Trab.",
          "value": 0,
          "variable": "Anulaciones"
         },
         {
          "Año": 2017,
          "Fecha": "2017-12",
          "Ramo": "Vida Cont.Trab.",
          "value": 0,
          "variable": "Anulaciones"
         },
         {
          "Año": 2017,
          "Fecha": "2017-01",
          "Ramo": "Robo",
          "value": 0,
          "variable": "Anulaciones"
         },
         {
          "Año": 2017,
          "Fecha": "2017-02",
          "Ramo": "Robo",
          "value": 0,
          "variable": "Anulaciones"
         },
         {
          "Año": 2017,
          "Fecha": "2017-03",
          "Ramo": "Robo",
          "value": 1,
          "variable": "Anulaciones"
         },
         {
          "Año": 2017,
          "Fecha": "2017-04",
          "Ramo": "Robo",
          "value": 0,
          "variable": "Anulaciones"
         },
         {
          "Año": 2017,
          "Fecha": "2017-05",
          "Ramo": "Robo",
          "value": 1,
          "variable": "Anulaciones"
         },
         {
          "Año": 2017,
          "Fecha": "2017-06",
          "Ramo": "Robo",
          "value": 2,
          "variable": "Anulaciones"
         },
         {
          "Año": 2017,
          "Fecha": "2017-07",
          "Ramo": "Robo",
          "value": 0,
          "variable": "Anulaciones"
         },
         {
          "Año": 2017,
          "Fecha": "2017-08",
          "Ramo": "Robo",
          "value": 3,
          "variable": "Anulaciones"
         },
         {
          "Año": 2017,
          "Fecha": "2017-09",
          "Ramo": "Robo",
          "value": 2,
          "variable": "Anulaciones"
         },
         {
          "Año": 2017,
          "Fecha": "2017-10",
          "Ramo": "Robo",
          "value": 0,
          "variable": "Anulaciones"
         },
         {
          "Año": 2017,
          "Fecha": "2017-11",
          "Ramo": "Robo",
          "value": 0,
          "variable": "Anulaciones"
         },
         {
          "Año": 2017,
          "Fecha": "2017-12",
          "Ramo": "Robo",
          "value": 0,
          "variable": "Anulaciones"
         },
         {
          "Año": 2017,
          "Fecha": "2017-01",
          "Ramo": "Salud",
          "value": 0,
          "variable": "Anulaciones"
         },
         {
          "Año": 2017,
          "Fecha": "2017-02",
          "Ramo": "Salud",
          "value": 0,
          "variable": "Anulaciones"
         },
         {
          "Año": 2017,
          "Fecha": "2017-03",
          "Ramo": "Salud",
          "value": 0,
          "variable": "Anulaciones"
         },
         {
          "Año": 2017,
          "Fecha": "2017-04",
          "Ramo": "Salud",
          "value": 0,
          "variable": "Anulaciones"
         },
         {
          "Año": 2017,
          "Fecha": "2017-05",
          "Ramo": "Salud",
          "value": 0,
          "variable": "Anulaciones"
         },
         {
          "Año": 2017,
          "Fecha": "2017-06",
          "Ramo": "Salud",
          "value": 1,
          "variable": "Anulaciones"
         },
         {
          "Año": 2017,
          "Fecha": "2017-07",
          "Ramo": "Salud",
          "value": 0,
          "variable": "Anulaciones"
         },
         {
          "Año": 2017,
          "Fecha": "2017-08",
          "Ramo": "Salud",
          "value": 3,
          "variable": "Anulaciones"
         },
         {
          "Año": 2017,
          "Fecha": "2017-09",
          "Ramo": "Salud",
          "value": 1,
          "variable": "Anulaciones"
         },
         {
          "Año": 2017,
          "Fecha": "2017-10",
          "Ramo": "Salud",
          "value": 0,
          "variable": "Anulaciones"
         },
         {
          "Año": 2017,
          "Fecha": "2017-11",
          "Ramo": "Salud",
          "value": 0,
          "variable": "Anulaciones"
         },
         {
          "Año": 2017,
          "Fecha": "2017-12",
          "Ramo": "Salud",
          "value": 0,
          "variable": "Anulaciones"
         },
         {
          "Año": 2017,
          "Fecha": "2017-01",
          "Ramo": "Acc.Pers.Auton.",
          "value": 0,
          "variable": "Anulaciones"
         },
         {
          "Año": 2017,
          "Fecha": "2017-02",
          "Ramo": "Acc.Pers.Auton.",
          "value": 0,
          "variable": "Anulaciones"
         },
         {
          "Año": 2017,
          "Fecha": "2017-03",
          "Ramo": "Acc.Pers.Auton.",
          "value": 0,
          "variable": "Anulaciones"
         },
         {
          "Año": 2017,
          "Fecha": "2017-04",
          "Ramo": "Acc.Pers.Auton.",
          "value": 0,
          "variable": "Anulaciones"
         },
         {
          "Año": 2017,
          "Fecha": "2017-05",
          "Ramo": "Acc.Pers.Auton.",
          "value": 0,
          "variable": "Anulaciones"
         },
         {
          "Año": 2017,
          "Fecha": "2017-06",
          "Ramo": "Acc.Pers.Auton.",
          "value": 0,
          "variable": "Anulaciones"
         },
         {
          "Año": 2017,
          "Fecha": "2017-07",
          "Ramo": "Acc.Pers.Auton.",
          "value": 1,
          "variable": "Anulaciones"
         },
         {
          "Año": 2017,
          "Fecha": "2017-08",
          "Ramo": "Acc.Pers.Auton.",
          "value": 0,
          "variable": "Anulaciones"
         },
         {
          "Año": 2017,
          "Fecha": "2017-09",
          "Ramo": "Acc.Pers.Auton.",
          "value": 0,
          "variable": "Anulaciones"
         },
         {
          "Año": 2017,
          "Fecha": "2017-10",
          "Ramo": "Acc.Pers.Auton.",
          "value": 1,
          "variable": "Anulaciones"
         },
         {
          "Año": 2017,
          "Fecha": "2017-11",
          "Ramo": "Acc.Pers.Auton.",
          "value": 0,
          "variable": "Anulaciones"
         },
         {
          "Año": 2017,
          "Fecha": "2017-12",
          "Ramo": "Acc.Pers.Auton.",
          "value": 0,
          "variable": "Anulaciones"
         },
         {
          "Año": 2017,
          "Fecha": "2017-01",
          "Ramo": "Cascos",
          "value": 0,
          "variable": "Anulaciones"
         },
         {
          "Año": 2017,
          "Fecha": "2017-02",
          "Ramo": "Cascos",
          "value": 0,
          "variable": "Anulaciones"
         },
         {
          "Año": 2017,
          "Fecha": "2017-03",
          "Ramo": "Cascos",
          "value": 1,
          "variable": "Anulaciones"
         },
         {
          "Año": 2017,
          "Fecha": "2017-04",
          "Ramo": "Cascos",
          "value": 0,
          "variable": "Anulaciones"
         },
         {
          "Año": 2017,
          "Fecha": "2017-05",
          "Ramo": "Cascos",
          "value": 0,
          "variable": "Anulaciones"
         },
         {
          "Año": 2017,
          "Fecha": "2017-06",
          "Ramo": "Cascos",
          "value": 1,
          "variable": "Anulaciones"
         },
         {
          "Año": 2017,
          "Fecha": "2017-07",
          "Ramo": "Cascos",
          "value": 0,
          "variable": "Anulaciones"
         },
         {
          "Año": 2017,
          "Fecha": "2017-08",
          "Ramo": "Cascos",
          "value": 0,
          "variable": "Anulaciones"
         },
         {
          "Año": 2017,
          "Fecha": "2017-09",
          "Ramo": "Cascos",
          "value": 0,
          "variable": "Anulaciones"
         },
         {
          "Año": 2017,
          "Fecha": "2017-10",
          "Ramo": "Cascos",
          "value": 0,
          "variable": "Anulaciones"
         },
         {
          "Año": 2017,
          "Fecha": "2017-11",
          "Ramo": "Cascos",
          "value": 0,
          "variable": "Anulaciones"
         },
         {
          "Año": 2017,
          "Fecha": "2017-12",
          "Ramo": "Cascos",
          "value": 0,
          "variable": "Anulaciones"
         },
         {
          "Año": 2017,
          "Fecha": "2017-01",
          "Ramo": "Int.Consorcio",
          "value": 0,
          "variable": "Anulaciones"
         },
         {
          "Año": 2017,
          "Fecha": "2017-02",
          "Ramo": "Int.Consorcio",
          "value": 0,
          "variable": "Anulaciones"
         },
         {
          "Año": 2017,
          "Fecha": "2017-03",
          "Ramo": "Int.Consorcio",
          "value": 0,
          "variable": "Anulaciones"
         },
         {
          "Año": 2017,
          "Fecha": "2017-04",
          "Ramo": "Int.Consorcio",
          "value": 0,
          "variable": "Anulaciones"
         },
         {
          "Año": 2017,
          "Fecha": "2017-05",
          "Ramo": "Int.Consorcio",
          "value": 0,
          "variable": "Anulaciones"
         },
         {
          "Año": 2017,
          "Fecha": "2017-06",
          "Ramo": "Int.Consorcio",
          "value": 0,
          "variable": "Anulaciones"
         },
         {
          "Año": 2017,
          "Fecha": "2017-07",
          "Ramo": "Int.Consorcio",
          "value": 0,
          "variable": "Anulaciones"
         },
         {
          "Año": 2017,
          "Fecha": "2017-08",
          "Ramo": "Int.Consorcio",
          "value": 0,
          "variable": "Anulaciones"
         },
         {
          "Año": 2017,
          "Fecha": "2017-09",
          "Ramo": "Int.Consorcio",
          "value": 0,
          "variable": "Anulaciones"
         },
         {
          "Año": 2017,
          "Fecha": "2017-10",
          "Ramo": "Int.Consorcio",
          "value": 0,
          "variable": "Anulaciones"
         },
         {
          "Año": 2017,
          "Fecha": "2017-11",
          "Ramo": "Int.Consorcio",
          "value": 0,
          "variable": "Anulaciones"
         },
         {
          "Año": 2017,
          "Fecha": "2017-12",
          "Ramo": "Int.Consorcio",
          "value": 0,
          "variable": "Anulaciones"
         },
         {
          "Año": 2017,
          "Fecha": "2017-01",
          "Ramo": "Riesgos Varios",
          "value": 0,
          "variable": "Anulaciones"
         },
         {
          "Año": 2017,
          "Fecha": "2017-02",
          "Ramo": "Riesgos Varios",
          "value": 0,
          "variable": "Anulaciones"
         },
         {
          "Año": 2017,
          "Fecha": "2017-03",
          "Ramo": "Riesgos Varios",
          "value": 0,
          "variable": "Anulaciones"
         },
         {
          "Año": 2017,
          "Fecha": "2017-04",
          "Ramo": "Riesgos Varios",
          "value": 0,
          "variable": "Anulaciones"
         },
         {
          "Año": 2017,
          "Fecha": "2017-05",
          "Ramo": "Riesgos Varios",
          "value": 0,
          "variable": "Anulaciones"
         },
         {
          "Año": 2017,
          "Fecha": "2017-06",
          "Ramo": "Riesgos Varios",
          "value": 0,
          "variable": "Anulaciones"
         },
         {
          "Año": 2017,
          "Fecha": "2017-07",
          "Ramo": "Riesgos Varios",
          "value": 0,
          "variable": "Anulaciones"
         },
         {
          "Año": 2017,
          "Fecha": "2017-08",
          "Ramo": "Riesgos Varios",
          "value": 3,
          "variable": "Anulaciones"
         },
         {
          "Año": 2017,
          "Fecha": "2017-09",
          "Ramo": "Riesgos Varios",
          "value": 0,
          "variable": "Anulaciones"
         },
         {
          "Año": 2017,
          "Fecha": "2017-10",
          "Ramo": "Riesgos Varios",
          "value": 0,
          "variable": "Anulaciones"
         },
         {
          "Año": 2017,
          "Fecha": "2017-11",
          "Ramo": "Riesgos Varios",
          "value": 0,
          "variable": "Anulaciones"
         },
         {
          "Año": 2017,
          "Fecha": "2017-12",
          "Ramo": "Riesgos Varios",
          "value": 0,
          "variable": "Anulaciones"
         },
         {
          "Año": 2017,
          "Fecha": "2017-01",
          "Ramo": "Cristales",
          "value": 0,
          "variable": "Anulaciones"
         },
         {
          "Año": 2017,
          "Fecha": "2017-02",
          "Ramo": "Cristales",
          "value": 0,
          "variable": "Anulaciones"
         },
         {
          "Año": 2017,
          "Fecha": "2017-03",
          "Ramo": "Cristales",
          "value": 0,
          "variable": "Anulaciones"
         },
         {
          "Año": 2017,
          "Fecha": "2017-04",
          "Ramo": "Cristales",
          "value": 0,
          "variable": "Anulaciones"
         },
         {
          "Año": 2017,
          "Fecha": "2017-05",
          "Ramo": "Cristales",
          "value": 0,
          "variable": "Anulaciones"
         },
         {
          "Año": 2017,
          "Fecha": "2017-06",
          "Ramo": "Cristales",
          "value": 0,
          "variable": "Anulaciones"
         },
         {
          "Año": 2017,
          "Fecha": "2017-07",
          "Ramo": "Cristales",
          "value": 0,
          "variable": "Anulaciones"
         },
         {
          "Año": 2017,
          "Fecha": "2017-08",
          "Ramo": "Cristales",
          "value": 0,
          "variable": "Anulaciones"
         },
         {
          "Año": 2017,
          "Fecha": "2017-09",
          "Ramo": "Cristales",
          "value": 0,
          "variable": "Anulaciones"
         },
         {
          "Año": 2017,
          "Fecha": "2017-10",
          "Ramo": "Cristales",
          "value": 0,
          "variable": "Anulaciones"
         },
         {
          "Año": 2017,
          "Fecha": "2017-11",
          "Ramo": "Cristales",
          "value": 0,
          "variable": "Anulaciones"
         },
         {
          "Año": 2017,
          "Fecha": "2017-12",
          "Ramo": "Cristales",
          "value": 0,
          "variable": "Anulaciones"
         },
         {
          "Año": 2017,
          "Fecha": "2017-01",
          "Ramo": "Perdida de Beneficio",
          "value": 0,
          "variable": "Anulaciones"
         },
         {
          "Año": 2017,
          "Fecha": "2017-02",
          "Ramo": "Perdida de Beneficio",
          "value": 0,
          "variable": "Anulaciones"
         },
         {
          "Año": 2017,
          "Fecha": "2017-03",
          "Ramo": "Perdida de Beneficio",
          "value": 0,
          "variable": "Anulaciones"
         },
         {
          "Año": 2017,
          "Fecha": "2017-04",
          "Ramo": "Perdida de Beneficio",
          "value": 0,
          "variable": "Anulaciones"
         },
         {
          "Año": 2017,
          "Fecha": "2017-05",
          "Ramo": "Perdida de Beneficio",
          "value": 0,
          "variable": "Anulaciones"
         },
         {
          "Año": 2017,
          "Fecha": "2017-06",
          "Ramo": "Perdida de Beneficio",
          "value": 0,
          "variable": "Anulaciones"
         },
         {
          "Año": 2017,
          "Fecha": "2017-07",
          "Ramo": "Perdida de Beneficio",
          "value": 0,
          "variable": "Anulaciones"
         },
         {
          "Año": 2017,
          "Fecha": "2017-08",
          "Ramo": "Perdida de Beneficio",
          "value": 0,
          "variable": "Anulaciones"
         },
         {
          "Año": 2017,
          "Fecha": "2017-09",
          "Ramo": "Perdida de Beneficio",
          "value": 0,
          "variable": "Anulaciones"
         },
         {
          "Año": 2017,
          "Fecha": "2017-10",
          "Ramo": "Perdida de Beneficio",
          "value": 0,
          "variable": "Anulaciones"
         },
         {
          "Año": 2017,
          "Fecha": "2017-11",
          "Ramo": "Perdida de Beneficio",
          "value": 0,
          "variable": "Anulaciones"
         },
         {
          "Año": 2017,
          "Fecha": "2017-12",
          "Ramo": "Perdida de Beneficio",
          "value": 0,
          "variable": "Anulaciones"
         },
         {
          "Año": 2018,
          "Fecha": "2018-01",
          "Ramo": "Vida individual",
          "value": 20,
          "variable": "Anulaciones"
         },
         {
          "Año": 2018,
          "Fecha": "2018-02",
          "Ramo": "Vida individual",
          "value": 9,
          "variable": "Anulaciones"
         },
         {
          "Año": 2018,
          "Fecha": "2018-03",
          "Ramo": "Vida individual",
          "value": 25,
          "variable": "Anulaciones"
         },
         {
          "Año": 2018,
          "Fecha": "2018-04",
          "Ramo": "Vida individual",
          "value": 26,
          "variable": "Anulaciones"
         },
         {
          "Año": 2018,
          "Fecha": "2018-05",
          "Ramo": "Vida individual",
          "value": 27,
          "variable": "Anulaciones"
         },
         {
          "Año": 2018,
          "Fecha": "2018-06",
          "Ramo": "Vida individual",
          "value": 6,
          "variable": "Anulaciones"
         },
         {
          "Año": 2018,
          "Fecha": "2018-07",
          "Ramo": "Vida individual",
          "value": 12,
          "variable": "Anulaciones"
         },
         {
          "Año": 2018,
          "Fecha": "2018-08",
          "Ramo": "Vida individual",
          "value": 14,
          "variable": "Anulaciones"
         },
         {
          "Año": 2018,
          "Fecha": "2018-09",
          "Ramo": "Vida individual",
          "value": 10,
          "variable": "Anulaciones"
         },
         {
          "Año": 2018,
          "Fecha": "2018-10",
          "Ramo": "Vida individual",
          "value": 9,
          "variable": "Anulaciones"
         },
         {
          "Año": 2018,
          "Fecha": "2018-11",
          "Ramo": "Vida individual",
          "value": 11,
          "variable": "Anulaciones"
         },
         {
          "Año": 2018,
          "Fecha": "2018-12",
          "Ramo": "Vida individual",
          "value": 6,
          "variable": "Anulaciones"
         },
         {
          "Año": 2018,
          "Fecha": "2018-01",
          "Ramo": "Automotores",
          "value": 65,
          "variable": "Anulaciones"
         },
         {
          "Año": 2018,
          "Fecha": "2018-02",
          "Ramo": "Automotores",
          "value": 23,
          "variable": "Anulaciones"
         },
         {
          "Año": 2018,
          "Fecha": "2018-03",
          "Ramo": "Automotores",
          "value": 74,
          "variable": "Anulaciones"
         },
         {
          "Año": 2018,
          "Fecha": "2018-04",
          "Ramo": "Automotores",
          "value": 55,
          "variable": "Anulaciones"
         },
         {
          "Año": 2018,
          "Fecha": "2018-05",
          "Ramo": "Automotores",
          "value": 72,
          "variable": "Anulaciones"
         },
         {
          "Año": 2018,
          "Fecha": "2018-06",
          "Ramo": "Automotores",
          "value": 28,
          "variable": "Anulaciones"
         },
         {
          "Año": 2018,
          "Fecha": "2018-07",
          "Ramo": "Automotores",
          "value": 22,
          "variable": "Anulaciones"
         },
         {
          "Año": 2018,
          "Fecha": "2018-08",
          "Ramo": "Automotores",
          "value": 39,
          "variable": "Anulaciones"
         },
         {
          "Año": 2018,
          "Fecha": "2018-09",
          "Ramo": "Automotores",
          "value": 21,
          "variable": "Anulaciones"
         },
         {
          "Año": 2018,
          "Fecha": "2018-10",
          "Ramo": "Automotores",
          "value": 34,
          "variable": "Anulaciones"
         },
         {
          "Año": 2018,
          "Fecha": "2018-11",
          "Ramo": "Automotores",
          "value": 30,
          "variable": "Anulaciones"
         },
         {
          "Año": 2018,
          "Fecha": "2018-12",
          "Ramo": "Automotores",
          "value": 15,
          "variable": "Anulaciones"
         },
         {
          "Año": 2018,
          "Fecha": "2018-01",
          "Ramo": "Comb.Familiar",
          "value": 6,
          "variable": "Anulaciones"
         },
         {
          "Año": 2018,
          "Fecha": "2018-02",
          "Ramo": "Comb.Familiar",
          "value": 2,
          "variable": "Anulaciones"
         },
         {
          "Año": 2018,
          "Fecha": "2018-03",
          "Ramo": "Comb.Familiar",
          "value": 2,
          "variable": "Anulaciones"
         },
         {
          "Año": 2018,
          "Fecha": "2018-04",
          "Ramo": "Comb.Familiar",
          "value": 6,
          "variable": "Anulaciones"
         },
         {
          "Año": 2018,
          "Fecha": "2018-05",
          "Ramo": "Comb.Familiar",
          "value": 7,
          "variable": "Anulaciones"
         },
         {
          "Año": 2018,
          "Fecha": "2018-06",
          "Ramo": "Comb.Familiar",
          "value": 5,
          "variable": "Anulaciones"
         },
         {
          "Año": 2018,
          "Fecha": "2018-07",
          "Ramo": "Comb.Familiar",
          "value": 1,
          "variable": "Anulaciones"
         },
         {
          "Año": 2018,
          "Fecha": "2018-08",
          "Ramo": "Comb.Familiar",
          "value": 4,
          "variable": "Anulaciones"
         },
         {
          "Año": 2018,
          "Fecha": "2018-09",
          "Ramo": "Comb.Familiar",
          "value": 2,
          "variable": "Anulaciones"
         },
         {
          "Año": 2018,
          "Fecha": "2018-10",
          "Ramo": "Comb.Familiar",
          "value": 2,
          "variable": "Anulaciones"
         },
         {
          "Año": 2018,
          "Fecha": "2018-11",
          "Ramo": "Comb.Familiar",
          "value": 4,
          "variable": "Anulaciones"
         },
         {
          "Año": 2018,
          "Fecha": "2018-12",
          "Ramo": "Comb.Familiar",
          "value": 1,
          "variable": "Anulaciones"
         },
         {
          "Año": 2018,
          "Fecha": "2018-01",
          "Ramo": "Acc.Personales",
          "value": 6,
          "variable": "Anulaciones"
         },
         {
          "Año": 2018,
          "Fecha": "2018-02",
          "Ramo": "Acc.Personales",
          "value": 4,
          "variable": "Anulaciones"
         },
         {
          "Año": 2018,
          "Fecha": "2018-03",
          "Ramo": "Acc.Personales",
          "value": 10,
          "variable": "Anulaciones"
         },
         {
          "Año": 2018,
          "Fecha": "2018-04",
          "Ramo": "Acc.Personales",
          "value": 7,
          "variable": "Anulaciones"
         },
         {
          "Año": 2018,
          "Fecha": "2018-05",
          "Ramo": "Acc.Personales",
          "value": 7,
          "variable": "Anulaciones"
         },
         {
          "Año": 2018,
          "Fecha": "2018-06",
          "Ramo": "Acc.Personales",
          "value": 7,
          "variable": "Anulaciones"
         },
         {
          "Año": 2018,
          "Fecha": "2018-07",
          "Ramo": "Acc.Personales",
          "value": 7,
          "variable": "Anulaciones"
         },
         {
          "Año": 2018,
          "Fecha": "2018-08",
          "Ramo": "Acc.Personales",
          "value": 13,
          "variable": "Anulaciones"
         },
         {
          "Año": 2018,
          "Fecha": "2018-09",
          "Ramo": "Acc.Personales",
          "value": 5,
          "variable": "Anulaciones"
         },
         {
          "Año": 2018,
          "Fecha": "2018-10",
          "Ramo": "Acc.Personales",
          "value": 8,
          "variable": "Anulaciones"
         },
         {
          "Año": 2018,
          "Fecha": "2018-11",
          "Ramo": "Acc.Personales",
          "value": 5,
          "variable": "Anulaciones"
         },
         {
          "Año": 2018,
          "Fecha": "2018-12",
          "Ramo": "Acc.Personales",
          "value": 3,
          "variable": "Anulaciones"
         },
         {
          "Año": 2018,
          "Fecha": "2018-01",
          "Ramo": "Incendio",
          "value": 2,
          "variable": "Anulaciones"
         },
         {
          "Año": 2018,
          "Fecha": "2018-02",
          "Ramo": "Incendio",
          "value": 2,
          "variable": "Anulaciones"
         },
         {
          "Año": 2018,
          "Fecha": "2018-03",
          "Ramo": "Incendio",
          "value": 0,
          "variable": "Anulaciones"
         },
         {
          "Año": 2018,
          "Fecha": "2018-04",
          "Ramo": "Incendio",
          "value": 0,
          "variable": "Anulaciones"
         },
         {
          "Año": 2018,
          "Fecha": "2018-05",
          "Ramo": "Incendio",
          "value": 0,
          "variable": "Anulaciones"
         },
         {
          "Año": 2018,
          "Fecha": "2018-06",
          "Ramo": "Incendio",
          "value": 0,
          "variable": "Anulaciones"
         },
         {
          "Año": 2018,
          "Fecha": "2018-07",
          "Ramo": "Incendio",
          "value": 0,
          "variable": "Anulaciones"
         },
         {
          "Año": 2018,
          "Fecha": "2018-08",
          "Ramo": "Incendio",
          "value": 0,
          "variable": "Anulaciones"
         },
         {
          "Año": 2018,
          "Fecha": "2018-09",
          "Ramo": "Incendio",
          "value": 0,
          "variable": "Anulaciones"
         },
         {
          "Año": 2018,
          "Fecha": "2018-10",
          "Ramo": "Incendio",
          "value": 0,
          "variable": "Anulaciones"
         },
         {
          "Año": 2018,
          "Fecha": "2018-11",
          "Ramo": "Incendio",
          "value": 0,
          "variable": "Anulaciones"
         },
         {
          "Año": 2018,
          "Fecha": "2018-12",
          "Ramo": "Incendio",
          "value": 0,
          "variable": "Anulaciones"
         },
         {
          "Año": 2018,
          "Fecha": "2018-01",
          "Ramo": "Caucion",
          "value": 0,
          "variable": "Anulaciones"
         },
         {
          "Año": 2018,
          "Fecha": "2018-02",
          "Ramo": "Caucion",
          "value": 1,
          "variable": "Anulaciones"
         },
         {
          "Año": 2018,
          "Fecha": "2018-03",
          "Ramo": "Caucion",
          "value": 0,
          "variable": "Anulaciones"
         },
         {
          "Año": 2018,
          "Fecha": "2018-04",
          "Ramo": "Caucion",
          "value": 0,
          "variable": "Anulaciones"
         },
         {
          "Año": 2018,
          "Fecha": "2018-05",
          "Ramo": "Caucion",
          "value": 21,
          "variable": "Anulaciones"
         },
         {
          "Año": 2018,
          "Fecha": "2018-06",
          "Ramo": "Caucion",
          "value": 0,
          "variable": "Anulaciones"
         },
         {
          "Año": 2018,
          "Fecha": "2018-07",
          "Ramo": "Caucion",
          "value": 1,
          "variable": "Anulaciones"
         },
         {
          "Año": 2018,
          "Fecha": "2018-08",
          "Ramo": "Caucion",
          "value": 2,
          "variable": "Anulaciones"
         },
         {
          "Año": 2018,
          "Fecha": "2018-09",
          "Ramo": "Caucion",
          "value": 0,
          "variable": "Anulaciones"
         },
         {
          "Año": 2018,
          "Fecha": "2018-10",
          "Ramo": "Caucion",
          "value": 0,
          "variable": "Anulaciones"
         },
         {
          "Año": 2018,
          "Fecha": "2018-11",
          "Ramo": "Caucion",
          "value": 3,
          "variable": "Anulaciones"
         },
         {
          "Año": 2018,
          "Fecha": "2018-12",
          "Ramo": "Caucion",
          "value": 0,
          "variable": "Anulaciones"
         },
         {
          "Año": 2018,
          "Fecha": "2018-01",
          "Ramo": "Acc. Fliares Transportados",
          "value": 31,
          "variable": "Anulaciones"
         },
         {
          "Año": 2018,
          "Fecha": "2018-02",
          "Ramo": "Acc. Fliares Transportados",
          "value": 4,
          "variable": "Anulaciones"
         },
         {
          "Año": 2018,
          "Fecha": "2018-03",
          "Ramo": "Acc. Fliares Transportados",
          "value": 25,
          "variable": "Anulaciones"
         },
         {
          "Año": 2018,
          "Fecha": "2018-04",
          "Ramo": "Acc. Fliares Transportados",
          "value": 25,
          "variable": "Anulaciones"
         },
         {
          "Año": 2018,
          "Fecha": "2018-05",
          "Ramo": "Acc. Fliares Transportados",
          "value": 19,
          "variable": "Anulaciones"
         },
         {
          "Año": 2018,
          "Fecha": "2018-06",
          "Ramo": "Acc. Fliares Transportados",
          "value": 9,
          "variable": "Anulaciones"
         },
         {
          "Año": 2018,
          "Fecha": "2018-07",
          "Ramo": "Acc. Fliares Transportados",
          "value": 8,
          "variable": "Anulaciones"
         },
         {
          "Año": 2018,
          "Fecha": "2018-08",
          "Ramo": "Acc. Fliares Transportados",
          "value": 5,
          "variable": "Anulaciones"
         },
         {
          "Año": 2018,
          "Fecha": "2018-09",
          "Ramo": "Acc. Fliares Transportados",
          "value": 0,
          "variable": "Anulaciones"
         },
         {
          "Año": 2018,
          "Fecha": "2018-10",
          "Ramo": "Acc. Fliares Transportados",
          "value": 3,
          "variable": "Anulaciones"
         },
         {
          "Año": 2018,
          "Fecha": "2018-11",
          "Ramo": "Acc. Fliares Transportados",
          "value": 3,
          "variable": "Anulaciones"
         },
         {
          "Año": 2018,
          "Fecha": "2018-12",
          "Ramo": "Acc. Fliares Transportados",
          "value": 5,
          "variable": "Anulaciones"
         },
         {
          "Año": 2018,
          "Fecha": "2018-01",
          "Ramo": "Vida Oblig.",
          "value": 7,
          "variable": "Anulaciones"
         },
         {
          "Año": 2018,
          "Fecha": "2018-02",
          "Ramo": "Vida Oblig.",
          "value": 0,
          "variable": "Anulaciones"
         },
         {
          "Año": 2018,
          "Fecha": "2018-03",
          "Ramo": "Vida Oblig.",
          "value": 8,
          "variable": "Anulaciones"
         },
         {
          "Año": 2018,
          "Fecha": "2018-04",
          "Ramo": "Vida Oblig.",
          "value": 0,
          "variable": "Anulaciones"
         },
         {
          "Año": 2018,
          "Fecha": "2018-05",
          "Ramo": "Vida Oblig.",
          "value": 9,
          "variable": "Anulaciones"
         },
         {
          "Año": 2018,
          "Fecha": "2018-06",
          "Ramo": "Vida Oblig.",
          "value": 1,
          "variable": "Anulaciones"
         },
         {
          "Año": 2018,
          "Fecha": "2018-07",
          "Ramo": "Vida Oblig.",
          "value": 3,
          "variable": "Anulaciones"
         },
         {
          "Año": 2018,
          "Fecha": "2018-08",
          "Ramo": "Vida Oblig.",
          "value": 4,
          "variable": "Anulaciones"
         },
         {
          "Año": 2018,
          "Fecha": "2018-09",
          "Ramo": "Vida Oblig.",
          "value": 0,
          "variable": "Anulaciones"
         },
         {
          "Año": 2018,
          "Fecha": "2018-10",
          "Ramo": "Vida Oblig.",
          "value": 1,
          "variable": "Anulaciones"
         },
         {
          "Año": 2018,
          "Fecha": "2018-11",
          "Ramo": "Vida Oblig.",
          "value": 1,
          "variable": "Anulaciones"
         },
         {
          "Año": 2018,
          "Fecha": "2018-12",
          "Ramo": "Vida Oblig.",
          "value": 0,
          "variable": "Anulaciones"
         },
         {
          "Año": 2018,
          "Fecha": "2018-01",
          "Ramo": "A.R.T.",
          "value": 0,
          "variable": "Anulaciones"
         },
         {
          "Año": 2018,
          "Fecha": "2018-02",
          "Ramo": "A.R.T.",
          "value": 0,
          "variable": "Anulaciones"
         },
         {
          "Año": 2018,
          "Fecha": "2018-03",
          "Ramo": "A.R.T.",
          "value": 0,
          "variable": "Anulaciones"
         },
         {
          "Año": 2018,
          "Fecha": "2018-04",
          "Ramo": "A.R.T.",
          "value": 1,
          "variable": "Anulaciones"
         },
         {
          "Año": 2018,
          "Fecha": "2018-05",
          "Ramo": "A.R.T.",
          "value": 0,
          "variable": "Anulaciones"
         },
         {
          "Año": 2018,
          "Fecha": "2018-06",
          "Ramo": "A.R.T.",
          "value": 1,
          "variable": "Anulaciones"
         },
         {
          "Año": 2018,
          "Fecha": "2018-07",
          "Ramo": "A.R.T.",
          "value": 1,
          "variable": "Anulaciones"
         },
         {
          "Año": 2018,
          "Fecha": "2018-08",
          "Ramo": "A.R.T.",
          "value": 1,
          "variable": "Anulaciones"
         },
         {
          "Año": 2018,
          "Fecha": "2018-09",
          "Ramo": "A.R.T.",
          "value": 1,
          "variable": "Anulaciones"
         },
         {
          "Año": 2018,
          "Fecha": "2018-10",
          "Ramo": "A.R.T.",
          "value": 1,
          "variable": "Anulaciones"
         },
         {
          "Año": 2018,
          "Fecha": "2018-11",
          "Ramo": "A.R.T.",
          "value": 1,
          "variable": "Anulaciones"
         },
         {
          "Año": 2018,
          "Fecha": "2018-12",
          "Ramo": "A.R.T.",
          "value": 0,
          "variable": "Anulaciones"
         },
         {
          "Año": 2018,
          "Fecha": "2018-01",
          "Ramo": "Resp.Civil",
          "value": 0,
          "variable": "Anulaciones"
         },
         {
          "Año": 2018,
          "Fecha": "2018-02",
          "Ramo": "Resp.Civil",
          "value": 2,
          "variable": "Anulaciones"
         },
         {
          "Año": 2018,
          "Fecha": "2018-03",
          "Ramo": "Resp.Civil",
          "value": 9,
          "variable": "Anulaciones"
         },
         {
          "Año": 2018,
          "Fecha": "2018-04",
          "Ramo": "Resp.Civil",
          "value": 1,
          "variable": "Anulaciones"
         },
         {
          "Año": 2018,
          "Fecha": "2018-05",
          "Ramo": "Resp.Civil",
          "value": 4,
          "variable": "Anulaciones"
         },
         {
          "Año": 2018,
          "Fecha": "2018-06",
          "Ramo": "Resp.Civil",
          "value": 6,
          "variable": "Anulaciones"
         },
         {
          "Año": 2018,
          "Fecha": "2018-07",
          "Ramo": "Resp.Civil",
          "value": 3,
          "variable": "Anulaciones"
         },
         {
          "Año": 2018,
          "Fecha": "2018-08",
          "Ramo": "Resp.Civil",
          "value": 5,
          "variable": "Anulaciones"
         },
         {
          "Año": 2018,
          "Fecha": "2018-09",
          "Ramo": "Resp.Civil",
          "value": 1,
          "variable": "Anulaciones"
         },
         {
          "Año": 2018,
          "Fecha": "2018-10",
          "Ramo": "Resp.Civil",
          "value": 1,
          "variable": "Anulaciones"
         },
         {
          "Año": 2018,
          "Fecha": "2018-11",
          "Ramo": "Resp.Civil",
          "value": 2,
          "variable": "Anulaciones"
         },
         {
          "Año": 2018,
          "Fecha": "2018-12",
          "Ramo": "Resp.Civil",
          "value": 3,
          "variable": "Anulaciones"
         },
         {
          "Año": 2018,
          "Fecha": "2018-01",
          "Ramo": "Todo Riesgo Operativo",
          "value": 0,
          "variable": "Anulaciones"
         },
         {
          "Año": 2018,
          "Fecha": "2018-02",
          "Ramo": "Todo Riesgo Operativo",
          "value": 0,
          "variable": "Anulaciones"
         },
         {
          "Año": 2018,
          "Fecha": "2018-03",
          "Ramo": "Todo Riesgo Operativo",
          "value": 0,
          "variable": "Anulaciones"
         },
         {
          "Año": 2018,
          "Fecha": "2018-04",
          "Ramo": "Todo Riesgo Operativo",
          "value": 0,
          "variable": "Anulaciones"
         },
         {
          "Año": 2018,
          "Fecha": "2018-05",
          "Ramo": "Todo Riesgo Operativo",
          "value": 0,
          "variable": "Anulaciones"
         },
         {
          "Año": 2018,
          "Fecha": "2018-06",
          "Ramo": "Todo Riesgo Operativo",
          "value": 0,
          "variable": "Anulaciones"
         },
         {
          "Año": 2018,
          "Fecha": "2018-07",
          "Ramo": "Todo Riesgo Operativo",
          "value": 0,
          "variable": "Anulaciones"
         },
         {
          "Año": 2018,
          "Fecha": "2018-08",
          "Ramo": "Todo Riesgo Operativo",
          "value": 1,
          "variable": "Anulaciones"
         },
         {
          "Año": 2018,
          "Fecha": "2018-09",
          "Ramo": "Todo Riesgo Operativo",
          "value": 0,
          "variable": "Anulaciones"
         },
         {
          "Año": 2018,
          "Fecha": "2018-10",
          "Ramo": "Todo Riesgo Operativo",
          "value": 0,
          "variable": "Anulaciones"
         },
         {
          "Año": 2018,
          "Fecha": "2018-11",
          "Ramo": "Todo Riesgo Operativo",
          "value": 0,
          "variable": "Anulaciones"
         },
         {
          "Año": 2018,
          "Fecha": "2018-12",
          "Ramo": "Todo Riesgo Operativo",
          "value": 0,
          "variable": "Anulaciones"
         },
         {
          "Año": 2018,
          "Fecha": "2018-01",
          "Ramo": "Int.de Comer.",
          "value": 5,
          "variable": "Anulaciones"
         },
         {
          "Año": 2018,
          "Fecha": "2018-02",
          "Ramo": "Int.de Comer.",
          "value": 2,
          "variable": "Anulaciones"
         },
         {
          "Año": 2018,
          "Fecha": "2018-03",
          "Ramo": "Int.de Comer.",
          "value": 2,
          "variable": "Anulaciones"
         },
         {
          "Año": 2018,
          "Fecha": "2018-04",
          "Ramo": "Int.de Comer.",
          "value": 2,
          "variable": "Anulaciones"
         },
         {
          "Año": 2018,
          "Fecha": "2018-05",
          "Ramo": "Int.de Comer.",
          "value": 12,
          "variable": "Anulaciones"
         },
         {
          "Año": 2018,
          "Fecha": "2018-06",
          "Ramo": "Int.de Comer.",
          "value": 0,
          "variable": "Anulaciones"
         },
         {
          "Año": 2018,
          "Fecha": "2018-07",
          "Ramo": "Int.de Comer.",
          "value": 1,
          "variable": "Anulaciones"
         },
         {
          "Año": 2018,
          "Fecha": "2018-08",
          "Ramo": "Int.de Comer.",
          "value": 2,
          "variable": "Anulaciones"
         },
         {
          "Año": 2018,
          "Fecha": "2018-09",
          "Ramo": "Int.de Comer.",
          "value": 2,
          "variable": "Anulaciones"
         },
         {
          "Año": 2018,
          "Fecha": "2018-10",
          "Ramo": "Int.de Comer.",
          "value": 2,
          "variable": "Anulaciones"
         },
         {
          "Año": 2018,
          "Fecha": "2018-11",
          "Ramo": "Int.de Comer.",
          "value": 1,
          "variable": "Anulaciones"
         },
         {
          "Año": 2018,
          "Fecha": "2018-12",
          "Ramo": "Int.de Comer.",
          "value": 1,
          "variable": "Anulaciones"
         },
         {
          "Año": 2018,
          "Fecha": "2018-01",
          "Ramo": "Moto - Vehículo",
          "value": 1,
          "variable": "Anulaciones"
         },
         {
          "Año": 2018,
          "Fecha": "2018-02",
          "Ramo": "Moto - Vehículo",
          "value": 1,
          "variable": "Anulaciones"
         },
         {
          "Año": 2018,
          "Fecha": "2018-03",
          "Ramo": "Moto - Vehículo",
          "value": 2,
          "variable": "Anulaciones"
         },
         {
          "Año": 2018,
          "Fecha": "2018-04",
          "Ramo": "Moto - Vehículo",
          "value": 2,
          "variable": "Anulaciones"
         },
         {
          "Año": 2018,
          "Fecha": "2018-05",
          "Ramo": "Moto - Vehículo",
          "value": 2,
          "variable": "Anulaciones"
         },
         {
          "Año": 2018,
          "Fecha": "2018-06",
          "Ramo": "Moto - Vehículo",
          "value": 2,
          "variable": "Anulaciones"
         },
         {
          "Año": 2018,
          "Fecha": "2018-07",
          "Ramo": "Moto - Vehículo",
          "value": 0,
          "variable": "Anulaciones"
         },
         {
          "Año": 2018,
          "Fecha": "2018-08",
          "Ramo": "Moto - Vehículo",
          "value": 0,
          "variable": "Anulaciones"
         },
         {
          "Año": 2018,
          "Fecha": "2018-09",
          "Ramo": "Moto - Vehículo",
          "value": 0,
          "variable": "Anulaciones"
         },
         {
          "Año": 2018,
          "Fecha": "2018-10",
          "Ramo": "Moto - Vehículo",
          "value": 0,
          "variable": "Anulaciones"
         },
         {
          "Año": 2018,
          "Fecha": "2018-11",
          "Ramo": "Moto - Vehículo",
          "value": 0,
          "variable": "Anulaciones"
         },
         {
          "Año": 2018,
          "Fecha": "2018-12",
          "Ramo": "Moto - Vehículo",
          "value": 0,
          "variable": "Anulaciones"
         },
         {
          "Año": 2018,
          "Fecha": "2018-01",
          "Ramo": "Sepelio",
          "value": 0,
          "variable": "Anulaciones"
         },
         {
          "Año": 2018,
          "Fecha": "2018-02",
          "Ramo": "Sepelio",
          "value": 0,
          "variable": "Anulaciones"
         },
         {
          "Año": 2018,
          "Fecha": "2018-03",
          "Ramo": "Sepelio",
          "value": 0,
          "variable": "Anulaciones"
         },
         {
          "Año": 2018,
          "Fecha": "2018-04",
          "Ramo": "Sepelio",
          "value": 0,
          "variable": "Anulaciones"
         },
         {
          "Año": 2018,
          "Fecha": "2018-05",
          "Ramo": "Sepelio",
          "value": 0,
          "variable": "Anulaciones"
         },
         {
          "Año": 2018,
          "Fecha": "2018-06",
          "Ramo": "Sepelio",
          "value": 0,
          "variable": "Anulaciones"
         },
         {
          "Año": 2018,
          "Fecha": "2018-07",
          "Ramo": "Sepelio",
          "value": 0,
          "variable": "Anulaciones"
         },
         {
          "Año": 2018,
          "Fecha": "2018-08",
          "Ramo": "Sepelio",
          "value": 0,
          "variable": "Anulaciones"
         },
         {
          "Año": 2018,
          "Fecha": "2018-09",
          "Ramo": "Sepelio",
          "value": 0,
          "variable": "Anulaciones"
         },
         {
          "Año": 2018,
          "Fecha": "2018-10",
          "Ramo": "Sepelio",
          "value": 0,
          "variable": "Anulaciones"
         },
         {
          "Año": 2018,
          "Fecha": "2018-11",
          "Ramo": "Sepelio",
          "value": 0,
          "variable": "Anulaciones"
         },
         {
          "Año": 2018,
          "Fecha": "2018-12",
          "Ramo": "Sepelio",
          "value": 0,
          "variable": "Anulaciones"
         },
         {
          "Año": 2018,
          "Fecha": "2018-01",
          "Ramo": "Vida Colectivo",
          "value": 6,
          "variable": "Anulaciones"
         },
         {
          "Año": 2018,
          "Fecha": "2018-02",
          "Ramo": "Vida Colectivo",
          "value": 0,
          "variable": "Anulaciones"
         },
         {
          "Año": 2018,
          "Fecha": "2018-03",
          "Ramo": "Vida Colectivo",
          "value": 7,
          "variable": "Anulaciones"
         },
         {
          "Año": 2018,
          "Fecha": "2018-04",
          "Ramo": "Vida Colectivo",
          "value": 1,
          "variable": "Anulaciones"
         },
         {
          "Año": 2018,
          "Fecha": "2018-05",
          "Ramo": "Vida Colectivo",
          "value": 3,
          "variable": "Anulaciones"
         },
         {
          "Año": 2018,
          "Fecha": "2018-06",
          "Ramo": "Vida Colectivo",
          "value": 0,
          "variable": "Anulaciones"
         },
         {
          "Año": 2018,
          "Fecha": "2018-07",
          "Ramo": "Vida Colectivo",
          "value": 0,
          "variable": "Anulaciones"
         },
         {
          "Año": 2018,
          "Fecha": "2018-08",
          "Ramo": "Vida Colectivo",
          "value": 2,
          "variable": "Anulaciones"
         },
         {
          "Año": 2018,
          "Fecha": "2018-09",
          "Ramo": "Vida Colectivo",
          "value": 0,
          "variable": "Anulaciones"
         },
         {
          "Año": 2018,
          "Fecha": "2018-10",
          "Ramo": "Vida Colectivo",
          "value": 1,
          "variable": "Anulaciones"
         },
         {
          "Año": 2018,
          "Fecha": "2018-11",
          "Ramo": "Vida Colectivo",
          "value": 1,
          "variable": "Anulaciones"
         },
         {
          "Año": 2018,
          "Fecha": "2018-12",
          "Ramo": "Vida Colectivo",
          "value": 0,
          "variable": "Anulaciones"
         },
         {
          "Año": 2018,
          "Fecha": "2018-01",
          "Ramo": "Seguro Tecnico",
          "value": 1,
          "variable": "Anulaciones"
         },
         {
          "Año": 2018,
          "Fecha": "2018-02",
          "Ramo": "Seguro Tecnico",
          "value": 0,
          "variable": "Anulaciones"
         },
         {
          "Año": 2018,
          "Fecha": "2018-03",
          "Ramo": "Seguro Tecnico",
          "value": 0,
          "variable": "Anulaciones"
         },
         {
          "Año": 2018,
          "Fecha": "2018-04",
          "Ramo": "Seguro Tecnico",
          "value": 0,
          "variable": "Anulaciones"
         },
         {
          "Año": 2018,
          "Fecha": "2018-05",
          "Ramo": "Seguro Tecnico",
          "value": 1,
          "variable": "Anulaciones"
         },
         {
          "Año": 2018,
          "Fecha": "2018-06",
          "Ramo": "Seguro Tecnico",
          "value": 0,
          "variable": "Anulaciones"
         },
         {
          "Año": 2018,
          "Fecha": "2018-07",
          "Ramo": "Seguro Tecnico",
          "value": 0,
          "variable": "Anulaciones"
         },
         {
          "Año": 2018,
          "Fecha": "2018-08",
          "Ramo": "Seguro Tecnico",
          "value": 0,
          "variable": "Anulaciones"
         },
         {
          "Año": 2018,
          "Fecha": "2018-09",
          "Ramo": "Seguro Tecnico",
          "value": 0,
          "variable": "Anulaciones"
         },
         {
          "Año": 2018,
          "Fecha": "2018-10",
          "Ramo": "Seguro Tecnico",
          "value": 0,
          "variable": "Anulaciones"
         },
         {
          "Año": 2018,
          "Fecha": "2018-11",
          "Ramo": "Seguro Tecnico",
          "value": 0,
          "variable": "Anulaciones"
         },
         {
          "Año": 2018,
          "Fecha": "2018-12",
          "Ramo": "Seguro Tecnico",
          "value": 0,
          "variable": "Anulaciones"
         },
         {
          "Año": 2018,
          "Fecha": "2018-01",
          "Ramo": "Incendio / Int. de Consorcio",
          "value": 0,
          "variable": "Anulaciones"
         },
         {
          "Año": 2018,
          "Fecha": "2018-02",
          "Ramo": "Incendio / Int. de Consorcio",
          "value": 1,
          "variable": "Anulaciones"
         },
         {
          "Año": 2018,
          "Fecha": "2018-03",
          "Ramo": "Incendio / Int. de Consorcio",
          "value": 1,
          "variable": "Anulaciones"
         },
         {
          "Año": 2018,
          "Fecha": "2018-04",
          "Ramo": "Incendio / Int. de Consorcio",
          "value": 0,
          "variable": "Anulaciones"
         },
         {
          "Año": 2018,
          "Fecha": "2018-05",
          "Ramo": "Incendio / Int. de Consorcio",
          "value": 0,
          "variable": "Anulaciones"
         },
         {
          "Año": 2018,
          "Fecha": "2018-06",
          "Ramo": "Incendio / Int. de Consorcio",
          "value": 0,
          "variable": "Anulaciones"
         },
         {
          "Año": 2018,
          "Fecha": "2018-07",
          "Ramo": "Incendio / Int. de Consorcio",
          "value": 1,
          "variable": "Anulaciones"
         },
         {
          "Año": 2018,
          "Fecha": "2018-08",
          "Ramo": "Incendio / Int. de Consorcio",
          "value": 1,
          "variable": "Anulaciones"
         },
         {
          "Año": 2018,
          "Fecha": "2018-09",
          "Ramo": "Incendio / Int. de Consorcio",
          "value": 1,
          "variable": "Anulaciones"
         },
         {
          "Año": 2018,
          "Fecha": "2018-10",
          "Ramo": "Incendio / Int. de Consorcio",
          "value": 5,
          "variable": "Anulaciones"
         },
         {
          "Año": 2018,
          "Fecha": "2018-11",
          "Ramo": "Incendio / Int. de Consorcio",
          "value": 4,
          "variable": "Anulaciones"
         },
         {
          "Año": 2018,
          "Fecha": "2018-12",
          "Ramo": "Incendio / Int. de Consorcio",
          "value": 0,
          "variable": "Anulaciones"
         },
         {
          "Año": 2018,
          "Fecha": "2018-01",
          "Ramo": "Transporte",
          "value": 0,
          "variable": "Anulaciones"
         },
         {
          "Año": 2018,
          "Fecha": "2018-02",
          "Ramo": "Transporte",
          "value": 0,
          "variable": "Anulaciones"
         },
         {
          "Año": 2018,
          "Fecha": "2018-03",
          "Ramo": "Transporte",
          "value": 0,
          "variable": "Anulaciones"
         },
         {
          "Año": 2018,
          "Fecha": "2018-04",
          "Ramo": "Transporte",
          "value": 0,
          "variable": "Anulaciones"
         },
         {
          "Año": 2018,
          "Fecha": "2018-05",
          "Ramo": "Transporte",
          "value": 0,
          "variable": "Anulaciones"
         },
         {
          "Año": 2018,
          "Fecha": "2018-06",
          "Ramo": "Transporte",
          "value": 0,
          "variable": "Anulaciones"
         },
         {
          "Año": 2018,
          "Fecha": "2018-07",
          "Ramo": "Transporte",
          "value": 0,
          "variable": "Anulaciones"
         },
         {
          "Año": 2018,
          "Fecha": "2018-08",
          "Ramo": "Transporte",
          "value": 0,
          "variable": "Anulaciones"
         },
         {
          "Año": 2018,
          "Fecha": "2018-09",
          "Ramo": "Transporte",
          "value": 0,
          "variable": "Anulaciones"
         },
         {
          "Año": 2018,
          "Fecha": "2018-10",
          "Ramo": "Transporte",
          "value": 0,
          "variable": "Anulaciones"
         },
         {
          "Año": 2018,
          "Fecha": "2018-11",
          "Ramo": "Transporte",
          "value": 0,
          "variable": "Anulaciones"
         },
         {
          "Año": 2018,
          "Fecha": "2018-12",
          "Ramo": "Transporte",
          "value": 0,
          "variable": "Anulaciones"
         },
         {
          "Año": 2018,
          "Fecha": "2018-01",
          "Ramo": "Vida Cont.Trab.",
          "value": 0,
          "variable": "Anulaciones"
         },
         {
          "Año": 2018,
          "Fecha": "2018-02",
          "Ramo": "Vida Cont.Trab.",
          "value": 0,
          "variable": "Anulaciones"
         },
         {
          "Año": 2018,
          "Fecha": "2018-03",
          "Ramo": "Vida Cont.Trab.",
          "value": 2,
          "variable": "Anulaciones"
         },
         {
          "Año": 2018,
          "Fecha": "2018-04",
          "Ramo": "Vida Cont.Trab.",
          "value": 0,
          "variable": "Anulaciones"
         },
         {
          "Año": 2018,
          "Fecha": "2018-05",
          "Ramo": "Vida Cont.Trab.",
          "value": 0,
          "variable": "Anulaciones"
         },
         {
          "Año": 2018,
          "Fecha": "2018-06",
          "Ramo": "Vida Cont.Trab.",
          "value": 0,
          "variable": "Anulaciones"
         },
         {
          "Año": 2018,
          "Fecha": "2018-07",
          "Ramo": "Vida Cont.Trab.",
          "value": 0,
          "variable": "Anulaciones"
         },
         {
          "Año": 2018,
          "Fecha": "2018-08",
          "Ramo": "Vida Cont.Trab.",
          "value": 0,
          "variable": "Anulaciones"
         },
         {
          "Año": 2018,
          "Fecha": "2018-09",
          "Ramo": "Vida Cont.Trab.",
          "value": 0,
          "variable": "Anulaciones"
         },
         {
          "Año": 2018,
          "Fecha": "2018-10",
          "Ramo": "Vida Cont.Trab.",
          "value": 0,
          "variable": "Anulaciones"
         },
         {
          "Año": 2018,
          "Fecha": "2018-11",
          "Ramo": "Vida Cont.Trab.",
          "value": 0,
          "variable": "Anulaciones"
         },
         {
          "Año": 2018,
          "Fecha": "2018-12",
          "Ramo": "Vida Cont.Trab.",
          "value": 0,
          "variable": "Anulaciones"
         },
         {
          "Año": 2018,
          "Fecha": "2018-01",
          "Ramo": "Robo",
          "value": 0,
          "variable": "Anulaciones"
         },
         {
          "Año": 2018,
          "Fecha": "2018-02",
          "Ramo": "Robo",
          "value": 1,
          "variable": "Anulaciones"
         },
         {
          "Año": 2018,
          "Fecha": "2018-03",
          "Ramo": "Robo",
          "value": 1,
          "variable": "Anulaciones"
         },
         {
          "Año": 2018,
          "Fecha": "2018-04",
          "Ramo": "Robo",
          "value": 1,
          "variable": "Anulaciones"
         },
         {
          "Año": 2018,
          "Fecha": "2018-05",
          "Ramo": "Robo",
          "value": 0,
          "variable": "Anulaciones"
         },
         {
          "Año": 2018,
          "Fecha": "2018-06",
          "Ramo": "Robo",
          "value": 0,
          "variable": "Anulaciones"
         },
         {
          "Año": 2018,
          "Fecha": "2018-07",
          "Ramo": "Robo",
          "value": 0,
          "variable": "Anulaciones"
         },
         {
          "Año": 2018,
          "Fecha": "2018-08",
          "Ramo": "Robo",
          "value": 0,
          "variable": "Anulaciones"
         },
         {
          "Año": 2018,
          "Fecha": "2018-09",
          "Ramo": "Robo",
          "value": 1,
          "variable": "Anulaciones"
         },
         {
          "Año": 2018,
          "Fecha": "2018-10",
          "Ramo": "Robo",
          "value": 0,
          "variable": "Anulaciones"
         },
         {
          "Año": 2018,
          "Fecha": "2018-11",
          "Ramo": "Robo",
          "value": 0,
          "variable": "Anulaciones"
         },
         {
          "Año": 2018,
          "Fecha": "2018-12",
          "Ramo": "Robo",
          "value": 0,
          "variable": "Anulaciones"
         },
         {
          "Año": 2018,
          "Fecha": "2018-01",
          "Ramo": "Salud",
          "value": 1,
          "variable": "Anulaciones"
         },
         {
          "Año": 2018,
          "Fecha": "2018-02",
          "Ramo": "Salud",
          "value": 0,
          "variable": "Anulaciones"
         },
         {
          "Año": 2018,
          "Fecha": "2018-03",
          "Ramo": "Salud",
          "value": 0,
          "variable": "Anulaciones"
         },
         {
          "Año": 2018,
          "Fecha": "2018-04",
          "Ramo": "Salud",
          "value": 0,
          "variable": "Anulaciones"
         },
         {
          "Año": 2018,
          "Fecha": "2018-05",
          "Ramo": "Salud",
          "value": 1,
          "variable": "Anulaciones"
         },
         {
          "Año": 2018,
          "Fecha": "2018-06",
          "Ramo": "Salud",
          "value": 0,
          "variable": "Anulaciones"
         },
         {
          "Año": 2018,
          "Fecha": "2018-07",
          "Ramo": "Salud",
          "value": 0,
          "variable": "Anulaciones"
         },
         {
          "Año": 2018,
          "Fecha": "2018-08",
          "Ramo": "Salud",
          "value": 0,
          "variable": "Anulaciones"
         },
         {
          "Año": 2018,
          "Fecha": "2018-09",
          "Ramo": "Salud",
          "value": 1,
          "variable": "Anulaciones"
         },
         {
          "Año": 2018,
          "Fecha": "2018-10",
          "Ramo": "Salud",
          "value": 1,
          "variable": "Anulaciones"
         },
         {
          "Año": 2018,
          "Fecha": "2018-11",
          "Ramo": "Salud",
          "value": 2,
          "variable": "Anulaciones"
         },
         {
          "Año": 2018,
          "Fecha": "2018-12",
          "Ramo": "Salud",
          "value": 0,
          "variable": "Anulaciones"
         },
         {
          "Año": 2018,
          "Fecha": "2018-01",
          "Ramo": "Acc.Pers.Auton.",
          "value": 1,
          "variable": "Anulaciones"
         },
         {
          "Año": 2018,
          "Fecha": "2018-02",
          "Ramo": "Acc.Pers.Auton.",
          "value": 0,
          "variable": "Anulaciones"
         },
         {
          "Año": 2018,
          "Fecha": "2018-03",
          "Ramo": "Acc.Pers.Auton.",
          "value": 0,
          "variable": "Anulaciones"
         },
         {
          "Año": 2018,
          "Fecha": "2018-04",
          "Ramo": "Acc.Pers.Auton.",
          "value": 1,
          "variable": "Anulaciones"
         },
         {
          "Año": 2018,
          "Fecha": "2018-05",
          "Ramo": "Acc.Pers.Auton.",
          "value": 0,
          "variable": "Anulaciones"
         },
         {
          "Año": 2018,
          "Fecha": "2018-06",
          "Ramo": "Acc.Pers.Auton.",
          "value": 0,
          "variable": "Anulaciones"
         },
         {
          "Año": 2018,
          "Fecha": "2018-07",
          "Ramo": "Acc.Pers.Auton.",
          "value": 0,
          "variable": "Anulaciones"
         },
         {
          "Año": 2018,
          "Fecha": "2018-08",
          "Ramo": "Acc.Pers.Auton.",
          "value": 1,
          "variable": "Anulaciones"
         },
         {
          "Año": 2018,
          "Fecha": "2018-09",
          "Ramo": "Acc.Pers.Auton.",
          "value": 0,
          "variable": "Anulaciones"
         },
         {
          "Año": 2018,
          "Fecha": "2018-10",
          "Ramo": "Acc.Pers.Auton.",
          "value": 0,
          "variable": "Anulaciones"
         },
         {
          "Año": 2018,
          "Fecha": "2018-11",
          "Ramo": "Acc.Pers.Auton.",
          "value": 1,
          "variable": "Anulaciones"
         },
         {
          "Año": 2018,
          "Fecha": "2018-12",
          "Ramo": "Acc.Pers.Auton.",
          "value": 0,
          "variable": "Anulaciones"
         },
         {
          "Año": 2018,
          "Fecha": "2018-01",
          "Ramo": "Cascos",
          "value": 0,
          "variable": "Anulaciones"
         },
         {
          "Año": 2018,
          "Fecha": "2018-02",
          "Ramo": "Cascos",
          "value": 0,
          "variable": "Anulaciones"
         },
         {
          "Año": 2018,
          "Fecha": "2018-03",
          "Ramo": "Cascos",
          "value": 0,
          "variable": "Anulaciones"
         },
         {
          "Año": 2018,
          "Fecha": "2018-04",
          "Ramo": "Cascos",
          "value": 0,
          "variable": "Anulaciones"
         },
         {
          "Año": 2018,
          "Fecha": "2018-05",
          "Ramo": "Cascos",
          "value": 0,
          "variable": "Anulaciones"
         },
         {
          "Año": 2018,
          "Fecha": "2018-06",
          "Ramo": "Cascos",
          "value": 0,
          "variable": "Anulaciones"
         },
         {
          "Año": 2018,
          "Fecha": "2018-07",
          "Ramo": "Cascos",
          "value": 0,
          "variable": "Anulaciones"
         },
         {
          "Año": 2018,
          "Fecha": "2018-08",
          "Ramo": "Cascos",
          "value": 0,
          "variable": "Anulaciones"
         },
         {
          "Año": 2018,
          "Fecha": "2018-09",
          "Ramo": "Cascos",
          "value": 0,
          "variable": "Anulaciones"
         },
         {
          "Año": 2018,
          "Fecha": "2018-10",
          "Ramo": "Cascos",
          "value": 1,
          "variable": "Anulaciones"
         },
         {
          "Año": 2018,
          "Fecha": "2018-11",
          "Ramo": "Cascos",
          "value": 0,
          "variable": "Anulaciones"
         },
         {
          "Año": 2018,
          "Fecha": "2018-12",
          "Ramo": "Cascos",
          "value": 0,
          "variable": "Anulaciones"
         },
         {
          "Año": 2018,
          "Fecha": "2018-01",
          "Ramo": "Int.Consorcio",
          "value": 1,
          "variable": "Anulaciones"
         },
         {
          "Año": 2018,
          "Fecha": "2018-02",
          "Ramo": "Int.Consorcio",
          "value": 0,
          "variable": "Anulaciones"
         },
         {
          "Año": 2018,
          "Fecha": "2018-03",
          "Ramo": "Int.Consorcio",
          "value": 0,
          "variable": "Anulaciones"
         },
         {
          "Año": 2018,
          "Fecha": "2018-04",
          "Ramo": "Int.Consorcio",
          "value": 0,
          "variable": "Anulaciones"
         },
         {
          "Año": 2018,
          "Fecha": "2018-05",
          "Ramo": "Int.Consorcio",
          "value": 0,
          "variable": "Anulaciones"
         },
         {
          "Año": 2018,
          "Fecha": "2018-06",
          "Ramo": "Int.Consorcio",
          "value": 0,
          "variable": "Anulaciones"
         },
         {
          "Año": 2018,
          "Fecha": "2018-07",
          "Ramo": "Int.Consorcio",
          "value": 0,
          "variable": "Anulaciones"
         },
         {
          "Año": 2018,
          "Fecha": "2018-08",
          "Ramo": "Int.Consorcio",
          "value": 1,
          "variable": "Anulaciones"
         },
         {
          "Año": 2018,
          "Fecha": "2018-09",
          "Ramo": "Int.Consorcio",
          "value": 0,
          "variable": "Anulaciones"
         },
         {
          "Año": 2018,
          "Fecha": "2018-10",
          "Ramo": "Int.Consorcio",
          "value": 0,
          "variable": "Anulaciones"
         },
         {
          "Año": 2018,
          "Fecha": "2018-11",
          "Ramo": "Int.Consorcio",
          "value": 0,
          "variable": "Anulaciones"
         },
         {
          "Año": 2018,
          "Fecha": "2018-12",
          "Ramo": "Int.Consorcio",
          "value": 0,
          "variable": "Anulaciones"
         },
         {
          "Año": 2018,
          "Fecha": "2018-01",
          "Ramo": "Riesgos Varios",
          "value": 3,
          "variable": "Anulaciones"
         },
         {
          "Año": 2018,
          "Fecha": "2018-02",
          "Ramo": "Riesgos Varios",
          "value": 6,
          "variable": "Anulaciones"
         },
         {
          "Año": 2018,
          "Fecha": "2018-03",
          "Ramo": "Riesgos Varios",
          "value": 4,
          "variable": "Anulaciones"
         },
         {
          "Año": 2018,
          "Fecha": "2018-04",
          "Ramo": "Riesgos Varios",
          "value": 4,
          "variable": "Anulaciones"
         },
         {
          "Año": 2018,
          "Fecha": "2018-05",
          "Ramo": "Riesgos Varios",
          "value": 11,
          "variable": "Anulaciones"
         },
         {
          "Año": 2018,
          "Fecha": "2018-06",
          "Ramo": "Riesgos Varios",
          "value": 7,
          "variable": "Anulaciones"
         },
         {
          "Año": 2018,
          "Fecha": "2018-07",
          "Ramo": "Riesgos Varios",
          "value": 3,
          "variable": "Anulaciones"
         },
         {
          "Año": 2018,
          "Fecha": "2018-08",
          "Ramo": "Riesgos Varios",
          "value": 10,
          "variable": "Anulaciones"
         },
         {
          "Año": 2018,
          "Fecha": "2018-09",
          "Ramo": "Riesgos Varios",
          "value": 7,
          "variable": "Anulaciones"
         },
         {
          "Año": 2018,
          "Fecha": "2018-10",
          "Ramo": "Riesgos Varios",
          "value": 4,
          "variable": "Anulaciones"
         },
         {
          "Año": 2018,
          "Fecha": "2018-11",
          "Ramo": "Riesgos Varios",
          "value": 5,
          "variable": "Anulaciones"
         },
         {
          "Año": 2018,
          "Fecha": "2018-12",
          "Ramo": "Riesgos Varios",
          "value": 2,
          "variable": "Anulaciones"
         },
         {
          "Año": 2018,
          "Fecha": "2018-01",
          "Ramo": "Cristales",
          "value": 0,
          "variable": "Anulaciones"
         },
         {
          "Año": 2018,
          "Fecha": "2018-02",
          "Ramo": "Cristales",
          "value": 0,
          "variable": "Anulaciones"
         },
         {
          "Año": 2018,
          "Fecha": "2018-03",
          "Ramo": "Cristales",
          "value": 0,
          "variable": "Anulaciones"
         },
         {
          "Año": 2018,
          "Fecha": "2018-04",
          "Ramo": "Cristales",
          "value": 0,
          "variable": "Anulaciones"
         },
         {
          "Año": 2018,
          "Fecha": "2018-05",
          "Ramo": "Cristales",
          "value": 0,
          "variable": "Anulaciones"
         },
         {
          "Año": 2018,
          "Fecha": "2018-06",
          "Ramo": "Cristales",
          "value": 0,
          "variable": "Anulaciones"
         },
         {
          "Año": 2018,
          "Fecha": "2018-07",
          "Ramo": "Cristales",
          "value": 0,
          "variable": "Anulaciones"
         },
         {
          "Año": 2018,
          "Fecha": "2018-08",
          "Ramo": "Cristales",
          "value": 0,
          "variable": "Anulaciones"
         },
         {
          "Año": 2018,
          "Fecha": "2018-09",
          "Ramo": "Cristales",
          "value": 0,
          "variable": "Anulaciones"
         },
         {
          "Año": 2018,
          "Fecha": "2018-10",
          "Ramo": "Cristales",
          "value": 0,
          "variable": "Anulaciones"
         },
         {
          "Año": 2018,
          "Fecha": "2018-11",
          "Ramo": "Cristales",
          "value": 0,
          "variable": "Anulaciones"
         },
         {
          "Año": 2018,
          "Fecha": "2018-12",
          "Ramo": "Cristales",
          "value": 0,
          "variable": "Anulaciones"
         },
         {
          "Año": 2018,
          "Fecha": "2018-01",
          "Ramo": "Perdida de Beneficio",
          "value": 0,
          "variable": "Anulaciones"
         },
         {
          "Año": 2018,
          "Fecha": "2018-02",
          "Ramo": "Perdida de Beneficio",
          "value": 0,
          "variable": "Anulaciones"
         },
         {
          "Año": 2018,
          "Fecha": "2018-03",
          "Ramo": "Perdida de Beneficio",
          "value": 0,
          "variable": "Anulaciones"
         },
         {
          "Año": 2018,
          "Fecha": "2018-04",
          "Ramo": "Perdida de Beneficio",
          "value": 0,
          "variable": "Anulaciones"
         },
         {
          "Año": 2018,
          "Fecha": "2018-05",
          "Ramo": "Perdida de Beneficio",
          "value": 0,
          "variable": "Anulaciones"
         },
         {
          "Año": 2018,
          "Fecha": "2018-06",
          "Ramo": "Perdida de Beneficio",
          "value": 0,
          "variable": "Anulaciones"
         },
         {
          "Año": 2018,
          "Fecha": "2018-07",
          "Ramo": "Perdida de Beneficio",
          "value": 0,
          "variable": "Anulaciones"
         },
         {
          "Año": 2018,
          "Fecha": "2018-08",
          "Ramo": "Perdida de Beneficio",
          "value": 0,
          "variable": "Anulaciones"
         },
         {
          "Año": 2018,
          "Fecha": "2018-09",
          "Ramo": "Perdida de Beneficio",
          "value": 0,
          "variable": "Anulaciones"
         },
         {
          "Año": 2018,
          "Fecha": "2018-10",
          "Ramo": "Perdida de Beneficio",
          "value": 0,
          "variable": "Anulaciones"
         },
         {
          "Año": 2018,
          "Fecha": "2018-11",
          "Ramo": "Perdida de Beneficio",
          "value": 0,
          "variable": "Anulaciones"
         },
         {
          "Año": 2018,
          "Fecha": "2018-12",
          "Ramo": "Perdida de Beneficio",
          "value": 0,
          "variable": "Anulaciones"
         },
         {
          "Año": 2016,
          "Fecha": "2016-01",
          "Ramo": "Vida individual",
          "value": 0,
          "variable": "Otros_Endosos"
         },
         {
          "Año": 2016,
          "Fecha": "2016-02",
          "Ramo": "Vida individual",
          "value": 0,
          "variable": "Otros_Endosos"
         },
         {
          "Año": 2016,
          "Fecha": "2016-03",
          "Ramo": "Vida individual",
          "value": 1,
          "variable": "Otros_Endosos"
         },
         {
          "Año": 2016,
          "Fecha": "2016-04",
          "Ramo": "Vida individual",
          "value": 1,
          "variable": "Otros_Endosos"
         },
         {
          "Año": 2016,
          "Fecha": "2016-05",
          "Ramo": "Vida individual",
          "value": 1,
          "variable": "Otros_Endosos"
         },
         {
          "Año": 2016,
          "Fecha": "2016-06",
          "Ramo": "Vida individual",
          "value": 0,
          "variable": "Otros_Endosos"
         },
         {
          "Año": 2016,
          "Fecha": "2016-07",
          "Ramo": "Vida individual",
          "value": 1,
          "variable": "Otros_Endosos"
         },
         {
          "Año": 2016,
          "Fecha": "2016-08",
          "Ramo": "Vida individual",
          "value": 0,
          "variable": "Otros_Endosos"
         },
         {
          "Año": 2016,
          "Fecha": "2016-09",
          "Ramo": "Vida individual",
          "value": 0,
          "variable": "Otros_Endosos"
         },
         {
          "Año": 2016,
          "Fecha": "2016-10",
          "Ramo": "Vida individual",
          "value": 4,
          "variable": "Otros_Endosos"
         },
         {
          "Año": 2016,
          "Fecha": "2016-11",
          "Ramo": "Vida individual",
          "value": 0,
          "variable": "Otros_Endosos"
         },
         {
          "Año": 2016,
          "Fecha": "2016-12",
          "Ramo": "Vida individual",
          "value": 1,
          "variable": "Otros_Endosos"
         },
         {
          "Año": 2016,
          "Fecha": "2016-01",
          "Ramo": "Automotores",
          "value": 72,
          "variable": "Otros_Endosos"
         },
         {
          "Año": 2016,
          "Fecha": "2016-02",
          "Ramo": "Automotores",
          "value": 80,
          "variable": "Otros_Endosos"
         },
         {
          "Año": 2016,
          "Fecha": "2016-03",
          "Ramo": "Automotores",
          "value": 66,
          "variable": "Otros_Endosos"
         },
         {
          "Año": 2016,
          "Fecha": "2016-04",
          "Ramo": "Automotores",
          "value": 68,
          "variable": "Otros_Endosos"
         },
         {
          "Año": 2016,
          "Fecha": "2016-05",
          "Ramo": "Automotores",
          "value": 67,
          "variable": "Otros_Endosos"
         },
         {
          "Año": 2016,
          "Fecha": "2016-06",
          "Ramo": "Automotores",
          "value": 64,
          "variable": "Otros_Endosos"
         },
         {
          "Año": 2016,
          "Fecha": "2016-07",
          "Ramo": "Automotores",
          "value": 56,
          "variable": "Otros_Endosos"
         },
         {
          "Año": 2016,
          "Fecha": "2016-08",
          "Ramo": "Automotores",
          "value": 35,
          "variable": "Otros_Endosos"
         },
         {
          "Año": 2016,
          "Fecha": "2016-09",
          "Ramo": "Automotores",
          "value": 65,
          "variable": "Otros_Endosos"
         },
         {
          "Año": 2016,
          "Fecha": "2016-10",
          "Ramo": "Automotores",
          "value": 29,
          "variable": "Otros_Endosos"
         },
         {
          "Año": 2016,
          "Fecha": "2016-11",
          "Ramo": "Automotores",
          "value": 20,
          "variable": "Otros_Endosos"
         },
         {
          "Año": 2016,
          "Fecha": "2016-12",
          "Ramo": "Automotores",
          "value": 43,
          "variable": "Otros_Endosos"
         },
         {
          "Año": 2016,
          "Fecha": "2016-01",
          "Ramo": "Comb.Familiar",
          "value": 11,
          "variable": "Otros_Endosos"
         },
         {
          "Año": 2016,
          "Fecha": "2016-02",
          "Ramo": "Comb.Familiar",
          "value": 3,
          "variable": "Otros_Endosos"
         },
         {
          "Año": 2016,
          "Fecha": "2016-03",
          "Ramo": "Comb.Familiar",
          "value": 4,
          "variable": "Otros_Endosos"
         },
         {
          "Año": 2016,
          "Fecha": "2016-04",
          "Ramo": "Comb.Familiar",
          "value": 5,
          "variable": "Otros_Endosos"
         },
         {
          "Año": 2016,
          "Fecha": "2016-05",
          "Ramo": "Comb.Familiar",
          "value": 5,
          "variable": "Otros_Endosos"
         },
         {
          "Año": 2016,
          "Fecha": "2016-06",
          "Ramo": "Comb.Familiar",
          "value": 4,
          "variable": "Otros_Endosos"
         },
         {
          "Año": 2016,
          "Fecha": "2016-07",
          "Ramo": "Comb.Familiar",
          "value": 2,
          "variable": "Otros_Endosos"
         },
         {
          "Año": 2016,
          "Fecha": "2016-08",
          "Ramo": "Comb.Familiar",
          "value": 6,
          "variable": "Otros_Endosos"
         },
         {
          "Año": 2016,
          "Fecha": "2016-09",
          "Ramo": "Comb.Familiar",
          "value": 9,
          "variable": "Otros_Endosos"
         },
         {
          "Año": 2016,
          "Fecha": "2016-10",
          "Ramo": "Comb.Familiar",
          "value": 2,
          "variable": "Otros_Endosos"
         },
         {
          "Año": 2016,
          "Fecha": "2016-11",
          "Ramo": "Comb.Familiar",
          "value": 2,
          "variable": "Otros_Endosos"
         },
         {
          "Año": 2016,
          "Fecha": "2016-12",
          "Ramo": "Comb.Familiar",
          "value": 9,
          "variable": "Otros_Endosos"
         },
         {
          "Año": 2016,
          "Fecha": "2016-01",
          "Ramo": "Acc.Personales",
          "value": 7,
          "variable": "Otros_Endosos"
         },
         {
          "Año": 2016,
          "Fecha": "2016-02",
          "Ramo": "Acc.Personales",
          "value": 5,
          "variable": "Otros_Endosos"
         },
         {
          "Año": 2016,
          "Fecha": "2016-03",
          "Ramo": "Acc.Personales",
          "value": 9,
          "variable": "Otros_Endosos"
         },
         {
          "Año": 2016,
          "Fecha": "2016-04",
          "Ramo": "Acc.Personales",
          "value": 6,
          "variable": "Otros_Endosos"
         },
         {
          "Año": 2016,
          "Fecha": "2016-05",
          "Ramo": "Acc.Personales",
          "value": 4,
          "variable": "Otros_Endosos"
         },
         {
          "Año": 2016,
          "Fecha": "2016-06",
          "Ramo": "Acc.Personales",
          "value": 4,
          "variable": "Otros_Endosos"
         },
         {
          "Año": 2016,
          "Fecha": "2016-07",
          "Ramo": "Acc.Personales",
          "value": 10,
          "variable": "Otros_Endosos"
         },
         {
          "Año": 2016,
          "Fecha": "2016-08",
          "Ramo": "Acc.Personales",
          "value": 16,
          "variable": "Otros_Endosos"
         },
         {
          "Año": 2016,
          "Fecha": "2016-09",
          "Ramo": "Acc.Personales",
          "value": 10,
          "variable": "Otros_Endosos"
         },
         {
          "Año": 2016,
          "Fecha": "2016-10",
          "Ramo": "Acc.Personales",
          "value": 13,
          "variable": "Otros_Endosos"
         },
         {
          "Año": 2016,
          "Fecha": "2016-11",
          "Ramo": "Acc.Personales",
          "value": 16,
          "variable": "Otros_Endosos"
         },
         {
          "Año": 2016,
          "Fecha": "2016-12",
          "Ramo": "Acc.Personales",
          "value": 10,
          "variable": "Otros_Endosos"
         },
         {
          "Año": 2016,
          "Fecha": "2016-01",
          "Ramo": "Incendio",
          "value": 2,
          "variable": "Otros_Endosos"
         },
         {
          "Año": 2016,
          "Fecha": "2016-02",
          "Ramo": "Incendio",
          "value": 0,
          "variable": "Otros_Endosos"
         },
         {
          "Año": 2016,
          "Fecha": "2016-03",
          "Ramo": "Incendio",
          "value": 0,
          "variable": "Otros_Endosos"
         },
         {
          "Año": 2016,
          "Fecha": "2016-04",
          "Ramo": "Incendio",
          "value": 0,
          "variable": "Otros_Endosos"
         },
         {
          "Año": 2016,
          "Fecha": "2016-05",
          "Ramo": "Incendio",
          "value": 0,
          "variable": "Otros_Endosos"
         },
         {
          "Año": 2016,
          "Fecha": "2016-06",
          "Ramo": "Incendio",
          "value": 0,
          "variable": "Otros_Endosos"
         },
         {
          "Año": 2016,
          "Fecha": "2016-07",
          "Ramo": "Incendio",
          "value": 0,
          "variable": "Otros_Endosos"
         },
         {
          "Año": 2016,
          "Fecha": "2016-08",
          "Ramo": "Incendio",
          "value": 0,
          "variable": "Otros_Endosos"
         },
         {
          "Año": 2016,
          "Fecha": "2016-09",
          "Ramo": "Incendio",
          "value": 0,
          "variable": "Otros_Endosos"
         },
         {
          "Año": 2016,
          "Fecha": "2016-10",
          "Ramo": "Incendio",
          "value": 0,
          "variable": "Otros_Endosos"
         },
         {
          "Año": 2016,
          "Fecha": "2016-11",
          "Ramo": "Incendio",
          "value": 0,
          "variable": "Otros_Endosos"
         },
         {
          "Año": 2016,
          "Fecha": "2016-12",
          "Ramo": "Incendio",
          "value": 0,
          "variable": "Otros_Endosos"
         },
         {
          "Año": 2016,
          "Fecha": "2016-01",
          "Ramo": "Caucion",
          "value": 0,
          "variable": "Otros_Endosos"
         },
         {
          "Año": 2016,
          "Fecha": "2016-02",
          "Ramo": "Caucion",
          "value": 0,
          "variable": "Otros_Endosos"
         },
         {
          "Año": 2016,
          "Fecha": "2016-03",
          "Ramo": "Caucion",
          "value": 2,
          "variable": "Otros_Endosos"
         },
         {
          "Año": 2016,
          "Fecha": "2016-04",
          "Ramo": "Caucion",
          "value": 0,
          "variable": "Otros_Endosos"
         },
         {
          "Año": 2016,
          "Fecha": "2016-05",
          "Ramo": "Caucion",
          "value": 0,
          "variable": "Otros_Endosos"
         },
         {
          "Año": 2016,
          "Fecha": "2016-06",
          "Ramo": "Caucion",
          "value": 0,
          "variable": "Otros_Endosos"
         },
         {
          "Año": 2016,
          "Fecha": "2016-07",
          "Ramo": "Caucion",
          "value": 0,
          "variable": "Otros_Endosos"
         },
         {
          "Año": 2016,
          "Fecha": "2016-08",
          "Ramo": "Caucion",
          "value": 0,
          "variable": "Otros_Endosos"
         },
         {
          "Año": 2016,
          "Fecha": "2016-09",
          "Ramo": "Caucion",
          "value": 0,
          "variable": "Otros_Endosos"
         },
         {
          "Año": 2016,
          "Fecha": "2016-10",
          "Ramo": "Caucion",
          "value": 0,
          "variable": "Otros_Endosos"
         },
         {
          "Año": 2016,
          "Fecha": "2016-11",
          "Ramo": "Caucion",
          "value": 0,
          "variable": "Otros_Endosos"
         },
         {
          "Año": 2016,
          "Fecha": "2016-12",
          "Ramo": "Caucion",
          "value": 0,
          "variable": "Otros_Endosos"
         },
         {
          "Año": 2016,
          "Fecha": "2016-01",
          "Ramo": "Acc. Fliares Transportados",
          "value": 0,
          "variable": "Otros_Endosos"
         },
         {
          "Año": 2016,
          "Fecha": "2016-02",
          "Ramo": "Acc. Fliares Transportados",
          "value": 0,
          "variable": "Otros_Endosos"
         },
         {
          "Año": 2016,
          "Fecha": "2016-03",
          "Ramo": "Acc. Fliares Transportados",
          "value": 0,
          "variable": "Otros_Endosos"
         },
         {
          "Año": 2016,
          "Fecha": "2016-04",
          "Ramo": "Acc. Fliares Transportados",
          "value": 0,
          "variable": "Otros_Endosos"
         },
         {
          "Año": 2016,
          "Fecha": "2016-05",
          "Ramo": "Acc. Fliares Transportados",
          "value": 0,
          "variable": "Otros_Endosos"
         },
         {
          "Año": 2016,
          "Fecha": "2016-06",
          "Ramo": "Acc. Fliares Transportados",
          "value": 0,
          "variable": "Otros_Endosos"
         },
         {
          "Año": 2016,
          "Fecha": "2016-07",
          "Ramo": "Acc. Fliares Transportados",
          "value": 0,
          "variable": "Otros_Endosos"
         },
         {
          "Año": 2016,
          "Fecha": "2016-08",
          "Ramo": "Acc. Fliares Transportados",
          "value": 0,
          "variable": "Otros_Endosos"
         },
         {
          "Año": 2016,
          "Fecha": "2016-09",
          "Ramo": "Acc. Fliares Transportados",
          "value": 0,
          "variable": "Otros_Endosos"
         },
         {
          "Año": 2016,
          "Fecha": "2016-10",
          "Ramo": "Acc. Fliares Transportados",
          "value": 0,
          "variable": "Otros_Endosos"
         },
         {
          "Año": 2016,
          "Fecha": "2016-11",
          "Ramo": "Acc. Fliares Transportados",
          "value": 0,
          "variable": "Otros_Endosos"
         },
         {
          "Año": 2016,
          "Fecha": "2016-12",
          "Ramo": "Acc. Fliares Transportados",
          "value": 0,
          "variable": "Otros_Endosos"
         },
         {
          "Año": 2016,
          "Fecha": "2016-01",
          "Ramo": "Vida Oblig.",
          "value": 0,
          "variable": "Otros_Endosos"
         },
         {
          "Año": 2016,
          "Fecha": "2016-02",
          "Ramo": "Vida Oblig.",
          "value": 0,
          "variable": "Otros_Endosos"
         },
         {
          "Año": 2016,
          "Fecha": "2016-03",
          "Ramo": "Vida Oblig.",
          "value": 0,
          "variable": "Otros_Endosos"
         },
         {
          "Año": 2016,
          "Fecha": "2016-04",
          "Ramo": "Vida Oblig.",
          "value": 37,
          "variable": "Otros_Endosos"
         },
         {
          "Año": 2016,
          "Fecha": "2016-05",
          "Ramo": "Vida Oblig.",
          "value": 2,
          "variable": "Otros_Endosos"
         },
         {
          "Año": 2016,
          "Fecha": "2016-06",
          "Ramo": "Vida Oblig.",
          "value": 1,
          "variable": "Otros_Endosos"
         },
         {
          "Año": 2016,
          "Fecha": "2016-07",
          "Ramo": "Vida Oblig.",
          "value": 0,
          "variable": "Otros_Endosos"
         },
         {
          "Año": 2016,
          "Fecha": "2016-08",
          "Ramo": "Vida Oblig.",
          "value": 0,
          "variable": "Otros_Endosos"
         },
         {
          "Año": 2016,
          "Fecha": "2016-09",
          "Ramo": "Vida Oblig.",
          "value": 0,
          "variable": "Otros_Endosos"
         },
         {
          "Año": 2016,
          "Fecha": "2016-10",
          "Ramo": "Vida Oblig.",
          "value": 1,
          "variable": "Otros_Endosos"
         },
         {
          "Año": 2016,
          "Fecha": "2016-11",
          "Ramo": "Vida Oblig.",
          "value": 0,
          "variable": "Otros_Endosos"
         },
         {
          "Año": 2016,
          "Fecha": "2016-12",
          "Ramo": "Vida Oblig.",
          "value": 0,
          "variable": "Otros_Endosos"
         },
         {
          "Año": 2016,
          "Fecha": "2016-01",
          "Ramo": "A.R.T.",
          "value": 0,
          "variable": "Otros_Endosos"
         },
         {
          "Año": 2016,
          "Fecha": "2016-02",
          "Ramo": "A.R.T.",
          "value": 0,
          "variable": "Otros_Endosos"
         },
         {
          "Año": 2016,
          "Fecha": "2016-03",
          "Ramo": "A.R.T.",
          "value": 1,
          "variable": "Otros_Endosos"
         },
         {
          "Año": 2016,
          "Fecha": "2016-04",
          "Ramo": "A.R.T.",
          "value": 12,
          "variable": "Otros_Endosos"
         },
         {
          "Año": 2016,
          "Fecha": "2016-05",
          "Ramo": "A.R.T.",
          "value": 25,
          "variable": "Otros_Endosos"
         },
         {
          "Año": 2016,
          "Fecha": "2016-06",
          "Ramo": "A.R.T.",
          "value": 41,
          "variable": "Otros_Endosos"
         },
         {
          "Año": 2016,
          "Fecha": "2016-07",
          "Ramo": "A.R.T.",
          "value": 81,
          "variable": "Otros_Endosos"
         },
         {
          "Año": 2016,
          "Fecha": "2016-08",
          "Ramo": "A.R.T.",
          "value": 89,
          "variable": "Otros_Endosos"
         },
         {
          "Año": 2016,
          "Fecha": "2016-09",
          "Ramo": "A.R.T.",
          "value": 43,
          "variable": "Otros_Endosos"
         },
         {
          "Año": 2016,
          "Fecha": "2016-10",
          "Ramo": "A.R.T.",
          "value": 15,
          "variable": "Otros_Endosos"
         },
         {
          "Año": 2016,
          "Fecha": "2016-11",
          "Ramo": "A.R.T.",
          "value": 30,
          "variable": "Otros_Endosos"
         },
         {
          "Año": 2016,
          "Fecha": "2016-12",
          "Ramo": "A.R.T.",
          "value": 9,
          "variable": "Otros_Endosos"
         },
         {
          "Año": 2016,
          "Fecha": "2016-01",
          "Ramo": "Resp.Civil",
          "value": 2,
          "variable": "Otros_Endosos"
         },
         {
          "Año": 2016,
          "Fecha": "2016-02",
          "Ramo": "Resp.Civil",
          "value": 0,
          "variable": "Otros_Endosos"
         },
         {
          "Año": 2016,
          "Fecha": "2016-03",
          "Ramo": "Resp.Civil",
          "value": 3,
          "variable": "Otros_Endosos"
         },
         {
          "Año": 2016,
          "Fecha": "2016-04",
          "Ramo": "Resp.Civil",
          "value": 1,
          "variable": "Otros_Endosos"
         },
         {
          "Año": 2016,
          "Fecha": "2016-05",
          "Ramo": "Resp.Civil",
          "value": 0,
          "variable": "Otros_Endosos"
         },
         {
          "Año": 2016,
          "Fecha": "2016-06",
          "Ramo": "Resp.Civil",
          "value": 3,
          "variable": "Otros_Endosos"
         },
         {
          "Año": 2016,
          "Fecha": "2016-07",
          "Ramo": "Resp.Civil",
          "value": 1,
          "variable": "Otros_Endosos"
         },
         {
          "Año": 2016,
          "Fecha": "2016-08",
          "Ramo": "Resp.Civil",
          "value": 0,
          "variable": "Otros_Endosos"
         },
         {
          "Año": 2016,
          "Fecha": "2016-09",
          "Ramo": "Resp.Civil",
          "value": 1,
          "variable": "Otros_Endosos"
         },
         {
          "Año": 2016,
          "Fecha": "2016-10",
          "Ramo": "Resp.Civil",
          "value": 0,
          "variable": "Otros_Endosos"
         },
         {
          "Año": 2016,
          "Fecha": "2016-11",
          "Ramo": "Resp.Civil",
          "value": 2,
          "variable": "Otros_Endosos"
         },
         {
          "Año": 2016,
          "Fecha": "2016-12",
          "Ramo": "Resp.Civil",
          "value": 1,
          "variable": "Otros_Endosos"
         },
         {
          "Año": 2016,
          "Fecha": "2016-01",
          "Ramo": "Todo Riesgo Operativo",
          "value": 0,
          "variable": "Otros_Endosos"
         },
         {
          "Año": 2016,
          "Fecha": "2016-02",
          "Ramo": "Todo Riesgo Operativo",
          "value": 0,
          "variable": "Otros_Endosos"
         },
         {
          "Año": 2016,
          "Fecha": "2016-03",
          "Ramo": "Todo Riesgo Operativo",
          "value": 0,
          "variable": "Otros_Endosos"
         },
         {
          "Año": 2016,
          "Fecha": "2016-04",
          "Ramo": "Todo Riesgo Operativo",
          "value": 0,
          "variable": "Otros_Endosos"
         },
         {
          "Año": 2016,
          "Fecha": "2016-05",
          "Ramo": "Todo Riesgo Operativo",
          "value": 0,
          "variable": "Otros_Endosos"
         },
         {
          "Año": 2016,
          "Fecha": "2016-06",
          "Ramo": "Todo Riesgo Operativo",
          "value": 0,
          "variable": "Otros_Endosos"
         },
         {
          "Año": 2016,
          "Fecha": "2016-07",
          "Ramo": "Todo Riesgo Operativo",
          "value": 0,
          "variable": "Otros_Endosos"
         },
         {
          "Año": 2016,
          "Fecha": "2016-08",
          "Ramo": "Todo Riesgo Operativo",
          "value": 0,
          "variable": "Otros_Endosos"
         },
         {
          "Año": 2016,
          "Fecha": "2016-09",
          "Ramo": "Todo Riesgo Operativo",
          "value": 0,
          "variable": "Otros_Endosos"
         },
         {
          "Año": 2016,
          "Fecha": "2016-10",
          "Ramo": "Todo Riesgo Operativo",
          "value": 0,
          "variable": "Otros_Endosos"
         },
         {
          "Año": 2016,
          "Fecha": "2016-11",
          "Ramo": "Todo Riesgo Operativo",
          "value": 0,
          "variable": "Otros_Endosos"
         },
         {
          "Año": 2016,
          "Fecha": "2016-12",
          "Ramo": "Todo Riesgo Operativo",
          "value": 0,
          "variable": "Otros_Endosos"
         },
         {
          "Año": 2016,
          "Fecha": "2016-01",
          "Ramo": "Int.de Comer.",
          "value": 6,
          "variable": "Otros_Endosos"
         },
         {
          "Año": 2016,
          "Fecha": "2016-02",
          "Ramo": "Int.de Comer.",
          "value": 3,
          "variable": "Otros_Endosos"
         },
         {
          "Año": 2016,
          "Fecha": "2016-03",
          "Ramo": "Int.de Comer.",
          "value": 2,
          "variable": "Otros_Endosos"
         },
         {
          "Año": 2016,
          "Fecha": "2016-04",
          "Ramo": "Int.de Comer.",
          "value": 5,
          "variable": "Otros_Endosos"
         },
         {
          "Año": 2016,
          "Fecha": "2016-05",
          "Ramo": "Int.de Comer.",
          "value": 4,
          "variable": "Otros_Endosos"
         },
         {
          "Año": 2016,
          "Fecha": "2016-06",
          "Ramo": "Int.de Comer.",
          "value": 3,
          "variable": "Otros_Endosos"
         },
         {
          "Año": 2016,
          "Fecha": "2016-07",
          "Ramo": "Int.de Comer.",
          "value": 3,
          "variable": "Otros_Endosos"
         },
         {
          "Año": 2016,
          "Fecha": "2016-08",
          "Ramo": "Int.de Comer.",
          "value": 4,
          "variable": "Otros_Endosos"
         },
         {
          "Año": 2016,
          "Fecha": "2016-09",
          "Ramo": "Int.de Comer.",
          "value": 3,
          "variable": "Otros_Endosos"
         },
         {
          "Año": 2016,
          "Fecha": "2016-10",
          "Ramo": "Int.de Comer.",
          "value": 2,
          "variable": "Otros_Endosos"
         },
         {
          "Año": 2016,
          "Fecha": "2016-11",
          "Ramo": "Int.de Comer.",
          "value": 4,
          "variable": "Otros_Endosos"
         },
         {
          "Año": 2016,
          "Fecha": "2016-12",
          "Ramo": "Int.de Comer.",
          "value": 1,
          "variable": "Otros_Endosos"
         },
         {
          "Año": 2016,
          "Fecha": "2016-01",
          "Ramo": "Moto - Vehículo",
          "value": 0,
          "variable": "Otros_Endosos"
         },
         {
          "Año": 2016,
          "Fecha": "2016-02",
          "Ramo": "Moto - Vehículo",
          "value": 0,
          "variable": "Otros_Endosos"
         },
         {
          "Año": 2016,
          "Fecha": "2016-03",
          "Ramo": "Moto - Vehículo",
          "value": 0,
          "variable": "Otros_Endosos"
         },
         {
          "Año": 2016,
          "Fecha": "2016-04",
          "Ramo": "Moto - Vehículo",
          "value": 1,
          "variable": "Otros_Endosos"
         },
         {
          "Año": 2016,
          "Fecha": "2016-05",
          "Ramo": "Moto - Vehículo",
          "value": 0,
          "variable": "Otros_Endosos"
         },
         {
          "Año": 2016,
          "Fecha": "2016-06",
          "Ramo": "Moto - Vehículo",
          "value": 0,
          "variable": "Otros_Endosos"
         },
         {
          "Año": 2016,
          "Fecha": "2016-07",
          "Ramo": "Moto - Vehículo",
          "value": 0,
          "variable": "Otros_Endosos"
         },
         {
          "Año": 2016,
          "Fecha": "2016-08",
          "Ramo": "Moto - Vehículo",
          "value": 0,
          "variable": "Otros_Endosos"
         },
         {
          "Año": 2016,
          "Fecha": "2016-09",
          "Ramo": "Moto - Vehículo",
          "value": 0,
          "variable": "Otros_Endosos"
         },
         {
          "Año": 2016,
          "Fecha": "2016-10",
          "Ramo": "Moto - Vehículo",
          "value": 0,
          "variable": "Otros_Endosos"
         },
         {
          "Año": 2016,
          "Fecha": "2016-11",
          "Ramo": "Moto - Vehículo",
          "value": 1,
          "variable": "Otros_Endosos"
         },
         {
          "Año": 2016,
          "Fecha": "2016-12",
          "Ramo": "Moto - Vehículo",
          "value": 0,
          "variable": "Otros_Endosos"
         },
         {
          "Año": 2016,
          "Fecha": "2016-01",
          "Ramo": "Sepelio",
          "value": 0,
          "variable": "Otros_Endosos"
         },
         {
          "Año": 2016,
          "Fecha": "2016-02",
          "Ramo": "Sepelio",
          "value": 0,
          "variable": "Otros_Endosos"
         },
         {
          "Año": 2016,
          "Fecha": "2016-03",
          "Ramo": "Sepelio",
          "value": 0,
          "variable": "Otros_Endosos"
         },
         {
          "Año": 2016,
          "Fecha": "2016-04",
          "Ramo": "Sepelio",
          "value": 0,
          "variable": "Otros_Endosos"
         },
         {
          "Año": 2016,
          "Fecha": "2016-05",
          "Ramo": "Sepelio",
          "value": 0,
          "variable": "Otros_Endosos"
         },
         {
          "Año": 2016,
          "Fecha": "2016-06",
          "Ramo": "Sepelio",
          "value": 0,
          "variable": "Otros_Endosos"
         },
         {
          "Año": 2016,
          "Fecha": "2016-07",
          "Ramo": "Sepelio",
          "value": 0,
          "variable": "Otros_Endosos"
         },
         {
          "Año": 2016,
          "Fecha": "2016-08",
          "Ramo": "Sepelio",
          "value": 0,
          "variable": "Otros_Endosos"
         },
         {
          "Año": 2016,
          "Fecha": "2016-09",
          "Ramo": "Sepelio",
          "value": 0,
          "variable": "Otros_Endosos"
         },
         {
          "Año": 2016,
          "Fecha": "2016-10",
          "Ramo": "Sepelio",
          "value": 0,
          "variable": "Otros_Endosos"
         },
         {
          "Año": 2016,
          "Fecha": "2016-11",
          "Ramo": "Sepelio",
          "value": 0,
          "variable": "Otros_Endosos"
         },
         {
          "Año": 2016,
          "Fecha": "2016-12",
          "Ramo": "Sepelio",
          "value": 0,
          "variable": "Otros_Endosos"
         },
         {
          "Año": 2016,
          "Fecha": "2016-01",
          "Ramo": "Vida Colectivo",
          "value": 1,
          "variable": "Otros_Endosos"
         },
         {
          "Año": 2016,
          "Fecha": "2016-02",
          "Ramo": "Vida Colectivo",
          "value": 3,
          "variable": "Otros_Endosos"
         },
         {
          "Año": 2016,
          "Fecha": "2016-03",
          "Ramo": "Vida Colectivo",
          "value": 10,
          "variable": "Otros_Endosos"
         },
         {
          "Año": 2016,
          "Fecha": "2016-04",
          "Ramo": "Vida Colectivo",
          "value": 25,
          "variable": "Otros_Endosos"
         },
         {
          "Año": 2016,
          "Fecha": "2016-05",
          "Ramo": "Vida Colectivo",
          "value": 4,
          "variable": "Otros_Endosos"
         },
         {
          "Año": 2016,
          "Fecha": "2016-06",
          "Ramo": "Vida Colectivo",
          "value": 7,
          "variable": "Otros_Endosos"
         },
         {
          "Año": 2016,
          "Fecha": "2016-07",
          "Ramo": "Vida Colectivo",
          "value": 4,
          "variable": "Otros_Endosos"
         },
         {
          "Año": 2016,
          "Fecha": "2016-08",
          "Ramo": "Vida Colectivo",
          "value": 4,
          "variable": "Otros_Endosos"
         },
         {
          "Año": 2016,
          "Fecha": "2016-09",
          "Ramo": "Vida Colectivo",
          "value": 6,
          "variable": "Otros_Endosos"
         },
         {
          "Año": 2016,
          "Fecha": "2016-10",
          "Ramo": "Vida Colectivo",
          "value": 5,
          "variable": "Otros_Endosos"
         },
         {
          "Año": 2016,
          "Fecha": "2016-11",
          "Ramo": "Vida Colectivo",
          "value": 16,
          "variable": "Otros_Endosos"
         },
         {
          "Año": 2016,
          "Fecha": "2016-12",
          "Ramo": "Vida Colectivo",
          "value": 15,
          "variable": "Otros_Endosos"
         },
         {
          "Año": 2016,
          "Fecha": "2016-01",
          "Ramo": "Seguro Tecnico",
          "value": 1,
          "variable": "Otros_Endosos"
         },
         {
          "Año": 2016,
          "Fecha": "2016-02",
          "Ramo": "Seguro Tecnico",
          "value": 1,
          "variable": "Otros_Endosos"
         },
         {
          "Año": 2016,
          "Fecha": "2016-03",
          "Ramo": "Seguro Tecnico",
          "value": 1,
          "variable": "Otros_Endosos"
         },
         {
          "Año": 2016,
          "Fecha": "2016-04",
          "Ramo": "Seguro Tecnico",
          "value": 1,
          "variable": "Otros_Endosos"
         },
         {
          "Año": 2016,
          "Fecha": "2016-05",
          "Ramo": "Seguro Tecnico",
          "value": 1,
          "variable": "Otros_Endosos"
         },
         {
          "Año": 2016,
          "Fecha": "2016-06",
          "Ramo": "Seguro Tecnico",
          "value": 0,
          "variable": "Otros_Endosos"
         },
         {
          "Año": 2016,
          "Fecha": "2016-07",
          "Ramo": "Seguro Tecnico",
          "value": 0,
          "variable": "Otros_Endosos"
         },
         {
          "Año": 2016,
          "Fecha": "2016-08",
          "Ramo": "Seguro Tecnico",
          "value": 0,
          "variable": "Otros_Endosos"
         },
         {
          "Año": 2016,
          "Fecha": "2016-09",
          "Ramo": "Seguro Tecnico",
          "value": 0,
          "variable": "Otros_Endosos"
         },
         {
          "Año": 2016,
          "Fecha": "2016-10",
          "Ramo": "Seguro Tecnico",
          "value": 0,
          "variable": "Otros_Endosos"
         },
         {
          "Año": 2016,
          "Fecha": "2016-11",
          "Ramo": "Seguro Tecnico",
          "value": 0,
          "variable": "Otros_Endosos"
         },
         {
          "Año": 2016,
          "Fecha": "2016-12",
          "Ramo": "Seguro Tecnico",
          "value": 2,
          "variable": "Otros_Endosos"
         },
         {
          "Año": 2016,
          "Fecha": "2016-01",
          "Ramo": "Incendio / Int. de Consorcio",
          "value": 0,
          "variable": "Otros_Endosos"
         },
         {
          "Año": 2016,
          "Fecha": "2016-02",
          "Ramo": "Incendio / Int. de Consorcio",
          "value": 3,
          "variable": "Otros_Endosos"
         },
         {
          "Año": 2016,
          "Fecha": "2016-03",
          "Ramo": "Incendio / Int. de Consorcio",
          "value": 3,
          "variable": "Otros_Endosos"
         },
         {
          "Año": 2016,
          "Fecha": "2016-04",
          "Ramo": "Incendio / Int. de Consorcio",
          "value": 0,
          "variable": "Otros_Endosos"
         },
         {
          "Año": 2016,
          "Fecha": "2016-05",
          "Ramo": "Incendio / Int. de Consorcio",
          "value": 0,
          "variable": "Otros_Endosos"
         },
         {
          "Año": 2016,
          "Fecha": "2016-06",
          "Ramo": "Incendio / Int. de Consorcio",
          "value": 1,
          "variable": "Otros_Endosos"
         },
         {
          "Año": 2016,
          "Fecha": "2016-07",
          "Ramo": "Incendio / Int. de Consorcio",
          "value": 2,
          "variable": "Otros_Endosos"
         },
         {
          "Año": 2016,
          "Fecha": "2016-08",
          "Ramo": "Incendio / Int. de Consorcio",
          "value": 0,
          "variable": "Otros_Endosos"
         },
         {
          "Año": 2016,
          "Fecha": "2016-09",
          "Ramo": "Incendio / Int. de Consorcio",
          "value": 0,
          "variable": "Otros_Endosos"
         },
         {
          "Año": 2016,
          "Fecha": "2016-10",
          "Ramo": "Incendio / Int. de Consorcio",
          "value": 0,
          "variable": "Otros_Endosos"
         },
         {
          "Año": 2016,
          "Fecha": "2016-11",
          "Ramo": "Incendio / Int. de Consorcio",
          "value": 0,
          "variable": "Otros_Endosos"
         },
         {
          "Año": 2016,
          "Fecha": "2016-12",
          "Ramo": "Incendio / Int. de Consorcio",
          "value": 1,
          "variable": "Otros_Endosos"
         },
         {
          "Año": 2016,
          "Fecha": "2016-01",
          "Ramo": "Transporte",
          "value": 0,
          "variable": "Otros_Endosos"
         },
         {
          "Año": 2016,
          "Fecha": "2016-02",
          "Ramo": "Transporte",
          "value": 0,
          "variable": "Otros_Endosos"
         },
         {
          "Año": 2016,
          "Fecha": "2016-03",
          "Ramo": "Transporte",
          "value": 0,
          "variable": "Otros_Endosos"
         },
         {
          "Año": 2016,
          "Fecha": "2016-04",
          "Ramo": "Transporte",
          "value": 0,
          "variable": "Otros_Endosos"
         },
         {
          "Año": 2016,
          "Fecha": "2016-05",
          "Ramo": "Transporte",
          "value": 0,
          "variable": "Otros_Endosos"
         },
         {
          "Año": 2016,
          "Fecha": "2016-06",
          "Ramo": "Transporte",
          "value": 0,
          "variable": "Otros_Endosos"
         },
         {
          "Año": 2016,
          "Fecha": "2016-07",
          "Ramo": "Transporte",
          "value": 0,
          "variable": "Otros_Endosos"
         },
         {
          "Año": 2016,
          "Fecha": "2016-08",
          "Ramo": "Transporte",
          "value": 1,
          "variable": "Otros_Endosos"
         },
         {
          "Año": 2016,
          "Fecha": "2016-09",
          "Ramo": "Transporte",
          "value": 0,
          "variable": "Otros_Endosos"
         },
         {
          "Año": 2016,
          "Fecha": "2016-10",
          "Ramo": "Transporte",
          "value": 0,
          "variable": "Otros_Endosos"
         },
         {
          "Año": 2016,
          "Fecha": "2016-11",
          "Ramo": "Transporte",
          "value": 0,
          "variable": "Otros_Endosos"
         },
         {
          "Año": 2016,
          "Fecha": "2016-12",
          "Ramo": "Transporte",
          "value": 0,
          "variable": "Otros_Endosos"
         },
         {
          "Año": 2016,
          "Fecha": "2016-01",
          "Ramo": "Vida Cont.Trab.",
          "value": 1,
          "variable": "Otros_Endosos"
         },
         {
          "Año": 2016,
          "Fecha": "2016-02",
          "Ramo": "Vida Cont.Trab.",
          "value": 0,
          "variable": "Otros_Endosos"
         },
         {
          "Año": 2016,
          "Fecha": "2016-03",
          "Ramo": "Vida Cont.Trab.",
          "value": 3,
          "variable": "Otros_Endosos"
         },
         {
          "Año": 2016,
          "Fecha": "2016-04",
          "Ramo": "Vida Cont.Trab.",
          "value": 3,
          "variable": "Otros_Endosos"
         },
         {
          "Año": 2016,
          "Fecha": "2016-05",
          "Ramo": "Vida Cont.Trab.",
          "value": 1,
          "variable": "Otros_Endosos"
         },
         {
          "Año": 2016,
          "Fecha": "2016-06",
          "Ramo": "Vida Cont.Trab.",
          "value": 2,
          "variable": "Otros_Endosos"
         },
         {
          "Año": 2016,
          "Fecha": "2016-07",
          "Ramo": "Vida Cont.Trab.",
          "value": 1,
          "variable": "Otros_Endosos"
         },
         {
          "Año": 2016,
          "Fecha": "2016-08",
          "Ramo": "Vida Cont.Trab.",
          "value": 0,
          "variable": "Otros_Endosos"
         },
         {
          "Año": 2016,
          "Fecha": "2016-09",
          "Ramo": "Vida Cont.Trab.",
          "value": 2,
          "variable": "Otros_Endosos"
         },
         {
          "Año": 2016,
          "Fecha": "2016-10",
          "Ramo": "Vida Cont.Trab.",
          "value": 2,
          "variable": "Otros_Endosos"
         },
         {
          "Año": 2016,
          "Fecha": "2016-11",
          "Ramo": "Vida Cont.Trab.",
          "value": 3,
          "variable": "Otros_Endosos"
         },
         {
          "Año": 2016,
          "Fecha": "2016-12",
          "Ramo": "Vida Cont.Trab.",
          "value": 2,
          "variable": "Otros_Endosos"
         },
         {
          "Año": 2016,
          "Fecha": "2016-01",
          "Ramo": "Robo",
          "value": 0,
          "variable": "Otros_Endosos"
         },
         {
          "Año": 2016,
          "Fecha": "2016-02",
          "Ramo": "Robo",
          "value": 0,
          "variable": "Otros_Endosos"
         },
         {
          "Año": 2016,
          "Fecha": "2016-03",
          "Ramo": "Robo",
          "value": 0,
          "variable": "Otros_Endosos"
         },
         {
          "Año": 2016,
          "Fecha": "2016-04",
          "Ramo": "Robo",
          "value": 4,
          "variable": "Otros_Endosos"
         },
         {
          "Año": 2016,
          "Fecha": "2016-05",
          "Ramo": "Robo",
          "value": 1,
          "variable": "Otros_Endosos"
         },
         {
          "Año": 2016,
          "Fecha": "2016-06",
          "Ramo": "Robo",
          "value": 3,
          "variable": "Otros_Endosos"
         },
         {
          "Año": 2016,
          "Fecha": "2016-07",
          "Ramo": "Robo",
          "value": 1,
          "variable": "Otros_Endosos"
         },
         {
          "Año": 2016,
          "Fecha": "2016-08",
          "Ramo": "Robo",
          "value": 0,
          "variable": "Otros_Endosos"
         },
         {
          "Año": 2016,
          "Fecha": "2016-09",
          "Ramo": "Robo",
          "value": 2,
          "variable": "Otros_Endosos"
         },
         {
          "Año": 2016,
          "Fecha": "2016-10",
          "Ramo": "Robo",
          "value": 0,
          "variable": "Otros_Endosos"
         },
         {
          "Año": 2016,
          "Fecha": "2016-11",
          "Ramo": "Robo",
          "value": 1,
          "variable": "Otros_Endosos"
         },
         {
          "Año": 2016,
          "Fecha": "2016-12",
          "Ramo": "Robo",
          "value": 0,
          "variable": "Otros_Endosos"
         },
         {
          "Año": 2016,
          "Fecha": "2016-01",
          "Ramo": "Salud",
          "value": 0,
          "variable": "Otros_Endosos"
         },
         {
          "Año": 2016,
          "Fecha": "2016-02",
          "Ramo": "Salud",
          "value": 0,
          "variable": "Otros_Endosos"
         },
         {
          "Año": 2016,
          "Fecha": "2016-03",
          "Ramo": "Salud",
          "value": 0,
          "variable": "Otros_Endosos"
         },
         {
          "Año": 2016,
          "Fecha": "2016-04",
          "Ramo": "Salud",
          "value": 0,
          "variable": "Otros_Endosos"
         },
         {
          "Año": 2016,
          "Fecha": "2016-05",
          "Ramo": "Salud",
          "value": 0,
          "variable": "Otros_Endosos"
         },
         {
          "Año": 2016,
          "Fecha": "2016-06",
          "Ramo": "Salud",
          "value": 0,
          "variable": "Otros_Endosos"
         },
         {
          "Año": 2016,
          "Fecha": "2016-07",
          "Ramo": "Salud",
          "value": 0,
          "variable": "Otros_Endosos"
         },
         {
          "Año": 2016,
          "Fecha": "2016-08",
          "Ramo": "Salud",
          "value": 0,
          "variable": "Otros_Endosos"
         },
         {
          "Año": 2016,
          "Fecha": "2016-09",
          "Ramo": "Salud",
          "value": 0,
          "variable": "Otros_Endosos"
         },
         {
          "Año": 2016,
          "Fecha": "2016-10",
          "Ramo": "Salud",
          "value": 0,
          "variable": "Otros_Endosos"
         },
         {
          "Año": 2016,
          "Fecha": "2016-11",
          "Ramo": "Salud",
          "value": 0,
          "variable": "Otros_Endosos"
         },
         {
          "Año": 2016,
          "Fecha": "2016-12",
          "Ramo": "Salud",
          "value": 0,
          "variable": "Otros_Endosos"
         },
         {
          "Año": 2016,
          "Fecha": "2016-01",
          "Ramo": "Acc.Pers.Auton.",
          "value": 0,
          "variable": "Otros_Endosos"
         },
         {
          "Año": 2016,
          "Fecha": "2016-02",
          "Ramo": "Acc.Pers.Auton.",
          "value": 0,
          "variable": "Otros_Endosos"
         },
         {
          "Año": 2016,
          "Fecha": "2016-03",
          "Ramo": "Acc.Pers.Auton.",
          "value": 0,
          "variable": "Otros_Endosos"
         },
         {
          "Año": 2016,
          "Fecha": "2016-04",
          "Ramo": "Acc.Pers.Auton.",
          "value": 0,
          "variable": "Otros_Endosos"
         },
         {
          "Año": 2016,
          "Fecha": "2016-05",
          "Ramo": "Acc.Pers.Auton.",
          "value": 0,
          "variable": "Otros_Endosos"
         },
         {
          "Año": 2016,
          "Fecha": "2016-06",
          "Ramo": "Acc.Pers.Auton.",
          "value": 0,
          "variable": "Otros_Endosos"
         },
         {
          "Año": 2016,
          "Fecha": "2016-07",
          "Ramo": "Acc.Pers.Auton.",
          "value": 0,
          "variable": "Otros_Endosos"
         },
         {
          "Año": 2016,
          "Fecha": "2016-08",
          "Ramo": "Acc.Pers.Auton.",
          "value": 0,
          "variable": "Otros_Endosos"
         },
         {
          "Año": 2016,
          "Fecha": "2016-09",
          "Ramo": "Acc.Pers.Auton.",
          "value": 0,
          "variable": "Otros_Endosos"
         },
         {
          "Año": 2016,
          "Fecha": "2016-10",
          "Ramo": "Acc.Pers.Auton.",
          "value": 0,
          "variable": "Otros_Endosos"
         },
         {
          "Año": 2016,
          "Fecha": "2016-11",
          "Ramo": "Acc.Pers.Auton.",
          "value": 0,
          "variable": "Otros_Endosos"
         },
         {
          "Año": 2016,
          "Fecha": "2016-12",
          "Ramo": "Acc.Pers.Auton.",
          "value": 0,
          "variable": "Otros_Endosos"
         },
         {
          "Año": 2016,
          "Fecha": "2016-01",
          "Ramo": "Cascos",
          "value": 0,
          "variable": "Otros_Endosos"
         },
         {
          "Año": 2016,
          "Fecha": "2016-02",
          "Ramo": "Cascos",
          "value": 1,
          "variable": "Otros_Endosos"
         },
         {
          "Año": 2016,
          "Fecha": "2016-03",
          "Ramo": "Cascos",
          "value": 0,
          "variable": "Otros_Endosos"
         },
         {
          "Año": 2016,
          "Fecha": "2016-04",
          "Ramo": "Cascos",
          "value": 0,
          "variable": "Otros_Endosos"
         },
         {
          "Año": 2016,
          "Fecha": "2016-05",
          "Ramo": "Cascos",
          "value": 0,
          "variable": "Otros_Endosos"
         },
         {
          "Año": 2016,
          "Fecha": "2016-06",
          "Ramo": "Cascos",
          "value": 0,
          "variable": "Otros_Endosos"
         },
         {
          "Año": 2016,
          "Fecha": "2016-07",
          "Ramo": "Cascos",
          "value": 0,
          "variable": "Otros_Endosos"
         },
         {
          "Año": 2016,
          "Fecha": "2016-08",
          "Ramo": "Cascos",
          "value": 0,
          "variable": "Otros_Endosos"
         },
         {
          "Año": 2016,
          "Fecha": "2016-09",
          "Ramo": "Cascos",
          "value": 0,
          "variable": "Otros_Endosos"
         },
         {
          "Año": 2016,
          "Fecha": "2016-10",
          "Ramo": "Cascos",
          "value": 0,
          "variable": "Otros_Endosos"
         },
         {
          "Año": 2016,
          "Fecha": "2016-11",
          "Ramo": "Cascos",
          "value": 0,
          "variable": "Otros_Endosos"
         },
         {
          "Año": 2016,
          "Fecha": "2016-12",
          "Ramo": "Cascos",
          "value": 0,
          "variable": "Otros_Endosos"
         },
         {
          "Año": 2016,
          "Fecha": "2016-01",
          "Ramo": "Int.Consorcio",
          "value": 1,
          "variable": "Otros_Endosos"
         },
         {
          "Año": 2016,
          "Fecha": "2016-02",
          "Ramo": "Int.Consorcio",
          "value": 0,
          "variable": "Otros_Endosos"
         },
         {
          "Año": 2016,
          "Fecha": "2016-03",
          "Ramo": "Int.Consorcio",
          "value": 0,
          "variable": "Otros_Endosos"
         },
         {
          "Año": 2016,
          "Fecha": "2016-04",
          "Ramo": "Int.Consorcio",
          "value": 0,
          "variable": "Otros_Endosos"
         },
         {
          "Año": 2016,
          "Fecha": "2016-05",
          "Ramo": "Int.Consorcio",
          "value": 0,
          "variable": "Otros_Endosos"
         },
         {
          "Año": 2016,
          "Fecha": "2016-06",
          "Ramo": "Int.Consorcio",
          "value": 0,
          "variable": "Otros_Endosos"
         },
         {
          "Año": 2016,
          "Fecha": "2016-07",
          "Ramo": "Int.Consorcio",
          "value": 0,
          "variable": "Otros_Endosos"
         },
         {
          "Año": 2016,
          "Fecha": "2016-08",
          "Ramo": "Int.Consorcio",
          "value": 0,
          "variable": "Otros_Endosos"
         },
         {
          "Año": 2016,
          "Fecha": "2016-09",
          "Ramo": "Int.Consorcio",
          "value": 0,
          "variable": "Otros_Endosos"
         },
         {
          "Año": 2016,
          "Fecha": "2016-10",
          "Ramo": "Int.Consorcio",
          "value": 0,
          "variable": "Otros_Endosos"
         },
         {
          "Año": 2016,
          "Fecha": "2016-11",
          "Ramo": "Int.Consorcio",
          "value": 0,
          "variable": "Otros_Endosos"
         },
         {
          "Año": 2016,
          "Fecha": "2016-12",
          "Ramo": "Int.Consorcio",
          "value": 0,
          "variable": "Otros_Endosos"
         },
         {
          "Año": 2016,
          "Fecha": "2016-01",
          "Ramo": "Riesgos Varios",
          "value": 0,
          "variable": "Otros_Endosos"
         },
         {
          "Año": 2016,
          "Fecha": "2016-02",
          "Ramo": "Riesgos Varios",
          "value": 0,
          "variable": "Otros_Endosos"
         },
         {
          "Año": 2016,
          "Fecha": "2016-03",
          "Ramo": "Riesgos Varios",
          "value": 0,
          "variable": "Otros_Endosos"
         },
         {
          "Año": 2016,
          "Fecha": "2016-04",
          "Ramo": "Riesgos Varios",
          "value": 0,
          "variable": "Otros_Endosos"
         },
         {
          "Año": 2016,
          "Fecha": "2016-05",
          "Ramo": "Riesgos Varios",
          "value": 0,
          "variable": "Otros_Endosos"
         },
         {
          "Año": 2016,
          "Fecha": "2016-06",
          "Ramo": "Riesgos Varios",
          "value": 0,
          "variable": "Otros_Endosos"
         },
         {
          "Año": 2016,
          "Fecha": "2016-07",
          "Ramo": "Riesgos Varios",
          "value": 0,
          "variable": "Otros_Endosos"
         },
         {
          "Año": 2016,
          "Fecha": "2016-08",
          "Ramo": "Riesgos Varios",
          "value": 0,
          "variable": "Otros_Endosos"
         },
         {
          "Año": 2016,
          "Fecha": "2016-09",
          "Ramo": "Riesgos Varios",
          "value": 0,
          "variable": "Otros_Endosos"
         },
         {
          "Año": 2016,
          "Fecha": "2016-10",
          "Ramo": "Riesgos Varios",
          "value": 0,
          "variable": "Otros_Endosos"
         },
         {
          "Año": 2016,
          "Fecha": "2016-11",
          "Ramo": "Riesgos Varios",
          "value": 0,
          "variable": "Otros_Endosos"
         },
         {
          "Año": 2016,
          "Fecha": "2016-12",
          "Ramo": "Riesgos Varios",
          "value": 0,
          "variable": "Otros_Endosos"
         },
         {
          "Año": 2016,
          "Fecha": "2016-01",
          "Ramo": "Cristales",
          "value": 0,
          "variable": "Otros_Endosos"
         },
         {
          "Año": 2016,
          "Fecha": "2016-02",
          "Ramo": "Cristales",
          "value": 0,
          "variable": "Otros_Endosos"
         },
         {
          "Año": 2016,
          "Fecha": "2016-03",
          "Ramo": "Cristales",
          "value": 0,
          "variable": "Otros_Endosos"
         },
         {
          "Año": 2016,
          "Fecha": "2016-04",
          "Ramo": "Cristales",
          "value": 0,
          "variable": "Otros_Endosos"
         },
         {
          "Año": 2016,
          "Fecha": "2016-05",
          "Ramo": "Cristales",
          "value": 0,
          "variable": "Otros_Endosos"
         },
         {
          "Año": 2016,
          "Fecha": "2016-06",
          "Ramo": "Cristales",
          "value": 0,
          "variable": "Otros_Endosos"
         },
         {
          "Año": 2016,
          "Fecha": "2016-07",
          "Ramo": "Cristales",
          "value": 0,
          "variable": "Otros_Endosos"
         },
         {
          "Año": 2016,
          "Fecha": "2016-08",
          "Ramo": "Cristales",
          "value": 0,
          "variable": "Otros_Endosos"
         },
         {
          "Año": 2016,
          "Fecha": "2016-09",
          "Ramo": "Cristales",
          "value": 0,
          "variable": "Otros_Endosos"
         },
         {
          "Año": 2016,
          "Fecha": "2016-10",
          "Ramo": "Cristales",
          "value": 0,
          "variable": "Otros_Endosos"
         },
         {
          "Año": 2016,
          "Fecha": "2016-11",
          "Ramo": "Cristales",
          "value": 0,
          "variable": "Otros_Endosos"
         },
         {
          "Año": 2016,
          "Fecha": "2016-12",
          "Ramo": "Cristales",
          "value": 0,
          "variable": "Otros_Endosos"
         },
         {
          "Año": 2016,
          "Fecha": "2016-01",
          "Ramo": "Perdida de Beneficio",
          "value": 0,
          "variable": "Otros_Endosos"
         },
         {
          "Año": 2016,
          "Fecha": "2016-02",
          "Ramo": "Perdida de Beneficio",
          "value": 0,
          "variable": "Otros_Endosos"
         },
         {
          "Año": 2016,
          "Fecha": "2016-03",
          "Ramo": "Perdida de Beneficio",
          "value": 0,
          "variable": "Otros_Endosos"
         },
         {
          "Año": 2016,
          "Fecha": "2016-04",
          "Ramo": "Perdida de Beneficio",
          "value": 0,
          "variable": "Otros_Endosos"
         },
         {
          "Año": 2016,
          "Fecha": "2016-05",
          "Ramo": "Perdida de Beneficio",
          "value": 0,
          "variable": "Otros_Endosos"
         },
         {
          "Año": 2016,
          "Fecha": "2016-06",
          "Ramo": "Perdida de Beneficio",
          "value": 0,
          "variable": "Otros_Endosos"
         },
         {
          "Año": 2016,
          "Fecha": "2016-07",
          "Ramo": "Perdida de Beneficio",
          "value": 0,
          "variable": "Otros_Endosos"
         },
         {
          "Año": 2016,
          "Fecha": "2016-08",
          "Ramo": "Perdida de Beneficio",
          "value": 0,
          "variable": "Otros_Endosos"
         },
         {
          "Año": 2016,
          "Fecha": "2016-09",
          "Ramo": "Perdida de Beneficio",
          "value": 0,
          "variable": "Otros_Endosos"
         },
         {
          "Año": 2016,
          "Fecha": "2016-10",
          "Ramo": "Perdida de Beneficio",
          "value": 0,
          "variable": "Otros_Endosos"
         },
         {
          "Año": 2016,
          "Fecha": "2016-11",
          "Ramo": "Perdida de Beneficio",
          "value": 0,
          "variable": "Otros_Endosos"
         },
         {
          "Año": 2016,
          "Fecha": "2016-12",
          "Ramo": "Perdida de Beneficio",
          "value": 0,
          "variable": "Otros_Endosos"
         },
         {
          "Año": 2017,
          "Fecha": "2017-01",
          "Ramo": "Vida individual",
          "value": 0,
          "variable": "Otros_Endosos"
         },
         {
          "Año": 2017,
          "Fecha": "2017-02",
          "Ramo": "Vida individual",
          "value": 1,
          "variable": "Otros_Endosos"
         },
         {
          "Año": 2017,
          "Fecha": "2017-03",
          "Ramo": "Vida individual",
          "value": 0,
          "variable": "Otros_Endosos"
         },
         {
          "Año": 2017,
          "Fecha": "2017-04",
          "Ramo": "Vida individual",
          "value": 0,
          "variable": "Otros_Endosos"
         },
         {
          "Año": 2017,
          "Fecha": "2017-05",
          "Ramo": "Vida individual",
          "value": 0,
          "variable": "Otros_Endosos"
         },
         {
          "Año": 2017,
          "Fecha": "2017-06",
          "Ramo": "Vida individual",
          "value": 1,
          "variable": "Otros_Endosos"
         },
         {
          "Año": 2017,
          "Fecha": "2017-07",
          "Ramo": "Vida individual",
          "value": 0,
          "variable": "Otros_Endosos"
         },
         {
          "Año": 2017,
          "Fecha": "2017-08",
          "Ramo": "Vida individual",
          "value": 2,
          "variable": "Otros_Endosos"
         },
         {
          "Año": 2017,
          "Fecha": "2017-09",
          "Ramo": "Vida individual",
          "value": 0,
          "variable": "Otros_Endosos"
         },
         {
          "Año": 2017,
          "Fecha": "2017-10",
          "Ramo": "Vida individual",
          "value": 0,
          "variable": "Otros_Endosos"
         },
         {
          "Año": 2017,
          "Fecha": "2017-11",
          "Ramo": "Vida individual",
          "value": 0,
          "variable": "Otros_Endosos"
         },
         {
          "Año": 2017,
          "Fecha": "2017-12",
          "Ramo": "Vida individual",
          "value": 1,
          "variable": "Otros_Endosos"
         },
         {
          "Año": 2017,
          "Fecha": "2017-01",
          "Ramo": "Automotores",
          "value": 21,
          "variable": "Otros_Endosos"
         },
         {
          "Año": 2017,
          "Fecha": "2017-02",
          "Ramo": "Automotores",
          "value": 12,
          "variable": "Otros_Endosos"
         },
         {
          "Año": 2017,
          "Fecha": "2017-03",
          "Ramo": "Automotores",
          "value": 24,
          "variable": "Otros_Endosos"
         },
         {
          "Año": 2017,
          "Fecha": "2017-04",
          "Ramo": "Automotores",
          "value": 21,
          "variable": "Otros_Endosos"
         },
         {
          "Año": 2017,
          "Fecha": "2017-05",
          "Ramo": "Automotores",
          "value": 40,
          "variable": "Otros_Endosos"
         },
         {
          "Año": 2017,
          "Fecha": "2017-06",
          "Ramo": "Automotores",
          "value": 29,
          "variable": "Otros_Endosos"
         },
         {
          "Año": 2017,
          "Fecha": "2017-07",
          "Ramo": "Automotores",
          "value": 23,
          "variable": "Otros_Endosos"
         },
         {
          "Año": 2017,
          "Fecha": "2017-08",
          "Ramo": "Automotores",
          "value": 34,
          "variable": "Otros_Endosos"
         },
         {
          "Año": 2017,
          "Fecha": "2017-09",
          "Ramo": "Automotores",
          "value": 41,
          "variable": "Otros_Endosos"
         },
         {
          "Año": 2017,
          "Fecha": "2017-10",
          "Ramo": "Automotores",
          "value": 68,
          "variable": "Otros_Endosos"
         },
         {
          "Año": 2017,
          "Fecha": "2017-11",
          "Ramo": "Automotores",
          "value": 37,
          "variable": "Otros_Endosos"
         },
         {
          "Año": 2017,
          "Fecha": "2017-12",
          "Ramo": "Automotores",
          "value": 35,
          "variable": "Otros_Endosos"
         },
         {
          "Año": 2017,
          "Fecha": "2017-01",
          "Ramo": "Comb.Familiar",
          "value": 9,
          "variable": "Otros_Endosos"
         },
         {
          "Año": 2017,
          "Fecha": "2017-02",
          "Ramo": "Comb.Familiar",
          "value": 2,
          "variable": "Otros_Endosos"
         },
         {
          "Año": 2017,
          "Fecha": "2017-03",
          "Ramo": "Comb.Familiar",
          "value": 2,
          "variable": "Otros_Endosos"
         },
         {
          "Año": 2017,
          "Fecha": "2017-04",
          "Ramo": "Comb.Familiar",
          "value": 3,
          "variable": "Otros_Endosos"
         },
         {
          "Año": 2017,
          "Fecha": "2017-05",
          "Ramo": "Comb.Familiar",
          "value": 2,
          "variable": "Otros_Endosos"
         },
         {
          "Año": 2017,
          "Fecha": "2017-06",
          "Ramo": "Comb.Familiar",
          "value": 2,
          "variable": "Otros_Endosos"
         },
         {
          "Año": 2017,
          "Fecha": "2017-07",
          "Ramo": "Comb.Familiar",
          "value": 3,
          "variable": "Otros_Endosos"
         },
         {
          "Año": 2017,
          "Fecha": "2017-08",
          "Ramo": "Comb.Familiar",
          "value": 4,
          "variable": "Otros_Endosos"
         },
         {
          "Año": 2017,
          "Fecha": "2017-09",
          "Ramo": "Comb.Familiar",
          "value": 1,
          "variable": "Otros_Endosos"
         },
         {
          "Año": 2017,
          "Fecha": "2017-10",
          "Ramo": "Comb.Familiar",
          "value": 10,
          "variable": "Otros_Endosos"
         },
         {
          "Año": 2017,
          "Fecha": "2017-11",
          "Ramo": "Comb.Familiar",
          "value": 5,
          "variable": "Otros_Endosos"
         },
         {
          "Año": 2017,
          "Fecha": "2017-12",
          "Ramo": "Comb.Familiar",
          "value": 4,
          "variable": "Otros_Endosos"
         },
         {
          "Año": 2017,
          "Fecha": "2017-01",
          "Ramo": "Acc.Personales",
          "value": 15,
          "variable": "Otros_Endosos"
         },
         {
          "Año": 2017,
          "Fecha": "2017-02",
          "Ramo": "Acc.Personales",
          "value": 2,
          "variable": "Otros_Endosos"
         },
         {
          "Año": 2017,
          "Fecha": "2017-03",
          "Ramo": "Acc.Personales",
          "value": 2,
          "variable": "Otros_Endosos"
         },
         {
          "Año": 2017,
          "Fecha": "2017-04",
          "Ramo": "Acc.Personales",
          "value": 3,
          "variable": "Otros_Endosos"
         },
         {
          "Año": 2017,
          "Fecha": "2017-05",
          "Ramo": "Acc.Personales",
          "value": 10,
          "variable": "Otros_Endosos"
         },
         {
          "Año": 2017,
          "Fecha": "2017-06",
          "Ramo": "Acc.Personales",
          "value": 8,
          "variable": "Otros_Endosos"
         },
         {
          "Año": 2017,
          "Fecha": "2017-07",
          "Ramo": "Acc.Personales",
          "value": 14,
          "variable": "Otros_Endosos"
         },
         {
          "Año": 2017,
          "Fecha": "2017-08",
          "Ramo": "Acc.Personales",
          "value": 27,
          "variable": "Otros_Endosos"
         },
         {
          "Año": 2017,
          "Fecha": "2017-09",
          "Ramo": "Acc.Personales",
          "value": 17,
          "variable": "Otros_Endosos"
         },
         {
          "Año": 2017,
          "Fecha": "2017-10",
          "Ramo": "Acc.Personales",
          "value": 12,
          "variable": "Otros_Endosos"
         },
         {
          "Año": 2017,
          "Fecha": "2017-11",
          "Ramo": "Acc.Personales",
          "value": 10,
          "variable": "Otros_Endosos"
         },
         {
          "Año": 2017,
          "Fecha": "2017-12",
          "Ramo": "Acc.Personales",
          "value": 17,
          "variable": "Otros_Endosos"
         },
         {
          "Año": 2017,
          "Fecha": "2017-01",
          "Ramo": "Incendio",
          "value": 0,
          "variable": "Otros_Endosos"
         },
         {
          "Año": 2017,
          "Fecha": "2017-02",
          "Ramo": "Incendio",
          "value": 0,
          "variable": "Otros_Endosos"
         },
         {
          "Año": 2017,
          "Fecha": "2017-03",
          "Ramo": "Incendio",
          "value": 0,
          "variable": "Otros_Endosos"
         },
         {
          "Año": 2017,
          "Fecha": "2017-04",
          "Ramo": "Incendio",
          "value": 0,
          "variable": "Otros_Endosos"
         },
         {
          "Año": 2017,
          "Fecha": "2017-05",
          "Ramo": "Incendio",
          "value": 0,
          "variable": "Otros_Endosos"
         },
         {
          "Año": 2017,
          "Fecha": "2017-06",
          "Ramo": "Incendio",
          "value": 0,
          "variable": "Otros_Endosos"
         },
         {
          "Año": 2017,
          "Fecha": "2017-07",
          "Ramo": "Incendio",
          "value": 0,
          "variable": "Otros_Endosos"
         },
         {
          "Año": 2017,
          "Fecha": "2017-08",
          "Ramo": "Incendio",
          "value": 0,
          "variable": "Otros_Endosos"
         },
         {
          "Año": 2017,
          "Fecha": "2017-09",
          "Ramo": "Incendio",
          "value": 0,
          "variable": "Otros_Endosos"
         },
         {
          "Año": 2017,
          "Fecha": "2017-10",
          "Ramo": "Incendio",
          "value": 0,
          "variable": "Otros_Endosos"
         },
         {
          "Año": 2017,
          "Fecha": "2017-11",
          "Ramo": "Incendio",
          "value": 0,
          "variable": "Otros_Endosos"
         },
         {
          "Año": 2017,
          "Fecha": "2017-12",
          "Ramo": "Incendio",
          "value": 0,
          "variable": "Otros_Endosos"
         },
         {
          "Año": 2017,
          "Fecha": "2017-01",
          "Ramo": "Caucion",
          "value": 0,
          "variable": "Otros_Endosos"
         },
         {
          "Año": 2017,
          "Fecha": "2017-02",
          "Ramo": "Caucion",
          "value": 0,
          "variable": "Otros_Endosos"
         },
         {
          "Año": 2017,
          "Fecha": "2017-03",
          "Ramo": "Caucion",
          "value": 0,
          "variable": "Otros_Endosos"
         },
         {
          "Año": 2017,
          "Fecha": "2017-04",
          "Ramo": "Caucion",
          "value": 0,
          "variable": "Otros_Endosos"
         },
         {
          "Año": 2017,
          "Fecha": "2017-05",
          "Ramo": "Caucion",
          "value": 0,
          "variable": "Otros_Endosos"
         },
         {
          "Año": 2017,
          "Fecha": "2017-06",
          "Ramo": "Caucion",
          "value": 0,
          "variable": "Otros_Endosos"
         },
         {
          "Año": 2017,
          "Fecha": "2017-07",
          "Ramo": "Caucion",
          "value": 0,
          "variable": "Otros_Endosos"
         },
         {
          "Año": 2017,
          "Fecha": "2017-08",
          "Ramo": "Caucion",
          "value": 0,
          "variable": "Otros_Endosos"
         },
         {
          "Año": 2017,
          "Fecha": "2017-09",
          "Ramo": "Caucion",
          "value": 0,
          "variable": "Otros_Endosos"
         },
         {
          "Año": 2017,
          "Fecha": "2017-10",
          "Ramo": "Caucion",
          "value": 0,
          "variable": "Otros_Endosos"
         },
         {
          "Año": 2017,
          "Fecha": "2017-11",
          "Ramo": "Caucion",
          "value": 0,
          "variable": "Otros_Endosos"
         },
         {
          "Año": 2017,
          "Fecha": "2017-12",
          "Ramo": "Caucion",
          "value": 0,
          "variable": "Otros_Endosos"
         },
         {
          "Año": 2017,
          "Fecha": "2017-01",
          "Ramo": "Acc. Fliares Transportados",
          "value": 1,
          "variable": "Otros_Endosos"
         },
         {
          "Año": 2017,
          "Fecha": "2017-02",
          "Ramo": "Acc. Fliares Transportados",
          "value": 0,
          "variable": "Otros_Endosos"
         },
         {
          "Año": 2017,
          "Fecha": "2017-03",
          "Ramo": "Acc. Fliares Transportados",
          "value": 0,
          "variable": "Otros_Endosos"
         },
         {
          "Año": 2017,
          "Fecha": "2017-04",
          "Ramo": "Acc. Fliares Transportados",
          "value": 0,
          "variable": "Otros_Endosos"
         },
         {
          "Año": 2017,
          "Fecha": "2017-05",
          "Ramo": "Acc. Fliares Transportados",
          "value": 0,
          "variable": "Otros_Endosos"
         },
         {
          "Año": 2017,
          "Fecha": "2017-06",
          "Ramo": "Acc. Fliares Transportados",
          "value": 0,
          "variable": "Otros_Endosos"
         },
         {
          "Año": 2017,
          "Fecha": "2017-07",
          "Ramo": "Acc. Fliares Transportados",
          "value": 0,
          "variable": "Otros_Endosos"
         },
         {
          "Año": 2017,
          "Fecha": "2017-08",
          "Ramo": "Acc. Fliares Transportados",
          "value": 0,
          "variable": "Otros_Endosos"
         },
         {
          "Año": 2017,
          "Fecha": "2017-09",
          "Ramo": "Acc. Fliares Transportados",
          "value": 0,
          "variable": "Otros_Endosos"
         },
         {
          "Año": 2017,
          "Fecha": "2017-10",
          "Ramo": "Acc. Fliares Transportados",
          "value": 1,
          "variable": "Otros_Endosos"
         },
         {
          "Año": 2017,
          "Fecha": "2017-11",
          "Ramo": "Acc. Fliares Transportados",
          "value": 0,
          "variable": "Otros_Endosos"
         },
         {
          "Año": 2017,
          "Fecha": "2017-12",
          "Ramo": "Acc. Fliares Transportados",
          "value": 1,
          "variable": "Otros_Endosos"
         },
         {
          "Año": 2017,
          "Fecha": "2017-01",
          "Ramo": "Vida Oblig.",
          "value": 0,
          "variable": "Otros_Endosos"
         },
         {
          "Año": 2017,
          "Fecha": "2017-02",
          "Ramo": "Vida Oblig.",
          "value": 16,
          "variable": "Otros_Endosos"
         },
         {
          "Año": 2017,
          "Fecha": "2017-03",
          "Ramo": "Vida Oblig.",
          "value": 70,
          "variable": "Otros_Endosos"
         },
         {
          "Año": 2017,
          "Fecha": "2017-04",
          "Ramo": "Vida Oblig.",
          "value": 6,
          "variable": "Otros_Endosos"
         },
         {
          "Año": 2017,
          "Fecha": "2017-05",
          "Ramo": "Vida Oblig.",
          "value": 41,
          "variable": "Otros_Endosos"
         },
         {
          "Año": 2017,
          "Fecha": "2017-06",
          "Ramo": "Vida Oblig.",
          "value": 0,
          "variable": "Otros_Endosos"
         },
         {
          "Año": 2017,
          "Fecha": "2017-07",
          "Ramo": "Vida Oblig.",
          "value": 0,
          "variable": "Otros_Endosos"
         },
         {
          "Año": 2017,
          "Fecha": "2017-08",
          "Ramo": "Vida Oblig.",
          "value": 1,
          "variable": "Otros_Endosos"
         },
         {
          "Año": 2017,
          "Fecha": "2017-09",
          "Ramo": "Vida Oblig.",
          "value": 0,
          "variable": "Otros_Endosos"
         },
         {
          "Año": 2017,
          "Fecha": "2017-10",
          "Ramo": "Vida Oblig.",
          "value": 1,
          "variable": "Otros_Endosos"
         },
         {
          "Año": 2017,
          "Fecha": "2017-11",
          "Ramo": "Vida Oblig.",
          "value": 0,
          "variable": "Otros_Endosos"
         },
         {
          "Año": 2017,
          "Fecha": "2017-12",
          "Ramo": "Vida Oblig.",
          "value": 0,
          "variable": "Otros_Endosos"
         },
         {
          "Año": 2017,
          "Fecha": "2017-01",
          "Ramo": "A.R.T.",
          "value": 2,
          "variable": "Otros_Endosos"
         },
         {
          "Año": 2017,
          "Fecha": "2017-02",
          "Ramo": "A.R.T.",
          "value": 0,
          "variable": "Otros_Endosos"
         },
         {
          "Año": 2017,
          "Fecha": "2017-03",
          "Ramo": "A.R.T.",
          "value": 0,
          "variable": "Otros_Endosos"
         },
         {
          "Año": 2017,
          "Fecha": "2017-04",
          "Ramo": "A.R.T.",
          "value": 21,
          "variable": "Otros_Endosos"
         },
         {
          "Año": 2017,
          "Fecha": "2017-05",
          "Ramo": "A.R.T.",
          "value": 13,
          "variable": "Otros_Endosos"
         },
         {
          "Año": 2017,
          "Fecha": "2017-06",
          "Ramo": "A.R.T.",
          "value": 10,
          "variable": "Otros_Endosos"
         },
         {
          "Año": 2017,
          "Fecha": "2017-07",
          "Ramo": "A.R.T.",
          "value": 30,
          "variable": "Otros_Endosos"
         },
         {
          "Año": 2017,
          "Fecha": "2017-08",
          "Ramo": "A.R.T.",
          "value": 28,
          "variable": "Otros_Endosos"
         },
         {
          "Año": 2017,
          "Fecha": "2017-09",
          "Ramo": "A.R.T.",
          "value": 8,
          "variable": "Otros_Endosos"
         },
         {
          "Año": 2017,
          "Fecha": "2017-10",
          "Ramo": "A.R.T.",
          "value": 16,
          "variable": "Otros_Endosos"
         },
         {
          "Año": 2017,
          "Fecha": "2017-11",
          "Ramo": "A.R.T.",
          "value": 36,
          "variable": "Otros_Endosos"
         },
         {
          "Año": 2017,
          "Fecha": "2017-12",
          "Ramo": "A.R.T.",
          "value": 39,
          "variable": "Otros_Endosos"
         },
         {
          "Año": 2017,
          "Fecha": "2017-01",
          "Ramo": "Resp.Civil",
          "value": 0,
          "variable": "Otros_Endosos"
         },
         {
          "Año": 2017,
          "Fecha": "2017-02",
          "Ramo": "Resp.Civil",
          "value": 1,
          "variable": "Otros_Endosos"
         },
         {
          "Año": 2017,
          "Fecha": "2017-03",
          "Ramo": "Resp.Civil",
          "value": 0,
          "variable": "Otros_Endosos"
         },
         {
          "Año": 2017,
          "Fecha": "2017-04",
          "Ramo": "Resp.Civil",
          "value": 0,
          "variable": "Otros_Endosos"
         },
         {
          "Año": 2017,
          "Fecha": "2017-05",
          "Ramo": "Resp.Civil",
          "value": 1,
          "variable": "Otros_Endosos"
         },
         {
          "Año": 2017,
          "Fecha": "2017-06",
          "Ramo": "Resp.Civil",
          "value": 0,
          "variable": "Otros_Endosos"
         },
         {
          "Año": 2017,
          "Fecha": "2017-07",
          "Ramo": "Resp.Civil",
          "value": 3,
          "variable": "Otros_Endosos"
         },
         {
          "Año": 2017,
          "Fecha": "2017-08",
          "Ramo": "Resp.Civil",
          "value": 0,
          "variable": "Otros_Endosos"
         },
         {
          "Año": 2017,
          "Fecha": "2017-09",
          "Ramo": "Resp.Civil",
          "value": 2,
          "variable": "Otros_Endosos"
         },
         {
          "Año": 2017,
          "Fecha": "2017-10",
          "Ramo": "Resp.Civil",
          "value": 4,
          "variable": "Otros_Endosos"
         },
         {
          "Año": 2017,
          "Fecha": "2017-11",
          "Ramo": "Resp.Civil",
          "value": 0,
          "variable": "Otros_Endosos"
         },
         {
          "Año": 2017,
          "Fecha": "2017-12",
          "Ramo": "Resp.Civil",
          "value": 1,
          "variable": "Otros_Endosos"
         },
         {
          "Año": 2017,
          "Fecha": "2017-01",
          "Ramo": "Todo Riesgo Operativo",
          "value": 0,
          "variable": "Otros_Endosos"
         },
         {
          "Año": 2017,
          "Fecha": "2017-02",
          "Ramo": "Todo Riesgo Operativo",
          "value": 0,
          "variable": "Otros_Endosos"
         },
         {
          "Año": 2017,
          "Fecha": "2017-03",
          "Ramo": "Todo Riesgo Operativo",
          "value": 0,
          "variable": "Otros_Endosos"
         },
         {
          "Año": 2017,
          "Fecha": "2017-04",
          "Ramo": "Todo Riesgo Operativo",
          "value": 0,
          "variable": "Otros_Endosos"
         },
         {
          "Año": 2017,
          "Fecha": "2017-05",
          "Ramo": "Todo Riesgo Operativo",
          "value": 0,
          "variable": "Otros_Endosos"
         },
         {
          "Año": 2017,
          "Fecha": "2017-06",
          "Ramo": "Todo Riesgo Operativo",
          "value": 0,
          "variable": "Otros_Endosos"
         },
         {
          "Año": 2017,
          "Fecha": "2017-07",
          "Ramo": "Todo Riesgo Operativo",
          "value": 0,
          "variable": "Otros_Endosos"
         },
         {
          "Año": 2017,
          "Fecha": "2017-08",
          "Ramo": "Todo Riesgo Operativo",
          "value": 0,
          "variable": "Otros_Endosos"
         },
         {
          "Año": 2017,
          "Fecha": "2017-09",
          "Ramo": "Todo Riesgo Operativo",
          "value": 0,
          "variable": "Otros_Endosos"
         },
         {
          "Año": 2017,
          "Fecha": "2017-10",
          "Ramo": "Todo Riesgo Operativo",
          "value": 0,
          "variable": "Otros_Endosos"
         },
         {
          "Año": 2017,
          "Fecha": "2017-11",
          "Ramo": "Todo Riesgo Operativo",
          "value": 0,
          "variable": "Otros_Endosos"
         },
         {
          "Año": 2017,
          "Fecha": "2017-12",
          "Ramo": "Todo Riesgo Operativo",
          "value": 0,
          "variable": "Otros_Endosos"
         },
         {
          "Año": 2017,
          "Fecha": "2017-01",
          "Ramo": "Int.de Comer.",
          "value": 10,
          "variable": "Otros_Endosos"
         },
         {
          "Año": 2017,
          "Fecha": "2017-02",
          "Ramo": "Int.de Comer.",
          "value": 3,
          "variable": "Otros_Endosos"
         },
         {
          "Año": 2017,
          "Fecha": "2017-03",
          "Ramo": "Int.de Comer.",
          "value": 3,
          "variable": "Otros_Endosos"
         },
         {
          "Año": 2017,
          "Fecha": "2017-04",
          "Ramo": "Int.de Comer.",
          "value": 4,
          "variable": "Otros_Endosos"
         },
         {
          "Año": 2017,
          "Fecha": "2017-05",
          "Ramo": "Int.de Comer.",
          "value": 2,
          "variable": "Otros_Endosos"
         },
         {
          "Año": 2017,
          "Fecha": "2017-06",
          "Ramo": "Int.de Comer.",
          "value": 1,
          "variable": "Otros_Endosos"
         },
         {
          "Año": 2017,
          "Fecha": "2017-07",
          "Ramo": "Int.de Comer.",
          "value": 5,
          "variable": "Otros_Endosos"
         },
         {
          "Año": 2017,
          "Fecha": "2017-08",
          "Ramo": "Int.de Comer.",
          "value": 3,
          "variable": "Otros_Endosos"
         },
         {
          "Año": 2017,
          "Fecha": "2017-09",
          "Ramo": "Int.de Comer.",
          "value": 4,
          "variable": "Otros_Endosos"
         },
         {
          "Año": 2017,
          "Fecha": "2017-10",
          "Ramo": "Int.de Comer.",
          "value": 15,
          "variable": "Otros_Endosos"
         },
         {
          "Año": 2017,
          "Fecha": "2017-11",
          "Ramo": "Int.de Comer.",
          "value": 3,
          "variable": "Otros_Endosos"
         },
         {
          "Año": 2017,
          "Fecha": "2017-12",
          "Ramo": "Int.de Comer.",
          "value": 1,
          "variable": "Otros_Endosos"
         },
         {
          "Año": 2017,
          "Fecha": "2017-01",
          "Ramo": "Moto - Vehículo",
          "value": 0,
          "variable": "Otros_Endosos"
         },
         {
          "Año": 2017,
          "Fecha": "2017-02",
          "Ramo": "Moto - Vehículo",
          "value": 1,
          "variable": "Otros_Endosos"
         },
         {
          "Año": 2017,
          "Fecha": "2017-03",
          "Ramo": "Moto - Vehículo",
          "value": 0,
          "variable": "Otros_Endosos"
         },
         {
          "Año": 2017,
          "Fecha": "2017-04",
          "Ramo": "Moto - Vehículo",
          "value": 0,
          "variable": "Otros_Endosos"
         },
         {
          "Año": 2017,
          "Fecha": "2017-05",
          "Ramo": "Moto - Vehículo",
          "value": 0,
          "variable": "Otros_Endosos"
         },
         {
          "Año": 2017,
          "Fecha": "2017-06",
          "Ramo": "Moto - Vehículo",
          "value": 0,
          "variable": "Otros_Endosos"
         },
         {
          "Año": 2017,
          "Fecha": "2017-07",
          "Ramo": "Moto - Vehículo",
          "value": 0,
          "variable": "Otros_Endosos"
         },
         {
          "Año": 2017,
          "Fecha": "2017-08",
          "Ramo": "Moto - Vehículo",
          "value": 1,
          "variable": "Otros_Endosos"
         },
         {
          "Año": 2017,
          "Fecha": "2017-09",
          "Ramo": "Moto - Vehículo",
          "value": 0,
          "variable": "Otros_Endosos"
         },
         {
          "Año": 2017,
          "Fecha": "2017-10",
          "Ramo": "Moto - Vehículo",
          "value": 6,
          "variable": "Otros_Endosos"
         },
         {
          "Año": 2017,
          "Fecha": "2017-11",
          "Ramo": "Moto - Vehículo",
          "value": 0,
          "variable": "Otros_Endosos"
         },
         {
          "Año": 2017,
          "Fecha": "2017-12",
          "Ramo": "Moto - Vehículo",
          "value": 3,
          "variable": "Otros_Endosos"
         },
         {
          "Año": 2017,
          "Fecha": "2017-01",
          "Ramo": "Sepelio",
          "value": 0,
          "variable": "Otros_Endosos"
         },
         {
          "Año": 2017,
          "Fecha": "2017-02",
          "Ramo": "Sepelio",
          "value": 0,
          "variable": "Otros_Endosos"
         },
         {
          "Año": 2017,
          "Fecha": "2017-03",
          "Ramo": "Sepelio",
          "value": 0,
          "variable": "Otros_Endosos"
         },
         {
          "Año": 2017,
          "Fecha": "2017-04",
          "Ramo": "Sepelio",
          "value": 0,
          "variable": "Otros_Endosos"
         },
         {
          "Año": 2017,
          "Fecha": "2017-05",
          "Ramo": "Sepelio",
          "value": 0,
          "variable": "Otros_Endosos"
         },
         {
          "Año": 2017,
          "Fecha": "2017-06",
          "Ramo": "Sepelio",
          "value": 0,
          "variable": "Otros_Endosos"
         },
         {
          "Año": 2017,
          "Fecha": "2017-07",
          "Ramo": "Sepelio",
          "value": 0,
          "variable": "Otros_Endosos"
         },
         {
          "Año": 2017,
          "Fecha": "2017-08",
          "Ramo": "Sepelio",
          "value": 0,
          "variable": "Otros_Endosos"
         },
         {
          "Año": 2017,
          "Fecha": "2017-09",
          "Ramo": "Sepelio",
          "value": 0,
          "variable": "Otros_Endosos"
         },
         {
          "Año": 2017,
          "Fecha": "2017-10",
          "Ramo": "Sepelio",
          "value": 0,
          "variable": "Otros_Endosos"
         },
         {
          "Año": 2017,
          "Fecha": "2017-11",
          "Ramo": "Sepelio",
          "value": 0,
          "variable": "Otros_Endosos"
         },
         {
          "Año": 2017,
          "Fecha": "2017-12",
          "Ramo": "Sepelio",
          "value": 0,
          "variable": "Otros_Endosos"
         },
         {
          "Año": 2017,
          "Fecha": "2017-01",
          "Ramo": "Vida Colectivo",
          "value": 16,
          "variable": "Otros_Endosos"
         },
         {
          "Año": 2017,
          "Fecha": "2017-02",
          "Ramo": "Vida Colectivo",
          "value": 8,
          "variable": "Otros_Endosos"
         },
         {
          "Año": 2017,
          "Fecha": "2017-03",
          "Ramo": "Vida Colectivo",
          "value": 0,
          "variable": "Otros_Endosos"
         },
         {
          "Año": 2017,
          "Fecha": "2017-04",
          "Ramo": "Vida Colectivo",
          "value": 19,
          "variable": "Otros_Endosos"
         },
         {
          "Año": 2017,
          "Fecha": "2017-05",
          "Ramo": "Vida Colectivo",
          "value": 16,
          "variable": "Otros_Endosos"
         },
         {
          "Año": 2017,
          "Fecha": "2017-06",
          "Ramo": "Vida Colectivo",
          "value": 7,
          "variable": "Otros_Endosos"
         },
         {
          "Año": 2017,
          "Fecha": "2017-07",
          "Ramo": "Vida Colectivo",
          "value": 20,
          "variable": "Otros_Endosos"
         },
         {
          "Año": 2017,
          "Fecha": "2017-08",
          "Ramo": "Vida Colectivo",
          "value": 7,
          "variable": "Otros_Endosos"
         },
         {
          "Año": 2017,
          "Fecha": "2017-09",
          "Ramo": "Vida Colectivo",
          "value": 5,
          "variable": "Otros_Endosos"
         },
         {
          "Año": 2017,
          "Fecha": "2017-10",
          "Ramo": "Vida Colectivo",
          "value": 10,
          "variable": "Otros_Endosos"
         },
         {
          "Año": 2017,
          "Fecha": "2017-11",
          "Ramo": "Vida Colectivo",
          "value": 3,
          "variable": "Otros_Endosos"
         },
         {
          "Año": 2017,
          "Fecha": "2017-12",
          "Ramo": "Vida Colectivo",
          "value": 4,
          "variable": "Otros_Endosos"
         },
         {
          "Año": 2017,
          "Fecha": "2017-01",
          "Ramo": "Seguro Tecnico",
          "value": 0,
          "variable": "Otros_Endosos"
         },
         {
          "Año": 2017,
          "Fecha": "2017-02",
          "Ramo": "Seguro Tecnico",
          "value": 0,
          "variable": "Otros_Endosos"
         },
         {
          "Año": 2017,
          "Fecha": "2017-03",
          "Ramo": "Seguro Tecnico",
          "value": 0,
          "variable": "Otros_Endosos"
         },
         {
          "Año": 2017,
          "Fecha": "2017-04",
          "Ramo": "Seguro Tecnico",
          "value": 0,
          "variable": "Otros_Endosos"
         },
         {
          "Año": 2017,
          "Fecha": "2017-05",
          "Ramo": "Seguro Tecnico",
          "value": 0,
          "variable": "Otros_Endosos"
         },
         {
          "Año": 2017,
          "Fecha": "2017-06",
          "Ramo": "Seguro Tecnico",
          "value": 0,
          "variable": "Otros_Endosos"
         },
         {
          "Año": 2017,
          "Fecha": "2017-07",
          "Ramo": "Seguro Tecnico",
          "value": 2,
          "variable": "Otros_Endosos"
         },
         {
          "Año": 2017,
          "Fecha": "2017-08",
          "Ramo": "Seguro Tecnico",
          "value": 0,
          "variable": "Otros_Endosos"
         },
         {
          "Año": 2017,
          "Fecha": "2017-09",
          "Ramo": "Seguro Tecnico",
          "value": 1,
          "variable": "Otros_Endosos"
         },
         {
          "Año": 2017,
          "Fecha": "2017-10",
          "Ramo": "Seguro Tecnico",
          "value": 0,
          "variable": "Otros_Endosos"
         },
         {
          "Año": 2017,
          "Fecha": "2017-11",
          "Ramo": "Seguro Tecnico",
          "value": 1,
          "variable": "Otros_Endosos"
         },
         {
          "Año": 2017,
          "Fecha": "2017-12",
          "Ramo": "Seguro Tecnico",
          "value": 0,
          "variable": "Otros_Endosos"
         },
         {
          "Año": 2017,
          "Fecha": "2017-01",
          "Ramo": "Incendio / Int. de Consorcio",
          "value": 0,
          "variable": "Otros_Endosos"
         },
         {
          "Año": 2017,
          "Fecha": "2017-02",
          "Ramo": "Incendio / Int. de Consorcio",
          "value": 0,
          "variable": "Otros_Endosos"
         },
         {
          "Año": 2017,
          "Fecha": "2017-03",
          "Ramo": "Incendio / Int. de Consorcio",
          "value": 1,
          "variable": "Otros_Endosos"
         },
         {
          "Año": 2017,
          "Fecha": "2017-04",
          "Ramo": "Incendio / Int. de Consorcio",
          "value": 1,
          "variable": "Otros_Endosos"
         },
         {
          "Año": 2017,
          "Fecha": "2017-05",
          "Ramo": "Incendio / Int. de Consorcio",
          "value": 0,
          "variable": "Otros_Endosos"
         },
         {
          "Año": 2017,
          "Fecha": "2017-06",
          "Ramo": "Incendio / Int. de Consorcio",
          "value": 0,
          "variable": "Otros_Endosos"
         },
         {
          "Año": 2017,
          "Fecha": "2017-07",
          "Ramo": "Incendio / Int. de Consorcio",
          "value": 1,
          "variable": "Otros_Endosos"
         },
         {
          "Año": 2017,
          "Fecha": "2017-08",
          "Ramo": "Incendio / Int. de Consorcio",
          "value": 1,
          "variable": "Otros_Endosos"
         },
         {
          "Año": 2017,
          "Fecha": "2017-09",
          "Ramo": "Incendio / Int. de Consorcio",
          "value": 1,
          "variable": "Otros_Endosos"
         },
         {
          "Año": 2017,
          "Fecha": "2017-10",
          "Ramo": "Incendio / Int. de Consorcio",
          "value": 2,
          "variable": "Otros_Endosos"
         },
         {
          "Año": 2017,
          "Fecha": "2017-11",
          "Ramo": "Incendio / Int. de Consorcio",
          "value": 0,
          "variable": "Otros_Endosos"
         },
         {
          "Año": 2017,
          "Fecha": "2017-12",
          "Ramo": "Incendio / Int. de Consorcio",
          "value": 0,
          "variable": "Otros_Endosos"
         },
         {
          "Año": 2017,
          "Fecha": "2017-01",
          "Ramo": "Transporte",
          "value": 0,
          "variable": "Otros_Endosos"
         },
         {
          "Año": 2017,
          "Fecha": "2017-02",
          "Ramo": "Transporte",
          "value": 0,
          "variable": "Otros_Endosos"
         },
         {
          "Año": 2017,
          "Fecha": "2017-03",
          "Ramo": "Transporte",
          "value": 0,
          "variable": "Otros_Endosos"
         },
         {
          "Año": 2017,
          "Fecha": "2017-04",
          "Ramo": "Transporte",
          "value": 0,
          "variable": "Otros_Endosos"
         },
         {
          "Año": 2017,
          "Fecha": "2017-05",
          "Ramo": "Transporte",
          "value": 0,
          "variable": "Otros_Endosos"
         },
         {
          "Año": 2017,
          "Fecha": "2017-06",
          "Ramo": "Transporte",
          "value": 0,
          "variable": "Otros_Endosos"
         },
         {
          "Año": 2017,
          "Fecha": "2017-07",
          "Ramo": "Transporte",
          "value": 1,
          "variable": "Otros_Endosos"
         },
         {
          "Año": 2017,
          "Fecha": "2017-08",
          "Ramo": "Transporte",
          "value": 0,
          "variable": "Otros_Endosos"
         },
         {
          "Año": 2017,
          "Fecha": "2017-09",
          "Ramo": "Transporte",
          "value": 0,
          "variable": "Otros_Endosos"
         },
         {
          "Año": 2017,
          "Fecha": "2017-10",
          "Ramo": "Transporte",
          "value": 0,
          "variable": "Otros_Endosos"
         },
         {
          "Año": 2017,
          "Fecha": "2017-11",
          "Ramo": "Transporte",
          "value": 0,
          "variable": "Otros_Endosos"
         },
         {
          "Año": 2017,
          "Fecha": "2017-12",
          "Ramo": "Transporte",
          "value": 0,
          "variable": "Otros_Endosos"
         },
         {
          "Año": 2017,
          "Fecha": "2017-01",
          "Ramo": "Vida Cont.Trab.",
          "value": 2,
          "variable": "Otros_Endosos"
         },
         {
          "Año": 2017,
          "Fecha": "2017-02",
          "Ramo": "Vida Cont.Trab.",
          "value": 2,
          "variable": "Otros_Endosos"
         },
         {
          "Año": 2017,
          "Fecha": "2017-03",
          "Ramo": "Vida Cont.Trab.",
          "value": 0,
          "variable": "Otros_Endosos"
         },
         {
          "Año": 2017,
          "Fecha": "2017-04",
          "Ramo": "Vida Cont.Trab.",
          "value": 5,
          "variable": "Otros_Endosos"
         },
         {
          "Año": 2017,
          "Fecha": "2017-05",
          "Ramo": "Vida Cont.Trab.",
          "value": 0,
          "variable": "Otros_Endosos"
         },
         {
          "Año": 2017,
          "Fecha": "2017-06",
          "Ramo": "Vida Cont.Trab.",
          "value": 0,
          "variable": "Otros_Endosos"
         },
         {
          "Año": 2017,
          "Fecha": "2017-07",
          "Ramo": "Vida Cont.Trab.",
          "value": 5,
          "variable": "Otros_Endosos"
         },
         {
          "Año": 2017,
          "Fecha": "2017-08",
          "Ramo": "Vida Cont.Trab.",
          "value": 1,
          "variable": "Otros_Endosos"
         },
         {
          "Año": 2017,
          "Fecha": "2017-09",
          "Ramo": "Vida Cont.Trab.",
          "value": 1,
          "variable": "Otros_Endosos"
         },
         {
          "Año": 2017,
          "Fecha": "2017-10",
          "Ramo": "Vida Cont.Trab.",
          "value": 3,
          "variable": "Otros_Endosos"
         },
         {
          "Año": 2017,
          "Fecha": "2017-11",
          "Ramo": "Vida Cont.Trab.",
          "value": 0,
          "variable": "Otros_Endosos"
         },
         {
          "Año": 2017,
          "Fecha": "2017-12",
          "Ramo": "Vida Cont.Trab.",
          "value": 3,
          "variable": "Otros_Endosos"
         },
         {
          "Año": 2017,
          "Fecha": "2017-01",
          "Ramo": "Robo",
          "value": 0,
          "variable": "Otros_Endosos"
         },
         {
          "Año": 2017,
          "Fecha": "2017-02",
          "Ramo": "Robo",
          "value": 0,
          "variable": "Otros_Endosos"
         },
         {
          "Año": 2017,
          "Fecha": "2017-03",
          "Ramo": "Robo",
          "value": 0,
          "variable": "Otros_Endosos"
         },
         {
          "Año": 2017,
          "Fecha": "2017-04",
          "Ramo": "Robo",
          "value": 0,
          "variable": "Otros_Endosos"
         },
         {
          "Año": 2017,
          "Fecha": "2017-05",
          "Ramo": "Robo",
          "value": 0,
          "variable": "Otros_Endosos"
         },
         {
          "Año": 2017,
          "Fecha": "2017-06",
          "Ramo": "Robo",
          "value": 0,
          "variable": "Otros_Endosos"
         },
         {
          "Año": 2017,
          "Fecha": "2017-07",
          "Ramo": "Robo",
          "value": 0,
          "variable": "Otros_Endosos"
         },
         {
          "Año": 2017,
          "Fecha": "2017-08",
          "Ramo": "Robo",
          "value": 0,
          "variable": "Otros_Endosos"
         },
         {
          "Año": 2017,
          "Fecha": "2017-09",
          "Ramo": "Robo",
          "value": 0,
          "variable": "Otros_Endosos"
         },
         {
          "Año": 2017,
          "Fecha": "2017-10",
          "Ramo": "Robo",
          "value": 0,
          "variable": "Otros_Endosos"
         },
         {
          "Año": 2017,
          "Fecha": "2017-11",
          "Ramo": "Robo",
          "value": 2,
          "variable": "Otros_Endosos"
         },
         {
          "Año": 2017,
          "Fecha": "2017-12",
          "Ramo": "Robo",
          "value": 0,
          "variable": "Otros_Endosos"
         },
         {
          "Año": 2017,
          "Fecha": "2017-01",
          "Ramo": "Salud",
          "value": 0,
          "variable": "Otros_Endosos"
         },
         {
          "Año": 2017,
          "Fecha": "2017-02",
          "Ramo": "Salud",
          "value": 0,
          "variable": "Otros_Endosos"
         },
         {
          "Año": 2017,
          "Fecha": "2017-03",
          "Ramo": "Salud",
          "value": 0,
          "variable": "Otros_Endosos"
         },
         {
          "Año": 2017,
          "Fecha": "2017-04",
          "Ramo": "Salud",
          "value": 0,
          "variable": "Otros_Endosos"
         },
         {
          "Año": 2017,
          "Fecha": "2017-05",
          "Ramo": "Salud",
          "value": 0,
          "variable": "Otros_Endosos"
         },
         {
          "Año": 2017,
          "Fecha": "2017-06",
          "Ramo": "Salud",
          "value": 0,
          "variable": "Otros_Endosos"
         },
         {
          "Año": 2017,
          "Fecha": "2017-07",
          "Ramo": "Salud",
          "value": 0,
          "variable": "Otros_Endosos"
         },
         {
          "Año": 2017,
          "Fecha": "2017-08",
          "Ramo": "Salud",
          "value": 0,
          "variable": "Otros_Endosos"
         },
         {
          "Año": 2017,
          "Fecha": "2017-09",
          "Ramo": "Salud",
          "value": 0,
          "variable": "Otros_Endosos"
         },
         {
          "Año": 2017,
          "Fecha": "2017-10",
          "Ramo": "Salud",
          "value": 0,
          "variable": "Otros_Endosos"
         },
         {
          "Año": 2017,
          "Fecha": "2017-11",
          "Ramo": "Salud",
          "value": 0,
          "variable": "Otros_Endosos"
         },
         {
          "Año": 2017,
          "Fecha": "2017-12",
          "Ramo": "Salud",
          "value": 0,
          "variable": "Otros_Endosos"
         },
         {
          "Año": 2017,
          "Fecha": "2017-01",
          "Ramo": "Acc.Pers.Auton.",
          "value": 0,
          "variable": "Otros_Endosos"
         },
         {
          "Año": 2017,
          "Fecha": "2017-02",
          "Ramo": "Acc.Pers.Auton.",
          "value": 0,
          "variable": "Otros_Endosos"
         },
         {
          "Año": 2017,
          "Fecha": "2017-03",
          "Ramo": "Acc.Pers.Auton.",
          "value": 0,
          "variable": "Otros_Endosos"
         },
         {
          "Año": 2017,
          "Fecha": "2017-04",
          "Ramo": "Acc.Pers.Auton.",
          "value": 0,
          "variable": "Otros_Endosos"
         },
         {
          "Año": 2017,
          "Fecha": "2017-05",
          "Ramo": "Acc.Pers.Auton.",
          "value": 0,
          "variable": "Otros_Endosos"
         },
         {
          "Año": 2017,
          "Fecha": "2017-06",
          "Ramo": "Acc.Pers.Auton.",
          "value": 0,
          "variable": "Otros_Endosos"
         },
         {
          "Año": 2017,
          "Fecha": "2017-07",
          "Ramo": "Acc.Pers.Auton.",
          "value": 0,
          "variable": "Otros_Endosos"
         },
         {
          "Año": 2017,
          "Fecha": "2017-08",
          "Ramo": "Acc.Pers.Auton.",
          "value": 0,
          "variable": "Otros_Endosos"
         },
         {
          "Año": 2017,
          "Fecha": "2017-09",
          "Ramo": "Acc.Pers.Auton.",
          "value": 0,
          "variable": "Otros_Endosos"
         },
         {
          "Año": 2017,
          "Fecha": "2017-10",
          "Ramo": "Acc.Pers.Auton.",
          "value": 0,
          "variable": "Otros_Endosos"
         },
         {
          "Año": 2017,
          "Fecha": "2017-11",
          "Ramo": "Acc.Pers.Auton.",
          "value": 0,
          "variable": "Otros_Endosos"
         },
         {
          "Año": 2017,
          "Fecha": "2017-12",
          "Ramo": "Acc.Pers.Auton.",
          "value": 1,
          "variable": "Otros_Endosos"
         },
         {
          "Año": 2017,
          "Fecha": "2017-01",
          "Ramo": "Cascos",
          "value": 0,
          "variable": "Otros_Endosos"
         },
         {
          "Año": 2017,
          "Fecha": "2017-02",
          "Ramo": "Cascos",
          "value": 0,
          "variable": "Otros_Endosos"
         },
         {
          "Año": 2017,
          "Fecha": "2017-03",
          "Ramo": "Cascos",
          "value": 0,
          "variable": "Otros_Endosos"
         },
         {
          "Año": 2017,
          "Fecha": "2017-04",
          "Ramo": "Cascos",
          "value": 0,
          "variable": "Otros_Endosos"
         },
         {
          "Año": 2017,
          "Fecha": "2017-05",
          "Ramo": "Cascos",
          "value": 0,
          "variable": "Otros_Endosos"
         },
         {
          "Año": 2017,
          "Fecha": "2017-06",
          "Ramo": "Cascos",
          "value": 0,
          "variable": "Otros_Endosos"
         },
         {
          "Año": 2017,
          "Fecha": "2017-07",
          "Ramo": "Cascos",
          "value": 0,
          "variable": "Otros_Endosos"
         },
         {
          "Año": 2017,
          "Fecha": "2017-08",
          "Ramo": "Cascos",
          "value": 0,
          "variable": "Otros_Endosos"
         },
         {
          "Año": 2017,
          "Fecha": "2017-09",
          "Ramo": "Cascos",
          "value": 0,
          "variable": "Otros_Endosos"
         },
         {
          "Año": 2017,
          "Fecha": "2017-10",
          "Ramo": "Cascos",
          "value": 3,
          "variable": "Otros_Endosos"
         },
         {
          "Año": 2017,
          "Fecha": "2017-11",
          "Ramo": "Cascos",
          "value": 1,
          "variable": "Otros_Endosos"
         },
         {
          "Año": 2017,
          "Fecha": "2017-12",
          "Ramo": "Cascos",
          "value": 0,
          "variable": "Otros_Endosos"
         },
         {
          "Año": 2017,
          "Fecha": "2017-01",
          "Ramo": "Int.Consorcio",
          "value": 0,
          "variable": "Otros_Endosos"
         },
         {
          "Año": 2017,
          "Fecha": "2017-02",
          "Ramo": "Int.Consorcio",
          "value": 0,
          "variable": "Otros_Endosos"
         },
         {
          "Año": 2017,
          "Fecha": "2017-03",
          "Ramo": "Int.Consorcio",
          "value": 0,
          "variable": "Otros_Endosos"
         },
         {
          "Año": 2017,
          "Fecha": "2017-04",
          "Ramo": "Int.Consorcio",
          "value": 0,
          "variable": "Otros_Endosos"
         },
         {
          "Año": 2017,
          "Fecha": "2017-05",
          "Ramo": "Int.Consorcio",
          "value": 0,
          "variable": "Otros_Endosos"
         },
         {
          "Año": 2017,
          "Fecha": "2017-06",
          "Ramo": "Int.Consorcio",
          "value": 0,
          "variable": "Otros_Endosos"
         },
         {
          "Año": 2017,
          "Fecha": "2017-07",
          "Ramo": "Int.Consorcio",
          "value": 0,
          "variable": "Otros_Endosos"
         },
         {
          "Año": 2017,
          "Fecha": "2017-08",
          "Ramo": "Int.Consorcio",
          "value": 0,
          "variable": "Otros_Endosos"
         },
         {
          "Año": 2017,
          "Fecha": "2017-09",
          "Ramo": "Int.Consorcio",
          "value": 0,
          "variable": "Otros_Endosos"
         },
         {
          "Año": 2017,
          "Fecha": "2017-10",
          "Ramo": "Int.Consorcio",
          "value": 0,
          "variable": "Otros_Endosos"
         },
         {
          "Año": 2017,
          "Fecha": "2017-11",
          "Ramo": "Int.Consorcio",
          "value": 0,
          "variable": "Otros_Endosos"
         },
         {
          "Año": 2017,
          "Fecha": "2017-12",
          "Ramo": "Int.Consorcio",
          "value": 0,
          "variable": "Otros_Endosos"
         },
         {
          "Año": 2017,
          "Fecha": "2017-01",
          "Ramo": "Riesgos Varios",
          "value": 0,
          "variable": "Otros_Endosos"
         },
         {
          "Año": 2017,
          "Fecha": "2017-02",
          "Ramo": "Riesgos Varios",
          "value": 0,
          "variable": "Otros_Endosos"
         },
         {
          "Año": 2017,
          "Fecha": "2017-03",
          "Ramo": "Riesgos Varios",
          "value": 0,
          "variable": "Otros_Endosos"
         },
         {
          "Año": 2017,
          "Fecha": "2017-04",
          "Ramo": "Riesgos Varios",
          "value": 0,
          "variable": "Otros_Endosos"
         },
         {
          "Año": 2017,
          "Fecha": "2017-05",
          "Ramo": "Riesgos Varios",
          "value": 0,
          "variable": "Otros_Endosos"
         },
         {
          "Año": 2017,
          "Fecha": "2017-06",
          "Ramo": "Riesgos Varios",
          "value": 0,
          "variable": "Otros_Endosos"
         },
         {
          "Año": 2017,
          "Fecha": "2017-07",
          "Ramo": "Riesgos Varios",
          "value": 0,
          "variable": "Otros_Endosos"
         },
         {
          "Año": 2017,
          "Fecha": "2017-08",
          "Ramo": "Riesgos Varios",
          "value": 0,
          "variable": "Otros_Endosos"
         },
         {
          "Año": 2017,
          "Fecha": "2017-09",
          "Ramo": "Riesgos Varios",
          "value": 0,
          "variable": "Otros_Endosos"
         },
         {
          "Año": 2017,
          "Fecha": "2017-10",
          "Ramo": "Riesgos Varios",
          "value": 0,
          "variable": "Otros_Endosos"
         },
         {
          "Año": 2017,
          "Fecha": "2017-11",
          "Ramo": "Riesgos Varios",
          "value": 0,
          "variable": "Otros_Endosos"
         },
         {
          "Año": 2017,
          "Fecha": "2017-12",
          "Ramo": "Riesgos Varios",
          "value": 0,
          "variable": "Otros_Endosos"
         },
         {
          "Año": 2017,
          "Fecha": "2017-01",
          "Ramo": "Cristales",
          "value": 0,
          "variable": "Otros_Endosos"
         },
         {
          "Año": 2017,
          "Fecha": "2017-02",
          "Ramo": "Cristales",
          "value": 0,
          "variable": "Otros_Endosos"
         },
         {
          "Año": 2017,
          "Fecha": "2017-03",
          "Ramo": "Cristales",
          "value": 0,
          "variable": "Otros_Endosos"
         },
         {
          "Año": 2017,
          "Fecha": "2017-04",
          "Ramo": "Cristales",
          "value": 0,
          "variable": "Otros_Endosos"
         },
         {
          "Año": 2017,
          "Fecha": "2017-05",
          "Ramo": "Cristales",
          "value": 0,
          "variable": "Otros_Endosos"
         },
         {
          "Año": 2017,
          "Fecha": "2017-06",
          "Ramo": "Cristales",
          "value": 0,
          "variable": "Otros_Endosos"
         },
         {
          "Año": 2017,
          "Fecha": "2017-07",
          "Ramo": "Cristales",
          "value": 0,
          "variable": "Otros_Endosos"
         },
         {
          "Año": 2017,
          "Fecha": "2017-08",
          "Ramo": "Cristales",
          "value": 0,
          "variable": "Otros_Endosos"
         },
         {
          "Año": 2017,
          "Fecha": "2017-09",
          "Ramo": "Cristales",
          "value": 0,
          "variable": "Otros_Endosos"
         },
         {
          "Año": 2017,
          "Fecha": "2017-10",
          "Ramo": "Cristales",
          "value": 0,
          "variable": "Otros_Endosos"
         },
         {
          "Año": 2017,
          "Fecha": "2017-11",
          "Ramo": "Cristales",
          "value": 0,
          "variable": "Otros_Endosos"
         },
         {
          "Año": 2017,
          "Fecha": "2017-12",
          "Ramo": "Cristales",
          "value": 0,
          "variable": "Otros_Endosos"
         },
         {
          "Año": 2017,
          "Fecha": "2017-01",
          "Ramo": "Perdida de Beneficio",
          "value": 0,
          "variable": "Otros_Endosos"
         },
         {
          "Año": 2017,
          "Fecha": "2017-02",
          "Ramo": "Perdida de Beneficio",
          "value": 0,
          "variable": "Otros_Endosos"
         },
         {
          "Año": 2017,
          "Fecha": "2017-03",
          "Ramo": "Perdida de Beneficio",
          "value": 0,
          "variable": "Otros_Endosos"
         },
         {
          "Año": 2017,
          "Fecha": "2017-04",
          "Ramo": "Perdida de Beneficio",
          "value": 0,
          "variable": "Otros_Endosos"
         },
         {
          "Año": 2017,
          "Fecha": "2017-05",
          "Ramo": "Perdida de Beneficio",
          "value": 0,
          "variable": "Otros_Endosos"
         },
         {
          "Año": 2017,
          "Fecha": "2017-06",
          "Ramo": "Perdida de Beneficio",
          "value": 0,
          "variable": "Otros_Endosos"
         },
         {
          "Año": 2017,
          "Fecha": "2017-07",
          "Ramo": "Perdida de Beneficio",
          "value": 0,
          "variable": "Otros_Endosos"
         },
         {
          "Año": 2017,
          "Fecha": "2017-08",
          "Ramo": "Perdida de Beneficio",
          "value": 0,
          "variable": "Otros_Endosos"
         },
         {
          "Año": 2017,
          "Fecha": "2017-09",
          "Ramo": "Perdida de Beneficio",
          "value": 0,
          "variable": "Otros_Endosos"
         },
         {
          "Año": 2017,
          "Fecha": "2017-10",
          "Ramo": "Perdida de Beneficio",
          "value": 0,
          "variable": "Otros_Endosos"
         },
         {
          "Año": 2017,
          "Fecha": "2017-11",
          "Ramo": "Perdida de Beneficio",
          "value": 0,
          "variable": "Otros_Endosos"
         },
         {
          "Año": 2017,
          "Fecha": "2017-12",
          "Ramo": "Perdida de Beneficio",
          "value": 0,
          "variable": "Otros_Endosos"
         },
         {
          "Año": 2018,
          "Fecha": "2018-01",
          "Ramo": "Vida individual",
          "value": 0,
          "variable": "Otros_Endosos"
         },
         {
          "Año": 2018,
          "Fecha": "2018-02",
          "Ramo": "Vida individual",
          "value": 0,
          "variable": "Otros_Endosos"
         },
         {
          "Año": 2018,
          "Fecha": "2018-03",
          "Ramo": "Vida individual",
          "value": 0,
          "variable": "Otros_Endosos"
         },
         {
          "Año": 2018,
          "Fecha": "2018-04",
          "Ramo": "Vida individual",
          "value": 0,
          "variable": "Otros_Endosos"
         },
         {
          "Año": 2018,
          "Fecha": "2018-05",
          "Ramo": "Vida individual",
          "value": 0,
          "variable": "Otros_Endosos"
         },
         {
          "Año": 2018,
          "Fecha": "2018-06",
          "Ramo": "Vida individual",
          "value": 1,
          "variable": "Otros_Endosos"
         },
         {
          "Año": 2018,
          "Fecha": "2018-07",
          "Ramo": "Vida individual",
          "value": 1,
          "variable": "Otros_Endosos"
         },
         {
          "Año": 2018,
          "Fecha": "2018-08",
          "Ramo": "Vida individual",
          "value": 0,
          "variable": "Otros_Endosos"
         },
         {
          "Año": 2018,
          "Fecha": "2018-09",
          "Ramo": "Vida individual",
          "value": 1,
          "variable": "Otros_Endosos"
         },
         {
          "Año": 2018,
          "Fecha": "2018-10",
          "Ramo": "Vida individual",
          "value": 1,
          "variable": "Otros_Endosos"
         },
         {
          "Año": 2018,
          "Fecha": "2018-11",
          "Ramo": "Vida individual",
          "value": 1,
          "variable": "Otros_Endosos"
         },
         {
          "Año": 2018,
          "Fecha": "2018-12",
          "Ramo": "Vida individual",
          "value": 0,
          "variable": "Otros_Endosos"
         },
         {
          "Año": 2018,
          "Fecha": "2018-01",
          "Ramo": "Automotores",
          "value": 37,
          "variable": "Otros_Endosos"
         },
         {
          "Año": 2018,
          "Fecha": "2018-02",
          "Ramo": "Automotores",
          "value": 9,
          "variable": "Otros_Endosos"
         },
         {
          "Año": 2018,
          "Fecha": "2018-03",
          "Ramo": "Automotores",
          "value": 24,
          "variable": "Otros_Endosos"
         },
         {
          "Año": 2018,
          "Fecha": "2018-04",
          "Ramo": "Automotores",
          "value": 37,
          "variable": "Otros_Endosos"
         },
         {
          "Año": 2018,
          "Fecha": "2018-05",
          "Ramo": "Automotores",
          "value": 21,
          "variable": "Otros_Endosos"
         },
         {
          "Año": 2018,
          "Fecha": "2018-06",
          "Ramo": "Automotores",
          "value": 34,
          "variable": "Otros_Endosos"
         },
         {
          "Año": 2018,
          "Fecha": "2018-07",
          "Ramo": "Automotores",
          "value": 22,
          "variable": "Otros_Endosos"
         },
         {
          "Año": 2018,
          "Fecha": "2018-08",
          "Ramo": "Automotores",
          "value": 32,
          "variable": "Otros_Endosos"
         },
         {
          "Año": 2018,
          "Fecha": "2018-09",
          "Ramo": "Automotores",
          "value": 69,
          "variable": "Otros_Endosos"
         },
         {
          "Año": 2018,
          "Fecha": "2018-10",
          "Ramo": "Automotores",
          "value": 41,
          "variable": "Otros_Endosos"
         },
         {
          "Año": 2018,
          "Fecha": "2018-11",
          "Ramo": "Automotores",
          "value": 31,
          "variable": "Otros_Endosos"
         },
         {
          "Año": 2018,
          "Fecha": "2018-12",
          "Ramo": "Automotores",
          "value": 7,
          "variable": "Otros_Endosos"
         },
         {
          "Año": 2018,
          "Fecha": "2018-01",
          "Ramo": "Comb.Familiar",
          "value": 6,
          "variable": "Otros_Endosos"
         },
         {
          "Año": 2018,
          "Fecha": "2018-02",
          "Ramo": "Comb.Familiar",
          "value": 1,
          "variable": "Otros_Endosos"
         },
         {
          "Año": 2018,
          "Fecha": "2018-03",
          "Ramo": "Comb.Familiar",
          "value": 2,
          "variable": "Otros_Endosos"
         },
         {
          "Año": 2018,
          "Fecha": "2018-04",
          "Ramo": "Comb.Familiar",
          "value": 4,
          "variable": "Otros_Endosos"
         },
         {
          "Año": 2018,
          "Fecha": "2018-05",
          "Ramo": "Comb.Familiar",
          "value": 2,
          "variable": "Otros_Endosos"
         },
         {
          "Año": 2018,
          "Fecha": "2018-06",
          "Ramo": "Comb.Familiar",
          "value": 4,
          "variable": "Otros_Endosos"
         },
         {
          "Año": 2018,
          "Fecha": "2018-07",
          "Ramo": "Comb.Familiar",
          "value": 2,
          "variable": "Otros_Endosos"
         },
         {
          "Año": 2018,
          "Fecha": "2018-08",
          "Ramo": "Comb.Familiar",
          "value": 3,
          "variable": "Otros_Endosos"
         },
         {
          "Año": 2018,
          "Fecha": "2018-09",
          "Ramo": "Comb.Familiar",
          "value": 5,
          "variable": "Otros_Endosos"
         },
         {
          "Año": 2018,
          "Fecha": "2018-10",
          "Ramo": "Comb.Familiar",
          "value": 2,
          "variable": "Otros_Endosos"
         },
         {
          "Año": 2018,
          "Fecha": "2018-11",
          "Ramo": "Comb.Familiar",
          "value": 4,
          "variable": "Otros_Endosos"
         },
         {
          "Año": 2018,
          "Fecha": "2018-12",
          "Ramo": "Comb.Familiar",
          "value": 1,
          "variable": "Otros_Endosos"
         },
         {
          "Año": 2018,
          "Fecha": "2018-01",
          "Ramo": "Acc.Personales",
          "value": 22,
          "variable": "Otros_Endosos"
         },
         {
          "Año": 2018,
          "Fecha": "2018-02",
          "Ramo": "Acc.Personales",
          "value": 4,
          "variable": "Otros_Endosos"
         },
         {
          "Año": 2018,
          "Fecha": "2018-03",
          "Ramo": "Acc.Personales",
          "value": 17,
          "variable": "Otros_Endosos"
         },
         {
          "Año": 2018,
          "Fecha": "2018-04",
          "Ramo": "Acc.Personales",
          "value": 13,
          "variable": "Otros_Endosos"
         },
         {
          "Año": 2018,
          "Fecha": "2018-05",
          "Ramo": "Acc.Personales",
          "value": 17,
          "variable": "Otros_Endosos"
         },
         {
          "Año": 2018,
          "Fecha": "2018-06",
          "Ramo": "Acc.Personales",
          "value": 5,
          "variable": "Otros_Endosos"
         },
         {
          "Año": 2018,
          "Fecha": "2018-07",
          "Ramo": "Acc.Personales",
          "value": 18,
          "variable": "Otros_Endosos"
         },
         {
          "Año": 2018,
          "Fecha": "2018-08",
          "Ramo": "Acc.Personales",
          "value": 15,
          "variable": "Otros_Endosos"
         },
         {
          "Año": 2018,
          "Fecha": "2018-09",
          "Ramo": "Acc.Personales",
          "value": 16,
          "variable": "Otros_Endosos"
         },
         {
          "Año": 2018,
          "Fecha": "2018-10",
          "Ramo": "Acc.Personales",
          "value": 10,
          "variable": "Otros_Endosos"
         },
         {
          "Año": 2018,
          "Fecha": "2018-11",
          "Ramo": "Acc.Personales",
          "value": 10,
          "variable": "Otros_Endosos"
         },
         {
          "Año": 2018,
          "Fecha": "2018-12",
          "Ramo": "Acc.Personales",
          "value": 3,
          "variable": "Otros_Endosos"
         },
         {
          "Año": 2018,
          "Fecha": "2018-01",
          "Ramo": "Incendio",
          "value": 0,
          "variable": "Otros_Endosos"
         },
         {
          "Año": 2018,
          "Fecha": "2018-02",
          "Ramo": "Incendio",
          "value": 0,
          "variable": "Otros_Endosos"
         },
         {
          "Año": 2018,
          "Fecha": "2018-03",
          "Ramo": "Incendio",
          "value": 0,
          "variable": "Otros_Endosos"
         },
         {
          "Año": 2018,
          "Fecha": "2018-04",
          "Ramo": "Incendio",
          "value": 0,
          "variable": "Otros_Endosos"
         },
         {
          "Año": 2018,
          "Fecha": "2018-05",
          "Ramo": "Incendio",
          "value": 0,
          "variable": "Otros_Endosos"
         },
         {
          "Año": 2018,
          "Fecha": "2018-06",
          "Ramo": "Incendio",
          "value": 0,
          "variable": "Otros_Endosos"
         },
         {
          "Año": 2018,
          "Fecha": "2018-07",
          "Ramo": "Incendio",
          "value": 0,
          "variable": "Otros_Endosos"
         },
         {
          "Año": 2018,
          "Fecha": "2018-08",
          "Ramo": "Incendio",
          "value": 0,
          "variable": "Otros_Endosos"
         },
         {
          "Año": 2018,
          "Fecha": "2018-09",
          "Ramo": "Incendio",
          "value": 0,
          "variable": "Otros_Endosos"
         },
         {
          "Año": 2018,
          "Fecha": "2018-10",
          "Ramo": "Incendio",
          "value": 0,
          "variable": "Otros_Endosos"
         },
         {
          "Año": 2018,
          "Fecha": "2018-11",
          "Ramo": "Incendio",
          "value": 0,
          "variable": "Otros_Endosos"
         },
         {
          "Año": 2018,
          "Fecha": "2018-12",
          "Ramo": "Incendio",
          "value": 0,
          "variable": "Otros_Endosos"
         },
         {
          "Año": 2018,
          "Fecha": "2018-01",
          "Ramo": "Caucion",
          "value": 0,
          "variable": "Otros_Endosos"
         },
         {
          "Año": 2018,
          "Fecha": "2018-02",
          "Ramo": "Caucion",
          "value": 0,
          "variable": "Otros_Endosos"
         },
         {
          "Año": 2018,
          "Fecha": "2018-03",
          "Ramo": "Caucion",
          "value": 0,
          "variable": "Otros_Endosos"
         },
         {
          "Año": 2018,
          "Fecha": "2018-04",
          "Ramo": "Caucion",
          "value": 0,
          "variable": "Otros_Endosos"
         },
         {
          "Año": 2018,
          "Fecha": "2018-05",
          "Ramo": "Caucion",
          "value": 1,
          "variable": "Otros_Endosos"
         },
         {
          "Año": 2018,
          "Fecha": "2018-06",
          "Ramo": "Caucion",
          "value": 0,
          "variable": "Otros_Endosos"
         },
         {
          "Año": 2018,
          "Fecha": "2018-07",
          "Ramo": "Caucion",
          "value": 0,
          "variable": "Otros_Endosos"
         },
         {
          "Año": 2018,
          "Fecha": "2018-08",
          "Ramo": "Caucion",
          "value": 0,
          "variable": "Otros_Endosos"
         },
         {
          "Año": 2018,
          "Fecha": "2018-09",
          "Ramo": "Caucion",
          "value": 0,
          "variable": "Otros_Endosos"
         },
         {
          "Año": 2018,
          "Fecha": "2018-10",
          "Ramo": "Caucion",
          "value": 0,
          "variable": "Otros_Endosos"
         },
         {
          "Año": 2018,
          "Fecha": "2018-11",
          "Ramo": "Caucion",
          "value": 1,
          "variable": "Otros_Endosos"
         },
         {
          "Año": 2018,
          "Fecha": "2018-12",
          "Ramo": "Caucion",
          "value": 0,
          "variable": "Otros_Endosos"
         },
         {
          "Año": 2018,
          "Fecha": "2018-01",
          "Ramo": "Acc. Fliares Transportados",
          "value": 0,
          "variable": "Otros_Endosos"
         },
         {
          "Año": 2018,
          "Fecha": "2018-02",
          "Ramo": "Acc. Fliares Transportados",
          "value": 0,
          "variable": "Otros_Endosos"
         },
         {
          "Año": 2018,
          "Fecha": "2018-03",
          "Ramo": "Acc. Fliares Transportados",
          "value": 0,
          "variable": "Otros_Endosos"
         },
         {
          "Año": 2018,
          "Fecha": "2018-04",
          "Ramo": "Acc. Fliares Transportados",
          "value": 0,
          "variable": "Otros_Endosos"
         },
         {
          "Año": 2018,
          "Fecha": "2018-05",
          "Ramo": "Acc. Fliares Transportados",
          "value": 0,
          "variable": "Otros_Endosos"
         },
         {
          "Año": 2018,
          "Fecha": "2018-06",
          "Ramo": "Acc. Fliares Transportados",
          "value": 0,
          "variable": "Otros_Endosos"
         },
         {
          "Año": 2018,
          "Fecha": "2018-07",
          "Ramo": "Acc. Fliares Transportados",
          "value": 0,
          "variable": "Otros_Endosos"
         },
         {
          "Año": 2018,
          "Fecha": "2018-08",
          "Ramo": "Acc. Fliares Transportados",
          "value": 0,
          "variable": "Otros_Endosos"
         },
         {
          "Año": 2018,
          "Fecha": "2018-09",
          "Ramo": "Acc. Fliares Transportados",
          "value": 0,
          "variable": "Otros_Endosos"
         },
         {
          "Año": 2018,
          "Fecha": "2018-10",
          "Ramo": "Acc. Fliares Transportados",
          "value": 1,
          "variable": "Otros_Endosos"
         },
         {
          "Año": 2018,
          "Fecha": "2018-11",
          "Ramo": "Acc. Fliares Transportados",
          "value": 0,
          "variable": "Otros_Endosos"
         },
         {
          "Año": 2018,
          "Fecha": "2018-12",
          "Ramo": "Acc. Fliares Transportados",
          "value": 0,
          "variable": "Otros_Endosos"
         },
         {
          "Año": 2018,
          "Fecha": "2018-01",
          "Ramo": "Vida Oblig.",
          "value": 2,
          "variable": "Otros_Endosos"
         },
         {
          "Año": 2018,
          "Fecha": "2018-02",
          "Ramo": "Vida Oblig.",
          "value": 6,
          "variable": "Otros_Endosos"
         },
         {
          "Año": 2018,
          "Fecha": "2018-03",
          "Ramo": "Vida Oblig.",
          "value": 51,
          "variable": "Otros_Endosos"
         },
         {
          "Año": 2018,
          "Fecha": "2018-04",
          "Ramo": "Vida Oblig.",
          "value": 11,
          "variable": "Otros_Endosos"
         },
         {
          "Año": 2018,
          "Fecha": "2018-05",
          "Ramo": "Vida Oblig.",
          "value": 2,
          "variable": "Otros_Endosos"
         },
         {
          "Año": 2018,
          "Fecha": "2018-06",
          "Ramo": "Vida Oblig.",
          "value": 0,
          "variable": "Otros_Endosos"
         },
         {
          "Año": 2018,
          "Fecha": "2018-07",
          "Ramo": "Vida Oblig.",
          "value": 1,
          "variable": "Otros_Endosos"
         },
         {
          "Año": 2018,
          "Fecha": "2018-08",
          "Ramo": "Vida Oblig.",
          "value": 0,
          "variable": "Otros_Endosos"
         },
         {
          "Año": 2018,
          "Fecha": "2018-09",
          "Ramo": "Vida Oblig.",
          "value": 0,
          "variable": "Otros_Endosos"
         },
         {
          "Año": 2018,
          "Fecha": "2018-10",
          "Ramo": "Vida Oblig.",
          "value": 0,
          "variable": "Otros_Endosos"
         },
         {
          "Año": 2018,
          "Fecha": "2018-11",
          "Ramo": "Vida Oblig.",
          "value": 0,
          "variable": "Otros_Endosos"
         },
         {
          "Año": 2018,
          "Fecha": "2018-12",
          "Ramo": "Vida Oblig.",
          "value": 0,
          "variable": "Otros_Endosos"
         },
         {
          "Año": 2018,
          "Fecha": "2018-01",
          "Ramo": "A.R.T.",
          "value": 0,
          "variable": "Otros_Endosos"
         },
         {
          "Año": 2018,
          "Fecha": "2018-02",
          "Ramo": "A.R.T.",
          "value": 0,
          "variable": "Otros_Endosos"
         },
         {
          "Año": 2018,
          "Fecha": "2018-03",
          "Ramo": "A.R.T.",
          "value": 1,
          "variable": "Otros_Endosos"
         },
         {
          "Año": 2018,
          "Fecha": "2018-04",
          "Ramo": "A.R.T.",
          "value": 3,
          "variable": "Otros_Endosos"
         },
         {
          "Año": 2018,
          "Fecha": "2018-05",
          "Ramo": "A.R.T.",
          "value": 13,
          "variable": "Otros_Endosos"
         },
         {
          "Año": 2018,
          "Fecha": "2018-06",
          "Ramo": "A.R.T.",
          "value": 0,
          "variable": "Otros_Endosos"
         },
         {
          "Año": 2018,
          "Fecha": "2018-07",
          "Ramo": "A.R.T.",
          "value": 7,
          "variable": "Otros_Endosos"
         },
         {
          "Año": 2018,
          "Fecha": "2018-08",
          "Ramo": "A.R.T.",
          "value": 14,
          "variable": "Otros_Endosos"
         },
         {
          "Año": 2018,
          "Fecha": "2018-09",
          "Ramo": "A.R.T.",
          "value": 12,
          "variable": "Otros_Endosos"
         },
         {
          "Año": 2018,
          "Fecha": "2018-10",
          "Ramo": "A.R.T.",
          "value": 3,
          "variable": "Otros_Endosos"
         },
         {
          "Año": 2018,
          "Fecha": "2018-11",
          "Ramo": "A.R.T.",
          "value": 5,
          "variable": "Otros_Endosos"
         },
         {
          "Año": 2018,
          "Fecha": "2018-12",
          "Ramo": "A.R.T.",
          "value": 0,
          "variable": "Otros_Endosos"
         },
         {
          "Año": 2018,
          "Fecha": "2018-01",
          "Ramo": "Resp.Civil",
          "value": 0,
          "variable": "Otros_Endosos"
         },
         {
          "Año": 2018,
          "Fecha": "2018-02",
          "Ramo": "Resp.Civil",
          "value": 0,
          "variable": "Otros_Endosos"
         },
         {
          "Año": 2018,
          "Fecha": "2018-03",
          "Ramo": "Resp.Civil",
          "value": 5,
          "variable": "Otros_Endosos"
         },
         {
          "Año": 2018,
          "Fecha": "2018-04",
          "Ramo": "Resp.Civil",
          "value": 0,
          "variable": "Otros_Endosos"
         },
         {
          "Año": 2018,
          "Fecha": "2018-05",
          "Ramo": "Resp.Civil",
          "value": 5,
          "variable": "Otros_Endosos"
         },
         {
          "Año": 2018,
          "Fecha": "2018-06",
          "Ramo": "Resp.Civil",
          "value": 1,
          "variable": "Otros_Endosos"
         },
         {
          "Año": 2018,
          "Fecha": "2018-07",
          "Ramo": "Resp.Civil",
          "value": 4,
          "variable": "Otros_Endosos"
         },
         {
          "Año": 2018,
          "Fecha": "2018-08",
          "Ramo": "Resp.Civil",
          "value": 22,
          "variable": "Otros_Endosos"
         },
         {
          "Año": 2018,
          "Fecha": "2018-09",
          "Ramo": "Resp.Civil",
          "value": 1,
          "variable": "Otros_Endosos"
         },
         {
          "Año": 2018,
          "Fecha": "2018-10",
          "Ramo": "Resp.Civil",
          "value": 1,
          "variable": "Otros_Endosos"
         },
         {
          "Año": 2018,
          "Fecha": "2018-11",
          "Ramo": "Resp.Civil",
          "value": 2,
          "variable": "Otros_Endosos"
         },
         {
          "Año": 2018,
          "Fecha": "2018-12",
          "Ramo": "Resp.Civil",
          "value": 2,
          "variable": "Otros_Endosos"
         },
         {
          "Año": 2018,
          "Fecha": "2018-01",
          "Ramo": "Todo Riesgo Operativo",
          "value": 0,
          "variable": "Otros_Endosos"
         },
         {
          "Año": 2018,
          "Fecha": "2018-02",
          "Ramo": "Todo Riesgo Operativo",
          "value": 0,
          "variable": "Otros_Endosos"
         },
         {
          "Año": 2018,
          "Fecha": "2018-03",
          "Ramo": "Todo Riesgo Operativo",
          "value": 0,
          "variable": "Otros_Endosos"
         },
         {
          "Año": 2018,
          "Fecha": "2018-04",
          "Ramo": "Todo Riesgo Operativo",
          "value": 1,
          "variable": "Otros_Endosos"
         },
         {
          "Año": 2018,
          "Fecha": "2018-05",
          "Ramo": "Todo Riesgo Operativo",
          "value": 0,
          "variable": "Otros_Endosos"
         },
         {
          "Año": 2018,
          "Fecha": "2018-06",
          "Ramo": "Todo Riesgo Operativo",
          "value": 0,
          "variable": "Otros_Endosos"
         },
         {
          "Año": 2018,
          "Fecha": "2018-07",
          "Ramo": "Todo Riesgo Operativo",
          "value": 0,
          "variable": "Otros_Endosos"
         },
         {
          "Año": 2018,
          "Fecha": "2018-08",
          "Ramo": "Todo Riesgo Operativo",
          "value": 0,
          "variable": "Otros_Endosos"
         },
         {
          "Año": 2018,
          "Fecha": "2018-09",
          "Ramo": "Todo Riesgo Operativo",
          "value": 0,
          "variable": "Otros_Endosos"
         },
         {
          "Año": 2018,
          "Fecha": "2018-10",
          "Ramo": "Todo Riesgo Operativo",
          "value": 0,
          "variable": "Otros_Endosos"
         },
         {
          "Año": 2018,
          "Fecha": "2018-11",
          "Ramo": "Todo Riesgo Operativo",
          "value": 0,
          "variable": "Otros_Endosos"
         },
         {
          "Año": 2018,
          "Fecha": "2018-12",
          "Ramo": "Todo Riesgo Operativo",
          "value": 0,
          "variable": "Otros_Endosos"
         },
         {
          "Año": 2018,
          "Fecha": "2018-01",
          "Ramo": "Int.de Comer.",
          "value": 3,
          "variable": "Otros_Endosos"
         },
         {
          "Año": 2018,
          "Fecha": "2018-02",
          "Ramo": "Int.de Comer.",
          "value": 1,
          "variable": "Otros_Endosos"
         },
         {
          "Año": 2018,
          "Fecha": "2018-03",
          "Ramo": "Int.de Comer.",
          "value": 5,
          "variable": "Otros_Endosos"
         },
         {
          "Año": 2018,
          "Fecha": "2018-04",
          "Ramo": "Int.de Comer.",
          "value": 2,
          "variable": "Otros_Endosos"
         },
         {
          "Año": 2018,
          "Fecha": "2018-05",
          "Ramo": "Int.de Comer.",
          "value": 0,
          "variable": "Otros_Endosos"
         },
         {
          "Año": 2018,
          "Fecha": "2018-06",
          "Ramo": "Int.de Comer.",
          "value": 4,
          "variable": "Otros_Endosos"
         },
         {
          "Año": 2018,
          "Fecha": "2018-07",
          "Ramo": "Int.de Comer.",
          "value": 3,
          "variable": "Otros_Endosos"
         },
         {
          "Año": 2018,
          "Fecha": "2018-08",
          "Ramo": "Int.de Comer.",
          "value": 2,
          "variable": "Otros_Endosos"
         },
         {
          "Año": 2018,
          "Fecha": "2018-09",
          "Ramo": "Int.de Comer.",
          "value": 2,
          "variable": "Otros_Endosos"
         },
         {
          "Año": 2018,
          "Fecha": "2018-10",
          "Ramo": "Int.de Comer.",
          "value": 2,
          "variable": "Otros_Endosos"
         },
         {
          "Año": 2018,
          "Fecha": "2018-11",
          "Ramo": "Int.de Comer.",
          "value": 3,
          "variable": "Otros_Endosos"
         },
         {
          "Año": 2018,
          "Fecha": "2018-12",
          "Ramo": "Int.de Comer.",
          "value": 0,
          "variable": "Otros_Endosos"
         },
         {
          "Año": 2018,
          "Fecha": "2018-01",
          "Ramo": "Moto - Vehículo",
          "value": 1,
          "variable": "Otros_Endosos"
         },
         {
          "Año": 2018,
          "Fecha": "2018-02",
          "Ramo": "Moto - Vehículo",
          "value": 3,
          "variable": "Otros_Endosos"
         },
         {
          "Año": 2018,
          "Fecha": "2018-03",
          "Ramo": "Moto - Vehículo",
          "value": 0,
          "variable": "Otros_Endosos"
         },
         {
          "Año": 2018,
          "Fecha": "2018-04",
          "Ramo": "Moto - Vehículo",
          "value": 2,
          "variable": "Otros_Endosos"
         },
         {
          "Año": 2018,
          "Fecha": "2018-05",
          "Ramo": "Moto - Vehículo",
          "value": 0,
          "variable": "Otros_Endosos"
         },
         {
          "Año": 2018,
          "Fecha": "2018-06",
          "Ramo": "Moto - Vehículo",
          "value": 0,
          "variable": "Otros_Endosos"
         },
         {
          "Año": 2018,
          "Fecha": "2018-07",
          "Ramo": "Moto - Vehículo",
          "value": 0,
          "variable": "Otros_Endosos"
         },
         {
          "Año": 2018,
          "Fecha": "2018-08",
          "Ramo": "Moto - Vehículo",
          "value": 1,
          "variable": "Otros_Endosos"
         },
         {
          "Año": 2018,
          "Fecha": "2018-09",
          "Ramo": "Moto - Vehículo",
          "value": 0,
          "variable": "Otros_Endosos"
         },
         {
          "Año": 2018,
          "Fecha": "2018-10",
          "Ramo": "Moto - Vehículo",
          "value": 2,
          "variable": "Otros_Endosos"
         },
         {
          "Año": 2018,
          "Fecha": "2018-11",
          "Ramo": "Moto - Vehículo",
          "value": 1,
          "variable": "Otros_Endosos"
         },
         {
          "Año": 2018,
          "Fecha": "2018-12",
          "Ramo": "Moto - Vehículo",
          "value": 0,
          "variable": "Otros_Endosos"
         },
         {
          "Año": 2018,
          "Fecha": "2018-01",
          "Ramo": "Sepelio",
          "value": 0,
          "variable": "Otros_Endosos"
         },
         {
          "Año": 2018,
          "Fecha": "2018-02",
          "Ramo": "Sepelio",
          "value": 0,
          "variable": "Otros_Endosos"
         },
         {
          "Año": 2018,
          "Fecha": "2018-03",
          "Ramo": "Sepelio",
          "value": 0,
          "variable": "Otros_Endosos"
         },
         {
          "Año": 2018,
          "Fecha": "2018-04",
          "Ramo": "Sepelio",
          "value": 0,
          "variable": "Otros_Endosos"
         },
         {
          "Año": 2018,
          "Fecha": "2018-05",
          "Ramo": "Sepelio",
          "value": 0,
          "variable": "Otros_Endosos"
         },
         {
          "Año": 2018,
          "Fecha": "2018-06",
          "Ramo": "Sepelio",
          "value": 0,
          "variable": "Otros_Endosos"
         },
         {
          "Año": 2018,
          "Fecha": "2018-07",
          "Ramo": "Sepelio",
          "value": 0,
          "variable": "Otros_Endosos"
         },
         {
          "Año": 2018,
          "Fecha": "2018-08",
          "Ramo": "Sepelio",
          "value": 0,
          "variable": "Otros_Endosos"
         },
         {
          "Año": 2018,
          "Fecha": "2018-09",
          "Ramo": "Sepelio",
          "value": 0,
          "variable": "Otros_Endosos"
         },
         {
          "Año": 2018,
          "Fecha": "2018-10",
          "Ramo": "Sepelio",
          "value": 0,
          "variable": "Otros_Endosos"
         },
         {
          "Año": 2018,
          "Fecha": "2018-11",
          "Ramo": "Sepelio",
          "value": 0,
          "variable": "Otros_Endosos"
         },
         {
          "Año": 2018,
          "Fecha": "2018-12",
          "Ramo": "Sepelio",
          "value": 0,
          "variable": "Otros_Endosos"
         },
         {
          "Año": 2018,
          "Fecha": "2018-01",
          "Ramo": "Vida Colectivo",
          "value": 2,
          "variable": "Otros_Endosos"
         },
         {
          "Año": 2018,
          "Fecha": "2018-02",
          "Ramo": "Vida Colectivo",
          "value": 24,
          "variable": "Otros_Endosos"
         },
         {
          "Año": 2018,
          "Fecha": "2018-03",
          "Ramo": "Vida Colectivo",
          "value": 3,
          "variable": "Otros_Endosos"
         },
         {
          "Año": 2018,
          "Fecha": "2018-04",
          "Ramo": "Vida Colectivo",
          "value": 23,
          "variable": "Otros_Endosos"
         },
         {
          "Año": 2018,
          "Fecha": "2018-05",
          "Ramo": "Vida Colectivo",
          "value": 6,
          "variable": "Otros_Endosos"
         },
         {
          "Año": 2018,
          "Fecha": "2018-06",
          "Ramo": "Vida Colectivo",
          "value": 1,
          "variable": "Otros_Endosos"
         },
         {
          "Año": 2018,
          "Fecha": "2018-07",
          "Ramo": "Vida Colectivo",
          "value": 6,
          "variable": "Otros_Endosos"
         },
         {
          "Año": 2018,
          "Fecha": "2018-08",
          "Ramo": "Vida Colectivo",
          "value": 9,
          "variable": "Otros_Endosos"
         },
         {
          "Año": 2018,
          "Fecha": "2018-09",
          "Ramo": "Vida Colectivo",
          "value": 3,
          "variable": "Otros_Endosos"
         },
         {
          "Año": 2018,
          "Fecha": "2018-10",
          "Ramo": "Vida Colectivo",
          "value": 0,
          "variable": "Otros_Endosos"
         },
         {
          "Año": 2018,
          "Fecha": "2018-11",
          "Ramo": "Vida Colectivo",
          "value": 0,
          "variable": "Otros_Endosos"
         },
         {
          "Año": 2018,
          "Fecha": "2018-12",
          "Ramo": "Vida Colectivo",
          "value": 0,
          "variable": "Otros_Endosos"
         },
         {
          "Año": 2018,
          "Fecha": "2018-01",
          "Ramo": "Seguro Tecnico",
          "value": 0,
          "variable": "Otros_Endosos"
         },
         {
          "Año": 2018,
          "Fecha": "2018-02",
          "Ramo": "Seguro Tecnico",
          "value": 0,
          "variable": "Otros_Endosos"
         },
         {
          "Año": 2018,
          "Fecha": "2018-03",
          "Ramo": "Seguro Tecnico",
          "value": 1,
          "variable": "Otros_Endosos"
         },
         {
          "Año": 2018,
          "Fecha": "2018-04",
          "Ramo": "Seguro Tecnico",
          "value": 0,
          "variable": "Otros_Endosos"
         },
         {
          "Año": 2018,
          "Fecha": "2018-05",
          "Ramo": "Seguro Tecnico",
          "value": 0,
          "variable": "Otros_Endosos"
         },
         {
          "Año": 2018,
          "Fecha": "2018-06",
          "Ramo": "Seguro Tecnico",
          "value": 1,
          "variable": "Otros_Endosos"
         },
         {
          "Año": 2018,
          "Fecha": "2018-07",
          "Ramo": "Seguro Tecnico",
          "value": 0,
          "variable": "Otros_Endosos"
         },
         {
          "Año": 2018,
          "Fecha": "2018-08",
          "Ramo": "Seguro Tecnico",
          "value": 0,
          "variable": "Otros_Endosos"
         },
         {
          "Año": 2018,
          "Fecha": "2018-09",
          "Ramo": "Seguro Tecnico",
          "value": 2,
          "variable": "Otros_Endosos"
         },
         {
          "Año": 2018,
          "Fecha": "2018-10",
          "Ramo": "Seguro Tecnico",
          "value": 0,
          "variable": "Otros_Endosos"
         },
         {
          "Año": 2018,
          "Fecha": "2018-11",
          "Ramo": "Seguro Tecnico",
          "value": 0,
          "variable": "Otros_Endosos"
         },
         {
          "Año": 2018,
          "Fecha": "2018-12",
          "Ramo": "Seguro Tecnico",
          "value": 0,
          "variable": "Otros_Endosos"
         },
         {
          "Año": 2018,
          "Fecha": "2018-01",
          "Ramo": "Incendio / Int. de Consorcio",
          "value": 0,
          "variable": "Otros_Endosos"
         },
         {
          "Año": 2018,
          "Fecha": "2018-02",
          "Ramo": "Incendio / Int. de Consorcio",
          "value": 0,
          "variable": "Otros_Endosos"
         },
         {
          "Año": 2018,
          "Fecha": "2018-03",
          "Ramo": "Incendio / Int. de Consorcio",
          "value": 0,
          "variable": "Otros_Endosos"
         },
         {
          "Año": 2018,
          "Fecha": "2018-04",
          "Ramo": "Incendio / Int. de Consorcio",
          "value": 0,
          "variable": "Otros_Endosos"
         },
         {
          "Año": 2018,
          "Fecha": "2018-05",
          "Ramo": "Incendio / Int. de Consorcio",
          "value": 6,
          "variable": "Otros_Endosos"
         },
         {
          "Año": 2018,
          "Fecha": "2018-06",
          "Ramo": "Incendio / Int. de Consorcio",
          "value": 4,
          "variable": "Otros_Endosos"
         },
         {
          "Año": 2018,
          "Fecha": "2018-07",
          "Ramo": "Incendio / Int. de Consorcio",
          "value": 0,
          "variable": "Otros_Endosos"
         },
         {
          "Año": 2018,
          "Fecha": "2018-08",
          "Ramo": "Incendio / Int. de Consorcio",
          "value": 0,
          "variable": "Otros_Endosos"
         },
         {
          "Año": 2018,
          "Fecha": "2018-09",
          "Ramo": "Incendio / Int. de Consorcio",
          "value": 4,
          "variable": "Otros_Endosos"
         },
         {
          "Año": 2018,
          "Fecha": "2018-10",
          "Ramo": "Incendio / Int. de Consorcio",
          "value": 1,
          "variable": "Otros_Endosos"
         },
         {
          "Año": 2018,
          "Fecha": "2018-11",
          "Ramo": "Incendio / Int. de Consorcio",
          "value": 2,
          "variable": "Otros_Endosos"
         },
         {
          "Año": 2018,
          "Fecha": "2018-12",
          "Ramo": "Incendio / Int. de Consorcio",
          "value": 0,
          "variable": "Otros_Endosos"
         },
         {
          "Año": 2018,
          "Fecha": "2018-01",
          "Ramo": "Transporte",
          "value": 0,
          "variable": "Otros_Endosos"
         },
         {
          "Año": 2018,
          "Fecha": "2018-02",
          "Ramo": "Transporte",
          "value": 0,
          "variable": "Otros_Endosos"
         },
         {
          "Año": 2018,
          "Fecha": "2018-03",
          "Ramo": "Transporte",
          "value": 0,
          "variable": "Otros_Endosos"
         },
         {
          "Año": 2018,
          "Fecha": "2018-04",
          "Ramo": "Transporte",
          "value": 0,
          "variable": "Otros_Endosos"
         },
         {
          "Año": 2018,
          "Fecha": "2018-05",
          "Ramo": "Transporte",
          "value": 0,
          "variable": "Otros_Endosos"
         },
         {
          "Año": 2018,
          "Fecha": "2018-06",
          "Ramo": "Transporte",
          "value": 0,
          "variable": "Otros_Endosos"
         },
         {
          "Año": 2018,
          "Fecha": "2018-07",
          "Ramo": "Transporte",
          "value": 0,
          "variable": "Otros_Endosos"
         },
         {
          "Año": 2018,
          "Fecha": "2018-08",
          "Ramo": "Transporte",
          "value": 0,
          "variable": "Otros_Endosos"
         },
         {
          "Año": 2018,
          "Fecha": "2018-09",
          "Ramo": "Transporte",
          "value": 0,
          "variable": "Otros_Endosos"
         },
         {
          "Año": 2018,
          "Fecha": "2018-10",
          "Ramo": "Transporte",
          "value": 0,
          "variable": "Otros_Endosos"
         },
         {
          "Año": 2018,
          "Fecha": "2018-11",
          "Ramo": "Transporte",
          "value": 0,
          "variable": "Otros_Endosos"
         },
         {
          "Año": 2018,
          "Fecha": "2018-12",
          "Ramo": "Transporte",
          "value": 0,
          "variable": "Otros_Endosos"
         },
         {
          "Año": 2018,
          "Fecha": "2018-01",
          "Ramo": "Vida Cont.Trab.",
          "value": 0,
          "variable": "Otros_Endosos"
         },
         {
          "Año": 2018,
          "Fecha": "2018-02",
          "Ramo": "Vida Cont.Trab.",
          "value": 3,
          "variable": "Otros_Endosos"
         },
         {
          "Año": 2018,
          "Fecha": "2018-03",
          "Ramo": "Vida Cont.Trab.",
          "value": 2,
          "variable": "Otros_Endosos"
         },
         {
          "Año": 2018,
          "Fecha": "2018-04",
          "Ramo": "Vida Cont.Trab.",
          "value": 1,
          "variable": "Otros_Endosos"
         },
         {
          "Año": 2018,
          "Fecha": "2018-05",
          "Ramo": "Vida Cont.Trab.",
          "value": 0,
          "variable": "Otros_Endosos"
         },
         {
          "Año": 2018,
          "Fecha": "2018-06",
          "Ramo": "Vida Cont.Trab.",
          "value": 3,
          "variable": "Otros_Endosos"
         },
         {
          "Año": 2018,
          "Fecha": "2018-07",
          "Ramo": "Vida Cont.Trab.",
          "value": 0,
          "variable": "Otros_Endosos"
         },
         {
          "Año": 2018,
          "Fecha": "2018-08",
          "Ramo": "Vida Cont.Trab.",
          "value": 0,
          "variable": "Otros_Endosos"
         },
         {
          "Año": 2018,
          "Fecha": "2018-09",
          "Ramo": "Vida Cont.Trab.",
          "value": 0,
          "variable": "Otros_Endosos"
         },
         {
          "Año": 2018,
          "Fecha": "2018-10",
          "Ramo": "Vida Cont.Trab.",
          "value": 0,
          "variable": "Otros_Endosos"
         },
         {
          "Año": 2018,
          "Fecha": "2018-11",
          "Ramo": "Vida Cont.Trab.",
          "value": 0,
          "variable": "Otros_Endosos"
         },
         {
          "Año": 2018,
          "Fecha": "2018-12",
          "Ramo": "Vida Cont.Trab.",
          "value": 0,
          "variable": "Otros_Endosos"
         },
         {
          "Año": 2018,
          "Fecha": "2018-01",
          "Ramo": "Robo",
          "value": 0,
          "variable": "Otros_Endosos"
         },
         {
          "Año": 2018,
          "Fecha": "2018-02",
          "Ramo": "Robo",
          "value": 0,
          "variable": "Otros_Endosos"
         },
         {
          "Año": 2018,
          "Fecha": "2018-03",
          "Ramo": "Robo",
          "value": 0,
          "variable": "Otros_Endosos"
         },
         {
          "Año": 2018,
          "Fecha": "2018-04",
          "Ramo": "Robo",
          "value": 0,
          "variable": "Otros_Endosos"
         },
         {
          "Año": 2018,
          "Fecha": "2018-05",
          "Ramo": "Robo",
          "value": 0,
          "variable": "Otros_Endosos"
         },
         {
          "Año": 2018,
          "Fecha": "2018-06",
          "Ramo": "Robo",
          "value": 0,
          "variable": "Otros_Endosos"
         },
         {
          "Año": 2018,
          "Fecha": "2018-07",
          "Ramo": "Robo",
          "value": 0,
          "variable": "Otros_Endosos"
         },
         {
          "Año": 2018,
          "Fecha": "2018-08",
          "Ramo": "Robo",
          "value": 0,
          "variable": "Otros_Endosos"
         },
         {
          "Año": 2018,
          "Fecha": "2018-09",
          "Ramo": "Robo",
          "value": 0,
          "variable": "Otros_Endosos"
         },
         {
          "Año": 2018,
          "Fecha": "2018-10",
          "Ramo": "Robo",
          "value": 0,
          "variable": "Otros_Endosos"
         },
         {
          "Año": 2018,
          "Fecha": "2018-11",
          "Ramo": "Robo",
          "value": 0,
          "variable": "Otros_Endosos"
         },
         {
          "Año": 2018,
          "Fecha": "2018-12",
          "Ramo": "Robo",
          "value": 0,
          "variable": "Otros_Endosos"
         },
         {
          "Año": 2018,
          "Fecha": "2018-01",
          "Ramo": "Salud",
          "value": 0,
          "variable": "Otros_Endosos"
         },
         {
          "Año": 2018,
          "Fecha": "2018-02",
          "Ramo": "Salud",
          "value": 0,
          "variable": "Otros_Endosos"
         },
         {
          "Año": 2018,
          "Fecha": "2018-03",
          "Ramo": "Salud",
          "value": 0,
          "variable": "Otros_Endosos"
         },
         {
          "Año": 2018,
          "Fecha": "2018-04",
          "Ramo": "Salud",
          "value": 0,
          "variable": "Otros_Endosos"
         },
         {
          "Año": 2018,
          "Fecha": "2018-05",
          "Ramo": "Salud",
          "value": 0,
          "variable": "Otros_Endosos"
         },
         {
          "Año": 2018,
          "Fecha": "2018-06",
          "Ramo": "Salud",
          "value": 0,
          "variable": "Otros_Endosos"
         },
         {
          "Año": 2018,
          "Fecha": "2018-07",
          "Ramo": "Salud",
          "value": 0,
          "variable": "Otros_Endosos"
         },
         {
          "Año": 2018,
          "Fecha": "2018-08",
          "Ramo": "Salud",
          "value": 0,
          "variable": "Otros_Endosos"
         },
         {
          "Año": 2018,
          "Fecha": "2018-09",
          "Ramo": "Salud",
          "value": 0,
          "variable": "Otros_Endosos"
         },
         {
          "Año": 2018,
          "Fecha": "2018-10",
          "Ramo": "Salud",
          "value": 1,
          "variable": "Otros_Endosos"
         },
         {
          "Año": 2018,
          "Fecha": "2018-11",
          "Ramo": "Salud",
          "value": 1,
          "variable": "Otros_Endosos"
         },
         {
          "Año": 2018,
          "Fecha": "2018-12",
          "Ramo": "Salud",
          "value": 0,
          "variable": "Otros_Endosos"
         },
         {
          "Año": 2018,
          "Fecha": "2018-01",
          "Ramo": "Acc.Pers.Auton.",
          "value": 0,
          "variable": "Otros_Endosos"
         },
         {
          "Año": 2018,
          "Fecha": "2018-02",
          "Ramo": "Acc.Pers.Auton.",
          "value": 0,
          "variable": "Otros_Endosos"
         },
         {
          "Año": 2018,
          "Fecha": "2018-03",
          "Ramo": "Acc.Pers.Auton.",
          "value": 1,
          "variable": "Otros_Endosos"
         },
         {
          "Año": 2018,
          "Fecha": "2018-04",
          "Ramo": "Acc.Pers.Auton.",
          "value": 0,
          "variable": "Otros_Endosos"
         },
         {
          "Año": 2018,
          "Fecha": "2018-05",
          "Ramo": "Acc.Pers.Auton.",
          "value": 0,
          "variable": "Otros_Endosos"
         },
         {
          "Año": 2018,
          "Fecha": "2018-06",
          "Ramo": "Acc.Pers.Auton.",
          "value": 1,
          "variable": "Otros_Endosos"
         },
         {
          "Año": 2018,
          "Fecha": "2018-07",
          "Ramo": "Acc.Pers.Auton.",
          "value": 0,
          "variable": "Otros_Endosos"
         },
         {
          "Año": 2018,
          "Fecha": "2018-08",
          "Ramo": "Acc.Pers.Auton.",
          "value": 1,
          "variable": "Otros_Endosos"
         },
         {
          "Año": 2018,
          "Fecha": "2018-09",
          "Ramo": "Acc.Pers.Auton.",
          "value": 0,
          "variable": "Otros_Endosos"
         },
         {
          "Año": 2018,
          "Fecha": "2018-10",
          "Ramo": "Acc.Pers.Auton.",
          "value": 0,
          "variable": "Otros_Endosos"
         },
         {
          "Año": 2018,
          "Fecha": "2018-11",
          "Ramo": "Acc.Pers.Auton.",
          "value": 0,
          "variable": "Otros_Endosos"
         },
         {
          "Año": 2018,
          "Fecha": "2018-12",
          "Ramo": "Acc.Pers.Auton.",
          "value": 0,
          "variable": "Otros_Endosos"
         },
         {
          "Año": 2018,
          "Fecha": "2018-01",
          "Ramo": "Cascos",
          "value": 0,
          "variable": "Otros_Endosos"
         },
         {
          "Año": 2018,
          "Fecha": "2018-02",
          "Ramo": "Cascos",
          "value": 0,
          "variable": "Otros_Endosos"
         },
         {
          "Año": 2018,
          "Fecha": "2018-03",
          "Ramo": "Cascos",
          "value": 0,
          "variable": "Otros_Endosos"
         },
         {
          "Año": 2018,
          "Fecha": "2018-04",
          "Ramo": "Cascos",
          "value": 0,
          "variable": "Otros_Endosos"
         },
         {
          "Año": 2018,
          "Fecha": "2018-05",
          "Ramo": "Cascos",
          "value": 0,
          "variable": "Otros_Endosos"
         },
         {
          "Año": 2018,
          "Fecha": "2018-06",
          "Ramo": "Cascos",
          "value": 0,
          "variable": "Otros_Endosos"
         },
         {
          "Año": 2018,
          "Fecha": "2018-07",
          "Ramo": "Cascos",
          "value": 0,
          "variable": "Otros_Endosos"
         },
         {
          "Año": 2018,
          "Fecha": "2018-08",
          "Ramo": "Cascos",
          "value": 0,
          "variable": "Otros_Endosos"
         },
         {
          "Año": 2018,
          "Fecha": "2018-09",
          "Ramo": "Cascos",
          "value": 0,
          "variable": "Otros_Endosos"
         },
         {
          "Año": 2018,
          "Fecha": "2018-10",
          "Ramo": "Cascos",
          "value": 0,
          "variable": "Otros_Endosos"
         },
         {
          "Año": 2018,
          "Fecha": "2018-11",
          "Ramo": "Cascos",
          "value": 0,
          "variable": "Otros_Endosos"
         },
         {
          "Año": 2018,
          "Fecha": "2018-12",
          "Ramo": "Cascos",
          "value": 0,
          "variable": "Otros_Endosos"
         },
         {
          "Año": 2018,
          "Fecha": "2018-01",
          "Ramo": "Int.Consorcio",
          "value": 0,
          "variable": "Otros_Endosos"
         },
         {
          "Año": 2018,
          "Fecha": "2018-02",
          "Ramo": "Int.Consorcio",
          "value": 0,
          "variable": "Otros_Endosos"
         },
         {
          "Año": 2018,
          "Fecha": "2018-03",
          "Ramo": "Int.Consorcio",
          "value": 0,
          "variable": "Otros_Endosos"
         },
         {
          "Año": 2018,
          "Fecha": "2018-04",
          "Ramo": "Int.Consorcio",
          "value": 0,
          "variable": "Otros_Endosos"
         },
         {
          "Año": 2018,
          "Fecha": "2018-05",
          "Ramo": "Int.Consorcio",
          "value": 0,
          "variable": "Otros_Endosos"
         },
         {
          "Año": 2018,
          "Fecha": "2018-06",
          "Ramo": "Int.Consorcio",
          "value": 0,
          "variable": "Otros_Endosos"
         },
         {
          "Año": 2018,
          "Fecha": "2018-07",
          "Ramo": "Int.Consorcio",
          "value": 0,
          "variable": "Otros_Endosos"
         },
         {
          "Año": 2018,
          "Fecha": "2018-08",
          "Ramo": "Int.Consorcio",
          "value": 0,
          "variable": "Otros_Endosos"
         },
         {
          "Año": 2018,
          "Fecha": "2018-09",
          "Ramo": "Int.Consorcio",
          "value": 0,
          "variable": "Otros_Endosos"
         },
         {
          "Año": 2018,
          "Fecha": "2018-10",
          "Ramo": "Int.Consorcio",
          "value": 0,
          "variable": "Otros_Endosos"
         },
         {
          "Año": 2018,
          "Fecha": "2018-11",
          "Ramo": "Int.Consorcio",
          "value": 0,
          "variable": "Otros_Endosos"
         },
         {
          "Año": 2018,
          "Fecha": "2018-12",
          "Ramo": "Int.Consorcio",
          "value": 0,
          "variable": "Otros_Endosos"
         },
         {
          "Año": 2018,
          "Fecha": "2018-01",
          "Ramo": "Riesgos Varios",
          "value": 0,
          "variable": "Otros_Endosos"
         },
         {
          "Año": 2018,
          "Fecha": "2018-02",
          "Ramo": "Riesgos Varios",
          "value": 0,
          "variable": "Otros_Endosos"
         },
         {
          "Año": 2018,
          "Fecha": "2018-03",
          "Ramo": "Riesgos Varios",
          "value": 0,
          "variable": "Otros_Endosos"
         },
         {
          "Año": 2018,
          "Fecha": "2018-04",
          "Ramo": "Riesgos Varios",
          "value": 0,
          "variable": "Otros_Endosos"
         },
         {
          "Año": 2018,
          "Fecha": "2018-05",
          "Ramo": "Riesgos Varios",
          "value": 0,
          "variable": "Otros_Endosos"
         },
         {
          "Año": 2018,
          "Fecha": "2018-06",
          "Ramo": "Riesgos Varios",
          "value": 1,
          "variable": "Otros_Endosos"
         },
         {
          "Año": 2018,
          "Fecha": "2018-07",
          "Ramo": "Riesgos Varios",
          "value": 0,
          "variable": "Otros_Endosos"
         },
         {
          "Año": 2018,
          "Fecha": "2018-08",
          "Ramo": "Riesgos Varios",
          "value": 0,
          "variable": "Otros_Endosos"
         },
         {
          "Año": 2018,
          "Fecha": "2018-09",
          "Ramo": "Riesgos Varios",
          "value": 1,
          "variable": "Otros_Endosos"
         },
         {
          "Año": 2018,
          "Fecha": "2018-10",
          "Ramo": "Riesgos Varios",
          "value": 0,
          "variable": "Otros_Endosos"
         },
         {
          "Año": 2018,
          "Fecha": "2018-11",
          "Ramo": "Riesgos Varios",
          "value": 1,
          "variable": "Otros_Endosos"
         },
         {
          "Año": 2018,
          "Fecha": "2018-12",
          "Ramo": "Riesgos Varios",
          "value": 0,
          "variable": "Otros_Endosos"
         },
         {
          "Año": 2018,
          "Fecha": "2018-01",
          "Ramo": "Cristales",
          "value": 0,
          "variable": "Otros_Endosos"
         },
         {
          "Año": 2018,
          "Fecha": "2018-02",
          "Ramo": "Cristales",
          "value": 0,
          "variable": "Otros_Endosos"
         },
         {
          "Año": 2018,
          "Fecha": "2018-03",
          "Ramo": "Cristales",
          "value": 0,
          "variable": "Otros_Endosos"
         },
         {
          "Año": 2018,
          "Fecha": "2018-04",
          "Ramo": "Cristales",
          "value": 0,
          "variable": "Otros_Endosos"
         },
         {
          "Año": 2018,
          "Fecha": "2018-05",
          "Ramo": "Cristales",
          "value": 0,
          "variable": "Otros_Endosos"
         },
         {
          "Año": 2018,
          "Fecha": "2018-06",
          "Ramo": "Cristales",
          "value": 0,
          "variable": "Otros_Endosos"
         },
         {
          "Año": 2018,
          "Fecha": "2018-07",
          "Ramo": "Cristales",
          "value": 0,
          "variable": "Otros_Endosos"
         },
         {
          "Año": 2018,
          "Fecha": "2018-08",
          "Ramo": "Cristales",
          "value": 0,
          "variable": "Otros_Endosos"
         },
         {
          "Año": 2018,
          "Fecha": "2018-09",
          "Ramo": "Cristales",
          "value": 0,
          "variable": "Otros_Endosos"
         },
         {
          "Año": 2018,
          "Fecha": "2018-10",
          "Ramo": "Cristales",
          "value": 0,
          "variable": "Otros_Endosos"
         },
         {
          "Año": 2018,
          "Fecha": "2018-11",
          "Ramo": "Cristales",
          "value": 0,
          "variable": "Otros_Endosos"
         },
         {
          "Año": 2018,
          "Fecha": "2018-12",
          "Ramo": "Cristales",
          "value": 0,
          "variable": "Otros_Endosos"
         },
         {
          "Año": 2018,
          "Fecha": "2018-01",
          "Ramo": "Perdida de Beneficio",
          "value": 0,
          "variable": "Otros_Endosos"
         },
         {
          "Año": 2018,
          "Fecha": "2018-02",
          "Ramo": "Perdida de Beneficio",
          "value": 0,
          "variable": "Otros_Endosos"
         },
         {
          "Año": 2018,
          "Fecha": "2018-03",
          "Ramo": "Perdida de Beneficio",
          "value": 0,
          "variable": "Otros_Endosos"
         },
         {
          "Año": 2018,
          "Fecha": "2018-04",
          "Ramo": "Perdida de Beneficio",
          "value": 0,
          "variable": "Otros_Endosos"
         },
         {
          "Año": 2018,
          "Fecha": "2018-05",
          "Ramo": "Perdida de Beneficio",
          "value": 0,
          "variable": "Otros_Endosos"
         },
         {
          "Año": 2018,
          "Fecha": "2018-06",
          "Ramo": "Perdida de Beneficio",
          "value": 0,
          "variable": "Otros_Endosos"
         },
         {
          "Año": 2018,
          "Fecha": "2018-07",
          "Ramo": "Perdida de Beneficio",
          "value": 0,
          "variable": "Otros_Endosos"
         },
         {
          "Año": 2018,
          "Fecha": "2018-08",
          "Ramo": "Perdida de Beneficio",
          "value": 0,
          "variable": "Otros_Endosos"
         },
         {
          "Año": 2018,
          "Fecha": "2018-09",
          "Ramo": "Perdida de Beneficio",
          "value": 0,
          "variable": "Otros_Endosos"
         },
         {
          "Año": 2018,
          "Fecha": "2018-10",
          "Ramo": "Perdida de Beneficio",
          "value": 0,
          "variable": "Otros_Endosos"
         },
         {
          "Año": 2018,
          "Fecha": "2018-11",
          "Ramo": "Perdida de Beneficio",
          "value": 0,
          "variable": "Otros_Endosos"
         },
         {
          "Año": 2018,
          "Fecha": "2018-12",
          "Ramo": "Perdida de Beneficio",
          "value": 0,
          "variable": "Otros_Endosos"
         }
        ],
        "data-85ce79a2fc7a540d812f4547feeb919e": [
         {
          "Año": 2016,
          "Fecha": "2016-01",
          "value": 181,
          "variable": "Emisiones"
         },
         {
          "Año": 2016,
          "Fecha": "2016-02",
          "value": 149,
          "variable": "Emisiones"
         },
         {
          "Año": 2016,
          "Fecha": "2016-03",
          "value": 158,
          "variable": "Emisiones"
         },
         {
          "Año": 2016,
          "Fecha": "2016-04",
          "value": 192,
          "variable": "Emisiones"
         },
         {
          "Año": 2016,
          "Fecha": "2016-05",
          "value": 185,
          "variable": "Emisiones"
         },
         {
          "Año": 2016,
          "Fecha": "2016-06",
          "value": 179,
          "variable": "Emisiones"
         },
         {
          "Año": 2016,
          "Fecha": "2016-07",
          "value": 217,
          "variable": "Emisiones"
         },
         {
          "Año": 2016,
          "Fecha": "2016-08",
          "value": 313,
          "variable": "Emisiones"
         },
         {
          "Año": 2016,
          "Fecha": "2016-09",
          "value": 257,
          "variable": "Emisiones"
         },
         {
          "Año": 2016,
          "Fecha": "2016-10",
          "value": 197,
          "variable": "Emisiones"
         },
         {
          "Año": 2016,
          "Fecha": "2016-11",
          "value": 159,
          "variable": "Emisiones"
         },
         {
          "Año": 2016,
          "Fecha": "2016-12",
          "value": 184,
          "variable": "Emisiones"
         },
         {
          "Año": 2017,
          "Fecha": "2017-01",
          "value": 218,
          "variable": "Emisiones"
         },
         {
          "Año": 2017,
          "Fecha": "2017-02",
          "value": 114,
          "variable": "Emisiones"
         },
         {
          "Año": 2017,
          "Fecha": "2017-03",
          "value": 138,
          "variable": "Emisiones"
         },
         {
          "Año": 2017,
          "Fecha": "2017-04",
          "value": 126,
          "variable": "Emisiones"
         },
         {
          "Año": 2017,
          "Fecha": "2017-05",
          "value": 194,
          "variable": "Emisiones"
         },
         {
          "Año": 2017,
          "Fecha": "2017-06",
          "value": 162,
          "variable": "Emisiones"
         },
         {
          "Año": 2017,
          "Fecha": "2017-07",
          "value": 178,
          "variable": "Emisiones"
         },
         {
          "Año": 2017,
          "Fecha": "2017-08",
          "value": 254,
          "variable": "Emisiones"
         },
         {
          "Año": 2017,
          "Fecha": "2017-09",
          "value": 211,
          "variable": "Emisiones"
         },
         {
          "Año": 2017,
          "Fecha": "2017-10",
          "value": 194,
          "variable": "Emisiones"
         },
         {
          "Año": 2017,
          "Fecha": "2017-11",
          "value": 200,
          "variable": "Emisiones"
         },
         {
          "Año": 2017,
          "Fecha": "2017-12",
          "value": 211,
          "variable": "Emisiones"
         },
         {
          "Año": 2018,
          "Fecha": "2018-01",
          "value": 260,
          "variable": "Emisiones"
         },
         {
          "Año": 2018,
          "Fecha": "2018-02",
          "value": 180,
          "variable": "Emisiones"
         },
         {
          "Año": 2018,
          "Fecha": "2018-03",
          "value": 210,
          "variable": "Emisiones"
         },
         {
          "Año": 2018,
          "Fecha": "2018-04",
          "value": 211,
          "variable": "Emisiones"
         },
         {
          "Año": 2018,
          "Fecha": "2018-05",
          "value": 291,
          "variable": "Emisiones"
         },
         {
          "Año": 2018,
          "Fecha": "2018-06",
          "value": 206,
          "variable": "Emisiones"
         },
         {
          "Año": 2018,
          "Fecha": "2018-07",
          "value": 243,
          "variable": "Emisiones"
         },
         {
          "Año": 2018,
          "Fecha": "2018-08",
          "value": 314,
          "variable": "Emisiones"
         },
         {
          "Año": 2018,
          "Fecha": "2018-09",
          "value": 354,
          "variable": "Emisiones"
         },
         {
          "Año": 2018,
          "Fecha": "2018-10",
          "value": 486,
          "variable": "Emisiones"
         },
         {
          "Año": 2018,
          "Fecha": "2018-11",
          "value": 365,
          "variable": "Emisiones"
         },
         {
          "Año": 2018,
          "Fecha": "2018-12",
          "value": 113,
          "variable": "Emisiones"
         },
         {
          "Año": 2016,
          "Fecha": "2016-01",
          "value": 395,
          "variable": "Refa_Reno"
         },
         {
          "Año": 2016,
          "Fecha": "2016-02",
          "value": 503,
          "variable": "Refa_Reno"
         },
         {
          "Año": 2016,
          "Fecha": "2016-03",
          "value": 503,
          "variable": "Refa_Reno"
         },
         {
          "Año": 2016,
          "Fecha": "2016-04",
          "value": 473,
          "variable": "Refa_Reno"
         },
         {
          "Año": 2016,
          "Fecha": "2016-05",
          "value": 451,
          "variable": "Refa_Reno"
         },
         {
          "Año": 2016,
          "Fecha": "2016-06",
          "value": 493,
          "variable": "Refa_Reno"
         },
         {
          "Año": 2016,
          "Fecha": "2016-07",
          "value": 616,
          "variable": "Refa_Reno"
         },
         {
          "Año": 2016,
          "Fecha": "2016-08",
          "value": 627,
          "variable": "Refa_Reno"
         },
         {
          "Año": 2016,
          "Fecha": "2016-09",
          "value": 596,
          "variable": "Refa_Reno"
         },
         {
          "Año": 2016,
          "Fecha": "2016-10",
          "value": 583,
          "variable": "Refa_Reno"
         },
         {
          "Año": 2016,
          "Fecha": "2016-11",
          "value": 508,
          "variable": "Refa_Reno"
         },
         {
          "Año": 2016,
          "Fecha": "2016-12",
          "value": 456,
          "variable": "Refa_Reno"
         },
         {
          "Año": 2017,
          "Fecha": "2017-01",
          "value": 651,
          "variable": "Refa_Reno"
         },
         {
          "Año": 2017,
          "Fecha": "2017-02",
          "value": 500,
          "variable": "Refa_Reno"
         },
         {
          "Año": 2017,
          "Fecha": "2017-03",
          "value": 491,
          "variable": "Refa_Reno"
         },
         {
          "Año": 2017,
          "Fecha": "2017-04",
          "value": 565,
          "variable": "Refa_Reno"
         },
         {
          "Año": 2017,
          "Fecha": "2017-05",
          "value": 573,
          "variable": "Refa_Reno"
         },
         {
          "Año": 2017,
          "Fecha": "2017-06",
          "value": 568,
          "variable": "Refa_Reno"
         },
         {
          "Año": 2017,
          "Fecha": "2017-07",
          "value": 586,
          "variable": "Refa_Reno"
         },
         {
          "Año": 2017,
          "Fecha": "2017-08",
          "value": 628,
          "variable": "Refa_Reno"
         },
         {
          "Año": 2017,
          "Fecha": "2017-09",
          "value": 658,
          "variable": "Refa_Reno"
         },
         {
          "Año": 2017,
          "Fecha": "2017-10",
          "value": 646,
          "variable": "Refa_Reno"
         },
         {
          "Año": 2017,
          "Fecha": "2017-11",
          "value": 669,
          "variable": "Refa_Reno"
         },
         {
          "Año": 2017,
          "Fecha": "2017-12",
          "value": 642,
          "variable": "Refa_Reno"
         },
         {
          "Año": 2018,
          "Fecha": "2018-01",
          "value": 829,
          "variable": "Refa_Reno"
         },
         {
          "Año": 2018,
          "Fecha": "2018-02",
          "value": 532,
          "variable": "Refa_Reno"
         },
         {
          "Año": 2018,
          "Fecha": "2018-03",
          "value": 509,
          "variable": "Refa_Reno"
         },
         {
          "Año": 2018,
          "Fecha": "2018-04",
          "value": 786,
          "variable": "Refa_Reno"
         },
         {
          "Año": 2018,
          "Fecha": "2018-05",
          "value": 426,
          "variable": "Refa_Reno"
         },
         {
          "Año": 2018,
          "Fecha": "2018-06",
          "value": 400,
          "variable": "Refa_Reno"
         },
         {
          "Año": 2018,
          "Fecha": "2018-07",
          "value": 426,
          "variable": "Refa_Reno"
         },
         {
          "Año": 2018,
          "Fecha": "2018-08",
          "value": 396,
          "variable": "Refa_Reno"
         },
         {
          "Año": 2018,
          "Fecha": "2018-09",
          "value": 360,
          "variable": "Refa_Reno"
         },
         {
          "Año": 2018,
          "Fecha": "2018-10",
          "value": 297,
          "variable": "Refa_Reno"
         },
         {
          "Año": 2018,
          "Fecha": "2018-11",
          "value": 401,
          "variable": "Refa_Reno"
         },
         {
          "Año": 2018,
          "Fecha": "2018-12",
          "value": 80,
          "variable": "Refa_Reno"
         },
         {
          "Año": 2016,
          "Fecha": "2016-01",
          "value": 77,
          "variable": "Anulaciones"
         },
         {
          "Año": 2016,
          "Fecha": "2016-02",
          "value": 91,
          "variable": "Anulaciones"
         },
         {
          "Año": 2016,
          "Fecha": "2016-03",
          "value": 122,
          "variable": "Anulaciones"
         },
         {
          "Año": 2016,
          "Fecha": "2016-04",
          "value": 170,
          "variable": "Anulaciones"
         },
         {
          "Año": 2016,
          "Fecha": "2016-05",
          "value": 103,
          "variable": "Anulaciones"
         },
         {
          "Año": 2016,
          "Fecha": "2016-06",
          "value": 115,
          "variable": "Anulaciones"
         },
         {
          "Año": 2016,
          "Fecha": "2016-07",
          "value": 137,
          "variable": "Anulaciones"
         },
         {
          "Año": 2016,
          "Fecha": "2016-08",
          "value": 75,
          "variable": "Anulaciones"
         },
         {
          "Año": 2016,
          "Fecha": "2016-09",
          "value": 108,
          "variable": "Anulaciones"
         },
         {
          "Año": 2016,
          "Fecha": "2016-10",
          "value": 113,
          "variable": "Anulaciones"
         },
         {
          "Año": 2016,
          "Fecha": "2016-11",
          "value": 126,
          "variable": "Anulaciones"
         },
         {
          "Año": 2016,
          "Fecha": "2016-12",
          "value": 121,
          "variable": "Anulaciones"
         },
         {
          "Año": 2017,
          "Fecha": "2017-01",
          "value": 135,
          "variable": "Anulaciones"
         },
         {
          "Año": 2017,
          "Fecha": "2017-02",
          "value": 79,
          "variable": "Anulaciones"
         },
         {
          "Año": 2017,
          "Fecha": "2017-03",
          "value": 134,
          "variable": "Anulaciones"
         },
         {
          "Año": 2017,
          "Fecha": "2017-04",
          "value": 104,
          "variable": "Anulaciones"
         },
         {
          "Año": 2017,
          "Fecha": "2017-05",
          "value": 172,
          "variable": "Anulaciones"
         },
         {
          "Año": 2017,
          "Fecha": "2017-06",
          "value": 102,
          "variable": "Anulaciones"
         },
         {
          "Año": 2017,
          "Fecha": "2017-07",
          "value": 108,
          "variable": "Anulaciones"
         },
         {
          "Año": 2017,
          "Fecha": "2017-08",
          "value": 173,
          "variable": "Anulaciones"
         },
         {
          "Año": 2017,
          "Fecha": "2017-09",
          "value": 165,
          "variable": "Anulaciones"
         },
         {
          "Año": 2017,
          "Fecha": "2017-10",
          "value": 170,
          "variable": "Anulaciones"
         },
         {
          "Año": 2017,
          "Fecha": "2017-11",
          "value": 114,
          "variable": "Anulaciones"
         },
         {
          "Año": 2017,
          "Fecha": "2017-12",
          "value": 151,
          "variable": "Anulaciones"
         },
         {
          "Año": 2018,
          "Fecha": "2018-01",
          "value": 156,
          "variable": "Anulaciones"
         },
         {
          "Año": 2018,
          "Fecha": "2018-02",
          "value": 58,
          "variable": "Anulaciones"
         },
         {
          "Año": 2018,
          "Fecha": "2018-03",
          "value": 172,
          "variable": "Anulaciones"
         },
         {
          "Año": 2018,
          "Fecha": "2018-04",
          "value": 132,
          "variable": "Anulaciones"
         },
         {
          "Año": 2018,
          "Fecha": "2018-05",
          "value": 196,
          "variable": "Anulaciones"
         },
         {
          "Año": 2018,
          "Fecha": "2018-06",
          "value": 72,
          "variable": "Anulaciones"
         },
         {
          "Año": 2018,
          "Fecha": "2018-07",
          "value": 63,
          "variable": "Anulaciones"
         },
         {
          "Año": 2018,
          "Fecha": "2018-08",
          "value": 105,
          "variable": "Anulaciones"
         },
         {
          "Año": 2018,
          "Fecha": "2018-09",
          "value": 52,
          "variable": "Anulaciones"
         },
         {
          "Año": 2018,
          "Fecha": "2018-10",
          "value": 73,
          "variable": "Anulaciones"
         },
         {
          "Año": 2018,
          "Fecha": "2018-11",
          "value": 74,
          "variable": "Anulaciones"
         },
         {
          "Año": 2018,
          "Fecha": "2018-12",
          "value": 36,
          "variable": "Anulaciones"
         },
         {
          "Año": 2016,
          "Fecha": "2016-01",
          "value": 104,
          "variable": "Otros_Endosos"
         },
         {
          "Año": 2016,
          "Fecha": "2016-02",
          "value": 99,
          "variable": "Otros_Endosos"
         },
         {
          "Año": 2016,
          "Fecha": "2016-03",
          "value": 105,
          "variable": "Otros_Endosos"
         },
         {
          "Año": 2016,
          "Fecha": "2016-04",
          "value": 169,
          "variable": "Otros_Endosos"
         },
         {
          "Año": 2016,
          "Fecha": "2016-05",
          "value": 115,
          "variable": "Otros_Endosos"
         },
         {
          "Año": 2016,
          "Fecha": "2016-06",
          "value": 133,
          "variable": "Otros_Endosos"
         },
         {
          "Año": 2016,
          "Fecha": "2016-07",
          "value": 162,
          "variable": "Otros_Endosos"
         },
         {
          "Año": 2016,
          "Fecha": "2016-08",
          "value": 155,
          "variable": "Otros_Endosos"
         },
         {
          "Año": 2016,
          "Fecha": "2016-09",
          "value": 141,
          "variable": "Otros_Endosos"
         },
         {
          "Año": 2016,
          "Fecha": "2016-10",
          "value": 73,
          "variable": "Otros_Endosos"
         },
         {
          "Año": 2016,
          "Fecha": "2016-11",
          "value": 95,
          "variable": "Otros_Endosos"
         },
         {
          "Año": 2016,
          "Fecha": "2016-12",
          "value": 94,
          "variable": "Otros_Endosos"
         },
         {
          "Año": 2017,
          "Fecha": "2017-01",
          "value": 76,
          "variable": "Otros_Endosos"
         },
         {
          "Año": 2017,
          "Fecha": "2017-02",
          "value": 48,
          "variable": "Otros_Endosos"
         },
         {
          "Año": 2017,
          "Fecha": "2017-03",
          "value": 102,
          "variable": "Otros_Endosos"
         },
         {
          "Año": 2017,
          "Fecha": "2017-04",
          "value": 83,
          "variable": "Otros_Endosos"
         },
         {
          "Año": 2017,
          "Fecha": "2017-05",
          "value": 125,
          "variable": "Otros_Endosos"
         },
         {
          "Año": 2017,
          "Fecha": "2017-06",
          "value": 58,
          "variable": "Otros_Endosos"
         },
         {
          "Año": 2017,
          "Fecha": "2017-07",
          "value": 107,
          "variable": "Otros_Endosos"
         },
         {
          "Año": 2017,
          "Fecha": "2017-08",
          "value": 109,
          "variable": "Otros_Endosos"
         },
         {
          "Año": 2017,
          "Fecha": "2017-09",
          "value": 81,
          "variable": "Otros_Endosos"
         },
         {
          "Año": 2017,
          "Fecha": "2017-10",
          "value": 151,
          "variable": "Otros_Endosos"
         },
         {
          "Año": 2017,
          "Fecha": "2017-11",
          "value": 98,
          "variable": "Otros_Endosos"
         },
         {
          "Año": 2017,
          "Fecha": "2017-12",
          "value": 110,
          "variable": "Otros_Endosos"
         },
         {
          "Año": 2018,
          "Fecha": "2018-01",
          "value": 73,
          "variable": "Otros_Endosos"
         },
         {
          "Año": 2018,
          "Fecha": "2018-02",
          "value": 51,
          "variable": "Otros_Endosos"
         },
         {
          "Año": 2018,
          "Fecha": "2018-03",
          "value": 112,
          "variable": "Otros_Endosos"
         },
         {
          "Año": 2018,
          "Fecha": "2018-04",
          "value": 97,
          "variable": "Otros_Endosos"
         },
         {
          "Año": 2018,
          "Fecha": "2018-05",
          "value": 73,
          "variable": "Otros_Endosos"
         },
         {
          "Año": 2018,
          "Fecha": "2018-06",
          "value": 60,
          "variable": "Otros_Endosos"
         },
         {
          "Año": 2018,
          "Fecha": "2018-07",
          "value": 64,
          "variable": "Otros_Endosos"
         },
         {
          "Año": 2018,
          "Fecha": "2018-08",
          "value": 99,
          "variable": "Otros_Endosos"
         },
         {
          "Año": 2018,
          "Fecha": "2018-09",
          "value": 116,
          "variable": "Otros_Endosos"
         },
         {
          "Año": 2018,
          "Fecha": "2018-10",
          "value": 65,
          "variable": "Otros_Endosos"
         },
         {
          "Año": 2018,
          "Fecha": "2018-11",
          "value": 62,
          "variable": "Otros_Endosos"
         },
         {
          "Año": 2018,
          "Fecha": "2018-12",
          "value": 13,
          "variable": "Otros_Endosos"
         }
        ]
       },
       "title": "Analisis de Operaciones",
       "vconcat": [
        {
         "data": {
          "name": "data-85ce79a2fc7a540d812f4547feeb919e"
         },
         "encoding": {
          "color": {
           "condition": {
            "field": "variable",
            "selection": "selector001",
            "type": "nominal"
           },
           "value": "lightgray"
          },
          "x": {
           "axis": {
            "grid": false,
            "labelAngle": -45,
            "title": "Fechas"
           },
           "field": "Fecha",
           "type": "nominal"
          },
          "y": {
           "axis": {
            "grid": true,
            "title": "Nº Operaciones"
           },
           "field": "value",
           "type": "quantitative"
          }
         },
         "mark": "line",
         "selection": {
          "selector001": {
           "encodings": [
            "x"
           ],
           "mark": {
            "fill": "#333",
            "fillOpacity": 0.125,
            "stroke": "white"
           },
           "on": "[mousedown, window:mouseup] > window:mousemove!",
           "resolve": "global",
           "translate": "[mousedown, window:mouseup] > window:mousemove!",
           "type": "interval",
           "zoom": "wheel!"
          }
         },
         "transform": [
          {
           "filter": {
            "selection": "selector002"
           }
          }
         ],
         "width": 600
        },
        {
         "data": {
          "name": "data-279fd155cee9df8f53fad05013b9c40e"
         },
         "encoding": {
          "color": {
           "condition": {
            "field": "variable",
            "selection": "selector002",
            "type": "nominal"
           },
           "value": "lightgray"
          },
          "x": {
           "axis": {
            "grid": true,
            "title": "Cantidad de Operaciones"
           },
           "field": "value",
           "type": "quantitative"
          },
          "y": {
           "axis": {
            "grid": false,
            "title": "Ramos"
           },
           "field": "Ramo",
           "type": "nominal"
          }
         },
         "mark": "bar",
         "selection": {
          "selector002": {
           "empty": "all",
           "encodings": [
            "color"
           ],
           "on": "click",
           "resolve": "global",
           "toggle": "event.shiftKey",
           "type": "multi"
          }
         },
         "transform": [
          {
           "filter": {
            "selection": "selector001"
           }
          }
         ],
         "width": 600
        },
        {
         "data": {
          "name": "data-279fd155cee9df8f53fad05013b9c40e"
         },
         "encoding": {
          "href": {
           "field": "https://www.linkedin.com/in/ramirogallo/",
           "type": "nominal"
          }
         },
         "mark": {
          "align": "center",
          "fontSize": 12,
          "opacity": 0.5,
          "text": "Ramiro Gallo - Seguime en Linkedin haciendo click aca",
          "type": "text"
         },
         "width": 600
        }
       ]
      },
      "image/png": "[encoded data removed]",
      "text/plain": [
       "<VegaLite 2 object>\n",
       "\n",
       "If you see this message, it means the renderer has not been properly enabled\n",
       "for the frontend that you are using. For more information, see\n",
       "https://altair-viz.github.io/user_guide/troubleshooting.html\n"
      ]
     },
     "execution_count": 3,
     "metadata": {},
     "output_type": "execute_result"
    }
   ],
   "source": [
    "op_anio = '../0_Files/Procesados/Consolidado_Operaciones.csv'\n",
    "df_anio = pd.read_csv(op_anio)\n",
    "\n",
    "op_ramo = '../0_Files/Procesados/Consolidado_Operaciones_Ramo.csv'\n",
    "df_ramo = pd.read_csv(op_ramo)\n",
    "\n",
    "line_bars_grafico(df_anio, df_ramo)\n"
   ]
  },
  {
   "cell_type": "code",
   "execution_count": null,
   "metadata": {},
   "outputs": [],
   "source": []
  },
  {
   "cell_type": "code",
   "execution_count": null,
   "metadata": {},
   "outputs": [],
   "source": []
  }
 ],
 "metadata": {
  "kernelspec": {
   "display_name": "Python 3",
   "language": "python",
   "name": "python3"
  },
  "language_info": {
   "codemirror_mode": {
    "name": "ipython",
    "version": 3
   },
   "file_extension": ".py",
   "mimetype": "text/x-python",
   "name": "python",
   "nbconvert_exporter": "python",
   "pygments_lexer": "ipython3",
   "version": "3.7.0"
  }
 },
 "nbformat": 4,
 "nbformat_minor": 2
}
