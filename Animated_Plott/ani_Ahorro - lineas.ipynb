{
 "cells": [
  {
   "cell_type": "markdown",
   "metadata": {},
   "source": [
    "# This is an animated Plot with a savings data set\n",
    "\n",
    "The idea is create an animation so we can see and understand the difference between three persons that start saving the same sum at diferent ages."
   ]
  },
  {
   "cell_type": "code",
   "execution_count": 1,
   "metadata": {},
   "outputs": [],
   "source": [
    "import numpy as np\n",
    "import pandas as pd\n",
    "import seaborn as sns\n",
    "import matplotlib.pyplot as plt\n",
    "\n",
    "sns.set(style='whitegrid')\n",
    "%matplotlib notebook"
   ]
  },
  {
   "cell_type": "code",
   "execution_count": 2,
   "metadata": {
    "scrolled": true
   },
   "outputs": [
    {
     "data": {
      "text/html": [
       "<div>\n",
       "<style scoped>\n",
       "    .dataframe tbody tr th:only-of-type {\n",
       "        vertical-align: middle;\n",
       "    }\n",
       "\n",
       "    .dataframe tbody tr th {\n",
       "        vertical-align: top;\n",
       "    }\n",
       "\n",
       "    .dataframe thead th {\n",
       "        text-align: right;\n",
       "    }\n",
       "</style>\n",
       "<table border=\"1\" class=\"dataframe\">\n",
       "  <thead>\n",
       "    <tr style=\"text-align: right;\">\n",
       "      <th></th>\n",
       "      <th>CUENTA</th>\n",
       "      <th>EDAD</th>\n",
       "      <th>AHORRO</th>\n",
       "      <th>AÑOS</th>\n",
       "    </tr>\n",
       "  </thead>\n",
       "  <tbody>\n",
       "    <tr>\n",
       "      <th>0</th>\n",
       "      <td>318.0</td>\n",
       "      <td>25 AÑOS</td>\n",
       "      <td>USD 100</td>\n",
       "      <td>1</td>\n",
       "    </tr>\n",
       "    <tr>\n",
       "      <th>1</th>\n",
       "      <td>1013.0</td>\n",
       "      <td>25 AÑOS</td>\n",
       "      <td>USD 100</td>\n",
       "      <td>2</td>\n",
       "    </tr>\n",
       "  </tbody>\n",
       "</table>\n",
       "</div>"
      ],
      "text/plain": [
       "   CUENTA     EDAD   AHORRO  AÑOS\n",
       "0   318.0  25 AÑOS  USD 100     1\n",
       "1  1013.0  25 AÑOS  USD 100     2"
      ]
     },
     "execution_count": 2,
     "metadata": {},
     "output_type": "execute_result"
    }
   ],
   "source": [
    "df = pd.read_excel('df_ahorro.xlsx')\n",
    "df['AHORRO']= pd.Categorical(df['AHORRO'])\n",
    "df.head(2)"
   ]
  },
  {
   "cell_type": "code",
   "execution_count": 3,
   "metadata": {},
   "outputs": [
    {
     "name": "stdout",
     "output_type": "stream",
     "text": [
      "<class 'pandas.core.frame.DataFrame'>\n",
      "RangeIndex: 540 entries, 0 to 539\n",
      "Data columns (total 4 columns):\n",
      "CUENTA    540 non-null float64\n",
      "EDAD      540 non-null object\n",
      "AHORRO    540 non-null category\n",
      "AÑOS      540 non-null int64\n",
      "dtypes: category(1), float64(1), int64(1), object(1)\n",
      "memory usage: 13.4+ KB\n"
     ]
    }
   ],
   "source": [
    "df.info()"
   ]
  },
  {
   "cell_type": "code",
   "execution_count": 10,
   "metadata": {},
   "outputs": [],
   "source": [
    "def animatedPlott(df):\n",
    "    \n",
    "    for i in df.AÑOS.unique():                # With this loop a go thru years to plot each year\n",
    "        tmp = df[df.AÑOS == i]                # Create a temp dataset\n",
    "\n",
    "        fig = plt.figure(figsize=(800/96, 600/96), dpi=96)     \n",
    "\n",
    "        ax = sns.barplot(x=tmp['CUENTA']  , y=tmp['EDAD'], hue=tmp['AHORRO'],  # Plot the values\n",
    "                    hue_order=['USD 200','USD 150','USD 100'], data=tmp,       # Give them the order i need\n",
    "                    palette=\"Blues_d\", ci=None)                                # Change the color pallette\n",
    "\n",
    "        plt.title('AÑO '+str(i),fontsize=20)                                   # Creating the dinamic title\n",
    "        plt.xlabel('CAPITAL EN LA CUENTA A TRAVÉS DE LOS AÑOS',fontsize=14)    \n",
    "        plt.ylabel('EDADES DE COMIENZO',fontsize=14)\n",
    "        plt.xlim(0,450000)                                              # The lim is for have a real image of the difference between time\n",
    "        plt.ylim(2.8,-0.8)\n",
    "        ax.legend(loc=4)                                                \n",
    "\n",
    "        for p in ax.patches:                                     # Take the 9 values of x and y for create the text\n",
    "            largo = int(round(p.get_width()))                    # Take the lenght \n",
    "            ax.text(largo+38000,p.get_y()+0.2,\"USD \"+str(largo), ha='center') # Create the dinamic text\n",
    "\n",
    "        nombre_archivo = 'Plotts/Ahorro_1.0/ejemplo_'+str(i).zfill(4)+'.jpg'       # Save the fiel with dinamic name\n",
    "        plt.savefig(nombre_archivo, dpi=96)                      \n",
    "        plt.gca()                                                \n"
   ]
  },
  {
   "cell_type": "code",
   "execution_count": 9,
   "metadata": {},
   "outputs": [],
   "source": [
    "animatedPlott(df)"
   ]
  },
  {
   "cell_type": "markdown",
   "metadata": {},
   "source": [
    "## Converting the images to gif\n",
    "\n",
    "For this task i use [ImageMagick](http://www.imagemagick.org/script/index.php). Once is installed open the command line, go to the folder and use the following code.  \n",
    "convert -delay 15 -loop 0 ejemplo_*.jpg ani_Ahorro.gif\n",
    "\n",
    "**delay** This give the speed to the image  \n",
    "**loop** The times the gif repeats, in 0 is infinit loop  \n",
    "**ejemplo_*.jpg** The name of the file to convert, with * takes all between it  \n",
    "**ani_Ahorro.gif** The filename of the new   \n"
   ]
  },
  {
   "cell_type": "markdown",
   "metadata": {},
   "source": [
    "   "
   ]
  },
  {
   "cell_type": "code",
   "execution_count": null,
   "metadata": {},
   "outputs": [],
   "source": [
    "   "
   ]
  },
  {
   "cell_type": "code",
   "execution_count": null,
   "metadata": {},
   "outputs": [],
   "source": []
  }
 ],
 "metadata": {
  "kernelspec": {
   "display_name": "Python 3",
   "language": "python",
   "name": "python3"
  },
  "language_info": {
   "codemirror_mode": {
    "name": "ipython",
    "version": 3
   },
   "file_extension": ".py",
   "mimetype": "text/x-python",
   "name": "python",
   "nbconvert_exporter": "python",
   "pygments_lexer": "ipython3",
   "version": "3.7.0"
  }
 },
 "nbformat": 4,
 "nbformat_minor": 2
}
